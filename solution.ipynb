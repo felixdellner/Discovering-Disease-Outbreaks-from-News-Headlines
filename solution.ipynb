{
 "cells": [
  {
   "cell_type": "code",
   "execution_count": 247,
   "id": "8aab93ff",
   "metadata": {},
   "outputs": [],
   "source": [
    "import geonamescache\n",
    "import re\n",
    "import math\n",
    "import plotly.express as px\n",
    "import pandas as pd\n",
    "import numpy as np\n",
    "import seaborn as sns\n",
    "import matplotlib.pyplot as plt\n",
    "import matplotlib.cm as cm\n",
    "from sklearn.datasets import load_iris\n",
    "from sklearn.cluster import KMeans\n",
    "from sklearn.cluster import DBSCAN\n",
    "from unidecode import unidecode\n",
    "from mpl_toolkits.basemap import Basemap\n",
    "\n",
    "\n",
    "gc = geonamescache.GeonamesCache()\n",
    "countries = gc.get_countries()\n",
    "cities = gc.get_cities()\n",
    "file = open(\"data/headlines.txt\", \"r\")\n",
    "\n",
    "lines = file.readlines()\n",
    "cityList = []\n",
    "for city in cities.items():\n",
    "    cityName = city[1]['name']\n",
    "    cityList.append(cityName)\n",
    "cityList.sort(reverse=True)\n",
    "\n",
    "countryList = []\n",
    "for country in countries.items():\n",
    "    countryName = country[1]['name']\n",
    "    countryList.append(countryName)\n",
    "countryList.sort(reverse=True)\n"
   ]
  },
  {
   "cell_type": "code",
   "execution_count": 248,
   "id": "61c77407",
   "metadata": {},
   "outputs": [
    {
     "name": "stdout",
     "output_type": "stream",
     "text": [
      "\\b'Ain el Turk\\b|\\b'Ain el Melh\\b|\\b'Ain el Hammam\\b|\\b'Ain el Berd\\b|\\b'Ain el Bell\\b|\\b'Ain Merane\\b|\\b'Ain Deheb\\b|\\b'Ain Benian\\b|\\b'Ain Abid\\b|\\b'Izra\\b|\\b'Izbat al Burj\\b|\\b'Irbin\\b|\\b'Ibri\\b|\\b'Ewa Gentry\\b|\\b'Ain el Hadjel\\b|\\b'Ayn al 'Arab\\b|\\b'Aqrah\\b|\\b'Anjarah\\b|\\b'Anat al Qadimah\\b|\\b'Anah\\b|\\b'Amran\\b|\\b'Ali al Gharbi\\b|\\b'Ajlun\\b|\\b'Ajab Shir\\b|\\b'Afrin\\b|\\b'Afak\\b|\\b'Abasan al Kabirah\\b|\\bTikapur\\b|\\bHayy al Quwaysimah\\b|\\bHawsh 'Isa\\b|\\bHawalli\\b|\\bHarasta\\b|\\bHamah\\b|\\bHalhul\\b|\\bHalwan\\b|\\bHalfaya\\b|\\bHalabjah\\b|\\bHajjah\\b|\\bHadithah\\b|\\bZuunmod\\b|\\bBerezhani\\b|\\b@hm@db@yli\\b|\\bZdar nad Sazavou Druhy\\b|\\bZdar nad Sazavou\\b|\\bZilina\\b|\\bZiar nad Hronom\\b|\\bZatec\\b|\\bZywiec\\b|\\bZyrardow\\b|\\bZory\\b|\\bZoliborz\\b|\\bZary\\b|\\bZagan\\b|\\bZabbar\\b|\\bUiju\\b|\\bUn\\b|\\bTulkarm\\b|\\bTubas\\b|\\bTamiyah\\b|\\bTubarjal\\b|\\bTayyibat al Imam\\b|\\bTalkha\\b|\\bTahta\\b|\\bTafas\\b|\\bSuto Orizare\\b|\\bSumperk\\b|\\bSilainiai\\b|\\bSibenik\\b|\\bSiauliai\\b|\\bSeskine\\b|\\bSala\\b|\\bSabac\\b|\\bSirnak\\b|\\bSamitah\\b|\\bSurman\\b|\\bSisli\\b|\\bSirvan\\b|\\bSimleu Silvaniei\\b|\\bSereflikochisar\\b|\\bSemdinli\\b|\\bSebin Karahisar\\b|\\bSaham\\b|\\bSarkisla\\b|\\bSarkikaraagac\\b|\\bSanliurfa\\b|\\bSalalah\\b|\\bSafwa\\b|\\bSabah as Salim\\b|\\bSabya\\b|\\bSabratah\\b|\\bSwietochlowice\\b|\\bSwinoujscie\\b|\\bSwiecie\\b|\\bSwiebodzin\\b|\\bSwiebodzice\\b|\\bSwidwin\\b|\\bSwidnik\\b|\\bSwidnica\\b|\\bSrodmiescie\\b|\\bSroda Wielkopolska\\b|\\bSrem\\b|\\bOzu\\b|\\bOzu\\b|\\bOyama\\b|\\bOtsuki\\b|\\bOtsuchi\\b|\\bOtsu\\b|\\bOtawara\\b|\\bOtake\\b|\\bOta\\b|\\bOnojo\\b|\\bOno\\-hara\\b|\\bOmuta\\b|\\bOmura\\b|\\bOmiya\\b|\\bOmihachiman\\b|\\bOme\\b|\\bOmamacho\\-omama\\b|\\bOmagari\\b|\\bOmachi\\b|\\bOkuchi\\-shinohara\\b|\\bOkawara\\b|\\bOkawa\\b|\\bOita\\b|\\bOiso\\b|\\bOi\\b|\\bOhara\\b|\\bOgaki\\b|\\bOfunato\\b|\\bOdate\\b|\\bOdacho\\-oda\\b|\\bObu\\b|\\bOarai\\b|\\bOami\\b|\\bLeczyca\\b|\\bLeczna\\b|\\bLodz\\b|\\bLukow\\b|\\bLowicz\\b|\\bLomza\\b|\\bLomianki\\b|\\bLancut\\b|\\bLaziska Gorne\\b|\\bLask\\b|\\bLapy\\b|\\bIznik\\b|\\bIzmit\\b|\\bIzmir\\b|\\bIskilip\\b|\\bIskenderun\\b|\\bInegol\\b|\\bIncirliova\\b|\\bImamoglu\\b|\\bIdil\\b|\\bIstgah\\-e Rah Ahan\\-e Garmsar\\b|\\bIlam\\b|\\bDuc Trong\\b|\\bDinh Van\\b|\\bDakovo\\b|\\bCesky Tesin\\b|\\bCeske Budejovice\\b|\\bCeska Trebova\\b|\\bCeska Lipa\\b|\\bCerny Most\\b|\\bCacak\\b|\\bCakovec\\b|\\bCair\\b|\\bCadca\\b|\\bCuprija\\b|\\bAzadshahr\\b|\\bAzadshahr\\b|\\bAvadi\\b|\\bAthagarh\\b|\\bAstara\\b|\\bAstaneh\\-ye Ashrafiyeh\\b|\\bAsosa\\b|\\bAsmar\\b|\\bAsind\\b|\\bAsika\\b|\\bAsbe Teferi\\b|\\bAsasa\\b|\\bAsansol\\b|\\bAsandh\\b|\\bArvi\\b|\\bArt Khwajah\\b|\\bAron\\b|\\bAreka\\b|\\bArangaon\\b|\\bAndippatti\\b|\\bAmta\\b|\\bAmol\\b|\\bAmlagora\\b|\\bAmli\\b|\\bAlbu Kamal\\b|\\bAlangulam\\b|\\bAgaro\\b|\\bAdis Zemen\\b|\\bAdigrat\\b|\\bAdoni\\b|\\bAdilabad\\b|\\bAbadeh\\b|\\bAbyek\\b|\\bAbu Road\\b|\\bAbu\\b|\\bAbdanan\\b|\\bUskudar\\b|\\bUrumqi\\b|\\bUrgup\\b|\\bUnye\\b|\\bUberlingen\\b|\\bUbach\\-Palenberg\\b|\\bUsti nad Orlici\\b|\\bUsti nad Labem\\b|\\bUbeda\\b|\\bOstersund\\b|\\bOstermalm\\b|\\bOrnskoldsvik\\b|\\bOrebro\\b|\\bOlgii\\b|\\bOhringen\\b|\\bOdemis\\b|\\bOzd\\b|\\bObidos\\b|\\bDong Ha\\b|\\bDa Lat\\b|\\bIlion\\b|\\bIlhavo\\b|\\bEvry\\b|\\bEvreux\\b|\\bEvora\\b|\\bEtampes\\b|\\bErd\\b|\\bEragny\\b|\\bEqueurdreville\\-Hainneville\\b|\\bEpinay\\-sur\\-Seine\\b|\\bEpinal\\b|\\bEpernay\\b|\\bElancourt\\b|\\bEdessa\\b|\\bEcully\\b|\\bEcija\\b|\\bEchirolles\\b|\\bEbolowa\\b|\\bEbano\\b|\\bCumra\\b|\\bCubuk\\b|\\bCorum\\b|\\bCorlu\\b|\\bCine\\b|\\bCesme\\b|\\bCermik\\b|\\bCerkes\\b|\\bCerkezkoy\\b|\\bCaglayancerit\\b|\\bCayeli\\b|\\bCaycuma\\b|\\bCay\\b|\\bCatalca\\b|\\bCarsamba\\b|\\bCankaya\\b|\\bCanakkale\\b|\\bCan\\b|\\bArsta\\b|\\bArhus\\b|\\bAlesund\\b|\\bAkersberga\\b|\\bAngelholm\\b|\\bAvila\\b|\\bArta\\b|\\bArgos\\b|\\bAno Liosia\\b|\\bAlvaro Obregon\\b|\\bAlvares Machado\\b|\\bAlimos\\b|\\bAlamo\\b|\\bAguilas\\b|\\bAguas de Lindoia\\b|\\bAguas Vermelhas\\b|\\bAguas Santas\\b|\\bAguas Belas\\b|\\bAgua Preta\\b|\\bAgioi Anargyroi\\b|\\bmaalot Tarshiha\\b|\\bles Roquetes\\b|\\bla Vila de Gracia\\b|\\bla Verneda i la Pau\\b|\\bla Prosperitat\\b|\\bla Nucia\\b|\\bla Nova Esquerra de l'Eixample\\b|\\bla Maternitat i Sant Ramon\\b|\\bla Marina de Port\\b|\\bla Guineueta\\b|\\bla Barceloneta\\b|\\bl'Antiga Esquerra de l'Eixample\\b|\\bl'Alfas del Pi\\b|\\bgungoren merter\\b|\\bel hed\\b|\\bel Turo de la Peira\\b|\\bel Raval\\b|\\bel Putxet i el Farro\\b|\\bel Poblenou\\b|\\bel Guinardo\\b|\\bel Clot\\b|\\bel Camp de l'Arpa del Clot\\b|\\bel Camp d'en Grassot i Gracia Nova\\b|\\bel Besos i el Maresme\\b|\\bel Baix Guinardo\\b|\\beSikhaleni\\b|\\beMkhomazi\\b|\\beMbalenhle\\b|\\bbishopric of Perugia\\b|\\bZlotow\\b|\\bZlotoryja\\b|\\bZabkowice Slaskie\\b|\\bZabki\\b|\\bZarnesti\\b|\\bZabol\\b|\\bZurich \\(Kreis 9\\) / Altstetten\\b|\\bZurich \\(Kreis 9\\) / Albisrieden\\b|\\bZurich \\(Kreis 9\\)\\b|\\bZurich \\(Kreis 8\\)\\b|\\bZurich \\(Kreis 7\\)\\b|\\bZurich \\(Kreis 6\\) / Unterstrass\\b|\\bZurich \\(Kreis 6\\)\\b|\\bZurich \\(Kreis 4\\) / Aussersihl\\b|\\bZurich \\(Kreis 3\\) / Sihlfeld\\b|\\bZurich \\(Kreis 3\\)\\b|\\bZurich \\(Kreis 2\\) / Wollishofen\\b|\\bZurich \\(Kreis 2\\)\\b|\\bZurich \\(Kreis 12\\)\\b|\\bZurich \\(Kreis 11\\) / Seebach\\b|\\bZurich \\(Kreis 11\\) / Oerlikon\\b|\\bZurich \\(Kreis 11\\) / Affoltern\\b|\\bZurich \\(Kreis 11\\)\\b|\\bZurich \\(Kreis 10\\) / Wipkingen\\b|\\bZurich \\(Kreis 10\\) / Hongg\\b|\\bZurich \\(Kreis 10\\)\\b|\\bZurich\\b|\\bZarate\\b|\\bZyuzino\\b|\\bZyryanovsk\\b|\\bZyablikovo\\b|\\bZwolle\\b|\\bZwijndrecht\\b|\\bZwijndrecht\\b|\\bZwickau\\b|\\bZwevegem\\b|\\bZweibrucken\\b|\\bZwedru\\b|\\bZvolen\\b|\\bZvishavane\\b|\\bZvecan\\b|\\bZverevo\\b|\\bZvenihorodka\\b|\\bZvenigorod\\b|\\bZuenoula\\b|\\bZuwarah\\b|\\bZutphen\\b|\\bZushi\\b|\\bZuru\\b|\\bZunyi\\b|\\bZunheboto\\b|\\bZungeru\\b|\\bZumpango del Rio\\b|\\bZumpango\\b|\\bZulpich\\b|\\bZuhres\\b|\\bZuglo\\b|\\bZugdidi\\b|\\bZug\\b|\\bZubia\\b|\\bZrenjanin\\b|\\bZouila\\b|\\bZouerate\\b|\\bZoucheng\\b|\\bZottegem\\b|\\bZossen\\b|\\bZorgo\\b|\\bZonhoven\\b|\\bZonguldak\\b|\\bZomin\\b|\\bZomba\\b|\\bZolotonosha\\b|\\bZolochiv\\b|\\bZola Predosa\\b|\\bZografos\\b|\\bZoetermeer\\b|\\bZoersel\\b|\\bZnomenka\\b|\\bZnojmo\\b|\\bZnamensk\\b|\\bZmiyiv\\b|\\bZlin\\b|\\bZliten\\b|\\bZlate Moravce\\b|\\bZlatoust\\b|\\bZiway\\b|\\bZittau\\b|\\bZirndorf\\b|\\bZira\\b|\\bZipaquira\\b|\\bZionsville\\b|\\bZion\\b|\\bZintan\\b|\\bZinjibar\\b|\\bZinder\\b|\\bZinapecuaro\\b|\\bZinacatepec\\b|\\bZinacantepec\\b|\\bZimovniki\\b|\\bZimnicea\\b|\\bZima\\b|\\bZile\\b|\\bZijinglu\\b|\\bZiguinchor\\b|\\bZigong\\b|\\bZielonka\\b|\\bZielona Gora\\b|\\bZibo\\b|\\bZhytomyr\\b|\\bZhuzhou\\b|\\bZhumadian\\b|\\bZhulebino\\b|\\bZhukovskiy\\b|\\bZhukovka\\b|\\bZhujiajiao\\b|\\bZhuji\\b|\\bZhuhai\\b|\\bZhuangyuan\\b|\\bZhuanghe\\b|\\bZhu Cheng City\\b|\\bZhovti Vody\\b|\\bZhouzhuang\\b|\\bZhoushan\\b|\\bZhoukou\\b|\\bZhoucun\\b|\\bZhoucheng\\b|\\bZhosaly\\b|\\bZhongxing New Village\\b|\\bZhongxing\\b|\\bZhongxiang\\b|\\bZhongshu\\b|\\bZhongshan\\b|\\bZhob\\b|\\bZhmerynka\\b|\\bZhlobin\\b|\\bZhirnovsk\\b|\\bZhijiang\\b|\\bZhigulevsk\\b|\\bZhicheng\\b|\\bZhicheng\\b|\\bZhezqazghan\\b|\\bZherdevka\\b|\\bZhenzhou\\b|\\bZhenlai\\b|\\bZhenjiang\\b|\\bZhengzhou\\b|\\bZhengjiatun\\b|\\bZheleznovodsk\\b|\\bZheleznogorsk\\-Ilimskiy\\b|\\bZheleznogorsk\\b|\\bZheleznogorsk\\b|\\bZheleznodorozhnyy\\b|\\bZhashkiv\\b|\\bZharkent\\b|\\bZhaozhou\\b|\\bZhaoyuan\\b|\\bZhaoyuan\\b|\\bZhaotong\\b|\\bZhaoqing\\b|\\bZhaogezhuang\\b|\\bZhaodong\\b|\\bZhaobaoshan\\b|\\bZhanjiang\\b|\\bZhangzhou\\b|\\bZhangye\\b|\\bZhangjiakou Shi Xuanhua Qu\\b|\\bZhangjiakou\\b|\\bZhangjiajie\\b|\\bZhangjiagang\\b|\\bZhangatas\\b|\\bZhanaozen\\b|\\bZhalantun\\b|\\bZhabei\\b|\\bZgorzelec\\b|\\bZgierz\\b|\\bZeytinburnu\\b|\\bZeya\\b|\\bZevenaar\\b|\\bZestap'oni\\b|\\bZernograd\\b|\\bZeribet el Oued\\b|\\bZerbst\\b|\\bZeralda\\b|\\bZenica\\b|\\bZemun\\b|\\bZemst\\b|\\bZemoura\\b|\\bZelino\\b|\\bZelenokumsk\\b|\\bZelenogradsk\\b|\\bZelenograd\\b|\\bZelenogorsk\\b|\\bZelenodolsk\\b|\\bZelenchukskaya\\b|\\bZele\\b|\\bZeitz\\b|\\bZeist\\b|\\bZehlendorf\\b|\\bZefta\\b|\\bZeewolde\\b|\\bZeerust\\b|\\bZedelgem\\b|\\bZdunska Wola\\b|\\bZdolbuniv\\b|\\bZaio\\b|\\bZaysan\\b|\\bZayed City\\b|\\bZaxo\\b|\\bZawiya\\b|\\bZawiercie\\b|\\bZavolzh'ye\\b|\\bZavodoukovsk\\b|\\bZaventem\\b|\\bZarzis\\b|\\bZarzal\\b|\\bZarya\\b|\\bZarumilla\\b|\\bZarqa\\b|\\bZarinsk\\b|\\bZaria\\b|\\bZarechnyy\\b|\\bZarechnyy\\b|\\bZarechnyy\\b|\\bZaraza\\b|\\bZaraysk\\b|\\bZarautz\\b|\\bZaranj\\b|\\bZarand\\b|\\bZaragoza\\b|\\bZaragoza\\b|\\bZaqatala\\b|\\bZapresic\\b|\\bZapotlanejo\\b|\\bZapotiltic\\b|\\bZaporizhia\\b|\\bZapopan\\b|\\bZapolyarnyy\\b|\\bZapala\\b|\\bZaozhuang\\b|\\bZaoyang\\b|\\bZanzibar\\b|\\bZanjan\\b|\\bZanesville\\b|\\bZandvoort\\b|\\bZamania\\b|\\bZamosc\\b|\\bZamoskvorech'ye\\b|\\bZamora\\b|\\bZamora\\b|\\bZamora\\b|\\bZambrow\\b|\\bZamboanga\\b|\\bZama\\b|\\bZaltan\\b|\\bZalau\\b|\\bZaltbommel\\b|\\bZalingei\\b|\\bZalaegerszeg\\b|\\bZakopane\\b|\\bZajecar\\b|\\bZainsk\\b|\\bZaidpur\\b|\\bZaida\\b|\\bZahle\\b|\\bZahirabad\\b|\\bZahir Pir\\b|\\bZahedan\\b|\\bZagreb\\b|\\bZagor'ye\\b|\\bZagora\\b|\\bZaghouan\\b|\\bZagazig\\b|\\bZafra\\b|\\bZafarwal\\b|\\bZafar\\b|\\bZadar\\b|\\bZacualtipan\\b|\\bZacoalco de Torres\\b|\\bZachary\\b|\\bZacatlan\\b|\\bZacatepec\\b|\\bZacatelco\\b|\\bZacatecoluca\\b|\\bZacatecas\\b|\\bZacapu\\b|\\bZacapu\\b|\\bZacapa\\b|\\bZabid\\b|\\bZabrze\\b|\\bZabrat\\b|\\bZaanstad\\b|\\bZaandam\\b|\\bYuki\\b|\\bYonmu\\b|\\bYonggwang\\-up\\b|\\bYonan\\-up\\b|\\bYokaichiba\\b|\\bYaval\\b|\\bYadgir\\b|\\bYuksekova\\b|\\bYen Vinh\\b|\\bYen Bai\\b|\\bYylanly\\b|\\bYverdon\\-les\\-Bains\\b|\\bYuzhnyy\\b|\\bYuzhnoural'sk\\b|\\bYuzhnoukrains'k\\b|\\bYuzhno\\-Sakhalinsk\\b|\\bYuzhne\\b|\\bYuzawa\\b|\\bYuza\\b|\\bYuyao\\b|\\bYuxia\\b|\\bYuxi\\b|\\bYutz\\b|\\bYutan\\b|\\bYuta\\b|\\bYushu\\b|\\bYur'yev\\-Pol'skiy\\b|\\bYurecuaro\\b|\\bYuriria\\b|\\bYurimaguas\\b|\\bYurga\\b|\\bYunyang\\b|\\bYunmeng Chengguanzhen\\b|\\bYunguyo\\b|\\bYunfu\\b|\\bYuncheng\\b|\\bYumbo\\b|\\bYumbe\\b|\\bYuma\\b|\\bYulinshi\\b|\\bYulin\\b|\\bYukuhashi\\b|\\bYuktae\\-dong\\b|\\bYukon\\b|\\bYujing\\b|\\bYugorsk\\b|\\bYugawara\\b|\\bYueyang\\b|\\bYuen Long Kau Hui\\b|\\bYudong\\b|\\bYuci\\b|\\bYucheng\\b|\\bYucca Valley\\b|\\bYucaipa\\b|\\bYubileyny\\b|\\bYuba City\\b|\\bYuanping\\b|\\bYuanlin\\b|\\bYtrebygda\\b|\\bYstad\\b|\\bYpsilanti\\b|\\bYpenburg\\b|\\bYozgat\\b|\\bYovon\\b|\\bYoussoufia\\b|\\bYoungstown\\b|\\bYoung\\b|\\bYoukaichi\\b|\\bYouhao\\b|\\bYotsukaido\\b|\\bYoshkar\\-Ola\\b|\\bYoshikawa\\b|\\bYoshii\\b|\\bYoshida\\-kasugacho\\b|\\bYorosso\\b|\\bYoro\\b|\\bYorkville\\b|\\bYorkton\\b|\\bYork\\b|\\bYork\\b|\\bYorii\\b|\\bYorba Linda\\b|\\bYopal\\b|\\bYono\\b|\\bYonkers\\b|\\bYongfeng\\b|\\bYongchuan\\b|\\bYong Peng\\b|\\bYonezawa\\b|\\bYonago\\b|\\bYomra\\b|\\bYoloten\\b|\\bYola\\b|\\bYokote\\b|\\bYokosuka\\b|\\bYokohama\\b|\\bYokkaichi\\b|\\bYoichi\\b|\\bYogyakarta\\b|\\bYlojarvi\\b|\\bYiyang\\b|\\bYiwu\\b|\\bYishui\\b|\\bYirga 'Alem\\b|\\bYinzhu\\b|\\bYingshang Chengguanzhen\\b|\\bYingkou\\b|\\bYingchuan\\b|\\bYinchuan\\b|\\bYima\\b|\\bYilan\\b|\\bYilan\\b|\\bYigou\\b|\\bYigo Village\\b|\\bYichun\\b|\\bYichun\\b|\\bYicheng\\b|\\bYicheng\\b|\\bYichang\\b|\\bYibin\\b|\\bYesilli\\b|\\bYeysk\\b|\\bYevpatoriya\\b|\\bYevlakh\\b|\\bYessentukskaya\\b|\\bYessentuki\\b|\\bYesan\\b|\\bYershov\\b|\\bYerres\\b|\\bYerkoy\\b|\\bYerevan\\b|\\bYerba Buena\\b|\\bYeovil\\b|\\bYeosu\\b|\\bYeonil\\b|\\bYeonggwang\\b|\\bYeongdong\\b|\\bYeongam\\b|\\bYeola\\b|\\bYeoju\\b|\\bYenisehir\\b|\\bYeniseysk\\b|\\bYeni Suraxani\\b|\\bYendi\\b|\\bYenangyaung\\b|\\bYenakiyeve\\b|\\bYenagoa\\b|\\bYemva\\b|\\bYemanzhelinsk\\b|\\bYellapur\\b|\\bYellowknife\\b|\\bYellandu\\b|\\bYelizovo\\b|\\bYelizavetinskaya\\b|\\bYelets\\b|\\bYelenendorf\\b|\\bYelan'\\b|\\bYelahanka\\b|\\bYelabuga\\b|\\bYekaterinburg\\b|\\bYei\\b|\\bYehud\\-Monosson\\b|\\bYehud\\b|\\bYegor'yevsk\\b|\\bYegorlykskaya\\b|\\bYefremov\\b|\\bYecla\\b|\\bYecapixtla\\b|\\bYebaishou\\b|\\bYeadon\\b|\\bYazman\\b|\\bYazd\\b|\\bYaypan\\b|\\bYawata\\b|\\bYavne\\b|\\bYavatmal\\b|\\bYautepec\\b|\\bYauco\\b|\\bYatsuomachi\\-higashikumisaka\\b|\\bYatou\\b|\\bYateley\\b|\\bYate\\b|\\bYatagan\\b|\\bYasynuvata\\b|\\bYasuj\\b|\\bYasugicho\\b|\\bYasothon\\b|\\bYasnyy\\b|\\bYasnogorsk\\b|\\bYashkino\\b|\\bYashiro\\b|\\bYashio\\b|\\bYashan\\b|\\bYasenevo\\b|\\bYarim\\b|\\bYarumal\\b|\\bYartsevo\\b|\\bYarovoye\\b|\\bYaroslavskiy\\b|\\bYaroslavl\\b|\\bYarmouth\\b|\\bYarm\\b|\\bYaritagua\\b|\\bYaring\\b|\\bYaren\\b|\\bYaransk\\b|\\bYara\\b|\\bYaounde\\b|\\bYao\\b|\\bYanzhou\\b|\\bYanykurgan\\b|\\bYantongshan\\b|\\bYantai\\b|\\bYanta\\b|\\bYanqul\\b|\\bYanliang\\b|\\bYanjiang\\b|\\bYanji\\b|\\bYangzhou\\b|\\bYangshuo\\b|\\bYangsan\\b|\\bYangquan\\b|\\bYangp'yong\\b|\\bYangon\\b|\\bYangliuqing\\b|\\bYangju\\b|\\bYangjiang\\b|\\bYangiyul\\b|\\bYangiyer\\b|\\bYangirabot\\b|\\bYangiqo'rg'on\\b|\\bYangiobod\\b|\\bYanggu\\b|\\bYanggu\\b|\\bYangcun\\b|\\bYangchun\\b|\\bYangambi\\b|\\bYancheng\\b|\\bYanbu\\b|\\bYanaul\\b|\\bYanamalakuduru\\b|\\bYanam\\b|\\bYanai\\b|\\bYanagawamachi\\-saiwaicho\\b|\\bYanagawa\\b|\\bYanacancha\\b|\\bYamunanagar\\b|\\bYamoussoukro\\b|\\bYamoto\\b|\\bYamethin\\b|\\bYambol\\b|\\bYambio\\b|\\bYamazakicho\\-nakabirose\\b|\\bYamaguchi\\b|\\bYamagata\\b|\\bYamaga\\b|\\bYamada\\b|\\bYalvac\\b|\\bYalutorovsk\\b|\\bYalta\\b|\\bYalova\\b|\\bYala\\b|\\bYakutsk\\b|\\bYakuplu\\b|\\bYako\\b|\\bYakima\\b|\\bYakeshi\\b|\\bYajalon\\b|\\bYaizu\\b|\\bYaita\\b|\\bYahyali\\b|\\bYahotyn\\b|\\bYaguajay\\b|\\bYaguachi Nuevo\\b|\\bYagry\\b|\\bYagoua\\b|\\bYagoona\\b|\\bYafran\\b|\\bYacuiba\\b|\\bYachimata\\b|\\bYabelo\\b|\\bYabrud\\b|\\bYablonovskiy\\b|\\bXanthi\\b|\\bXativa\\b|\\bXunchang\\b|\\bXucheng\\b|\\bXuchang\\b|\\bXuanzhou\\b|\\bXo'jaobod\\b|\\bXoxocotla\\b|\\bXonacatlan\\b|\\bXochitepec\\b|\\bXochimilco\\b|\\bXi'an\\b|\\bXixiang\\b|\\bXiuying\\b|\\bXiuyan\\b|\\bXiulin\\b|\\bXishan\\b|\\bXirivella\\b|\\bXique Xique\\b|\\bXiongzhou\\b|\\bXinzhou\\b|\\bXinzhou\\b|\\bXinzhi\\b|\\bXinyuan\\b|\\bXinyu\\b|\\bXinyi\\b|\\bXinyang\\b|\\bXinxiang\\b|\\bXintai\\b|\\bXinshi\\b|\\bXinqing\\b|\\bXinpu\\b|\\bXinmin\\b|\\bXinji\\b|\\bXining\\b|\\bXinhui\\b|\\bXinguara\\b|\\bXingtai\\b|\\bXinglongshan\\b|\\bXinghua\\b|\\bXingcheng\\b|\\bXindian\\b|\\bXindi\\b|\\bXincheng\\b|\\bXimei\\b|\\bXilin Hot\\b|\\bXihe\\b|\\bXifeng\\b|\\bXicotepec de Juarez\\b|\\bXico\\b|\\bXico\\b|\\bXichang\\b|\\bXiazhuang\\b|\\bXiazhen\\b|\\bXiaoweizhai\\b|\\bXiaoshi\\b|\\bXiaoshan\\b|\\bXiaolingwei\\b|\\bXiaogan\\b|\\bXianyang\\b|\\bXiantao\\b|\\bXianshuigu\\b|\\bXiannu\\b|\\bXianning\\b|\\bXianju\\b|\\bXiangyang\\b|\\bXiangxiang\\b|\\bXiangtan\\b|\\bXiangcheng Chengguanzhen\\b|\\bXiamen\\b|\\bXenia\\b|\\bXacmaz\\b|\\bXanxere\\b|\\bXanten\\b|\\bXankandi\\b|\\bXam Nua\\b|\\bXalisco\\b|\\bXalatlaco\\b|\\bXalapa de Enriquez\\b|\\bXai\\-Xai\\b|\\bWonsan\\b|\\bWonju\\b|\\bWloclawek\\b|\\bWlochy\\b|\\bWagrowiec\\b|\\bWashim\\b|\\bWaraseoni\\b|\\bWaris Aliganj\\b|\\bWankaner\\b|\\bWalin\\b|\\bWadi as Sir\\b|\\bWadi\\b|\\bWurzburg\\b|\\bWurselen\\b|\\bWulfrath\\b|\\bWorth am Rhein\\b|\\bWyszkow\\b|\\bWyoming\\b|\\bWyndham Vale\\b|\\bWylie\\b|\\bWyckoff\\b|\\bWyandotte\\b|\\bWuzhou\\b|\\bWuzhen\\b|\\bWuyishan\\b|\\bWuyang\\b|\\bWuxue\\b|\\bWuxi\\b|\\bWuxi\\b|\\bWuwei\\b|\\bWuustwezel\\b|\\bWusong\\b|\\bWurzen\\b|\\bWuppertal\\b|\\bWunstorf\\b|\\bWum\\b|\\bWulingyuan\\b|\\bWukari\\b|\\bWuhu\\b|\\bWuhan\\b|\\bWuhai\\b|\\bWudil\\b|\\bWuda\\b|\\bWuchuan\\b|\\bWucheng\\b|\\bWuchang\\b|\\bWrzesnia\\b|\\bWroclaw\\b|\\bWright\\b|\\bWrexham\\b|\\bWolomin\\b|\\bWorthing\\b|\\bWorms\\b|\\bWorksop\\b|\\bWorkington\\b|\\bWorcester Park\\b|\\bWorcester\\b|\\bWorcester\\b|\\bWorcester\\b|\\bWooster\\b|\\bWoonsocket\\b|\\bWoodstock\\b|\\bWoodstock\\b|\\bWoodstock\\b|\\bWoodside\\b|\\bWoodrow\\b|\\bWoodridge\\b|\\bWoodmere\\b|\\bWoodlawn\\b|\\bWoodlawn\\b|\\bWoodlawn\\b|\\bWoodlands\\b|\\bWoodland Hills\\b|\\bWoodland\\b|\\bWoodhaven\\b|\\bWoodford Green\\b|\\bWoodbury\\b|\\bWoodburn\\b|\\bWoodbridge\\b|\\bWonosobo\\b|\\bWonopringgo\\b|\\bWongsorejo\\b|\\bWombwell\\b|\\bWolverhampton\\b|\\bWolmaransstad\\b|\\bWollongong city centre\\b|\\bWollongong\\b|\\bWolfsburg\\b|\\bWolfratshausen\\b|\\bWolfenbuttel\\b|\\bWolfen\\b|\\bWolf Trap\\b|\\bWolcott\\b|\\bWola\\b|\\bWokingham\\b|\\bWoking\\b|\\bWokha\\b|\\bWoerden\\b|\\bWodzislaw Slaski\\b|\\bWodonga\\b|\\bWoburn\\b|\\bWobulenzi\\b|\\bWobkent\\b|\\bWitzenhausen\\b|\\bWittstock\\b|\\bWittmund\\b|\\bWittlich\\b|\\bWittenheim\\b|\\bWittenberge\\b|\\bWittenberg\\b|\\bWittenau\\b|\\bWitten\\b|\\bWitney\\b|\\bWitham\\b|\\bWitbank\\b|\\bWismar\\b|\\bWishaw\\b|\\bWiset Chaichan\\b|\\bWisconsin Rapids\\b|\\bWisch\\b|\\bWisbech\\b|\\bWiradesa\\b|\\bWipperfurth\\b|\\bWinthrop\\b|\\bWinterthur\\b|\\bWinterswijk\\b|\\bWinterhude\\b|\\bWinter Springs\\b|\\bWinter Park\\b|\\bWinter Haven\\b|\\bWinter Gardens\\b|\\bWinter Garden\\b|\\bWinston\\-Salem\\b|\\bWinsford\\b|\\bWinsen\\b|\\bWinschoten\\b|\\bWinona\\b|\\bWinnipeg\\b|\\bWinnenden\\b|\\bWinneba\\b|\\bWinejok\\b|\\bWindsor\\b|\\bWindsor\\b|\\bWindsor\\b|\\bWindsor\\b|\\bWindsor\\b|\\bWindhoek\\b|\\bWindham\\b|\\bWinder\\b|\\bWinchester\\b|\\bWinchester\\b|\\bWinchester\\b|\\bWinchester\\b|\\bWinchester\\b|\\bWilton\\b|\\bWilten\\b|\\bWilsonville\\b|\\bWilson\\b|\\bWilnsdorf\\b|\\bWilmslow\\b|\\bWilmington Island\\b|\\bWilmington\\b|\\bWilmington\\b|\\bWilmington\\b|\\bWilmette\\b|\\bWilmersdorf\\b|\\bWillowdale\\b|\\bWillowbrook\\b|\\bWillow Grove\\b|\\bWilloughby\\b|\\bWillmar\\b|\\bWilliston\\b|\\bWillingboro\\b|\\bWillimantic\\b|\\bWillich\\b|\\bWilliamstown\\b|\\bWilliamsport\\b|\\bWilliamsburg\\b|\\bWilliamsburg\\b|\\bWilletton\\b|\\bWillenhall\\b|\\bWillemstad\\b|\\bWillebroek\\b|\\bWilkinsburg\\b|\\bWilkes\\-Barre\\b|\\bWilhelmstadt\\b|\\bWilhelmshaven\\b|\\bWildwood\\b|\\bWildomar\\b|\\bWildeshausen\\b|\\bWil\\b|\\bWijk bij Duurstede\\b|\\bWijchen\\b|\\bWigston Magna\\b|\\bWigan\\b|\\bWiesloch\\b|\\bWiesbaden\\b|\\bWierden\\b|\\bWiener Neustadt\\b|\\bWielun\\b|\\bWieliczka\\b|\\bWiehl\\b|\\bWidnes\\b|\\bWickford\\b|\\bWichita Falls\\b|\\bWichita\\b|\\bWichit\\b|\\bWichian Buri\\b|\\bWhittier\\b|\\bWhitstable\\b|\\bWhitney\\b|\\bWhitman\\b|\\bWhitley Bay\\b|\\bWhitestone\\b|\\bWhitehorse\\b|\\bWhitehaven\\b|\\bWhitehall Township\\b|\\bWhitehall\\b|\\bWhitefield\\b|\\bWhite Settlement\\b|\\bWhite Rock\\b|\\bWhite River\\b|\\bWhite Plains\\b|\\bWhite Oak\\b|\\bWhite Oak\\b|\\bWhite Bear Lake\\b|\\bWhickham\\b|\\bWheeling\\b|\\bWheeling\\b|\\bWheelers Hill\\b|\\bWheaton\\b|\\bWheaton\\b|\\bWheat Ridge\\b|\\bWharton\\b|\\bWhangarei\\b|\\bWhakatane\\b|\\bWeymouth\\b|\\bWeymouth\\b|\\bWeybridge\\b|\\bWewak\\b|\\bWevelgem\\b|\\bWetzlar\\b|\\bWetzelsdorf\\b|\\bWettingen\\b|\\bWetteren\\b|\\bWetter \\(Ruhr\\)\\b|\\bWethersfield\\b|\\bWete\\b|\\bWestport\\b|\\bWestonaria\\b|\\bWeston\\-super\\-Mare\\b|\\bWeston\\b|\\bWeston\\b|\\bWestmount\\b|\\bWestmont\\b|\\bWestmont\\b|\\bWestminster\\b|\\bWestminster\\b|\\bWestminster\\b|\\bWestmead\\b|\\bWestland\\b|\\bWestlake\\b|\\bWesthoughton\\b|\\bWestford\\b|\\bWestfield\\b|\\bWestfield\\b|\\bWestfield\\b|\\bWesterville\\b|\\bWesterstede\\b|\\bWesterly\\b|\\bWesterlo\\b|\\bWestend\\b|\\bWestchester\\b|\\bWestchester\\b|\\bWestchase\\b|\\bWestbury\\b|\\bWestbury\\b|\\bWestbrook\\b|\\bWest and East Lealman\\b|\\bWest Whittier\\-Los Nietos\\b|\\bWest Warwick\\b|\\bWest Vancouver\\b|\\bWest Valley City\\b|\\bWest University Place\\b|\\bWest Town\\b|\\bWest Torrington\\b|\\bWest Springfield\\b|\\bWest Springfield\\b|\\bWest Seneca\\b|\\bWest Scarborough\\b|\\bWest Saint Paul\\b|\\bWest Sacramento\\b|\\bWest Ridge\\b|\\bWest Raleigh\\b|\\bWest Puente Valley\\b|\\bWest Pensacola\\b|\\bWest Pennant Hills\\b|\\bWest Park\\b|\\bWest Palm Beach\\b|\\bWest Orange\\b|\\bWest Odessa\\b|\\bWest New York\\b|\\bWest Molesey\\b|\\bWest Milford\\b|\\bWest Mifflin\\b|\\bWest Memphis\\b|\\bWest Melbourne\\b|\\bWest Lynchburg\\b|\\bWest Little River\\b|\\bWest Linn\\b|\\bWest Lawn\\b|\\bWest Lake Stevens\\b|\\bWest Lake Sammamish\\b|\\bWest Lafayette\\b|\\bWest Kelowna\\b|\\bWest Jordan\\b|\\bWest Jerusalem\\b|\\bWest Islip\\b|\\bWest Island\\b|\\bWest Hollywood\\b|\\bWest Hollywood\\b|\\bWest Hills\\b|\\bWest Hempstead\\b|\\bWest Haven\\b|\\bWest Hartford\\b|\\bWest Gulfport\\b|\\bWest Garfield Park\\b|\\bWest Fargo\\b|\\bWest Falls Church\\b|\\bWest Englewood\\b|\\bWest End\\b|\\bWest Elsdon\\b|\\bWest Elkridge\\b|\\bWest Des Moines\\b|\\bWest Covina\\b|\\bWest Coon Rapids\\b|\\bWest Columbia\\b|\\bWest Chicago\\b|\\bWest Chester\\b|\\bWest Carson\\b|\\bWest Bromwich\\b|\\bWest Bridgford\\b|\\bWest Bloomfield Township\\b|\\bWest Bend\\b|\\bWest Babylon\\b|\\bWest Allis\\b|\\bWest Albany\\b|\\bWesselsbron\\b|\\bWesseling\\b|\\bWesola\\b|\\bWesley Chapel\\b|\\bWeslaco\\b|\\bWesel\\b|\\bWervik\\b|\\bWeru\\b|\\bWertheim\\b|\\bWerribee\\b|\\bWerota\\b|\\bWernigerode\\b|\\bWerne\\b|\\bWermelskirchen\\b|\\bWerl\\b|\\bWerkendam\\b|\\bWerdohl\\b|\\bWerder\\b|\\bWerdau\\b|\\bWer\\b|\\bWenzhou\\b|\\bWenxing\\b|\\bWentzville\\b|\\bWenshang\\b|\\bWenshan City\\b|\\bWenling\\b|\\bWenji\\b|\\bWendlingen am Neckar\\b|\\bWenden\\b|\\bWendelstein\\b|\\bWenchi\\b|\\bWenchang\\b|\\bWenceslau Braz\\b|\\bWenatchee\\b|\\bWembley\\b|\\bWelwyn Garden City\\b|\\bWels\\b|\\bWellington\\b|\\bWellington\\b|\\bWellington\\b|\\bWellington\\b|\\bWellington\\b|\\bWellingborough\\b|\\bWelling\\b|\\bWellesley\\b|\\bWelland\\b|\\bWelkom\\b|\\bWelisara\\b|\\bWeligama\\b|\\bWeleri\\b|\\bWelahan\\b|\\bWekiwa Springs\\b|\\bWejherowo\\b|\\bWeisswasser\\b|\\bWeissensee\\b|\\bWeissenfels\\b|\\bWeissenburg in Bayern\\b|\\bWeiterstadt\\b|\\bWeirton Heights\\b|\\bWeirton\\b|\\bWeinzierl bei Krems\\b|\\bWeinstadt\\-Endersbach\\b|\\bWeining\\b|\\bWeinheim\\b|\\bWeingarten\\b|\\bWeinan\\b|\\bWeimar\\b|\\bWeilheim\\b|\\bWeilerswist\\b|\\bWeil der Stadt\\b|\\bWeil am Rhein\\b|\\bWeihai\\b|\\bWeifang\\b|\\bWeiden\\b|\\bWegberg\\b|\\bWeesp\\b|\\bWeert\\b|\\bWeener\\b|\\bWednesfield\\b|\\bWednesbury\\b|\\bWedi\\b|\\bWedel\\b|\\bWedding\\b|\\bWebuye\\b|\\bWebster Groves\\b|\\bWeatherford\\b|\\bWalcz\\b|\\bWalbrzych\\b|\\bWazirganj\\b|\\bWazirabad\\b|\\bWaynesboro\\b|\\bWayne\\b|\\bWayne\\b|\\bWayne\\b|\\bWaxahachie\\b|\\bWawer\\b|\\bWavre\\b|\\bWaverly\\b|\\bWauwatosa\\b|\\bWausau\\b|\\bWaukesha\\b|\\bWaukegan\\b|\\bWaukee\\b|\\bWau\\b|\\bWattrelos\\b|\\bWattala\\b|\\bWatsonville\\b|\\bWatsa\\b|\\bWath upon Dearne\\b|\\bWatford\\b|\\bWaterville\\b|\\bWatertown\\b|\\bWatertown\\b|\\bWatertown\\b|\\bWatertown\\b|\\bWaterlooville\\b|\\bWaterloo\\b|\\bWaterloo\\b|\\bWaterloo\\b|\\bWaterloo\\b|\\bWaterford\\b|\\bWaterford\\b|\\bWaterford\\b|\\bWaterbury\\b|\\bWatauga\\b|\\bWatari\\b|\\bWatampone\\b|\\bWassenberg\\b|\\bWassenaar\\b|\\bWasquehal\\b|\\bWashwood Heath\\b|\\bWashougal\\b|\\bWashington, D\\.C\\.\\b|\\bWashington Heights\\b|\\bWashington\\b|\\bWashington\\b|\\bWashington\\b|\\bWasco\\b|\\bWasco\\b|\\bWarwick\\b|\\bWarwick\\b|\\bWarud\\b|\\bWarstein\\b|\\bWarsaw\\b|\\bWarrnambool\\b|\\bWarrington\\b|\\bWarri\\b|\\bWarrenton\\b|\\bWarrensburg\\b|\\bWarren Township\\b|\\bWarren\\b|\\bWarren\\b|\\bWarragul\\b|\\bWarora\\b|\\bWarnes\\b|\\bWarner Robins\\b|\\bWarminster\\b|\\bWarmbaths\\b|\\bWarin Chamrap\\b|\\bWarendorf\\b|\\bWaren\\b|\\bWaregem\\b|\\bWare\\b|\\bWardha\\b|\\bWardenburg\\b|\\bWarburg\\b|\\bWarangal\\b|\\bWarah\\b|\\bWao\\b|\\bWanxian\\b|\\bWantirna South\\b|\\bWantagh\\b|\\bWantage\\b|\\bWanparti\\b|\\bWanning\\b|\\bWanlaweyn\\b|\\bWanju\\b|\\bWani\\b|\\bWangqing\\b|\\bWangon\\b|\\bWangkui\\b|\\bWangen\\b|\\bWangaratta\\b|\\bWanganui\\b|\\bWang Saphung\\b|\\bWang Noi\\b|\\bWang Nam Yen\\b|\\bWandsbek\\b|\\bWandlitz\\b|\\bWanda\\b|\\bWanaraja\\b|\\bWamba\\b|\\bWamba\\b|\\bWalvis Bay\\b|\\bWaltrop\\b|\\bWalton\\-on\\-the\\-Naze\\b|\\bWalton\\-on\\-Thames\\b|\\bWaltham Abbey\\b|\\bWaltham\\b|\\bWalsrode\\b|\\bWalsall\\b|\\bWalnut Park\\b|\\bWalnut Grove\\b|\\bWalnut Creek\\b|\\bWalnut\\b|\\bWallsend\\b|\\bWallingford Center\\b|\\bWallingford\\b|\\bWallenhorst\\b|\\bWallasey\\b|\\bWalla Walla\\b|\\bWalker\\b|\\bWalkden\\b|\\bWaliso\\b|\\bWaldshut\\-Tiengen\\b|\\bWaldorf\\b|\\bWaldkraiburg\\b|\\bWaldkirch\\b|\\bWaldbrol\\b|\\bWalcourt\\b|\\bWalajapet\\b|\\bWakuya\\b|\\bWako\\b|\\bWakkanai\\b|\\bWakiso\\b|\\bWakimachi\\b|\\bWakema\\b|\\bWakefield\\b|\\bWakefield\\b|\\bWakefield\\b|\\bWake Forest\\b|\\bWakayama\\b|\\bWajir\\b|\\bWaitakere\\b|\\bWaipahu\\b|\\bWaingapu\\b|\\bWailuku\\b|\\bWaiblingen\\b|\\bWai\\b|\\bWahroonga\\b|\\bWahiawa\\b|\\bWaghausel\\b|\\bWageningen\\b|\\bWafangdian\\b|\\bWaegwan\\b|\\bWadsworth\\b|\\bWadowice\\b|\\bWadgassen\\b|\\bWadern\\b|\\bWade Hampton\\b|\\bWaddan\\b|\\bWaddinxveen\\b|\\bWad Medani\\b|\\bWaco\\b|\\bWachtberg\\b|\\bWacheng\\b|\\bWabu\\b|\\bWaalwijk\\b|\\bWa\\b|\\bVi Thanh\\b|\\bVung Tau\\b|\\bVisavadar\\b|\\bVirarajendrapet\\b|\\bVinh Yen\\b|\\bVinh Long\\b|\\bVasudevanallur\\b|\\bVadippatti\\b|\\bVada\\b|\\bVyronas\\b|\\bVolklingen\\b|\\bVictor Rosales\\b|\\bVicar\\b|\\bVeroia\\b|\\bVenissieux\\b|\\bVelizy\\-Villacoublay\\b|\\bVelingara\\b|\\bVelez\\-Malaga\\b|\\bVaxjo\\b|\\bVastaboland\\b|\\bVastra Frolunda\\b|\\bVasteras\\b|\\bVastervik\\b|\\bVarnamo\\b|\\bVanersborg\\b|\\bVarzea da Palma\\b|\\bVarzea Paulista\\b|\\bVarzea Grande\\b|\\bVarzea Alegre\\b|\\bVarpalota\\b|\\bVari\\b|\\bVac\\b|\\bVyskov\\b|\\bVyara\\b|\\bVyshniy Volochek\\b|\\bVyshneve\\b|\\bVyshhorod\\b|\\bVyselki\\b|\\bVynohradiv\\b|\\bVyksa\\b|\\bVykhino\\-Zhulebino\\b|\\bVyborg\\b|\\bVyaz'ma\\b|\\bVyazniki\\b|\\bVyazemskiy\\b|\\bVyatskiye Polyany\\b|\\bVwawa\\b|\\bVuyyuru\\b|\\bVushtrri\\b|\\bVuosaari\\b|\\bVulcan\\b|\\bVukovar\\b|\\bVught\\b|\\bVsevolozhsk\\b|\\bVsetin\\b|\\bVrsac\\b|\\bVryheid\\b|\\bVryburg\\b|\\bVrindavan\\b|\\bVrilissia\\b|\\bVriddhachalam\\b|\\bVredenburg\\b|\\bVreden\\b|\\bVrbas\\b|\\bVratsa\\b|\\bVranov nad Toplou\\b|\\bVranje\\b|\\bVrangel'\\b|\\bVoula\\b|\\bVoznesensk\\b|\\bVovchans'k\\b|\\bVotuporanga\\b|\\bVotorantim\\b|\\bVotkinsk\\b|\\bVostryakovo\\b|\\bVostryakovo\\b|\\bVostochnoe Degunino\\b|\\bVoskresensk\\b|\\bVose'\\b|\\bVoronezh\\b|\\bVorob'yovo\\b|\\bVorkuta\\b|\\bVorgashor\\b|\\bVoorschoten\\b|\\bVoorhees\\b|\\bVoorburg\\b|\\bVondrozo\\b|\\bVomero\\b|\\bVol'sk\\b|\\bVolzhskiy\\b|\\bVolzhsk\\b|\\bVoluntari\\b|\\bVolta Redonda\\b|\\bVolos\\b|\\bVolokolamsk\\b|\\bVologda\\b|\\bVolodymyr\\-Volynskyi\\b|\\bVolnovakha\\b|\\bVolla\\b|\\bVolksrust\\b|\\bVolkovysk\\b|\\bVolkhov\\b|\\bVolgorechensk\\b|\\bVolgograd\\b|\\bVolgodonsk\\b|\\bVolendam\\b|\\bVoiron\\b|\\bVoinjama\\b|\\bVoi\\b|\\bVohipaho\\b|\\bVohibinany\\b|\\bVoghera\\b|\\bVogan\\b|\\bVoerde\\b|\\bVnukovo\\b|\\bVlotho\\b|\\bVlore\\b|\\bVlissingen\\b|\\bVladivostok\\b|\\bVladimir\\b|\\bVladikavkaz\\b|\\bVlaardingen\\b|\\bViet Tri\\b|\\bViseu de Sus\\b|\\bVinales\\b|\\bVina del Mar\\b|\\bVicosa do Ceara\\b|\\bVicosa\\b|\\bVicosa\\b|\\bVizianagaram\\b|\\bViveiro\\b|\\bVitoria do Mearim\\b|\\bVitoria de Santo Antao\\b|\\bVitoria da Conquista\\b|\\bVitoria\\b|\\bVittorio Veneto\\b|\\bVittoria\\b|\\bVitre\\b|\\bVitry\\-sur\\-Seine\\b|\\bVitry\\-le\\-Francois\\b|\\bVitrolles\\b|\\bVitina\\b|\\bViterbo\\b|\\bViterbo\\b|\\bVitebsk\\b|\\bVite\\b|\\bVise\\b|\\bVista\\b|\\bVisoko\\b|\\bVisnagar\\b|\\bVisitacion Valley\\b|\\bViseu\\b|\\bViseu\\b|\\bVisconde do Rio Branco\\b|\\bVisby\\b|\\bVisalia\\b|\\bVisakhapatnam\\b|\\bVisaginas\\b|\\bVirar\\b|\\bViru\\b|\\bViry\\-Chatillon\\b|\\bVirudunagar\\b|\\bVirovitica\\b|\\bViroflay\\b|\\bVirginia Beach\\b|\\bVirginia\\b|\\bViransehir\\b|\\bViradouro\\b|\\bVirac\\b|\\bVinukonda\\b|\\bVinnytsia\\b|\\bVinkovci\\b|\\bVinica\\b|\\bVinhedo\\b|\\bVinh\\b|\\bVineyard\\b|\\bVineland\\b|\\bVinces\\b|\\bVincentown\\b|\\bVincent\\b|\\bVincent\\b|\\bVincennes\\b|\\bVincennes\\b|\\bVinaros\\b|\\bVimodrone\\b|\\bVimercate\\b|\\bVilyuchinsk\\b|\\bVilyeyka\\b|\\bVilvoorde\\b|\\bVilshofen\\b|\\bVilnius\\b|\\bVillupuram\\b|\\bVillingen\\-Schwenningen\\b|\\bVilliers\\-sur\\-Marne\\b|\\bVilliers\\-le\\-Bel\\b|\\bVilleurbanne\\b|\\bVilleta\\b|\\bVillers\\-les\\-Nancy\\b|\\bVillepinte\\b|\\bVilleparisis\\b|\\bVilleneuve\\-sur\\-Lot\\b|\\bVilleneuve\\-le\\-Roi\\b|\\bVilleneuve\\-la\\-Garenne\\b|\\bVilleneuve\\-d'Ascq\\b|\\bVilleneuve\\-Saint\\-Georges\\b|\\bVillenave\\-d'Ornon\\b|\\bVillena\\b|\\bVillemomble\\b|\\bVillejuif\\b|\\bVillefranche\\-sur\\-Saone\\b|\\bVillefontaine\\b|\\bVillazon\\b|\\bVillaviciosa de Odon\\b|\\bVillavicencio\\b|\\bVillaverde\\b|\\bVillarrobledo\\b|\\bVillarrica\\b|\\bVillarrica\\b|\\bVillaricca\\b|\\bVillaquilambre\\b|\\bVillanueva del Pardillo\\b|\\bVillanueva de la Serena\\b|\\bVillanueva de la Canada\\b|\\bVillanueva\\b|\\bVillanueva\\b|\\bVillanueva\\b|\\bVillanova\\b|\\bVillamontes\\b|\\bVillamaria\\b|\\bVillajoyosa\\b|\\bVillahermosa\\b|\\bVillaguay\\b|\\bVillagran\\b|\\bVillafranca di Verona\\b|\\bVillaflores\\b|\\bVillach\\b|\\bVillabate\\b|\\bVilla Angela\\b|\\bVilla del Rosario\\b|\\bVilla del Prado 2da Seccion\\b|\\bVilla de Vallecas\\b|\\bVilla de San Diego de Ubate\\b|\\bVilla de Mayo\\b|\\bVilla de Cura\\b|\\bVilla de Costa Rica\\b|\\bVilla Yapacani\\b|\\bVilla Vicente Guerrero\\b|\\bVilla Santa Rita\\b|\\bVilla Regina\\b|\\bVilla Paula de Sarmiento\\b|\\bVilla Park\\b|\\bVilla Ortuzar\\b|\\bVilla Ocampo\\b|\\bVilla Nueva\\b|\\bVilla Nueva\\b|\\bVilla Mercedes\\b|\\bVilla Maria\\b|\\bVilla Lugano\\b|\\bVilla Juarez\\b|\\bVilla Independencia\\b|\\bVilla Hidalgo\\b|\\bVilla Hayes\\b|\\bVilla Gesell\\b|\\bVilla Francisca\\b|\\bVilla Elisa\\b|\\bVilla Dolores\\b|\\bVilla Consuelo\\b|\\bVilla Constitucion\\b|\\bVilla Carlos Paz\\b|\\bVilla Canales\\b|\\bVilla Bruzual\\b|\\bVilla Bisono\\b|\\bVilla Altagracia\\b|\\bVilla Allende\\b|\\bVilla Alemana\\b|\\bVilkpede\\b|\\bViljoenskroon\\b|\\bViljandi\\b|\\bVilhena\\b|\\bVilassar de Mar\\b|\\bVilaseca\\b|\\bVilar de Andorinho\\b|\\bVilapicina i la Torre Llobeta\\b|\\bVilanova i la Geltru\\b|\\bVilalba\\b|\\bVilagarcia de Arousa\\b|\\bVilafranca del Penedes\\b|\\bViladecans\\b|\\bVila\\-seca\\b|\\bVila\\-real\\b|\\bVila do Conde\\b|\\bVila Velha\\b|\\bVila Real\\b|\\bVila Nova de Gaia\\b|\\bVila Franca de Xira\\b|\\bVikarabad\\b|\\bVikindu\\b|\\bVikhorevka\\b|\\bVijapur\\b|\\bVijayawada\\b|\\bVihti\\b|\\bVihari\\b|\\bVigo\\b|\\bVignola\\b|\\bVigneux\\-sur\\-Seine\\b|\\bVigia\\b|\\bVigevano\\b|\\bVigan\\b|\\bViewpark\\b|\\bVierzon\\b|\\bViersen\\b|\\bViernheim\\b|\\bVientiane\\b|\\bVienne\\b|\\bVienna\\b|\\bVienna\\b|\\bViedma\\b|\\bVidnoye\\b|\\bVidisha\\b|\\bVidin\\b|\\bVideira\\b|\\bVicalvaro\\b|\\bVictorville\\b|\\bVictoriaville\\b|\\bVictorias\\b|\\bVictoria de Durango\\b|\\bVictoria Falls\\b|\\bVictoria\\b|\\bVictoria\\b|\\bVictoria\\b|\\bVictoria\\b|\\bVictoria\\b|\\bVictoria\\b|\\bVicksburg\\b|\\bVichy\\b|\\bVichuga\\b|\\bVicenza\\b|\\bVicente Guerrero\\b|\\bVicaria\\b|\\bVic\\b|\\bViborg\\b|\\bVibo Valentia\\b|\\bViareggio\\b|\\bVianen\\b|\\bViana do Castelo\\b|\\bViana\\b|\\bViana\\b|\\bViamao\\b|\\bVialonga\\b|\\bVezirkopru\\b|\\bVevey\\b|\\bVettur\\b|\\bVettaikkaranpudur\\b|\\bVetapalem\\b|\\bVeszprem\\b|\\bVestavia Hills\\b|\\bVespasiano\\b|\\bVesoul\\b|\\bVeshnyaki\\b|\\bVeraval\\b|\\bVerviers\\b|\\bVeruela\\b|\\bVertou\\b|\\bVertientes\\b|\\bVersmold\\b|\\bVersailles\\b|\\bVerrieres\\-le\\-Buisson\\b|\\bVerrettes\\b|\\bVerona\\b|\\bVero Beach South\\b|\\bVero Beach\\b|\\bVernon Hills\\b|\\bVernon\\b|\\bVernon\\b|\\bVernon\\b|\\bVernier\\b|\\bVerneuil\\-sur\\-Seine\\b|\\bVerl\\b|\\bVerkhnyaya Salda\\b|\\bVerkhnyaya Pyshma\\b|\\bVerkhniy Ufaley\\b|\\bVereshchagino\\b|\\bVereeniging\\b|\\bVerdun\\b|\\bVerden\\b|\\bVercelli\\b|\\bVerbania\\b|\\bVeranopolis\\b|\\bVeracruz\\b|\\bVeracruz\\b|\\bVera Cruz\\b|\\bVera\\b|\\bVepagunta\\b|\\bVenev\\b|\\bVenancio Aires\\b|\\bVenustiano Carranza\\b|\\bVenustiano Carranza\\b|\\bVentura\\b|\\bVentspils\\b|\\bVentimiglia\\b|\\bVentanas\\b|\\bVenray\\b|\\bVenlo\\b|\\bVenkatagiri\\b|\\bVenilale\\b|\\bVenice\\b|\\bVenice\\b|\\bVenice\\b|\\bVenezuela\\b|\\bVendome\\b|\\bVenceremos\\b|\\bVence\\b|\\bVenaria Reale\\b|\\bVenado Tuerto\\b|\\bVemalwada\\b|\\bVel'sk\\b|\\bVelur\\b|\\bVelsen\\-Zuid\\b|\\bVelp\\b|\\bVellore\\b|\\bVellmar\\b|\\bVelletri\\b|\\bVelingrad\\b|\\bVeliko Turnovo\\b|\\bVelikiye Luki\\b|\\bVelikiy Ustyug\\b|\\bVelikiy Novgorod\\b|\\bVelika Kladusa\\b|\\bVelika Gorica\\b|\\bVeles\\b|\\bVelenje\\b|\\bVelbert\\b|\\bVelasco Ibarra\\b|\\bVejle\\b|\\bVejalpur\\b|\\bVeinticinco de Mayo\\b|\\bVeghel\\b|\\bVegesack\\b|\\bVega Baja\\b|\\bVeenendaal\\b|\\bVeendam\\b|\\bVedaraniyam\\b|\\bVecses\\b|\\bVechta\\b|\\bVechelde\\b|\\bVazante\\b|\\bVayalar\\b|\\bVavuniya\\b|\\bVavoua\\b|\\bVavatenina\\b|\\bVaureal\\b|\\bVaulx\\-en\\-Velin\\b|\\bVaughan\\b|\\bVaudreuil\\-Dorion\\b|\\bVatutino\\b|\\bVatutine\\b|\\bVattalkundu\\b|\\bVatra Dornei\\b|\\bVatican City\\b|\\bVaterstetten\\b|\\bVasylkiv\\b|\\bVasylivka\\b|\\bVasyl'evsky Ostrov\\b|\\bVasto\\b|\\bVassouras\\b|\\bVaslui\\b|\\bVasind\\b|\\bVasil'yevo\\b|\\bVasco da Gama\\b|\\bVasastan\\b|\\bVasa\\b|\\bVaramin\\b|\\bVarto\\b|\\bVarnsdorf\\b|\\bVarna\\b|\\bVarkaus\\b|\\bVarkala\\b|\\bVarjota\\b|\\bVarginha\\b|\\bVargem Grande do Sul\\b|\\bVargem Grande\\b|\\bVarese\\b|\\bVarennes\\b|\\bVarel\\b|\\bVarberg\\b|\\bVarazdin\\b|\\bVarash\\b|\\bVarangaon\\b|\\bVaranasi\\b|\\bVaradero\\b|\\bVapi\\b|\\bVanves\\b|\\bVantaa\\b|\\bVannes\\b|\\bVanlose\\b|\\bVaniyambadi\\b|\\bVanino\\b|\\bVanier\\b|\\bVangviang\\b|\\bVangaindrano\\b|\\bVandoeuvre\\-les\\-Nancy\\b|\\bVanderbijlpark\\b|\\bVandavasi\\b|\\bVandalia\\b|\\bVancouver\\b|\\bVancouver\\b|\\bVanadzor\\b|\\bVan Nuys\\b|\\bVan Nest\\b|\\bVan Buren\\b|\\bVan\\b|\\bValvedditturai\\b|\\bValuyki\\b|\\bValsad\\b|\\bValrico\\b|\\bValparaiso\\b|\\bValparaiso\\b|\\bValparaiso\\b|\\bValparai\\b|\\bValongo\\b|\\bValmiera\\b|\\bValls\\b|\\bValley Stream\\b|\\bValley Station\\b|\\bValley Glen\\b|\\bValley East\\b|\\bValletta\\b|\\bVallentuna\\b|\\bVallenar\\b|\\bVallejo\\b|\\bValledupar\\b|\\bValle de Santiago\\b|\\bValle de La Pascua\\b|\\bValle de Bravo\\b|\\bValle Hermoso\\b|\\bVallcarca\\b|\\bVallauris\\b|\\bValladolid\\b|\\bValladolid\\b|\\bVallabh Vidyanagar\\b|\\bValkenswaard\\b|\\bValkeakoski\\b|\\bValjevo\\b|\\bValinhos\\b|\\bValinda\\b|\\bValera\\b|\\bValenca do Piaui\\b|\\bValenca\\b|\\bValenca\\b|\\bValenzano\\b|\\bValenza\\b|\\bValente Diaz\\b|\\bValenciennes\\b|\\bValencia\\b|\\bValencia\\b|\\bValencia\\b|\\bValence\\b|\\bVale of Leven\\b|\\bValdosta\\b|\\bValdivia\\b|\\bValdepenas\\b|\\bValdemoro\\b|\\bValday\\b|\\bValdagno\\b|\\bValasske Mezirici\\b|\\bValabhipur\\b|\\bVal\\-d'Or\\b|\\bVakhsh\\b|\\bVakfikebir\\b|\\bVakarai\\b|\\bVaikam\\b|\\bVaijapur\\b|\\bVaihingen an der Enz\\b|\\bVahdat\\b|\\bVagonoremont\\b|\\bVagharshapat\\b|\\bVaduz\\b|\\bVadodara\\b|\\bVadnagar\\b|\\bVadlapudi\\b|\\bVadigenhalli\\b|\\bVadamadurai\\b|\\bVadakku Viravanallur\\b|\\bVadakku Valliyur\\b|\\bVacoas\\b|\\bVacaville\\b|\\bVacaria\\b|\\bVaasa\\b|\\bV\\.S\\.K\\.Valasai \\(Dindigul\\-Dist\\.\\)\\b|\\bUzice\\b|\\bUsak\\b|\\bUige\\b|\\bUzunkopru\\b|\\bUzlovaya\\b|\\bUzhur\\b|\\bUzhgorod\\b|\\bUzgen\\b|\\bUyovu\\b|\\bUyo\\b|\\bUychi\\b|\\bUwajima\\b|\\bUvira\\b|\\bUvinza\\b|\\bUvarovo\\b|\\bUvalde\\b|\\bUva\\b|\\bUusikaupunki\\b|\\bUttiramerur\\b|\\bUttarkashi\\b|\\bUttaradit\\b|\\bUttar Char Fasson\\b|\\bUttamapalaiyam\\b|\\bUtsunomiya\\b|\\bUtrera\\b|\\bUtrecht\\b|\\bUtraula\\b|\\bUto\\b|\\bUtmanzai\\b|\\bUtica\\b|\\bUthal\\b|\\bUthai Thani\\b|\\bUtena\\b|\\bUtebo\\b|\\bUsulutan\\b|\\bUsuki\\b|\\bUst'\\-Labinsk\\b|\\bUst'\\-Kut\\b|\\bUst'\\-Katav\\b|\\bUst'\\-Ilimsk\\b|\\bUst'\\-Dzheguta\\b|\\bUstron\\b|\\bUstka\\b|\\bUster\\b|\\bUsta Muhammad\\b|\\bUst\\-Kamenogorsk\\b|\\bUssuriysk\\b|\\bUsol'ye\\-Sibirskoye\\b|\\bUsman'\\b|\\bUslar\\b|\\bUsinsk\\b|\\bUsilampatti\\b|\\bUshuaia\\b|\\bUshirombo\\b|\\bUshiku\\b|\\bUshibukamachi\\b|\\bUsh\\-Tyube\\b|\\bUsevia\\b|\\bUsera\\b|\\bUsehat\\b|\\bUsagara\\b|\\bUsa River\\b|\\bUrziceni\\b|\\bUryupinsk\\b|\\bUrucuca\\b|\\bUrus\\-Martan\\b|\\bUruguaiana\\b|\\bUruacu\\b|\\bUruapan\\b|\\bUrsynow\\b|\\bUrsus\\b|\\bUrrao\\b|\\bUromi\\b|\\bUrmston\\b|\\bUrla\\b|\\bUrk\\b|\\bUritsk\\b|\\bUriangato\\b|\\bUrgut\\b|\\bUrganch\\b|\\bUreshinomachi\\-shimojuku\\b|\\bUrdaneta\\b|\\bUrbandale\\b|\\bUrbana\\b|\\bUrayasu\\b|\\bUray\\b|\\bUravakonda\\b|\\bUran\\b|\\bUrambo\\b|\\bUptown\\b|\\bUppsala\\b|\\bUpplands Vasby\\b|\\bUpper Saint Clair\\b|\\bUpper Hutt\\b|\\bUpper Dir\\b|\\bUpper Coomera\\b|\\bUpper Arlington\\b|\\bUpper Alton\\b|\\bUppal Kalan\\b|\\bUpleta\\b|\\bUpland\\b|\\bUpington\\b|\\bUpata\\b|\\bUozu\\b|\\bUntolovo\\b|\\bUnterschleissheim\\b|\\bUnterkrozingen\\b|\\bUnterhaching\\b|\\bUnquillo\\b|\\bUnnao\\b|\\bUnna\\b|\\bUnjha\\b|\\bUnion de Reyes\\b|\\bUniao dos Palmares\\b|\\bUniao da Vitoria\\b|\\bUniao\\b|\\bUniversity Place\\b|\\bUniversity Park\\b|\\bUniversity Park\\b|\\bUniversity Heights\\b|\\bUniversity City\\b|\\bUniversity\\b|\\bUniversal City\\b|\\bUniversal City\\b|\\bUnionport\\b|\\bUniondale\\b|\\bUnion Hill\\-Novelty Hill\\b|\\bUnion City\\b|\\bUnion City\\b|\\bUnion City\\b|\\bUnion\\b|\\bUnhel\\b|\\bUngsang\\b|\\bUngheni\\b|\\bUngaran\\b|\\bUnecha\\b|\\bUnai\\b|\\bUna\\b|\\bUna\\b|\\bUna\\b|\\bUn\\b|\\bUmuarama\\b|\\bUmuahia\\b|\\bUmreth\\b|\\bUmred\\b|\\bUmraniye\\b|\\bUmm Salal Muhammad\\b|\\bUmm el Fahm\\b|\\bUmm as Summaq\\b|\\bUmm Ruwaba\\b|\\bUmm Qasr\\b|\\bUmm Lajj\\b|\\bUmm Al Quwain City\\b|\\bUmina Beach\\b|\\bUmi\\b|\\bUmea\\b|\\bUmarkot\\b|\\bUmarkot\\b|\\bUmarkhed\\b|\\bUmaria\\b|\\bUmarga\\b|\\bUman\\b|\\bUman\\b|\\bUlyanovsk\\b|\\bUlundi\\b|\\bUlu Tiram\\b|\\bUlsan\\b|\\bUlm\\b|\\bUllal\\b|\\bUliastay\\b|\\bUlhasnagar\\b|\\bUlanhot\\b|\\bUlan\\-Ude\\b|\\bUlan Bator\\b|\\bUlaangom\\b|\\bUkmerge\\b|\\bUkiah\\b|\\bUkhta\\b|\\bUjjain\\b|\\bUjiie\\b|\\bUji\\b|\\bUjhani\\b|\\bUjar\\b|\\bUithoorn\\b|\\bUitenhage\\b|\\bUijeongbu\\-si\\b|\\bUhersky Brod\\b|\\bUherske Hradiste\\b|\\bUglich\\b|\\bUghelli\\b|\\bUgep\\b|\\bUga\\b|\\bUfa\\b|\\bUetersen\\b|\\bUenohara\\b|\\bUeno\\-ebisumachi\\b|\\bUelzen\\b|\\bUekimachi\\-mono\\b|\\bUeda\\b|\\bUdupi\\b|\\bUdumalaippettai\\b|\\bUdon Thani\\b|\\bUdomlya\\b|\\bUdine\\b|\\bUdhampur\\b|\\bUdgir\\b|\\bUden\\b|\\bUddevalla\\b|\\bUdangudi\\b|\\bUdalguri\\b|\\bUdaipura\\b|\\bUdaipur\\b|\\bUdaipur\\b|\\bUdaipur\\b|\\bUdachny\\b|\\bUckfield\\b|\\bUchqurghon Shahri\\b|\\bUchkeken\\b|\\bUchiza\\b|\\bUchaly\\b|\\bUba\\b|\\bUbud\\b|\\bUbrique\\b|\\bUbon Ratchathani\\b|\\bUbiaja\\b|\\bUberlandia\\b|\\bUberaba\\b|\\bUbe\\b|\\bUbauro\\b|\\bUbata\\b|\\bUbatuba\\b|\\bUbari\\b|\\bUbaitaba\\b|\\bUalog\\b|\\bT'ongch'on\\-up\\b|\\bT'aebaek\\b|\\bTuytepa\\b|\\bTundla\\b|\\bTukrah\\b|\\bTrinec\\b|\\bTrebic\\b|\\bTono\\b|\\bTokamachi\\b|\\bTogane\\b|\\bTobetsu\\b|\\bTirthahalli\\b|\\bTikamgarh\\b|\\bTaybad\\b|\\bTasgaon\\b|\\bTarut\\b|\\bTaranagar\\b|\\bTaramangalam\\b|\\bTaoru\\b|\\bTansen\\b|\\bTangail\\b|\\bTandur\\b|\\bTanda\\b|\\bTanda\\b|\\bTalikota\\b|\\bTalcher\\b|\\bTaki\\b|\\bTakestan\\b|\\bTajpur\\b|\\bTadpatri\\b|\\bTadif\\b|\\bTadepallegudem\\b|\\bTadepalle\\b|\\bTurkmenbasy\\b|\\bTurkmenabat\\b|\\bTubingen\\b|\\bTuxpam de Rodriguez Cano\\b|\\bTuquerres\\b|\\bTonsberg\\b|\\bTorokszentmiklos\\b|\\bTonisvorst\\b|\\bTolanaro\\b|\\bTorshavn\\b|\\bTias\\b|\\bTetouan\\b|\\bTera\\b|\\bTelimele\\b|\\bTekane\\b|\\bTecpan de Galeana\\b|\\bTebessa\\b|\\bTaby\\b|\\bTay Ninh\\b|\\bTarnaveni\\b|\\bTargu\\-Mures\\b|\\bTargu Secuiesc\\b|\\bTargu Neamt\\b|\\bTargu Jiu\\b|\\bTargoviste\\b|\\bTan An\\b|\\bTariba\\b|\\bTabor\\b|\\bTarrega\\b|\\bTzaneen\\b|\\bTyumen\\b|\\bTysons Corner\\b|\\bTyrnyauz\\b|\\bTyre\\b|\\bTyoply Stan\\b|\\bTynemouth\\b|\\bTynda\\b|\\bTyler\\b|\\bTyldesley\\b|\\bTychy\\b|\\bTwinsburg\\b|\\bTwin Falls\\b|\\bTwentynine Palms\\b|\\bTwante\\b|\\bTver\\b|\\bTuzla\\b|\\bTuzantla\\b|\\bTuyen Quang\\b|\\bTuymazy\\b|\\bTuy Hoa\\b|\\bTuxtla\\b|\\bTuxtepec\\b|\\bTuxpan\\b|\\bTuxpan\\b|\\bTuusula\\b|\\bTuttlingen\\b|\\bTutong\\b|\\bTutayev\\b|\\bTutamandahostel\\b|\\bTustin\\b|\\bTuscaloosa\\b|\\bTursunzoda\\b|\\bTurrialba\\b|\\bTurpan\\b|\\bTurnu Magurele\\b|\\bTurnhout\\b|\\bTurmero\\b|\\bTurlock\\b|\\bTurku\\b|\\bTurkestan\\b|\\bTurinsk\\b|\\bTurin\\b|\\bTurhal\\b|\\bTurgutreis\\b|\\bTurgutlu\\b|\\bTurek\\b|\\bTurda\\b|\\bTurbo\\b|\\bTurbat\\b|\\bTurbaco\\b|\\bTurar Ryskulov\\b|\\bTuraiyur\\b|\\bTuraif\\b|\\bTurabah\\b|\\bTura\\b|\\bTupa\\b|\\bTupiza\\b|\\bTupi\\b|\\bTupelo\\b|\\bTupancireta\\b|\\bTupaciguara\\b|\\bTuntum\\b|\\bTunja\\b|\\bTunis\\b|\\bTuni\\b|\\bTungipara\\b|\\bTungi\\b|\\bTung Chung\\b|\\bTunduma\\b|\\bTunceli\\b|\\bTunapuna\\b|\\bTumwater\\b|\\bTumsar\\b|\\bTumkur\\b|\\bTumen\\b|\\bTumbi\\b|\\bTumbes\\b|\\bTumba\\b|\\bTumaco\\b|\\bTulua\\b|\\bTulungagung\\b|\\bTulun\\b|\\bTulum\\b|\\bTultitlan de Mariano Escobedo\\b|\\bTultepec\\b|\\bTulsipur\\b|\\bTulsipur\\b|\\bTulsa\\b|\\bTullinge\\b|\\bTulle\\b|\\bTullahoma\\b|\\bTuljapur\\b|\\bTulcan\\b|\\bTulchyn\\b|\\bTulcea\\b|\\bTulare\\b|\\bTulantongo\\b|\\bTulangan Utara\\b|\\bTulancingo\\b|\\bTula de Allende\\b|\\bTula\\b|\\bTukwila\\b|\\bTukuyu\\b|\\bTukums\\b|\\bTujunga\\b|\\bTui\\b|\\bTuguegarao\\b|\\bTufanganj\\b|\\bTuensang\\b|\\bTuen Mun\\b|\\bTudela\\b|\\bTucurui\\b|\\bTucupita\\b|\\bTucuma\\b|\\bTucuma\\b|\\bTucson\\b|\\bTucker\\b|\\bTuckahoe\\b|\\bTuchkovo\\b|\\bTucano\\b|\\bTubize\\b|\\bTubbergen\\b|\\bTubarao\\b|\\bTuban\\b|\\bTuapse\\b|\\bTualatin\\b|\\bTual\\b|\\bTs'khinvali\\b|\\bTsevie\\b|\\bTsyurupyns'k\\b|\\bTsuyama\\b|\\bTsushima\\b|\\bTsurusaki\\b|\\bTsuruoka\\b|\\bTsurugi\\-asahimachi\\b|\\bTsuruga\\b|\\bTsuma\\b|\\bTsukumiura\\b|\\bTsukuba\\b|\\bTsukawaki\\b|\\bTsuen Wan\\b|\\bTsubata\\b|\\bTsubame\\b|\\bTsu\\b|\\bTsqaltubo\\b|\\bTsotsin\\-Yurt\\b|\\bTsiroanomandidy\\b|\\bTsirang\\b|\\bTsiombe\\b|\\bTsimlyansk\\b|\\bTshikapa\\b|\\bTshela\\b|\\bTsawwassen\\b|\\bTsaritsyno\\b|\\bTsaratanana\\b|\\bTripoli\\b|\\bTrikala\\b|\\bTrekhgornyy\\b|\\bTres de Maio\\b|\\bTres Rios\\b|\\bTres Pontas\\b|\\bTres Passos\\b|\\bTres Lagoas\\b|\\bTres Coroas\\b|\\bTres Coracoes\\b|\\bTra Vinh\\b|\\bTrzebinia\\b|\\bTrzcianka\\b|\\bTrutnov\\b|\\bTrussville\\b|\\bTruskavets'\\b|\\bTruro\\b|\\bTruro\\b|\\bTrumbull\\b|\\bTrujillo Alto\\b|\\bTrujillo\\b|\\bTrujillo\\b|\\bTruganina\\b|\\bTrudovoye\\b|\\bTrucuk\\b|\\bTruckee\\b|\\bTrubchevsk\\b|\\bTrstenik\\b|\\bTroyes\\b|\\bTroyan\\b|\\bTroy\\b|\\bTroy\\b|\\bTroy\\b|\\bTroy\\b|\\bTrowbridge\\b|\\bTroutdale\\b|\\bTrotwood\\b|\\bTrossingen\\b|\\bTroparevo\\b|\\bTrondheim\\b|\\bTromso\\b|\\bTrollhattan\\b|\\bTroitskaya\\b|\\bTroitsk\\b|\\bTroitsk\\b|\\bTroisdorf\\b|\\bTrois\\-Rivieres\\b|\\bTrofa\\b|\\bTrnava\\b|\\bTriyuga\\b|\\bTripoli\\b|\\bTripoli\\b|\\bTriolet\\b|\\bTrinidad\\b|\\bTrinidad\\b|\\bTrinidad\\b|\\bTrindade\\b|\\bTrindade\\b|\\bTrindade\\b|\\bTrincomalee\\b|\\bTriggiano\\b|\\bTrieste\\b|\\bTrier\\b|\\bTrezzano sul Naviglio\\b|\\bTreviso\\b|\\bTreviglio\\b|\\bTres de Mayo\\b|\\bTres Valles\\b|\\bTres Isletas\\b|\\bTres Cantos\\b|\\bTres Arroyos\\b|\\bTrencin\\b|\\bTrenton\\b|\\bTrenton\\b|\\bTrentola\\-Ducenta\\b|\\bTrento\\b|\\bTrento\\b|\\bTrenggalek\\b|\\bTremont\\b|\\bTremembe\\b|\\bTremblay\\-en\\-France\\b|\\bTrelleborg\\b|\\bTrelew\\b|\\bTreinta y Tres\\b|\\bTrecate\\b|\\bTrebisov\\b|\\bTrebinje\\b|\\bTrbovlje\\b|\\bTravnik\\b|\\bTraverse City\\b|\\bTraunstein\\b|\\bTraunreut\\b|\\bTrat\\b|\\bTraralgon\\b|\\bTrappes\\b|\\bTrapani\\b|\\bTrani\\b|\\bTrang\\b|\\bTramandai\\b|\\bTralee\\b|\\bTrairi\\b|\\bTradate\\b|\\bTracy\\b|\\bTrabzon\\b|\\bTqvarch'eli\\b|\\bTo'rqao'rg'on\\b|\\bTozkhurmato\\b|\\bTozeur\\b|\\bToyota\\b|\\bToyoshina\\b|\\bToyooka\\b|\\bToyonaka\\b|\\bToyokawa\\b|\\bToyohashi\\b|\\bToyohama\\b|\\bToyama\\b|\\bTowson\\b|\\bTownsville\\b|\\bTown 'n' Country\\b|\\bTours\\b|\\bTournefeuille\\b|\\bTournai\\b|\\bTourlaville\\b|\\bTourcoing\\b|\\bToumodi\\b|\\bToulouse\\b|\\bToulon\\b|\\bToul\\b|\\bToukh\\b|\\bTougue\\b|\\bTouggourt\\b|\\bTougan\\b|\\bTouba\\b|\\bTouba\\b|\\bTottori\\b|\\bTotton\\b|\\bTotonicapan\\b|\\bTotana\\b|\\bTosya\\b|\\bTosu\\b|\\bTosno\\b|\\bToshloq\\b|\\bToshbuloq\\b|\\bTorzhok\\b|\\bTorvaianica\\b|\\bTorun\\b|\\bTortuguitas\\b|\\bTortosa\\b|\\bTortona\\b|\\bTorrox\\b|\\bTorrington\\b|\\bTorreon\\b|\\bTorrevieja\\b|\\bTorres Vedras\\b|\\bTorres Novas\\b|\\bTorres\\b|\\bTorrent\\b|\\bTorremolinos\\b|\\bTorremaggiore\\b|\\bTorrelodones\\b|\\bTorrelavega\\b|\\bTorrejon de Ardoz\\b|\\bTorredembarra\\b|\\bTorre\\-Pacheco\\b|\\bTorre del Mar\\b|\\bTorre del Greco\\b|\\bTorre Annunziata\\b|\\bTorrance\\b|\\bTorquay\\b|\\bTororo\\b|\\bToronto\\b|\\bTornio\\b|\\bToritama\\b|\\bTorit\\b|\\bToride\\b|\\bTorhout\\b|\\bTorgau\\b|\\bToretsk\\b|\\bTordera\\b|\\bTorcy\\b|\\bTorbat\\-e Heydariyeh\\b|\\bTorbat\\-e Jam\\b|\\bTorbali\\b|\\bTor Lupara\\b|\\bTopki\\b|\\bTopi\\b|\\bTopeka\\b|\\bToowoomba\\b|\\bTooele\\b|\\bTonypandy\\b|\\bTonota\\b|\\bTonosho\\b|\\bTonk\\b|\\bTonj\\b|\\bTongzhou\\b|\\bTongshan\\b|\\bTongren\\b|\\bTongliao\\b|\\bTonghua\\b|\\bTonghae\\b|\\bTongging\\b|\\bTongeren\\b|\\bTongelre\\b|\\bTongchuanshi\\b|\\bTongchuan\\b|\\bTonga\\b|\\bTonekabon\\b|\\bTondi\\b|\\bTondano\\b|\\bTondabayashicho\\b|\\bTonbridge\\b|\\bTonala\\b|\\bTonala\\b|\\bTome Acu\\b|\\bTome\\b|\\bTomsk\\b|\\bToms River\\b|\\bTomohon\\b|\\bTomobe\\b|\\bTomiya\\b|\\bTomioka\\b|\\bTomilino\\b|\\bTomigusuku\\b|\\bTomelloso\\b|\\bTomaszow Mazowiecki\\b|\\bTomaszow Lubelski\\b|\\bTomares\\b|\\bTomar\\b|\\bTomakomai\\b|\\bTol'yatti\\b|\\bToluca\\b|\\bTolosa\\b|\\bToliara\\b|\\bTolga\\b|\\bTolentino\\b|\\bToledo\\b|\\bToledo\\b|\\bToledo\\b|\\bToledo\\b|\\bTokar\\b|\\bTokyo\\b|\\bTokuyama\\b|\\bTokushima\\b|\\bToktogul\\b|\\bTokorozawa\\b|\\bTokoname\\b|\\bTokmok\\b|\\bTokmak\\b|\\bToki\\b|\\bTokat\\b|\\bTohana\\b|\\bToguchin\\b|\\bTogitsu\\b|\\bTodaraisingh\\b|\\bTodabhim\\b|\\bTocumen\\b|\\bTocopilla\\b|\\bTocoa\\b|\\bTochio\\-honcho\\b|\\bTochigi\\b|\\bTocache\\b|\\bTobruk\\b|\\bTobol'sk\\b|\\bTobias Barreto\\b|\\bToba Tek Singh\\b|\\bToba\\b|\\bToamasina\\b|\\bTlahuac\\b|\\bTlemcen\\b|\\bTlaxcala\\b|\\bTlaquiltenango\\b|\\bTlaquepaque\\b|\\bTlapacoyan\\b|\\bTlapa de Comonfort\\b|\\bTlaltenango de Sanchez Roman\\b|\\bTlalpan\\b|\\bTlalnepantla\\b|\\bTlajomulco de Zuniga\\b|\\bTiebo\\b|\\bTiznit\\b|\\bTizimin\\b|\\bTizi\\-n\\-Tleta\\b|\\bTizi Rached\\b|\\bTizi Ouzou\\b|\\bTizi Gheniff\\b|\\bTizayuca\\b|\\bTixtla de Guerrero\\b|\\bTiwi\\b|\\bTivoli\\b|\\bTiverton\\b|\\bTitagarh\\b|\\bTitusville\\b|\\bTitlagarh\\b|\\bTitao\\b|\\bTitahari\\b|\\bTiszaujvaros\\b|\\bTissemsilt\\b|\\bTisaiyanvilai\\b|\\bTiruvottiyur\\b|\\bTiruvannamalai\\b|\\bTiruvallur\\b|\\bTiruvalla\\b|\\bTiruttangal\\b|\\bTirur\\b|\\bTiruppuvanam\\b|\\bTiruppur\\b|\\bTirupparangunram\\b|\\bTirupati\\b|\\bTirunelveli\\b|\\bTirumala\\b|\\bTirukkoyilur\\b|\\bTiruchirappalli\\b|\\bTiruchengode\\b|\\bTiruchchendur\\b|\\bTirmiz\\b|\\bTirmitine\\b|\\bTirhanimine\\b|\\bTirebolu\\b|\\bTire\\b|\\bTirat Karmel\\b|\\bTiraspol\\b|\\bTirana\\b|\\bTirah\\b|\\bTiquisate\\b|\\bTiquipaya\\b|\\bTiptur\\b|\\bTipton\\b|\\bTippi\\b|\\bTipitapa\\b|\\bTipasa\\b|\\bTinton Falls\\b|\\bTinsukia\\b|\\bTinongan\\b|\\bTinnanur\\b|\\bTinley Park\\b|\\bTingo Maria\\b|\\bTingi\\b|\\bTinghir\\b|\\bTindouf\\b|\\bTindivanam\\b|\\bTinde\\b|\\bTinaquillo\\b|\\bTimoteo\\b|\\bTimon\\b|\\bTimmins\\b|\\bTimisoara\\b|\\bTimizart\\b|\\bTimimoun\\b|\\bTimbo\\b|\\bTimbuktu\\b|\\bTimbiras\\b|\\bTimbauba\\b|\\bTimashevsk\\b|\\bTimaru\\b|\\bTillmans Corner\\b|\\bTillaberi\\b|\\bTilhar\\b|\\bTilburg\\b|\\bTikrit\\b|\\bTiko\\b|\\bTikhvin\\b|\\bTikhoretsk\\b|\\bTijara\\b|\\bTijucas\\b|\\bTijuana\\b|\\bTigwav\\b|\\bTigre\\b|\\bTigard\\b|\\bTifton\\b|\\bTiflet\\b|\\bTiffin\\b|\\bTiete\\b|\\bTierralta\\b|\\bTierra Blanca\\b|\\bTienen\\b|\\bTielt\\b|\\bTieling\\b|\\bTieli\\b|\\bTiel\\b|\\bTicul\\b|\\bTibiri\\b|\\bTiberias\\b|\\bTibati\\b|\\bTiassale\\b|\\bTiaret\\b|\\bTianshui\\b|\\bTianpeng\\b|\\bTianjin\\b|\\bTiangua\\b|\\bTianfu\\b|\\bTianchang\\b|\\bTi Port\\-de\\-Paix\\b|\\bThu Dau Mot\\b|\\bThi Xa Phu My\\b|\\bThi Tran Tan Thanh\\b|\\bThasra\\b|\\bThanesar\\b|\\bThane\\b|\\bThana Bhawan\\b|\\bThan\\b|\\bThakurgaon\\b|\\bThakurganj\\b|\\bThivai\\b|\\bThai Nguyen\\b|\\bThai Binh\\b|\\bThanh Pho Uong Bi\\b|\\bThung Song\\b|\\bThunder Bay\\b|\\bThunder Bay\\b|\\bThun\\b|\\bThul\\b|\\bThrogs Neck\\b|\\bThrissur\\b|\\bThree Lakes\\b|\\bThousand Oaks\\b|\\bThoubal\\b|\\bThorold\\b|\\bThornton\\-Cleveleys\\b|\\bThornton\\b|\\bThornlie\\b|\\bThorne\\b|\\bThornbury\\b|\\bThornaby\\-on\\-Tees\\b|\\bThoothukudi\\b|\\bThonon\\-les\\-Bains\\b|\\bThongwa\\b|\\bThomazeau\\b|\\bThomasville\\b|\\bThomasville\\b|\\bThomastown\\b|\\bThohoyandou\\b|\\bThoen\\b|\\bThies Nones\\b|\\bThies\\b|\\bThiruvarur\\b|\\bThiruvananthapuram\\b|\\bThiruthani\\b|\\bThionville\\b|\\bThimphu\\b|\\bThika\\b|\\bThiene\\b|\\bThiais\\b|\\bTheunissen\\b|\\bThetford\\-Mines\\b|\\bThetford\\b|\\bThessaloniki\\b|\\bThenkasi\\b|\\bTheniet el Had\\b|\\bThenia\\b|\\bThe Woodlands\\b|\\bThe Villages\\b|\\bThe Valley\\b|\\bThe Hammocks\\b|\\bThe Hague\\b|\\bThe Gap\\b|\\bThe Dalles\\b|\\bThe Crossings\\b|\\bThe Colony\\b|\\bThe Bronx\\b|\\bThe Acreage\\b|\\bThayetmyo\\b|\\bThatta\\b|\\bThaton\\b|\\bThatcham\\b|\\bTharad\\b|\\bTharyarwady\\b|\\bTharu Shah\\b|\\bTharangambadi\\b|\\bThap Than\\b|\\bThap Khlo\\b|\\bThanh Hoa\\b|\\bThanatpin\\b|\\bThamaga\\b|\\bThala\\b|\\bThal\\b|\\bThakurdwara\\b|\\bThakhek\\b|\\bThaba Nchu\\b|\\bTha Yang\\b|\\bTha Ruea\\b|\\bTha Muang\\b|\\bTha Maka\\b|\\bTha Mai\\b|\\bTha Kham\\b|\\bTha Bo\\b|\\bTeofilo Otoni\\b|\\bTezpur\\b|\\bTezoyuca\\b|\\bTeziutlan\\b|\\bTeykovo\\b|\\bTexcoco de Mora\\b|\\bTexas City\\b|\\bTexarkana\\b|\\bTexarkana\\b|\\bTewksbury\\b|\\bTewkesbury\\b|\\bTeutonia\\b|\\bTetuan de las Victorias\\b|\\bTettnang\\b|\\bTetovo\\b|\\bTetla\\b|\\bTete\\b|\\bTessenderlo\\b|\\bTessaoua\\b|\\bTesistan\\b|\\bTeshi Old Town\\b|\\bTerzigno\\b|\\bTervuren\\b|\\bTeruel\\b|\\bTerter\\b|\\bTerrytown\\b|\\bTerrell\\b|\\bTerrebonne\\b|\\bTerre Haute\\b|\\bTerrazas del Valle\\b|\\bTerrassa\\b|\\bTerracina\\b|\\bTerrace Heights\\b|\\bTerrace\\b|\\bTernopil\\b|\\bTerni\\b|\\bTerneuzen\\b|\\bTernate\\b|\\bTernate\\b|\\bTermoli\\b|\\bTermini Imerese\\b|\\bTerme\\b|\\bTermas de Rio Hondo\\b|\\bTerlizzi\\b|\\bTergnier\\b|\\bTeresopolis\\b|\\bTeresina\\b|\\bTeresa\\b|\\bTerek\\b|\\bTerdal\\b|\\bTerbanggi Besar\\b|\\bTeramo\\b|\\bTequixquiac\\b|\\bTequisquiapan\\b|\\bTequila\\b|\\bTepotzotlan\\b|\\bTeplice\\b|\\bTepic\\b|\\bTepexpan\\b|\\bTepeji del Rio de Ocampo\\b|\\bTepecik\\b|\\bTepeapulco\\b|\\bTepeaca\\b|\\bTepatlaxco de Hidalgo\\b|\\bTepatitlan de Morelos\\b|\\bTepalcatepec\\b|\\bTeotihuacan de Arista\\b|\\bTeotihuacan\\b|\\bTeopisca\\b|\\bTeonthar\\b|\\bTeoloyucan\\b|\\bTeolocholco\\b|\\bTeodoro Sampaio\\b|\\bTeocaltiche\\b|\\bTeo\\b|\\bTensta\\b|\\bTenri\\b|\\bTenosique\\b|\\bTenno\\b|\\bTenkodogo\\b|\\bTeni\\b|\\bTengrela\\b|\\bTendo\\b|\\bTenango de Arista\\b|\\bTena\\b|\\bTemuco\\b|\\bTemse\\b|\\bTemryuk\\b|\\bTemplin\\b|\\bTemplestowe\\b|\\bTemple Terrace\\b|\\bTemple City\\b|\\bTemple\\b|\\bTempelhof\\b|\\bTempe Junction\\b|\\bTempe\\b|\\bTemixco\\b|\\bTemirtau\\b|\\bTemerluh\\b|\\bTemecula\\b|\\bTembisa\\b|\\bTemara\\b|\\bTema\\b|\\bTelemaco Borba\\b|\\bTeluknaga\\b|\\bTeluk Nibung\\b|\\bTeluk Intan\\b|\\bTeltow\\b|\\bTelsiai\\b|\\bTeloloapan\\b|\\bTellicherry\\b|\\bTelhara\\b|\\bTelgte\\b|\\bTelfs\\b|\\bTelford\\b|\\bTelerghma\\b|\\bTelde\\b|\\bTelavi\\b|\\bTelabastagan\\b|\\bTela\\b|\\bTel Aviv\\b|\\bTekari\\b|\\bTekstil'shchiki\\b|\\bTeknaf\\b|\\bTekkekoy\\b|\\bTekkali\\b|\\bTekkalakote\\b|\\bTekirova\\b|\\bTekirdag\\b|\\bTekeli\\b|\\bTejupilco de Hidalgo\\b|\\bTejen\\b|\\bTejar\\b|\\bTeignmouth\\b|\\bTehuacan\\b|\\bTehri\\b|\\bTehran\\b|\\bTeguise\\b|\\bTegucigalpa\\b|\\bTegina\\b|\\bTeghra\\b|\\bTegelen\\b|\\bTegel\\b|\\bTegal\\b|\\bTefe\\b|\\bTecamac de Felipe Villanueva\\b|\\bTecamac\\b|\\bTecuci\\b|\\bTecpan Guatemala\\b|\\bTecoman\\b|\\bTechiman\\b|\\bTecax\\b|\\bTecate\\b|\\bTecamachalco\\b|\\bTebingtinggi\\b|\\bTebesbest\\b|\\bTearce\\b|\\bTeapa\\b|\\bTeaneck\\b|\\bTczew\\b|\\bTchollire\\b|\\bTchibanga\\b|\\bTchaourou\\b|\\bTchamba\\b|\\bTbilisskaya\\b|\\bTbilisi\\b|\\bTbeng Meanchey\\b|\\bTa'if\\b|\\bTa'izz\\b|\\bTasova\\b|\\bTaskopru\\b|\\bTazoult\\-Lambese\\b|\\bTaza\\b|\\bTayu\\b|\\bTaytay\\b|\\bTayshet\\b|\\bTaylorsville\\b|\\bTaylors Lakes\\b|\\bTaylors\\b|\\bTaylor\\b|\\bTaylor\\b|\\bTayga\\b|\\bTayabas\\b|\\bTaxco de Alarcon\\b|\\bTawau\\b|\\bTawaramoto\\b|\\bTavsanli\\b|\\bTavira\\b|\\bTaverny\\b|\\bTavernes de la Valldigna\\b|\\bTavda\\b|\\bTavares\\b|\\bTauranga\\b|\\bTaurage\\b|\\bTaupo\\b|\\bTaunusstein\\b|\\bTaunton\\b|\\bTaunton\\b|\\bTaunsa\\b|\\bTaungoo\\b|\\bTaunggyi\\b|\\bTaungdwingyi\\b|\\bTaufkirchen\\b|\\bTaubate\\b|\\bTatvan\\b|\\bTatui\\b|\\bTatsunocho\\-tominaga\\b|\\bTatsuno\\b|\\bTateyama\\b|\\bTatebayashi\\b|\\bTatarsk\\b|\\bTataouine\\b|\\bTatabanya\\b|\\bTata\\b|\\bTassin\\-la\\-Demi\\-Lune\\b|\\bTasikmalaya\\b|\\bTashtagol\\b|\\bTashkent\\b|\\bTash\\-Kumyr\\b|\\bTasek Glugor\\b|\\bTasboget\\b|\\bTarana\\b|\\bTarumizu\\b|\\bTarui\\b|\\bTarub\\b|\\bTartu\\b|\\bTartouss\\b|\\bTartagal\\b|\\bTarsus\\b|\\bTarragona\\b|\\bTarpon Springs\\b|\\bTaroudant\\b|\\bTarnow\\b|\\bTarnowskie Gory\\b|\\bTarnobrzeg\\b|\\bTarneit\\b|\\bTarn Taran\\b|\\bTarma\\b|\\bTarlac City\\b|\\bTarkwa\\b|\\bTarko\\-Sale\\b|\\bTarime\\b|\\bTarikere\\b|\\bTarija\\b|\\bTarifa\\b|\\bTarhuna\\b|\\bTargowek\\b|\\bTargovishte\\b|\\bTaree\\b|\\bTarbes\\b|\\bTaraz\\b|\\bTarawa\\b|\\bTarauaca\\b|\\bTaranto\\b|\\bTarancon\\b|\\bTarakeswar\\b|\\bTarakan\\b|\\bTaradale\\b|\\bTara\\b|\\bTaquarituba\\b|\\bTaquaritinga\\b|\\bTaquari\\b|\\bTaquara\\b|\\bTapolca\\b|\\bTapiramuta\\b|\\bTaphan Hin\\b|\\bTapes\\b|\\bTapah Road\\b|\\bTapachula\\b|\\bTaozhuang\\b|\\bTaoyuan City\\b|\\bTaourirt\\b|\\bTaounate\\b|\\bTanza\\b|\\bTanushimarumachi\\-toyoki\\b|\\bTanuma\\b|\\bTanuku\\b|\\bTantoyuca\\b|\\bTantou\\b|\\bTanque Verde\\b|\\bTanout\\b|\\bTanki Leendert\\b|\\bTank\\b|\\bTanjungtiram\\b|\\bTanjungbalai\\b|\\bTanjungagung\\b|\\bTanjung Tokong\\b|\\bTanjung Sepat\\b|\\bTanjung Pinang\\b|\\bTanjung Pandan\\b|\\bTanjore\\b|\\bTanjay\\b|\\bTangzhai\\b|\\bTangua\\b|\\bTanguieta\\b|\\bTangub\\b|\\bTangshan\\b|\\bTangping\\b|\\bTangkak\\b|\\bTangjin\\b|\\bTangjiazhuang\\b|\\bTangier\\b|\\bTangi\\b|\\bTanggulangin\\b|\\bTanggu\\b|\\bTangerang\\b|\\bTangancicuaro de Arista\\b|\\bTanga\\b|\\bTando Muhammad Khan\\b|\\bTando Jam\\b|\\bTando Allahyar\\b|\\bTando Adam\\b|\\bTandlianwala\\b|\\bTandil\\b|\\bTandalti\\b|\\bTandahimba\\b|\\bTandag\\b|\\bTanda\\b|\\bTanda\\b|\\bTanay\\b|\\bTanauan\\b|\\bTanauan\\b|\\bTanashicho\\b|\\bTanakpur\\b|\\bTanah Merah\\b|\\bTanabi\\b|\\bTanabe\\b|\\bTanabe\\b|\\bTan\\-Tan\\b|\\bTamworth\\b|\\bTamworth\\b|\\bTamuin\\b|\\bTamuning\\-Tumon\\-Harmon Village\\b|\\bTamuning\\b|\\bTamra\\b|\\bTampin\\b|\\bTampico\\b|\\bTampere\\b|\\bTampa\\b|\\bTamluk\\b|\\bTamiami\\b|\\bTame\\b|\\bTambuwal\\b|\\bTambov\\b|\\bTamboril\\b|\\bTambopata\\b|\\bTambo Grande\\b|\\bTambau\\b|\\bTambaram\\b|\\bTambacounda\\b|\\bTamazunchale\\b|\\bTamazula de Gordiano\\b|\\bTamarac\\b|\\bTamanrasset\\b|\\bTamano\\b|\\bTamandare\\b|\\bTamana\\b|\\bTaman Senai\\b|\\bTamamura\\b|\\bTamalous\\b|\\bTamale\\b|\\bTam Ky\\b|\\bTal'menka\\b|\\bTalaja\\b|\\bTala\\b|\\bTalwara\\b|\\bTalwandi Bhai\\b|\\bTaloqan\\b|\\bTaloda\\b|\\bTaloc\\b|\\bTalne\\b|\\bTalnakh\\b|\\bTallmadge\\b|\\bTallkayf\\b|\\bTallkalakh\\b|\\bTallinn\\b|\\bTallbisah\\b|\\bTallahassee\\b|\\bTallaght\\b|\\bTalladega\\b|\\bTall Rif'at\\b|\\bTalitsa\\b|\\bTalitsa\\b|\\bTalisay\\b|\\bTalisay\\b|\\bTalisay\\b|\\bTalipparamba\\b|\\bTalhar\\b|\\bTalghar\\b|\\bTalence\\b|\\bTaleigao\\b|\\bTalegaon Dabhade\\b|\\bTaldykorgan\\b|\\bTalcahuano\\b|\\bTalca\\b|\\bTalavera de la Reina\\b|\\bTalavera\\b|\\bTalata Mafara\\b|\\bTalas\\b|\\bTalas\\b|\\bTalara\\b|\\bTalamba\\b|\\bTalagante\\b|\\bTalagang\\b|\\bTalacogon\\b|\\bTala\\b|\\bTakab\\b|\\bTakum\\b|\\bTakoradi\\b|\\bTakoma Park\\b|\\bTakikawa\\b|\\bTakhatpur\\b|\\bTakhatgarh\\b|\\bTaketoyo\\b|\\bTakeocho\\-takeo\\b|\\bTakeo\\b|\\bTakelsa\\b|\\bTakehara\\b|\\bTakefu\\b|\\bTakedamachi\\b|\\bTakayama\\b|\\bTakatsuki\\b|\\bTakasaki\\b|\\bTakarazuka\\b|\\bTakaoka\\b|\\bTakanosu\\b|\\bTakanabe\\b|\\bTakamatsu\\b|\\bTakaishi\\b|\\bTakahata\\b|\\bTakahashi\\b|\\bTakahama\\b|\\bTakahagi\\b|\\bTak Bai\\b|\\bTak\\b|\\bTajimi\\b|\\bTajerouine\\b|\\bTai'an\\b|\\bTaizhou\\b|\\bTaiyuan\\b|\\bTaixing\\b|\\bTaitung City\\b|\\bTaishan\\b|\\bTaiping\\b|\\bTaipei\\b|\\bTaiobeiras\\b|\\bTainan\\b|\\bTailai\\b|\\bTaikang\\b|\\bTaihecun\\b|\\bTaichung\\b|\\bTai Po\\b|\\bTahoua\\b|\\bTahlequah\\b|\\bTahla\\b|\\bTahe\\b|\\bTahara\\b|\\bTaguig\\b|\\bTagudin\\b|\\bTagta\\b|\\bTagoloan\\b|\\bTagiura\\b|\\bTagbilaran City\\b|\\bTagaytay\\b|\\bTagawa\\b|\\bTagas\\b|\\bTaganskiy\\b|\\bTaganrog\\b|\\bTafi Viejo\\b|\\bTaft\\b|\\bTafo\\b|\\bTaesal\\-li\\b|\\bTadotsu\\b|\\bTadmur\\b|\\bTadmait\\b|\\bTadley\\b|\\bTadjourah\\b|\\bTacambaro de Codallos\\b|\\bTacurong\\b|\\bTacuarembo\\b|\\bTacoronte\\b|\\bTacoma\\b|\\bTacna\\b|\\bTacloban\\b|\\bTachilek\\b|\\bTacarigua\\b|\\bTabuk\\b|\\bTabuk\\b|\\bTabriz\\b|\\bTaboao da Serra\\b|\\bTabou\\b|\\bTabora\\b|\\bTabira\\b|\\bTabatinga\\b|\\bTabas\\b|\\bTabanan\\b|\\bTabaco\\b|\\bTaastrup\\b|\\bTaal\\b|\\bTa Khmau\\b|\\bSon Tay\\b|\\bSon La\\b|\\bSungho 1\\-tong\\b|\\bSusangerd\\b|\\bSuratgarh\\b|\\bSurat\\b|\\bSurandai\\b|\\bSurajgarh\\b|\\bSuluru\\b|\\bSujangarh\\b|\\bSonbong\\b|\\bSoka\\b|\\bSoja\\b|\\bSlupsk\\b|\\bSlubice\\b|\\bSitapur\\b|\\bSitamarhi\\b|\\bSita Road\\b|\\bSirkazhi\\b|\\bSira\\b|\\bSinah\\b|\\bSikar\\b|\\bSidi Salim\\b|\\bSacele\\b|\\bSayla\\b|\\bSaveh\\b|\\bSavda\\b|\\bSavantvadi\\b|\\bSatkhira\\b|\\bSatkania\\b|\\bSasvad\\b|\\bSarangpur\\b|\\bSankrail\\b|\\bSangola\\b|\\bSangli\\b|\\bSandi\\b|\\bSanchor\\b|\\bSanand\\b|\\bSambhar\\b|\\bSamba\\b|\\bSamarra'\\b|\\bSamalkot\\b|\\bSalur\\b|\\bSalumbar\\b|\\bSahibganj\\b|\\bSagar\\b|\\bSadri\\b|\\bSurmene\\b|\\bSuhbaatar\\b|\\bSonderborg\\b|\\bSommerda\\b|\\bSoke\\b|\\bSodertalje\\b|\\bSodermalm\\b|\\bSong Cau\\b|\\bSoc Trang\\b|\\bSetif\\b|\\bSerres\\b|\\bSelibaby\\b|\\bSelestat\\b|\\bSeguela\\b|\\bSegou\\b|\\bSedhiou\\b|\\bSevres\\b|\\bSete\\b|\\bSao Vicente\\b|\\bSao Tome\\b|\\bSao Sepe\\b|\\bSao Sebastiao do Passe\\b|\\bSao Sebastiao do Paraiso\\b|\\bSao Sebastiao do Cai\\b|\\bSao Sebastiao\\b|\\bSao Roque\\b|\\bSao Raimundo Nonato\\b|\\bSao Pedro da Cova\\b|\\bSao Pedro da Aldeia\\b|\\bSao Pedro\\b|\\bSao Pedro\\b|\\bSao Paulo\\b|\\bSao Miguel dos Campos\\b|\\bSao Miguel do Iguacu\\b|\\bSao Miguel do Guama\\b|\\bSao Miguel do Araguaia\\b|\\bSao Mateus do Sul\\b|\\bSao Mateus do Maranhao\\b|\\bSao Mateus\\b|\\bSao Martinho\\b|\\bSao Marcos\\b|\\bSao Manuel\\b|\\bSao Mamede de Infesta\\b|\\bSao Luis do Quitunde\\b|\\bSao Luis de Montes Belos\\b|\\bSao Luis\\b|\\bSao Luiz Gonzaga\\b|\\bSao Lourenco do Sul\\b|\\bSao Lourenco da Mata\\b|\\bSao Lourenco\\b|\\bSao Leopoldo\\b|\\bSao Joao dos Patos\\b|\\bSao Joao dos Inhamuns\\b|\\bSao Joao del Rei\\b|\\bSao Joao de Meriti\\b|\\bSao Joao da Talha\\b|\\bSao Joao da Madeira\\b|\\bSao Joao da Boa Vista\\b|\\bSao Joao da Barra\\b|\\bSao Joao Nepomuceno\\b|\\bSao Jose dos Pinhais\\b|\\bSao Jose dos Campos\\b|\\bSao Jose do Rio Preto\\b|\\bSao Jose do Rio Pardo\\b|\\bSao Jose do Egito\\b|\\bSao Jose de Ribamar\\b|\\bSao Jose de Mipibu\\b|\\bSao Jose\\b|\\bSao Joaquim da Barra\\b|\\bSao Joaquim\\b|\\bSao Jeronimo\\b|\\bSao Gotardo\\b|\\bSao Goncalo do Sapucai\\b|\\bSao Goncalo do Amarante\\b|\\bSao Gabriel da Cachoeira\\b|\\bSao Gabriel\\b|\\bSao Felix do Xingu\\b|\\bSao Francisco do Sul\\b|\\bSao Francisco do Conde\\b|\\bSao Francisco\\b|\\bSao Fidelis\\b|\\bSao Domingos do Maranhao\\b|\\bSao Domingos de Rana\\b|\\bSao Cristovao\\b|\\bSao Carlos\\b|\\bSao Caetano do Sul\\b|\\bSao Borja\\b|\\bSao Bernardo do Campo\\b|\\bSao Bento do Sul\\b|\\bSao Bento\\b|\\bSao Bento\\b|\\bSatoraljaujhely\\b|\\bSarvar\\b|\\bSzekesfehervar\\b|\\bSzazhalombatta\\b|\\bSzombathely\\b|\\bSzolnok\\b|\\bSzigetszentmiklos\\b|\\bSzentendre\\b|\\bSzekszard\\b|\\bSzeged\\b|\\bSzczytno\\b|\\bSzczecinek\\b|\\bSzczecin\\b|\\bSzarvas\\b|\\bSzamotuly\\b|\\bSyzran'\\b|\\bSysert'\\b|\\bSyriam\\b|\\bSyracuse\\b|\\bSyracuse\\b|\\bSyosset\\b|\\bSynel'nykove\\b|\\bSylvania\\b|\\bSylhet\\b|\\bSyktyvkar\\b|\\bSykies\\b|\\bSyke\\b|\\bSyevyerodonets'k\\b|\\bSydney Central Business District\\b|\\bSydney\\b|\\bSydney\\b|\\bSycamore\\b|\\bSwords\\b|\\bSwinton\\b|\\bSwindon\\b|\\bSweetwater\\b|\\bSwedru\\b|\\bSwarzedz\\b|\\bSwansea\\b|\\bSwansea\\b|\\bSwanscombe\\b|\\bSwanley\\b|\\bSwakopmund\\b|\\bSwadlincote\\b|\\bSwabi\\b|\\bSvyetlahorsk\\b|\\bSvobody\\b|\\bSvobodnyy\\b|\\bSvitlovods'k\\b|\\bSvitavy\\b|\\bSvishtov\\b|\\bSvilengrad\\b|\\bSviblovo\\b|\\bSvetogorsk\\b|\\bSvetlyy\\b|\\bSvetlograd\\b|\\bSvetlanovskiy\\b|\\bSverdlovs'k\\b|\\bSvendborg\\b|\\bSvay Rieng\\b|\\bSvatove\\b|\\bSvalyava\\b|\\bSusehri\\b|\\bSuar\\b|\\bSuzzara\\b|\\bSuzun\\b|\\bSuzuka\\b|\\bSuzhou\\b|\\bSuzhou\\b|\\bSuzano\\b|\\bSuzaka\\b|\\bSuwon\\b|\\bSuwalki\\b|\\bSuwanee\\b|\\bSuwa\\b|\\bSuvorovskaya\\b|\\bSuvorov\\b|\\bSuva Reka\\b|\\bSuva\\b|\\bSutton in Ashfield\\b|\\bSutton Coldfield\\b|\\bSutton\\b|\\bSusurluk\\b|\\bSusanville\\b|\\bSusaki\\b|\\bSuruc\\b|\\bSurubim\\b|\\bSurry Hills\\b|\\bSurrey\\b|\\bSurprise\\b|\\bSurovikino\\b|\\bSurkhpur\\b|\\bSurkhakhi\\b|\\bSuriapet\\b|\\bSurianwan\\b|\\bSurin\\b|\\bSurigao\\b|\\bSurgut\\b|\\bSurfers Paradise\\b|\\bSuresnes\\b|\\bSurendranagar\\b|\\bSurbiton\\b|\\bSurat Thani\\b|\\bSurallah\\b|\\bSurakarta\\b|\\bSurabaya\\b|\\bSur\\b|\\bSuphan Buri\\b|\\bSuperior\\b|\\bSupaul\\b|\\bSuozhen\\b|\\bSuong\\b|\\bSunam\\b|\\bSunzha\\b|\\bSunyani\\b|\\bSunshine West\\b|\\bSunset Park\\b|\\bSunset\\b|\\bSunrise Manor\\b|\\bSunrise\\b|\\bSunnyvale\\b|\\bSunnyside\\b|\\bSunnyside\\b|\\bSunnybank Hills\\b|\\bSunny Isles Beach\\b|\\bSunland Park\\b|\\bSunland\\b|\\bSungurlu\\b|\\bSunggal\\b|\\bSungailiat\\b|\\bSungai Udang\\b|\\bSungai Raya\\b|\\bSungai Petani\\b|\\bSungai Penuh\\b|\\bSungai Besar\\b|\\bSunel\\b|\\bSundsvall\\b|\\bSundern\\b|\\bSunderland\\b|\\bSundbyberg\\b|\\bSundarnagar\\b|\\bSundargarh\\b|\\bSunch'on\\b|\\bSuncheon\\b|\\bSunchales\\b|\\bSunbury\\-on\\-Thames\\b|\\bSunbury\\b|\\bSunan\\b|\\bSunagawa\\b|\\bSun Valley\\b|\\bSun Prairie\\b|\\bSun City West\\b|\\bSun City Center\\b|\\bSun City\\b|\\bSun City\\b|\\bSumy\\b|\\bSumusta as Sultani\\b|\\bSumter\\b|\\bSumqayit\\b|\\bSumpango\\b|\\bSumoto\\b|\\bSummit\\b|\\bSummerville\\b|\\bSummerlin South\\b|\\bSumenep\\b|\\bSumedang Utara\\b|\\bSumedang\\b|\\bSumberpucung\\b|\\bSumber\\b|\\bSumbe\\b|\\bSumbawanga\\b|\\bSumbawa Besar\\b|\\bSumare\\b|\\bSumag\\b|\\bSultanah\\b|\\bSulzbach\\-Rosenberg\\b|\\bSulzbach\\b|\\bSulya\\b|\\bSulur\\b|\\bSuluova\\b|\\bSuluktu\\b|\\bSultanpur\\b|\\bSultanpur\\b|\\bSultangazi\\b|\\bSultanbeyli\\b|\\bSulphur Springs\\b|\\bSulphur\\b|\\bSulmona\\b|\\bSullana\\b|\\bSulejowek\\b|\\bSuleja\\b|\\bSulechow\\b|\\bSukuta\\b|\\bSukumo\\b|\\bSukkur\\b|\\bSukhoy Log\\b|\\bSukhothai\\b|\\bSukhinichi\\b|\\bSukheke Mandi\\b|\\bSuket\\b|\\bSukagawa\\b|\\bSukabumi\\b|\\bSujiatun\\b|\\bSuizhou\\b|\\bSuixi\\b|\\bSuitland\\-Silver Hill\\b|\\bSuitland\\b|\\bSuita\\b|\\bSuisun\\b|\\bSuining\\b|\\bSuileng\\b|\\bSuihua\\b|\\bSuifenhe\\b|\\bSuicheng\\b|\\bSuibara\\b|\\bSuhum\\b|\\bSuhl\\b|\\bSugito\\b|\\bSugar Land\\b|\\bSugar Hill\\b|\\bSufalat Sama'il\\b|\\bSuffolk\\b|\\bSuez\\b|\\bSueyoshicho\\-ninokata\\b|\\bSueca\\b|\\bSudley\\b|\\bSudbury\\b|\\bSudbury\\b|\\bSudak\\b|\\bSucy\\-en\\-Brie\\b|\\bSucre\\b|\\bSucre\\b|\\bSucre\\b|\\bSuchiapa\\b|\\bSuceava\\b|\\bSubotica\\b|\\bSubic\\b|\\bSubaykhan\\b|\\bSubang Jaya\\b|\\bSuay\\b|\\bSuai\\b|\\bSu\\-ngai Kolok\\b|\\bStuttgart\\-Ost\\b|\\bStuttgart Muhlhausen\\b|\\bStuttgart Feuerbach\\b|\\bStuttgart\\b|\\bStutterheim\\b|\\bStupino\\b|\\bStung Treng\\b|\\bStuhr\\b|\\bStudio City\\b|\\bStudenicane\\b|\\bStuart\\b|\\bStraseni\\b|\\bStrzelce Opolskie\\b|\\bStrzegom\\b|\\bStryi\\b|\\bStrunino\\b|\\bStrumica\\b|\\bStruga\\b|\\bStroud\\b|\\bStrood\\b|\\bStrongsville\\b|\\bStroitel'\\b|\\bStrogino\\b|\\bStrezhevoy\\b|\\bStretford\\b|\\bStreetsboro\\b|\\bStreamwood\\b|\\bStrassgang\\b|\\bStrausberg\\b|\\bStraubing\\b|\\bStrathfield\\b|\\bStratford\\-upon\\-Avon\\b|\\bStratford\\b|\\bStratford\\b|\\bStrasbourg\\b|\\bStralsund\\b|\\bStrakonice\\b|\\bStraelen\\b|\\bStowmarket\\b|\\bStowbtsy\\b|\\bStow\\b|\\bStourport\\-on\\-Severn\\b|\\bStourbridge\\b|\\bStoughton\\b|\\bStorrs\\b|\\bStoneham\\b|\\bStonecrest\\b|\\bStolberg\\b|\\bStoke\\-on\\-Trent\\b|\\bStockton\\-on\\-Tees\\b|\\bStockton\\b|\\bStockport\\b|\\bStockholm\\b|\\bStockerau\\b|\\bStockelsdorf\\b|\\bStockbridge\\b|\\bStockach\\b|\\bStirling\\b|\\bStillwater\\b|\\bStillwater\\b|\\bStilfontein\\b|\\bSteyr\\b|\\bStevenson Ranch\\b|\\bStevens Point\\b|\\bStevenage\\b|\\bSteubenville\\b|\\bSterlitamak\\b|\\bSterling Heights\\b|\\bSterling\\b|\\bSterling\\b|\\bStep'anavan\\b|\\bStepnogorsk\\b|\\bStephenville\\b|\\bStenlose\\b|\\bStenjevec\\b|\\bStendal\\b|\\bStellingen\\b|\\bStellenbosch\\b|\\bStella\\b|\\bStekene\\b|\\bSteinkjer\\b|\\bSteinhagen\\b|\\bSteinfurt\\b|\\bSteilshoop\\b|\\bSteglitz\\b|\\bSteffisburg\\b|\\bSteenwijk\\b|\\bSteenbergen\\b|\\bStebnyk\\b|\\bStassfurt\\b|\\bStavropol'\\b|\\bStaveley\\b|\\bStavanger\\b|\\bStaunton\\b|\\bStatesville\\b|\\bStatesboro\\b|\\bStaten Island\\b|\\bState College\\b|\\bStaszow\\b|\\bStary Bohumin\\b|\\bStara Lubovna\\b|\\bStaryy Oskol\\b|\\bStaryy Malgobek\\b|\\bStaroshcherbinovskaya\\b|\\bStarominskaya\\b|\\bStarokostiantyniv\\b|\\bStarogard Gdanski\\b|\\bStarodub\\b|\\bStarobil's'k\\b|\\bStarnberg\\b|\\bStarkville\\b|\\bStargard\\b|\\bStaraya Russa\\b|\\bStaraya Kupavna\\b|\\bStaraya Derevnya\\b|\\bStarachowice\\b|\\bStara Zagora\\b|\\bStara Pazova\\b|\\bStaphorst\\b|\\bStantsiya Novyy Afon\\b|\\bStanton\\b|\\bStanley\\b|\\bStanley\\b|\\bStanford\\-le\\-Hope\\b|\\bStanderton\\b|\\bStamford\\b|\\bStamford\\b|\\bStalybridge\\b|\\bStalowa Wola\\b|\\bStallings\\b|\\bStains\\b|\\bStaines\\b|\\bStafford\\b|\\bStafford\\b|\\bStaffanstorp\\b|\\bStadtlohn\\b|\\bStadthagen\\b|\\bStadtallendorf\\b|\\bStadt Winterthur \\(Kreis 1\\)\\b|\\bStadskanaal\\b|\\bStade\\b|\\bStabroek\\b|\\bStabat\\b|\\bStaaken\\b|\\bSt\\. Thomas\\b|\\bSt\\. Petersburg\\b|\\bSt\\. Pauli\\b|\\bSt\\. Marys\\b|\\bSt\\. Louis\\b|\\bSt\\. Johns\\b|\\bSt\\. John's\\b|\\bSt\\. Charles\\b|\\bSt\\. Catharines\\b|\\bSt\\. Albert\\b|\\bSt Helens\\b|\\bSt Clair\\b|\\bSt Austell\\b|\\bSt Albans\\b|\\bSt Albans\\b|\\bSrivardhan\\b|\\bSrisailain\\b|\\bSriramnagar\\b|\\bSriperumbudur\\b|\\bSrinivaspur\\b|\\bSrinagar\\b|\\bSrono\\b|\\bSrivilliputhur\\b|\\bSrivaikuntam\\b|\\bSrirampur\\b|\\bSrinagar\\b|\\bSrikakulam\\b|\\bSri Madhopur\\b|\\bSri Jayewardenepura Kotte\\b|\\bSri Dungargarh\\b|\\bSremcica\\b|\\bSremska Mitrovica\\b|\\bSredneuralsk\\b|\\bSrandakan\\b|\\bSragen\\b|\\bSquamish\\b|\\bSparti\\b|\\bSpruce Grove\\b|\\bSprockhovel\\b|\\bSpringville\\b|\\bSpringvale\\b|\\bSprings\\b|\\bSpringfield Lakes\\b|\\bSpringfield Gardens\\b|\\bSpringfield\\b|\\bSpringfield\\b|\\bSpringfield\\b|\\bSpringfield\\b|\\bSpringfield\\b|\\bSpringfield\\b|\\bSpringfield\\b|\\bSpringfield\\b|\\bSpringe\\b|\\bSpringdale\\b|\\bSpringboro\\b|\\bSpring Valley\\b|\\bSpring Valley\\b|\\bSpring Valley\\b|\\bSpring Hill\\b|\\bSpring Hill\\b|\\bSpring\\b|\\bSpoleto\\b|\\bSpokane Valley\\b|\\bSpokane\\b|\\bSplit\\b|\\bSpisska Nova Ves\\b|\\bSpitak\\b|\\bSpinea\\-Orgnano\\b|\\bSpijkenisse\\b|\\bSpeyer\\b|\\bSpennymoor\\b|\\bSpenge\\b|\\bSpassk\\-Dal'niy\\b|\\bSpartanburg\\b|\\bSparta\\b|\\bSparks\\b|\\bSpanish Town\\b|\\bSpanish Springs\\b|\\bSpanish Lake\\b|\\bSpanish Fork\\b|\\bSpandau\\b|\\bSpanaway\\b|\\bSpalding\\b|\\bSoyibug\\b|\\bSoygaon\\b|\\bSoyapango\\b|\\bSoweto\\b|\\bSovetskiy\\b|\\bSovetskaya Gavan'\\b|\\bSovetsk\\b|\\bSovetsk\\b|\\bSouthsea\\b|\\bSouthport\\b|\\bSouthport\\b|\\bSouthlake\\b|\\bSouthglenn\\b|\\bSouthgate\\b|\\bSouthfield\\b|\\bSouthend\\-on\\-Sea\\b|\\bSouthchase\\b|\\bSouthbury\\b|\\bSouthbridge\\b|\\bSouthbank\\b|\\bSouthaven\\b|\\bSouthampton\\b|\\bSouthall\\b|\\bSouth Yuba City\\b|\\bSouth Yarra\\b|\\bSouth Windsor\\b|\\bSouth Whittier\\b|\\bSouth Vineland\\b|\\bSouth Valley\\b|\\bSouth Tangerang\\b|\\bSouth Suffolk\\b|\\bSouth Shore\\b|\\bSouth Shields\\b|\\bSouth San Jose Hills\\b|\\bSouth San Francisco\\b|\\bSouth Salt Lake\\b|\\bSouth Saint Paul\\b|\\bSouth River\\b|\\bSouth Riding\\b|\\bSouth Portland Gardens\\b|\\bSouth Portland\\b|\\bSouth Plainfield\\b|\\bSouth Peabody\\b|\\bSouth Pasadena\\b|\\bSouth Orange\\b|\\bSouth Old Bridge\\b|\\bSouth Ogden\\b|\\bSouth Ockendon\\b|\\bSouth Morang\\b|\\bSouth Milwaukee\\b|\\bSouth Miami Heights\\b|\\bSouth Lawndale\\b|\\bSouth Laurel\\b|\\bSouth Lake Tahoe\\b|\\bSouth Kingstown\\b|\\bSouth Jordan Heights\\b|\\bSouth Jordan\\b|\\bSouth Houston\\b|\\bSouth Holland\\b|\\bSouth Hill\\b|\\bSouth Hayling\\b|\\bSouth Hadley\\b|\\bSouth Gate\\b|\\bSouth Gate\\b|\\bSouth Euclid\\b|\\bSouth Elmsall\\b|\\bSouth Elgin\\b|\\bSouth El Monte\\b|\\bSouth Croydon\\b|\\bSouth Chicago\\b|\\bSouth Burlington\\b|\\bSouth Bradenton\\b|\\bSouth Boston\\b|\\bSouth Benfleet\\b|\\bSouth Bend\\b|\\bSouth Bel Air\\b|\\bSousse\\b|\\bSousa\\b|\\bSoure\\b|\\bSouran\\b|\\bSour el Ghozlane\\b|\\bSouq Larb'a al Gharb\\b|\\bSoumagne\\b|\\bSouma\\b|\\bSouk Ahras\\b|\\bSougueur\\b|\\bSotteville\\-les\\-Rouen\\b|\\bSotouboua\\b|\\bSosnowiec\\b|\\bSosnovyy Bor\\b|\\bSosnovoborsk\\b|\\bSosnovka\\b|\\bSosnovaya Polyana\\b|\\bSosnogorsk\\b|\\bSortavala\\b|\\bSorsogon\\b|\\bSoroti\\b|\\bSorong\\b|\\bSoron\\b|\\bSorokyne\\b|\\bSorochinsk\\b|\\bSorocaba\\b|\\bSoroca\\b|\\bSoro\\b|\\bSoria\\b|\\bSorgun\\b|\\bSorgues\\b|\\bSorel\\-Tracy\\b|\\bSoreang\\b|\\bSoran\\b|\\bSoran\\b|\\bSorada\\b|\\bSora\\b|\\bSopur\\b|\\bSopron\\b|\\bSopot\\b|\\bSonipat\\b|\\bSonari\\b|\\bSonargaon\\b|\\bSonamukhi\\b|\\bSonzacate\\b|\\bSonthofen\\b|\\bSonson\\b|\\bSonsonate\\b|\\bSonqor\\b|\\bSonneberg\\b|\\bSongyuan\\b|\\bSongyang\\b|\\bSongwa\\b|\\bSongnim\\b|\\bSongling\\b|\\bSongling\\b|\\bSongkhla\\b|\\bSongjianghe\\b|\\bSongjiang\\b|\\bSongea\\b|\\bSongadh\\b|\\bSonepur\\b|\\bSondrio\\b|\\bSondershausen\\b|\\bSompeta\\b|\\bSomoto\\b|\\bSomotillo\\b|\\bSomma Vesuviana\\b|\\bSomeshwar\\b|\\bSomerville\\b|\\bSomerton\\b|\\bSomerset East\\b|\\bSomerset\\b|\\bSomerset\\b|\\bSombrerete\\b|\\bSombor\\b|\\bSomanda\\b|\\bSoma\\b|\\bSol'\\-Iletsk\\b|\\bSolapur\\b|\\bSolanea\\b|\\bSoltau\\b|\\bSolon\\b|\\bSolola\\b|\\bSolok\\b|\\bSolntsevo\\b|\\bSolnechnogorsk\\b|\\bSolna\\b|\\bSollentuna\\b|\\bSolingen\\b|\\bSolin\\b|\\bSolikamsk\\b|\\bSolihull\\b|\\bSolhan\\b|\\bSoledade\\b|\\bSoledad de Graciano Sanchez\\b|\\bSoledad\\b|\\bSoledad\\b|\\bSolec Kujawski\\b|\\bSolano\\b|\\bSolana\\b|\\bSolan\\b|\\bSokolka\\b|\\bSokolow Podlaski\\b|\\bSokoto\\b|\\bSokoni\\b|\\bSokol'niki\\b|\\bSokolov\\b|\\bSokol\\b|\\bSokol\\b|\\bSokode\\b|\\bSoko\\b|\\bSokhumi\\b|\\bSokcho\\b|\\bSokaraja\\b|\\bSokal'\\b|\\bSojitra\\b|\\bSojat\\b|\\bSoisy\\-sous\\-Montmorency\\b|\\bSoissons\\b|\\bSoio\\b|\\bSoignies\\b|\\bSohagpur\\b|\\bSohna\\b|\\bSohar\\b|\\bSohag\\b|\\bSogamoso\\b|\\bSofrino\\b|\\bSofo\\-Birnin\\-Gwari\\b|\\bSofifi\\b|\\bSofia\\b|\\bSoest\\b|\\bSoest\\b|\\bSoe\\b|\\bSodo\\b|\\bSodhri\\b|\\bSocorro Mission Number 1 Colonia\\b|\\bSocorro\\b|\\bSocorro\\b|\\bSocorro\\b|\\bSochi\\b|\\bSochaczew\\b|\\bSoccavo\\b|\\bSocastee\\b|\\bSobue\\b|\\bSobral\\b|\\bSobradinho\\b|\\bSobinka\\b|\\bSoba\\b|\\bSoavinandriana\\b|\\bSoanindrariny\\b|\\bSoanierana Ivongo\\b|\\bSoacha\\b|\\bSnizhne\\b|\\bSnina\\b|\\bSnezhinsk\\b|\\bSnellville\\b|\\bSneek\\b|\\bSmyrna\\b|\\bSmyrna\\b|\\bSmolyan\\b|\\bSmolensk\\b|\\bSmithtown\\b|\\bSmithfield\\b|\\bSmila\\b|\\bSmederevska Palanka\\b|\\bSmederevo\\b|\\bSmarhon'\\b|\\bSmara\\b|\\bSmach Mean Chey\\b|\\bSlyudyanka\\b|\\bSlutsk\\b|\\bSloviansk\\b|\\bSlough\\b|\\bSlonim\\b|\\bSlobozia\\b|\\bSlobozia\\b|\\bSlobozhans'ke\\b|\\bSlobodskoy\\b|\\bSlobodka\\b|\\bSliven\\b|\\bSligo\\b|\\bSliedrecht\\b|\\bSlidell\\b|\\bSleman\\b|\\bSleaford\\b|\\bSlawi\\b|\\bSlavyansk\\-na\\-Kubani\\b|\\bSlavutych\\b|\\bSlavuta\\b|\\bSlavonski Brod\\b|\\bSlavgorod\\b|\\bSlatina\\b|\\bSlany\\b|\\bSlantsy\\b|\\bSlagelse\\b|\\bSkovde\\b|\\bSkvyra\\b|\\bSkudai\\b|\\bSkopje\\b|\\bSkopin\\b|\\bSkokie\\b|\\bSkive\\b|\\bSkikda\\b|\\bSkierniewice\\b|\\bSkien\\b|\\bSkhodnya\\b|\\bSkhirate\\b|\\bSkelmersdale\\b|\\bSkelleftea\\b|\\bSkegness\\b|\\bSkawina\\b|\\bSkarzysko\\-Kamienna\\b|\\bSkanes\\b|\\bSkalica\\b|\\bSkadovs'k\\b|\\bSiofok\\b|\\bSiyabuswa\\b|\\bSix\\-Fours\\-les\\-Plages\\b|\\bSiwana\\b|\\bSiwan\\b|\\bSiverek\\b|\\bSivas\\b|\\bSivakasi\\b|\\bSivagiri\\b|\\bSivagiri\\b|\\bSivaganga\\b|\\bSiuri\\b|\\bSiuna\\b|\\bSitarganj\\b|\\bSitubondo\\b|\\bSittwe\\b|\\bSittingbourne\\b|\\bSitten\\b|\\bSittard\\b|\\bSitrah\\b|\\bSitges\\b|\\bSitangkai\\b|\\bSitampiky\\b|\\bSiswa Bazar\\b|\\bSisophon\\b|\\bSishui\\b|\\bSisauli\\b|\\bSisak\\b|\\bSirur\\b|\\bSirumugai\\b|\\bSiruguppa\\b|\\bSirte\\b|\\bSirsaganj\\b|\\bSirsilla\\b|\\bSirsi\\b|\\bSirsi\\b|\\bSirsa\\b|\\bSironj\\b|\\bSirohi\\b|\\bSirjan\\b|\\bSirinhaem\\b|\\bSirhind\\b|\\bSirdaryo\\b|\\bSirari\\b|\\bSirajganj\\b|\\bSiraha\\b|\\bSiracusa\\b|\\bSiquirres\\b|\\bSiping\\b|\\bSipalay\\b|\\bSioux Falls\\b|\\bSioux City\\b|\\bSinuiju\\b|\\bSinzig\\b|\\bSintra\\b|\\bSint\\-Truiden\\b|\\bSint\\-Pieters\\-Leeuw\\b|\\bSint\\-Oedenrode\\b|\\bSint\\-Niklaas\\b|\\bSint\\-Kruis\\b|\\bSint\\-Katelijne\\-Waver\\b|\\bSint\\-Gillis\\-Waas\\b|\\bSint\\-Genesius\\-Rode\\b|\\bSinsheim\\b|\\bSinop\\b|\\bSinop\\b|\\bSinnar\\b|\\bSinnar\\b|\\bSinnai\\b|\\bSinmak\\b|\\bSinjar\\b|\\bSinjhoro\\b|\\bSinjai\\b|\\bSinhyeon\\b|\\bSingapur\\b|\\bSinganallur\\b|\\bSingur\\b|\\bSingrauli\\b|\\bSingosari\\b|\\bSingojuruh\\b|\\bSingkil\\b|\\bSingkawang\\b|\\bSingida\\b|\\bSingen\\b|\\bSingarayakonda\\b|\\bSingaraja\\b|\\bSingapore\\b|\\bSingaparna\\b|\\bSinga\\b|\\bSing Buri\\b|\\bSinfra\\b|\\bSinfin\\b|\\bSindhnur\\b|\\bSindgi\\b|\\bSindelfingen\\b|\\bSincelejo\\b|\\bSinanju\\b|\\bSinan\\b|\\bSin\\-le\\-Noble\\b|\\bSimoes Filho\\b|\\bSimao Dias\\b|\\bSimpsonville\\b|\\bSimpang Empat\\b|\\bSimpang\\b|\\bSimmering\\b|\\bSimmerath\\b|\\bSimi Valley\\b|\\bSimferopol\\b|\\bSimdega\\b|\\bSimav\\b|\\bSimanggang\\b|\\bSim\\b|\\bSilverdale\\b|\\bSilver Spring\\b|\\bSilver Lake\\b|\\bSilver Firs\\b|\\bSilvassa\\b|\\bSilvan\\b|\\bSilva Jardim\\b|\\bSilute\\b|\\bSilopi\\b|\\bSiloam Springs\\b|\\bSillod\\b|\\bSillanwali\\b|\\bSillamae\\b|\\bSilla\\b|\\bSilkeborg\\b|\\bSilivri\\b|\\bSilistra\\b|\\bSiliguri\\b|\\bSilifke\\b|\\bSiliana\\b|\\bSilchar\\b|\\bSilapathar\\b|\\bSilao\\b|\\bSilao\\b|\\bSilang\\b|\\bSil\\-li\\b|\\bSikonge\\b|\\bSikka\\b|\\bSikeston\\b|\\bSikasso\\b|\\bSikandra Rao\\b|\\bSikandarabad\\b|\\bSikandarpur\\b|\\bSijunjung\\b|\\bSijua\\b|\\bSiirt\\b|\\bSiilinjarvi\\b|\\bSihora\\b|\\bSihor\\b|\\bSihanoukville\\b|\\bSiguiri\\b|\\bSiguatepeque\\b|\\bSigmaringen\\b|\\bSigli\\b|\\bSighisoara\\b|\\bSighetu Marmatiei\\b|\\bSig\\b|\\bSierre\\b|\\bSierra Vista\\b|\\bSierpc\\b|\\bSieradz\\b|\\bSiena\\b|\\bSiemiatycze\\b|\\bSiemianowice Slaskie\\b|\\bSiem Reap\\b|\\bSiegen\\b|\\bSiegburg\\b|\\bSiedlce\\b|\\bSidrolandia\\b|\\bSidon\\b|\\bSidoarjo\\b|\\bSidney\\b|\\bSidlaghatta\\b|\\bSidi ech Chahmi\\b|\\bSidi Yahia El Gharb\\b|\\bSidi Slimane\\b|\\bSidi Qacem\\b|\\bSidi Okba\\b|\\bSidi Merouane\\b|\\bSidi Moussa\\b|\\bSidi Khaled\\b|\\bSidi Ifni\\b|\\bSidi Bouzid\\b|\\bSidi Bennour\\b|\\bSidi Bel Abbes\\b|\\bSidi Aissa\\b|\\bSidi Amrane\\b|\\bSidi Akkacha\\b|\\bSidi Abdelli\\b|\\bSidhi\\b|\\bSidhauli\\b|\\bSiderno\\b|\\bSiddipet\\b|\\bSiddharthanagar\\b|\\bSiddhapur\\b|\\bSidareja\\b|\\bSicuani\\b|\\bSicklerville\\b|\\bSibut\\b|\\bSibulan\\b|\\bSibu\\b|\\bSibsagar\\b|\\bSibolga\\b|\\bSibiu\\b|\\bSibiti\\b|\\bSibi\\b|\\bSibbo\\b|\\bSibay\\b|\\bSibate\\b|\\bSibanicu\\b|\\bSiaya\\b|\\bSiavonga\\b|\\bSialkot\\b|\\bSi Satchanalai\\b|\\bSi Sa Ket\\b|\\bSi Racha\\b|\\bShushtar\\b|\\bShush\\b|\\bShoranur\\b|\\bShobu\\b|\\bShobara\\b|\\bShishgarh\\b|\\bShirvan\\b|\\bShindand\\b|\\bShieli\\b|\\bShantipur\\b|\\bShamli\\b|\\bShamgarh\\b|\\bShajapur\\b|\\bShahin Dezh\\b|\\bShahada\\b|\\bShahabad\\b|\\bShahabad\\b|\\bShahabad\\b|\\bShahabad\\b|\\bShahzadpur\\b|\\bShahpura\\b|\\bShahpura\\b|\\bShahpur\\b|\\bShahpur\\b|\\bShahpur\\b|\\bShahpur\\b|\\bShahjanpur\\b|\\bShahi\\b|\\bShahganj\\b|\\bShadegan\\b|\\bShymkent\\b|\\bShyamnagar\\b|\\bShwebo\\b|\\bShuya\\b|\\bShushi\\b|\\bShushenskoye\\b|\\bShushary\\b|\\bShurugwi\\b|\\bShunyi\\b|\\bShumikha\\b|\\bShumerlya\\b|\\bShumen\\b|\\bShulan\\b|\\bShujalpur\\b|\\bShujaabad\\b|\\bShuangyashan\\b|\\bShuangyang\\b|\\bShuangcheng\\b|\\bShtip\\b|\\bShtime\\b|\\bShrirampur\\b|\\bShrirangapattana\\b|\\bShrigonda\\b|\\bShrewsbury\\b|\\bShrewsbury\\b|\\bShreveport\\b|\\bShpola\\b|\\bSho'rchi\\b|\\bShowot\\b|\\bShouguang\\b|\\bShostka\\b|\\bShorapur\\b|\\bShort Pump\\b|\\bShorkot\\b|\\bShorewood\\b|\\bShoreview\\b|\\bShoreline\\b|\\bShoreham\\-by\\-Sea\\b|\\bSholinghur\\b|\\bShoham\\b|\\bShofirkon\\b|\\bShkoder\\b|\\bShizuoka\\b|\\bShizunai\\-furukawacho\\b|\\bShizukuishi\\b|\\bShizuishan\\b|\\bShizilu\\b|\\bShiyan\\b|\\bShixing\\b|\\bShiwan\\b|\\bShivpuri\\b|\\bShively\\b|\\bShivaji Nagar\\b|\\bShitanjing\\b|\\bShisui\\b|\\bShirpur\\b|\\bShirone\\b|\\bShiroishi\\b|\\bShiroi\\b|\\bShirley\\b|\\bShirley\\b|\\bShirhatti\\b|\\bShirdi\\b|\\bShirbin\\b|\\bShiraz\\b|\\bShiraoka\\b|\\bShiraoi\\b|\\bShirahamacho\\-usazakiminami\\b|\\bShiraguppi\\b|\\bShiqiao\\b|\\bShiqi\\b|\\bShipley\\b|\\bShiozawa\\b|\\bShiojiri\\b|\\bShiogama\\b|\\bShin'ichi\\b|\\bShinas\\b|\\bShinyanga\\b|\\bShinshiro\\b|\\bShinjo\\b|\\bShingu\\b|\\bShingu\\b|\\bShimotoda\\b|\\bShimonoseki\\b|\\bShimokizukuri\\b|\\bShimoga\\b|\\bShimodate\\b|\\bShimoda\\b|\\bShimo\\-furano\\b|\\bShimla\\b|\\bShimanovsk\\b|\\bShimada\\b|\\bShimabara\\b|\\bShima\\b|\\bShilovo\\b|\\bShilong\\b|\\bShillong\\b|\\bShilin\\b|\\bShikarpur\\b|\\bShikarpur\\b|\\bShikohabad\\b|\\bShiki\\b|\\bShikarpur\\b|\\bShijiazhuang\\b|\\bShihezi\\b|\\bShiguai\\b|\\bShiggaon\\b|\\bShido\\b|\\bShibin al Qanatir\\b|\\bShibin al Kawm\\b|\\bShibushi\\b|\\bShibukawa\\b|\\bShibirghan\\b|\\bShibganj\\b|\\bShibganj\\b|\\bShibetsu\\b|\\bShibata\\b|\\bSherwood Park\\b|\\bSherwood\\b|\\bSherwood\\b|\\bShertallai\\b|\\bSherrelwood\\b|\\bSherpur\\b|\\bSherman Oaks\\b|\\bSherman\\b|\\bSherkot\\b|\\bSheridan\\b|\\bSherghati\\b|\\bSherbrooke\\b|\\bShepparton\\b|\\bShepetivka\\b|\\bSheopur\\b|\\bSheohar\\b|\\bSheoganj\\b|\\bShenzhen\\b|\\bShenyang\\b|\\bShenjiamen\\b|\\bShengli\\b|\\bShendi\\b|\\bShenandoah\\b|\\bShemonaikha\\b|\\bShelui\\b|\\bShelton\\b|\\bShelekhov\\b|\\bShelbyville\\b|\\bShelbyville\\b|\\bShelbyville\\b|\\bShelby\\b|\\bShelby\\b|\\bSheksna\\b|\\bSheki\\b|\\bShekhupura\\b|\\bSheikhpura\\b|\\bShegaon\\b|\\bSheffield\\b|\\bSheepshead Bay\\b|\\bSheboygan\\b|\\bShebekino\\b|\\bShchekino\\b|\\bShchukino\\b|\\bShchuchyn\\b|\\bShchuchinsk\\b|\\bShchigry\\b|\\bShcherbinka\\b|\\bShchelkovo\\b|\\bShawnee\\b|\\bShawnee\\b|\\bShawinigan\\b|\\bShaw\\b|\\bShatura\\b|\\bShashi\\b|\\bShashemene\\b|\\bShar'ya\\b|\\bSharypovo\\b|\\bSharqpur Sharif\\b|\\bSharjah\\b|\\bShaping\\b|\\bShaoxing\\b|\\bShaowu\\b|\\bShaoguan\\b|\\bShanwei\\b|\\bShantou\\b|\\bShanting\\b|\\bShanhecun\\b|\\bShanhaiguan\\b|\\bShangzhi\\b|\\bShangyu\\b|\\bShangri\\-La\\b|\\bShangrao\\b|\\bShangqiu\\b|\\bShangmei\\b|\\bShanghai\\b|\\bShancheng\\b|\\bShamsabad\\b|\\bShamsabad\\b|\\bShamkhor\\b|\\bShambu\\b|\\bShamakhi\\b|\\bShama Junction\\b|\\bShalqar\\b|\\bShalkar\\b|\\bShali\\b|\\bShakopee\\b|\\bShakiso\\b|\\bShakhun'ya\\b|\\bShakhty\\b|\\bShakhtinsk\\b|\\bShakhtars'k\\b|\\bShaker Heights\\b|\\bShakargarh\\b|\\bShahriar\\b|\\bShahrud\\b|\\bShahrisabz\\b|\\bShahre Jadide Andisheh\\b|\\bShahrak\\b|\\bShahr\\-e Kord\\b|\\bShahr\\-e Babak\\b|\\bShahr Sultan\\b|\\bShahpur Chakar\\b|\\bShahkot\\b|\\bShahecheng\\b|\\bShahdol\\b|\\bShahdadpur\\b|\\bShahdad Kot\\b|\\bShahbazpur\\b|\\bShah Alam\\b|\\bShagamu\\b|\\bShafter\\b|\\bShadrinsk\\b|\\bShache\\b|\\bShabqadar\\b|\\bSha Tin\\b|\\bSfantu Gheorghe\\b|\\bSfizef\\b|\\bSfax\\b|\\bSezze\\b|\\bSeynod\\b|\\bSeymour\\b|\\bSeymour\\b|\\bSeydisehir\\b|\\bSeydi\\b|\\bSexmoan\\b|\\bSewon\\b|\\bSevran\\b|\\bSevlievo\\b|\\bSevilla\\b|\\bSevilla\\b|\\bSevierville\\b|\\bSeveso\\b|\\bSeverskaya\\b|\\bSeversk\\b|\\bSeveroural'sk\\b|\\bSeveromorsk\\b|\\bSeverodvinsk\\b|\\bSeverobaykal'sk\\b|\\bSevero\\-Zadonsk\\b|\\bSevernyy\\b|\\bSeverna Park\\b|\\bSevern\\b|\\bSevenoaks\\b|\\bSeven Oaks\\b|\\bSeven Hills\\b|\\bSevastopol\\b|\\bSevan\\b|\\bSetubal\\b|\\bSetun'\\b|\\bSettimo Torinese\\b|\\bSetti Fatma\\b|\\bSettat\\b|\\bSeto\\b|\\bSetharja Old\\b|\\bSete Lagoas\\b|\\bSetauket\\-East Setauket\\b|\\bSetakamachi\\-takayanagi\\b|\\bSesvete\\b|\\bSestu\\b|\\bSestroretsk\\b|\\bSestri Levante\\b|\\bSesto San Giovanni\\b|\\bSesto Fiorentino\\b|\\bSestao\\b|\\bSesimbra\\b|\\bSesheke\\b|\\bSesena\\b|\\bSertaozinho\\b|\\bSertania\\b|\\bSertolovo\\b|\\bSerrinha\\b|\\bSerrana\\b|\\bSerra Talhada\\b|\\bSerra Negra\\b|\\bSerra\\b|\\bSerpukhov\\b|\\bSerpong\\b|\\bSerowe\\b|\\bSerov\\b|\\bSeropedica\\b|\\bSeririt\\b|\\bSerinyol\\b|\\bSerinhisar\\b|\\bSerilingampalle\\b|\\bSerik\\b|\\bSeriate\\b|\\bSeria\\b|\\bSergiyev Posad\\b|\\bSergach\\b|\\bSerendah\\b|\\bSeremban\\b|\\bSerekunda\\b|\\bSeregno\\b|\\bSerdobsk\\b|\\bSerchhip\\b|\\bSerang\\b|\\bSeram\\b|\\bSeraing\\b|\\bSequeira\\b|\\bSepuka\\b|\\bSept\\-Iles\\b|\\bSepatan\\b|\\bSepang\\b|\\bSeoul\\b|\\bSeosan\\b|\\bSeoni Malwa\\b|\\bSeoni\\b|\\bSeongnam\\-si\\b|\\bSeonghwan\\b|\\bSeondha\\b|\\bSeohara\\b|\\bSeogwipo\\b|\\bSenta\\b|\\bSensuntepeque\\b|\\bSens\\b|\\bSenlis\\b|\\bSenirkent\\b|\\bSenigallia\\b|\\bSenica\\b|\\bSenhora da Hora\\b|\\bSenhor do Bonfim\\b|\\bSengkang\\b|\\bSenftenberg\\b|\\bSenekal\\b|\\bSendhwa\\b|\\bSenden\\b|\\bSenden\\b|\\bSendai\\b|\\bSenak'i\\b|\\bSenago\\b|\\bSenador Pompeu\\b|\\bSenador Canedo\\b|\\bSena Madureira\\b|\\bSemirom\\b|\\bSemenovskoye\\b|\\bSemenov\\b|\\bSemporna\\b|\\bSemnan\\b|\\bSeminole\\b|\\bSemiluki\\b|\\bSemikarakorsk\\b|\\bSemey\\b|\\bSemenyih\\b|\\bSemarang\\b|\\bSel'tso\\b|\\bSelcuk\\b|\\bSelydove\\b|\\bSelu\\b|\\bSelogiri\\b|\\bSelma\\b|\\bSelma\\b|\\bSelm\\b|\\bSeligenstadt\\b|\\bSelebi\\-Phikwe\\b|\\bSelden\\b|\\bSelby\\b|\\bSelb\\b|\\bSelargius\\b|\\bSekondi\\-Takoradi\\b|\\bSeka\\b|\\bSejong\\b|\\bSeinajoki\\b|\\bSehwan\\b|\\bSehore\\b|\\bSehnde\\b|\\bSegundo Ensanche\\b|\\bSeguin\\b|\\bSegrate\\b|\\bSegovia\\b|\\bSegovia\\b|\\bSegezha\\b|\\bSegbwema\\b|\\bSegamat\\b|\\bSefrou\\b|\\bSeferihisar\\b|\\bSeevetal\\b|\\bSeesen\\b|\\bSeen \\(Kreis 3\\)\\b|\\bSeelze\\b|\\bSeeheim\\-Jugenheim\\b|\\bSeeb\\b|\\bSedrata\\b|\\bSederot\\b|\\bSeddouk\\b|\\bSedan\\b|\\bSedalia\\b|\\bSecurity\\-Widefield\\b|\\bSecunderabad\\b|\\bSecunda\\b|\\bSector 6\\b|\\bSector 5\\b|\\bSector 4\\b|\\bSector 3\\b|\\bSector 2\\b|\\bSector 1\\b|\\bSecondigliano\\b|\\bSechura\\b|\\bSecaucus\\b|\\bSebes\\b|\\bSebeta\\b|\\bSebdou\\b|\\bSebastian\\b|\\bSeattle\\b|\\bSeaside\\b|\\bSearcy\\b|\\bSeal Beach\\b|\\bSeaham\\b|\\bSeagoville\\b|\\bSeaford\\b|\\bSeaford\\b|\\bSeaford\\b|\\bSeabrook\\b|\\bSeabra\\b|\\bSeaTac\\b|\\bScunthorpe\\b|\\bScranton\\b|\\bScottsdale\\b|\\bScottburgh\\b|\\bScotch Plains\\b|\\bScordia\\b|\\bScicli\\b|\\bSciacca\\b|\\bSchoneberg\\b|\\bSchonebeck\\b|\\bSchwabisch Hall\\b|\\bSchwabisch Gmund\\b|\\bSchwetzingen\\b|\\bSchwerte\\b|\\bSchwerin\\b|\\bSchwelm\\b|\\bSchweizer\\-Reneke\\b|\\bSchweinfurt\\b|\\bSchwedt \\(Oder\\)\\b|\\bSchwarzenberg\\b|\\bSchwanewede\\b|\\bSchwandorf in Bayern\\b|\\bSchwalmtal\\b|\\bSchwalmstadt\\b|\\bSchwalbach\\b|\\bSchwabach\\b|\\bSchroeder\\b|\\bSchrobenhausen\\b|\\bSchramberg\\b|\\bSchoten\\b|\\bSchortens\\b|\\bSchorndorf\\b|\\bSchopfheim\\b|\\bSchofield Barracks\\b|\\bSchneverdingen\\b|\\bSchneeberg\\b|\\bSchmelz\\b|\\bSchmargendorf\\b|\\bSchmallenberg\\b|\\bSchmalkalden\\b|\\bSchluchtern\\b|\\bSchleswig\\b|\\bSchkeuditz\\b|\\bSchio\\b|\\bSchiltigheim\\b|\\bSchilde\\b|\\bSchijndel\\b|\\bSchiffweiler\\b|\\bSchifferstadt\\b|\\bSchiedam\\b|\\bSchiebroek\\b|\\bScheveningen\\b|\\bSchertz\\b|\\bSchererville\\b|\\bSchenectady\\b|\\bSchaumburg\\b|\\bSchaffhausen\\b|\\bSceaux\\b|\\bScarsdale\\b|\\bScarborough\\b|\\bScarborough\\b|\\bScarborough\\b|\\bScarborough\\b|\\bScandicci\\b|\\bScampia\\b|\\bScaggsville\\b|\\bScafati\\b|\\bSa'ir\\b|\\bSahab\\b|\\bSahar\\b|\\bSayat\\b|\\bSana\\b|\\bSaida\\b|\\bSayyan\\b|\\bSayville\\b|\\bSayula\\b|\\bSayreville Junction\\b|\\bSayreville\\b|\\bSaynshand\\b|\\bSayhat\\b|\\bSayansk\\b|\\bSayanogorsk\\b|\\bSayama\\b|\\bSawakin\\b|\\bSawai Madhopur\\b|\\bSawara\\b|\\bSawankhalok\\b|\\bSawangan\\b|\\bSawang Daen Din\\b|\\bSave\\b|\\bSavonlinna\\b|\\bSavona\\b|\\bSavigny\\-sur\\-Orge\\b|\\bSavigny\\-le\\-Temple\\b|\\bSavigliano\\b|\\bSavelugu\\b|\\bSavarkundla\\b|\\bSavanur\\b|\\bSavannakhet\\b|\\bSavannah\\b|\\bSavanna\\-la\\-Mar\\b|\\bSavalou\\b|\\bSavage\\b|\\bSava\\b|\\bSausar\\b|\\bSaurimo\\b|\\bSaundatti\\b|\\bSaumur\\b|\\bSault Ste\\. Marie\\b|\\bSaulgau\\b|\\bSaugus\\b|\\bSaugor\\b|\\bSaubara\\b|\\bSatana\\b|\\bSatun\\b|\\bSatuba\\b|\\bSatu Mare\\b|\\bSattur\\b|\\bSattenapalle\\b|\\bSatte\\b|\\bSattahip\\b|\\bSatsumasendai\\b|\\bSatna\\b|\\bSatka\\b|\\bSatita\\b|\\bSatipo\\b|\\bSathyamangalam\\b|\\bSathupalli\\b|\\bSatara\\b|\\bSassuolo\\b|\\bSassenheim\\b|\\bSassari\\b|\\bSassandra\\b|\\bSasovo\\b|\\bSasolburg\\b|\\bSaskatoon\\b|\\bSasel\\b|\\bSasebo\\b|\\bSasayama\\b|\\bSasaguri\\b|\\bSarikamis\\b|\\bSaraqib\\b|\\bSarai Akil\\b|\\bSarai Mir\\b|\\bSarzedo\\b|\\bSarzana\\b|\\bSarykemer\\b|\\bSaryaghash\\b|\\bSarwar\\b|\\bSartrouville\\b|\\bSartell\\b|\\bSarstedt\\b|\\bSarria\\-Sant Gervasi\\b|\\bSarria\\b|\\bSarreguemines\\b|\\bSarpsborg\\b|\\bSarpol\\-e Zahab\\b|\\bSarov\\b|\\bSaronno\\b|\\bSarny\\b|\\bSarno\\b|\\bSarnia\\b|\\bSarkhej\\b|\\bSarkand\\b|\\bSariwon\\b|\\bSarishabari\\b|\\bSarikei\\b|\\bSarigerme\\b|\\bSariaya\\b|\\bSari\\b|\\bSarh\\b|\\bSargodha\\b|\\bSardarshahr\\b|\\bSardulgarh\\b|\\bSardhana\\b|\\bSarcelles\\b|\\bSaraykoy\\b|\\bSaravia\\b|\\bSarauli\\b|\\bSaratov\\b|\\bSaratoga Springs\\b|\\bSaratoga Springs\\b|\\bSaratoga\\b|\\bSarasota\\b|\\bSarapul\\b|\\bSaransk\\b|\\bSarankhola\\b|\\bSarande\\b|\\bSarandi\\b|\\bSarandi\\b|\\bSaran\\b|\\bSaraktash\\b|\\bSarakhs\\b|\\bSarajevo\\b|\\bSaraj\\b|\\bSaraipali\\b|\\bSarai Sidhu\\b|\\bSarai Naurang\\b|\\bSarai Alamgir\\b|\\bSaraburi\\b|\\bSar\\-e Pul\\b|\\bSaquarema\\b|\\bSaqqez\\b|\\bSapulpa\\b|\\bSapucaia\\b|\\bSapporo\\b|\\bSapiranga\\b|\\bSapele\\b|\\bSapanca\\b|\\bSaoula\\b|\\bSaoner\\b|\\bSanawad\\b|\\bSanya\\b|\\bSanxenxo\\b|\\bSantyoku\\b|\\bSantutxu\\b|\\bSanturtzi\\b|\\bSantuario\\b|\\bSants\\-Montjuic\\b|\\bSants \\- Badal\\b|\\bSants\\b|\\bSantos Dumont\\b|\\bSantos\\b|\\bSantomera\\b|\\bSantol\\b|\\bSanto Angelo\\b|\\bSanto Tome\\b|\\bSanto Tome\\b|\\bSanto Tomas\\b|\\bSanto Tomas\\b|\\bSanto Estevao\\b|\\bSanto Domingo de los Colorados\\b|\\bSanto Domingo Tehuantepec\\b|\\bSanto Domingo Oeste\\b|\\bSanto Domingo Este\\b|\\bSanto Domingo\\b|\\bSanto Domingo\\b|\\bSanto Antonio do Monte\\b|\\bSanto Antonio do Amparo\\b|\\bSanto Antonio de Padua\\b|\\bSanto Antonio de Posse\\b|\\bSanto Antonio de Jesus\\b|\\bSanto Antonio da Platina\\b|\\bSanto Antonio dos Olivais\\b|\\bSanto Andre\\b|\\bSanto Anastacio\\b|\\bSanto Amaro da Imperatriz\\b|\\bSanto Amaro\\b|\\bSantiago del Torno\\b|\\bSantiago del Estero\\b|\\bSantiago de los Caballeros\\b|\\bSantiago de las Vegas\\b|\\bSantiago de Veraguas\\b|\\bSantiago de Tolu\\b|\\bSantiago de Surco\\b|\\bSantiago de Queretaro\\b|\\bSantiago de Maria\\b|\\bSantiago de Cuba\\b|\\bSantiago de Compostela\\b|\\bSantiago de Cao\\b|\\bSantiago Tuxtla\\b|\\bSantiago Tulantepec\\b|\\bSantiago Tlacotepec\\b|\\bSantiago Teyahualco\\b|\\bSantiago Sacatepequez\\b|\\bSantiago Papasquiaro\\b|\\bSantiago Momoxpan\\b|\\bSantiago Ixcuintla\\b|\\bSantiago Atitlan\\b|\\bSantiago\\b|\\bSantiago\\b|\\bSantiago\\b|\\bSantiago\\b|\\bSanteramo in Colle\\b|\\bSantee\\b|\\bSantarem\\b|\\bSantarem\\b|\\bSantander de Quilichao\\b|\\bSantander\\b|\\bSantana do Paraiso\\b|\\bSantana do Livramento\\b|\\bSantana do Ipanema\\b|\\bSantana de Parnaiba\\b|\\bSantana\\b|\\bSantaluz\\b|\\bSantafe\\b|\\bSanta Vitoria do Palmar\\b|\\bSanta Uxia de Ribeira\\b|\\bSanta Teresa del Tuy\\b|\\bSanta Teresa\\b|\\bSanta Tecla\\b|\\bSanta Rosa de Viterbo\\b|\\bSanta Rosa de Copan\\b|\\bSanta Rosa de Cabal\\b|\\bSanta Rosa Treinta\\b|\\bSanta Rosa Jauregui\\b|\\bSanta Rosa\\b|\\bSanta Rosa\\b|\\bSanta Rosa\\b|\\bSanta Rosa\\b|\\bSanta Rosa\\b|\\bSanta Rita do Sapucai\\b|\\bSanta Rita do Passa Quatro\\b|\\bSanta Rita\\b|\\bSanta Rita\\b|\\bSanta Quiteria do Maranhao\\b|\\bSanta Quiteria\\b|\\bSanta Pola\\b|\\bSanta Perpetua de Mogoda\\b|\\bSanta Paula\\b|\\bSanta Monica\\b|\\bSanta Maria de Jesus\\b|\\bSanta Maria Totoltepec\\b|\\bSanta Maria Chimalhuacan\\b|\\bSanta Maria Atzompa\\b|\\bSanta Maria Ajoloapan\\b|\\bSanta Marta\\b|\\bSanta Maria da Vitoria\\b|\\bSanta Maria Capua Vetere\\b|\\bSanta Maria\\b|\\bSanta Maria\\b|\\bSanta Maria\\b|\\bSanta Maria\\b|\\bSanta Maria\\b|\\bSanta Luzia\\b|\\bSanta Luzia\\b|\\bSanta Lucia Cotzumalguapa\\b|\\bSanta Lucia\\b|\\bSanta Lucia\\b|\\bSanta Lucia\\b|\\bSanta Lucia\\b|\\bSanta Isabel\\b|\\bSanta Isabel\\b|\\bSanta Iria da Azoia\\b|\\bSanta Ines\\b|\\bSanta Helena de Goias\\b|\\bSanta Helena\\b|\\bSanta Gertrudes\\b|\\bSanta Fe do Sul\\b|\\bSanta Fe Springs\\b|\\bSanta Fe\\b|\\bSanta Fe\\b|\\bSanta Eularia des Riu\\b|\\bSanta Elena de Uairen\\b|\\bSanta Elena\\b|\\bSanta Elena\\b|\\bSanta Cruz do Sul\\b|\\bSanta Cruz do Rio Pardo\\b|\\bSanta Cruz do Capibaribe\\b|\\bSanta Cruz del Sur\\b|\\bSanta Cruz del Quiche\\b|\\bSanta Cruz del Norte\\b|\\bSanta Cruz de la Sierra\\b|\\bSanta Cruz de la Palma\\b|\\bSanta Cruz de Tenerife\\b|\\bSanta Cruz de El Seibo\\b|\\bSanta Cruz de Barahona\\b|\\bSanta Cruz das Palmeiras\\b|\\bSanta Cruz Xoxocotlan\\b|\\bSanta Cruz Cabralia\\b|\\bSanta Cruz\\b|\\bSanta Cruz\\b|\\bSanta Cruz\\b|\\bSanta Cruz\\b|\\bSanta Cruz\\b|\\bSanta Cruz\\b|\\bSanta Coloma de Gramenet\\b|\\bSanta Clarita\\b|\\bSanta Clara\\b|\\bSanta Clara\\b|\\bSanta Cecilia\\b|\\bSanta Catarina Pinula\\b|\\bSanta Catarina\\b|\\bSanta Catalina\\b|\\bSanta Barbara d'Oeste\\b|\\bSanta Barbara\\b|\\bSanta Brigida\\b|\\bSanta Barbara\\b|\\bSanta Barbara\\b|\\bSanta Anita\\b|\\bSanta Ana Xalmimilulco\\b|\\bSanta Ana Chiautempan\\b|\\bSanta Ana\\b|\\bSanta Ana\\b|\\bSanta Ana\\b|\\bSanta Ana\\b|\\bSant'Antonio Abate\\b|\\bSant'Antimo\\b|\\bSant'Anastasia\\b|\\bSant Vicenc dels Horts\\b|\\bSant Quirze del Valles\\b|\\bSant Pere, Santa Caterina i La Ribera\\b|\\bSant Pere de Ribes\\b|\\bSant Marti de Provencals\\b|\\bSant Marti\\b|\\bSant Just Desvern\\b|\\bSant Joan Despi\\b|\\bSant Gervasi \\- Galvany\\b|\\bSant Feliu de Llobregat\\b|\\bSant Feliu de Guixols\\b|\\bSant Cugat del Valles\\b|\\bSant Celoni\\b|\\bSant Carles de la Rapita\\b|\\bSant Boi de Llobregat\\b|\\bSant Antoni de Portmany\\b|\\bSant Antoni\\b|\\bSant Andreu de la Barca\\b|\\bSant Andreu\\b|\\bSant Adria de Besos\\b|\\bSanshui\\b|\\bSansanne\\-Mango\\b|\\bSanok\\b|\\bSano\\b|\\bSannois\\b|\\bSannicandro Garganico\\b|\\bSanming\\b|\\bSanlucar de Barrameda\\b|\\bSankt Wendel\\b|\\bSankt Polten\\b|\\bSankt Peter\\b|\\bSankt Peter\\b|\\bSankt Martin\\b|\\bSankt Leonhard\\b|\\bSankt Ingbert\\b|\\bSankt Gallen\\b|\\bSankt Augustin\\b|\\bSankeshwar\\b|\\bSanjo\\b|\\bSangareddi\\b|\\bSangrur\\b|\\bSangre Grande\\b|\\bSangod\\b|\\bSangmelima\\b|\\bSangla Hill\\b|\\bSangju\\b|\\bSanghar\\b|\\bSangerhausen\\b|\\bSanger\\b|\\bSangaria\\b|\\bSangamner\\b|\\bSang\\-e Charak\\b|\\bSanford\\b|\\bSanford\\b|\\bSanford\\b|\\bSandur\\b|\\bSandikli\\b|\\bSandila\\b|\\bSandyford\\b|\\bSandy Springs\\b|\\bSandy Hills\\b|\\bSandy\\b|\\bSandwip\\b|\\bSandviken\\b|\\bSandusky\\b|\\bSandown\\b|\\bSandomierz\\b|\\bSandnes\\b|\\bSandefjord\\b|\\bSandbach\\b|\\bSandanski\\b|\\bSandalfoot Cove\\b|\\bSandakan\\b|\\bSandacho\\b|\\bSand Springs\\b|\\bSanctorum\\b|\\bSancti Spiritus\\b|\\bSancoale\\b|\\bSanchazi\\b|\\bSancaktepe\\b|\\bSanaur\\b|\\bSanary\\-sur\\-Mer\\b|\\bSanarate\\b|\\bSanandaj\\b|\\bSanaa\\b|\\bSan\\-Pedro\\b|\\bSan Vito dei Normanni\\b|\\bSan Vicente de Tagua Tagua\\b|\\bSan Vicente de Moravia\\b|\\bSan Vicente de Canete\\b|\\bSan Vicente\\b|\\bSan Vicente\\b|\\bSan Vicente\\b|\\bSan Vicente\\b|\\bSan Vicente\\b|\\bSan Vicent del Raspeig\\b|\\bSan Tan Valley\\b|\\bSan Simon\\b|\\bSan Severo\\b|\\bSan Sebastian el Grande\\b|\\bSan Sebastian de los Reyes\\b|\\bSan Sebastian de Mariquita\\b|\\bSan Sebastiano\\b|\\bSan Salvo\\b|\\bSan Salvador de Jujuy\\b|\\bSan Salvador Tizatlalli\\b|\\bSan Salvador El Seco\\b|\\bSan Salvador Atenco\\b|\\bSan Salvador\\b|\\bSan Roque\\b|\\bSan Remo\\b|\\bSan Ramon de la Nueva Oran\\b|\\bSan Ramon\\b|\\bSan Rafael del Sur\\b|\\bSan Rafael Tlanalapan\\b|\\bSan Rafael Oriente\\b|\\bSan Rafael Arriba\\b|\\bSan Rafael Abajo\\b|\\bSan Rafael\\b|\\bSan Rafael\\b|\\bSan Rafael\\b|\\bSan Rafael\\b|\\bSan Pietro a Patierno\\b|\\bSan Pedro del Pinatar\\b|\\bSan Pedro de Macoris\\b|\\bSan Pedro de Lloc\\b|\\bSan Pedro de Jujuy\\b|\\bSan Pedro de Alcantara\\b|\\bSan Pedro Totoltepec\\b|\\bSan Pedro Sula\\b|\\bSan Pedro Sacatepequez\\b|\\bSan Pedro Garza Garcia\\b|\\bSan Pedro Garza Garcia\\b|\\bSan Pedro Ayampuc\\b|\\bSan Pedro\\b|\\bSan Pedro\\b|\\bSan Pedro\\b|\\bSan Pedro\\b|\\bSan Pedro\\b|\\bSan Pedro\\b|\\bSan Pedro\\b|\\bSan Pascual\\b|\\bSan Paolo\\b|\\bSan Pablo de las Salinas\\b|\\bSan Pablo Oztotepec\\b|\\bSan Pablo Jocopilas\\b|\\bSan Pablo Autopan\\b|\\bSan Pablo\\b|\\bSan Pablo\\b|\\bSan Pablo\\b|\\bSan Pa Tong\\b|\\bSan Onofre\\b|\\bSan Nicolas de los Garza\\b|\\bSan Nicolas de los Arroyos\\b|\\bSan Nicolas\\b|\\bSan Nicolas\\b|\\bSan Nicola la Strada\\b|\\bSan Narciso\\b|\\bSan Miniato Basso\\b|\\bSan Miniato\\b|\\bSan Miguelito\\b|\\bSan Miguel el Alto\\b|\\bSan Miguel del Padron\\b|\\bSan Miguel de Tucuman\\b|\\bSan Miguel de Allende\\b|\\bSan Miguel Topilejo\\b|\\bSan Miguel De Abona\\b|\\bSan Miguel Coatlinchan\\b|\\bSan Miguel Ajusco\\b|\\bSan Miguel\\b|\\bSan Miguel\\b|\\bSan Miguel\\b|\\bSan Miguel\\b|\\bSan Miguel\\b|\\bSan Mauro Torinese\\b|\\bSan Mateo Otzacatipan\\b|\\bSan Mateo Huitzilzingo\\b|\\bSan Mateo Atenco\\b|\\bSan Mateo\\b|\\bSan Mateo\\b|\\bSan Mateo\\b|\\bSan Mateo\\b|\\bSan Martin de los Andes\\b|\\bSan Martin de la Vega\\b|\\bSan Martin Cuautlalpan\\b|\\bSan Martin Azcatepec\\b|\\bSan Martin\\b|\\bSan Martin\\b|\\bSan Martin\\b|\\bSan Martin Texmelucan de Labastida\\b|\\bSan Marino\\b|\\bSan Mariano\\b|\\bSan Marcos\\b|\\bSan Marcos\\b|\\bSan Marcos\\b|\\bSan Marcos\\b|\\bSan Marcos\\b|\\bSan Marcos\\b|\\bSan Marcelino\\b|\\bSan Luis del Palmar\\b|\\bSan Luis de la Paz\\b|\\bSan Luis de Since\\b|\\bSan Luis Rio Colorado\\b|\\bSan Luis Potosi\\b|\\bSan Luis Obispo\\b|\\bSan Luis\\b|\\bSan Luis\\b|\\bSan Luis\\b|\\bSan Luis\\b|\\bSan Lucas Sacatepequez\\b|\\bSan Lorenzo de Esmeraldas\\b|\\bSan Lorenzo de El Escorial\\b|\\bSan Lorenzo Acopilco\\b|\\bSan Lorenzo\\b|\\bSan Lorenzo\\b|\\bSan Lorenzo\\b|\\bSan Lorenzo\\b|\\bSan Lorenzo\\b|\\bSan Leonardo\\b|\\bSan Leandro\\b|\\bSan Lazzaro\\b|\\bSan Kamphaeng\\b|\\bSan Justo\\b|\\bSan Juan del Rio\\b|\\bSan Juan del Cesar\\b|\\bSan Juan de los Morros\\b|\\bSan Juan de los Lagos\\b|\\bSan Juan de la Maguana\\b|\\bSan Juan de Dios\\b|\\bSan Juan de Aznalfarache\\b|\\bSan Juan de Alicante\\b|\\bSan Juan Zitlaltepec\\b|\\bSan Juan Sacatepequez\\b|\\bSan Juan Nepomuceno\\b|\\bSan Juan Ixtayopan\\b|\\bSan Juan Capistrano\\b|\\bSan Juan Bautista\\b|\\bSan Juan\\b|\\bSan Juan\\b|\\bSan Juan\\b|\\bSan Juan\\b|\\bSan Juan\\b|\\bSan Jose del Valle\\b|\\bSan Jose del Guaviare\\b|\\bSan Jose del Castillo\\b|\\bSan Jose del Cabo\\b|\\bSan Jose de las Lajas\\b|\\bSan Jose de Ocoa\\b|\\bSan Jose de Mayo\\b|\\bSan Jose de Jachal\\b|\\bSan Jose de Guanipa\\b|\\bSan Jose Pinula\\b|\\bSan Jose Iturbide\\b|\\bSan Jose Guadalupe Otzacatipan\\b|\\bSan Jose\\b|\\bSan Jose\\b|\\bSan Jose del Monte\\b|\\bSan Jose de los Olvera\\b|\\bSan Jose\\b|\\bSan Jose\\b|\\bSan Jose\\b|\\bSan Jorge Pueblo Nuevo\\b|\\bSan Jorge\\b|\\bSan Joaquin\\b|\\bSan Jeronimo Cuatro Vientos\\b|\\bSan Jeronimo Chicahualco\\b|\\bSan Javier\\b|\\bSan Javier\\b|\\bSan Javier\\b|\\bSan Jacinto\\b|\\bSan Jacinto\\b|\\bSan Isidro\\b|\\bSan Isidro\\b|\\bSan Isidro\\b|\\bSan Isidro\\b|\\bSan Isidro\\b|\\bSan Ildefonso\\b|\\bSan Ignacio de Velasco\\b|\\bSan Ignacio\\b|\\bSan Giuseppe Vesuviano\\b|\\bSan Giuliano Milanese\\b|\\bSan Giovanni la Punta\\b|\\bSan Giovanni in Persiceto\\b|\\bSan Giovanni in Fiore\\b|\\bSan Giovanni a Teduccio\\b|\\bSan Giovanni Valdarno\\b|\\bSan Giovanni Rotondo\\b|\\bSan Giovanni Lupatoto\\b|\\bSan Giorgio a Cremano\\b|\\bSan Gil\\b|\\bSan German\\b|\\bSan Gabriel\\b|\\bSan Gabriel\\b|\\bSan Francisco del Rincon\\b|\\bSan Francisco de los Romo\\b|\\bSan Francisco de Macoris\\b|\\bSan Francisco Tlalcilalcalpan\\b|\\bSan Francisco El Alto\\b|\\bSan Francisco Cuaxusco\\b|\\bSan Francisco Acuautla\\b|\\bSan Francisco\\b|\\bSan Francisco\\b|\\bSan Francisco\\b|\\bSan Francisco\\b|\\bSan Francisco\\b|\\bSan Francisco\\b|\\bSan Fernando del Valle de Catamarca\\b|\\bSan Fernando de Monte Cristi\\b|\\bSan Fernando de Henares\\b|\\bSan Fernando de Apure\\b|\\bSan Fernando\\b|\\bSan Fernando\\b|\\bSan Fernando\\b|\\bSan Fernando\\b|\\bSan Fernando\\b|\\bSan Fernando\\b|\\bSan Fernando\\b|\\bSan Ferdinando\\b|\\bSan Felipe\\b|\\bSan Felipe\\b|\\bSan Felipe\\b|\\bSan Felipe\\b|\\bSan Felipe\\b|\\bSan Felice A Cancello\\b|\\bSan Dona di Piave\\b|\\bSan Donato Milanese\\b|\\bSan Dimas\\b|\\bSan Diego\\b|\\bSan Diego\\b|\\bSan Cristobal de las Casas\\b|\\bSan Cristobal Verapaz\\b|\\bSan Cristobal\\b|\\bSan Cristobal\\b|\\bSan Cristobal\\b|\\bSan Clemente\\b|\\bSan Clemente\\b|\\bSan Cataldo\\b|\\bSan Carlos del Zulia\\b|\\bSan Carlos de Bariloche\\b|\\bSan Carlos Park\\b|\\bSan Carlos\\b|\\bSan Carlos\\b|\\bSan Carlos\\b|\\bSan Carlos\\b|\\bSan Carlos\\b|\\bSan Carlos\\b|\\bSan Carlo All'Arena\\b|\\bSan Buenaventura\\b|\\bSan Buenaventura\\b|\\bSan Bruno\\b|\\bSan Borja\\b|\\bSan Borja\\b|\\bSan Bonifacio\\b|\\bSan Blas\\-Canillejas\\b|\\bSan Bernardo\\b|\\bSan Bernardino Tlaxcalancingo\\b|\\bSan Bernardino\\b|\\bSan Benito Abad\\b|\\bSan Benito\\b|\\bSan Benito\\b|\\bSan Benedetto del Tronto\\b|\\bSan Bartolome de Tirajana\\b|\\bSan Bartolome\\b|\\bSan Antonio del Tachira\\b|\\bSan Antonio de los Banos\\b|\\bSan Antonio de la Cal\\b|\\bSan Antonio de Los Altos\\b|\\bSan Antonio Tecomitl\\b|\\bSan Antonio Oeste\\b|\\bSan Antonio Acahualco\\b|\\bSan Antonio\\b|\\bSan Antonio\\b|\\bSan Antonio\\b|\\bSan Antonio\\b|\\bSan Antonio\\b|\\bSan Angelo\\b|\\bSan Andres del Rabanedo\\b|\\bSan Andres Tuxtla\\b|\\bSan Andres Itzapa\\b|\\bSan Andres Cuexcontitlan\\b|\\bSan Andres Cholula\\b|\\bSan Andres\\b|\\bSan\\b|\\bSamastipur\\b|\\bSamalut\\b|\\bSamalkha\\b|\\bSamut Songkhram\\b|\\bSamut Sakhon\\b|\\bSamut Prakan\\b|\\bSamtredia\\b|\\bSamthar\\b|\\bSamsun\\b|\\bSamrala\\b|\\bSamraong\\b|\\bSampues\\b|\\bSampsonievskiy\\b|\\bSampit\\b|\\bSampang\\b|\\bSampaloc\\b|\\bSamokov\\b|\\bSamobor\\b|\\bSammamish\\b|\\bSamho\\-rodongjagu\\b|\\bSamfya\\b|\\bSame\\b|\\bSamdari\\b|\\bSambrial\\b|\\bSamborondon\\b|\\bSambir\\b|\\bSambiase\\b|\\bSambhal\\b|\\bSambava\\b|\\bSambalpur\\b|\\bSamarkand\\b|\\bSamarinda\\b|\\bSamara\\b|\\bSamannud\\b|\\bSamal\\b|\\bSamal\\b|\\bSama\\b|\\bSam Roi Yot\\b|\\bSam Phran\\b|\\bSal'sk\\b|\\bSalaya\\b|\\bSalzwedel\\b|\\bSalzkotten\\b|\\bSalzgitter\\b|\\bSalzburg\\b|\\bSalyan\\b|\\bSalwa\\b|\\bSalvatierra\\b|\\bSalvaleon de Higuey\\b|\\bSalvador\\b|\\bSaluzzo\\b|\\bSaltpond\\b|\\bSalto de Pirapora\\b|\\bSalto\\b|\\bSalto\\b|\\bSaltillo\\b|\\bSaltash\\b|\\bSalta\\b|\\bSalt Lake City\\b|\\bSalt\\b|\\bSalsomaggiore Terme\\b|\\bSalqin\\b|\\bSalou\\b|\\bSalor\\b|\\bSalonta\\b|\\bSalon\\-de\\-Provence\\b|\\bSalo\\b|\\bSalmas\\b|\\bSalmon Creek\\b|\\bSallanches\\b|\\bSalisbury\\b|\\bSalisbury\\b|\\bSalisbury\\b|\\bSalinopolis\\b|\\bSalinas de Hidalgo\\b|\\bSalinas\\b|\\bSalinas\\b|\\bSalinas\\b|\\bSalina Cruz\\b|\\bSalina\\b|\\bSalima\\b|\\bSalihorsk\\b|\\bSalihli\\b|\\bSalgotarjan\\b|\\bSalgueiro\\b|\\bSalford\\b|\\bSalerno\\b|\\bSalem\\b|\\bSalem\\b|\\bSalem\\b|\\bSalem\\b|\\bSalem\\b|\\bSalekhard\\b|\\bSale\\b|\\bSale\\b|\\bSaldanha\\b|\\bSalcedo\\b|\\bSalavat\\b|\\bSalatiga\\b|\\bSalaspils\\b|\\bSalaqi\\b|\\bSalamina\\b|\\bSalama\\b|\\bSalamina\\b|\\bSalamanca\\b|\\bSalamanca\\b|\\bSalamanca\\b|\\bSalah Bey\\b|\\bSalaga\\b|\\bSaladas\\b|\\bSalaberry\\-de\\-Valleyfield\\b|\\bSakete\\b|\\bSakurai\\b|\\bSakura\\b|\\bSaku\\b|\\bSakti\\b|\\bSakrand\\b|\\bSakon Nakhon\\b|\\bSakleshpur\\b|\\bSaki\\b|\\bSaki\\b|\\bSakhnin\\b|\\bSakhipur\\b|\\bSake\\b|\\bSakchu\\-up\\b|\\bSakata\\b|\\bSakassou\\b|\\bSakaraha\\b|\\bSakakah\\b|\\bSakaiminato\\b|\\bSakaidecho\\b|\\bSakai\\-nakajima\\b|\\bSakai\\b|\\bSakai\\b|\\bSakado\\b|\\bSaitama\\b|\\bSaipan\\b|\\bSainthia\\b|\\bSaintes\\b|\\bSainte\\-Therese\\b|\\bSainte\\-Suzanne\\b|\\bSainte\\-Rose\\b|\\bSainte\\-Marie\\b|\\bSainte\\-Marie\\b|\\bSainte\\-Marguerite\\b|\\bSainte\\-Julie\\b|\\bSainte\\-Genevieve\\-des\\-Bois\\b|\\bSainte\\-Foy\\-les\\-Lyon\\b|\\bSainte\\-Catherine\\b|\\bSainte\\-Catherine\\b|\\bSainte\\-Anne\\b|\\bSaint\\-Etienne\\-du\\-Rouvray\\b|\\bSaint\\-Etienne\\b|\\bSaint\\-Egreve\\b|\\bSaint\\-Sebastien\\-sur\\-Loire\\b|\\bSaint\\-Raphael\\b|\\bSaint\\-Raphael\\b|\\bSaint\\-Quentin\\-en\\-Yvelines\\b|\\bSaint\\-Quentin\\b|\\bSaint\\-Priest\\b|\\bSaint\\-Pol\\-sur\\-Mer\\b|\\bSaint\\-Pierre\\-des\\-Corps\\b|\\bSaint\\-Pierre\\b|\\bSaint\\-Pierre\\b|\\bSaint\\-Paul\\b|\\bSaint\\-Ouen\\-l'Aumone\\b|\\bSaint\\-Ouen\\b|\\bSaint\\-Omer\\b|\\bSaint\\-Nicolas\\b|\\bSaint\\-Nazaire\\b|\\bSaint\\-Medard\\-en\\-Jalles\\b|\\bSaint\\-Michel\\-sur\\-Orge\\b|\\bSaint\\-Maximin\\-la\\-Sainte\\-Baume\\b|\\bSaint\\-Maur\\-des\\-Fosses\\b|\\bSaint\\-Martin\\-d'Heres\\b|\\bSaint\\-Marc\\b|\\bSaint\\-Mande\\b|\\bSaint\\-Malo\\b|\\bSaint\\-Lo\\b|\\bSaint\\-Leonard\\b|\\bSaint\\-Loup\\b|\\bSaint\\-Louis\\b|\\bSaint\\-Louis\\b|\\bSaint\\-Louis\\b|\\bSaint\\-Leu\\-la\\-Foret\\b|\\bSaint\\-Leu\\b|\\bSaint\\-Leu\\b|\\bSaint\\-Lazare\\b|\\bSaint\\-Laurent\\-du\\-Var\\b|\\bSaint\\-Laurent\\-du\\-Maroni\\b|\\bSaint\\-Laurent\\b|\\bSaint\\-Jerome\\b|\\bSaint\\-Joseph\\b|\\bSaint\\-Joseph\\b|\\bSaint\\-Jean\\-sur\\-Richelieu\\b|\\bSaint\\-Jean\\-de\\-la\\-Ruelle\\b|\\bSaint\\-Jean\\-de\\-Braye\\b|\\bSaint\\-Hyacinthe\\b|\\bSaint\\-Herblain\\b|\\bSaint\\-Gratien\\b|\\bSaint\\-Ghislain\\b|\\bSaint\\-Germain\\-en\\-Laye\\b|\\bSaint\\-Georges\\b|\\bSaint\\-Genis\\-Laval\\b|\\bSaint\\-Fons\\b|\\bSaint\\-Eustache\\b|\\bSaint\\-Die\\-des\\-Vosges\\b|\\bSaint\\-Dizier\\b|\\bSaint\\-Denis\\b|\\bSaint\\-Denis\\b|\\bSaint\\-Cyr\\-sur\\-Loire\\b|\\bSaint\\-Cyr\\-l'Ecole\\b|\\bSaint\\-Constant\\b|\\bSaint\\-Cloud\\b|\\bSaint\\-Chamond\\b|\\bSaint\\-Bruno\\-de\\-Montarville\\b|\\bSaint\\-Brieuc\\b|\\bSaint\\-Benoit\\b|\\bSaint\\-Basile\\-le\\-Grand\\b|\\bSaint\\-Barthelemy\\b|\\bSaint\\-Avold\\b|\\bSaint\\-Avertin\\b|\\bSaint\\-Augustin\\-de\\-Desmaures\\b|\\bSaint\\-Andre\\b|\\bSaint\\-Amand\\-les\\-Eaux\\b|\\bSaint Thomas Mount\\b|\\bSaint Pierre\\b|\\bSaint Petersburg\\b|\\bSaint Peters\\b|\\bSaint Peters\\b|\\bSaint Peter Port\\b|\\bSaint Paul\\b|\\bSaint Neots\\b|\\bSaint Michael\\b|\\bSaint Matthews\\b|\\bSaint Louis Park\\b|\\bSaint Kilda\\b|\\bSaint Joseph\\b|\\bSaint John's\\b|\\bSaint John\\b|\\bSaint Ives\\b|\\bSaint Helier\\b|\\bSaint George's\\b|\\bSaint George\\b|\\bSaint Croix\\b|\\bSaint Cloud\\b|\\bSaint Cloud\\b|\\bSaint Clair Shores\\b|\\bSaint Charles\\b|\\bSaint Charles\\b|\\bSaint Charles\\b|\\bSaint Andrews\\b|\\bSaint Andrews\\b|\\bSaint Albans\\b|\\bSaiki\\b|\\bSaijo\\b|\\bSaiha\\b|\\bSaidpur\\b|\\bSaidpur\\b|\\bSahawar\\b|\\bSaharanpur\\b|\\bSahuayo de Morelos\\b|\\bSahuarita\\b|\\bSahiwal\\b|\\bSahiwal\\b|\\bSahavato\\b|\\bSahaswan\\b|\\bSahaspur\\b|\\bSaharsa\\b|\\bSahagun\\b|\\bSagunto\\b|\\bSaguenay\\b|\\bSagua la Grande\\b|\\bSagua de Tanamo\\b|\\bSagrada Familia\\b|\\bSaginaw Township North\\b|\\bSaginaw\\b|\\bSaginaw\\b|\\bSagay\\b|\\bSagauli\\b|\\bSagara\\b|\\bSagalo\\b|\\bSagaing\\b|\\bSagae\\b|\\bSaga\\b|\\bSafipur\\b|\\bSafranbolu\\b|\\bSafonovo\\b|\\bSafidon\\b|\\bSafi\\b|\\bSafi\\b|\\bSaffron Walden\\b|\\bSafety Harbor\\b|\\bSafed\\b|\\bSafaga\\b|\\bSadaseopet\\b|\\bSadabad\\b|\\bSaddiqabad\\b|\\bSadao\\b|\\bSadalgi\\b|\\bSadabe\\b|\\bSacramento\\b|\\bSacramento\\b|\\bSaco\\b|\\bSacile\\b|\\bSachsenheim\\b|\\bSachse\\b|\\bSacavem\\b|\\bSacaba\\b|\\bSabzevar\\b|\\bSabuncu\\b|\\bSablayan\\b|\\bSabirabad\\b|\\bSabinas\\b|\\bSabha\\b|\\bSabanitas\\b|\\bSabang\\b|\\bSabaneta\\b|\\bSabaneta\\b|\\bSabanalarga\\b|\\bSabanagrande\\b|\\bSabana Grande de Boya\\b|\\bSabalgarh\\b|\\bSabak Bernam\\b|\\bSabae\\b|\\bSabadell\\b|\\bSaatli\\b|\\bSaarlouis\\b|\\bSaarbrucken\\b|\\bSaalfeld\\b|\\bSa'dah\\b|\\bSa Kaeo\\b|\\bSa Dec\\b|\\bRach Gia\\b|\\bRudsar\\b|\\bRudarpur\\b|\\bRingas\\b|\\bRezekne\\b|\\bRadauti\\b|\\bRazam\\b|\\bRazampeta\\b|\\bRaybag\\b|\\bRayadrug\\b|\\bRayachoti\\b|\\bRaya\\b|\\bRawatsar\\b|\\bRawatbhata\\b|\\bRaver\\b|\\bRavar\\b|\\bRath\\b|\\bRapar\\b|\\bRanipur\\b|\\bRaniganj\\b|\\bRanibennur\\b|\\bRanavav\\b|\\bRanaghat\\b|\\bRanikhet\\b|\\bRania\\b|\\bRamapuram\\b|\\bRamtek\\b|\\bRamshir\\b|\\bRampura\\b|\\bRampura\\b|\\bRampur\\b|\\bRampur\\b|\\bRamnagar\\b|\\bRamnagar\\b|\\bRamnagar\\b|\\bRamjibanpur\\b|\\bRamhormoz\\b|\\bRamgundam\\b|\\bRamgarh\\b|\\bRamgarh\\b|\\bRamganj Mandi\\b|\\bRamganj\\b|\\bRamachandrapuram\\b|\\bRajura\\b|\\bRajakhera\\b|\\bRajula\\b|\\bRajshahi\\b|\\bRajsamand\\b|\\bRajpipla\\b|\\bRajpura\\b|\\bRajmahal\\b|\\bRajkot\\b|\\bRajgir\\b|\\bRajgurunagar\\b|\\bRajgarh\\b|\\bRajgarh\\b|\\bRajgarh\\b|\\bRajgarh\\b|\\bRajbiraj\\b|\\bRajaldesar\\b|\\bRajahmundry\\b|\\bRaj\\-Nandgaon\\b|\\bRaisinghnagar\\b|\\bRaipur\\b|\\bRaipur\\b|\\bRaikot\\b|\\bRaiganj\\b|\\bRaichur\\b|\\bRahuri\\b|\\bRahatgarh\\b|\\bRaghogarh\\b|\\bRadhanpur\\b|\\bRabigh\\b|\\bRusselsheim\\b|\\bRodovre\\b|\\bRosrath\\b|\\bRozanka\\-Polanka\\b|\\bRodos\\b|\\bRibnita\\b|\\bRio de Teapa\\b|\\bRio Tercero\\b|\\bRio Segundo\\b|\\bRio Guayabal de Yateras\\b|\\bRio Grande\\b|\\bRio Grande\\b|\\bRio Grande\\b|\\bRio Gallegos\\b|\\bRio Cuarto\\b|\\bRio Ceballos\\b|\\bRio Cauto\\b|\\bRio Bueno\\b|\\bRio Blanco\\b|\\bRio Blanco\\b|\\bRio Abajo\\b|\\bReo\\b|\\bRemire\\-Montjoly\\b|\\bRasunda\\b|\\bRasnov\\b|\\bRas el Oued\\b|\\bRas el Aioun\\b|\\bRamnicu Valcea\\b|\\bRamnicu Sarat\\b|\\bRzhev\\b|\\bRzeszow\\b|\\bRyuo\\b|\\bRyugasaki\\b|\\bRyotsu\\-minato\\b|\\bRyton\\b|\\bRypin\\b|\\bRyl'sk\\b|\\bRye\\b|\\bRydultowy\\b|\\bRyde\\b|\\bRyde\\b|\\bRybnoye\\b|\\bRybnik\\b|\\bRybinsk\\b|\\bRybatskoye\\b|\\bRyazhsk\\b|\\bRyazan'\\b|\\bRyazanskiy\\b|\\bRwamagana\\b|\\bRuzomberok\\b|\\bRuzayevka\\b|\\bRuyigi\\b|\\bRuy Barbosa\\b|\\bRuwandiz\\b|\\bRuwa\\b|\\bRuvo di Puglia\\b|\\bRutland\\b|\\bRutigliano\\b|\\bRutherglen\\b|\\bRutherford\\b|\\bRuteng\\b|\\bRutana\\b|\\bRust'avi\\b|\\bRustaq\\b|\\bRuston\\b|\\bRustenburg\\b|\\bRustaq\\b|\\bRussellville\\b|\\bRusseifa\\b|\\bRussas\\b|\\bRuskin\\b|\\bRushden\\b|\\bRusera\\b|\\bRuse\\b|\\bRusape\\b|\\bRura\\b|\\bRuning\\b|\\bRundu\\b|\\bRuncorn\\b|\\bRumphi\\b|\\bRumoi\\b|\\bRummelsburg\\b|\\bRumia\\b|\\bRumbek\\b|\\bRuma\\b|\\bRulenge\\b|\\bRukban\\b|\\bRujewa\\b|\\bRuislip\\b|\\bRugeley\\b|\\bRugby\\b|\\bRufino\\b|\\bRueil\\-Malmaison\\b|\\bRudow\\b|\\bRudolstadt\\b|\\bRudnyy\\b|\\bRuda Slaska\\b|\\bRubi\\b|\\bRubtsovsk\\b|\\bRublevo\\b|\\bRubizhne\\b|\\bRubio\\b|\\bRubidoux\\b|\\bRubiataba\\b|\\bRtishchevo\\b|\\bRosiorii de Vede\\b|\\bRoznava\\b|\\bRoznov pod Radhostem\\b|\\bRozzano\\b|\\bRozdil'na\\b|\\bRoyton\\b|\\bRoyston\\b|\\bRoyan\\b|\\bRoyal Tunbridge Wells\\b|\\bRoyal Palm Beach\\b|\\bRoyal Oak\\b|\\bRoyal Leamington Spa\\b|\\bRoy\\b|\\bRoxburgh Park\\b|\\bRoxas City\\b|\\bRoxas\\b|\\bRoxas\\b|\\bRowville\\b|\\bRowlett\\b|\\bRowland Heights\\b|\\bRovigo\\b|\\bRovereto\\b|\\bRoven'ky\\b|\\bRovaniemi\\b|\\bRouyn\\-Noranda\\b|\\bRound Rock\\b|\\bRound Lake Beach\\b|\\bRound Lake\\b|\\bRouissat\\b|\\bRouiba\\b|\\bRouen\\b|\\bRoubaix\\b|\\bRouached\\b|\\bRottweil\\b|\\bRottingdean\\b|\\bRotterdam\\b|\\bRotterdam\\b|\\bRottenburg\\b|\\bRotselaar\\b|\\bRotorua\\b|\\bRotherham\\b|\\bRoth\\b|\\bRotenburg\\b|\\bRota\\b|\\bRosario do Sul\\b|\\bRoswell\\b|\\bRoswell\\b|\\bRostov\\-na\\-Donu\\b|\\bRostov\\b|\\bRostokino\\b|\\bRostock\\b|\\bRossville\\b|\\bRossville\\b|\\bRossosh'\\b|\\bRossosh'\\b|\\bRosso\\b|\\bRossendale\\b|\\bRossano Stazione\\b|\\bRosolini\\b|\\bRosny\\-sous\\-Bois\\b|\\bRoslavl'\\b|\\bRoskilde\\b|\\bRosignano Solvay\\-Castiglioncello\\b|\\bRoshal'\\b|\\bRosh Ha'Ayin\\b|\\bRoseville\\b|\\bRoseville\\b|\\bRoseville\\b|\\bRosetta\\b|\\bRoseto degli Abruzzi\\b|\\bRoses\\b|\\bRosenheim\\b|\\bRosenberg\\b|\\bRosemount\\b|\\bRosemont\\b|\\bRosemead\\b|\\bRoselle\\b|\\bRoselle\\b|\\bRosedale\\b|\\bRosedale\\b|\\bRoseburg\\b|\\bRoseau\\b|\\bRose Hill\\b|\\bRosarito\\b|\\bRosario\\b|\\bRosamond\\b|\\bRosa Zarate\\b|\\bRoquetas de Mar\\b|\\bRopczyce\\b|\\bRopar\\b|\\bRoosevelt\\b|\\bRoosendaal\\b|\\bRoorkee\\b|\\bRoodepoort\\b|\\bRonse\\b|\\bRonnenberg\\b|\\bRonkonkoma\\b|\\bRongai\\b|\\bRondonopolis\\b|\\bRondebosch\\b|\\bRonda\\b|\\bRonchin\\b|\\bRon Phibun\\b|\\bRon\\b|\\bRomulus\\b|\\bRomsey\\b|\\bRomorantin\\-Lanthenay\\b|\\bRomny\\b|\\bRomita\\b|\\bRomford\\b|\\bRomeoville\\b|\\bRome\\b|\\bRome\\b|\\bRome\\b|\\bRomblon\\b|\\bRomans\\-sur\\-Isere\\b|\\bRomano di Lombardia\\b|\\bRomano Banco\\b|\\bRoman\\b|\\bRomainville\\b|\\bRolandia\\b|\\bRolling Meadows\\b|\\bRolla\\b|\\bRoldanillo\\b|\\bRolante\\b|\\bRokiskis\\b|\\bRojales\\b|\\bRoissy\\-en\\-Brie\\b|\\bRoi Et\\b|\\bRohtak\\b|\\bRohri\\b|\\bRohnert Park\\b|\\bRohini\\b|\\bRoha\\b|\\bRogers Park\\b|\\bRogers\\b|\\bRoeselare\\b|\\bRoermond\\b|\\bRodriguez\\b|\\bRodolfo Sanchez Taboada\\b|\\bRodniki\\b|\\bRodgau\\b|\\bRodez\\b|\\bRodas\\b|\\bRocky River\\b|\\bRocky Mount\\b|\\bRockwall\\b|\\bRockville Centre\\b|\\bRockville\\b|\\bRocklin\\b|\\bRockledge\\b|\\bRockland\\b|\\bRockingham\\b|\\bRockhampton\\b|\\bRockford\\b|\\bRockdale\\b|\\bRock Springs\\b|\\bRock Island\\b|\\bRock Hill\\b|\\bRock Forest\\b|\\bRochford\\b|\\bRochester Hills\\b|\\bRochester\\b|\\bRochester\\b|\\bRochester\\b|\\bRochester\\b|\\bRochefort\\b|\\bRochedale South\\b|\\bRochdale\\b|\\bRocha\\b|\\bRocca di Papa\\b|\\bRobit\\b|\\bRobat Karim\\b|\\bRobina\\b|\\bRobertsonpet\\b|\\bRobertson\\b|\\bRobertsganj\\b|\\bRobbah\\b|\\bRoanoke Rapids\\b|\\bRoanoke\\b|\\bRoanne\\b|\\bRoad Town\\b|\\bRizhao\\b|\\bRize\\b|\\bRizal\\b|\\bRiyadh\\b|\\bRixensart\\b|\\bRivoli\\b|\\bRivne\\b|\\bRiviere\\-du\\-Loup\\b|\\bRiviera Beach\\b|\\bRiverview\\b|\\bRiverton\\b|\\bRiverside\\b|\\bRiverside\\b|\\bRiversdale\\b|\\bRiverlea\\b|\\bRiverdale\\b|\\bRiverbank\\b|\\bRivera\\b|\\bRiver Falls\\b|\\bRivas\\-Vaciamadrid\\b|\\bRivas\\b|\\bRisod\\b|\\bRishikesh\\b|\\bRishra\\b|\\bRishon LeZiyyon\\b|\\bRisca\\b|\\bRisalpur Cantonment\\b|\\bRis\\-Orangis\\b|\\bRipon\\b|\\bRipon\\b|\\bRipollet\\b|\\bRipley\\b|\\bRioverde\\b|\\bRiosucio\\b|\\bRionegro\\b|\\bRiom\\b|\\bRioja\\b|\\bRiohacha\\b|\\bRiobamba\\b|\\bRio do Sul\\b|\\bRio de Mouro\\b|\\bRio de Janeiro\\b|\\bRio das Pedras\\b|\\bRio das Ostras\\b|\\bRio Verde de Mato Grosso\\b|\\bRio Verde\\b|\\bRio Tinto\\b|\\bRio Rico\\b|\\bRio Real\\b|\\bRio Rancho\\b|\\bRio Preto da Eva\\b|\\bRio Pardo\\b|\\bRio Negro\\b|\\bRio Negrinho\\b|\\bRio Linda\\b|\\bRio Largo\\b|\\bRio Grande da Serra\\b|\\bRio Grande\\b|\\bRio Formoso\\b|\\bRio Claro\\b|\\bRio Claro\\b|\\bRio Brilhante\\b|\\bRio Branco do Sul\\b|\\bRio Branco\\b|\\bRio Bonito\\b|\\bRinteln\\b|\\bRingwood\\b|\\bRingsted\\b|\\bRincon de la Victoria\\b|\\bRincon de Romos\\b|\\bRimouski\\b|\\bRimini\\b|\\bRimavska Sobota\\b|\\bRillieux\\-la\\-Pape\\b|\\bRikaze\\b|\\bRijswijk\\b|\\bRijen\\b|\\bRijeka\\b|\\bRijau\\b|\\bRiihimaki\\b|\\bRiga\\b|\\bRifu\\b|\\bRieti\\b|\\bRietberg\\b|\\bRiesa\\b|\\bRiemst\\b|\\bRiehen\\b|\\bRiegelsberg\\b|\\bRiedstadt\\b|\\bRidgewood\\b|\\bRidgewood\\b|\\bRidgeland\\b|\\bRidgecrest\\b|\\bRidderkerk\\b|\\bRidder\\b|\\bRichmond West\\b|\\bRichmond Hill\\b|\\bRichmond Hill\\b|\\bRichmond\\b|\\bRichmond\\b|\\bRichmond\\b|\\bRichmond\\b|\\bRichmond\\b|\\bRichmond\\b|\\bRichmond\\b|\\bRichland\\b|\\bRichha\\b|\\bRichfield\\b|\\bRichardson\\b|\\bRichards Bay\\b|\\bRichard\\-Toll\\b|\\bRiccione\\b|\\bRibnitz\\-Damgarten\\b|\\bRiberalta\\b|\\bRibera\\b|\\bRibeirao das Neves\\b|\\bRibeirao da Ilha\\b|\\bRibeirao Preto\\b|\\bRibeirao Pires\\b|\\bRibeirao\\b|\\bRibeira do Pombal\\b|\\bRibeira\\b|\\bRibarroja del Turia\\b|\\bRialto\\b|\\bRiachao do Jacuipe\\b|\\bRhyl\\b|\\bRhosllanerchrugog\\b|\\bRhoon\\b|\\bRhondda\\b|\\bRho\\b|\\bRhenen\\b|\\bRheinstetten\\b|\\bRheinfelden\\b|\\bRheine\\b|\\bRheinberg\\b|\\bRheinbach\\b|\\bRhede\\b|\\bRheda\\-Wiedenbruck\\b|\\bRehovot\\b|\\bResita\\b|\\bRecani\\b|\\bReze\\b|\\bRezh\\b|\\bReynosa\\b|\\bReynoldsburg\\b|\\bReykjavik\\b|\\bReyhanli\\b|\\bReyes Acozac\\b|\\bRexburg\\b|\\bRewari\\b|\\bRewa\\b|\\bRevere\\b|\\bRevelganj\\b|\\bRevda\\b|\\bReutov\\b|\\bReutlingen\\b|\\bReus\\b|\\bReuleuet\\b|\\bRetreat\\b|\\bRetiro\\b|\\bRetiro\\b|\\bRethymno\\b|\\bRetford\\b|\\bRetalhuleu\\b|\\bReston\\b|\\bRessano Garcia\\b|\\bResplendor\\b|\\bResistencia\\b|\\bReservoir\\b|\\bResende\\b|\\bResen\\b|\\bRequena\\b|\\bRepublic\\b|\\bRepentigny\\b|\\bRepelon\\b|\\bRepalle\\b|\\bReoti\\b|\\bRenukut\\b|\\bRenton\\b|\\bRenqiu\\b|\\bReno\\b|\\bRenningen\\b|\\bRennes\\b|\\bRenigunta\\b|\\bReni\\b|\\bRengo\\b|\\bRengasdengklok\\b|\\bRenfrew\\b|\\bRenens\\b|\\bRendsburg\\b|\\bRenala Khurd\\b|\\bRemuna\\b|\\bRemscheid\\b|\\bRemedios\\b|\\bRemchi\\b|\\bRembertow\\b|\\bRembangan\\b|\\bRemagen\\b|\\bRelizane\\b|\\bRejon ulicy Traugutta\\b|\\bRejon placu Swietego Macieja\\b|\\bRejon placu Grunwaldzkiego\\b|\\bReitz\\b|\\bReisterstown\\b|\\bReinickendorf\\b|\\bReinheim\\b|\\bReinbek\\b|\\bReims\\b|\\bReigate\\b|\\bReichenbach/Vogtland\\b|\\bRehoboth\\b|\\bRehnan\\b|\\bRehli\\b|\\bReguiba\\b|\\bRego Park\\b|\\bRegla\\b|\\bRegistro\\b|\\bRegina\\b|\\bReghin\\-Sat\\b|\\bReghaia\\b|\\bReggio nell'Emilia\\b|\\bReggio Calabria\\b|\\bReggane\\b|\\bRegente Feijo\\b|\\bRegensburg\\b|\\bReftinskiy\\b|\\bReforma\\b|\\bRees\\b|\\bReef Al Fujairah City\\b|\\bReedley\\b|\\bRedwood City\\b|\\bRedruth\\b|\\bRedondo Beach\\b|\\bRedondela\\b|\\bRedmond\\b|\\bRedmond\\b|\\bRedlands\\b|\\bRedland\\b|\\bRedhill\\b|\\bRedford\\b|\\bRedencao\\b|\\bRedditch\\b|\\bRedding\\b|\\bRedcliff\\b|\\bRedcar\\b|\\bRedbank Plains\\b|\\bRedan\\b|\\bReda\\b|\\bRed Wing\\b|\\bRed Deer\\b|\\bReconquista\\b|\\bRecodo\\b|\\bRecklinghausen\\b|\\bRecife\\b|\\bRechytsa\\b|\\bRealejo Alto\\b|\\bReading\\b|\\bReading\\b|\\bReading\\b|\\bRa's Bayrut\\b|\\bRahimah\\b|\\bRazumnoye\\b|\\bRazgrad\\b|\\bRaytown\\b|\\bRayside\\-Balfour\\b|\\bRayong\\b|\\bRaymore\\b|\\bRayleigh\\b|\\bRayevskiy\\b|\\bRaychikhinsk\\b|\\bRaxaul\\b|\\bRawtenstall\\b|\\bRawson\\b|\\bRawmarsh\\b|\\bRawicz\\b|\\bRawang\\b|\\bRawalpindi\\b|\\bRawala Kot\\b|\\bRawa Mazowiecka\\b|\\bRavensburg\\b|\\bRavenna\\b|\\bRaurkela\\b|\\bRauma\\b|\\bRaub\\b|\\bRatodero\\b|\\bRatnapura\\b|\\bRatnagiri\\b|\\bRatlam\\b|\\bRatingen\\b|\\bRatia\\b|\\bRathenow\\b|\\bRatekau\\b|\\bRatchaburi\\b|\\bRatanpur\\b|\\bRatangarh\\b|\\bRastede\\b|\\bRastatt\\b|\\bRasskazovo\\b|\\bRasra\\b|\\bRasipuram\\b|\\bRasht\\b|\\bRas Gharib\\b|\\bRas Al Khaimah City\\b|\\bRapperswil\\b|\\bRapid City\\b|\\bRapallo\\b|\\bRaojan\\b|\\bRantepao\\b|\\bRantauprapat\\b|\\bRanst\\b|\\bRanot\\b|\\bRanong\\b|\\bRano\\b|\\bRanipur\\b|\\bRangapara\\b|\\bRangpur\\b|\\bRangkasbitung\\b|\\bRangia\\b|\\bRandwick\\b|\\bRandudongkal\\b|\\bRandolph\\b|\\bRandolph\\b|\\bRandfontein\\b|\\bRanders\\b|\\bRandburg\\b|\\bRandallstown\\b|\\bRanchuelo\\b|\\bRancho Santa Margarita\\b|\\bRancho San Diego\\b|\\bRancho Penasquitos\\b|\\bRancho Palos Verdes\\b|\\bRancho Mirage\\b|\\bRancho La Gloria\\b|\\bRancho Cucamonga\\b|\\bRancho Cordova\\b|\\bRanchi\\b|\\bRancharia\\b|\\bRancagua\\b|\\bRanau\\b|\\bRamsgate\\b|\\bRamsey\\b|\\bRamsey\\b|\\bRamsbottom\\b|\\bRampur Hat\\b|\\bRampachodavaram\\b|\\bRamotswa\\b|\\bRamos Arizpe\\b|\\bRamos\\b|\\bRamona\\b|\\bRamon\\b|\\bRamla\\b|\\bRameswaram\\b|\\bRamenskoye\\b|\\bRamenki\\b|\\bRambouillet\\b|\\bRamat HaSharon\\b|\\bRamat Gan\\b|\\bRamanayyapeta\\b|\\bRamanathapuram\\b|\\bRamallah\\b|\\bRamagundam\\b|\\bRamadi\\b|\\bRamada\\b|\\bRaleigh\\b|\\bRakvere\\b|\\bRakovski\\b|\\bRakovnik\\b|\\bRajpur\\b|\\bRajpur\\b|\\bRajin\\b|\\bRajapolah\\b|\\bRajapalaiyam\\b|\\bRajaori\\b|\\bRajanpur\\b|\\bRaja Jang\\b|\\bRaiwind\\b|\\bRaisio\\b|\\bRaisen\\b|\\bRaipur\\b|\\bRaipur\\b|\\bRaigarh\\b|\\bRahway\\b|\\bRahimatpur\\b|\\bRahim Yar Khan\\b|\\bRahden\\b|\\bRahat\\b|\\bRahachow\\b|\\bRagusa\\b|\\bRaghunathpur\\b|\\bRafsanjan\\b|\\bRafiganj\\b|\\bRafah\\b|\\bRafaela\\b|\\bRaebareli\\b|\\bRades\\b|\\bRadzyn Podlaski\\b|\\bRadzionkow\\b|\\bRadviliskis\\b|\\bRaduzhnyy\\b|\\bRaduzhny\\b|\\bRadovis\\b|\\bRadomyshl\\b|\\bRadomsko\\b|\\bRadom\\b|\\bRadolfzell\\b|\\bRadnor\\b|\\bRadlin\\b|\\bRadford\\b|\\bRadevormwald\\b|\\bRadebeul\\b|\\bRadeberg\\b|\\bRadcliffe\\b|\\bRadcliff\\b|\\bRacine\\b|\\bRaciborz\\b|\\bRabkavi\\b|\\bRabat\\b|\\bRabak\\b|\\bRaalte\\b|\\bRaahe\\b|\\bRa\\-ngae\\b|\\bRa'anana\\b|\\bRMI Capitol\\b|\\bQushkupir\\b|\\bQurghonteppa\\b|\\bQuchan\\b|\\bQir Moav\\b|\\bQa'en\\b|\\bQarah\\b|\\bQadian\\b|\\bQuang Ngai\\b|\\bQutur\\b|\\bQuibor\\b|\\bQuebec\\b|\\bQuzhou\\b|\\bQuwaysina\\b|\\bQuvasoy\\b|\\bQuva\\b|\\bQuthing\\b|\\bQuthbullapur\\b|\\bQusar\\b|\\bQurayyat\\b|\\bQulsary\\b|\\bQujing\\b|\\bQuixeramobim\\b|\\bQuixada\\b|\\bQuito\\b|\\bQuitilipi\\b|\\bQuisqueya\\b|\\bQuirinopolis\\b|\\bQuinte West\\b|\\bQuinta Do Conde\\b|\\bQuincy\\b|\\bQuincy\\b|\\bQuimper\\b|\\bQuimbaya\\b|\\bQuilpue\\b|\\bQuilmes\\b|\\bQuillota\\b|\\bQuillacollo\\b|\\bQuickborn\\b|\\bQuibdo\\b|\\bQuiapo\\b|\\bQui Nhon\\b|\\bQufu\\b|\\bQuezon City\\b|\\bQuezon\\b|\\bQuezon\\b|\\bQuezaltepeque\\b|\\bQuevedo\\b|\\bQuetzaltenango\\b|\\bQuetta\\b|\\bQuesada\\b|\\bQuerecotillo\\b|\\bQueluz\\b|\\bQuellon\\b|\\bQuelimane\\b|\\bQueimados\\b|\\bQueenstown\\b|\\bQueensdale\\b|\\bQueensbury\\b|\\bQueens Village\\b|\\bQueens\\b|\\bQueen Creek\\b|\\bQuedlinburg\\b|\\bQuba\\b|\\bQuattromiglia\\b|\\bQuatro Barras\\b|\\bQuatre Bornes\\b|\\bQuartu Sant'Elena\\b|\\bQuarto\\b|\\bQuarteira\\b|\\bQuart de Poblet\\b|\\bQuaregnon\\b|\\bQuarai\\b|\\bQuanzhou\\b|\\bQualiano\\b|\\bQuakers Hill\\b|\\bQo'rg'ontepa\\b|\\bQo'qon\\b|\\bQoryooley\\b|\\bQorveh\\b|\\bQormi\\b|\\bQom\\b|\\bQiryat Yam\\b|\\bQiryat Shemona\\b|\\bQiryat Mozqin\\b|\\bQiryat Gat\\b|\\bQiryat Bialik\\b|\\bQiryat Ata\\b|\\bQiqihar\\b|\\bQiongshan\\b|\\bQionghu\\b|\\bQionghai\\b|\\bQina\\b|\\bQinzhou\\b|\\bQinnan\\b|\\bQinhuangdao\\b|\\bQingzhou\\b|\\bQingyuan\\b|\\bQingyang\\b|\\bQingquan\\b|\\bQingnian\\b|\\bQinggang\\b|\\bQingdao\\b|\\bQibray\\b|\\bQianzhou\\b|\\bQianjiang\\b|\\bQeshm\\b|\\bQatana\\b|\\bQasr\\-e Qand\\b|\\bQazvin\\b|\\bQazax\\b|\\bQarawul\\b|\\bQaryat Suluq\\b|\\bQarshi\\b|\\bQarqin\\b|\\bQarchak\\b|\\bQaracuxur\\b|\\bQarah Zia' od Din\\b|\\bQapqal\\b|\\bQandala\\b|\\bQamdo\\b|\\bQal'at Bishah\\b|\\bQalyub\\b|\\bQalqilyah\\b|\\bQalansuwa\\b|\\bQaisumah\\b|\\bQahderijan\\b|\\bQadirpur Ran\\b|\\bQacha's Nek\\b|\\bQabatiyah\\b|\\bP'yongsong\\b|\\bP'ot'i\\b|\\bPurna\\b|\\bPuranpur\\b|\\bPunahana\\b|\\bPundri\\b|\\bPunch\\b|\\bPribram\\b|\\bPrerov\\b|\\bPlonsk\\b|\\bPlock\\b|\\bPishva\\b|\\bPirgaaj\\b|\\bPipar\\b|\\bPipri\\b|\\bPilibhit\\b|\\bPavugada\\b|\\bPaveh\\b|\\bPatur\\b|\\bPathri\\b|\\bPathardih\\b|\\bPathardi\\b|\\bPatan\\b|\\bPatan\\b|\\bPasargad\\b|\\bPasighat\\b|\\bParvatipuram\\b|\\bParsabad\\b|\\bPardi\\b|\\bPar Naogaon\\b|\\bPappinissheri\\b|\\bPaonta Sahib\\b|\\bPanipat\\b|\\bPanihati\\b|\\bPandhurna\\b|\\bPanchla\\b|\\bPaloncha\\b|\\bPalkonda\\b|\\bPalitana\\b|\\bPali\\b|\\bPali\\b|\\bPalghat\\b|\\bPalghar\\b|\\bPalanpur\\b|\\bPalang\\b|\\bPalakollu\\b|\\bPalakkodu\\b|\\bPakala\\b|\\bPadegan\\-e Manjil\\b|\\bPachora\\b|\\bPabna\\b|\\bPyrgos\\b|\\bPuttlingen\\b|\\bPuspokladany\\b|\\bPuchov\\b|\\bPosto Fiscal Rolim de Moura\\b|\\bPo\\b|\\bPovoa de Varzim\\b|\\bPovoa de Santa Iria\\b|\\bPorticos de San Antonio\\b|\\bPisek\\b|\\bPetionville\\b|\\bPeruwelz\\b|\\bPerigueux\\b|\\bPerez\\b|\\bPerama\\b|\\bPenjamo\\b|\\bPefki\\b|\\bPecs\\b|\\bParnu\\b|\\bPatzcuaro\\b|\\bPatra\\b|\\bPapa\\b|\\bPanuco\\b|\\bPajara\\b|\\bPyu\\b|\\bPyt\\-Yakh\\b|\\bPyskowice\\b|\\bPyryatyn\\b|\\bPyongyang\\b|\\bPylaia\\b|\\bPyinmana\\b|\\bPyin Oo Lwin\\b|\\bPyay\\b|\\bPyatigorsk\\b|\\bPyapon\\b|\\bPultusk\\b|\\bPulawy\\b|\\bPucol\\b|\\bPuyo\\b|\\bPuyang Chengguanzhen\\b|\\bPuyang\\b|\\bPuyallup\\b|\\bPuurs\\b|\\bPutyvl'\\b|\\bPuttur\\b|\\bPuttur\\b|\\bPutten\\b|\\bPutte\\b|\\bPuttalam\\b|\\bPutrajaya\\b|\\bPutra Heights\\b|\\bPutignano\\b|\\bPutian\\b|\\bPuthia\\b|\\bPuteaux\\b|\\bPutatan\\b|\\bPushkino\\b|\\bPushkino\\b|\\bPushkin\\b|\\bPushkar\\b|\\bPushchino\\b|\\bPusad\\b|\\bPurisima de Bustos\\b|\\bPurwa\\b|\\bPurwokerto\\b|\\bPurwodadi\\b|\\bPurwakarta\\b|\\bPuruandiro\\b|\\bPuruliya\\b|\\bPursat\\b|\\bPurral\\b|\\bPurnia\\b|\\bPurmerend\\b|\\bPurley\\b|\\bPuri\\b|\\bPurbalingga\\b|\\bPuqi\\b|\\bPupri\\b|\\bPunasa\\b|\\bPunakha\\b|\\bPunto Fijo\\b|\\bPuntarenas\\b|\\bPunta Gorda Isles\\b|\\bPunta Gorda\\b|\\bPunta Cardon\\b|\\bPunta Cana\\b|\\bPunta Arenas\\b|\\bPunta Alta\\b|\\bPuno\\b|\\bPunjai Puliyampatti\\b|\\bPuning\\b|\\bPunganuru\\b|\\bPune\\b|\\bPundong\\b|\\bPunchbowl\\b|\\bPunata\\b|\\bPunalur\\b|\\bPunaauia\\b|\\bPumwani\\b|\\bPumiao\\b|\\bPuma\\b|\\bPulwama\\b|\\bPulupandan\\b|\\bPulong Santa Cruz\\b|\\bPully\\b|\\bPullman\\b|\\bPuliyangudi\\b|\\bPulivendla\\b|\\bPulilan\\b|\\bPuli\\b|\\bPulheim\\b|\\bPulgaon\\b|\\bPulandian\\b|\\bPula\\b|\\bPul\\-e Khumri\\b|\\bPukhrayan\\b|\\bPukekohe East\\b|\\bPujili\\b|\\bPujali\\b|\\bPugachev\\b|\\bPuertollano\\b|\\bPuerto del Rosario\\b|\\bPuerto del Carmen\\b|\\bPuerto de la Cruz\\b|\\bPuerto Varas\\b|\\bPuerto Vallarta\\b|\\bPuerto Tejada\\b|\\bPuerto Santander\\b|\\bPuerto San Jose\\b|\\bPuerto Rico\\b|\\bPuerto Real\\b|\\bPuerto Princesa\\b|\\bPuerto Plata\\b|\\bPuerto Penasco\\b|\\bPuerto Padre\\b|\\bPuerto Natales\\b|\\bPuerto Montt\\b|\\bPuerto Maldonado\\b|\\bPuerto Madryn\\b|\\bPuerto Lopez\\b|\\bPuerto La Cruz\\b|\\bPuerto Iguazu\\b|\\bPuerto Francisco de Orellana\\b|\\bPuerto Esperanza\\b|\\bPuerto Escondido\\b|\\bPuerto Eldorado\\b|\\bPuerto El Triunfo\\b|\\bPuerto Cortez\\b|\\bPuerto Colombia\\b|\\bPuerto Cabezas\\b|\\bPuerto Cabello\\b|\\bPuerto Boyaca\\b|\\bPuerto Berrio\\b|\\bPuerto Barrios\\b|\\bPuerto Aysen\\b|\\bPuerto Ayacucho\\b|\\bPuerto Asis\\b|\\bPuente\\-Genil\\b|\\bPuente de Vallecas\\b|\\bPuente de Ixtla\\b|\\bPuente Alto\\b|\\bPueblo West\\b|\\bPueblo Nuevo\\b|\\bPueblo\\b|\\bPuebla\\b|\\bPuebla\\b|\\bPudukkottai\\b|\\bPuducherry\\b|\\bPudsey\\b|\\bPucon\\b|\\bPuchheim\\b|\\bPucheng\\b|\\bPucallpa\\b|\\bPubal\\b|\\bPuan\\b|\\bPtuj\\b|\\bPtolemaida\\b|\\bPszczyna\\b|\\bPskov\\b|\\bPreveza\\b|\\bPrzeworsk\\b|\\bPrzemysl\\b|\\bPrzasnysz\\b|\\bPryluky\\b|\\bPruzhany\\b|\\bPruszkow\\b|\\bPruszcz Gdanski\\b|\\bPrunedale\\b|\\bPrudnik\\b|\\bPrudentopolis\\b|\\bProvo\\b|\\bProvidence\\b|\\bProvenals del Poblenou\\b|\\bProtvino\\b|\\bProtaras\\b|\\bProstejov\\b|\\bProsper\\b|\\bProspect Heights\\b|\\bProsek\\b|\\bPropria\\b|\\bPromyshlennaya\\b|\\bPromissao\\b|\\bProletarsk\\b|\\bProletar\\b|\\bProkuplje\\b|\\bProkop'yevsk\\b|\\bProkhladnyy\\b|\\bProgreso de Alvaro Obregon\\b|\\bProgreso\\b|\\bProgreso\\b|\\bProddatur\\b|\\bProbolinggo\\b|\\bPrizren\\b|\\bPriyutovo\\b|\\bPrivolzhskiy\\b|\\bPrivolzhsk\\b|\\bPristina\\b|\\bPriozersk\\b|\\bPrior Lake\\b|\\bPrinceton\\b|\\bPrinceton\\b|\\bPrince George\\b|\\bPrince Edward\\b|\\bPrince Albert\\b|\\bPrimorsko\\-Akhtarsk\\b|\\bPrimero de Enero\\b|\\bPrimer Ensanche\\b|\\bPrilep\\b|\\bPrijedor\\b|\\bPrigen\\b|\\bPrievidza\\b|\\bPriego de Cordoba\\b|\\bPridonskoy\\b|\\bPrichard\\b|\\bPresov\\b|\\bPrey Veng\\b|\\bPretoria\\b|\\bPrestwich\\b|\\bPrestons\\b|\\bPreston\\b|\\bPreston\\b|\\bPrestea\\b|\\bPrestatyn\\b|\\bPresnenskiy\\b|\\bPresidente Venceslau\\b|\\bPresidente Prudente\\b|\\bPresidente Franco\\b|\\bPresidente Epitacio\\b|\\bPresidente Dutra\\b|\\bPresidencia Roque Saenz Pena\\b|\\bPrescott Valley\\b|\\bPrescott\\b|\\bPrescot\\b|\\bPrenzlauer Berg\\b|\\bPrenzlau\\b|\\bPremia de Mar\\b|\\bPreetz\\b|\\bPraya\\b|\\bPratapgarh\\b|\\bPrattville\\b|\\bPrato\\b|\\bPrata\\b|\\bPran Buri\\b|\\bPrakhon Chai\\b|\\bPrairieville\\b|\\bPrairie Village\\b|\\bPraia Grande\\b|\\bPraia\\b|\\bPrague\\b|\\bPraga Polnoc\\b|\\bPraga Poludnie\\b|\\bPrado\\b|\\bPradl\\b|\\bPradera\\b|\\bPrachuap Khiri Khan\\b|\\bPrachin Buri\\b|\\bPrabumulih\\b|\\bPozega\\b|\\bPozarevac\\b|\\bPocoes\\b|\\bPocos de Caldas\\b|\\bPoa\\b|\\bPozzuoli\\b|\\bPozzallo\\b|\\bPozuelo de Alarcon\\b|\\bPozoblanco\\b|\\bPoznan\\b|\\bPoza Rica de Hidalgo\\b|\\bPoykovskiy\\b|\\bPoyang\\b|\\bPoway\\b|\\bPowai\\b|\\bPovorino\\b|\\bPovazska Bystrica\\b|\\bPout\\b|\\bPouso Alegre\\b|\\bPourham\\b|\\bPoulton\\-le\\-Fylde\\b|\\bPoughkeepsie\\b|\\bPottstown\\b|\\bPotters Bar\\b|\\bPotsdam\\b|\\bPotrerillos\\b|\\bPotosi\\b|\\bPotomac\\b|\\bPotiskum\\b|\\bPotenza\\b|\\bPotchefstroom\\b|\\bPosto da Mata\\b|\\bPostmasburg\\b|\\bPost Falls\\b|\\bPosse\\b|\\bPoso\\b|\\bPosillipo\\b|\\bPosadas\\b|\\bPorvoo\\b|\\bPorur\\b|\\bPortao\\b|\\bPortugalete\\b|\\bPortsmouth Heights\\b|\\bPortsmouth\\b|\\bPortsmouth\\b|\\bPortsmouth\\b|\\bPortsmouth\\b|\\bPortsmouth\\b|\\bPortslade\\b|\\bPortoviejo\\b|\\bPortogruaro\\b|\\bPorto\\-Novo\\b|\\bPorto Velho\\b|\\bPorto Uniao\\b|\\bPorto Torres\\b|\\bPorto Seguro\\b|\\bPorto Sant'Elpidio\\b|\\bPorto San Giorgio\\b|\\bPorto Ferreira\\b|\\bPorto Feliz\\b|\\bPorto Empedocle\\b|\\bPorto Calvo\\b|\\bPorto Alegre\\b|\\bPorto\\b|\\bPortmore\\b|\\bPortland\\b|\\bPortland\\b|\\bPortland\\b|\\bPortishead\\b|\\bPortimao\\b|\\bPortici\\b|\\bPorthcawl\\b|\\bPorterville\\b|\\bPortel\\b|\\bPortalegre\\b|\\bPortage Park\\b|\\bPortage\\b|\\bPortage\\b|\\bPortadown\\b|\\bPorta Westfalica\\b|\\bPorta\\b|\\bPort\\-de\\-Paix\\b|\\bPort\\-de\\-Bouc\\b|\\bPort\\-aux\\-Francais\\b|\\bPort\\-au\\-Prince\\b|\\bPort\\-Vila\\b|\\bPort\\-Gentil\\b|\\bPort of Spain\\b|\\bPort Washington\\b|\\bPort Sudan\\b|\\bPort Shepstone\\b|\\bPort Saint Lucie\\b|\\bPort Said\\b|\\bPort Richmond\\b|\\bPort Orange\\b|\\bPort Moresby\\b|\\bPort Moody\\b|\\bPort Melbourne\\b|\\bPort Macquarie\\b|\\bPort Louis\\b|\\bPort Loko\\b|\\bPort Huron\\b|\\bPort Hueneme\\b|\\bPort Harcourt\\b|\\bPort Glasgow\\b|\\bPort Elizabeth\\b|\\bPort Dickson\\b|\\bPort Coquitlam\\b|\\bPort Colborne\\b|\\bPort Chester\\b|\\bPort Charlotte\\b|\\bPort Blair\\b|\\bPort Arthur\\b|\\bPort Area\\b|\\bPort Angeles\\b|\\bPort Alfred\\b|\\bPort Alberni\\b|\\bPorsgrunn\\b|\\bPorsa\\b|\\bPorrino\\b|\\bPoronaysk\\b|\\bPorlamar\\b|\\bPorirua\\b|\\bPori\\b|\\bPordenone\\b|\\bPorbandar\\b|\\bPorangatu\\b|\\bPorac\\b|\\bPoptun\\b|\\bPoprad\\b|\\bPoppenbuttel\\b|\\bPopovo\\b|\\bPopondetta\\b|\\bPoplar Bluff\\b|\\bPopesti\\-Leordeni\\b|\\bPoperinge\\b|\\bPopayan\\b|\\bPopasna\\b|\\bPop\\b|\\bPoonamalle\\b|\\bPooler\\b|\\bPoole\\b|\\bPontypridd\\b|\\bPontypool\\b|\\bPontoise\\b|\\bPontivy\\b|\\bPontinha\\b|\\bPonticelli\\b|\\bPontianak\\b|\\bPontian Kechil\\b|\\bPontiac\\b|\\bPontevedra\\b|\\bPontevedra\\b|\\bPontes e Lacerda\\b|\\bPontefract\\b|\\bPontedera\\b|\\bPonteareas\\b|\\bPonte de Lima\\b|\\bPonte Vedra Beach\\b|\\bPonte Nova\\b|\\bPontault\\-Combault\\b|\\bPontarlier\\b|\\bPontal\\b|\\bPonta Pora\\b|\\bPonta Grossa\\b|\\bPonta Delgada\\b|\\bPont\\-a\\-Mousson\\b|\\bPont\\-a\\-Celles\\b|\\bPonorogo\\b|\\bPonnuru\\b|\\bPonnani\\b|\\bPonnur\\b|\\bPonneri\\b|\\bPonmana\\b|\\bPonferrada\\b|\\bPonda\\b|\\bPonce\\b|\\bPonca City\\b|\\bPompeu\\b|\\bPompeia\\b|\\bPompei\\b|\\bPompano Beach\\b|\\bPomona\\b|\\bPomigliano d'Arco\\b|\\bPomezia\\b|\\bPomerode\\b|\\bPombos\\b|\\bPombal\\b|\\bPombal\\b|\\bPolur\\b|\\bPolichni\\b|\\bPolysayevo\\b|\\bPolyarnyye Zori\\b|\\bPolyarnyy\\b|\\bPoltava\\b|\\bPolonne\\b|\\bPolomolok\\b|\\bPolokwane\\b|\\bPolohy\\b|\\bPollenca\\b|\\bPollachi\\b|\\bPolkowice\\b|\\bPolice\\b|\\bPolewali\\b|\\bPolevskoy\\b|\\bPolavaram\\b|\\bPolatsk\\b|\\bPolatli\\b|\\bPolasara\\b|\\bPolangui\\b|\\bPolanco\\b|\\bPokrovskoye\\-Streshnevo\\b|\\bPokrovsk\\b|\\bPokrov\\b|\\bPokhvistnevo\\b|\\bPokhara\\b|\\bPokaran\\b|\\bPokachi\\b|\\bPoitiers\\b|\\bPoissy\\b|\\bPoio\\b|\\bPointe\\-a\\-Pitre\\b|\\bPointe\\-Noire\\b|\\bPointe\\-Claire\\b|\\bPoint Pleasant\\b|\\bPoint Pedro\\b|\\bPoint Fortin\\b|\\bPoint Cook\\b|\\bPoinciana\\b|\\bPohang\\b|\\bPogradec\\b|\\bPoggioreale\\b|\\bPoggiomarino\\b|\\bPoggibonsi\\b|\\bPodujeva\\b|\\bPodporozh'ye\\b|\\bPodolsk\\b|\\bPodil's'k\\b|\\bPodgorica\\b|\\bPocone\\b|\\bPocito\\b|\\bPochep\\b|\\bPocatello\\b|\\bPobe\\b|\\bPoble Sec\\b|\\bPlymstock\\b|\\bPlymouth\\b|\\bPlymouth\\b|\\bPlymouth\\b|\\bPlunge\\b|\\bPlumbon\\b|\\bPlum\\b|\\bPlovdiv\\b|\\bPlottier\\b|\\bPloiesti\\b|\\bPloemeur\\b|\\bPljevlja\\b|\\bPleven\\b|\\bPlettenberg Bay\\b|\\bPlettenberg\\b|\\bPleszew\\b|\\bPleiku\\b|\\bPleasure Ridge Park\\b|\\bPleasantville\\b|\\bPleasanton\\b|\\bPleasant Prairie\\b|\\bPleasant Hill\\b|\\bPleasant Grove\\b|\\bPlayas del Rosario\\b|\\bPlayas\\b|\\bPlaya del Ingles\\b|\\bPlaya del Carmen\\b|\\bPlavsk\\b|\\bPlauen\\b|\\bPlattsburgh\\b|\\bPlato\\b|\\bPlast\\b|\\bPlasencia\\b|\\bPlaridel\\b|\\bPlantation\\b|\\bPlant City\\b|\\bPlano\\b|\\bPlaneta Rica\\b|\\bPlanaltina\\b|\\bPlanaltina\\b|\\bPlaisir\\b|\\bPlaisance\\-du\\-Touch\\b|\\bPlainville\\b|\\bPlainview\\b|\\bPlainview\\b|\\bPlainfield\\b|\\bPlainfield\\b|\\bPlainfield\\b|\\bPlainfield\\b|\\bPlacetas\\b|\\bPlacentia\\b|\\bPila\\b|\\bPiuma\\b|\\bPinas\\b|\\bPizhou\\b|\\bPivijay\\b|\\bPiui\\b|\\bPiura\\b|\\bPittsfield\\b|\\bPittsburgh\\b|\\bPittsburg\\b|\\bPittsburg\\b|\\bPitt Meadows\\b|\\bPitsea\\b|\\bPiton Saint\\-Leu\\b|\\bPithapuram\\b|\\bPithoragarh\\b|\\bPithampur\\b|\\bPitesti\\b|\\bPitea\\b|\\bPitangui\\b|\\bPitangueiras\\b|\\bPitanga\\b|\\bPitalito\\b|\\bPita Kotte\\b|\\bPita\\b|\\bPisz\\b|\\bPistoia\\b|\\bPiskent\\b|\\bPishin\\b|\\bPisco\\b|\\bPiscinola\\b|\\bPiscataway\\b|\\bPisa\\b|\\bPirot\\b|\\bPirojpur\\b|\\bPiro\\b|\\bPirna\\b|\\bPirmasens\\b|\\bPirkkala\\b|\\bPiriyapatna\\b|\\bPiritiba\\b|\\bPiripiri\\b|\\bPires do Rio\\b|\\bPirai do Sul\\b|\\bPirai\\b|\\bPiravam\\b|\\bPirassununga\\b|\\bPiraquara\\b|\\bPirapozinho\\b|\\bPirapora\\b|\\bPirane\\b|\\bPiranshahr\\b|\\bPirajui\\b|\\bPiraju\\b|\\bPiraeus\\b|\\bPiracuruca\\b|\\bPiracicaba\\b|\\bPiracanjuba\\b|\\bPiracaia\\b|\\bPir Mahal\\b|\\bPir Jo Goth\\b|\\bPiqua\\b|\\bPipraich\\b|\\bPipili\\b|\\bPiotrkow Trybunalski\\b|\\bPiossasco\\b|\\bPionki\\b|\\bPiombino\\b|\\bPioltello\\b|\\bPio\\b|\\bPinahat\\b|\\bPinto\\b|\\bPinsk\\b|\\bPinotepa Nacional\\b|\\bPinole\\b|\\bPinner\\b|\\bPinneberg\\b|\\bPinjaur\\b|\\bPinhao\\b|\\bPinheiro\\b|\\bPinheiral\\b|\\bPinhal Novo\\b|\\bPinhais\\b|\\bPingzhuang\\b|\\bPingyin\\b|\\bPingyi\\b|\\bPingxiang\\b|\\bPingshan\\b|\\bPingnan\\b|\\bPingliang\\b|\\bPingdu\\b|\\bPingdingshan\\b|\\bPinewood\\b|\\bPinerolo\\b|\\bPinellas Park\\b|\\bPinehurst\\b|\\bPineda de Mar\\b|\\bPinecrest\\b|\\bPine Hills\\b|\\bPine Bluff\\b|\\bPindwara\\b|\\bPindobacu\\b|\\bPindiga\\b|\\bPindi Gheb\\b|\\bPindi Bhattian\\b|\\bPindare Mirim\\b|\\bPindamonhangaba\\b|\\bPind Dadan Khan\\b|\\bPinar del Rio\\b|\\bPinar de Chamartin\\b|\\bPinamungahan\\b|\\bPinamalayan\\b|\\bPimpri\\b|\\bPimentel\\b|\\bPimenta Bueno\\b|\\bPilani\\b|\\bPilsen\\b|\\bPilkhua\\b|\\bPililla\\b|\\bPilibangan\\b|\\bPilar do Sul\\b|\\bPilar de la Horadada\\b|\\bPilar\\b|\\bPilar\\b|\\bPilar\\b|\\bPilar\\b|\\bPilaite\\b|\\bPila\\b|\\bPikine\\b|\\bPikesville\\b|\\bPikalevo\\b|\\bPijnacker\\b|\\bPijijiapan\\b|\\bPihani\\b|\\bPiestany\\b|\\bPietrasanta\\b|\\bPietermaritzburg\\b|\\bPiet Retief\\b|\\bPierrefitte\\-sur\\-Seine\\b|\\bPiendamo\\b|\\bPiekary Slaskie\\b|\\bPiedras Negras\\b|\\bPiedecuesta\\b|\\bPiedade\\b|\\bPiedade\\b|\\bPidhorodne\\b|\\bPicsi\\b|\\bPicos\\b|\\bPico Rivera\\b|\\bPicnic Point\\-North Lynnwood\\b|\\bPickerington\\b|\\bPickering\\b|\\bPicassent\\b|\\bPiazza Armerina\\b|\\bPiatykhatky\\b|\\bPiatra Neamt\\b|\\bPiastow\\b|\\bPiaseczno\\b|\\bPianura\\b|\\bPiacenza\\b|\\bPhu Ly\\b|\\bPhu Khuong\\b|\\bPhuthaditjhaba\\b|\\bPhuntsholing\\b|\\bPhumi Veal Sre\\b|\\bPhultala\\b|\\bPhulpur\\b|\\bPhulera\\b|\\bPhulbani\\b|\\bPhuket\\b|\\bPhu Kradueng\\b|\\bPhu Khiao\\b|\\bPhrae\\b|\\bPhra Pradaeng\\b|\\bPhra Phutthabat\\b|\\bPhra Nakhon Si Ayutthaya\\b|\\bPhotharam\\b|\\bPhon Charoen\\b|\\bPhoenixville\\b|\\bPhoenix\\b|\\bPhnom Penh\\b|\\bPhitsanulok\\b|\\bPhirangipuram\\b|\\bPhillaur\\b|\\bPhilipsburg\\b|\\bPhiladelphia\\b|\\bPhichit\\b|\\bPhibun Mangsahan\\b|\\bPhetchaburi\\b|\\bPhetchabun\\b|\\bPhenix City\\b|\\bPhek\\b|\\bPhayao\\b|\\bPhatthalung\\b|\\bPharr\\b|\\bPhaphund\\b|\\bPhanom Sarakham\\b|\\bPhanat Nikhom\\b|\\bPhan Thong\\b|\\bPhan Thiet\\b|\\bPhan Rang\\-Thap Cham\\b|\\bPhaltan\\b|\\bPhalodi\\b|\\bPhalia\\b|\\bPhalauda\\b|\\bPhalaborwa\\b|\\bPhak Hai\\b|\\bPhagwara\\b|\\bPfungstadt\\b|\\bPfullingen\\b|\\bPforzheim\\b|\\bPflugerville\\b|\\bPfaffenhofen an der Ilm\\b|\\bPec\\b|\\bPenaranda\\b|\\bPenaflor\\b|\\bPezinok\\b|\\bPetushki\\b|\\bPetropolis\\b|\\bPetrosani\\b|\\bPetroupolis\\b|\\bPetrozavodsk\\b|\\bPetrovskaya\\b|\\bPetrovsk\\-Zabaykal'skiy\\b|\\bPetrovsk\\b|\\bPetropavlovsk\\-Kamchatsky\\b|\\bPetropavl\\b|\\bPetrolina\\b|\\bPetrogradka\\b|\\bPetrodvorets\\b|\\bPetrila\\b|\\bPetrich\\b|\\bPeto\\b|\\bPetlad\\b|\\bPetit\\-Bourg\\b|\\bPetershagen\\b|\\bPetersburg\\b|\\bPeterlee\\b|\\bPeterhof\\b|\\bPeterhead\\b|\\bPeterborough\\b|\\bPeterborough\\b|\\bPetah Tiqwa\\b|\\bPetawawa\\b|\\bPetauke\\b|\\bPetatlan\\b|\\bPetare\\b|\\bPetapa\\b|\\bPetaluma\\b|\\bPetaling Jaya\\b|\\bPestovo\\b|\\bPessac\\b|\\bPesqueira\\b|\\bPeshtera\\b|\\bPeshawar\\b|\\bPescara\\b|\\bPesaro\\b|\\bPervoural'sk\\b|\\bPervomays'kyy\\b|\\bPervomays'k\\b|\\bPervomays'k\\b|\\bPeruibe\\b|\\bPerungudi\\b|\\bPerundurai\\b|\\bPerumpavur\\b|\\bPerumbavoor\\b|\\bPerugia\\b|\\bPertuis\\b|\\bPerth Amboy\\b|\\bPerth\\b|\\bPerth\\b|\\bPersianovka\\b|\\bPerrysburg\\b|\\bPerry Hall\\b|\\bPerry\\b|\\bPerris\\b|\\bPerpignan\\b|\\bPerote\\b|\\bPernik\\b|\\bPermatang Kuching\\b|\\bPerm\\b|\\bPeriyanayakkanpalaiyam\\b|\\bPeriyakulam\\b|\\bPeristeri\\b|\\bPeringat\\b|\\bPerico\\b|\\bPeriban de Ramos\\b|\\bPergamino\\b|\\bPereval's'k\\b|\\bPereslavl'\\-Zalesskiy\\b|\\bPereira Barreto\\b|\\bPereira\\b|\\bPereiaslav\\-Khmelnytskyi\\b|\\bPerdoes\\b|\\bPercut\\b|\\bPerchtoldsdorf\\b|\\bPerbaungan\\b|\\bPeraia\\b|\\bPeravurani\\b|\\bPeranampattu\\b|\\bPerambalur\\b|\\bPerai\\b|\\bPeoria\\b|\\bPeoria\\b|\\bPenapolis\\b|\\bPenzberg\\b|\\bPenzance\\b|\\bPenza\\b|\\bPenukonda\\b|\\bPenugonda\\b|\\bPenticton\\b|\\bPentecoste\\b|\\bPensacola\\b|\\bPenrith\\b|\\bPenonome\\b|\\bPennagaram\\b|\\bPennadam\\b|\\bPennsport\\b|\\bPennsauken\\b|\\bPenn Hills\\b|\\bPenja\\b|\\bPenicuik\\b|\\bPeniche\\b|\\bPenha\\b|\\bPengcheng\\b|\\bPenedo\\b|\\bPendleton\\b|\\bPendino\\b|\\bPenco\\b|\\bPenarth\\b|\\bPenalva\\b|\\bPen\\b|\\bPembroke Pines\\b|\\bPembroke\\b|\\bPemba\\b|\\bPematangsiantar\\b|\\bPemangkat\\b|\\bPemalang\\b|\\bPelotas\\b|\\bPeliyagoda\\b|\\bPelileo\\b|\\bPelhrimov\\b|\\bPelham\\b|\\bPelabuhanratu\\b|\\bPelabuhan Klang\\b|\\bPekin\\b|\\bPekanbaru\\b|\\bPekan Nenas\\b|\\bPekan Bahapal\\b|\\bPekan\\b|\\bPekalongan\\b|\\bPeine\\b|\\bPehowa\\b|\\bPeer\\b|\\bPeekskill\\b|\\bPedroso\\b|\\bPedro Leopoldo\\b|\\bPedro Juan Caballero\\b|\\bPedro II\\b|\\bPedro Carbo\\b|\\bPedro Betancourt\\b|\\bPedreira\\b|\\bPedregal\\b|\\bPedregal\\b|\\bPedra Branca\\b|\\bPedra Azul\\b|\\bPederneiras\\b|\\bPeddapuram\\b|\\bPeddapalli\\b|\\bPedana\\b|\\bPeckham\\b|\\bPechora\\b|\\bPecangaan\\b|\\bPecan Grove\\b|\\bPearland\\b|\\bPearl River\\b|\\bPearl City\\b|\\bPearl\\b|\\bPeachtree Corners\\b|\\bPeachtree City\\b|\\bPeacehaven\\b|\\bPeabody\\b|\\bPasilaiciai\\b|\\bPascani\\b|\\bPaco de Arcos\\b|\\bPazardzhik\\b|\\bPazarcik\\b|\\bPayyannur\\b|\\bPayson\\b|\\bPayson\\b|\\bPayshanba\\b|\\bPaysandu\\b|\\bPayande\\b|\\bPayakumbuh\\b|\\bPaxtakor\\b|\\bPawayan\\b|\\bPawtucket\\b|\\bPawni\\b|\\bPavlovskiy Posad\\b|\\bPavlovskaya\\b|\\bPavlovsk\\b|\\bPavlovsk\\b|\\bPavlovo\\b|\\bPavlohrad\\b|\\bPavlodar\\b|\\bPavia\\b|\\bPauri\\b|\\bPaungde\\b|\\bPaulinia\\b|\\bPaulo Afonso\\b|\\bPaulista\\b|\\bPau\\b|\\bPatamundai\\b|\\bPatia\\b|\\bPatzun\\b|\\bPatzicia\\b|\\bPaty do Alferes\\b|\\bPatuto\\b|\\bPattukkottai\\b|\\bPattoki\\b|\\bPatti\\b|\\bPatterson\\b|\\bPattaya\\b|\\bPattani\\b|\\bPatrocinio\\b|\\bPatos de Minas\\b|\\bPatos Fshat\\b|\\bPatos\\b|\\bPatos\\b|\\bPato Branco\\b|\\bPatnagarh\\b|\\bPatnos\\b|\\bPatna\\b|\\bPatiala\\b|\\bPatiya\\b|\\bPatigi\\b|\\bPati\\b|\\bPathankot\\b|\\bPathum Thani\\b|\\bPathein\\b|\\bPatharia\\b|\\bPathanamthitta\\b|\\bPathalgaon\\b|\\bPaterson\\b|\\bPaterno\\b|\\bPaterna\\b|\\bPataudi\\b|\\bPataskala\\b|\\bPatarra\\b|\\bPatancheru\\b|\\bPasan\\b|\\bPasuruan\\b|\\bPasto\\b|\\bPastavy\\b|\\bPassos\\b|\\bPasso Fundo\\b|\\bPassi\\b|\\bPassau\\b|\\bPassaic\\b|\\bPasrur\\b|\\bPasragad Branch\\b|\\bPaso de los Libres\\b|\\bPaso de Carrasco\\b|\\bPaso Robles\\b|\\bPasni\\b|\\bPasir Mas\\b|\\bPasinler\\b|\\bPasing\\b|\\bPasig City\\b|\\bPashkovskiy\\b|\\bPaseh\\b|\\bPascoe Vale\\b|\\bPasco\\b|\\bPascagoula\\b|\\bPasay\\b|\\bPasarkemis\\b|\\bPasaje\\b|\\bPasaia\\b|\\bPasadena\\b|\\bPasadena\\b|\\bPasadena\\b|\\bParichhatgarh\\b|\\bParasia\\b|\\bParadip Garh\\b|\\bParadsasvar\\b|\\bPara de Minas\\b|\\bParys\\b|\\bParvomay\\b|\\bParvatsar\\b|\\bParung\\b|\\bPartur\\b|\\bPartizanske\\b|\\bPartizansk\\b|\\bPartinico\\b|\\bPartille\\b|\\bParsippany\\b|\\bParras de la Fuente\\b|\\bParramatta\\b|\\bParral\\b|\\bParral\\b|\\bParque Lefevre\\b|\\bParque Industrial Ciudad Mitras\\b|\\bParole\\b|\\bParola\\b|\\bParobe\\b|\\bParnaiba\\b|\\bParnas\\b|\\bParnamirim\\b|\\bParma Heights\\b|\\bParma\\b|\\bParma\\b|\\bParlakimidi\\b|\\bParlier\\b|\\bParli Vaijnath\\b|\\bParla\\b|\\bParkville\\b|\\bParkland\\b|\\bParkland\\b|\\bParkersburg\\b|\\bParker\\b|\\bParkent\\b|\\bParkchester\\b|\\bPark Slope\\b|\\bPark Ridge\\b|\\bPark Forest\\b|\\bPariyapuram\\b|\\bParit Raja\\b|\\bParit Buntar\\b|\\bParis\\b|\\bParis\\b|\\bParintins\\b|\\bPariaman\\b|\\bParets del Valles\\b|\\bParepare\\b|\\bParelhas\\b|\\bParedes\\b|\\bParede\\b|\\bPare\\b|\\bPardubice\\b|\\bParchim\\b|\\bParbhani\\b|\\bParbatipur\\b|\\bParaiso\\b|\\bParaiba do Sul\\b|\\bParavur Tekkumbhagam\\b|\\bParauapebas\\b|\\bParaty\\b|\\bParaparaumu\\b|\\bParana\\b|\\bParang\\b|\\bParanaiba\\b|\\bParanavai\\b|\\bParanapanema\\b|\\bParanagua\\b|\\bParamus\\b|\\bParamount\\b|\\bParamonga\\b|\\bParamaribo\\b|\\bParamagudi\\b|\\bParalowie\\b|\\bParakou\\b|\\bParaiso\\b|\\bParaiso\\b|\\bParaipaba\\b|\\bParaguacu Paulista\\b|\\bParaguacu\\b|\\bParagould\\b|\\bParagominas\\b|\\bParafield Gardens\\b|\\bParadise\\b|\\bParadise\\b|\\bParadise\\b|\\bParacuru\\b|\\bParacho de Verduzco\\b|\\bParacatu\\b|\\bParacambi\\b|\\bParabiago\\b|\\bPapillion\\b|\\bPaphos\\b|\\bPapendrecht\\b|\\bPapenburg\\b|\\bPapeete\\b|\\bPapaya\\b|\\bPapar\\b|\\bPapantla de Olarte\\b|\\bPapanasam\\b|\\bPapalotla\\b|\\bPapakura\\b|\\bPaoy Paet\\b|\\bPaoua\\b|\\bPaombong\\b|\\bPaolo VI\\b|\\bPancevo\\b|\\bPanagar\\b|\\bPanorama\\b|\\bPanzos\\b|\\bPanvel\\b|\\bPantubig\\b|\\bPantin\\b|\\bPantelimon\\b|\\bPantai Remis\\b|\\bPanshi\\b|\\bPanshan\\b|\\bPanruti\\b|\\bPano Aqil\\b|\\bPanna\\b|\\bPankshin\\b|\\bPankow\\b|\\bPanji\\b|\\bPanjakent\\b|\\bPaniqui\\b|\\bPanguipulli\\b|\\bPangkalpinang\\b|\\bPangkalanbuun\\b|\\bPangkalan Brandan\\b|\\bPangil\\b|\\bPanevezys\\b|\\bPandua\\b|\\bPando\\b|\\bPandi\\b|\\bPandharpur\\b|\\bPandeglang\\b|\\bPandan\\b|\\bPandak\\b|\\bPandacaqui\\b|\\bPandaan\\b|\\bPanchkula\\b|\\bPanchagarh\\b|\\bPanauti\\b|\\bPanauti\\b|\\bPanarukan\\b|\\bPanama\\b|\\bPanambi\\b|\\bPanama City\\b|\\bPanalanoy\\b|\\bPanaji\\b|\\bPanagyurishte\\b|\\bPanadura\\b|\\bPanabo\\b|\\bPamulang\\b|\\bPamplona\\b|\\bPamplona\\b|\\bPampierstad\\b|\\bPampa\\b|\\bPamiers\\b|\\bPameungpeuk\\b|\\bPamekasan\\b|\\bPamanukan\\b|\\bPalasa\\b|\\bPalin\\b|\\bPalwancha\\b|\\bPalwal\\b|\\bPalu\\b|\\bPaltan\\b|\\bPalpala\\b|\\bPalotina\\b|\\bPalos Hills\\b|\\bPalopo\\b|\\bPalo del Colle\\b|\\bPalo Negro\\b|\\bPalo Alto\\b|\\bPalo\\b|\\bPalmital\\b|\\bPalmira\\b|\\bPalmira\\b|\\bPalmi\\b|\\bPalmetto Bay\\b|\\bPalmerston North\\b|\\bPalmerston\\b|\\bPalmer\\b|\\bPalmela\\b|\\bPalmeira das Missoes\\b|\\bPalmeira\\b|\\bPalmdale\\b|\\bPalmas\\b|\\bPalmas\\b|\\bPalmarito Tochapan\\b|\\bPalmares\\b|\\bPalmar de Varela\\b|\\bPalmaner\\b|\\bPalma di Montechiaro\\b|\\bPalma del Rio\\b|\\bPalma Soriano\\b|\\bPalma\\b|\\bPalm Valley\\b|\\bPalm Springs\\b|\\bPalm Springs\\b|\\bPalm River\\-Clair Mel\\b|\\bPalm Harbor\\b|\\bPalm Desert\\b|\\bPalm Coast\\b|\\bPalm City\\b|\\bPalm Beach Gardens\\b|\\bPalm Beach\\b|\\bPalm Bay\\b|\\bPallavaram\\b|\\bPallisa\\b|\\bPallippatti\\b|\\bPallikondai\\b|\\bPallasovka\\b|\\bPallappatti\\b|\\bPallanza\\-Intra\\-Suna\\b|\\bPalladam\\b|\\bPalia Kalan\\b|\\bPalisades Park\\b|\\bPalimanan\\b|\\bPalikir \\- National Government Center\\b|\\bPalhoca\\b|\\bPalestine\\b|\\bPalermo\\b|\\bPalera\\b|\\bPalenque\\b|\\bPalencia\\b|\\bPalencia\\b|\\bPalembang\\b|\\bPalazzolo sull'Oglio\\b|\\bPalayan City\\b|\\bPalau\\b|\\bPalatine\\b|\\bPalapye\\b|\\bPalani\\b|\\bPalangkaraya\\b|\\bPalanga\\b|\\bPalamos\\b|\\bPalaio Faliro\\b|\\bPalaiseau\\b|\\bPalagonia\\b|\\bPalagiano\\b|\\bPalafrugell\\b|\\bPala\\b|\\bPakxan\\b|\\bPakur\\b|\\bPakse\\b|\\bPaks\\b|\\bPakpattan\\b|\\bPakokku\\b|\\bPakisaji\\b|\\bPakenham\\b|\\bPaka\\b|\\bPak Phanang\\b|\\bPak Kret\\b|\\bPak Chong\\b|\\bPajok\\b|\\bPaicandu\\b|\\bPaithan\\b|\\bPaita\\b|\\bPaisley\\b|\\bPaiporta\\b|\\bPainesville\\b|\\bPaine\\b|\\bPailin\\b|\\bPaijan\\b|\\bPaignton\\b|\\bPaidha\\b|\\bPahasu\\b|\\bPahrump\\b|\\bPaharpur\\b|\\bPago Pago\\b|\\bPaghman\\b|\\bPagbilao\\b|\\bPagar Alam\\b|\\bPagani\\b|\\bPagalungan\\b|\\bPagadian\\b|\\bPaete\\b|\\bPaducah\\b|\\bPadua\\b|\\bPadre Bernardo\\b|\\bPadrauna\\b|\\bPadra\\b|\\bPadova\\b|\\bPadmanabhapuram\\b|\\bPaderno Dugnano\\b|\\bPaderborn\\b|\\bPadangsidempuan\\b|\\bPadang\\b|\\bPadampur\\b|\\bPadampur\\b|\\bPadam\\b|\\bPadalarang\\b|\\bPad Idan\\b|\\bPacol\\b|\\bPaciran\\b|\\bPacifica\\b|\\bPacific Pines\\b|\\bPacific Grove\\b|\\bPachuca de Soto\\b|\\bPachperwa\\b|\\bPacho\\b|\\bPachino\\b|\\bPace\\b|\\bPacatuba\\b|\\bPacasmayo\\b|\\bPacajus\\b|\\bPabianice\\b|\\bPabellon de Arteaga\\b|\\bPabbi\\b|\\bPaarl\\b|\\bPa Sang\\b|\\bOswiecim\\b|\\bOlawa\\b|\\bOzery\\b|\\bOzurgeti\\b|\\bOzumba de Alzate\\b|\\bOzubulu\\b|\\bOzorkow\\b|\\bOzone Park\\b|\\bOzoir\\-la\\-Ferriere\\b|\\bOzersk\\b|\\bOzerki\\b|\\bOzark\\b|\\bOzar\\b|\\bOzamiz City\\b|\\bOyten\\b|\\bOyonnax\\b|\\bOyo\\b|\\bOyem\\b|\\bOyan\\b|\\bOyama\\b|\\bOxon Hill\\-Glassmanor\\b|\\bOxon Hill\\b|\\bOxnard\\b|\\bOxkutzkab\\b|\\bOxford\\b|\\bOxford\\b|\\bOxford\\b|\\bOxford\\b|\\bOwo\\b|\\bOwings Mills\\b|\\bOwerri\\b|\\bOwensboro\\b|\\bOwen Sound\\b|\\bOwatonna\\b|\\bOwasso\\b|\\bOwase\\b|\\bOwando\\b|\\bOvruch\\b|\\bOviedo\\b|\\bOviedo\\b|\\bOverland Park\\b|\\bOverland\\b|\\bOverijse\\b|\\bOverath\\b|\\bOvar\\b|\\bOvalle\\b|\\bOuesso\\b|\\bOutreau\\b|\\bOuro Preto do Oeste\\b|\\bOuro Preto\\b|\\bOuro Branco\\b|\\bOurinhos\\b|\\bOurilandia do Norte\\b|\\bOuricuri\\b|\\bOurense\\b|\\bOupeye\\b|\\bOume\\b|\\bOum el Bouaghi\\b|\\bOum Hadjer\\b|\\bOulu\\b|\\bOulmes\\b|\\bOullins\\b|\\bOuled Mimoun\\b|\\bOulad Teima\\b|\\bOujda\\-Angad\\b|\\bOuidah\\b|\\bOuezzane\\b|\\bOued el Alleug\\b|\\bOued el Abtal\\b|\\bOued Zem\\b|\\bOued Sly\\b|\\bOued Rhiou\\b|\\bOued Lill\\b|\\bOued Fodda\\b|\\bOudtshoorn\\b|\\bOudenaarde\\b|\\bOud\\-Beijerland\\b|\\bOuarzazat\\b|\\bOuargla\\b|\\bOuardenine\\b|\\bOuahigouya\\b|\\bOuagadougou\\b|\\bOtwock\\b|\\bOtukpa\\b|\\bOttweiler\\b|\\bOttumwa\\b|\\bOttobrunn\\b|\\bOttensen\\b|\\bOttawa\\b|\\bOttawa\\b|\\bOttaviano\\b|\\bOttappalam\\b|\\bOttakring\\b|\\bOtsego\\b|\\bOtrokovice\\b|\\bOtradnyy\\b|\\bOtradnoye\\b|\\bOtradnoye\\b|\\bOtradnaya\\b|\\bOtofuke\\b|\\bOtjiwarongo\\b|\\bOtegen Batyra\\b|\\bOtavalo\\b|\\bOtaru\\b|\\bOtan Ayegbaju\\b|\\bOsorio\\b|\\bOswestry\\b|\\bOswego\\b|\\bOswego\\b|\\bOsvaldo Cruz\\b|\\bOsuna\\b|\\bOstuni\\b|\\bOstuncalco\\b|\\bOstrow Wielkopolski\\b|\\bOstrow Mazowiecka\\b|\\bOstroda\\b|\\bOstroleka\\b|\\bOstrowiec Swietokrzyski\\b|\\bOstrov\\b|\\bOstrov\\b|\\bOstrogozhsk\\b|\\bOstrava\\b|\\bOstfildern\\b|\\bOsterholz\\-Scharmbeck\\b|\\bOstend\\b|\\bOstashkov\\b|\\bOstankinskiy\\b|\\bOssining\\b|\\bOssett\\b|\\bOss\\b|\\bOsorno\\b|\\bOsogbo\\b|\\bOsny\\b|\\bOsnabruck\\b|\\bOsmaniye\\b|\\bOsmaneli\\b|\\bOsmancik\\b|\\bOsmanabad\\b|\\bOslo\\b|\\bOskarshamn\\b|\\bOsinniki\\b|\\bOsimo\\b|\\bOsijek\\b|\\bOsiedle Kosmonautow\\b|\\bOshnaviyeh\\b|\\bOshkosh\\b|\\bOshawa\\b|\\bOshakati\\b|\\bOsh\\b|\\bOschersleben\\b|\\bOschatz\\b|\\bOsasco\\b|\\bOsan\\b|\\bOsaka\\b|\\bOsa\\b|\\bOrumiyeh\\b|\\bOrastie\\b|\\bOros\\b|\\bOrel\\b|\\bOrzesze\\b|\\bOrvault\\b|\\bOruro\\b|\\bOrtakoy\\b|\\bOrtaca\\b|\\bOrta di Atella\\b|\\bOrta Nova\\b|\\bOrsk\\b|\\bOrsha\\b|\\bOrsay\\b|\\bOrpington\\b|\\bOroville\\b|\\bOroszlany\\b|\\bOroshaza\\b|\\bOroquieta\\b|\\bOroqen Zizhiqi\\b|\\bOro Valley\\b|\\bOrmskirk\\b|\\bOrmond Beach\\b|\\bOrmoc\\b|\\bOrleans\\b|\\bOrlandia\\b|\\bOrly\\b|\\bOrlova\\b|\\bOrlovskiy\\b|\\bOrleans\\b|\\bOrlando\\b|\\bOrland Park\\b|\\bOrkney\\b|\\bOrkney\\b|\\bOrizaba\\b|\\bOriximina\\b|\\bOrita Eruwa\\b|\\bOristano\\b|\\bOrion\\b|\\bOrinda\\b|\\bOrillia\\b|\\bOrikhiv\\b|\\bOrihuela\\b|\\bOria\\b|\\bOrhei\\b|\\bOrhangazi\\b|\\bOrestiada\\b|\\bOrenburg\\b|\\bOrem\\b|\\bOrekhovo\\-Zuyevo\\b|\\bOrekhovo\\-Borisovo Severnoye\\b|\\bOrekhovo\\-Borisovo\\b|\\bOregon City\\b|\\bOregon\\b|\\bOrdu\\b|\\bOrdos\\b|\\bOrcutt\\b|\\bOrchards\\b|\\bOrbassano\\b|\\bOranjestad\\b|\\bOranienburg\\b|\\bOrani\\b|\\bOrangeville\\b|\\bOrangevale\\b|\\bOrange Walk\\b|\\bOrange\\b|\\bOrange\\b|\\bOrange\\b|\\bOrange\\b|\\bOrange\\b|\\bOran\\b|\\bOral\\b|\\bOraiokastro\\b|\\bOrai\\b|\\bOrahovac\\b|\\bOradea\\b|\\bOr Yehuda\\b|\\bOqtosh\\b|\\bOpportunity\\b|\\bOpole\\b|\\bOpoczno\\b|\\bOpladen\\b|\\bOpelousas\\b|\\bOpelika\\b|\\bOpava\\b|\\bOpa\\-locka\\b|\\bOoty\\b|\\bOostkamp\\b|\\bOosterhout\\b|\\bOntinyent\\b|\\bOntario\\b|\\bOnsong\\b|\\bOnomichi\\b|\\bOnoda\\b|\\bOno\\b|\\bOno\\b|\\bOnitsha\\b|\\bOngole\\b|\\bOngjin\\b|\\bOnex\\b|\\bOnega\\b|\\bOndo\\b|\\bOnda\\b|\\bOnalaska\\b|\\bOmidiyeh\\b|\\bOmutninsk\\b|\\bOmsk\\b|\\bOmmoord\\b|\\bOmigawa\\b|\\bOmetepec\\b|\\bOmdurman\\b|\\bOman Smart Future City\\b|\\bOmaha\\b|\\bOmagh\\b|\\bOlimpia\\b|\\bOlympia\\b|\\bOlupona\\b|\\bOltu\\b|\\bOltinko'l\\b|\\bOltiariq\\b|\\bOltenita\\b|\\bOlten\\b|\\bOlsztyn\\b|\\bOlsberg\\b|\\bOlpe\\b|\\bOlot\\b|\\bOlongapo\\b|\\bOlomouc\\b|\\bOlney\\b|\\bOlmaliq\\b|\\bOlkusz\\b|\\bOlivet\\b|\\bOliver\\-Valdefierro\\b|\\bOliveira do Douro\\b|\\bOliveira\\b|\\bOlive Branch\\b|\\bOlivais\\b|\\bOliva\\b|\\bOlinda\\b|\\bOlhao\\b|\\bOlesnica\\b|\\bOlesa de Montserrat\\b|\\bOlenegorsk\\b|\\bOleksandriya\\b|\\bOleiros\\b|\\bOlecko\\b|\\bOldham\\b|\\bOldenzaal\\b|\\bOldenburg\\b|\\bOld Shinyanga\\b|\\bOld Jamestown\\b|\\bOld Harbour\\b|\\bOld City\\b|\\bOld Bridge\\b|\\bOlching\\b|\\bOlbia\\b|\\bOlavarria\\b|\\bOlathe\\b|\\bOlanchito\\b|\\bOl Kalou\\b|\\bOkuta\\b|\\bOkunoya\\b|\\bOktyabr'skiy\\b|\\bOktyabr'sk\\b|\\bOkrika\\b|\\bOkolona\\b|\\bOklahoma City\\b|\\bOkinawa\\b|\\bOkigwe\\b|\\bOkhtyrka\\b|\\bOkha\\b|\\bOkha\\b|\\bOkene\\b|\\bOkemos\\b|\\bOkegawa\\b|\\bOke Mesi\\b|\\bOke Ila\\b|\\bOkcheon\\b|\\bOkazaki\\b|\\bOkayama\\b|\\bOkaya\\b|\\bOkara\\b|\\bOkap\\b|\\bOkanagan\\b|\\bOkahandja\\b|\\bOjus\\b|\\bOjo de Agua\\b|\\bOjiya\\b|\\bOjinaga\\b|\\bOisterwijk\\b|\\bOildale\\b|\\bOhrid\\b|\\bOhangaron\\b|\\bOhafia\\-Ifigh\\b|\\bOgori\\-shimogo\\b|\\bOgwashi\\-Uku\\b|\\bOguta\\b|\\bOgre\\b|\\bOgoja\\b|\\bOgden\\b|\\bOgawa\\b|\\bOgaminana\\b|\\bOffenburg\\b|\\bOffenbach\\b|\\bOffa\\b|\\bOfaqim\\b|\\bOf\\b|\\bOerlinghausen\\b|\\bOer\\-Erkenschwick\\b|\\bOelde\\b|\\bOeiras\\b|\\bOeiras\\b|\\bOegstgeest\\b|\\bOdorheiu Secuiesc\\b|\\bOdivelas\\b|\\bOdintsovo\\b|\\bOdienne\\b|\\bOdessa\\b|\\bOdessa\\b|\\bOderzo\\b|\\bOdenton\\b|\\bOdenthal\\b|\\bOdense\\b|\\bOde\\b|\\bOdawara\\b|\\bOcumare del Tuy\\b|\\bOcteville\\b|\\bOcozocoautla de Espinosa\\b|\\bOcoyoacac\\b|\\bOcotlan de Morelos\\b|\\bOcotlan\\b|\\bOcotal\\b|\\bOcosingo\\b|\\bOconomowoc\\b|\\bOcoee\\b|\\bOcna Mures\\b|\\bOch'amch'ire\\b|\\bOcher\\b|\\bOchtrup\\b|\\bOchota\\b|\\bOchakovo\\-Matveyevskoye\\b|\\bOchakiv\\b|\\bOceanside\\b|\\bOceanside\\b|\\bOcean Springs\\b|\\bOcean Acres\\b|\\bOcana\\b|\\bOcala\\b|\\bOb'\\b|\\bObukhovo\\b|\\bObukhiv\\b|\\bObudu\\b|\\bObuase\\b|\\bObrenovac\\b|\\bObra\\b|\\bOborniki\\b|\\bObonoma\\b|\\bObock\\b|\\bObninsk\\b|\\bObita\\b|\\bObihiro\\b|\\bObera\\b|\\bOberwinterthur \\(Kreis 2\\)\\b|\\bOberursel\\b|\\bObertshausen\\b|\\bOberschoneweide\\b|\\bOberkirch\\b|\\bOberhausen\\b|\\bOberasbach\\b|\\bOber\\-Ramstadt\\b|\\bObando\\b|\\bObanazawa\\b|\\bObama\\b|\\bObala\\b|\\bOaxaca\\b|\\bOakville\\b|\\bOakville\\b|\\bOakton\\b|\\bOakley\\b|\\bOakleaf Plantation\\b|\\bOakland Park\\b|\\bOakland\\b|\\bOakdale\\b|\\bOakdale\\b|\\bOak Ridge\\b|\\bOak Ridge\\b|\\bOak Park\\b|\\bOak Park\\b|\\bOak Lawn\\b|\\bOak Hill\\b|\\bOak Harbor\\b|\\bOak Grove\\b|\\bOak Forest\\b|\\bOak Creek\\b|\\bOak Bay\\b|\\bOadby\\b|\\bO'Fallon\\b|\\bO'Fallon\\b|\\bN'diareme limamoulaye\\b|\\bN'dalatando\\b|\\bNuzvid\\b|\\bNurabad\\b|\\bNurabad\\b|\\bNurpur\\b|\\bNogata\\b|\\bNimaj\\b|\\bNimbahera\\b|\\bNileshwar\\b|\\bNilokheri\\b|\\bNilgiri\\b|\\bNikshahr\\b|\\bNavodari\\b|\\bNahiyat Saddat al Hindiyah\\b|\\bNahiyat ash Shinafiyah\\b|\\bNahiyat al Fuhud\\b|\\bNayudupet\\b|\\bNawa\\b|\\bNathdwara\\b|\\bNasriganj\\b|\\bNaspur\\b|\\bNarayanpet\\b|\\bNarayanganj\\b|\\bNarnaund\\b|\\bNarnaul\\b|\\bNaravarikuppam\\b|\\bNanpara\\b|\\bNangloi Jat\\b|\\bNandura Buzurg\\b|\\bNandgaon\\b|\\bNamrup\\b|\\bNamakkal\\b|\\bNamagiripettai\\b|\\bNalut\\b|\\bNalchiti\\b|\\bNahan\\b|\\bNagod\\b|\\bNagercoil\\b|\\bNagaur\\b|\\bNagarpur\\b|\\bNagar Karnul\\b|\\bNagamangala\\b|\\bNadapuram\\b|\\bNadbai\\b|\\bNabha\\b|\\bNurtingen\\b|\\bNurnberg\\b|\\bNumbrecht\\b|\\bNorresundby\\b|\\bNordlingen\\b|\\bNimes\\b|\\bNikaia\\b|\\bNijar\\b|\\bNema\\b|\\bNea Smyrni\\b|\\bNea Makri\\b|\\bNea Ionia\\b|\\bNea Ionia\\b|\\bNea Filadelfeia\\b|\\bNea Erythraia\\b|\\bNaestved\\b|\\bNassjo\\b|\\bNaousa\\b|\\bNachod\\b|\\bNzerekore\\b|\\bNzega\\b|\\bNzega\\b|\\bNyuzen\\b|\\bNyiregyhaza\\b|\\bNytva\\b|\\bNysa\\b|\\bNyon\\b|\\bNykobing Falster\\b|\\bNykoping\\b|\\bNyeri\\b|\\bNyborg\\b|\\bNyaunglebin\\b|\\bNyaungdon\\b|\\bNyangao\\b|\\bNyandoma\\b|\\bNyamuswa\\b|\\bNyalikungu\\b|\\bNyala\\b|\\bNyakabindi\\b|\\bNyahururu\\b|\\bNyagan\\b|\\bNyachera\\b|\\bNuwara Eliya\\b|\\bNuuk\\b|\\bNutley\\b|\\bNushki\\b|\\bNusaybin\\b|\\bNurota\\b|\\bNurmijarvi\\b|\\bNurlat\\b|\\bNur\\-Sultan\\b|\\bNuoro\\b|\\bNunspeet\\b|\\bNungua\\b|\\bNuneaton\\b|\\bNumazu\\b|\\bNumata\\b|\\bNuman\\b|\\bNuku'alofa\\b|\\bNukus\\b|\\bNuevo San Carlos\\b|\\bNuevo Mexico\\b|\\bNuevo Laredo\\b|\\bNuevo Imperial\\b|\\bNuevo Casas Grandes\\b|\\bNuevo Belen\\b|\\bNuevitas\\b|\\bNueve de Julio\\b|\\bNueva Rosita\\b|\\bNueva Loja\\b|\\bNueva Italia de Ruiz\\b|\\bNueva Imperial\\b|\\bNueva Guinea\\b|\\bNueva Gerona\\b|\\bNuenen\\b|\\bNubl\\b|\\bNtungamo\\b|\\bNtungamo\\b|\\bNsunga\\b|\\bNsukka\\b|\\bNshamba\\b|\\bNsawam\\b|\\bNsanje\\b|\\bNoamundi\\b|\\bNoyon\\b|\\bNoyabrsk\\b|\\bNowy Tomysl\\b|\\bNowy Targ\\b|\\bNowy Sacz\\b|\\bNowy Dwor Mazowiecki\\b|\\bNowshera Cantonment\\b|\\bNowshahr\\b|\\bNowrangapur\\b|\\bNowogard\\b|\\bNowa Sol\\b|\\bNowa Ruda\\b|\\bNovy Jicin\\b|\\bNove Zamky\\b|\\bNove Mesto nad Vahom\\b|\\bNovyye Kuz'minki\\b|\\bNovyye Cheremushki\\b|\\bNovyy Urengoy\\b|\\bNovyy Turtkul'\\b|\\bNovyy Oskol\\b|\\bNovyy Buh\\b|\\bNovozybkov\\b|\\bNovoyavorivs'k\\b|\\bNovovoronezh\\b|\\bNovovolyns'k\\b|\\bNovovladykino\\b|\\bNovouzensk\\b|\\bNovoural'sk\\b|\\bNovoul'yanovsk\\b|\\bNovoukrayinka\\b|\\bNovotroitsk\\b|\\bNovotitarovskaya\\b|\\bNovosilikatnyy\\b|\\bNovosibirsk\\b|\\bNovoshakhtinsk\\b|\\bNovorossiysk\\b|\\bNovopokrovskaya\\b|\\bNovopavlovsk\\b|\\bNovomoskovs'k\\b|\\bNovomoskovsk\\b|\\bNovomichurinsk\\b|\\bNovokuz'minki\\b|\\bNovokuznetsk\\b|\\bNovokuybyshevsk\\b|\\bNovokubansk\\b|\\bNovokhovrino\\b|\\bNovohrad\\-Volynskyi\\b|\\bNovogrudok\\b|\\bNovogireyevo\\b|\\bNovodvinsk\\b|\\bNovocherkassk\\b|\\bNovocheboksarsk\\b|\\bNovoanninskiy\\b|\\bNovoaltaysk\\b|\\bNovoaleksandrovsk\\b|\\bNovo\\-Peredelkino\\b|\\bNovo Mesto\\b|\\bNovo Horizonte\\b|\\bNovo Hamburgo\\b|\\bNovi Sad\\b|\\bNovi Pazar\\b|\\bNovi Ligure\\b|\\bNovi\\b|\\bNoveleta\\b|\\bNovelda\\b|\\bNovaya Usman'\\b|\\bNovaya Derevnya\\b|\\bNovaya Balakhna\\b|\\bNovato\\b|\\bNovate Milanese\\b|\\bNovara\\b|\\bNova Zagora\\b|\\bNova Xavantina\\b|\\bNova Vicosa\\b|\\bNova Venecia\\b|\\bNova Russas\\b|\\bNova Prata\\b|\\bNova Petropolis\\b|\\bNova Pazova\\b|\\bNova Olimpia\\b|\\bNova Odessa\\b|\\bNova Milanese\\b|\\bNova Lima\\b|\\bNova Kakhovka\\b|\\bNova Iguacu\\b|\\bNova Granada\\b|\\bNova Friburgo\\b|\\bNova Era\\b|\\bNova Cruz\\b|\\bNouna\\b|\\bNoumea\\b|\\bNouakchott\\b|\\bNouadhibou\\b|\\bNou Barris\\b|\\bNottuln\\b|\\bNottingham\\b|\\bNotse\\b|\\bNotre\\-Dame\\-de\\-Grace\\b|\\bNoto\\b|\\bNosy Varika\\b|\\bNossa Senhora do Socorro\\b|\\bNossa Senhora da Gloria\\b|\\bNosivka\\b|\\bNoshiro\\b|\\bNorzagaray\\b|\\bNorwood\\b|\\bNorwood\\b|\\bNorwich\\b|\\bNorwich\\b|\\bNorwalk\\b|\\bNorwalk\\b|\\bNorwalk\\b|\\bNorton Shores\\b|\\bNorton\\b|\\bNorton\\b|\\bNorthwich\\b|\\bNorthridge\\b|\\bNorthport\\b|\\bNortholt\\b|\\bNorthglenn\\b|\\bNorthfield\\b|\\bNortheim\\b|\\bNorthdale\\b|\\bNorthcote\\b|\\bNorthbrook\\b|\\bNorthampton\\b|\\bNorthampton\\b|\\bNorthallerton\\b|\\bNorth York\\b|\\bNorth Vancouver\\b|\\bNorth Valley Stream\\b|\\bNorth Tustin\\b|\\bNorth Tonawanda\\b|\\bNorth Stamford\\b|\\bNorth Shore\\b|\\bNorth Shields\\b|\\bNorth Salt Lake\\b|\\bNorth Royalton\\b|\\bNorth Ridgeville\\b|\\bNorth Richland Hills\\b|\\bNorth Providence\\b|\\bNorth Potomac\\b|\\bNorth Port\\b|\\bNorth Platte\\b|\\bNorth Plainfield\\b|\\bNorth Peoria\\b|\\bNorth Olmsted\\b|\\bNorth Ogden\\b|\\bNorth Myrtle Beach\\b|\\bNorth Miami Beach\\b|\\bNorth Miami\\b|\\bNorth Melbourne\\b|\\bNorth Massapequa\\b|\\bNorth Little Rock\\b|\\bNorth Liberty\\b|\\bNorth Lawndale\\b|\\bNorth Lauderdale\\b|\\bNorth Las Vegas\\b|\\bNorth Lakhimpur\\b|\\bNorth Lakes\\b|\\bNorth La Crosse\\b|\\bNorth Kingstown\\b|\\bNorth Hollywood\\b|\\bNorth Hills\\b|\\bNorth Highlands\\b|\\bNorth Haven\\b|\\bNorth Guwahati\\b|\\bNorth Fort Myers\\b|\\bNorth Druid Hills\\b|\\bNorth Decatur\\b|\\bNorth Creek\\b|\\bNorth Cowichan\\b|\\bNorth Chicopee\\b|\\bNorth Chicago\\b|\\bNorth Charleston\\b|\\bNorth Center\\b|\\bNorth Canton\\b|\\bNorth Bethesda\\b|\\bNorth Bergen\\b|\\bNorth Bellmore\\b|\\bNorth Bel Air\\b|\\bNorth Bay Shore\\b|\\bNorth Bay\\b|\\bNorth Battleford\\b|\\bNorth Babylon\\b|\\bNorth Aurora\\b|\\bNorth Augusta\\b|\\bNorth Attleborough Center\\b|\\bNorth Atlanta\\b|\\bNorth Arlington\\b|\\bNorth Andover\\b|\\bNorth Amityville\\b|\\bNorrtalje\\b|\\bNorrkoping\\b|\\bNorristown\\b|\\bNorman\\b|\\bNormal\\b|\\bNorland\\b|\\bNorilsk\\b|\\bNorfolk County\\b|\\bNorfolk\\b|\\bNorfolk\\b|\\bNordhorn\\b|\\bNordhausen\\b|\\bNorderstedt\\b|\\bNordenham\\b|\\bNorden\\b|\\bNorcross\\b|\\bNorco\\b|\\bNorak\\b|\\bNoordwijk\\-Binnen\\b|\\bNonsan\\b|\\bNonoichi\\b|\\bNongstoin\\b|\\bNong Phai\\b|\\bNong Kung Si\\b|\\bNong Khai\\b|\\bNong Khae\\b|\\bNong Bua Lamphu\\b|\\bNon Sung\\b|\\bNola\\b|\\bNola\\b|\\bNokia\\b|\\bNokha\\b|\\bNoisy\\-le\\-Sec\\b|\\bNoisy\\-le\\-Grand\\b|\\bNoisiel\\b|\\bNoida\\b|\\bNoicattaro\\b|\\bNohar\\b|\\bNoginsk\\b|\\bNogent\\-sur\\-Oise\\b|\\bNogent\\-sur\\-Marne\\b|\\bNogales\\b|\\bNogales\\b|\\bNogales\\b|\\bNoe Valley\\b|\\bNoda\\b|\\bNoci\\b|\\bNochistlan de Mejia\\b|\\bNocera Superiore\\b|\\bNocera Inferiore\\b|\\bNoblesville\\b|\\bNoble Park\\b|\\bNobeoka\\b|\\bNnewi\\b|\\bNkwerre\\b|\\bNkpor\\b|\\bNkowakowa\\b|\\bNkoteng\\b|\\bNkongsamba\\b|\\bNkhotakota\\b|\\bNjombe\\b|\\bNjeru\\b|\\bNis\\b|\\bNigde\\b|\\bNizamabad\\b|\\bNizwa\\b|\\bNizip\\b|\\bNizhyn\\b|\\bNizhnyaya Tura\\b|\\bNizhnyaya Salda\\b|\\bNizhny Tagil\\b|\\bNizhniy Novgorod\\b|\\bNizhniy Lomov\\b|\\bNizhnevartovsk\\b|\\bNizhneudinsk\\b|\\bNizhnesortymskiy\\b|\\bNizhnekamsk\\b|\\bNixa\\b|\\bNiwai\\b|\\bNivelles\\b|\\bNitra\\b|\\bNiteroi\\b|\\bNisko\\b|\\bNishiwaki\\b|\\bNishishinminato\\b|\\bNishio\\b|\\bNishinoomote\\b|\\bNishinomiya\\-hama\\b|\\bNishifukuma\\b|\\bNishi\\-Tokyo\\-shi\\b|\\bNiscemi\\b|\\bNirmali\\b|\\bNirmal\\b|\\bNirgua\\b|\\bNirasaki\\b|\\bNiquero\\b|\\bNiquelandia\\b|\\bNipani\\b|\\bNippes\\b|\\bNipomo\\b|\\bNiort\\b|\\bNioro du Rip\\b|\\bNioki\\b|\\bNinove\\b|\\bNinomiya\\b|\\bNinh Binh\\b|\\bNingyang\\b|\\bNinghai\\b|\\bNinghai\\b|\\bNingde\\b|\\bNingbo\\b|\\bNimaparha\\b|\\bNilopolis\\b|\\bNiles\\b|\\bNiles\\b|\\bNilanga\\b|\\bNilakottai\\b|\\bNiksic\\b|\\bNikulino\\b|\\bNiksar\\b|\\bNikopol\\b|\\bNikol'skoye\\b|\\bNikol'skoye\\b|\\bNikol'sk\\b|\\bNikolayevsk\\-on\\-Amure\\b|\\bNikolayevsk\\b|\\bNikolassee\\b|\\bNikko\\b|\\bNikki\\b|\\bNikel\\b|\\bNijmegen\\b|\\bNijlen\\b|\\bNijkerk\\b|\\bNiitsu\\-honcho\\b|\\bNiimi\\b|\\bNiihama\\b|\\bNiigata\\b|\\bNihtaur\\b|\\bNihommatsu\\b|\\bNigran\\b|\\bNigel\\b|\\bNieuwegein\\b|\\bNienburg\\b|\\bNiederschonhausen\\b|\\bNiederrad\\b|\\bNiederkruchten\\b|\\bNiederkassel\\b|\\bNieder\\-Ingelheim\\b|\\bNidderau\\b|\\bNidda\\b|\\bNidadavole\\b|\\bNicoya\\b|\\bNicosia\\b|\\bNicolas Romero\\b|\\bNicolas R Casillas\\b|\\bNicholasville\\b|\\bNichlaul\\b|\\bNichinan\\b|\\bNichelino\\b|\\bNice\\b|\\bNicastro\\b|\\bNibong Tebal\\b|\\bNianzishan\\b|\\bNiamtougou\\b|\\bNiamey\\b|\\bNiagara Falls\\b|\\bNiagara Falls\\b|\\bNha Trang\\b|\\bNguekhokh\\b|\\bNguruka\\b|\\bNguru\\b|\\bNgunut\\b|\\bNguigmi\\b|\\bNgudu\\b|\\bNgozi\\b|\\bNgoro\\b|\\bNgerulmud\\b|\\bNgerengere\\b|\\bNgemplak\\b|\\bNgawi\\b|\\bNgara\\b|\\bNgaoundere\\b|\\bNganjuk\\b|\\bNezlobnaya\\b|\\bNeyyattinkara\\b|\\bNeyshabur\\b|\\bNeyriz\\b|\\bNeyagawa\\b|\\bNewtownards\\b|\\bNewtownabbey\\b|\\bNewton\\-le\\-Willows\\b|\\bNewton Mearns\\b|\\bNewton Aycliffe\\b|\\bNewton Abbot\\b|\\bNewton\\b|\\bNewton\\b|\\bNewton\\b|\\bNewry\\b|\\bNewquay\\b|\\bNewport Pagnell\\b|\\bNewport News\\b|\\bNewport Beach\\b|\\bNewport\\b|\\bNewport\\b|\\bNewport\\b|\\bNewport\\b|\\bNewnan\\b|\\bNewmarket\\b|\\bNewmarket\\b|\\bNewington\\b|\\bNewcastle upon Tyne\\b|\\bNewcastle under Lyme\\b|\\bNewcastle\\b|\\bNewcastle\\b|\\bNewburyport\\b|\\bNewbury\\b|\\bNewburn\\b|\\bNewburgh\\b|\\bNewburg\\b|\\bNewberg\\b|\\bNewark on Trent\\b|\\bNewark\\b|\\bNewark\\b|\\bNewark\\b|\\bNewark\\b|\\bNewala Kisimani\\b|\\bNew York City\\b|\\bNew Yekepa\\b|\\bNew Westminster\\b|\\bNew Territory\\b|\\bNew Springville\\b|\\bNew South Memphis\\b|\\bNew Smyrna Beach\\b|\\bNew Rochelle\\b|\\bNew Port Richey\\b|\\bNew Plymouth\\b|\\bNew Philadelphia\\b|\\bNew Orleans\\b|\\bNew Milton\\b|\\bNew Mills\\b|\\bNew Milford\\b|\\bNew Malden\\b|\\bNew London\\b|\\bNew Lenox\\b|\\bNew Kingston\\b|\\bNew Iberia\\b|\\bNew Hope\\b|\\bNew Haven\\b|\\bNew Haven\\b|\\bNew Glasgow\\b|\\bNew Delhi\\b|\\bNew Corella\\b|\\bNew City\\b|\\bNew City\\b|\\bNew Castle\\b|\\bNew Castle\\b|\\bNew Canaan\\b|\\bNew Cairo\\b|\\bNew Badah\\b|\\bNew Brunswick\\b|\\bNew Britain\\b|\\bNew Brighton\\b|\\bNew Braunfels\\b|\\bNew Bern\\b|\\bNew Berlin\\b|\\bNew Bedford\\b|\\bNew Amsterdam\\b|\\bNew Albany\\b|\\bNev'yansk\\b|\\bNevsehir\\b|\\bNevinnomyssk\\b|\\bNevers\\b|\\bNevel'sk\\b|\\bNevel'\\b|\\bNeuwied\\b|\\bNeustrelitz\\b|\\bNeustadt/Sud\\b|\\bNeustadt/Nord\\b|\\bNeustadt in Holstein\\b|\\bNeustadt bei Coburg\\b|\\bNeustadt am Rubenberge\\b|\\bNeustadt\\b|\\bNeuss\\b|\\bNeuruppin\\b|\\bNeuquen\\b|\\bNeunkirchen\\b|\\bNeumunster\\b|\\bNeumarkt in der Oberpfalz\\b|\\bNeukolln\\b|\\bNeuilly\\-sur\\-Seine\\b|\\bNeuilly\\-sur\\-Marne\\b|\\bNeuilly\\-Plaisance\\b|\\bNeufahrn bei Freising\\b|\\bNeuenhagen\\b|\\bNeuehrenfeld\\b|\\bNeue Neustadt\\b|\\bNeuchatel\\b|\\bNeuburg an der Donau\\b|\\bNeubruck\\b|\\bNeubrandenburg\\b|\\bNeu\\-Ulm\\b|\\bNeu\\-Hohenschonhausen\\b|\\bNeu\\-Anspach\\b|\\bNeu Wulmstorf\\b|\\bNeu Isenburg\\b|\\bNettuno\\b|\\bNettetal\\b|\\bNetrakona\\b|\\bNetphen\\b|\\bNetivot\\b|\\bNetishyn\\b|\\bNetanya\\b|\\bNeston\\b|\\bNeston\\b|\\bNesterovskaya\\b|\\bNess Ziona\\b|\\bNesher\\b|\\bNeropolis\\b|\\bNeryungri\\b|\\bNerviano\\b|\\bNerja\\b|\\bNerekhta\\b|\\bNerchinsk\\b|\\bNeratovice\\b|\\bNerang\\b|\\bNeral\\b|\\bNepanagar\\b|\\bNepomuceno\\b|\\bNepean\\b|\\bNepalgunj\\b|\\bNenjiang\\b|\\bNemuro\\b|\\bNemby\\b|\\bNelspruit\\b|\\bNelson\\b|\\bNelson\\b|\\bNellore\\b|\\bNellikkuppam\\b|\\bNelidovo\\b|\\bNelamangala\\b|\\bNeka\\b|\\bNejo\\b|\\bNeiva\\b|\\bNeijiang\\b|\\bNeietsu\\b|\\bNeiba\\b|\\bNehe\\b|\\bNegotino\\b|\\bNegotino\\b|\\bNegotin\\b|\\bNegombo\\b|\\bNegara\\b|\\bNegapatam\\b|\\bNeftcala\\b|\\bNefteyugansk\\b|\\bNeftekumsk\\b|\\bNeftekamsk\\b|\\bNeftegorsk\\b|\\bNefta\\b|\\bNeerpelt\\b|\\bNeenah\\b|\\bNeem ka Thana\\b|\\bNeelankarai\\b|\\bNeedham\\b|\\bNedumangad\\b|\\bNedroma\\b|\\bNederland\\b|\\bNecochea\\b|\\bNeckarsulm\\b|\\bNebbi\\b|\\bNebaj\\b|\\bNeath\\b|\\bNear South Side\\b|\\bNear North Side\\b|\\bNeapoli\\b|\\bNdola\\b|\\bNdibene Dahra\\b|\\bNchelenge\\b|\\bNazarabad\\b|\\bNazret\\b|\\bNazran'\\b|\\bNazilli\\b|\\bNaze\\b|\\bNazca\\b|\\bNazare da Mata\\b|\\bNazare\\b|\\bNazarovo\\b|\\bNazareth\\b|\\bNayagarh\\b|\\bNayoro\\b|\\bNay Pyi Taw\\b|\\bNawada\\b|\\bNawabganj\\b|\\bNawabganj\\b|\\bNawabganj\\b|\\bNawabganj\\b|\\bNawanshahr\\b|\\bNawalgarh\\b|\\bNawabshah\\b|\\bNavsari\\b|\\bNavrongo\\b|\\bNavotas\\b|\\bNavolato\\b|\\bNavojoa\\b|\\bNavoiy\\b|\\bNavirai\\b|\\bNavi Mumbai\\b|\\bNavegantes\\b|\\bNavas\\b|\\bNavarre\\b|\\bNavapolatsk\\b|\\bNavan\\b|\\bNavalmoral de la Mata\\b|\\bNavalgund\\b|\\bNavalcarnero\\b|\\bNavadwip\\b|\\bNava\\b|\\bNautanwa\\b|\\bNaushahro Firoz\\b|\\bNaushahra Virkan\\b|\\bNaumburg\\b|\\bNaukot\\b|\\bNaujamiestis\\b|\\bNaugatuck\\b|\\bNaugachhia\\b|\\bNauen\\b|\\bNaudero\\b|\\bNaucalpan de Juarez\\b|\\bNattam\\b|\\bNatore\\b|\\bNatitingou\\b|\\bNational City\\b|\\bNatick\\b|\\bNatchitoches\\b|\\bNatchez\\b|\\bNatal\\b|\\bNatahoyo\\b|\\bNasirabad\\b|\\bNasugbu\\b|\\bNassau\\b|\\bNasrullahganj\\b|\\bNasiriyah\\b|\\bNasirabad\\b|\\bNashville\\b|\\bNashua\\b|\\bNashik\\b|\\bNasarawa\\b|\\bNarayangarh\\b|\\bNaron\\b|\\bNaryn\\b|\\bNarwana\\b|\\bNarwar\\b|\\bNarva\\b|\\bNaruto\\b|\\bNarutocho\\-mitsuishi\\b|\\bNartkala\\b|\\bNarsipatnam\\b|\\bNarsinghgarh\\b|\\bNarsingdi\\b|\\bNarsimhapur\\b|\\bNarre Warren South\\b|\\bNarre Warren\\b|\\bNarragansett\\b|\\bNarra\\b|\\bNarowal\\b|\\bNarok\\b|\\bNaro\\-Fominsk\\b|\\bNarita\\b|\\bNargund\\b|\\bNarela\\b|\\bNaregal\\b|\\bNardo\\b|\\bNarbonne\\b|\\bNaraura\\b|\\bNarauli\\b|\\bNarathiwat\\b|\\bNarasaraopet\\b|\\bNarasapur\\b|\\bNarasannapeta\\b|\\bNaranjos\\b|\\bNaranjito\\b|\\bNaranjal\\b|\\bNarangba\\b|\\bNarang Mandi\\b|\\bNaraini\\b|\\bNaraina\\b|\\bNarail\\b|\\bNara\\-shi\\b|\\bNar'yan\\-Mar\\b|\\bNaqadeh\\b|\\bNapasar\\b|\\bNaples\\b|\\bNaples\\b|\\bNapier\\b|\\bNaperville\\b|\\bNapa\\b|\\bNanzhou\\b|\\bNanzhang Chengguanzhen\\b|\\bNanyuki\\b|\\bNanyang\\b|\\bNanyamba\\b|\\bNanuque\\b|\\bNanuet\\b|\\bNantwich\\b|\\bNantou\\b|\\bNantong\\b|\\bNanto\\-shi\\b|\\bNantes\\b|\\bNanterre\\b|\\bNantai\\b|\\bNanping\\b|\\bNanpiao\\b|\\bNanning\\b|\\bNanma\\b|\\bNanlong\\b|\\bNankana Sahib\\b|\\bNanjing\\b|\\bNanjangud\\b|\\bNangwa\\b|\\bNangong\\b|\\bNangomba\\b|\\bNangi\\b|\\bNangen\\b|\\bNanganga\\b|\\bNangal\\b|\\bNanga Eboko\\b|\\bNang Rong\\b|\\bNanfeng\\b|\\bNandyal\\b|\\bNandurbar\\b|\\bNandu\\b|\\bNanding\\b|\\bNandikotkur\\b|\\bNandigama\\b|\\bNanded\\b|\\bNandaime\\b|\\bNancy\\b|\\bNanchong\\b|\\bNanchital de Lazaro Cardenas del Rio\\b|\\bNanchang\\b|\\bNanauta\\b|\\bNanao\\b|\\bNanam\\b|\\bNanaimo\\b|\\bNan\\b|\\bNamyslow\\b|\\bNamyangju\\b|\\bNamyang\\-dong\\b|\\bNamur\\b|\\bNamp'o\\b|\\bNampula\\b|\\bNampa\\b|\\bNamioka\\b|\\bNamie\\b|\\bNamibe\\b|\\bNamerikawa\\b|\\bNambiyur\\b|\\bNamasuba\\b|\\bNamanyere\\b|\\bNamangan\\b|\\bNam Dinh\\b|\\bNam Som\\b|\\bNal'chik\\b|\\bNallihan\\b|\\bNalhati\\b|\\bNalgonda\\b|\\bNaldurg\\b|\\bNakur\\b|\\bNaklo nad Notecia\\b|\\bNakuru\\b|\\bNaksalbari\\b|\\bNakodar\\b|\\bNakhon Si Thammarat\\b|\\bNakhon Sawan\\b|\\bNakhon Ratchasima\\b|\\bNakhon Phanom\\b|\\bNakhon Pathom\\b|\\bNakhon Nayok\\b|\\bNakhon Luang\\b|\\bNakhodka\\b|\\bNakhchivan\\b|\\bNakhabino\\b|\\bNakatsugawa\\b|\\bNakatsu\\b|\\bNakanojomachi\\b|\\bNakano\\b|\\bNakamura\\b|\\bNakama\\b|\\bNaka\\b|\\bNajibabad\\b|\\bNaju\\b|\\bNajran\\b|\\bNajafabad\\b|\\bNajafgarh\\b|\\bNajaf\\b|\\bNaja' Hammadi\\b|\\bNaivasha\\b|\\bNairobi\\b|\\bNainwa\\b|\\bNainpur\\b|\\bNaini Tal\\b|\\bNailsea\\b|\\bNaihati\\b|\\bNaic\\b|\\bNahavand\\b|\\bNahuala\\b|\\bNahrin\\b|\\bNahorkatiya\\b|\\bNahiyat Ghammas\\b|\\bNaharlagun\\b|\\bNahariyya\\b|\\bNaha\\b|\\bNagina\\b|\\bNagykoros\\b|\\bNagykanizsa\\b|\\bNagua\\b|\\bNagqu\\b|\\bNagpur\\b|\\bNagoya\\b|\\bNagornyy\\b|\\bNagold\\b|\\bNago\\b|\\bNageswari\\b|\\bNagda\\b|\\bNagcarlan\\b|\\bNagato\\b|\\bNagasaki\\b|\\bNagarote\\b|\\bNagari\\b|\\bNagareyama\\b|\\bNagar\\b|\\bNagaoka\\b|\\bNagano\\b|\\bNagai\\b|\\bNagahama\\b|\\bNaga\\b|\\bNaga\\b|\\bNafada\\b|\\bNaeso\\b|\\bNadym\\b|\\bNadvirna\\b|\\bNaduvannur\\b|\\bNador\\b|\\bNadiad\\b|\\bNadi\\b|\\bNacogdoches\\b|\\bNacka\\b|\\bNaciria\\b|\\bNacimiento\\b|\\bNachingwea\\b|\\bNacala\\b|\\bNabinagar\\b|\\bNabinagar\\b|\\bNabunturan\\b|\\bNabua\\b|\\bNablus\\b|\\bNabire\\b|\\bNabeul\\b|\\bNaberezhnyye Chelny\\b|\\bNabatiye et Tahta\\b|\\bNabari\\b|\\bNabagram\\b|\\bNaas\\b|\\bNaarden\\b|\\bNaaldwijk\\b|\\bNa Klang\\b|\\bNIA Valencia\\b|\\bN'zeto\\b|\\bN'Djamena\\b|\\bM'Sila\\b|\\bMy Tho\\b|\\bMuvattupula\\b|\\bMundwa\\b|\\bMulki\\b|\\bMul\\b|\\bMudbidri\\b|\\bMlawa\\b|\\bMiandoab\\b|\\bMiranpur Katra\\b|\\bMiranpur\\b|\\bMirganj\\b|\\bMinab\\b|\\bMinjur\\b|\\bMelnik\\b|\\bMavelikara\\b|\\bMatabhanga\\b|\\bMarkapur\\b|\\bMarahra\\b|\\bMapuca\\b|\\bManavadar\\b|\\bManwat\\b|\\bManvi\\b|\\bMansa\\b|\\bMansa\\b|\\bMangrol\\b|\\bMangrol\\b|\\bMandvi\\b|\\bMandvi\\b|\\bMandalgarh\\b|\\bMandal\\b|\\bMalur\\b|\\bMalvan\\b|\\bMalpura\\b|\\bMaler Kotla\\b|\\bMalegaon\\b|\\bMakum\\b|\\bMajalgaon\\b|\\bMagadi\\b|\\bMadaripur\\b|\\bMadaba\\b|\\bMachhiwara\\b|\\bMacherla\\b|\\bMunster\\b|\\bMullheim\\b|\\bMulheim\\b|\\bMulheim\\b|\\bMuhlheim am Main\\b|\\bMuhlhausen\\b|\\bMuhldorf\\b|\\bMuhlacker\\b|\\bMossingen\\b|\\bMorfelden\\-Walldorf\\b|\\bMonchengladbach\\b|\\bMolnlycke\\b|\\bMolndal\\b|\\bMolln\\b|\\bModling\\b|\\bMostoles\\b|\\bMong Cai\\b|\\bMerignac\\b|\\bMerida\\b|\\bMerida\\b|\\bMerida\\b|\\bMekhe\\b|\\bMegara\\b|\\bMedea\\b|\\bMarsta\\b|\\bMarkisches Viertel\\b|\\bMantsala\\b|\\bMacon\\b|\\bMateszalka\\b|\\bMalaga\\b|\\bMalaga\\b|\\bMzuzu\\b|\\bMzimba\\b|\\bMyslenice\\b|\\bMytishchi\\b|\\bMytilene\\b|\\bMyslowice\\b|\\bMyszkow\\b|\\bMysore\\b|\\bMyski\\b|\\bMyrtle Grove\\b|\\bMyrtle Beach\\b|\\bMyrnohrad\\b|\\bMyrhorod\\b|\\bMymensingh\\b|\\bMykolayiv\\b|\\bMyitkyina\\b|\\bMyingyan\\b|\\bMyeik\\b|\\bMyaydo\\b|\\bMyawadi\\b|\\bMyanaung\\b|\\bMwene\\-Ditu\\b|\\bMweka\\b|\\bMwanza\\b|\\bMwandiga\\b|\\bMwadui\\b|\\bMvomero\\b|\\bMus\\b|\\bMugla\\b|\\bMunoz\\b|\\bMuniz\\b|\\bMuzambinho\\b|\\bMuzaffarabad\\b|\\bMuzaffarpur\\b|\\bMuzaffarnagar\\b|\\bMuzaffargarh\\b|\\bMuyuka\\b|\\bMuyinga\\b|\\bMuvattupuzha\\b|\\bMutxamel\\b|\\bMutuali\\b|\\bMuttupet\\b|\\bMuttenz\\b|\\bMutsu\\b|\\bMutengene\\b|\\bMutare\\b|\\bMut\\b|\\bMustang\\b|\\bMustafabad\\b|\\bMustafakemalpasa\\b|\\bMussoorie\\b|\\bMusselburgh\\b|\\bMusoma\\b|\\bMuskogee\\b|\\bMuskegon\\b|\\bMuskego\\b|\\bMusiri\\b|\\bMushabani\\b|\\bMushie\\b|\\bMuscatine\\b|\\bMuscat\\b|\\bMusashino\\b|\\bMusanze\\b|\\bMusan\\-up\\b|\\bMusaffah\\b|\\bMuradnagar\\b|\\bMurzuq\\b|\\bMurwara\\b|\\bMurun\\-kuren\\b|\\bMurudeshwara\\b|\\bMurtajapur\\b|\\bMurshidabad\\b|\\bMurrysville\\b|\\bMurrieta\\b|\\bMurree\\b|\\bMurray\\b|\\bMurray\\b|\\bMurphy\\b|\\bMuroto\\-misakicho\\b|\\bMuroran\\b|\\bMurom\\b|\\bMurmansk\\b|\\bMurliganj\\b|\\bMuritiba\\b|\\bMuriti\\b|\\bMuridke\\b|\\bMurici\\b|\\bMuricay\\b|\\bMuriae\\b|\\bMurfreesboro\\b|\\bMuret\\b|\\bMurcia\\b|\\bMurcia\\b|\\bMurbad\\b|\\bMuravlenko\\b|\\bMuratpasa\\b|\\bMuramvya\\b|\\bMuramatsu\\b|\\bMurakami\\b|\\bMunuf\\b|\\bMuntok\\b|\\bMuntilan\\b|\\bMunster\\b|\\bMunster\\b|\\bMunsan\\b|\\bMunnar\\b|\\bMunkkiniemi\\b|\\bMunich\\b|\\bMungyeong\\b|\\bMungia\\b|\\bMungeli\\b|\\bMungaoli\\b|\\bMungaa\\b|\\bMundra\\b|\\bMundgod\\b|\\bMundelein\\b|\\bMundargi\\b|\\bMuncie\\b|\\bMuncar\\b|\\bMumias\\b|\\bMumbwa\\b|\\bMumbai\\b|\\bMuluppilagadu\\b|\\bMultan\\b|\\bMultai\\b|\\bMulleriyawa\\b|\\bMulhouse\\b|\\bMulgund\\b|\\bMulgrave\\b|\\bMulchen\\b|\\bMulbagal\\b|\\bMulanje\\b|\\bMula\\b|\\bMuko\\b|\\bMuktagacha\\b|\\bMuktsar\\b|\\bMukono\\b|\\bMukilteo\\b|\\bMukher\\b|\\bMukerian\\b|\\bMukdahan\\b|\\bMukalla\\b|\\bMukah\\b|\\bMukacheve\\b|\\bMujiayingzi\\b|\\bMuikamachi\\b|\\bMuhoroni\\b|\\bMuheza\\b|\\bMuhammadabad\\b|\\bMuhammadabad\\b|\\bMuhammadabad\\b|\\bMugumu\\b|\\bMugnano di Napoli\\b|\\bMughal Sarai\\b|\\bMuggio\\b|\\bMufulira\\b|\\bMueang Nonthaburi\\b|\\bMudu\\b|\\bMudon\\b|\\bMudkhed\\b|\\bMudhol\\b|\\bMudgal\\b|\\bMuddebihal\\b|\\bMudanya\\b|\\bMudanjiang\\b|\\bMucuri\\b|\\bMucur\\b|\\bMucumpiz\\b|\\bMuch\\b|\\bMubarakpur\\b|\\bMuborak\\b|\\bMubi\\b|\\bMubende\\b|\\bMuar\\b|\\bMuang Xay\\b|\\bMuang Phonsavan\\b|\\bMuan\\b|\\bMtwara\\b|\\bMtwango\\b|\\bMtsensk\\b|\\bMto wa Mbu\\b|\\bMtinko\\b|\\bMthatha\\b|\\bMsowero\\b|\\bMsaken\\b|\\bMragowo\\b|\\bMranggen\\b|\\bMpwapwa\\b|\\bMpumalanga\\b|\\bMpophomeni\\b|\\bMpika\\b|\\bMpanda\\b|\\bMozhga\\b|\\bMozhaysk\\b|\\bMozdok\\b|\\bMoyotzingo\\b|\\bMoyobamba\\b|\\bMoyo\\b|\\bMoyale\\b|\\bMouzaia\\b|\\bMoutsamoudou\\b|\\bMoussoro\\b|\\bMouscron\\b|\\bMountsorrel\\b|\\bMountlake Terrace\\b|\\bMountain View\\b|\\bMountain Brook\\b|\\bMount Waverley\\b|\\bMount Vernon\\b|\\bMount Vernon\\b|\\bMount Vernon\\b|\\bMount Vernon\\b|\\bMount Prospect\\b|\\bMount Pleasant\\b|\\bMount Pleasant\\b|\\bMount Pleasant\\b|\\bMount Pleasant\\b|\\bMount Pearl\\b|\\bMount Martha\\b|\\bMount Lebanon\\b|\\bMount Laurel\\b|\\bMount Juliet\\b|\\bMount Isa\\b|\\bMount Hagen\\b|\\bMount Greenwood\\b|\\bMount Gambier\\b|\\bMount Eliza\\b|\\bMount Druitt\\b|\\bMount Clemens\\b|\\bMoundou\\b|\\bMoulins\\b|\\bMouila\\b|\\bMougins\\b|\\bMotul\\b|\\bMott Haven\\b|\\bMotru\\b|\\bMotril\\b|\\bMotozintla\\b|\\bMotomiya\\b|\\bMotomachi\\b|\\bMothihari\\b|\\bMotherwell\\b|\\bMotegi\\b|\\bMotala\\b|\\bMosul\\b|\\bMosty\\b|\\bMostovskoy\\b|\\bMostar\\b|\\bMostaganem\\b|\\bMosta\\b|\\bMost\\b|\\bMossoro\\b|\\bMossendjo\\b|\\bMossel Bay\\b|\\bMoss\\b|\\bMosquera\\b|\\bMosopa\\b|\\bMosonmagyarovar\\b|\\bMosman\\b|\\bMoskovskiy\\b|\\bMoskovskiy\\b|\\bMoskhaton\\b|\\bMoshi\\b|\\bMoses Lake\\b|\\bMoscow\\b|\\bMoscow\\b|\\bMoscavide e Portela\\b|\\bMosbach\\b|\\bMorar\\b|\\bMoradabad\\b|\\bMoron de la Frontera\\b|\\bMoron\\b|\\bMoron\\b|\\bMoron\\b|\\bMorwa\\b|\\bMortsel\\b|\\bMorton Grove\\b|\\bMorton\\b|\\bMorteros\\b|\\bMorsi\\b|\\bMorshansk\\b|\\bMorsang\\-sur\\-Orge\\b|\\bMorro do Chapeu\\b|\\bMorro Agudo\\b|\\bMorrisville\\b|\\bMorristown\\b|\\bMorristown\\b|\\bMorrisania\\b|\\bMorris Heights\\b|\\bMorrinhos\\b|\\bMorrelgonj\\b|\\bMorphett Vale\\b|\\bMorozovsk\\b|\\bMoroni\\b|\\bMorong\\b|\\bMorong\\b|\\bMorondava\\b|\\bMoroleon\\b|\\bMorohongo\\b|\\bMorogoro\\b|\\bMoro\\b|\\bMornington\\b|\\bMorningside Heights\\b|\\bMormugao\\b|\\bMorley\\b|\\bMorley\\b|\\bMorlanwelz\\-Mariemont\\b|\\bMorlaix\\b|\\bMoriyama\\b|\\bMoriya\\b|\\bMorioka\\b|\\bMorinda\\b|\\bMoriki\\b|\\bMoriguchi\\b|\\bMorigaon\\b|\\bMori\\b|\\bMorgantown\\b|\\bMorganton\\b|\\bMorgan Park\\b|\\bMorgan Hill\\b|\\bMoreton\\b|\\bMoreno Valley\\b|\\bMoreno\\b|\\bMoreni\\b|\\bMorena\\b|\\bMorelia\\b|\\bMorecambe\\b|\\bMorden\\b|\\bMorbi\\b|\\bMorayfield\\b|\\bMoratuwa\\b|\\bMoratalaz\\b|\\bMoramanga\\b|\\bMoram\\b|\\bMorales\\b|\\bMorales\\b|\\bMorales\\b|\\bMoraga\\b|\\bMorada Nova\\b|\\bMora\\b|\\bMoquegua\\b|\\bMopti\\b|\\bMoose Jaw\\b|\\bMoosburg\\b|\\bMoorpark\\b|\\bMooroolbark\\b|\\bMoorhead\\b|\\bMooresville\\b|\\bMoore\\b|\\bMooka\\b|\\bMoncao\\b|\\bMonzon\\b|\\bMonze\\b|\\bMonza\\b|\\bMonywa\\b|\\bMontelimar\\b|\\bMontville Center\\b|\\bMontreal\\b|\\bMontrouge\\b|\\bMontrose\\b|\\bMontreux\\b|\\bMontreuil\\b|\\bMontpellier\\b|\\bMontornes del Valles\\b|\\bMontmorency\\b|\\bMontlucon\\b|\\bMontivilliers\\b|\\bMontilla\\b|\\bMontijo\\b|\\bMontijo\\b|\\bMontigny\\-les\\-Metz\\b|\\bMontigny\\-les\\-Cormeilles\\b|\\bMontigny\\-le\\-Bretonneux\\b|\\bMontichiari\\b|\\bMonthey\\b|\\bMontgomery Village\\b|\\bMontgomery\\b|\\bMontgomery\\b|\\bMontgeron\\b|\\bMontfermeil\\b|\\bMontevideo\\b|\\bMontevarchi\\b|\\bMontesson\\b|\\bMontesilvano Marina\\b|\\bMontes Claros\\b|\\bMonteria\\b|\\bMonterusciello\\b|\\bMonterrey\\b|\\bMonterotondo\\b|\\bMonteros\\b|\\bMontero\\b|\\bMonterey Park\\b|\\bMonterey\\b|\\bMontereau\\-Fault\\-Yonne\\b|\\bMontepuez\\b|\\bMontenegro\\b|\\bMontenegro\\b|\\bMontemurlo\\b|\\bMontelibano\\b|\\bMonteiro\\b|\\bMontego Bay\\b|\\bMontecristi\\b|\\bMontecchio Maggiore\\-Alte Ceccato\\b|\\bMontecatini\\-Terme\\b|\\bMontecarlo\\b|\\bMontecanal\\b|\\bMontecalvario\\b|\\bMontebelluna\\b|\\bMontebello\\b|\\bMonte\\-Carlo\\b|\\bMonte Santo de Minas\\b|\\bMonte Plata\\b|\\bMonte Mor\\b|\\bMonte Llano\\b|\\bMonte Estoril\\b|\\bMonte Caseros\\b|\\bMonte Carmelo\\b|\\bMonte Azul Paulista\\b|\\bMonte Aprazivel\\b|\\bMonte Alto\\b|\\bMonte Alegre\\b|\\bMontclair\\b|\\bMontclair\\b|\\bMontclair\\b|\\bMontceau\\-les\\-Mines\\b|\\bMontcada i Reixac\\b|\\bMontbeliard\\b|\\bMontbrison\\b|\\bMontauban\\b|\\bMontargis\\b|\\bMontana\\b|\\bMontalvo\\b|\\bMontagu\\b|\\bMont\\-de\\-Marsan\\b|\\bMont\\-Saint\\-Hilaire\\b|\\bMont\\-Saint\\-Aignan\\b|\\bMont\\-Royal\\b|\\bMont\\-Dore\\b|\\bMonsey\\b|\\bMonserrato\\b|\\bMonselice\\b|\\bMonsefu\\b|\\bMonsanto\\b|\\bMons\\-en\\-Baroeul\\b|\\bMons\\b|\\bMonrovia\\b|\\bMonrovia\\b|\\bMonroeville\\b|\\bMonroe\\b|\\bMonroe\\b|\\bMonroe\\b|\\bMonroe\\b|\\bMonreale\\b|\\bMonor\\b|\\bMonopoli\\b|\\bMonoharpur\\b|\\bMonkayo\\b|\\bMonino\\b|\\bMonheim am Rhein\\b|\\bMonguno\\b|\\bMongu\\b|\\bMongo\\b|\\bMonghyr\\b|\\bMongagua\\b|\\bMonforte de Lemos\\b|\\bMonfalcone\\b|\\bMondragone\\b|\\bMondovi\\b|\\bMondlo\\b|\\bMoncton\\b|\\bMonclova\\b|\\bMoncloa\\-Aravaca\\b|\\bMonchegorsk\\b|\\bMoncalieri\\b|\\bMoncada\\b|\\bMonastir\\b|\\bMonaco\\b|\\bMon Repos\\b|\\bMon\\b|\\bMompos\\b|\\bMomostenango\\b|\\bMombetsu\\b|\\bMombaca\\b|\\bMombasa\\b|\\bMolodohvardiys'k\\b|\\bMolo\\b|\\bMollet del Valles\\b|\\bMollendo\\b|\\bMolins de Rei\\b|\\bMoline\\b|\\bMolina de Segura\\b|\\bMolina\\b|\\bMolfetta\\b|\\bMolepolole\\b|\\bMolde\\b|\\bMolave\\b|\\bMola di Bari\\b|\\bMol\\b|\\bMokwa\\b|\\bMokpo\\b|\\bMokotow\\b|\\bMokopane\\b|\\bMokolo\\b|\\bMokokchung\\b|\\bMokena\\b|\\bMokameh\\b|\\bMoju\\b|\\bMojokerto\\b|\\bMojoagung\\b|\\bMojo\\b|\\bMoita\\b|\\bMoissy\\-Cramayel\\b|\\bMoirang\\b|\\bMoinesti\\b|\\bMohacs\\b|\\bMohyliv\\-Podilskyi\\b|\\bMohr\\b|\\bMohammedia\\b|\\bMohali\\b|\\bMohale's Hoek\\b|\\bMogan\\b|\\bMoguer\\b|\\bMogok\\b|\\bMogoditshane\\b|\\bMogliano Veneto\\b|\\bMogi das Cruzes\\b|\\bMogi Mirim\\b|\\bMogi Guacu\\b|\\bMogadishu\\b|\\bMoga\\b|\\bMoers\\b|\\bModrany\\b|\\bModasa\\b|\\bModugno\\b|\\bModi'in Makkabbim Re'ut\\b|\\bModimolle\\b|\\bModiin Ilit\\b|\\bModica\\b|\\bModesto\\b|\\bModena\\b|\\bModakeke\\b|\\bMocimboa\\b|\\bMococa\\b|\\bMocoa\\b|\\bMochudi\\b|\\bMoche\\b|\\bMocajuba\\b|\\bMoca\\b|\\bMobile\\b|\\bMobaye\\b|\\bMobara\\b|\\bMoana\\b|\\bMoanda\\b|\\bMoanda\\b|\\bMoabit\\b|\\bMoa\\b|\\bMo i Rana\\b|\\bMmabatho\\b|\\bMlowo\\b|\\bMlonggo\\b|\\bMlimba\\b|\\bMlangali\\b|\\bMlandizi\\b|\\bMlalo\\b|\\bMlada Boleslav\\b|\\bMkuranga\\b|\\bMisratah\\b|\\bMinsk Mazowiecki\\b|\\bMiedzyrzecz\\b|\\bMiedzyrzec Podlaski\\b|\\bMizusawa\\b|\\bMizunami\\b|\\bMizque\\b|\\bMizil\\b|\\bMizhou\\b|\\bMizdah\\b|\\bMiyoshi\\b|\\bMiyazu\\b|\\bMiyazaki\\b|\\bMiyata\\b|\\bMiyang\\b|\\bMiyakonojo\\b|\\bMiyako\\b|\\bMixquiahuala de Juarez\\b|\\bMixco\\b|\\bMiura\\b|\\bMityana\\b|\\bMittweida\\b|\\bMitte\\b|\\bMitsuke\\b|\\bMitsukaido\\b|\\bMitry\\-Mory\\b|\\bMitrovice\\b|\\bMitras Poniente\\b|\\bMito\\b|\\bMithi\\b|\\bMitha Tiwana\\b|\\bMitchell\\b|\\bMitcham\\b|\\bMitcham\\b|\\bMitake\\b|\\bMisungwi\\b|\\bMisterbianco\\b|\\bMissouri City\\b|\\bMissoula\\b|\\bMississauga\\b|\\bMission Viejo\\b|\\bMission District\\b|\\bMission Bend\\b|\\bMission\\b|\\bMission\\b|\\bMisrikh\\b|\\bMislata\\b|\\bMiskolc\\b|\\bMisilmeri\\b|\\bMishima\\b|\\bMishawaka\\b|\\bMishan\\b|\\bMisawa\\b|\\bMisantla\\b|\\bMirzapur\\b|\\bMirzapur\\b|\\bMiryang\\b|\\bMirriah\\b|\\bMirpur Mathelo\\b|\\bMirpur Khas\\b|\\bMirnyy\\b|\\bMirnyy\\b|\\bMirny\\b|\\bMirialguda\\b|\\bMiri\\b|\\bMirfield\\b|\\bMirano\\b|\\bMirandopolis\\b|\\bMirandola\\b|\\bMiranda de Ebro\\b|\\bMiranda\\b|\\bMiramichi\\b|\\bMiramas\\b|\\bMiramar\\b|\\bMiramar\\b|\\bMiragoane\\b|\\bMiracema do Tocantins\\b|\\bMiracema\\b|\\bMirabel\\b|\\bMira Taglio\\b|\\bMira Mesa\\b|\\bMioveni\\b|\\bMinzhu\\b|\\bMinyat an Nasr\\b|\\bMinusinsk\\b|\\bMinturno\\b|\\bMint Hill\\b|\\bMinsk\\b|\\bMinot\\b|\\bMinokamo\\b|\\bMino\\b|\\bMino\\b|\\bMinnetonka Mills\\b|\\bMinnetonka\\b|\\bMinneapolis\\b|\\bMinna\\b|\\bMingyue\\b|\\bMingshui\\b|\\bMingshui\\b|\\bMingora\\b|\\bMinglanilla\\b|\\bMingguang\\b|\\bMinggang\\b|\\bMingelchaur\\b|\\bMineralnye Vody\\b|\\bMineola\\b|\\bMineiros\\b|\\bMinden\\b|\\bMindelo\\b|\\bMinchianabad\\b|\\bMinbu\\b|\\bMinacu\\b|\\bMinato\\b|\\bMinatitlan\\b|\\bMinas de Matahambre\\b|\\bMinas de Marcona\\b|\\bMinas\\b|\\bMinas\\b|\\bMinamirinkan\\b|\\bMinamata\\b|\\bMinakuchicho\\-matoba\\b|\\bMimarsinan\\b|\\bMilwaukie\\b|\\bMilwaukee\\b|\\bMilton Keynes\\b|\\bMilton\\b|\\bMilton\\b|\\bMilton\\b|\\bMilpitas\\b|\\bMilpa Alta\\b|\\bMillville\\b|\\bMillerovo\\b|\\bMilledgeville\\b|\\bMillcreek\\b|\\bMillbrook\\b|\\bMillbrae\\b|\\bMillau\\b|\\bMill Park\\b|\\bMill Creek East\\b|\\bMill Creek\\b|\\bMililani Town\\b|\\bMilford Mill\\b|\\bMilford\\b|\\bMilford\\b|\\bMildura\\b|\\bMilazzo\\b|\\bMilas\\b|\\bMilanowek\\b|\\bMilan\\b|\\bMilak\\b|\\bMilagro\\b|\\bMila\\b|\\bMikuni\\b|\\bMikumi\\b|\\bMikolow\\b|\\bMikkeli\\b|\\bMiki\\b|\\bMikhaylovsk\\b|\\bMikhaylovka\\b|\\bMikhalkovo\\b|\\bMijdrecht\\b|\\bMijas\\b|\\bMihona\\b|\\bMiharu\\b|\\bMihara\\b|\\bMiguelopolis\\b|\\bMiguel Pereira\\b|\\bMiguel Hidalgo\\b|\\bMiguel Aleman \\(La Doce\\)\\b|\\bMigori\\b|\\bMigdal Ha'Emeq\\b|\\bMieres\\b|\\bMiercurea\\-Ciuc\\b|\\bMielec\\b|\\bMidyat\\b|\\bMidwest City\\b|\\bMidway\\b|\\bMidvale\\b|\\bMidstream\\b|\\bMidsayap\\b|\\bMidrand\\b|\\bMidoun\\b|\\bMidlothian\\b|\\bMidland\\b|\\bMidland\\b|\\bMidland\\b|\\bMidelt\\b|\\bMiddletown\\b|\\bMiddletown\\b|\\bMiddletown\\b|\\bMiddletown\\b|\\bMiddletown\\b|\\bMiddleton\\b|\\bMiddleton\\b|\\bMiddlesbrough\\b|\\bMiddleburg Heights\\b|\\bMiddleborough\\b|\\bMiddle Village\\b|\\bMiddle River\\b|\\bMiddelkerke\\b|\\bMiddelharnis\\b|\\bMiddelburg\\b|\\bMiddelburg\\b|\\bMiddelburg\\b|\\bMichurinsk\\b|\\bMichigan City\\b|\\bMichelstadt\\b|\\bMichalovce\\b|\\bMibu\\b|\\bMiass\\b|\\bMianyang\\b|\\bMianwali\\b|\\bMiano\\b|\\bMianke Mor\\b|\\bMiandrivazo\\b|\\bMiandrarivo\\b|\\bMian Channun\\b|\\bMiamisburg\\b|\\bMiami Lakes\\b|\\bMiami Gardens\\b|\\bMiami Beach\\b|\\bMiami\\b|\\bMiahuatlan de Porfirio Diaz\\b|\\bMhasvad\\b|\\bMhango\\b|\\bMgandu\\b|\\bMeiganga\\b|\\bMezotur\\b|\\bMezokovesd\\b|\\bMezhdurechensk\\b|\\bMezgor'e\\b|\\bMezcales\\b|\\bMeyzieu\\b|\\bMeyrin\\b|\\bMeylan\\b|\\bMeycauayan\\b|\\bMeybod\\b|\\bMexico City\\b|\\bMexico\\b|\\bMexicali\\b|\\bMexborough\\b|\\bMevasseret Ziyyon\\b|\\bMeulaboh\\b|\\bMeudon\\b|\\bMetzingen\\b|\\bMetz\\b|\\bMetu\\b|\\bMettur\\b|\\bMettupalayam\\b|\\bMettmann\\b|\\bMetrogorodok\\b|\\bMetro\\b|\\bMetlili Chaamba\\b|\\bMetlaoui\\b|\\bMethuen\\b|\\bMetepec\\b|\\bMetapan\\b|\\bMetamorfosi\\b|\\bMetallostroy\\b|\\bMetairie Terrace\\b|\\bMetairie\\b|\\bMetahara\\b|\\bMestre\\b|\\bMessina\\b|\\bMessaad\\b|\\bMesquite\\b|\\bMesquite\\b|\\bMeskiana\\b|\\bMeschede\\b|\\bMesagne\\b|\\bMesa\\b|\\bMerzig\\b|\\bMerzifon\\b|\\bMeru\\b|\\bMertoyudan\\b|\\bMerthyr Tydfil\\b|\\bMerter Keresteciler\\b|\\bMerta\\b|\\bMersing\\b|\\bMersin\\b|\\bMerseburg\\b|\\bMersa Matruh\\b|\\bMers el Kebir\\b|\\bMerrylands\\b|\\bMerritt Island\\b|\\bMerrimack\\b|\\bMerrillville\\b|\\bMerrifield\\b|\\bMerrick\\b|\\bMerouana\\b|\\bMernda\\b|\\bMerlo\\b|\\bMerkezefendi\\b|\\bMerke\\b|\\bMeridian\\b|\\bMeridian\\b|\\bMeriden\\b|\\bMerenwijk\\b|\\bMerelbeke\\b|\\bMerelani\\b|\\bMerefa\\b|\\bMercerville\\-Hamilton Square\\b|\\bMercer Island\\b|\\bMercedes\\b|\\bMercedes\\b|\\bMercedes\\b|\\bMercedes\\b|\\bMercedes\\b|\\bMercedes\\b|\\bMerced\\b|\\bMerano\\b|\\bMequon\\b|\\bMeppen\\b|\\bMeppel\\b|\\bMeoqui\\b|\\bMenzelinsk\\b|\\bMenzel Jemil\\b|\\bMenzel Bourguiba\\b|\\bMenzel Abderhaman\\b|\\bMenuma\\b|\\bMentougou\\b|\\bMentor\\b|\\bMenton\\b|\\bMentekab\\b|\\bMentana\\b|\\bMenongue\\b|\\bMenomonie\\b|\\bMenomonee Falls\\b|\\bMennzel Bou Zelfa\\b|\\bMenlo Park\\b|\\bMenifee\\b|\\bMengyin\\b|\\bMengcheng Chengguanzhen\\b|\\bMenen\\b|\\bMenemeni\\b|\\bMenemen\\b|\\bMendi\\b|\\bMendoza\\b|\\bMendip\\b|\\bMendi\\b|\\bMendez\\-Nunez\\b|\\bMendes\\b|\\bMenderes\\b|\\bMenden\\b|\\bMendeleyevsk\\b|\\bMendefera\\b|\\bMendarda\\b|\\bMendaha\\b|\\bMenasha\\b|\\bMemari\\b|\\bMemphis\\b|\\bMemmingen\\b|\\bMelissia\\b|\\bMelzo\\b|\\bMelville\\b|\\bMelur\\b|\\bMelun\\b|\\bMelton West\\b|\\bMelton Mowbray\\b|\\bMelrose Park\\b|\\bMelrose\\b|\\bMelrose\\b|\\bMelouza\\b|\\bMelong\\b|\\bMelo\\b|\\bMellunkyla\\b|\\bMelle\\b|\\bMelksham\\b|\\bMelitopol\\b|\\bMelito di Napoli\\b|\\bMelipilla\\b|\\bMelilla\\b|\\bMelgar\\b|\\bMeleuz\\b|\\bMelenki\\b|\\bMelegnano\\b|\\bMelchor Ocampo\\b|\\bMelbourne City Centre\\b|\\bMelbourne\\b|\\bMelbourne\\b|\\bMelati\\b|\\bMeknes\\b|\\bMekla\\b|\\bMek'ele\\b|\\bMejorada del Campo\\b|\\bMejicanos\\b|\\bMeizhou\\b|\\bMeissen\\b|\\bMeise\\b|\\bMeiningen\\b|\\bMeinerzhagen\\b|\\bMeiktila\\b|\\bMeihekou\\b|\\bMeidling\\b|\\bMeiderich\\b|\\bMehtar Lam\\b|\\bMehrabpur\\b|\\bMehndawal\\b|\\bMehlville\\b|\\bMehendiganj\\b|\\bMehekar\\b|\\bMehdia daira de meghila\\b|\\bMehar\\b|\\bMegion\\b|\\bMegarine\\b|\\bMeftah\\b|\\bMeerut\\b|\\bMeerbusch\\b|\\bMeerane\\b|\\bMedvezh'yegorsk\\b|\\bMedvedovskaya\\b|\\bMedvedevo\\b|\\bMednogorsk\\b|\\bMedjez el Bab\\b|\\bMedinipur\\b|\\bMedina del Campo\\b|\\bMedina Estates\\b|\\bMedina\\b|\\bMedina\\b|\\bMedina\\b|\\bMedicine Hat\\b|\\bMedias\\b|\\bMedianeira\\b|\\bMedia Luna\\b|\\bMedgidia\\b|\\bMedford\\b|\\bMedford\\b|\\bMedford\\b|\\bMedenine\\b|\\bMedemblik\\b|\\bMedellin\\b|\\bMedeiros Neto\\b|\\bMedan\\b|\\bMedak\\b|\\bMeda\\b|\\bMeckenheim\\b|\\bMechraa Bel Ksiri\\b|\\bMechernich\\b|\\bMechelen\\b|\\bMechanicsville\\b|\\bMecca\\b|\\bMeaux\\b|\\bMeads\\b|\\bMeadowbrook\\b|\\bMeadow Woods\\b|\\bMead Valley\\b|\\bMchinji\\b|\\bMcMinnville\\b|\\bMcLean\\b|\\bMcKinney\\b|\\bMcKinleyville\\b|\\bMcKinley Park\\b|\\bMcKeesport\\b|\\bMcHenry\\b|\\bMcDonough\\b|\\bMcAllen\\b|\\bMcAlester\\b|\\bMbuji\\-Mayi\\b|\\bMbuguni\\b|\\bMboursou Lere\\b|\\bMbouda\\b|\\bMbinga\\b|\\bMbeya\\b|\\bMbaiki\\b|\\bMbarara\\b|\\bMbanza\\-Ngungu\\b|\\bMbanza Congo\\b|\\bMbanga\\b|\\bMbandjok\\b|\\bMbandaka\\b|\\bMbalmayo\\b|\\bMbale\\b|\\bMbala\\b|\\bMbake\\b|\\bMbabane\\b|\\bMa'arratmisrin\\b|\\bMatay\\b|\\bMasyaf\\b|\\bMastaga\\b|\\bMao\\b|\\bMazar\\-e Sharif\\b|\\bMazyr\\b|\\bMazouna\\b|\\bMazinde\\b|\\bMazeikiai\\b|\\bMazatlan\\b|\\bMazatlan\\b|\\bMazatenango\\b|\\bMazarron\\b|\\bMazargues\\b|\\bMazara del Vallo\\b|\\bMazabuka\\b|\\bMayang Imphal\\b|\\bMaywood\\b|\\bMaywood\\b|\\bMaymana\\b|\\bMayma\\b|\\bMaykop\\b|\\bMayiladuthurai\\b|\\bMayfield Heights\\b|\\bMayenne\\b|\\bMayen\\b|\\bMaych'ew\\b|\\bMayahi\\b|\\bMayaguez\\b|\\bMay Pen\\b|\\bMaxixe\\b|\\bMawana\\b|\\bMawlamyinegyunn\\b|\\bMawlamyine\\b|\\bMawlaik\\b|\\bMavoor\\b|\\bMaues\\b|\\bMaua\\b|\\bMaurepas\\b|\\bMaur\\b|\\bMaun\\b|\\bMaumere\\b|\\bMaumelle\\b|\\bMauldin\\b|\\bMaulavi Bazar\\b|\\bMauguio\\b|\\bMauganj\\b|\\bMaudaha\\b|\\bMaubin\\b|\\bMaubeuge\\b|\\bMaubara\\b|\\bMauban\\b|\\bMau Aimma\\b|\\bMau\\b|\\bMau\\b|\\bMatias Romero\\b|\\bMatao\\b|\\bMatveyevskoye\\b|\\bMaturin\\b|\\bMatui\\b|\\bMattoon\\b|\\bMatthews\\b|\\bMatteson\\b|\\bMattanur\\b|\\bMatsuyama\\b|\\bMatsuto\\b|\\bMatsushima\\b|\\bMatsumoto\\b|\\bMatsue\\b|\\bMatsudo\\b|\\bMatsubase\\b|\\bMatsubara\\b|\\bMatriz de Camaragibe\\b|\\bMatozinhos\\b|\\bMatoury\\b|\\bMatosinhos\\b|\\bMatola\\b|\\bMatli\\b|\\bMatiri\\b|\\bMatiari\\b|\\bMati\\b|\\bMathura\\b|\\bMathba\\b|\\bMateus Leme\\b|\\bMateur\\b|\\bMatera\\b|\\bMatehuala\\b|\\bMataro\\b|\\bMataram\\b|\\bMatara\\b|\\bMatanzas\\b|\\bMatamoros\\b|\\bMatamey\\b|\\bMatam\\b|\\bMatale\\b|\\bMatai\\b|\\bMatagalpa\\b|\\bMatadi\\b|\\bMata\\-Utu\\b|\\bMata de Sao Joao\\b|\\bMaswa\\b|\\bMasvingo\\b|\\bMasumbwe\\b|\\bMasuda\\b|\\bMastung\\b|\\bMastic\\b|\\bMasterton\\b|\\bMassy\\b|\\bMassillon\\b|\\bMassawa\\b|\\bMassapequa Park\\b|\\bMassapequa\\b|\\bMassama\\b|\\bMassamagrell\\b|\\bMassakory\\b|\\bMassaguet\\b|\\bMassafra\\b|\\bMassa\\b|\\bMaspeth\\b|\\bMaspalomas\\b|\\bMason City\\b|\\bMason\\b|\\bMasjed Soleyman\\b|\\bMasis\\b|\\bMasinloc\\b|\\bMasindi\\b|\\bMasina\\b|\\bMashtul as Suq\\b|\\bMashiko\\b|\\bMashhad\\b|\\bMaseru\\b|\\bMascouche\\b|\\bMascote\\b|\\bMascot\\b|\\bMascara\\b|\\bMascalucia\\b|\\bMasbate\\b|\\bMasaya\\b|\\bMasaurhi Buzurg\\b|\\bMasatepe\\b|\\bMasasi\\b|\\bMasantol\\b|\\bMasan\\b|\\bMasallatah\\b|\\bMasaki\\-cho\\b|\\bMasaka\\b|\\bMar''ina Horka\\b|\\bMar'ino\\b|\\bMarivan\\b|\\bMarin\\b|\\bMarilia\\b|\\bMaria la Baja\\b|\\bMarzahn\\b|\\bMaryville\\b|\\bMaryvale\\b|\\bMarysville\\b|\\bMarysville\\b|\\bMaryland Heights\\b|\\bMaryland City\\b|\\bMaryborough\\b|\\bMary\\b|\\bMarvdasht\\b|\\bMaruoka\\b|\\bMarumori\\b|\\bMarugame\\b|\\bMarudi\\b|\\bMartinez de la Torre\\b|\\bMartos\\b|\\bMartorell\\b|\\bMartinopolis\\b|\\bMartinsburg\\b|\\bMartinez\\b|\\bMartinez\\b|\\bMartina Franca\\b|\\bMartin\\b|\\bMartil\\b|\\bMartigues\\b|\\bMartha Lake\\b|\\bMarte\\b|\\bMartapura\\b|\\bMartaban\\b|\\bMarshfield\\b|\\bMarshalltown\\b|\\bMarshall\\b|\\bMarseille 16\\b|\\bMarseille 15\\b|\\bMarseille 14\\b|\\bMarseille 13\\b|\\bMarseille 12\\b|\\bMarseille 11\\b|\\bMarseille 10\\b|\\bMarseille 09\\b|\\bMarseille 08\\b|\\bMarseille 07\\b|\\bMarseille 06\\b|\\bMarseille 05\\b|\\bMarseille 04\\b|\\bMarseille 03\\b|\\bMarseille 02\\b|\\bMarseille 01\\b|\\bMarseille\\b|\\bMarsberg\\b|\\bMarsala\\b|\\bMarsabit\\b|\\bMarrickville\\b|\\bMarrero\\b|\\bMarratxi\\b|\\bMarrakesh\\b|\\bMarquette\\b|\\bMarple\\b|\\bMarousi\\b|\\bMarovoay\\b|\\bMaroubra\\b|\\bMaroua\\b|\\bMaros\\b|\\bMaroochydore\\b|\\bMarondera\\b|\\bMarolambo\\b|\\bMaroantsetra\\b|\\bMarneuli\\b|\\bMarmaris\\b|\\bMarmande\\b|\\bMarly\\-le\\-Roi\\b|\\bMarlow\\b|\\bMarlborough\\b|\\bMarlboro\\b|\\bMarl\\b|\\bMarktredwitz\\b|\\bMarktoberdorf\\b|\\bMarks\\b|\\bMarkova\\b|\\bMarkkleeberg\\b|\\bMarki\\b|\\bMarkham\\b|\\bMarket Harborough\\b|\\bMarkaz\\-e Woluswali\\-ye Achin\\b|\\bMarkala\\b|\\bMarka\\b|\\bMariani\\b|\\bMariahu\\b|\\bMariveles\\b|\\bMariupol\\b|\\bMarion\\b|\\bMarion\\b|\\bMarion\\b|\\bMarion\\b|\\bMarino\\b|\\bMarinilla\\b|\\bMarinha Grande\\b|\\bMaringa\\b|\\bMariners Harbor\\b|\\bMarina di Massa\\b|\\bMarina di Carrara\\b|\\bMarina di Ardea\\-Tor San Lorenzo\\b|\\bMarina\\b|\\bMarilao\\b|\\bMarijampole\\b|\\bMariinsk\\b|\\bMarigot\\b|\\bMarignane\\b|\\bMarigliano\\b|\\bMarietta\\b|\\bMariestad\\b|\\bMarienthal\\b|\\bMarienfelde\\b|\\bMariendorf\\b|\\bMariel\\b|\\bMariehamn\\b|\\bMarica\\b|\\bMaricopa\\b|\\bMaribor\\b|\\bMariara\\b|\\bMariano Roque Alonso\\b|\\bMariano Comense\\b|\\bMariano\\b|\\bMariana\\b|\\bMarialva\\b|\\bMari\\b|\\bMarhaura\\b|\\bMarhanets'\\b|\\bMarg'ilon\\b|\\bMargherita\\b|\\bMargate\\b|\\bMargate\\b|\\bMargate\\b|\\bMargasari\\b|\\bMargahayukencana\\b|\\bMarfil\\b|\\bMarechal Deodoro\\b|\\bMarechal Candido Rondon\\b|\\bMardin\\b|\\bMardan\\b|\\bMardakan\\b|\\bMarcq\\-en\\-Baroeul\\b|\\bMarcos Juarez\\b|\\bMarco Island\\b|\\bMarcianise\\b|\\bMarchena\\b|\\bMarche\\-en\\-Famenne\\b|\\bMarch\\b|\\bMarcavelica\\b|\\bMarburg an der Lahn\\b|\\bMarblehead\\b|\\bMarbella\\b|\\bMarbach am Neckar\\b|\\bMarayur\\b|\\bMarawi City\\b|\\bMaravatio de Ocampo\\b|\\bMarau\\b|\\bMarataizes\\b|\\bMarano di Napoli\\b|\\bMarang\\b|\\bMarand\\b|\\bMarana\\b|\\bMaramba\\b|\\bMaramag\\b|\\bMaralal\\b|\\bMarakkanam\\b|\\bMaragondon\\b|\\bMaragogipe\\b|\\bMaragogi\\b|\\bMaradi\\b|\\bMaracas\\b|\\bMaracena\\b|\\bMaracay\\b|\\bMaracanau\\b|\\bMaracaju\\b|\\bMaracaibo\\b|\\bMaraba\\b|\\bMarabella\\b|\\bMar del Plata\\b|\\bMaputsoe\\b|\\bMaputo\\b|\\bMaposeni\\b|\\bMaplewood\\b|\\bMaplewood\\b|\\bMaple Valley\\b|\\bMaple Shade\\b|\\bMaple Ridge\\b|\\bMaple Heights\\b|\\bMaple Grove\\b|\\bMapastepec\\b|\\bMao\\b|\\bMao\\b|\\bManawar\\b|\\bManasa\\b|\\bManzini\\b|\\bManzhouli\\b|\\bManzanillo\\b|\\bManzanillo\\b|\\bManzanares\\b|\\bManzanares\\b|\\bManukau City\\b|\\bManuguru\\b|\\bManuel Ojinaga\\b|\\bManturovo\\b|\\bMantova\\b|\\bManthani\\b|\\bMantes\\-la\\-Ville\\b|\\bMantes\\-la\\-Jolie\\b|\\bManteca\\b|\\bMantampay\\b|\\bManta\\b|\\bMansoura\\b|\\bMansourah\\b|\\bMansilingan\\b|\\bMansfield Woodhouse\\b|\\bMansfield City\\b|\\bMansfield\\b|\\bMansfield\\b|\\bMansfield\\b|\\bMansfield\\b|\\bMansehra\\b|\\bMansalay\\b|\\bMansa\\b|\\bManresa\\b|\\bManp'o\\b|\\bManouba\\b|\\bManosque\\b|\\bManolo Fortich\\b|\\bManokwari\\b|\\bManoharpur\\b|\\bMannarakkat\\b|\\bMannheim\\b|\\bMannargudi\\b|\\bManmad\\b|\\bManly\\b|\\bManlleu\\b|\\bMankachar\\b|\\bMankono\\b|\\bMankayan\\b|\\bMankato\\b|\\bManjo\\b|\\bManjhanpur\\b|\\bManjeri\\b|\\bManjakandriana\\b|\\bManizales\\b|\\bManitowoc\\b|\\bManismata\\b|\\bManises\\b|\\bManisa\\b|\\bManipal\\b|\\bManila\\b|\\bManikchari\\b|\\bManihari\\b|\\bManicaragua\\b|\\bManibaug Pasig\\b|\\bManiar\\b|\\bManhumirim\\b|\\bManhuacu\\b|\\bManhattan Beach\\b|\\bManhattan\\b|\\bManhattan\\b|\\bMangrul Pir\\b|\\bMangotsfield\\b|\\bMangochi\\b|\\bManglaur\\b|\\bMangla\\b|\\bMangilao Village\\b|\\bManghit\\b|\\bManggar\\b|\\bMangere\\b|\\bMangaratiba\\b|\\bMangalore\\b|\\bMangalia\\b|\\bMangaldan\\b|\\bMangaldai\\b|\\bMangalagiri\\b|\\bMangai\\b|\\bManga\\b|\\bManfredonia\\b|\\bManfalut\\b|\\bManer\\b|\\bMandawar\\b|\\bMandya\\b|\\bManduria\\b|\\bMandurah\\b|\\bMandsaur\\b|\\bMandla\\b|\\bMandimba\\b|\\bMandideep\\b|\\bMandi Bahauddin\\b|\\bMandi\\b|\\bMandeville\\b|\\bMandera\\b|\\bMandelieu\\-la\\-Napoule\\b|\\bMandaue City\\b|\\bMandapeta\\b|\\bMandapam\\b|\\bMandan\\b|\\bMandamarri\\b|\\bMandali\\b|\\bMandaluyong City\\b|\\bMandalgovi\\b|\\bMandalay\\b|\\bMandaguari\\b|\\bManchester\\b|\\bManchester\\b|\\bManchester\\b|\\bManchester\\b|\\bMancheral\\b|\\bManbij\\b|\\bManay\\b|\\bManavgat\\b|\\bManaus\\b|\\bManati\\b|\\bManassas Park\\b|\\bManassas\\b|\\bManapparai\\b|\\bManapla\\b|\\bManaoag\\b|\\bMananwala\\b|\\bMananjary\\b|\\bMananara\\b|\\bManamadurai\\b|\\bManama\\b|\\bManali\\b|\\bManakara\\b|\\bManagua\\b|\\bManage\\b|\\bManado\\b|\\bManacor\\b|\\bManacapuru\\b|\\bMan\\b|\\bMamu Kanjan\\b|\\bMampong\\b|\\bMamoudzou\\b|\\bMamou\\b|\\bMamfe\\b|\\bMamburao\\b|\\bMamatid\\b|\\bMamaroneck\\b|\\bMamanguape\\b|\\bMalihabad\\b|\\bMalayer\\b|\\bMalard\\b|\\bMalyn\\b|\\bMalvern East\\b|\\bMalvar\\b|\\bMalungun\\b|\\bMaluso\\b|\\bMalumfashi\\b|\\bMaltepe\\b|\\bMaltby\\b|\\bMalpe\\b|\\bMaloyaroslavets\\b|\\bMalolos\\b|\\bMalnate\\b|\\bMalmo\\b|\\bMalmesbury\\b|\\bMallawi\\b|\\bMallasamudram\\b|\\bMalkapur\\b|\\bMalkara\\b|\\bMalkapur\\b|\\bMalkajgiri\\b|\\bMalita\\b|\\bMalir Cantonment\\b|\\bMalinyi\\b|\\bMalingao\\b|\\bMalindi\\b|\\bMalilipot\\b|\\bMaliana\\b|\\bMalgrat de Mar\\b|\\bMalgobek\\b|\\bMale\\b|\\bMaldonado\\b|\\bMaldon\\b|\\bMalden\\b|\\bMaldegem\\b|\\bMalbork\\b|\\bMalangawa\\b|\\bMalazgirt\\b|\\bMalaybalay\\b|\\bMalavalli\\b|\\bMalaut\\b|\\bMalatya\\b|\\bMalappuram\\b|\\bMalapatan\\b|\\bMalanville\\b|\\bMalanje\\b|\\bMalang\\b|\\bMalanday\\b|\\bMalampaka\\b|\\bMalambo\\b|\\bMalakwal City\\b|\\bMalakwal\\b|\\bMalakoff\\b|\\bMalakhovka\\b|\\bMalakanagiri\\b|\\bMalakal\\b|\\bMalahide\\b|\\bMaladzyechna\\b|\\bMalacky\\b|\\bMalacca\\b|\\bMalabo\\b|\\bMalabanban Norte\\b|\\bMala\\b|\\bMako\\b|\\bMakuyuni\\b|\\bMakurdi\\b|\\bMakurazaki\\b|\\bMakumbako\\b|\\bMakueni Boma\\b|\\bMakubetsu\\b|\\bMaksi\\b|\\bMakrana\\b|\\bMakouda\\b|\\bMakoko\\b|\\bMakiyivka\\b|\\bMakinsk\\b|\\bMaki\\b|\\bMakhachkala\\b|\\bMakeni\\b|\\bMakati City\\b|\\bMakassar\\b|\\bMakamba\\b|\\bMakakilo City\\b|\\bMakakilo\\b|\\bMakabe\\b|\\bMajuro\\b|\\bMajorna\\b|\\bMajie\\b|\\bMajene\\b|\\bMajenang\\b|\\bMajalengka\\b|\\bMajadahonda\\b|\\bMaizuru\\b|\\bMaiurno\\b|\\bMaitland\\b|\\bMaitland\\b|\\bMaisi\\b|\\bMaisons\\-Laffitte\\b|\\bMaisons\\-Alfort\\b|\\bMairwa\\b|\\bMairipora\\b|\\bMairinque\\b|\\bMairena del Aljarafe\\b|\\bMairena del Alcor\\b|\\bMaiquetia\\b|\\bMainaguri\\b|\\bMainz\\b|\\bMaintirano\\b|\\bMaintal\\b|\\bMainpuri\\b|\\bMailsi\\b|\\bMaihar\\b|\\bMaiduguri\\b|\\bMaidstone\\b|\\bMaidenhead\\b|\\bMaicao\\b|\\bMaia\\b|\\bMahishadal\\b|\\bMahe\\b|\\bMahasamund\\b|\\bMaharajgani\\b|\\bMaharaganj\\b|\\bMahalingpur\\b|\\bMahad\\b|\\bMahabad\\b|\\bMahebourg\\b|\\bMahwah\\b|\\bMahwah\\b|\\bMahudha\\b|\\bMahriz\\b|\\bMaholi\\b|\\bMahoba\\b|\\bMahmutlar\\b|\\bMahmudabad\\b|\\bMahlsdorf\\b|\\bMahilyow\\b|\\bMahiari\\b|\\bMahgawan\\b|\\bMaheshwar\\b|\\bMahendranagar\\b|\\bMahendragarh\\b|\\bMahemdavad\\b|\\bMahdishahr\\b|\\bMahdia\\b|\\bMahbubabad\\b|\\bMahbubnagar\\b|\\bMahayag\\b|\\bMaharagama\\b|\\bMahanoro\\b|\\bMahanje\\b|\\bMaham\\b|\\bMahalapye\\b|\\bMahajanga\\b|\\bMaha Sarakham\\b|\\bMagway\\b|\\bMagumeri\\b|\\bMagugu\\b|\\bMagugpo Poblacion\\b|\\bMagsaysay\\b|\\bMagong\\b|\\bMagomeni\\b|\\bMagole\\b|\\bMagog\\b|\\bMagnitogorsk\\b|\\bMagna\\b|\\bMaghar\\b|\\bMaghull\\b|\\bMaghar\\b|\\bMagenta\\b|\\bMagelang\\b|\\bMagdeburg\\b|\\bMagdalena de Kino\\b|\\bMagdalena Contreras\\b|\\bMagdalena Atlicpac\\b|\\bMagdalena\\b|\\bMagaria\\b|\\bMagarao\\b|\\bMaganoy\\b|\\bMagangue\\b|\\bMagalang\\b|\\bMagadan\\b|\\bMafraq\\b|\\bMafra\\b|\\bMafinga\\b|\\bMafeteng\\b|\\bMaevatanana\\b|\\bMaesteg\\b|\\bMaebashi\\b|\\bMaebaru\\-chuo\\b|\\bMae Sot\\b|\\bMae Sai\\b|\\bMae Ramat\\b|\\bMae Chan\\b|\\bMadinat 'Isa\\b|\\bMadinat Hamad\\b|\\bMadinat Sittah Uktubar\\b|\\bMadurantakam\\b|\\bMadurai\\b|\\bMadukkur\\b|\\bMadukkarai\\b|\\bMadruga\\b|\\bMadrid\\b|\\bMadrid\\b|\\bMadiun\\b|\\bMadisonville\\b|\\bMadison Heights\\b|\\bMadison\\b|\\bMadison\\b|\\bMadison\\b|\\bMadison\\b|\\bMadison\\b|\\bMadipakkam\\b|\\bMadingou\\b|\\bMadikeri\\b|\\bMadhyapur Thimi\\b|\\bMadhyamgram\\b|\\bMadhupur\\b|\\bMadhubani\\b|\\bMadhipura\\b|\\bMadgaon\\b|\\bMadera\\b|\\bMadera\\b|\\bMaddur\\b|\\bMaddaloni\\b|\\bMaddagiri\\b|\\bMadaoua\\b|\\bMadang\\b|\\bMadanapalle\\b|\\bMadambakkam\\b|\\bMacuspana\\b|\\bMacon\\b|\\bMacomb\\b|\\bMackay\\b|\\bMacia\\b|\\bMachiques\\b|\\bMachilipatnam\\b|\\bMachida\\b|\\bMachhlishahr\\b|\\bMachesney Park\\b|\\bMacheng\\b|\\bMachali\\b|\\bMachala\\b|\\bMachakos\\b|\\bMachagai\\b|\\bMachado\\b|\\bMachachi\\b|\\bMach\\b|\\bMacerata\\b|\\bMacenta\\b|\\bMaceio\\b|\\bMacclesfield\\b|\\bMacaiba\\b|\\bMacae\\b|\\bMacau\\b|\\bMacau\\b|\\bMacatuba\\b|\\bMacas\\b|\\bMacapa\\b|\\bMabopane\\b|\\bMableton\\b|\\bMabama\\b|\\bMabalacat City\\b|\\bMabai\\b|\\bMaba\\b|\\bMaastricht\\b|\\bMaassluis\\b|\\bMaasmechelen\\b|\\bMaasin\\b|\\bMaaseik\\b|\\bMaarssen\\b|\\bMaardu\\b|\\bMaao\\b|\\bMa'rib\\b|\\bMa'an\\b|\\bL'govskiy\\b|\\bL'Isle\\-sur\\-la\\-Sorgue\\b|\\bL'Arbaa Nait Irathen\\b|\\bLang Son\\b|\\bLunavada\\b|\\bLedziny\\b|\\bLebork\\b|\\bLawar Khas\\b|\\bLathi\\b|\\bLatehar\\b|\\bLalsot\\b|\\bLalpur\\b|\\bLalmohan\\b|\\bLalgola\\b|\\bLalganj\\b|\\bLalganj\\b|\\bLaksham\\b|\\bLakheri\\b|\\bLaharpur\\b|\\bLadwa\\b|\\bLadnun\\b|\\bLushun\\b|\\bLunen\\b|\\bLuneburg\\b|\\bLuleburgaz\\b|\\bLudinghausen\\b|\\bLuderitz\\b|\\bLudenscheid\\b|\\bLubeck\\b|\\bLubbenau\\b|\\bLubbecke\\b|\\bLorrach\\b|\\bLokbatan\\b|\\bLohne\\b|\\bLobau\\b|\\bLibano\\b|\\bLevis\\b|\\bLerida\\b|\\bLeogane\\b|\\bLeo\\b|\\bLazaro Cardenas\\b|\\bLarisa\\b|\\bLao Cai\\b|\\bLyudinovo\\b|\\bLyubotyn\\b|\\bLyublino\\b|\\bLyubertsy\\b|\\bLytkarino\\b|\\bLytham St Annes\\b|\\bLys'va\\b|\\bLysychans'k\\b|\\bLyskovo\\b|\\bLyon\\b|\\bLynwood\\b|\\bLynnwood\\b|\\bLynn Haven\\b|\\bLynn\\b|\\bLyndhurst\\b|\\bLynchburg\\b|\\bLynbrook\\b|\\bLymington\\b|\\bLyman\\b|\\bLyepyel'\\b|\\bLydenburg\\b|\\bLyantor\\b|\\bLviv\\b|\\bLucenec\\b|\\bLuziania\\b|\\bLuzhniki\\b|\\bLuzern\\b|\\bLuxor\\b|\\bLuxembourg\\b|\\bLuwuk\\b|\\bLuwero\\b|\\bLuuq\\b|\\bLutz\\b|\\bLutuhyne\\b|\\bLutsk\\b|\\bLuton\\b|\\bLutherville\\-Timonium\\b|\\bLutes Mountain\\b|\\bLustenau\\b|\\bLushoto\\b|\\bLushnje\\b|\\bLusambo\\b|\\bLusaka\\b|\\bLurup\\b|\\bLuqiao\\b|\\bLupon\\b|\\bLupeni\\b|\\bLuoyang\\b|\\bLuoyang\\b|\\bLuoyang\\b|\\bLuorong\\b|\\bLuohe\\b|\\bLuocheng\\b|\\bLuneville\\b|\\bLunsar\\b|\\bLuninyets\\b|\\bLunglei\\b|\\bLunel\\b|\\bLund\\b|\\bLumut\\b|\\bLumphat\\b|\\bLumezzane\\b|\\bLumding Railway Colony\\b|\\bLumberton\\b|\\bLumbang\\b|\\bLumajang\\b|\\bLulea\\b|\\bLukuledi\\b|\\bLukhovitsy\\b|\\bLujan\\b|\\bLuimneach\\b|\\bLuhansk\\b|\\bLugulu\\b|\\bLugu\\b|\\bLugoj\\b|\\bLugoba\\b|\\bLugo\\b|\\bLugo\\b|\\bLugazi\\b|\\bLugano\\b|\\bLuga\\b|\\bLufkin\\b|\\bLuena\\b|\\bLuebo\\b|\\bLudwigshafen am Rhein\\b|\\bLudwigsfelde\\b|\\bLudwigsburg\\b|\\bLudvika\\b|\\bLudus\\b|\\bLudlow\\b|\\bLudhiana\\b|\\bLuce\\b|\\bLucknow\\b|\\bLuckenwalde\\b|\\bLuckeesarai\\b|\\bLuchingu\\b|\\bLucheng\\b|\\bLuchegorsk\\b|\\bLucera\\b|\\bLucena\\b|\\bLucena\\b|\\bLucca\\b|\\bLucban\\b|\\bLucaya\\b|\\bLucas\\b|\\bLucapa\\b|\\bLucan\\b|\\bLubumbashi\\b|\\bLubuklinggau\\b|\\bLubu\\b|\\bLubon\\b|\\bLubny\\b|\\bLubliniec\\b|\\bLublin\\b|\\bLubin\\b|\\bLubbock\\b|\\bLuban\\b|\\bLubartow\\b|\\bLubao\\b|\\bLubao\\b|\\bLubango\\b|\\bLuau\\b|\\bLuanshya\\b|\\bLuang Prabang\\b|\\bLuanda\\b|\\bLuancheng\\b|\\bLozova\\b|\\bLoxstedt\\b|\\bLowestoft\\b|\\bLower West Side\\b|\\bLower Sackville\\b|\\bLower Hutt\\b|\\bLower Earley\\b|\\bLowell\\b|\\bLovisa\\b|\\bLoves Park\\b|\\bLoveland\\b|\\bLovech\\b|\\bLouviers\\b|\\bLouveira\\b|\\bLouvain\\-la\\-Neuve\\b|\\bLouth\\b|\\bLoushanguan\\b|\\bLoures\\b|\\bLourdes\\b|\\bLouny\\b|\\bLoum\\b|\\bLoule\\b|\\bLouisville\\b|\\bLouisville\\b|\\bLouis Trichardt\\b|\\bLoughborough\\b|\\bLouga\\b|\\bLoudi\\b|\\bLota\\b|\\bLosser\\b|\\bLospalos\\b|\\bLosino\\-Petrovskiy\\b|\\bLosheim\\b|\\bLosal\\b|\\bLos Angeles\\b|\\bLos Teques\\b|\\bLos Reyes de Salgado\\b|\\bLos Reyes de Juarez\\b|\\bLos Reyes Acaquilpan\\b|\\bLos Realejos\\b|\\bLos Rastrojos\\b|\\bLos Polvorines\\b|\\bLos Patios\\b|\\bLos Palacios y Villafranca\\b|\\bLos Palacios\\b|\\bLos Mochis\\b|\\bLos Lunas\\b|\\bLos Llanos de Aridane\\b|\\bLos Gatos\\b|\\bLos Dos Caminos\\b|\\bLos Banos\\b|\\bLos Barrios\\b|\\bLos Banos\\b|\\bLos Angeles\\b|\\bLos Andes\\b|\\bLos Altos\\b|\\bLos Alcazares\\b|\\bLorton\\b|\\bLormont\\b|\\bLorient\\b|\\bLorica\\b|\\bLoreto\\b|\\bLorena\\b|\\bLorca\\b|\\bLoralai\\b|\\bLorain\\b|\\bLora del Rio\\b|\\bLopez\\b|\\bLop Buri\\b|\\bLoos\\b|\\bLoon op Zand\\b|\\bLonar\\b|\\bLons\\-le\\-Saunier\\b|\\bLoni\\b|\\bLongyearbyen\\b|\\bLongview\\b|\\bLongview\\b|\\bLongueuil\\b|\\bLongsight\\b|\\bLongquan\\b|\\bLongonjo\\b|\\bLongmont\\b|\\bLongmeadow\\b|\\bLongjumeau\\b|\\bLongjing\\b|\\bLongjiang\\b|\\bLonggang\\b|\\bLongfield\\b|\\bLongfeng\\b|\\bLong Xuyen\\b|\\bLong Island City\\b|\\bLong Eaton\\b|\\bLong Branch\\b|\\bLong Beach\\b|\\bLong Beach\\b|\\bLong Beach\\b|\\bLondrina\\b|\\bLondonderry County Borough\\b|\\bLondon\\b|\\bLondon\\b|\\bLonderzeel\\b|\\bLoncoche\\b|\\bLonavla\\b|\\bLome\\b|\\bLompoc\\b|\\bLomonosov\\b|\\bLommel\\b|\\bLomme\\b|\\bLomita\\b|\\bLombard\\b|\\bLomas del Sur\\b|\\bLoma de Gato\\b|\\bLoma Linda\\b|\\bLoma Bonita\\b|\\bLom Sak\\b|\\bLom\\b|\\bLolodorf\\b|\\bLokossa\\b|\\bLokoja\\b|\\bLokeren\\b|\\bLoja\\b|\\bLoja\\b|\\bLoikaw\\b|\\bLohardaga\\b|\\bLohr am Main\\b|\\bLohne\\b|\\bLohmar\\b|\\bLohja\\b|\\bLogrono\\b|\\bLognes\\b|\\bLogansport\\b|\\bLogan Square\\b|\\bLogan City\\b|\\bLogan\\b|\\bLofthouse\\b|\\bLoei\\b|\\bLodwar\\b|\\bLodja\\b|\\bLodi\\b|\\bLodi\\b|\\bLodi\\b|\\bLodhran\\b|\\bLodeynoye Pole\\b|\\bLod\\b|\\bLockport\\b|\\bLockport\\b|\\bLochristi\\b|\\bLochearn\\b|\\bLoch Garman\\b|\\bLoboc\\b|\\bLobnya\\b|\\bLobito\\b|\\bLobatse\\b|\\bLobamba\\b|\\bLoandjili\\b|\\bLoanda\\b|\\bLoa Janan\\b|\\bLo Prado\\b|\\bLliria\\b|\\bLlucmajor\\b|\\bLloydminster\\b|\\bLloret de Mar\\b|\\bLleida\\b|\\bLlefia\\b|\\bLlazice\\b|\\bLlanelli\\b|\\bLlandudno\\b|\\bLlallagua\\b|\\bLlaillay\\b|\\bLjungby\\b|\\bLjubljana\\b|\\bLievin\\b|\\bLiege\\b|\\bLiwa\\b|\\bLiwonde\\b|\\bLiwale\\b|\\bLivry\\-Gargan\\b|\\bLivramento do Brumado\\b|\\bLivorno\\b|\\bLivonia\\b|\\bLivny\\b|\\bLivingstone\\b|\\bLivingston\\b|\\bLivingston\\b|\\bLiverpool\\b|\\bLiverpool\\b|\\bLivermore\\b|\\bLive Oak\\b|\\bLive Oak\\b|\\bLivadeia\\b|\\bLiupanshui\\b|\\bLiuhe\\b|\\bLitvinov\\b|\\bLittleton\\b|\\bLittlehampton\\b|\\bLittle Rock\\b|\\bLittle Elm\\b|\\bLittau\\b|\\bLitomerice\\b|\\bLithia Springs\\b|\\bLitherland\\b|\\bLissone\\b|\\bLisse\\b|\\bLisle\\b|\\bLiski\\b|\\bLisieux\\b|\\bLishui\\b|\\bLishu\\b|\\bLisburn\\b|\\bLisbon\\b|\\bLisala\\b|\\bLisakovsk\\b|\\bLira\\b|\\bLiptovsky Mikulas\\b|\\bLippstadt\\b|\\bLipkovo\\b|\\bLipetsk\\b|\\bLipa City\\b|\\bLinevo\\b|\\bLinz\\b|\\bLinyi\\b|\\bLinxia Chengguanzhen\\b|\\bLinxi\\b|\\bLintong\\b|\\bLinton Military Camp\\b|\\bLinton Hall\\b|\\bLinstead\\b|\\bLinshui\\b|\\bLins\\b|\\bLinqu\\b|\\bLinqiong\\b|\\bLinping\\b|\\bLino Lakes\\b|\\bLinkoping\\b|\\bLinkou\\b|\\bLinjiang\\b|\\bLinhares\\b|\\bLinhai\\b|\\bLingyuan\\b|\\bLingsugur\\b|\\bLingolsheim\\b|\\bLinghai\\b|\\bLingen\\b|\\bLingdong\\b|\\bLingcheng\\b|\\bLingayen\\b|\\bLinfen\\b|\\bLindsay\\b|\\bLindlar\\b|\\bLindi\\b|\\bLindenwold\\b|\\bLindenhurst\\b|\\bLindenholt\\b|\\bLinden\\b|\\bLinden\\b|\\bLindau\\b|\\bLinda\\-a\\-Velha\\b|\\bLinda\\b|\\bLincolnia\\b|\\bLincoln Square\\b|\\bLincoln Park\\b|\\bLincoln Park\\b|\\bLincoln\\b|\\bLincoln\\b|\\bLincoln\\b|\\bLincoln\\b|\\bLincoln\\b|\\bLincheng\\b|\\bLinares\\b|\\bLinares\\b|\\bLinares\\b|\\bLimon\\b|\\bLimpio\\b|\\bLimonar\\b|\\bLimoges\\b|\\bLimoeiro do Norte\\b|\\bLimoeiro\\b|\\bLimerick\\b|\\bLimeira\\b|\\bLimeil\\-Brevannes\\b|\\bLimburg an der Lahn\\b|\\bLimbiate\\b|\\bLimbe\\b|\\bLimbdi\\b|\\bLimbang\\b|\\bLimbach\\-Oberfrohna\\b|\\bLimay\\b|\\bLimay\\b|\\bLimassol\\b|\\bLimache\\b|\\bLima\\b|\\bLima\\b|\\bLilydale\\b|\\bLilongwe\\b|\\bLiloan\\b|\\bLillerod\\b|\\bLillehammer\\b|\\bLille\\b|\\bLille\\b|\\bLilio\\b|\\bLilienthal\\b|\\bLikisa\\b|\\bLikino\\-Dulevo\\b|\\bLikhobory\\b|\\bLikasi\\b|\\bLijiang\\b|\\bLieto\\b|\\bLier\\b|\\bLiepaja\\b|\\bLidzbark Warminski\\b|\\bLido di Ostia\\b|\\bLido\\b|\\bLidkoping\\b|\\bLidingo\\b|\\bLidcombe\\b|\\bLida\\b|\\bLichuan\\b|\\bLichterfelde\\b|\\bLichtenvoorde\\b|\\bLichtenrade\\b|\\bLichtenfels\\b|\\bLichtenburg\\b|\\bLichtenberg\\b|\\bLichinga\\b|\\bLichfield\\b|\\bLicheng\\b|\\bLicheng\\b|\\bLicenciado Benito Juarez \\(Campo Gobierno\\)\\b|\\bLice\\b|\\bLicata\\b|\\bLibreville\\b|\\bLibres\\b|\\bLibourne\\b|\\bLibon\\b|\\bLibiaz\\b|\\bLiben\\b|\\bLibertyville\\b|\\bLiberty\\b|\\bLibertador General San Martin\\b|\\bLibertad\\b|\\bLiberia\\b|\\bLiberec\\b|\\bLiberal\\b|\\bLibenge\\b|\\bLiaozhong\\b|\\bLiaoyuan\\b|\\bLiaoyang\\b|\\bLiaocheng\\b|\\bLianzhou\\b|\\bLianzhou\\b|\\bLianyuan\\b|\\bLianshan\\b|\\bLianran\\b|\\bLianozovo\\b|\\bLianjiang\\b|\\bLianhe\\b|\\bLiangxiang\\b|\\bLianghu\\b|\\bLhokseumawe\\b|\\bLhasa\\b|\\bLeon de los Aldama\\b|\\bLeon\\b|\\bLeon\\b|\\bLeca do Bailio\\b|\\bLeca da Palmeira\\b|\\bLezhe\\b|\\bLeyva Solano\\b|\\bLeyland\\b|\\bLexington\\-Fayette\\b|\\bLexington\\b|\\bLexington\\b|\\bLexington\\b|\\bLexington\\b|\\bLewisville\\b|\\bLewiston Orchards\\b|\\bLewiston\\b|\\bLewiston\\b|\\bLewes\\b|\\bLevoberezhnyy\\b|\\bLevittown\\b|\\bLevittown\\b|\\bLevittown\\b|\\bLevin\\b|\\bLevice\\b|\\bLeverkusen\\b|\\bLevallois\\-Perret\\b|\\bLeuven\\b|\\bLeutkirch\\b|\\bLeusden\\b|\\bLetnany\\b|\\bLetterkenny\\b|\\bLetpandan\\b|\\bLetlhakane\\b|\\bLeticia\\b|\\bLethbridge\\b|\\bLeteri\\b|\\bLetchworth Garden City\\b|\\bLetchworth\\b|\\bLeszno\\b|\\bLessines\\b|\\bLesozavodsk\\b|\\bLesosibirsk\\b|\\bLesnoy\\b|\\bLesnoy\\b|\\bLeskovac\\b|\\bLeshan\\b|\\bLes Ulis\\b|\\bLes Sables\\-d'Olonne\\b|\\bLes Pennes\\-Mirabeau\\b|\\bLes Pavillons\\-sous\\-Bois\\b|\\bLes Olives\\b|\\bLes Mureaux\\b|\\bLes Lilas\\b|\\bLes Herbiers\\b|\\bLes Coteaux\\b|\\bLes Corts\\b|\\bLes Clayes\\-sous\\-Bois\\b|\\bLes Cayes\\b|\\bLes Abymes\\b|\\bLerum\\b|\\bLermontov\\b|\\bLerma de Villada\\b|\\bLeribe\\b|\\bLere\\b|\\bLerdo de Tejada\\b|\\bLeposaviq\\b|\\bLepe\\b|\\bLeopoldshohe\\b|\\bLeopoldina\\b|\\bLeonovo\\b|\\bLeonberg\\b|\\bLeominster\\b|\\bLencois Paulista\\b|\\bLents\\b|\\bLentini\\b|\\bLensk\\b|\\bLens\\b|\\bLenoir\\b|\\bLennox\\b|\\bLennestadt\\b|\\bLeninskiye Gory\\b|\\bLeninsk\\-Kuznetsky\\b|\\bLeninsk\\b|\\bLeninogorsk\\b|\\bLeningradskaya\\b|\\bLengshuitan\\b|\\bLengshuijiang\\b|\\bLengerich\\b|\\bLenger\\b|\\bLenexa\\b|\\bLend\\b|\\bLenbe\\b|\\bLempaala\\b|\\bLemoore\\b|\\bLemont\\b|\\bLemon Grove\\b|\\bLemgo\\b|\\bLeme\\b|\\bLembeni\\b|\\bLembang\\b|\\bLemay\\b|\\bLelystad\\b|\\bLelydorp\\b|\\bLeland\\b|\\bLeiyang\\b|\\bLeixlip\\b|\\bLeisure City\\b|\\bLeiria\\b|\\bLeipzig\\b|\\bLeioa\\b|\\bLeinfelden\\-Echterdingen\\b|\\bLeimen\\b|\\bLeighton Buzzard\\b|\\bLeigh\\b|\\bLeiderdorp\\b|\\bLeiden\\b|\\bLeichlingen\\b|\\bLeicester\\b|\\bLehrte\\b|\\bLehigh Acres\\b|\\bLehi\\b|\\bLeh\\b|\\bLegnica\\b|\\bLegnano\\b|\\bLegnago\\b|\\bLegionowo\\b|\\bLegaspi\\b|\\bLeganes\\b|\\bLefortovo\\b|\\bLeeuwarden\\b|\\bLeesburg\\b|\\bLeesburg\\b|\\bLeerdam\\b|\\bLeer\\b|\\bLeek\\b|\\bLeek\\b|\\bLeeds\\b|\\bLee's Summit\\b|\\bLedyard\\b|\\bLeduc\\b|\\bLede\\b|\\bLecheng\\b|\\bLecco\\b|\\bLecce\\b|\\bLebu\\b|\\bLebrija\\b|\\bLebowakgomo\\b|\\bLebedyn\\b|\\bLebedyan'\\b|\\bLebbeke\\b|\\bLebanon\\b|\\bLebanon\\b|\\bLebanon\\b|\\bLebanon\\b|\\bLebanon\\b|\\bLebaksiu\\b|\\bLebach\\b|\\bLeawood\\b|\\bLeavenworth\\b|\\bLeatherhead\\b|\\bLeander\\b|\\bLeamington\\b|\\bLealman\\b|\\bLeague City\\b|\\bLe Vesinet\\b|\\bLe Tampon\\b|\\bLe Robert\\b|\\bLe Puy\\-en\\-Velay\\b|\\bLe Pre\\-Saint\\-Gervais\\b|\\bLe Port\\b|\\bLe Pontet\\b|\\bLe Plessis\\-Trevise\\b|\\bLe Plessis\\-Robinson\\b|\\bLe Petit\\-Quevilly\\b|\\bLe Perreux\\-sur\\-Marne\\b|\\bLe Pecq\\b|\\bLe Mee\\-sur\\-Seine\\b|\\bLe Moule\\b|\\bLe Mans\\b|\\bLe Lamentin\\b|\\bLe Kremlin\\-Bicetre\\b|\\bLe Hochet\\b|\\bLe Havre\\b|\\bLe Grand\\-Quevilly\\b|\\bLe Gosier\\b|\\bLe Francois\\b|\\bLe Creusot\\b|\\bLe Chesnay\\b|\\bLe Cannet\\b|\\bLe Camas\\b|\\bLe Bouscat\\b|\\bLe Blanc\\-Mesnil\\b|\\bLahij\\b|\\bLai\\b|\\bLac\\b|\\bLazdynai\\b|\\bLazarevskoye\\b|\\bLazarevac\\b|\\bLayyah\\b|\\bLayton\\b|\\bLaxou\\b|\\bLawton\\b|\\bLawrenceville\\b|\\bLawrence\\b|\\bLawrence\\b|\\bLawrence\\b|\\bLawndale\\b|\\bLawas\\b|\\bLawang\\b|\\bLavras da Mangabeira\\b|\\bLavras\\b|\\bLavradio\\b|\\bLaventille\\b|\\bLaval\\b|\\bLaval\\b|\\bLauttasaari\\b|\\bLautoka\\b|\\bLautaro\\b|\\bLausanne\\b|\\bLauro de Freitas\\b|\\bLaurinburg\\b|\\bLaurelton\\b|\\bLaurel\\b|\\bLaurel\\b|\\bLaurel\\b|\\bLaur\\b|\\bLaupheim\\b|\\bLaungowal\\b|\\bLaunceston\\b|\\bLaukaa\\b|\\bLauf an der Pegnitz\\b|\\bLaudio / Llodio\\b|\\bLauderhill\\b|\\bLauderdale Lakes\\b|\\bLauda\\-Konigshofen\\b|\\bLauchhammer\\b|\\bLatur\\b|\\bLattes\\b|\\bLatina\\b|\\bLatina\\b|\\bLathrop\\b|\\bLatham\\b|\\bLatakia\\b|\\bLatacunga\\b|\\bLat Yao\\b|\\bLashkar Gah\\b|\\bLashio\\b|\\bLasem\\b|\\bLasarte\\b|\\bLas Vegas\\b|\\bLas Tunas\\b|\\bLas Tres Torres\\b|\\bLas Torres de Cotillas\\b|\\bLas Tejerias\\b|\\bLas Rozas de Madrid\\b|\\bLas Rosas\\b|\\bLas Pinas\\b|\\bLas Pintitas\\b|\\bLas Pintas de Arriba\\b|\\bLas Piedras\\b|\\bLas Palmas de Gran Canaria\\b|\\bLas Matas de Farfan\\b|\\bLas Margaritas\\b|\\bLas Gabias\\b|\\bLas Delicias\\b|\\bLas Cumbres\\b|\\bLas Cruces\\b|\\bLas Choapas\\b|\\bLas Cabezas de San Juan\\b|\\bLas Brenas\\b|\\bLas Animas\\b|\\bLarvik\\b|\\bLarne\\b|\\bLarnaca\\b|\\bLarkhall\\b|\\bLarkana\\b|\\bLargo\\b|\\bLaredo\\b|\\bLaredo\\b|\\bLardjem\\b|\\bLarbaa\\b|\\bLaranjeiro\\b|\\bLaranjeiras do Sul\\b|\\bLaranjeiras\\b|\\bLaranjeira\\b|\\bLaranjal Paulista\\b|\\bLaramie\\b|\\bLarache\\b|\\bLara\\b|\\bLar\\b|\\bLapu\\-Lapu City\\b|\\bLappeenranta\\b|\\bLaplace\\b|\\bLapai\\b|\\bLapa\\b|\\bLaon\\b|\\bLaojunmiao\\b|\\bLaohekou\\b|\\bLaoang\\b|\\bLaoag\\b|\\bLanzhou\\b|\\bLanxi\\b|\\bLanxi\\b|\\bLansing\\b|\\bLansing\\b|\\bLansdowne\\b|\\bLansdale\\b|\\bLannion\\b|\\bLankwitz\\b|\\bLankaran\\b|\\bLanham\\-Seabrook\\b|\\bLangzhong\\b|\\bLangxiang\\b|\\bLangwarrin\\b|\\bLangtoucun\\b|\\bLangsa\\b|\\bLangley Park\\b|\\bLangley\\b|\\bLangford\\b|\\bLangfang\\b|\\bLangepas\\b|\\bLangenhorn\\b|\\bLangenhagen\\b|\\bLangenfeld\\b|\\bLangen\\b|\\bLangen\\b|\\bLangarud\\b|\\bLang Suan\\b|\\bLanester\\b|\\bLandskrona\\b|\\bLandshut\\b|\\bLandsberg am Lech\\b|\\bLandover\\b|\\bLanderneau\\b|\\bLandau in der Pfalz\\b|\\bLand O' Lakes\\b|\\bLancy\\b|\\bLancing\\b|\\bLanciano\\b|\\bLancenigo\\-Villorba\\b|\\bLancaster\\b|\\bLancaster\\b|\\bLancaster\\b|\\bLancaster\\b|\\bLancaster\\b|\\bLanaken\\b|\\bLamia\\b|\\bLamu\\b|\\bLamphun\\b|\\bLampertheim\\b|\\bLampang\\b|\\bLampa\\b|\\bLamont\\b|\\bLamongan\\b|\\bLamin\\b|\\bLamezia Terme\\b|\\bLambersart\\b|\\bLambayeque\\b|\\bLambarene\\b|\\bLambare\\b|\\bLalin\\b|\\bLalupon\\b|\\bLalor\\b|\\bLalmonirhat\\b|\\bLalitpur\\b|\\bLalian\\b|\\bLalgudi\\b|\\bLalago\\b|\\bLala Musa\\b|\\bLal Bahadur Nagar\\b|\\bLakshmipur\\b|\\bLakshmeshwar\\b|\\bLaksar\\b|\\bLakota\\b|\\bLakki\\b|\\bLakinsk\\b|\\bLakhimpur\\b|\\bLakhyabad\\b|\\bLakhnadon\\b|\\bLakhdaria\\b|\\bLakewood\\b|\\bLakewood\\b|\\bLakewood\\b|\\bLakewood\\b|\\bLakewood\\b|\\bLakeville\\b|\\bLakeside\\b|\\bLakeside\\b|\\bLakemba\\b|\\bLakeland\\b|\\bLake in the Hills\\b|\\bLake Zurich\\b|\\bLake Worth Corridor\\b|\\bLake Worth\\b|\\bLake Wales\\b|\\bLake Stevens\\b|\\bLake Shore\\b|\\bLake Sebu\\b|\\bLake Ronkonkoma\\b|\\bLake Ridge\\b|\\bLake Oswego\\b|\\bLake Mary\\b|\\bLake Magdalene\\b|\\bLake Jackson\\b|\\bLake Havasu City\\b|\\bLake Forest\\b|\\bLake Forest\\b|\\bLake Elsinore\\b|\\bLake Charles\\b|\\bLake Butler\\b|\\bLajinha\\b|\\bLajedo\\b|\\bLajeado\\b|\\bLajas\\b|\\bLaja\\b|\\bLaizhou\\b|\\bLaiyang\\b|\\bLaixi\\b|\\bLaiwu\\b|\\bLainate\\b|\\bLaibin\\b|\\bLahar\\b|\\bLahan\\b|\\bLahti\\b|\\bLahr\\b|\\bLahore\\b|\\bLahnstein\\b|\\bLahat\\b|\\bLahad Datu\\b|\\bLagunillas\\b|\\bLaguna de Duero\\b|\\bLaguna Woods\\b|\\bLaguna Niguel\\b|\\bLaguna Hills\\b|\\bLaguna Beach\\b|\\bLaguna\\b|\\bLaguna\\b|\\bLaguilayan\\b|\\bLagos de Moreno\\b|\\bLagos\\b|\\bLagos\\b|\\bLagoa do Itaenga\\b|\\bLagoa da Prata\\b|\\bLagoa Vermelha\\b|\\bLagoa Santa\\b|\\bLago da Pedra\\b|\\bLagny\\-sur\\-Marne\\b|\\bLaghouat\\b|\\bLages\\b|\\bLage\\b|\\bLagdo\\b|\\bLagarto\\b|\\bLafiagi\\b|\\bLafia\\b|\\bLafayette\\b|\\bLafayette\\b|\\bLafayette\\b|\\bLafayette\\b|\\bLaem Sing\\b|\\bLaela\\b|\\bLae\\b|\\bLadario\\b|\\bLadyzhyn\\b|\\bLadybrand\\b|\\bLady Frere\\b|\\bLadner\\b|\\bLadispoli\\b|\\bLadhewala Waraich\\b|\\bLadera Ranch\\b|\\bLadang Seri Kundang\\b|\\bLaconia\\b|\\bLackawanna\\b|\\bLachi\\b|\\bLachhmangarh Sikar\\b|\\bLacey\\b|\\bLabe\\b|\\bLabytnangi\\b|\\bLabuhan Deli\\b|\\bLabuan Bajo\\b|\\bLabuan\\b|\\bLabuan\\b|\\bLabrador\\b|\\bLaboulaye\\b|\\bLabo\\b|\\bLabis\\b|\\bLabinsk\\b|\\bLabasa\\b|\\bLaayoune\\b|\\bLaatzen\\b|\\bLaascaanood\\b|\\bLaPorte\\b|\\bLaGrange\\b|\\bLa Vista\\b|\\bLa Virginia\\b|\\bLa Villa del Rosario\\b|\\bLa Victoria\\b|\\bLa Verne\\b|\\bLa Vergne\\b|\\bLa Valette\\-du\\-Var\\b|\\bLa Union\\b|\\bLa Union\\b|\\bLa Union\\b|\\bLa Union\\b|\\bLa Union\\b|\\bLa Union\\b|\\bLa Troncal\\b|\\bLa Trinite\\b|\\bLa Trinidad\\b|\\bLa Teste\\-de\\-Buch\\b|\\bLa Tebaida\\b|\\bLa Spezia\\b|\\bLa Solana\\b|\\bLa Sierpe\\b|\\bLa Seyne\\-sur\\-Mer\\b|\\bLa Serena\\b|\\bLa Sebala du Mornag\\b|\\bLa Salud\\b|\\bLa Sagrera\\b|\\bLa Romana\\b|\\bLa Roda\\b|\\bLa Rochelle\\b|\\bLa Roche\\-sur\\-Yon\\b|\\bLa Rioja\\b|\\bLa Rinconada\\b|\\bLa Rinconada\\b|\\bLa Quinta\\b|\\bLa Puente\\b|\\bLa Providencia Siglo XXI\\b|\\bLa Presa\\b|\\bLa Prairie\\b|\\bLa Possession\\b|\\bLa Porte\\b|\\bLa Porte\\b|\\bLa Pomme\\b|\\bLa Pobla de Vallbona\\b|\\bLa Plata\\b|\\bLa Plata\\b|\\bLa Pintana\\b|\\bLa Pineda\\b|\\bLa Piedad\\b|\\bLa Peca\\b|\\bLa Paz Centro\\b|\\bLa Paz\\b|\\bLa Paz\\b|\\bLa Paz\\b|\\bLa Paz\\b|\\bLa Paz\\b|\\bLa Paz\\b|\\bLa Palma\\b|\\bLa Oroya\\b|\\bLa Orotava\\b|\\bLa Orilla\\b|\\bLa Oliva\\b|\\bLa Mohammedia\\b|\\bLa Mirada\\b|\\bLa Mesa\\b|\\bLa Mesa\\b|\\bLa Marque\\b|\\bLa Mana\\b|\\bLa Magdalena Tlaltelulco\\b|\\bLa Madeleine\\b|\\bLa Linea de la Concepcion\\b|\\bLa Louviere\\b|\\bLa Lima\\b|\\bLa Ligua\\b|\\bLa Libertad\\b|\\bLa Libertad\\b|\\bLa Laguna\\b|\\bLa Jolla\\b|\\bLa Jagua de Ibirico\\b|\\bLa Isla\\b|\\bLa Haute\\-Saint\\-Charles\\b|\\bLa Habra\\b|\\bLa Habana Vieja\\b|\\bLa Guaira\\b|\\bLa Grange\\b|\\bLa Goulette\\b|\\bLa Gomera\\b|\\bLa Gi\\b|\\bLa Garenne\\-Colombes\\b|\\bLa Garde\\b|\\bLa Fria\\b|\\bLa Fleche\\b|\\bLa Falda\\b|\\bLa Estrella\\b|\\bLa Esperanza\\b|\\bLa Ermita\\b|\\bLa Dorada\\b|\\bLa Dolorita\\b|\\bLa Defense\\b|\\bLa Cruz\\b|\\bLa Crosse\\b|\\bLa Crescenta\\-Montrose\\b|\\bLa Crau\\b|\\bLa Courneuve\\b|\\bLa Concepcion\\b|\\bLa Ciotat\\b|\\bLa Chorrera\\b|\\bLa Chaux\\-de\\-Fonds\\b|\\bLa Chapelle\\-sur\\-Erdre\\b|\\bLa Celle\\-Saint\\-Cloud\\b|\\bLa Ceja\\b|\\bLa Ceiba\\b|\\bLa Canada Flintridge\\b|\\bLa Castellana\\b|\\bLa Carolina\\b|\\bLa Carlota\\b|\\bLa Calera\\b|\\bLa Cabima\\b|\\bLa Breita\\b|\\bLa Bordeta\\b|\\bLa Bonanova\\b|\\bLa Blancarde\\b|\\bLa Baule\\-Escoublac\\b|\\bLa Barca\\b|\\bLa Asuncion\\b|\\bL'Hospitalet de Llobregat\\b|\\bL'Hay\\-les\\-Roses\\b|\\bL'Eliana\\b|\\bL'Assomption\\b|\\bL'Aquila\\b|\\bL'Ancienne\\-Lorette\\b|\\bK'olito\\b|\\bKulob\\b|\\bKumher\\b|\\bKukatpalli\\b|\\bKuhdasht\\b|\\bKudligi\\b|\\bKoriyama\\b|\\bKonosu\\b|\\bKonan\\b|\\bKofu\\b|\\bKlodzko\\b|\\bKiziltepe\\b|\\bKizilcahamam\\b|\\bKirsehir\\b|\\bKirikkale\\b|\\bKirikhan\\b|\\bKirklareli\\b|\\bKirkagac\\b|\\bKish\\b|\\bKiratpur\\b|\\bKil Bhuvanagiri\\b|\\bKihei\\b|\\bKety\\b|\\bKetrzyn\\b|\\bKedzierzyn\\-Kozle\\b|\\bKedainiai\\b|\\bKazerun\\b|\\bKayankulam\\b|\\bKavali\\b|\\bKatras\\b|\\bKatpadi\\b|\\bKatoya\\b|\\bKatol\\b|\\bKathor\\b|\\bKashmar\\b|\\bKasganj\\b|\\bKasaragod\\b|\\bKarsiyang\\b|\\bKarkala\\b|\\bKaranja\\b|\\bKaramadai\\b|\\bKaraikal\\b|\\bKaraikkudi\\b|\\bKapren\\b|\\bKanth\\b|\\bKant\\b|\\bKannangad\\b|\\bKankanhalli\\b|\\bKanker\\b|\\bKanke\\b|\\bKandla\\b|\\bKandi\\b|\\bKandhla\\b|\\bKanchrapara\\b|\\bKamarhati\\b|\\bKamareddi\\b|\\bKamakhyanagar\\b|\\bKamyaran\\b|\\bKamthi\\b|\\bKaman\\b|\\bKaliganj\\b|\\bKalavad\\b|\\bKalanwali\\b|\\bKalpi\\b|\\bKalol\\b|\\bKalna\\b|\\bKalka\\b|\\bKaliyaganj\\b|\\bKalimpong\\b|\\bKalia\\b|\\bKakori\\b|\\bKakinada\\b|\\bKagal\\b|\\bKutahya\\b|\\bKurten\\b|\\bKunzelsau\\b|\\bKunzell\\b|\\bKoge\\b|\\bKothen\\b|\\bKorfez\\b|\\bKoping\\b|\\bKopenick\\b|\\bKoniz\\b|\\bKonigswinter\\b|\\bKonigstein im Taunus\\b|\\bKonigslutter am Elm\\b|\\bKonigsbrunn\\b|\\bKonigs Wusterhausen\\b|\\bKoneurgench\\b|\\bKoln\\b|\\bKorinthos\\b|\\bKopavogur\\b|\\bKetou\\b|\\bKelibia\\b|\\bKedougou\\b|\\bKahta\\b|\\bKyongsong\\b|\\bKyzylorda\\b|\\bKyzyl\\-Suu\\b|\\bKyzyl\\-Kyya\\b|\\bKyzyl\\b|\\bKyustendil\\b|\\bKyurdarmir\\b|\\bKysucke Nove Mesto\\b|\\bKyshtym\\b|\\bKyrenia\\b|\\bKyoto\\b|\\bKyosai\\b|\\bKyle\\b|\\bKyiv\\b|\\bKyenjojo\\b|\\bKyela\\b|\\bKyaukse\\b|\\bKyathampalle\\b|\\bKyakhta\\b|\\bKyain Seikgyi Township\\b|\\bKyaikto\\b|\\bKyaiklat\\b|\\bKyaikkami\\b|\\bKyabe\\b|\\bKwinana\\b|\\bKwidzyn\\b|\\bKwekwe\\b|\\bKwangyang\\b|\\bKwangmyong\\b|\\bKwang Binh\\b|\\bKwale\\b|\\bKwaDukuza\\b|\\bKusadasi\\b|\\bKucove\\b|\\bKuz'minki\\b|\\bKuznetsk\\b|\\bKuzhithurai\\b|\\bKuybyshev\\b|\\bKuwana\\b|\\bKuwait City\\b|\\bKuvandyk\\b|\\bKuusamo\\b|\\bKuttampuzha\\b|\\bKutoarjo\\b|\\bKutna Hora\\b|\\bKutno\\b|\\bKutloanong\\b|\\bKutiyana\\b|\\bKutiatodu\\b|\\bKutaisi\\b|\\bKuta\\b|\\bKut Chap\\b|\\bKusong\\b|\\bKuskovo\\b|\\bKushva\\b|\\bKushtia\\b|\\bKushtagi\\b|\\bKushk\\b|\\bKushiro\\b|\\bKushima\\b|\\bKushikino\\b|\\bKushchevskaya\\b|\\bKusatsu\\b|\\bKusa\\b|\\bKur'yanovo\\b|\\bKurye\\b|\\bKurunegala\\b|\\bKurume\\b|\\bKurtamysh\\b|\\bKurtalan\\b|\\bKursk\\b|\\bKurovskoye\\b|\\bKurortnyy\\b|\\bKuroiso\\b|\\bKuroishi\\b|\\bKuroda\\b|\\bKurobe\\-shi\\b|\\bKurnool\\b|\\bKurinjippadi\\b|\\bKurihashi\\b|\\bKurganinsk\\b|\\bKurgan\\b|\\bKure\\b|\\bKurduvadi\\b|\\bKurchatov\\b|\\bKurchaloy\\b|\\bKurayyimah\\b|\\bKurayoshi\\b|\\bKuraymah\\b|\\bKurashiki\\b|\\bKurandvad\\b|\\bKurakhovo\\b|\\bKuqa\\b|\\bKuppam\\b|\\bKupjansk\\b|\\bKupino\\b|\\bKupchino\\b|\\bKupang\\b|\\bKuopio\\b|\\bKunyang\\b|\\bKunwi\\b|\\bKunshan\\b|\\bKunri\\b|\\bKunnamkulam\\b|\\bKunnamangalam\\b|\\bKunming\\b|\\bKunjah\\b|\\bKuningan\\b|\\bKunigal\\b|\\bKungalv\\b|\\bKungur\\b|\\bKungsholmen\\b|\\bKungsbacka\\b|\\bKunduz\\b|\\bKundla\\b|\\bKundian\\b|\\bKundgol\\b|\\bKundarkhi\\b|\\bKunda\\b|\\bKuna\\b|\\bKumta\\b|\\bKumru\\b|\\bKumo\\b|\\bKumla\\b|\\bKumhari\\b|\\bKumertau\\b|\\bKumbo\\b|\\bKumbhraj\\b|\\bKumbalam\\b|\\bKumbakonam\\b|\\bKumba\\b|\\bKumasi\\b|\\bKumanovo\\b|\\bKumamoto\\b|\\bKumagunnam\\b|\\bKumagaya\\b|\\bKulunda\\b|\\bKulu\\b|\\bKulu\\b|\\bKulti\\b|\\bKultali\\b|\\bKulpahar\\b|\\bKulp\\b|\\bKulmbach\\b|\\bKulittalai\\b|\\bKulim\\b|\\bKulgam\\b|\\bKulebaki\\b|\\bKulai\\b|\\bKulachi\\b|\\bKula\\b|\\bKukes\\b|\\bKukshi\\b|\\bKukmor\\b|\\bKukichuo\\b|\\bKukawa\\b|\\bKuju\\b|\\bKuje\\b|\\bKujang\\-up\\b|\\bKui Buri\\b|\\bKufa\\b|\\bKudymkar\\b|\\bKudus\\b|\\bKudepsta\\b|\\bKudat\\b|\\bKudamatsu\\b|\\bKudachi\\b|\\bKuchaman\\b|\\bKuching\\b|\\bKuchinarai\\b|\\bKuchera\\b|\\bKuchaiburi\\b|\\bKubinka\\b|\\bKuantan\\b|\\bKuang\\b|\\bKuandian\\b|\\bKualakapuas\\b|\\bKuala Tungkal\\b|\\bKuala Terengganu\\b|\\bKuala Selangor\\b|\\bKuala Pilah\\b|\\bKuala Lumpur\\b|\\bKuala Lipis\\b|\\bKuala Kedah\\b|\\bKuala Kangsar\\b|\\bKuala Belait\\b|\\bKuah\\b|\\bKstovo\\b|\\bKsour Essaf\\b|\\bKsar el Boukhari\\b|\\bKsar Hellal\\b|\\bKsar El Kebir\\b|\\bKsar Chellala\\b|\\bKryvyi Rih\\b|\\bKrymsk\\b|\\bKrychaw\\b|\\bKrusevac\\b|\\bKruje\\b|\\bKruisfontein\\b|\\bKrugersdorp\\b|\\bKroya\\b|\\bKrotoszyn\\b|\\bKrosno\\b|\\bKropyvnytskyi\\b|\\bKropotkin\\b|\\bKroonstad\\b|\\bKronshtadt\\b|\\bKronberg Tal\\b|\\bKronberg\\b|\\bKronach\\b|\\bKromeriz\\b|\\bKrolevets'\\b|\\bKrnov\\b|\\bKriva Palanka\\b|\\bKristinehamn\\b|\\bKristiansund\\b|\\bKristianstad\\b|\\bKristiansand\\b|\\bKrishnarajpet\\b|\\bKrishnanagar\\b|\\bKrishnagiri\\b|\\bKrimpen aan den IJssel\\b|\\bKriens\\b|\\bKriel\\b|\\bKribi\\b|\\bKrian\\b|\\bKreuztal\\b|\\bKreuzlingen\\b|\\bKreuzberg\\b|\\bKreuzau\\b|\\bKretinga\\b|\\bKrestovskiy ostrov\\b|\\bKresek\\b|\\bKreminna\\b|\\bKremenets\\b|\\bKremenchuk\\b|\\bKrefeld\\b|\\bKrasnik\\b|\\bKratie\\b|\\bKrathum Baen\\b|\\bKrasyliv\\b|\\bKrasnyy Sulin\\b|\\bKrasnyy Luch\\b|\\bKrasnystaw\\b|\\bKrasnoznamensk\\b|\\bKrasnoye Selo\\b|\\bKrasnoyarsk\\b|\\bKrasnovishersk\\b|\\bKrasnoural'sk\\b|\\bKrasnoufimsk\\b|\\bKrasnotur'insk\\b|\\bKrasnoperekops'k\\b|\\bKrasnoobsk\\b|\\bKrasnokamsk\\b|\\bKrasnokamensk\\b|\\bKrasnohrad\\b|\\bKrasnogvargeisky\\b|\\bKrasnogvardeyskoye\\b|\\bKrasnogorsk\\b|\\bKrasnodar\\b|\\bKrasnoarmeyskaya\\b|\\bKrasnoarmeysk\\b|\\bKrasnoarmeysk\\b|\\bKrapkowice\\b|\\bKranj\\b|\\bKramators'k\\b|\\bKralupy nad Vltavou\\b|\\bKraljevo\\b|\\bKralendijk\\b|\\bKrakow\\b|\\bKraksaan\\b|\\bKragujevac\\b|\\bKrabi\\b|\\bKraaifontein\\b|\\bKpandu\\b|\\bKpalime\\b|\\bKosice\\b|\\bKoscierzyna\\b|\\bKoscian\\b|\\bKonskie\\b|\\bKolobrzeg\\b|\\bKolo\\b|\\bKoath\\b|\\bKoz'modem'yansk\\b|\\bKozani\\b|\\bKozyatyn\\b|\\bKozluk\\b|\\bKozienice\\b|\\bKozhukhovo\\b|\\bKozhikode\\b|\\bKozeyevo\\b|\\bKozel'sk\\b|\\bKozanow\\b|\\bKozan\\b|\\bKozakai\\-cho\\b|\\bKoysinceq\\b|\\bKoynanagar\\b|\\bKowon\\-up\\b|\\bKowloon\\b|\\bKovur\\b|\\bKovylkino\\b|\\bKovvur\\b|\\bKovrov\\b|\\bKovilpatti\\b|\\bKovel\\b|\\bKovdor\\b|\\bKovancilar\\b|\\bKouvola\\b|\\bKoutiala\\b|\\bKousseri\\b|\\bKousa\\b|\\bKourou\\b|\\bKoupela\\b|\\bKoungou\\b|\\bKoumra\\b|\\bKoulikoro\\b|\\bKoulamoutou\\b|\\bKoudougou\\b|\\bKota\\b|\\bKotturu\\b|\\bKottayam\\b|\\bKottagudem\\b|\\bKotri\\b|\\bKotputli\\b|\\bKotovsk\\b|\\bKotovo\\b|\\bKotma\\b|\\bKotlovka\\b|\\bKotli Loharan\\b|\\bKotli\\b|\\bKotlas\\b|\\bKotkapura\\b|\\bKotka\\b|\\bKotikawatta\\b|\\bKotido\\b|\\bKotel'nikovo\\b|\\bKotel'niki\\b|\\bKotel'nich\\b|\\bKotdwara\\b|\\bKotaparh\\b|\\bKotamangalam\\b|\\bKotagiri\\b|\\bKotabumi\\b|\\bKota Tinggi\\b|\\bKota Kinabalu\\b|\\bKota Bharu\\b|\\bKota\\b|\\bKot Samaba\\b|\\bKot Radha Kishan\\b|\\bKot Mumin\\b|\\bKot Malik Barkhurdar\\b|\\bKot Ghulam Muhammad\\b|\\bKot Diji\\b|\\bKot Addu\\b|\\bKoszalin\\b|\\bKostyantynivka\\b|\\bKostrzyn nad Odra\\b|\\bKostroma\\b|\\bKostopil'\\b|\\bKostomuksha\\b|\\bKosti\\b|\\bKostanay\\b|\\bKosovo Polje\\b|\\bKosonsoy\\b|\\bKosong\\b|\\bKoson\\b|\\bKosigi\\b|\\bKosi\\b|\\bKoshigaya\\b|\\bKosaya Gora\\b|\\bKosan\\b|\\bKosamba\\b|\\bKos\\b|\\bKoraput\\b|\\bKorce\\b|\\bKorydallos\\b|\\bKoryazhma\\b|\\bKorwai\\b|\\bKortrijk\\b|\\bKortenberg\\b|\\bKorsor\\b|\\bKorsun\\-Shevchenkivskyi\\b|\\bKorsholm\\b|\\bKorschenbroich\\b|\\bKorsakov\\b|\\bKorrewegwijk\\b|\\bKorostyshiv\\b|\\bKorosten'\\b|\\bKoropi\\b|\\bKoronadal\\b|\\bKorolev\\b|\\bKornwestheim\\b|\\bKorntal\\b|\\bKorla\\b|\\bKorkuteli\\b|\\bKorkino\\b|\\bKorhogo\\b|\\bKorgan\\b|\\bKorenovsk\\b|\\bKorem\\b|\\bKoregaon\\b|\\bKoreatown\\b|\\bKorbach\\b|\\bKorba\\b|\\bKorba\\b|\\bKoratla\\b|\\bKoprivnice\\b|\\bKopaganj\\b|\\bKoprivnica\\b|\\bKoppal\\b|\\bKopeysk\\b|\\bKoper\\b|\\bKopargaon\\b|\\bKoothanallur\\b|\\bKonarka\\b|\\bKonz\\b|\\bKonya\\b|\\bKontich\\b|\\bKontagora\\b|\\bKonstanz\\b|\\bKonstantynow Lodzki\\b|\\bKonstantinovsk\\b|\\bKonstancin\\-Jeziorna\\b|\\bKonotop\\b|\\bKonongo\\b|\\bKonnur\\b|\\bKonnagar\\b|\\bKonjic\\b|\\bKonin\\b|\\bKonibodom\\b|\\bKongsberg\\b|\\bKongoussi\\b|\\bKongolo\\b|\\bKondrovo\\b|\\bKondopoga\\b|\\bKondoa\\b|\\bKondapalle\\b|\\bKondagaon\\b|\\bKonch\\b|\\bKonakovo\\b|\\bKon Tum\\b|\\bKomarom\\b|\\bKomarno\\b|\\bKomsomolsk\\-on\\-Amur\\b|\\bKomotini\\b|\\bKomoro\\b|\\bKomono\\b|\\bKommunar\\b|\\bKomlo\\b|\\bKomendantsky aerodrom\\b|\\bKombolcha\\b|\\bKombissiri\\b|\\bKomatsushimacho\\b|\\bKomatsu\\b|\\bKomatipoort\\b|\\bKomaki\\b|\\bKol'chugino\\b|\\bKolaras\\b|\\bKolar\\b|\\bKolin\\b|\\bKolwezi\\b|\\bKolpino\\b|\\bKolpashevo\\b|\\bKolonnawa\\b|\\bKolomyia\\b|\\bKolomyagi\\b|\\bKolomna\\b|\\bKolomenskoye\\b|\\bKolokani\\b|\\bKollegal\\b|\\bKollam\\b|\\bKolkhozobod\\b|\\bKolkata\\b|\\bKolhapur\\b|\\bKolea\\b|\\bKolding\\b|\\bKolda\\b|\\bKolbermoor\\b|\\bKolasib\\b|\\bKokubunji\\b|\\bKokubu\\-matsuki\\b|\\bKokstad\\b|\\bKoksijde\\b|\\bKokshetau\\b|\\bKokrajhar\\b|\\bKokopo\\b|\\bKokomo\\b|\\bKokologo\\b|\\bKokkola\\b|\\bKokhma\\b|\\bKoidu\\b|\\bKohtla\\-Jarve\\b|\\bKohima\\b|\\bKohat\\b|\\bKoh Kong\\b|\\bKogota\\b|\\bKogon\\b|\\bKogarah\\b|\\bKogalym\\b|\\bKoga\\b|\\bKoga\\b|\\bKoforidua\\b|\\bKoesan\\b|\\bKoelwar\\b|\\bKodinar\\b|\\bKodar\\b|\\bKodungallur\\b|\\bKodoli\\b|\\bKodinsk\\b|\\bKodarma\\b|\\bKodamacho\\-kodamaminami\\b|\\bKodaikanal\\b|\\bKochubeyevskoye\\b|\\bKochi\\b|\\bKochenevo\\b|\\bKochani\\b|\\bKoch'ang\\b|\\bKoch Bihar\\b|\\bKocaali\\b|\\bKobylka\\b|\\bKobuleti\\b|\\bKobryn\\b|\\bKoblenz\\b|\\bKobe\\b|\\bKobayashi\\b|\\bKo Samui\\b|\\bKnysna\\b|\\bKnurow\\b|\\bKnoxville\\b|\\bKnokke\\-Heist\\b|\\bKnjazevac\\b|\\bKlasterec nad Ohri\\b|\\bKlungkung\\b|\\bKluczbork\\b|\\bKluang\\b|\\bKloten\\b|\\bKlosterneuburg\\b|\\bKlintsy\\b|\\bKlingenstein\\b|\\bKlin\\b|\\bKlimovsk\\b|\\bKleve\\b|\\bKlerksdorp\\b|\\bKleinmachnow\\b|\\bKlebang Besar\\b|\\bKlatovy\\b|\\bKlaten\\b|\\bKlangenan\\b|\\bKlang\\b|\\bKlamath Falls\\b|\\bKlaipeda\\b|\\bKlagenfurt am Worthersee\\b|\\bKlaeng\\b|\\bKladno\\b|\\bKicevo\\b|\\bKizlyar\\b|\\bKizilyurt\\b|\\bKizhake Chalakudi\\b|\\bKizel\\b|\\bKiyawa\\b|\\bKiwira\\b|\\bKivsharivka\\b|\\bKivertsi\\b|\\bKitzingen\\b|\\bKitwe\\b|\\bKitui\\b|\\bKitsuki\\b|\\bKitob\\b|\\bKithor\\b|\\bKitgum\\b|\\bKitchener\\b|\\bKitami\\b|\\bKitama\\b|\\bKitale\\b|\\bKitakyushu\\b|\\bKitakata\\b|\\bKitakami\\b|\\bKitaibaraki\\b|\\bKitahiroshima\\b|\\bKitahama\\b|\\bKisvarda\\b|\\bKisumu\\b|\\bKissimmee\\b|\\bKissidougou\\b|\\bKispest\\b|\\bKismayo\\b|\\bKislovodsk\\b|\\bKiskoros\\b|\\bKiskunhalas\\b|\\bKiskunfelegyhaza\\b|\\bKisii\\b|\\bKisi\\b|\\bKishtwar\\b|\\bKishorganj\\b|\\bKishiwada\\b|\\bKishapu\\b|\\bKishangarh\\b|\\bKishanganj\\b|\\bKisesa\\b|\\bKiselevsk\\b|\\bKisela Voda\\b|\\bKisarazu\\b|\\bKisaran\\b|\\bKisangani\\b|\\bKisai\\b|\\bKirzhach\\b|\\bKiryu\\b|\\bKiryas Joel\\b|\\bKirwan\\b|\\bKiruna\\b|\\bKirtipur\\b|\\bKirsanov\\b|\\bKirovs'k\\b|\\bKirovsk\\b|\\bKirovsk\\b|\\bKirovo\\-Chepetsk\\b|\\bKirovgrad\\b|\\bKirov\\b|\\bKirov\\b|\\bKirkwood\\b|\\bKirkuk\\b|\\bKirksville\\b|\\bKirkland\\b|\\bKirkland\\b|\\bKirkkonummi\\b|\\bKirkintilloch\\b|\\bKirkcaldy\\b|\\bKirkby in Ashfield\\b|\\bKirkby\\b|\\bKirishi\\b|\\bKirguli\\b|\\bKireyevsk\\b|\\bKireka\\b|\\bKirchlengern\\b|\\bKirchheim unter Teck\\b|\\bKirchhain\\b|\\bKiratu\\b|\\bKiraoli\\b|\\bKirandul\\b|\\bKirando\\b|\\bKipushi\\b|\\bKippax\\b|\\bKiomboi\\b|\\bKinana\\b|\\bKinzan\\b|\\bKinwat\\b|\\bKintampo\\b|\\bKinston\\b|\\bKinshasa\\b|\\bKinna\\b|\\bKingwood Area\\b|\\bKingswood\\b|\\bKingswinford\\b|\\bKingsville\\b|\\bKingstown Park\\b|\\bKingstown\\b|\\bKingston upon Hull\\b|\\bKingston\\b|\\bKingston\\b|\\bKingston\\b|\\bKingston\\b|\\bKingsport\\b|\\bKingsland\\b|\\bKingsford\\b|\\bKings Park\\b|\\bKings Bridge\\b|\\bKingori\\b|\\bKingman\\b|\\bKingisepp\\b|\\bKing's Lynn\\b|\\bKing of Prussia\\b|\\bKineshma\\b|\\bKinel'\\-Cherkassy\\b|\\bKinel'\\b|\\bKindu\\b|\\bKindia\\b|\\bKinarut\\b|\\bKimry\\b|\\bKimovsk\\b|\\bKimje\\b|\\bKimitsu\\b|\\bKimhae\\b|\\bKimberley\\b|\\bKimbe\\b|\\bKilwinning\\b|\\bKilosa\\b|\\bKilmarnock\\b|\\bKillingly Center\\b|\\bKilleen\\b|\\bKilkis\\b|\\bKilkenny\\b|\\bKilju\\b|\\bKiliya\\b|\\bKilis\\b|\\bKilifi\\b|\\bKikwit\\b|\\bKikuchi\\b|\\bKikinda\\b|\\bKijang\\b|\\bKihangara\\b|\\bKigonsera\\b|\\bKigoma\\b|\\bKigali\\b|\\bKifri\\b|\\bKifisia\\b|\\bKiffa\\b|\\bKierspe\\b|\\bKielce\\b|\\bKiel\\b|\\bKidsgrove\\b|\\bKidodi\\b|\\bKidlington\\b|\\bKidderminster\\b|\\bKidatu\\b|\\bKidapawan\\b|\\bKichha\\b|\\bKibuye\\b|\\bKibungo\\b|\\bKibre Mengist\\b|\\bKibondo\\b|\\bKibiti\\b|\\bKibara\\b|\\bKibakwe\\b|\\bKibaha\\b|\\bKiambu\\b|\\bKhujayli\\b|\\bKhujand\\b|\\bKhutar\\b|\\bKhost\\b|\\bKhatra\\b|\\bKhategaon\\b|\\bKhash\\b|\\bKhash\\b|\\bKharupatia\\b|\\bKhapa\\b|\\bKhanapur\\b|\\bKhan Yunis\\b|\\bKhan Shaykhun\\b|\\bKhamgaon\\b|\\bKhalis\\b|\\bKhachrod\\b|\\bKhvansar\\b|\\bKhuzdar\\b|\\bKhust\\b|\\bKhushab\\b|\\bKhurrianwala\\b|\\bKhurja\\b|\\bKhurda\\b|\\bKhurai\\b|\\bKhunti\\b|\\bKhulna\\b|\\bKhulm\\b|\\bKhuldabad\\b|\\bKhromtau\\b|\\bKhowy\\b|\\bKhowai\\b|\\bKhovd\\b|\\bKhouribga\\b|\\bKhot'kovo\\b|\\bKhosta\\b|\\bKhorugh\\b|\\bKhorramshahr\\b|\\bKhorramdarreh\\b|\\bKhorramabad\\b|\\bKhoroshevo\\-Mnevniki\\b|\\bKhopoli\\b|\\bKhon Kaen\\b|\\bKhon Buri\\b|\\bKhomeyni Shahr\\b|\\bKhomeyn\\b|\\bKholmskiy\\b|\\bKholmsk\\b|\\bKhobar\\b|\\bKhmilnyk\\b|\\bKhmelnytskyi\\b|\\bKhlong Luang\\b|\\bKhiwa\\b|\\bKhirkiyan\\b|\\bKhirdalan\\b|\\bKhimki\\b|\\bKhilchipur\\b|\\bKhewra\\b|\\bKhetri\\b|\\bKhetia\\b|\\bKheralu\\b|\\bKherson\\b|\\bKheri\\b|\\bKhenifra\\b|\\bKhenchela\\b|\\bKhemisset\\b|\\bKhemis el Khechna\\b|\\bKhemis Miliana\\b|\\bKhekra\\b|\\bKhedbrahma\\b|\\bKheda\\b|\\bKhawr Fakkan\\b|\\bKhatima\\b|\\bKhatauli\\b|\\bKhashuri\\b|\\bKhasavyurt\\b|\\bKhasab\\b|\\bKhartsyz'k\\b|\\bKhartoum\\b|\\bKharsia\\b|\\bKharkiv\\b|\\bKharkhauda\\b|\\bKharian\\b|\\bKhargone\\b|\\bKhardah\\b|\\bKharar\\b|\\bKharan\\b|\\bKharakvasla\\b|\\bKharagpur\\b|\\bKharagpur\\b|\\bKharabali\\b|\\bKhao Yoi\\b|\\bKhao Wong\\b|\\bKhanu Woralaksaburi\\b|\\bKhanty\\-Mansiysk\\b|\\bKhanpur Mahar\\b|\\bKhanpur\\b|\\bKhanna\\b|\\bKhanjarah\\b|\\bKhangarh\\b|\\bKhangah Dogran\\b|\\bKhandwa\\b|\\bKhandela\\b|\\bKhanbari\\b|\\bKhanabad\\b|\\bKhammam\\b|\\bKhamis Mushait\\b|\\bKhambhat\\b|\\bKhambhaliya\\b|\\bKhamaria\\b|\\bKhalilabad\\b|\\bKhalandrion\\b|\\bKhalkhal\\b|\\bKhalifah A City\\b|\\bKhalabat\\b|\\bKhajuraho Group of Monuments\\b|\\bKhairagarh\\b|\\bKhairagarh\\b|\\bKhairabad\\b|\\bKhairpur Tamewah\\b|\\bKhairpur Nathan Shah\\b|\\bKhairpur Mir's\\b|\\bKhairpur\\b|\\bKhair\\b|\\bKhagrachhari\\b|\\bKhagaul\\b|\\bKhagaria\\b|\\bKhadyzhensk\\b|\\bKhadki\\b|\\bKhada\\b|\\bKhabarovsk Vtoroy\\b|\\bKhabarovsk\\b|\\bKfar Saba\\b|\\bKezmarok\\b|\\bKesan\\b|\\bKeystone\\b|\\bKeysborough\\b|\\bKeynsham\\b|\\bKey West\\b|\\bKew Gardens Hills\\b|\\bKew Gardens\\b|\\bKew\\b|\\bKevelaer\\b|\\bKettering\\b|\\bKettering\\b|\\bKetanggungan\\b|\\bKeta\\b|\\bKeszthely\\b|\\bKeswick\\b|\\bKestel\\b|\\bKeskin\\b|\\bKesinga\\b|\\bKeshorai Patan\\b|\\bKeshod\\b|\\bKesabpur\\b|\\bKerur\\b|\\bKerugoya\\b|\\bKertosono\\b|\\bKertih\\b|\\bKerrville\\b|\\bKerpen\\b|\\bKernersville\\b|\\bKermanshah\\b|\\bKerman\\b|\\bKerkrade\\b|\\bKericho\\b|\\bKeren\\b|\\bKerch\\b|\\bKerava\\b|\\bKeratsini\\b|\\bKepanjen\\b|\\bKepala Batas\\b|\\bKenwood\\b|\\bKentwood\\b|\\bKentau\\b|\\bKent\\b|\\bKent\\b|\\bKensington\\b|\\bKensington\\b|\\bKenscoff\\b|\\bKenosha\\b|\\bKenora\\b|\\bKennewick\\b|\\bKennesaw\\b|\\bKenner\\b|\\bKenmore\\b|\\bKenmore\\b|\\bKenitra\\b|\\bKeningau\\b|\\bKenilworth\\b|\\bKenema\\b|\\bKendraparha\\b|\\bKendari\\b|\\bKendall West\\b|\\bKendall\\b|\\bKendale Lakes\\b|\\bKendal\\b|\\bKenda\\b|\\bKencong\\b|\\bKen Caryl\\b|\\bKemri\\b|\\bKempten \\(Allgau\\)\\b|\\bKempston Hardwick\\b|\\bKempston\\b|\\bKempen\\b|\\bKemise\\b|\\bKemi\\b|\\bKemerovo\\b|\\bKemer\\b|\\bKemalpasa\\b|\\bKelishad va Sudarjan\\b|\\bKelowna\\b|\\bKelo\\b|\\bKellyville\\b|\\bKeller\\b|\\bKelkit\\b|\\bKelkheim \\(Taunus\\)\\b|\\bKelheim\\b|\\bKelaniya\\b|\\bKekri\\b|\\bKeizer\\b|\\bKeighley\\b|\\bKehl\\b|\\bKegalle\\b|\\bKeffi\\b|\\bKefar Yona\\b|\\bKefamenanu\\b|\\bKeetmanshoop\\b|\\bKeene\\b|\\bKeelung\\b|\\bKeelakarai\\b|\\bKedungwuni\\b|\\bKedungwaru\\b|\\bKedrovka\\b|\\bKediri\\b|\\bKecskemet\\b|\\bKebonarun\\b|\\bKebomas\\b|\\bKebili\\b|\\bKearny\\b|\\bKearns\\b|\\bKearney\\b|\\bKagizman\\b|\\bKaele\\b|\\bKaedi\\b|\\bKazo\\b|\\bKazincbarcika\\b|\\bKazanlak\\b|\\bKazan\\b|\\bKazan\\b|\\bKayyerkan\\b|\\bKayunga\\b|\\bKaysville\\b|\\bKayseri\\b|\\bKayes\\b|\\bKayes\\b|\\bKayar\\b|\\bKayanza\\b|\\bKayan\\b|\\bKayalpattinam\\b|\\bKaya\\b|\\bKawthoung\\b|\\bKawm Hamadah\\b|\\bKawm Umbu\\b|\\bKawit\\b|\\bKawasaki\\b|\\bKawasaki\\b|\\bKawardha\\b|\\bKawanoecho\\b|\\bKawanishi\\b|\\bKawambwa\\b|\\bKawalu\\b|\\bKawaguchi\\b|\\bKawagoe\\b|\\bKawage\\b|\\bKavala\\b|\\bKavalerovo\\b|\\bKavakli\\b|\\bKavaje\\b|\\bKavadarci\\b|\\bKaura Namoda\\b|\\bKaunas\\b|\\bKaulsdorf\\b|\\bKaukauna\\b|\\bKaufbeuren\\b|\\bKaty\\b|\\bKatwijk aan Zee\\b|\\bKatutura\\b|\\bKatunayaka\\b|\\bKatumba\\b|\\bKattivakkam\\b|\\bKattaqo'rg'on\\b|\\bKattanam\\b|\\bKatsuyama\\b|\\bKatsuura\\b|\\bKatsuta\\b|\\bKatsuren\\-haebaru\\b|\\bKatsina\\-Ala\\b|\\bKatsina\\b|\\bKatrineholm\\b|\\bKatowice\\b|\\bKatoro\\b|\\bKatori\\-shi\\b|\\bKatiola\\b|\\bKatima Mulilo\\b|\\bKatihar\\b|\\bKati\\b|\\bKathua\\b|\\bKathu\\b|\\bKathmandu\\b|\\bKatghora\\b|\\bKaterini\\b|\\bKaterero\\b|\\bKataysk\\b|\\bKatav\\-Ivanovsk\\b|\\bKataragama\\b|\\bKatangi\\b|\\bKatangi\\b|\\bKatabu\\b|\\bKasur\\b|\\bKasungu\\b|\\bKasulu\\b|\\bKasukabe\\b|\\bKasugai\\b|\\bKasterlee\\b|\\bKastanayevo\\b|\\bKastamonu\\b|\\bKasserine\\b|\\bKassel\\b|\\bKassala\\b|\\bKasrawad\\b|\\bKaspiysk\\b|\\bKasongo\\-Lunda\\b|\\bKasongo\\b|\\bKasoa\\b|\\bKasli\\b|\\bKasimov\\b|\\bKasihan\\b|\\bKashmor\\b|\\bKashiwazaki\\b|\\bKashiwa\\b|\\bKashira\\b|\\bKashipur\\b|\\bKashin\\b|\\bKashima\\-shi\\b|\\bKashima\\b|\\bKashihara\\-shi\\b|\\bKashihara\\b|\\bKashgar\\b|\\bKaset Wisai\\b|\\bKaset Sombun\\b|\\bKasese\\b|\\bKaseda\\-shirakame\\b|\\bKasba Tadla\\b|\\bKasba\\b|\\bKasaoka\\b|\\bKasangulu\\b|\\bKasamwa\\b|\\bKasamatsucho\\b|\\bKasama\\b|\\bKasama\\b|\\bKarimnagar\\b|\\bKarimganj\\b|\\bKarad\\b|\\bKarwar\\b|\\bKarvina\\b|\\bKaruri\\b|\\bKarur\\b|\\bKarukh\\b|\\bKartarpur\\b|\\bKartuzy\\b|\\bKartasura\\b|\\bKartaly\\b|\\bKars\\b|\\bKarpinsk\\b|\\bKarow\\b|\\bKaror\\b|\\bKaronga\\b|\\bKarol Bagh\\b|\\bKaroi\\b|\\bKarnal\\b|\\bKarnobat\\b|\\bKarmala\\b|\\bKarmi'el\\b|\\bKarlstadt\\b|\\bKarlstad\\b|\\bKarlsruhe\\b|\\bKarlskrona\\b|\\bKarlskoga\\b|\\bKarlshorst\\b|\\bKarlshamn\\b|\\bKarlsfeld\\b|\\bKarlovy Vary\\b|\\bKarlovo\\b|\\bKarlovac\\b|\\bKarlivka\\b|\\bKarkira\\b|\\bKarjat\\b|\\bKariya\\b|\\bKariya\\b|\\bKariba\\b|\\bKari\\b|\\bKarhula\\b|\\bKarhal\\b|\\bKarera\\b|\\bKareli\\b|\\bKarditsa\\b|\\bKardzhali\\b|\\bKarcag\\b|\\bKarben\\b|\\bKarbala\\b|\\bKaracoban\\b|\\bKarauli\\b|\\bKaratsu\\b|\\bKaratau\\b|\\bKarasuyama\\b|\\bKarasuk\\b|\\bKarasu Mahallesi\\b|\\bKarasu\\b|\\bKarapinar\\b|\\bKaranpur\\b|\\bKarangsembung\\b|\\bKaranganom\\b|\\bKarangampel\\b|\\bKaramursel\\b|\\bKaramsad\\b|\\bKaramay\\b|\\bKaraman\\b|\\bKarakul'\\b|\\bKarakocan\\b|\\bKarakol\\b|\\bKarak City\\b|\\bKaraj\\b|\\bKaragandy\\b|\\bKarachi\\b|\\bKarachev\\b|\\bKarachayevsk\\b|\\bKaracabey\\b|\\bKarabuk\\b|\\bKarabulak\\b|\\bKarabaglar\\b|\\bKarabash\\b|\\bKarabanovo\\b|\\bKara\\-Balta\\b|\\bKara Suu\\b|\\bKara\\b|\\bKapurthala\\b|\\bKapshagay\\b|\\bKapsan\\-up\\b|\\bKapotnya\\b|\\bKaposvar\\b|\\bKapolei\\b|\\bKapit\\b|\\bKapiri Mposhi\\b|\\bKapenguria\\b|\\bKapellen\\b|\\bKapan\\b|\\bKapadvanj\\b|\\bKaolack\\b|\\bKaohsiung\\b|\\bKan'onjicho\\b|\\bKanzakimachi\\-kanzaki\\b|\\bKanye\\b|\\bKanuru\\b|\\bKanuma\\b|\\bKantabanji\\b|\\bKantyshevo\\b|\\bKantharalak\\b|\\bKant\\b|\\bKansk\\b|\\bKansas City\\b|\\bKansas City\\b|\\bKansanshi\\b|\\bKanpur\\b|\\bKanoya\\b|\\bKano\\b|\\bKannur\\b|\\bKannod\\b|\\bKanniyakumari\\b|\\bKannauj\\b|\\bKannapolis\\b|\\bKannad\\b|\\bKannabecho\\-yahiro\\b|\\bKankauli\\b|\\bKankan\\b|\\bKankakee\\b|\\bKaniv\\b|\\bKanigiri\\b|\\bKanie\\b|\\bKangavar\\b|\\bKanggye\\b|\\bKangdong\\-up\\b|\\bKangding\\b|\\bKangayam\\b|\\bKangasala\\b|\\bKangar\\b|\\bKanganpur\\b|\\bKangaba\\b|\\bKanevskaya\\b|\\bKaneohe\\b|\\bKanekomachi\\b|\\bKandyagash\\b|\\bKandy\\b|\\bKandukur\\b|\\bKandiaro\\b|\\bKandi\\b|\\bKandhkot\\b|\\bKandana\\b|\\bKandalaksha\\b|\\bKandahar\\b|\\bKanda\\b|\\bKanchipuram\\b|\\bKanchanaburi\\b|\\bKanbe\\b|\\bKanazawa\\b|\\bKanaya\\b|\\bKanata\\b|\\bKanasin\\b|\\bKanash\\b|\\bKananga\\b|\\bKamyzyak\\b|\\bKamyshlov\\b|\\bKamyshin\\b|\\bKamwenge\\b|\\bKamra\\b|\\bKampung Tanjung Karang\\b|\\bKampung Sungai Ara\\b|\\bKampung Simpang Renggam\\b|\\bKampung Pasir Gudang Baru\\b|\\bKampung Bukit Baharu\\b|\\bKampung Baru Subang\\b|\\bKampung Baharu Nilai\\b|\\bKampung Ayer Molek\\b|\\bKampung Ayer Keroh\\b|\\bKampot\\b|\\bKampong Thom\\b|\\bKampong Speu\\b|\\bKampong Pangkal Kalong\\b|\\bKampong Masjid Tanah\\b|\\bKampong Kadok\\b|\\bKampong Dungun\\b|\\bKampong Chhnang\\b|\\bKampong Cham\\b|\\bKampong Baharu Balakong\\b|\\bKampli\\b|\\bKamphaeng Phet\\b|\\bKampene\\b|\\bKampen\\b|\\bKampar\\b|\\bKampala\\b|\\bKamp\\-Lintfort\\b|\\bKamoke\\b|\\bKamojimacho\\-jogejima\\b|\\bKamogawa\\b|\\bKamogatacho\\-kamogata\\b|\\bKamo\\b|\\bKamloops\\b|\\bKamirenjaku\\b|\\bKaminoyama\\b|\\bKaminokawa\\b|\\bKamina\\b|\\bKamimaruko\\b|\\bKamiiso\\b|\\bKamiichi\\b|\\bKamigyo\\-ku\\b|\\bKamifukuoka\\b|\\bKamienna Gora\\b|\\bKamianske\\b|\\bKamianets\\-Podilskyi\\b|\\bKameyama\\b|\\bKameoka\\b|\\bKamen'\\-na\\-Obi\\b|\\bKamenz\\b|\\bKamensk\\-Ural'skiy\\b|\\bKamensk\\-Shakhtinskiy\\b|\\bKamenjane\\b|\\bKamen\\b|\\bKameda\\-honcho\\b|\\bKambove\\b|\\bKambar\\b|\\bKamba\\b|\\bKamateron\\b|\\bKamar Mushani\\b|\\bKaman\\b|\\bKamalia\\b|\\bKamalganj\\b|\\bKamalasai\\b|\\bKamal\\b|\\bKamakura\\b|\\bKamaishi\\b|\\bKamachumu\\b|\\bKalanaur\\b|\\bKalaleh\\b|\\bKalyan\\b|\\bKalynivka\\b|\\bKalyani\\b|\\bKalyandurg\\b|\\bKalutara\\b|\\bKalush\\b|\\bKalur Kot\\b|\\bKalundborg\\b|\\bKalulushi\\b|\\bKalugumalai\\b|\\bKaluga\\b|\\bKaltenkirchen\\b|\\bKaltan\\b|\\bKalpatta\\b|\\bKalodzishchy\\b|\\bKalocsa\\b|\\bKalmunai\\b|\\bKalmthout\\b|\\bKalmeshwar\\b|\\bKalmar\\b|\\bKallithea\\b|\\bKallio\\b|\\bKallidaikurichi\\b|\\bKallar Kahar\\b|\\bKallangur\\b|\\bKallakkurichchi\\b|\\bKalk\\b|\\bKalisz\\b|\\bKalispell\\b|\\bKalinkavichy\\b|\\bKalininskiy\\b|\\bKalininsk\\b|\\bKaliningrad\\b|\\bKalibo \\(poblacion\\)\\b|\\bKalianget\\b|\\bKalghatgi\\b|\\bKalemie\\b|\\bKaleke Mandi\\b|\\bKalavoor\\b|\\bKalat\\b|\\bKalasin\\b|\\bKalandia\\b|\\bKalamnuri\\b|\\bKalamb\\b|\\bKalamazoo\\b|\\bKalamata\\b|\\bKalamassery\\b|\\bKalamaria\\b|\\bKalakkadu\\b|\\bKalachinsk\\b|\\bKalach\\-na\\-Donu\\b|\\bKalach\\b|\\bKalabagh\\b|\\bKakuda\\b|\\bKakrala\\b|\\bKakonko\\b|\\bKakogawacho\\-honmachi\\b|\\bKakhovka\\b|\\bKakegawa\\b|\\bKakching\\b|\\bKakata\\b|\\bKakamigahara\\b|\\bKakamega\\b|\\bKaka\\b|\\bKajiki\\b|\\bKajaani\\b|\\bKaizuka\\b|\\bKaiyuan\\b|\\bKaiyuan\\b|\\bKaitong\\b|\\bKaithal\\b|\\bKaiserslautern\\b|\\bKaisariani\\b|\\bKairana\\b|\\bKairouan\\b|\\bKainan\\b|\\bKaimori\\b|\\bKaimganj\\b|\\bKailashahar\\b|\\bKailaras\\b|\\bKailua\\b|\\bKaikalur\\b|\\bKaihua\\b|\\bKaifeng\\b|\\bKaiama\\b|\\bKahuta\\b|\\bKahului\\b|\\bKahriz\\b|\\bKahror Pakka\\b|\\bKahramanmaras\\b|\\bKahna Nau\\b|\\bKahama\\b|\\bKagoshima\\b|\\bKagoro\\b|\\bKaga Bandoro\\b|\\bKafue\\b|\\bKafranbel\\b|\\bKafr Saqr\\b|\\bKafr az Zayyat\\b|\\bKafr ash Shaykh\\b|\\bKafr ad Dawwar\\b|\\bKafr Zayta\\b|\\bKafr Takharim\\b|\\bKafr Qasim\\b|\\bKafr Manda\\b|\\bKafr Laha\\b|\\bKafr Kanna\\b|\\bKafir Qala\\b|\\bKaffrine\\b|\\bKafanchan\\b|\\bKaesong\\b|\\bKaeng Khro\\b|\\bKaeng Khoi\\b|\\bKadur\\b|\\bKadinhani\\b|\\bKaduna\\b|\\bKadugli\\b|\\bKadoma\\b|\\bKadoma\\b|\\bKadod\\b|\\bKadiyivka\\b|\\bKadirli\\b|\\bKadiri\\b|\\bKadi\\b|\\bKadan\\b|\\bKadayanallur\\b|\\bKadakkavoor\\b|\\bKachkanar\\b|\\bKachia\\b|\\bKachhwa\\b|\\bKabwe\\b|\\bKabul\\b|\\bKabrai\\b|\\bKabirwala\\b|\\bKabinda\\b|\\bKabin Buri\\b|\\bKabba\\b|\\bKabaty\\b|\\bKabarnet\\b|\\bKabare\\b|\\bKabanovo\\b|\\bKabankalan\\b|\\bKabanjahe\\b|\\bKabanga\\b|\\bKabalo\\b|\\bKabale\\b|\\bKabala\\b|\\bKabacan\\b|\\bKaarst\\b|\\bKaarina\\b|\\bKaarela\\b|\\bJuybar\\b|\\bJurmala\\b|\\bJunagarh\\b|\\bJunagadh\\b|\\bJoetsu\\b|\\bJind\\b|\\bJedrzejow\\b|\\bJekabpils\\b|\\bJawad\\b|\\bJasim\\b|\\bJansath\\b|\\bJanjgir\\b|\\bJamuria\\b|\\bJamtara\\b|\\bJamai\\b|\\bJamadoba\\b|\\bJalna\\b|\\bJalaun\\b|\\bJajpur\\b|\\bJulich\\b|\\bJuchen\\b|\\bJulio de Castilhos\\b|\\bJonkoping\\b|\\bJozsefvaros\\b|\\bJozefow\\b|\\bJeremie\\b|\\bJarvenpaa\\b|\\bJamsa\\b|\\bJaszbereny\\b|\\bJaltipan de Morelos\\b|\\bJyvaskyla\\b|\\bJuarez\\b|\\bJuye\\b|\\bJuwana\\b|\\bJuventino Rosas\\b|\\bJuticalpa\\b|\\bJutiapa\\b|\\bJustiniskes\\b|\\bJurupa Valley\\b|\\bJupiter\\b|\\bJunin\\b|\\bJunin\\b|\\bJunnar\\b|\\bJuneau\\b|\\bJundiai\\b|\\bJunction City\\b|\\bJumri Tilaiya\\b|\\bJumilla\\b|\\bJuma\\b|\\bJuliaca\\b|\\bJuiz de Fora\\b|\\bJuigalpa\\b|\\bJuhaynah\\b|\\bJugsalai\\b|\\bJuegang\\b|\\bJudita\\b|\\bJudeida Makr\\b|\\bJuchitan de Zaragoza\\b|\\bJuchitepec\\b|\\bJuba\\b|\\bJuazeiro do Norte\\b|\\bJuatuba\\b|\\bJuanjui\\b|\\bJuan Jose Rios\\b|\\bJuan Griego\\b|\\bJuan Diaz\\b|\\bJuan Aldama\\b|\\bJoao Pinheiro\\b|\\bJoao Pessoa\\b|\\bJoao Monlevade\\b|\\bJoao Camara\\b|\\bJoypur Hat\\b|\\bJoymontop\\b|\\bJovellanos\\b|\\bJoue\\-les\\-Tours\\b|\\bJouy\\-le\\-Moutier\\b|\\bJounieh\\b|\\bJose de Freitas\\b|\\bJose Mariano Jimenez\\b|\\bJose Cardel\\b|\\bJose C\\. Paz\\b|\\bJose Bonifacio\\b|\\bJose Panganiban\\b|\\bJos\\b|\\bJorhat\\b|\\bJora\\b|\\bJoplin\\b|\\bJonquiere\\b|\\bJonesboro\\b|\\bJonava\\b|\\bJona\\b|\\bJombang\\b|\\bJolo\\b|\\bJollyville\\b|\\bJoliette\\b|\\bJoliet\\b|\\bJojutla\\b|\\bJoinville\\-le\\-Pont\\b|\\bJoinville\\b|\\bJohor Bahru\\b|\\bJohnstown\\b|\\bJohnstone\\b|\\bJohnston\\b|\\bJohnston\\b|\\bJohnson City\\b|\\bJohns Creek\\b|\\bJohi\\b|\\bJohannisthal\\b|\\bJohannesburg\\b|\\bJogonalan\\b|\\bJogbani\\b|\\bJoensuu\\b|\\bJodiya Bandar\\b|\\bJodhpur\\b|\\bJodhpur\\b|\\bJocotepec\\b|\\bJocotenango\\b|\\bJobabo\\b|\\bJobabo\\b|\\bJoacaba\\b|\\bJoaquin V\\. Gonzalez\\b|\\bJoal\\-Fadiout\\b|\\bJi'an\\b|\\bJicin\\b|\\bJizzax\\b|\\bJizan\\b|\\bJixi\\b|\\bJiwani\\b|\\bJiutepec\\b|\\bJiutai\\b|\\bJiuquan\\b|\\bJiupu\\b|\\bJiujiang\\b|\\bJitra\\b|\\bJisr ash Shughur\\b|\\bJishui\\b|\\bJishu\\b|\\bJirkov\\b|\\bJirja\\b|\\bJiquilpan de Juarez\\b|\\bJipijapa\\b|\\bJinzhou\\b|\\bJinzhou\\b|\\bJinxiang\\b|\\bJintur\\b|\\bJinshi\\b|\\bJinsha\\b|\\bJinotepe\\b|\\bJinotega\\b|\\bJinka\\b|\\bJinjiang\\b|\\bJinjiang\\b|\\bJinji\\b|\\bJinja\\b|\\bJining\\b|\\bJining\\b|\\bJinhua\\b|\\bJingzhou\\b|\\bJingmen\\b|\\bJingling\\b|\\bJinghong\\b|\\bJingdezhen\\b|\\bJindrichuv Hradec\\b|\\bJincheng\\b|\\bJincheng\\b|\\bJinchang\\b|\\bJinan\\-gun\\b|\\bJinan\\b|\\bJimenez\\b|\\bJimo\\b|\\bJimma\\b|\\bJimeta\\b|\\bJimaguayu\\b|\\bJilin\\b|\\bJilib\\b|\\bJijiga\\b|\\bJijiang\\b|\\bJijel\\b|\\bJihlava\\b|\\bJiguani\\b|\\bJieyang\\b|\\bJiexiu\\b|\\bJieshou\\b|\\bJieshi\\b|\\bJiehu\\b|\\bJidong\\b|\\bJidd Hafs\\b|\\bJiazi\\b|\\bJiayuguan\\b|\\bJiaxing\\b|\\bJiashan\\b|\\bJiaozuo\\b|\\bJiaozhou\\b|\\bJiaojiang\\b|\\bJian'ou\\b|\\bJiangyou\\b|\\bJiangyin\\b|\\bJiangyan\\b|\\bJianguang\\b|\\bJiangmen\\b|\\bJiangkou\\b|\\bJiamusi\\b|\\bJiagedaqi\\b|\\bJi Parana\\b|\\bJhusi\\b|\\bJhinjhak\\b|\\bJhargram\\b|\\bJhansi\\b|\\bJhalawar\\b|\\bJhalu\\b|\\bJhalrapatan\\b|\\bJhabua\\b|\\bJha\\-Jha\\b|\\bJhunjhunun\\b|\\bJhol\\b|\\bJhinjhana\\b|\\bJhingergacha\\b|\\bJhelum\\b|\\bJhawarian\\b|\\bJharsuguda\\b|\\bJharia\\b|\\bJhanjharpur\\b|\\bJhang Sadr\\b|\\bJhalida\\b|\\bJhajjar\\b|\\bJeypore\\b|\\bJewar\\b|\\bJevargi\\b|\\bJetpur\\b|\\bJesus del Monte\\b|\\bJesus Menendez\\b|\\bJesus Maria\\b|\\bJesus Maria\\b|\\bJessore\\b|\\bJesi\\b|\\bJerusalem\\b|\\bJersey City\\b|\\bJericho\\b|\\bJerez de la Frontera\\b|\\bJerez de Garcia Salinas\\b|\\bJeremoabo\\b|\\bJerantut\\b|\\bJerada\\b|\\bJequie\\b|\\bJequitinhonha\\b|\\bJeonju\\b|\\bJeongeup\\b|\\bJenzan\\b|\\bJenks\\b|\\bJenjarum\\b|\\bJenison\\b|\\bJendouba\\b|\\bJena\\b|\\bJember\\b|\\bJelgava\\b|\\bJelenia Gora\\b|\\bJelcz Laskowice\\b|\\bJelcz\\b|\\bJekulo\\b|\\bJeju City\\b|\\bJega\\b|\\bJeffersonville\\b|\\bJeffersontown\\b|\\bJefferson City\\b|\\bJefferson\\b|\\bJeddah\\b|\\bJebba\\b|\\bJbail\\b|\\bJau\\b|\\bJaen\\b|\\bJaen\\b|\\bJayrud\\b|\\bJaynagar\\-Majilpur\\b|\\bJaynagar\\b|\\bJayapura\\b|\\bJayamkondacholapuram\\b|\\bJaworzno\\b|\\bJawor\\b|\\bJawhar\\b|\\bJavanrud\\b|\\bJavea\\b|\\bJaunpur\\b|\\bJauja\\b|\\bJauharabad\\b|\\bJatara\\b|\\bJatoi Shimali\\b|\\bJatoba\\b|\\bJatiwangi\\b|\\bJatiroto\\b|\\bJatibonico\\b|\\bJatibarang\\b|\\bJaten\\b|\\bJatai\\b|\\bJatani\\b|\\bJaslo\\b|\\bJaswantnagar\\b|\\bJastrzebie Zdroj\\b|\\bJaspur\\b|\\bJasper\\b|\\bJasmine Estates\\b|\\bJasidih\\b|\\bJashpurnagar\\b|\\bJasdan\\b|\\bJasaan\\b|\\bJarabulus\\b|\\bJarwal\\b|\\bJaruco\\b|\\bJaru\\b|\\bJarrow\\b|\\bJaroslaw\\b|\\bJarocin\\b|\\bJarinu\\b|\\bJardin America\\b|\\bJardinopolis\\b|\\bJardines de la Silla \\(Jardines\\)\\b|\\bJardim Paulista\\b|\\bJardim\\b|\\bJarash\\b|\\bJaranwala\\b|\\bJaral del Progreso\\b|\\bJaragua do Sul\\b|\\bJaragua\\b|\\bJarabacoa\\b|\\bJaperi\\b|\\bJapekrom\\b|\\bJaora\\b|\\bJanub as Surrah\\b|\\bJanin\\b|\\bJanuaria\\b|\\bJangipur\\b|\\bJangaon\\b|\\bJanesville\\b|\\bJaneng\\b|\\bJandiala\\b|\\bJandira\\b|\\bJandaia do Sul\\b|\\bJand\\b|\\bJanauba\\b|\\bJanakpur\\b|\\bJanakkala\\b|\\bJamui\\b|\\bJamalpur\\b|\\bJamalpur\\b|\\bJamundi\\b|\\bJamshedpur\\b|\\bJampur\\b|\\bJamnagar\\b|\\bJammu\\b|\\bJammalamadugu\\b|\\bJamkhandi\\b|\\bJamjamal\\b|\\bJamestown\\b|\\bJamestown\\b|\\bJamestown\\b|\\bJambusar\\b|\\bJambi City\\b|\\bJamay\\b|\\bJamaica Plain\\b|\\bJamaica\\b|\\bJamaame\\b|\\bJalarpet\\b|\\bJalali\\b|\\bJalalabad\\b|\\bJalalabad\\b|\\bJalalabad\\b|\\bJalalabad\\b|\\bJalalpur\\b|\\bJalalpur\\b|\\bJalpaiguri\\b|\\bJalpa de Mendez\\b|\\bJalostotitlan\\b|\\bJalor\\b|\\bJalingo\\b|\\bJalilabad\\b|\\bJalgaon Jamod\\b|\\bJalgaon\\b|\\bJaleshwar\\b|\\bJaleshwar\\b|\\bJalesar\\b|\\bJales\\b|\\bJalapa\\b|\\bJalapa\\b|\\bJalandhar\\b|\\bJalalpur Pirwala\\b|\\bJalalpur Jattan\\b|\\bJalal\\-Abad\\b|\\bJalajala\\b|\\bJalai Nur\\b|\\bJakomini\\b|\\bJakobstad\\b|\\bJakobsberg\\b|\\bJakarta\\b|\\bJaitaran\\b|\\bJaito\\b|\\bJaisingpur\\b|\\bJaisalmer\\b|\\bJais\\b|\\bJaipur\\b|\\bJaigaon\\b|\\bJahazpur\\b|\\bJahanabad\\b|\\bJahangirabad\\b|\\bJahanian Shah\\b|\\bJagadhri\\b|\\bJaguey Grande\\b|\\bJaguarao\\b|\\bJaguaruana\\b|\\bJaguariuna\\b|\\bJaguaribe\\b|\\bJaguariaiva\\b|\\bJaguarari\\b|\\bJaguaquara\\b|\\bJagtial\\b|\\bJagraon\\b|\\bJagodina\\b|\\bJagna\\b|\\bJaggayyapeta\\b|\\bJagdispur\\b|\\bJagdishpur\\b|\\bJagdalpur\\b|\\bJagatsinghapur\\b|\\bJagalur\\b|\\bJaffna\\b|\\bJaffa\\b|\\bJaen\\b|\\bJacutinga\\b|\\bJacona de Plancarte\\b|\\bJacobina\\b|\\bJacobabad\\b|\\bJacmel\\b|\\bJacksonville Beach\\b|\\bJacksonville\\b|\\bJacksonville\\b|\\bJacksonville\\b|\\bJacksonville\\b|\\bJackson Heights\\b|\\bJackson\\b|\\bJackson\\b|\\bJackson\\b|\\bJackson\\b|\\bJaciara\\b|\\bJacarei\\b|\\bJacarezinho\\b|\\bJacaltenango\\b|\\bJabalya\\b|\\bJaboticabal\\b|\\bJaboatao dos Guararapes\\b|\\bJaboatao\\b|\\bJablonec nad Nisou\\b|\\bJablah\\b|\\bJabalpur\\b|\\bJabal os Saraj\\b|\\bJa Ela\\b|\\bI'zaz\\b|\\bItsa\\b|\\bIlawa\\b|\\bIgdir\\b|\\bIcara\\b|\\bIzucar de Matamoros\\b|\\bIzyum\\b|\\bIzyaslav\\b|\\bIzumo\\b|\\bIzumiotsu\\b|\\bIzumisano\\b|\\bIzumi\\b|\\bIzumi\\b|\\bIztapalapa\\b|\\bIztacalco\\b|\\bIzobil'nyy\\b|\\bIzmaylovo\\b|\\bIzmayil\\b|\\bIzluchinsk\\b|\\bIzki\\b|\\bIzhevsk\\b|\\bIzegem\\b|\\bIzberbash\\b|\\bIzazi\\b|\\bIzamal\\b|\\bIzalco\\b|\\bIyo\\b|\\bIxtlan del Rio\\b|\\bIxtepec\\b|\\bIxtapan de la Sal\\b|\\bIxtapaluca\\b|\\bIxtapa\\-Zihuatanejo\\b|\\bIxtapa\\b|\\bIxtaczoquitlan\\b|\\bIxmiquilpan\\b|\\bIwon\\-up\\b|\\bIwo\\b|\\bIwatsuki\\b|\\bIwata\\b|\\bIwase\\b|\\bIwanuma\\b|\\bIwanai\\b|\\bIwamizawa\\b|\\bIwakura\\b|\\bIwakuni\\b|\\bIwaki\\b|\\bIwai\\b|\\bIwade\\b|\\bIvry\\-sur\\-Seine\\b|\\bIvrea\\b|\\bIvoti\\b|\\bIves Estates\\b|\\bIvdel'\\b|\\bIvatsevichy\\b|\\bIvanteyevka\\b|\\bIvanovskoye\\b|\\bIvanovo\\b|\\bIvano\\-Frankivsk\\b|\\bIto\\b|\\bItarsi\\b|\\bItanagar\\b|\\bItapolis\\b|\\bIta\\b|\\bItzehoe\\b|\\bItuverava\\b|\\bIturrama\\b|\\bIturama\\b|\\bItupiranga\\b|\\bItupeva\\b|\\bItumbiara\\b|\\bItuiutaba\\b|\\bItubera\\b|\\bItu\\b|\\bItu\\b|\\bItsukaichi\\b|\\bItororo\\b|\\bItoman\\b|\\bItoigawa\\b|\\bItogon\\b|\\bItimadpur\\b|\\bItigi\\b|\\bIthaca\\b|\\bIten\\b|\\bItauna\\b|\\bItai\\b|\\bItaugua\\b|\\bItatinga\\b|\\bItatiba\\b|\\bItarare\\b|\\bItaqui\\b|\\bItaquaquecetuba\\b|\\bItapuranga\\b|\\bItaporanga\\b|\\bItapissuma\\b|\\bItapira\\b|\\bItapipoca\\b|\\bItapevi\\b|\\bItapeva\\b|\\bItapetininga\\b|\\bItapetinga\\b|\\bItaperucu\\b|\\bItaperuna\\b|\\bItapemirim\\b|\\bItapema\\b|\\bItapecuru Mirim\\b|\\bItapecerica da Serra\\b|\\bItapecerica\\b|\\bItaparica\\b|\\bItapage\\b|\\bItapaci\\b|\\bItaocara\\b|\\bItanhaem\\b|\\bItami\\b|\\bItambe\\b|\\bItamarandiba\\b|\\bItamaraju\\b|\\bItako\\b|\\bItajuipe\\b|\\bItajuba\\b|\\bItajai\\b|\\bItaituba\\b|\\bItaitinga\\b|\\bItagui\\b|\\bItaguai\\b|\\bItacoatiara\\b|\\bItabuna\\b|\\bItaborai\\b|\\bItabirito\\b|\\bItabira\\b|\\bItaberai\\b|\\bItaberaba\\b|\\bItabaianinha\\b|\\bItabaiana\\b|\\bItabaiana\\b|\\bIsulan\\b|\\bIstres\\b|\\bIstra\\b|\\bIstok\\b|\\bIstaravshan\\b|\\bIstanbul\\b|\\bIssy\\-les\\-Moulineaux\\b|\\bIssoire\\b|\\bIssia\\b|\\bIssaquah\\b|\\bIsparta\\b|\\bIsna\\b|\\bIsmailia\\b|\\bIslampur\\b|\\bIslampur\\b|\\bIslamnagar\\b|\\bIslip\\b|\\bIslington\\b|\\bIsleworth\\b|\\bIsle of Lewis\\b|\\bIslamabad\\b|\\bIsla Vista\\b|\\bIsla Cristina\\b|\\bIsla\\b|\\bIskitim\\b|\\bIskandar\\b|\\bIsiro\\b|\\bIsiolo\\b|\\bIsieke\\b|\\bIshoj\\b|\\bIshurdi\\b|\\bIshqoshim\\b|\\bIshioka\\b|\\bIshinomaki\\b|\\bIshimbay\\b|\\bIshim\\b|\\bIshiki\\b|\\bIshikawa\\b|\\bIshikawa\\b|\\bIshikari\\b|\\bIshii\\b|\\bIshige\\b|\\bIshigaki\\b|\\bIsfara\\b|\\bIsfana\\b|\\bIsfahan\\b|\\bIsesaki\\b|\\bIsernia\\b|\\bIsernhagen Farster Bauerschaft\\b|\\bIserlohn\\b|\\bIselin\\b|\\bIsehara\\b|\\bIse\\-Ekiti\\b|\\bIse\\b|\\bIschia Porto\\b|\\bIschia\\b|\\bIsawa\\b|\\bIsanlu\\-Itedoijowa\\b|\\bIsakogorka\\b|\\bIsaka\\b|\\bIsahaya\\b|\\bIsabela\\b|\\bIrakleion\\b|\\bIrakleio\\b|\\bIrvington\\b|\\bIrving Park\\b|\\bIrving\\b|\\bIrvine\\b|\\bIrvine\\b|\\bIrun\\b|\\bIrugur\\b|\\bIrpin\\b|\\bIrosin\\b|\\bIronville\\b|\\bIrondequoit\\b|\\bIron River\\b|\\bIrlam\\b|\\bIrkutsk\\b|\\bIrinjalakuda\\b|\\bIringal\\b|\\bIringa\\b|\\bIriga City\\b|\\bIrece\\b|\\bIrbit\\b|\\bIrbid\\b|\\bIrati\\b|\\bIrapuato\\b|\\bIranshahr\\b|\\bIradan\\b|\\bIracemapolis\\b|\\bIquitos\\b|\\bIquique\\b|\\bIpis\\b|\\bIpueiras\\b|\\bIpubi\\b|\\bIpu\\b|\\bIpswich\\b|\\bIppy\\b|\\bIpoti\\b|\\bIpora\\b|\\bIpojuca\\b|\\bIpoh\\b|\\bIpira\\b|\\bIpinda\\b|\\bIpil\\b|\\bIpiau\\b|\\bIpiales\\b|\\bIpero\\b|\\bIperu\\b|\\bIpatovo\\b|\\bIpatinga\\b|\\bIpameri\\b|\\bIpaba\\b|\\bIoannina\\b|\\bIowa City\\b|\\bIona\\b|\\bIndija\\b|\\bInza\\b|\\bInverness\\b|\\bInvercargill\\b|\\bInver Grove Heights\\b|\\bInuyama\\b|\\bInozemtsevo\\b|\\bInowroclaw\\b|\\bInongo\\b|\\bIno\\b|\\bInnsbruck\\b|\\bInnoshima\\b|\\bInnere Stadt\\b|\\bInkster\\b|\\bInkhil\\b|\\bInjambakkam\\b|\\bInisa\\b|\\bInhumas\\b|\\bInhambane\\b|\\bIngraj Bazar\\b|\\bIngolstadt\\b|\\bInglewood\\-Finn Hill\\b|\\bInglewood\\b|\\bIngenio\\b|\\bIngeniero Pablo Nogues\\b|\\bIngelheim am Rhein\\b|\\bIndapur\\b|\\bIndri\\b|\\bIndramayu\\b|\\bIndore\\b|\\bIndio\\b|\\bIndianola\\b|\\bIndianapolis\\b|\\bIndian Trail\\b|\\bIndi\\b|\\bIndergarh\\b|\\bIndependence\\b|\\bIndependence\\b|\\bIndang\\b|\\bIndaiatuba\\b|\\bIndaial\\b|\\bInda Silase\\b|\\bIncheon\\b|\\bInca\\b|\\bInazawa\\b|\\bInawashiro\\b|\\bInashiki\\b|\\bInaruwa\\b|\\bIna\\b|\\bImzouren\\b|\\bImus\\b|\\bImsil\\b|\\bImphal\\b|\\bImpfondo\\b|\\bImperial Beach\\b|\\bImperial\\b|\\bImperial\\b|\\bImperia\\b|\\bImperatriz\\b|\\bImola\\b|\\bImmokalee\\b|\\bImishli\\b|\\bImbituva\\b|\\bImbituba\\b|\\bImatra\\b|\\bImaricho\\-ko\\b|\\bImam Qasim\\b|\\bImaichi\\b|\\bIl'skiy\\b|\\bIlam\\b|\\bIlula\\b|\\bIlovays'k\\b|\\bIlorin\\b|\\bIlopango\\b|\\bIlongero\\b|\\bIloilo\\b|\\bIlobu\\b|\\bIlo\\b|\\bIlmenau\\b|\\bIllela\\b|\\bIllzach\\b|\\bIllkirch\\-Graffenstaden\\b|\\bIllingen\\b|\\bIllescas\\b|\\bIllertissen\\b|\\bIllela\\b|\\bIllapel\\b|\\bIlkeston\\b|\\bIlkal\\b|\\bIlioupoli\\b|\\bIlinden\\b|\\bIligan City\\b|\\bIligan\\b|\\bIlheus\\b|\\bIlhabela\\b|\\bIlha de Mocambique\\b|\\bIlha Solteira\\b|\\bIlgin\\b|\\bIlesa\\b|\\bIlembula\\b|\\bIlebo\\b|\\bIlchester\\b|\\bIlave\\b|\\bIlaro\\b|\\bIlanskiy\\b|\\bIlagan\\b|\\bIla Orangun\\b|\\bIkungi\\b|\\bIksan\\b|\\bIkot Ekpene\\b|\\bIkongo\\b|\\bIkoma\\b|\\bIkom\\b|\\bIkirun\\b|\\bIkire\\b|\\bIkere\\-Ekiti\\b|\\bIkeja\\b|\\bIkedacho\\b|\\bIkeda\\b|\\bIkalamavony\\b|\\bIjuin\\b|\\bIjui\\b|\\bIjero\\-Ekiti\\b|\\bIjebu\\-Ode\\b|\\bIjebu\\-Jesa\\b|\\bIjebu\\-Igbo\\b|\\bIizuka\\b|\\bIiyama\\b|\\bIisalmi\\b|\\bIida\\b|\\bIhosy\\b|\\bIhiala\\b|\\bIgurusi\\b|\\bIgunga\\b|\\bIgugunu\\b|\\bIguatu\\b|\\bIguape\\b|\\bIgualada\\b|\\bIguala de la Independencia\\b|\\bIgrejinha\\b|\\bIgra\\b|\\bIglesias\\b|\\bIghram\\b|\\bIgede\\-Ekiti\\b|\\bIgbor\\b|\\bIgboho\\b|\\bIgbo\\-Ukwu\\b|\\bIgbo\\-Ora\\b|\\bIgbeti\\b|\\bIgbara\\-Odo\\b|\\bIgatpuri\\b|\\bIgaracu do Tiete\\b|\\bIgarassu\\b|\\bIgarape Miri\\b|\\bIgarape Acu\\b|\\bIgarape\\b|\\bIgarapava\\b|\\bIganga\\b|\\bIfrane\\b|\\bIfo\\b|\\bIfanadiana\\b|\\bIfakara\\b|\\bIeper\\b|\\bIdylwood\\b|\\bIdstein\\b|\\bIdlib\\b|\\bIdku\\b|\\bIdhna\\b|\\bIdfu\\b|\\bIdar\\-Oberstein\\b|\\bIdappadi\\b|\\bIdanre\\b|\\bIdaho Falls\\b|\\bIdah\\b|\\bIco\\b|\\bIcod de los Vinos\\b|\\bIchinoseki\\b|\\bIchinomiya\\b|\\bIchinohe\\b|\\bIchihara\\b|\\bIcheon\\-si\\b|\\bIchchapuram\\b|\\bIchalkaranji\\b|\\bIca\\b|\\bIbusuki\\b|\\bIbshaway\\b|\\bIbra'\\b|\\bIbotirama\\b|\\bIbiuna\\b|\\bIbia\\b|\\bIbiza\\b|\\bIbitinga\\b|\\bIbirite\\b|\\bIbirataia\\b|\\bIbirama\\b|\\bIbipora\\b|\\bIbicarai\\b|\\bIbi\\b|\\bIbi\\b|\\bIbeto\\b|\\bIbbenburen\\b|\\bIbb\\b|\\bIbate\\b|\\bIbarra\\b|\\bIbaraki\\b|\\bIbara\\b|\\bIbanda\\b|\\bIbaiti\\b|\\bIbague\\b|\\bIbadan\\b|\\bIba\\b|\\bIasi\\b|\\bIacu\\b|\\bIJsselstein\\b|\\bI\\-n\\-Salah\\b|\\bHoi An\\b|\\bHai Duong\\b|\\bHa Long\\b|\\bHolon\\b|\\bHung Yen\\b|\\bHungnam\\b|\\bHukkyo\\-ri\\b|\\bHun\\b|\\bHoryuji\\b|\\bHojo\\b|\\bHofu\\b|\\bHinis\\b|\\bHit\\b|\\bHirakud\\b|\\bHaveri\\b|\\bHathras\\b|\\bHasimara\\b|\\bHarij\\b|\\bHapur\\b|\\bHaora\\b|\\bHansi\\b|\\bHangal\\b|\\bHalisahar\\b|\\bHalol\\b|\\bHajipur\\b|\\bHajiganj\\b|\\bHajo\\b|\\bHagere Hiywet\\b|\\bHaflong\\b|\\bHabra\\b|\\bHurth\\b|\\bHunfeld\\b|\\bHuckeswagen\\b|\\bHuckelhoven\\b|\\bHorsholm\\b|\\bHoxter\\b|\\bHovsan\\b|\\bHovelhof\\b|\\bHotting\\b|\\bHorstel\\b|\\bHodmezovasarhely\\b|\\bHoa Binh\\b|\\bHincesti\\b|\\bHerouville\\-Saint\\-Clair\\b|\\bHenin\\-Beaumont\\b|\\bHeliopolis\\b|\\bHassleholm\\b|\\bHarnosand\\b|\\bHameenlinna\\b|\\bHa Dong\\b|\\bHa Tinh\\b|\\bHa Tien\\b|\\bHa Giang\\b|\\bHyeres\\b|\\bHyvinge\\b|\\bHythe\\b|\\bHyesan\\-dong\\b|\\bHyesan\\b|\\bHyderabad\\b|\\bHyderabad\\b|\\bHyde Park\\b|\\bHyde\\b|\\bHybla Valley\\b|\\bHyattsville\\b|\\bHwawon\\b|\\bHwasun\\b|\\bHwaseong\\-si\\b|\\bHwangju\\-up\\b|\\bHwange\\b|\\bHwado\\b|\\bHwacheon\\b|\\bHvidovre\\b|\\bHue\\b|\\bHusi\\b|\\bHuercal\\-Overa\\b|\\bHuanuco\\b|\\bHuzhou\\b|\\bHuyton\\b|\\bHuy\\b|\\bHutto\\b|\\bHutchinson\\b|\\bHutang\\b|\\bHusum\\b|\\bHuskvarna\\b|\\bHushitai\\b|\\bHusainabad\\b|\\bHurstville\\b|\\bHurst\\b|\\bHurricane\\b|\\bHurlingham\\b|\\bHurghada\\b|\\bHuoqiu Chengguanzhen\\b|\\bHuocheng\\b|\\bHunucma\\b|\\bHuntsville\\b|\\bHuntsville\\b|\\bHuntsville\\b|\\bHunts Point\\b|\\bHuntley\\b|\\bHuntington Station\\b|\\bHuntington Park\\b|\\bHuntington Beach\\b|\\bHuntington\\b|\\bHuntington\\b|\\bHuntington\\b|\\bHuntingdon\\b|\\bHuntersville\\b|\\bHunt Valley\\b|\\bHunsur\\b|\\bHungund\\b|\\bHunedoara\\b|\\bHunchun\\b|\\bHummelsbuttel\\b|\\bHumenne\\b|\\bHumen\\b|\\bHumboldtkolonie\\b|\\bHumble\\b|\\bHumanes de Madrid\\b|\\bHumaita\\b|\\bHumacao\\b|\\bHulyaypole\\b|\\bHulan Ergi\\b|\\bHulan\\b|\\bHukeri\\b|\\bHujra Shah Muqim\\b|\\bHuizhou\\b|\\bHuizen\\b|\\bHuixtla\\b|\\bHuixquilucan\\b|\\bHuinan\\b|\\bHuimanguillo\\b|\\bHuilong\\b|\\bHuilango\\b|\\bHuicheng\\b|\\bHugli\\b|\\bHueytown\\b|\\bHuetamo de Nunez\\b|\\bHuesca\\b|\\bHuelva\\b|\\bHuejutla de Reyes\\b|\\bHuejotzingo\\b|\\bHuehuetenango\\b|\\bHudson\\b|\\bHudiksvall\\b|\\bHude\\b|\\bHuddinge\\b|\\bHuddersfield\\b|\\bHucknall\\b|\\bHubli\\b|\\bHuber Heights\\b|\\bHuazhou\\b|\\bHuazhou\\b|\\bHuayin\\b|\\bHuaura\\b|\\bHuauchinango\\b|\\bHuatusco\\b|\\bHuatabampo\\b|\\bHuarmey\\b|\\bHuaraz\\b|\\bHuaral\\b|\\bHuaquillas\\b|\\bHuanuni\\b|\\bHuanta\\b|\\bHuanren\\b|\\bHuangzhou\\b|\\bHuangyan\\b|\\bHuangshi\\b|\\bHuangshan\\b|\\bHuangpi\\b|\\bHuangnihe\\b|\\bHuangmei\\b|\\bHuanggang\\b|\\bHuancayo\\b|\\bHuancavelica\\b|\\bHuanan\\b|\\bHuambo\\b|\\bHuamantla\\b|\\bHuamachuco\\b|\\bHualmay\\b|\\bHualien City\\b|\\bHuaiyuan Chengguanzhen\\b|\\bHuainan\\b|\\bHuaihua\\b|\\bHuaidian\\b|\\bHuaicheng\\b|\\bHuaibei\\b|\\bHuai'an\\b|\\bHuai Yot\\b|\\bHuadian\\b|\\bHuacho\\b|\\bHua Hin\\b|\\bHsinchu\\b|\\bHrubieszow\\b|\\bHrodna\\b|\\bHrazdan\\b|\\bHranice\\b|\\bHradec Kralove\\b|\\bHpa\\-An\\b|\\bHoyland Nether\\b|\\bHoyerswerda\\b|\\bHoxtolgay\\b|\\bHowli\\b|\\bHowick\\b|\\bHoward Beach\\b|\\bHoward\\b|\\bHove\\b|\\bHovd\\b|\\bHouthalen\\b|\\bHouston\\b|\\bHounslow\\b|\\bHounde\\b|\\bHoumt El Souk\\b|\\bHouma\\b|\\bHouilles\\b|\\bHoughton\\-Le\\-Spring\\b|\\bHough\\b|\\bHotan\\b|\\bHotaka\\b|\\bHot Springs National Park\\b|\\bHot Springs\\b|\\bHosur\\b|\\bHostafrancs\\b|\\bHospet\\b|\\bHoskote\\b|\\bHoshiarpur\\b|\\bHoshangabad\\b|\\bHosdurga\\b|\\bHosa'ina\\b|\\bHorwich\\b|\\bHortolandia\\b|\\bHorten\\b|\\bHortaleza\\b|\\bHorta\\-Guinardo\\b|\\bHorta\\b|\\bHorsham\\b|\\bHorsforth\\b|\\bHorsens\\b|\\bHorodyshche\\b|\\bHorodok\\b|\\bHorodok\\b|\\bHornsby\\b|\\bHornchurch\\b|\\bHorn Lake\\b|\\bHorlivka\\b|\\bHorley\\b|\\bHorki\\b|\\bHorizonte\\b|\\bHorizon City\\b|\\bHorishni Plavni\\b|\\bHorgen\\b|\\bHorb am Neckar\\b|\\bHorasan\\b|\\bHorad Zhodzina\\b|\\bHoppers Crossing\\b|\\bHopkinsville\\b|\\bHopkins\\b|\\bHopewell\\b|\\bHope Mills\\b|\\bHopatcong Hills\\b|\\bHopa\\b|\\bHoover\\b|\\bHoorn\\b|\\bHook\\b|\\bHoogstraten\\b|\\bHoogezand\\b|\\bHoogeveen\\b|\\bHoofddorp\\b|\\bHonavar\\b|\\bHonolulu\\b|\\bHonnali\\b|\\bHonmachi\\b|\\bHonjo\\b|\\bHoniara\\b|\\bHongwon\\b|\\bHongseong\\b|\\bHongqiao\\b|\\bHongjiang\\b|\\bHonggang\\b|\\bHongch'on\\b|\\bHong Kong\\b|\\bHondomachi\\-hondo\\b|\\bHondarribia\\b|\\bHonda\\b|\\bHoncho\\b|\\bHoncho\\b|\\bHomyel'\\b|\\bHoms\\b|\\bHomnabad\\b|\\bHomewood\\b|\\bHomewood\\b|\\bHomestead\\b|\\bHomer Glen\\b|\\bHomburg\\b|\\bHomagama\\b|\\bHoma Bay\\b|\\bHolzwickede\\b|\\bHolzminden\\b|\\bHolzkirchen\\b|\\bHolyoke\\b|\\bHoltsville\\b|\\bHolt\\b|\\bHolstebro\\b|\\bHollywood\\b|\\bHollywood\\b|\\bHolly Springs\\b|\\bHolloway\\b|\\bHollola\\b|\\bHollister\\b|\\bHollis\\b|\\bHolland\\b|\\bHolladay\\b|\\bHoliday\\b|\\bHolguin\\b|\\bHole Narsipur\\b|\\bHolden\\b|\\bHolbaek\\b|\\bHolbrook\\b|\\bHolalkere\\b|\\bHola Prystan'\\b|\\bHokuto\\b|\\bHojai\\b|\\bHoima\\b|\\bHohoe\\b|\\bHohhot\\b|\\bHohenstein\\-Ernstthal\\b|\\bHohenems\\b|\\bHohen Neuendorf\\b|\\bHoge Vucht\\b|\\bHofheim am Taunus\\b|\\bHofgeismar\\b|\\bHoffman Estates\\b|\\bHof\\b|\\bHoeyang\\b|\\bHoeryong\\b|\\bHoensbroek\\b|\\bHodonin\\b|\\bHoddesdon\\b|\\bHodal\\b|\\bHod HaSharon\\b|\\bHockenheim\\b|\\bHochheim am Main\\b|\\bHochfeld\\b|\\bHoboken\\b|\\bHoboken\\b|\\bHobbs\\b|\\bHobart\\b|\\bHobart\\b|\\bHobaramachi\\b|\\bHo Chi Minh City\\b|\\bHo\\b|\\bHlybokaye\\b|\\bHlukhiv\\b|\\bHlohovec\\b|\\bHjorring\\b|\\bHizan\\b|\\bHitoyoshi\\b|\\bHitchin\\b|\\bHitachi\\-Naka\\b|\\bHitachi\\b|\\bHita\\b|\\bHisua\\b|\\bHisor\\b|\\bHisar\\b|\\bHisai\\-motomachi\\b|\\bHiroshima\\b|\\bHirosaki\\b|\\bHiriyur\\b|\\bHirekerur\\b|\\bHiratsuka\\b|\\bHiratacho\\b|\\bHirara\\b|\\bHirakata\\b|\\bHirado\\b|\\bHinthada\\b|\\bHinsdale\\b|\\bHino\\b|\\bHino\\b|\\bHinjilikatu\\b|\\bHinigaran\\b|\\bHingorja\\b|\\bHingoli\\b|\\bHinganghat\\b|\\bHinesville\\b|\\bHindupur\\b|\\bHindoria\\b|\\bHindley\\b|\\bHindaun\\b|\\bHinckley\\b|\\bHinche\\b|\\bHimimachi\\b|\\bHimeji\\b|\\bHimatnagar\\b|\\bHimamaylan\\b|\\bHilversum\\b|\\bHilvan\\b|\\bHilton Head Island\\b|\\bHilton Head\\b|\\bHilsa\\b|\\bHilo\\b|\\bHillside\\b|\\bHillside\\b|\\bHillside\\b|\\bHillsboro\\b|\\bHilliard\\b|\\bHillerod\\b|\\bHillegom\\b|\\bHille\\b|\\bHillcrest Heights\\b|\\bHildesheim\\b|\\bHilden\\b|\\bHilchenbach\\b|\\bHikone\\b|\\bHikari\\b|\\bHiji\\b|\\bHihya\\b|\\bHighview\\b|\\bHighton\\b|\\bHighlands Ranch\\b|\\bHighland Village\\b|\\bHighland Springs\\b|\\bHighland Park\\b|\\bHighland\\b|\\bHighland\\b|\\bHighland\\b|\\bHigh Wycombe\\b|\\bHigh Point\\b|\\bHigh Peak\\b|\\bHigh Blantyre\\b|\\bHigashine\\b|\\bHigashimurayama\\b|\\bHietzing\\b|\\bHiddenhausen\\b|\\bHidalgo\\b|\\bHicksville\\b|\\bHickory\\b|\\bHibbing\\b|\\bHialeah Gardens\\b|\\bHialeah\\b|\\bHeze\\b|\\bHeywood\\b|\\bHeyuan\\b|\\bHeysham\\b|\\bHeusweiler\\b|\\bHeusenstamm\\b|\\bHeusden\\b|\\bHeunghae\\b|\\bHettstedt\\b|\\bHetauda\\b|\\bHeswall\\b|\\bHessisch Oldendorf\\b|\\bHesperia\\b|\\bHerat\\b|\\bHeroica Zitacuaro\\b|\\bHerzogenrath\\b|\\bHerzogenaurach\\b|\\bHerzliya\\b|\\bHerzele\\b|\\bHervey Bay\\b|\\bHerve\\b|\\bHerval\\b|\\bHertford\\b|\\bHerten\\b|\\bHerstal\\b|\\bHerriman\\b|\\bHerrenberg\\b|\\bHeroica Matamoros\\b|\\bHeroica Guaymas\\b|\\bHeroica Ciudad de Tlaxiaco\\b|\\bHeroica Caborca\\b|\\bHerning\\b|\\bHerne Bay\\b|\\bHerne\\b|\\bHerndon\\b|\\bHernani\\b|\\bHernando\\b|\\bHernals\\b|\\bHermsdorf\\b|\\bHermosillo\\b|\\bHermosa Beach\\b|\\bHermosa\\b|\\bHermitage\\b|\\bHermiston\\b|\\bHermanus\\b|\\bHerisau\\b|\\bHerford\\b|\\bHerentals\\b|\\bHerent\\b|\\bHereford\\b|\\bHereford\\b|\\bHeredia\\b|\\bHerdecke\\b|\\bHercules\\b|\\bHerceg\\-Novi\\b|\\bHerborn\\b|\\bHerblay\\b|\\bHeppenheim an der Bergstrasse\\b|\\bHepo\\b|\\bHepingjie\\b|\\bHenstedt\\-Ulzburg\\b|\\bHennigsdorf\\b|\\bHennenman\\b|\\bHennef\\b|\\bHennaya\\b|\\bHeniches'k\\b|\\bHengyang\\b|\\bHengshui\\b|\\bHengelo\\b|\\bHengchun\\b|\\bHendrina\\b|\\bHendrik\\-Ido\\-Ambacht\\b|\\bHendersonville\\b|\\bHenderson\\b|\\bHenderson\\b|\\bHenderson\\b|\\bHendek\\b|\\bHendala\\b|\\bHempstead\\b|\\bHemmingen\\b|\\bHemet\\b|\\bHemer\\b|\\bHemel Hempstead\\b|\\bHem\\b|\\bHelsinki\\b|\\bHelsingor\\b|\\bHelsingborg\\b|\\bHelong\\b|\\bHelmstedt\\b|\\bHelmond\\b|\\bHellin\\b|\\bHellevoetsluis\\b|\\bHellersdorf\\b|\\bHell\\-Ville\\b|\\bHell's Kitchen\\b|\\bHelensvale\\b|\\bHelena\\b|\\bHelena\\b|\\bHelchteren\\b|\\bHekinan\\b|\\bHeist\\-op\\-den\\-Berg\\b|\\bHeishan\\b|\\bHeinsberg\\b|\\bHeinola\\b|\\bHeiloo\\b|\\bHeiligensee\\b|\\bHeiligenhaus\\b|\\bHeilbronn\\b|\\bHeilbron\\b|\\bHeilbad Heiligenstadt\\b|\\bHeihe\\b|\\bHeidenheim an der Brenz\\b|\\bHeidenau\\b|\\bHeidelberg\\b|\\bHeidelberg\\b|\\bHeide\\b|\\bHegang\\b|\\bHefei\\b|\\bHeerlen\\b|\\bHeerhugowaard\\b|\\bHeerenveen\\b|\\bHeemstede\\b|\\bHeemskerk\\b|\\bHedge End\\b|\\bHede\\b|\\bHedaru\\b|\\bHecun\\b|\\bHechuan\\b|\\bHechingen\\b|\\bHebron\\b|\\bHebi\\b|\\bHebburn\\b|\\bHeavitree\\b|\\bHeanor\\b|\\bHassloch\\b|\\bHazaribagh\\b|\\bHazro City\\b|\\bHazorasp\\b|\\bHazleton\\b|\\bHazelwood\\b|\\bHazel Park\\b|\\bHazel Grove\\b|\\bHazel Dell\\b|\\bHazebrouck\\b|\\bHaywards Heath\\b|\\bHayward\\b|\\bHayvoron\\b|\\bHays\\b|\\bHayrabolu\\b|\\bHayling Island\\b|\\bHayesville\\b|\\bHayes\\b|\\bHaydock\\b|\\bHayange\\b|\\bHayang\\b|\\bHayama\\b|\\bHawthorne\\b|\\bHawthorne\\b|\\bHawthorn South\\b|\\bHawthorn\\b|\\bHawassa\\b|\\bHawarden\\b|\\bHavirov\\b|\\bHavza\\b|\\bHavlickuv Brod\\b|\\bHaverhill\\b|\\bHaverhill\\b|\\bHavelock\\b|\\bHavelian\\b|\\bHaveli Lakha\\b|\\bHavant\\b|\\bHavana\\b|\\bHautmont\\b|\\bHauppauge\\b|\\bHaukipudas\\b|\\bHaugesund\\b|\\bHaubourdin\\b|\\bHatvan\\b|\\bHatton\\b|\\bHattingen\\b|\\bHattiesburg\\b|\\bHattersheim\\b|\\bHatta\\b|\\bHats'avan\\b|\\bHatsukaichi\\b|\\bHatogaya\\-honcho\\b|\\bHato Mayor del Rey\\b|\\bHatfield\\b|\\bHat Yai\\b|\\bHasuda\\b|\\bHastinapur\\b|\\bHastings\\b|\\bHastings\\b|\\bHastings\\b|\\bHastings\\b|\\bHassi Messaoud\\b|\\bHasselt\\b|\\bHassan\\b|\\bHaslingden\\b|\\bHaslett\\b|\\bHaskovo\\b|\\bHasilpur\\b|\\bHashtrud\\b|\\bHashtpar\\b|\\bHashimoto\\b|\\bHaselbachtal\\b|\\bHasanpur\\b|\\bHasaki\\b|\\bHarur\\b|\\bHarwich\\b|\\bHarvey\\b|\\bHarvey\\b|\\bHarunabad\\b|\\bHartley\\b|\\bHartlepool\\b|\\bHartford\\b|\\bHarsud\\b|\\bHarsin\\b|\\bHarstad\\b|\\bHarsewinkel\\b|\\bHarrogate\\b|\\bHarrisonburg\\b|\\bHarrison\\b|\\bHarrison\\b|\\bHarrismith\\b|\\bHarrisburg\\b|\\bHarringay\\b|\\bHarpalpur\\b|\\bHarper\\b|\\bHarpenden\\b|\\bHarpanahalli\\b|\\bHarnoli\\b|\\bHarmanli\\b|\\bHarlow\\b|\\bHarlingen\\b|\\bHarlingen\\b|\\bHarlem\\b|\\bHarker Heights\\b|\\bHaripur\\b|\\bHarihar\\b|\\bHaridwar\\b|\\bHargeysa\\b|\\bHarenkarspel\\b|\\bHaren\\b|\\bHarelbeke\\b|\\bHardoi\\b|\\bHarderwijk\\b|\\bHardenberg\\b|\\bHarda Khas\\b|\\bHarburg\\b|\\bHarbin\\b|\\bHarare\\b|\\bHarar\\b|\\bHaqqulobod\\b|\\bHappy Valley\\b|\\bHanzhong\\b|\\bHanyu\\b|\\bHanwella Ihala\\b|\\bHanumangarh\\b|\\bHanting\\b|\\bHanover Park\\b|\\bHanover\\b|\\bHanover\\b|\\bHanover\\b|\\bHanoi\\b|\\bHanno\\b|\\bHannoversch Munden\\b|\\bHannover\\b|\\bHannibal\\b|\\bHaninge\\b|\\bHangzhou\\b|\\bHangu\\b|\\bHangu\\b|\\bHang Dong\\b|\\bHanford\\b|\\bHandlova\\b|\\bHandia\\b|\\bHandan\\b|\\bHanda\\b|\\bHanchuan\\b|\\bHancheng\\b|\\bHancheng\\b|\\bHanawa\\b|\\bHanau am Main\\b|\\bHanamaki\\b|\\bHanam\\b|\\bHanahan\\b|\\bHamirpur\\b|\\bHamirpur\\b|\\bHamtramck\\b|\\bHampton Park\\b|\\bHampton\\b|\\bHampton\\b|\\bHammond\\b|\\bHammond\\b|\\bHamminkeln\\b|\\bHamme\\b|\\bHammamet\\b|\\bHammamet\\b|\\bHammam\\-Lif\\b|\\bHammam Sousse\\b|\\bHammam Bou Hadjar\\b|\\bHamma Bouziane\\b|\\bHamm\\b|\\bHamina\\b|\\bHamilton\\b|\\bHamilton\\b|\\bHamilton\\b|\\bHamilton\\b|\\bHamilton\\b|\\bHami\\b|\\bHamhung\\b|\\bHameln\\b|\\bHamden\\b|\\bHamburg\\-Nord\\b|\\bHamburg\\-Mitte\\b|\\bHamburg\\b|\\bHamar\\b|\\bHamanoichi\\b|\\bHamamatsu\\b|\\bHamakita\\b|\\bHamadan\\b|\\bHamada\\b|\\bHam Lake\\b|\\bHalver\\b|\\bHalvad\\b|\\bHaltom City\\b|\\bHaltern am See\\b|\\bHalstenbek\\b|\\bHalmstad\\b|\\bHalluin\\b|\\bHalle Neustadt\\b|\\bHalle \\(Saale\\)\\b|\\bHalle\\b|\\bHalle\\b|\\bHallandale Beach\\b|\\bHaliyal\\b|\\bHalifax\\b|\\bHalifax\\b|\\bHalf Way Tree\\b|\\bHalesowen\\b|\\bHale\\b|\\bHale\\b|\\bHaldwani\\b|\\bHaldia\\b|\\bHaldensleben I\\b|\\bHalden\\b|\\bHaldaur\\b|\\bHalberstadt\\b|\\bHala\\b|\\bHakui\\b|\\bHakodate\\b|\\bHakkari\\b|\\bHakha\\b|\\bHakenfelde\\b|\\bHajin\\b|\\bHajnowka\\b|\\bHajduszoboszlo\\b|\\bHajdunanas\\b|\\bHajduboszormeny\\b|\\bHaizhou\\b|\\bHaisyn\\b|\\bHaiphong\\b|\\bHaining\\b|\\bHaines City\\b|\\bHaimen\\b|\\bHailakandi\\b|\\bHailun\\b|\\bHailsham\\b|\\bHailin\\b|\\bHailar\\b|\\bHaikou\\b|\\bHaikou\\b|\\bHaiger\\b|\\bHaifa\\b|\\bHaicheng\\b|\\bHaibara\\-akanedai\\b|\\bHagatna\\b|\\bHaguenau\\b|\\bHagonoy\\b|\\bHagi\\b|\\bHagerstown\\b|\\bHagere Maryam\\b|\\bHagen\\b|\\bHafnarfjordur\\b|\\bHafizabad\\b|\\bHafar Al\\-Batin\\b|\\bHaenam\\b|\\bHaeju\\b|\\bHadyach\\b|\\bHadley Wood\\b|\\bHadleigh\\b|\\bHadjout\\b|\\bHadim\\b|\\bHadgaon\\b|\\bHaderslev\\b|\\bHadera\\b|\\bHadejia\\b|\\bHadano\\b|\\bHadali\\b|\\bHadagalli\\b|\\bHaciqabul\\b|\\bHacilar\\b|\\bHaci Zeynalabdin\\b|\\bHackensack\\b|\\bHacienda Santa Fe\\b|\\bHacienda La Calera\\b|\\bHacienda Heights\\b|\\bHachioji\\b|\\bHachinohe\\b|\\bHabiganj\\b|\\bHabbouch\\b|\\bHabana del Este\\b|\\bHaarlem\\b|\\bHaar\\b|\\bHaan\\b|\\bHaaltert\\b|\\bHaaksbergen\\b|\\bHa'il\\b|\\bG'uzor\\b|\\bG'azalkent\\b|\\bGudur\\b|\\bGuduvancheri\\b|\\bGotsucho\\b|\\bGodo\\b|\\bGlucholazy\\b|\\bGlowno\\b|\\bGlogow\\b|\\bGiridih\\b|\\bGaesti\\b|\\bGandhidham\\b|\\bGandarbal\\b|\\bGadarwara\\b|\\bGutersloh\\b|\\bGustrow\\b|\\bGursu\\b|\\bGurpinar\\b|\\bGuroymak\\b|\\bGurgentepe\\b|\\bGunzburg\\b|\\bGuiria\\b|\\bGuira de Melena\\b|\\bGuines\\b|\\bGuimar\\b|\\bGuigue\\b|\\bGottingen\\b|\\bGoteborg\\b|\\bGorlitz\\b|\\bGorele\\b|\\bGoppingen\\b|\\bGonen\\b|\\bGolcuk\\b|\\bGolbasi\\b|\\bGoksun\\b|\\bGodollo\\b|\\bGod\\b|\\bGomez Palacio\\b|\\bGerakas\\b|\\bGavle\\b|\\bGalvez\\b|\\bGaldar\\b|\\bGyor\\b|\\bGyoda\\b|\\bGyongyos\\b|\\bGyal\\b|\\bGyumri\\b|\\bGyula\\b|\\bGyomaendrod\\b|\\bGyeongsan\\-si\\b|\\bGyeongju\\b|\\bGwoza\\b|\\bGweru\\b|\\bGwarzo\\b|\\bGwaram\\b|\\bGwangju\\b|\\bGwangju\\b|\\bGwalior\\b|\\bGwadar\\b|\\bGwadabawa\\b|\\bGuia de Isora\\b|\\bGueret\\b|\\bGuerande\\b|\\bGuapiles\\b|\\bGuaimaro\\b|\\bGuyong\\b|\\bGuye\\b|\\bGuyancourt\\b|\\bGuwahati\\b|\\bGutao\\b|\\bGus'\\-Khrustal'nyy\\b|\\bGustavsberg\\b|\\bGustavo Adolfo Madero\\b|\\bGustavia\\b|\\bGuskhara\\b|\\bGusinoozyorsk\\b|\\bGushu\\b|\\bGushikawa\\b|\\bGusev\\b|\\bGusau\\b|\\bGur'yevsk\\b|\\bGuruvayur\\b|\\bGurupi\\b|\\bGurun\\b|\\bGuru Har Sahai\\b|\\bGursarai\\b|\\bGursahaiganj\\b|\\bGurnee\\b|\\bGurmatkal\\b|\\bGurlan\\b|\\bGuri\\-si\\b|\\bGurgaon\\b|\\bGura Humorului\\b|\\bGuozhen\\b|\\bGunzenhausen\\b|\\bGunupur\\b|\\bGuntur\\b|\\bGuntakal Junction\\b|\\bGunsan\\b|\\bGunnaur\\b|\\bGundlupet\\b|\\bGuna\\b|\\bGumushkhane\\b|\\bGummidipundi\\b|\\bGummi\\b|\\bGummersbach\\b|\\bGumla\\b|\\bGumia\\b|\\bGumi\\b|\\bGumel\\b|\\bGumdag\\b|\\bGumaca\\b|\\bGul'kevichi\\b|\\bGulaothi\\b|\\bGulabpura\\b|\\bGulu\\b|\\bGuliston\\b|\\bGuli\\b|\\bGulfport\\b|\\bGuledagudda\\b|\\bGulbarga\\b|\\bGulariya\\b|\\bGukovo\\b|\\bGujo\\b|\\bGujrat\\b|\\bGujranwala\\b|\\bGujar Khan\\b|\\bGujan\\-Mestras\\b|\\bGuiyang\\b|\\bGuixi\\b|\\bGuiset East\\b|\\bGuiseley\\b|\\bGuisborough\\b|\\bGuisa\\b|\\bGuiren\\b|\\bGuiping\\b|\\bGuinguineo\\b|\\bGuimba\\b|\\bGuimaraes\\b|\\bGuilin\\b|\\bGuilford\\b|\\bGuildford\\b|\\bGuihulngan\\b|\\bGuiguinto\\b|\\bGuiglo\\b|\\bGuigang\\b|\\bGuidonia Montecelio\\b|\\bGuidonia\\b|\\bGuider\\b|\\bGuercif\\b|\\bGuelph\\b|\\bGuelmim\\b|\\bGuelma\\b|\\bGueckedou\\b|\\bGudiyatham\\b|\\bGudivada\\b|\\bGudermes\\b|\\bGudalur\\b|\\bGucheng Chengguanzhen\\b|\\bGubkinskiy\\b|\\bGubkin\\b|\\bGubin\\b|\\bGuben\\b|\\bGubbi\\b|\\bGubakha\\b|\\bGuaira\\b|\\bGuaiba\\b|\\bGuacui\\b|\\bGuaynabo\\b|\\bGuayaramerin\\b|\\bGuayaquil\\b|\\bGuayama\\b|\\bGuaxupe\\b|\\bGuatire\\b|\\bGuatemala City\\b|\\bGuasdualito\\b|\\bGuasave\\b|\\bGuara\\b|\\bGuarulhos\\b|\\bGuaruja\\b|\\bGuariba\\b|\\bGuarenas\\b|\\bGuardamar del Segura\\b|\\bGuarda\\b|\\bGuaratuba\\b|\\bGuaratingueta\\b|\\bGuararema\\b|\\bGuararapes\\b|\\bGuarapuava\\b|\\bGuarapari\\b|\\bGuaranesia\\b|\\bGuaranda\\b|\\bGuaramirim\\b|\\bGuaraciaba do Norte\\b|\\bGuarabira\\b|\\bGuapore\\b|\\bGuapimirim\\b|\\bGuantanamo\\b|\\bGuankou\\b|\\bGuanhaes\\b|\\bGuangzhou\\b|\\bGuangyuan\\b|\\bGuangshui\\b|\\bGuangming\\b|\\bGuane\\b|\\bGuanare\\b|\\bGuanambi\\b|\\bGuanajuato\\b|\\bGuanajay\\b|\\bGuanabacoa\\b|\\bGuamuchil\\b|\\bGuam Government House\\b|\\bGualan\\b|\\bGualeguaychu\\b|\\bGualeguay\\b|\\bGualaceo\\b|\\bGuajara Mirim\\b|\\bGuaiuba\\b|\\bGuadix\\b|\\bGuadalupe Victoria\\b|\\bGuadalupe\\b|\\bGuadalupe\\b|\\bGuadalupe\\b|\\bGuadalupe\\b|\\bGuadalajara de Buga\\b|\\bGuadalajara\\b|\\bGuadalajara\\b|\\bGuacari\\b|\\bGuacara\\b|\\bGuacamayas\\b|\\bGua Musang\\b|\\bGrobenzell\\b|\\bGracia\\b|\\bGrytviken\\b|\\bGryfino\\b|\\bGryfice\\b|\\bGryazovets\\b|\\bGryazi\\b|\\bGrumo Nevano\\b|\\bGrugliasco\\b|\\bGrudziadz\\b|\\bGrossostheim\\b|\\bGrossenhain\\b|\\bGross\\-Umstadt\\b|\\bGross\\-Gerau\\b|\\bGroznyy\\b|\\bGroves\\b|\\bGrove City\\b|\\bGrove\\b|\\bGrottaglie\\b|\\bGrottaferrata\\b|\\bGrosseto\\b|\\bGrosse Pointe Woods\\b|\\bGropiusstadt\\b|\\bGrootfontein\\b|\\bGroot IJsselmonde\\b|\\bGroningen\\b|\\bGronau\\b|\\bGrogol\\b|\\bGroesbeek\\b|\\bGrodzisk Mazowiecki\\b|\\bGrimsby\\b|\\bGrimma\\b|\\bGrimbergen\\b|\\bGrigny\\b|\\bGriffith\\b|\\bGriffith\\b|\\bGriffin\\b|\\bGriesheim\\b|\\bGries\\b|\\bGribanovskiy\\b|\\bGreystanes\\b|\\bGrevenbroich\\b|\\bGreven\\b|\\bGreve\\b|\\bGretna\\b|\\bGressier\\b|\\bGresik\\b|\\bGresham\\b|\\bGrenoble\\b|\\bGrenchen\\b|\\bGremda\\b|\\bGreiz\\b|\\bGreifswald\\b|\\bGrefrath\\b|\\bGreer\\b|\\bGreenwood Village\\b|\\bGreenwood\\b|\\bGreenwood\\b|\\bGreenwood\\b|\\bGreenville\\b|\\bGreenville\\b|\\bGreenville\\b|\\bGreenville\\b|\\bGreenville\\b|\\bGreenvale\\b|\\bGreensborough\\b|\\bGreensboro\\b|\\bGreenpoint\\b|\\bGreenock\\b|\\bGreenford\\b|\\bGreenfield\\b|\\bGreenfield\\b|\\bGreenfield\\b|\\bGreenfield\\b|\\bGreeneville\\b|\\bGreenburgh\\b|\\bGreenbelt\\b|\\bGreenacres City\\b|\\bGreenacre\\b|\\bGreen Valley\\b|\\bGreen Haven\\b|\\bGreen Bay\\b|\\bGreen\\b|\\bGreeley\\b|\\bGreater Upper Marlboro\\b|\\bGreater Sudbury\\b|\\bGreater Northdale\\b|\\bGreater Noida\\b|\\bGreater Napanee\\b|\\bGreater Grand Crossing\\b|\\bGreat Yarmouth\\b|\\bGreat Wyrley\\b|\\bGreat Sankey\\b|\\bGreat Malvern\\b|\\bGreat Kills\\b|\\bGreat Falls\\b|\\bGreat Falls\\b|\\bGreat Bend\\b|\\bGracanica\\b|\\bGrazhdanka\\b|\\bGraz\\b|\\bGrayslake\\b|\\bGrays\\b|\\bGravina in Puglia\\b|\\bGravina di Catania\\b|\\bGravesend\\b|\\bGravesend\\b|\\bGravata\\b|\\bGravatai\\b|\\bGrasse\\b|\\bGrapevine\\b|\\bGrao de Murviedro\\b|\\bGranville\\b|\\bGrants Pass\\b|\\bGrantham\\b|\\bGranollers\\b|\\bGranja\\b|\\bGraniteville\\b|\\bGranite City\\b|\\bGranite Bay\\b|\\bGrangwav\\b|\\bGranger\\b|\\bGrangemouth\\b|\\bGraneros\\b|\\bGrandville\\b|\\bGrandview\\b|\\bGrande\\-Synthe\\b|\\bGrande Prairie\\b|\\bGrand\\-Bassam\\b|\\bGrand Rapids\\b|\\bGrand Prairie\\b|\\bGrand Junction\\b|\\bGrand Island\\b|\\bGrand Island\\b|\\bGrand Forks\\b|\\bGrand Boulevard\\b|\\bGranby\\b|\\bGranadilla de Abona\\b|\\bGranadero Baigorria\\b|\\bGranada\\b|\\bGranada\\b|\\bGranada\\b|\\bGramercy Park\\b|\\bGrajewo\\b|\\bGrajau\\b|\\bGrahamstown\\b|\\bGraham\\b|\\bGragnano\\b|\\bGrafton\\b|\\bGradignan\\b|\\bGradacac\\b|\\bGrabouw\\b|\\bGraaff\\-Reinet\\b|\\bGoalpara\\b|\\bGoyerkata\\b|\\bGoyang\\-si\\b|\\bGoya\\b|\\bGowurdak\\b|\\bGovernador Valadares\\b|\\bGovardhan\\b|\\bGoussainville\\b|\\bGourcy\\b|\\bGoulburn\\b|\\bGouda\\b|\\bGotse Delchev\\b|\\bGotha\\b|\\bGoth Radhan\\b|\\bGotenba\\b|\\bGosaba\\b|\\bGostyn\\b|\\bGostynin\\b|\\bGostivar\\b|\\bGossau\\b|\\bGosport\\b|\\bGosnells\\b|\\bGoslar\\b|\\bGoshogawara\\b|\\bGoshen\\b|\\bGosforth\\b|\\bGoseong\\b|\\bGosen\\b|\\bGose\\b|\\bGorzow Wielkopolski\\b|\\bGoryachiy Klyuch\\b|\\bGoryachevodskiy\\b|\\bGorseinon\\b|\\bGorontalo\\b|\\bGoroka\\b|\\bGorodishche\\b|\\bGorodets\\b|\\bGornyak\\b|\\bGorno\\-Altaysk\\b|\\bGornji Milanovac\\b|\\bGorna Oryahovitsa\\b|\\bGorlice\\b|\\bGorizia\\b|\\bGoris\\b|\\bGorinchem\\b|\\bGoribidnur\\b|\\bGori\\b|\\bGorgan\\b|\\bGorgonzola\\b|\\bGorelovo\\b|\\bGorazde\\b|\\bGorantla\\b|\\bGorakhpur\\b|\\bGorakhpur\\b|\\bGopalganj\\b|\\bGoose Creek\\b|\\bGoole\\b|\\bGoodyear\\b|\\bGoodlettsville\\b|\\bGoodlands\\b|\\bGoodings Grove\\b|\\bGonabad\\b|\\bGongzhuling\\b|\\bGongju\\b|\\bGongdanglegi Kulon\\b|\\bGongchangling\\b|\\bGonesse\\b|\\bGonda City\\b|\\bGondomar\\b|\\bGondia\\b|\\bGondar\\b|\\bGondal\\b|\\bGonbad\\-e Kavus\\b|\\bGonaives\\b|\\bGomoh\\b|\\bGombong\\b|\\bGombi\\b|\\bGombe\\b|\\bGoma\\b|\\bGol'yanovo\\b|\\bGolaghat\\b|\\bGolpayegan\\b|\\bGolitsyno\\b|\\bGoleta\\b|\\bGoleniow\\b|\\bGoldsboro\\b|\\bGolden Valley\\b|\\bGolden Glades\\b|\\bGolden Gate\\b|\\bGolden\\b|\\bGold Coast\\b|\\bGolborne\\b|\\bGola Gokarannath\\b|\\bGokwe\\b|\\bGokavaram\\b|\\bGokarna\\b|\\bGokak\\b|\\bGojo\\b|\\bGojra\\b|\\bGoiania\\b|\\bGoias\\b|\\bGoirle\\b|\\bGoiatuba\\b|\\bGoianesia\\b|\\bGoianira\\b|\\bGoiana\\b|\\bGohana\\b|\\bGohadi\\b|\\bGogrial\\b|\\bGoes\\b|\\bGodhra\\b|\\bGodfrey\\b|\\bGodean\\b|\\bGodda\\b|\\bGodalming\\b|\\bGoch\\b|\\bGobo\\b|\\bGobardanga\\b|\\bGobindpur\\b|\\bGobichettipalayam\\b|\\bGobernador Virasora\\b|\\bGobernador Galvez\\b|\\bGobabis\\b|\\bGoba\\b|\\bGoa\\b|\\bGniezno\\b|\\bGloria do Goita\\b|\\bGlyfada\\b|\\bGloversville\\b|\\bGloucester\\b|\\bGloucester\\b|\\bGlostrup\\b|\\bGlossop\\b|\\bGlogovac\\b|\\bGliwice\\b|\\bGlinde\\b|\\bGlenwood\\b|\\bGlenville\\b|\\bGlenview\\b|\\bGlenvar Heights\\b|\\bGlenroy\\b|\\bGlenrothes\\b|\\bGlenmore Park\\b|\\bGlenferrie\\b|\\bGlendora\\b|\\bGlendale Heights\\b|\\bGlendale\\b|\\bGlendale\\b|\\bGlendale\\b|\\bGlen Waverley\\b|\\bGlen Iris\\b|\\bGlen Ellyn\\b|\\bGlen Cove\\b|\\bGlen Burnie\\b|\\bGlen Avon\\b|\\bGlazov\\b|\\bGlauchau\\b|\\bGlastonbury\\b|\\bGlassmanor\\b|\\bGlassboro\\b|\\bGlasgow\\b|\\bGlan\\b|\\bGladstone\\b|\\bGladstone\\b|\\bGladbeck\\b|\\bGlace Bay\\b|\\bGjovik\\b|\\bGjorce Petro\\b|\\bGjirokaster\\b|\\bGjilan\\b|\\bGjakove\\b|\\bGizycko\\b|\\bGiza\\b|\\bGiyani\\b|\\bGivors\\b|\\bGivatayim\\b|\\bGiv'at Shmuel\\b|\\bGiussano\\b|\\bGiurgiu\\b|\\bGiulianova\\b|\\bGiugliano in Campania\\b|\\bGitega\\b|\\bGitarama\\b|\\bGisenyi\\b|\\bGisborne\\b|\\bGiron\\b|\\bGirona\\b|\\bGiresun\\b|\\bGirardot City\\b|\\bGiovinazzo\\b|\\bGioia del Colle\\b|\\bGioia Tauro\\b|\\bGinsheim\\-Gustavsburg\\b|\\bGinowan\\b|\\bGinosa\\b|\\bGinir\\b|\\bGingee\\b|\\bGimcheon\\b|\\bGimbi\\b|\\bGilroy\\b|\\bGillingham\\b|\\bGillette\\b|\\bGilching\\b|\\bGilbert\\b|\\bGijon\\b|\\bGijang\\b|\\bGifu\\-shi\\b|\\bGifhorn\\b|\\bGif\\-sur\\-Yvette\\b|\\bGiessen\\b|\\bGierloz\\b|\\bGiengen an der Brenz\\b|\\bGien\\b|\\bGiddarbaha\\b|\\bGiddalur\\b|\\bGibraltar\\b|\\bGibara\\b|\\bGiarre\\b|\\bGiannitsa\\b|\\bGiaginskaya\\b|\\bGhaziabad\\b|\\bGhatal\\b|\\bGhatsila\\b|\\bGhatanji\\b|\\bGhatampur\\b|\\bGhugus\\b|\\bGhotki\\b|\\bGhoti Budrukh\\b|\\bGhosi\\b|\\bGhormach\\b|\\bGhijduwon\\b|\\bGherla\\b|\\bGheorgheni\\b|\\bGhedi\\b|\\bGhazipur\\b|\\bGhazni\\b|\\bGhauspur\\b|\\bGhatkesar\\b|\\bGhat\\b|\\bGharyan\\b|\\bGharo\\b|\\bGhardaia\\b|\\bGharaunda\\b|\\bGeyve\\b|\\bGevrai\\b|\\bGevgelija\\b|\\bGevelsberg\\b|\\bGetxo\\b|\\bGetafe\\b|\\bGesundbrunnen\\b|\\bGeseke\\b|\\bGescher\\b|\\bGerash\\b|\\bGersthofen\\b|\\bGerrards Cross\\b|\\bGerona\\b|\\bGero\\b|\\bGernika\\-Lumo\\b|\\bGermersheim\\b|\\bGermering\\b|\\bGermantown\\b|\\bGermantown\\b|\\bGermantown\\b|\\bGerlingen\\b|\\bGeretsried\\b|\\bGereshk\\b|\\bGereida\\b|\\bGerede\\b|\\bGeraldton\\b|\\bGeraardsbergen\\b|\\bGera\\b|\\bGeorgievka\\b|\\bGeorgsmarienhutte\\b|\\bGeorgiyevsk\\b|\\bGeorgetown\\b|\\bGeorgetown\\b|\\bGeorgetown\\b|\\bGeorge Town\\b|\\bGeorge Town\\b|\\bGeoktschai\\b|\\bGeneve\\b|\\bGenc\\b|\\bGenzano di Roma\\b|\\bGentilly\\b|\\bGenteng\\b|\\bGent\\b|\\bGenoa\\b|\\bGennevilliers\\b|\\bGennep\\b|\\bGenk\\b|\\bGenhe\\b|\\bGeneva\\b|\\bGenet\\b|\\bGeneral Villegas\\b|\\bGeneral Trias\\b|\\bGeneral Tinio\\b|\\bGeneral Santos\\b|\\bGeneral Roca\\b|\\bGeneral Pinedo\\b|\\bGeneral Pico\\b|\\bGeneral Pacheco\\b|\\bGeneral Mamerto Natividad\\b|\\bGeneral Jose de San Martin\\b|\\bGeneral Enrique Mosconi\\b|\\bGeneina\\b|\\bGemlik\\b|\\bGemert\\b|\\bGemerek\\b|\\bGemena\\b|\\bGembu\\b|\\bGembloux\\b|\\bGelsenkirchen\\b|\\bGelnhausen\\b|\\bGelligaer\\b|\\bGelibolu\\b|\\bGelendzhik\\b|\\bGelemso\\b|\\bGeleen\\b|\\bGeldrop\\b|\\bGeldern\\b|\\bGeldermalsen\\b|\\bGela\\b|\\bGejiu\\b|\\bGeita\\b|\\bGeislingen an der Steige\\b|\\bGeiro\\b|\\bGeilenkirchen\\b|\\bGeidorf\\b|\\bGeidam\\b|\\bGeesthacht\\b|\\bGeertruidenberg\\b|\\bGeelong\\b|\\bGeel\\b|\\bGediz\\b|\\bGedera\\b|\\bGedangan\\b|\\bGebze\\b|\\bGebre Guracha\\b|\\bGebog\\b|\\bGdynia\\b|\\bGdansk\\b|\\bGbongan\\b|\\bGbawe\\b|\\bGbarnga\\b|\\bGbadolite\\b|\\bGazojak\\b|\\bGazipasa\\b|\\bGaziantep\\b|\\bGaza\\b|\\bGaya\\b|\\bGaya\\b|\\bGaya\\b|\\bGay\\b|\\bGawler\\b|\\bGava\\b|\\bGavrilov\\-Yam\\b|\\bGavarr\\b|\\bGauting\\b|\\bGautier\\b|\\bGaurnadi\\b|\\bGauripur\\b|\\bGaur\\b|\\bGatineau\\b|\\bGatesville\\b|\\bGateshead\\b|\\bGates\\-North Gates\\b|\\bGatchina\\b|\\bGatak\\b|\\bGastonia\\b|\\bGasteiz / Vitoria\\b|\\bGaspar\\b|\\bGashua\\b|\\bGarca\\b|\\bGarzon\\b|\\bGary\\b|\\bGarwolin\\b|\\bGarupa\\b|\\bGarui\\b|\\bGartenstadt\\b|\\bGaroua Boulai\\b|\\bGaroua\\b|\\bGaroowe\\b|\\bGarner\\b|\\bGarmisch\\-Partenkirchen\\b|\\bGarland\\b|\\bGarko\\b|\\bGarissa\\b|\\bGaribaldi\\b|\\bGariadhar\\b|\\bGarhakota\\b|\\bGarhwa\\b|\\bGarhshankar\\b|\\bGarhmuktesar\\b|\\bGarh Maharaja\\b|\\bGargzdai\\b|\\bGarges\\-les\\-Gonesse\\b|\\bGarfield Heights\\b|\\bGarfield\\b|\\bGardner\\b|\\bGardner\\b|\\bGardez\\b|\\bGardena\\b|\\bGarden Grove\\b|\\bGarden City\\b|\\bGarden City\\b|\\bGarden City\\b|\\bGardanne\\b|\\bGarcia\\b|\\bGarching bei Munchen\\b|\\bGarches\\b|\\bGarbsen\\b|\\bGarbagnate Milanese\\b|\\bGaranhuns\\b|\\bGarango\\b|\\bGapyeong\\b|\\bGapan\\b|\\bGap\\b|\\bGaozhou\\b|\\bGaoyou\\b|\\bGaoping\\b|\\bGaomi\\b|\\bGaogou\\b|\\bGao\\b|\\bGanye\\b|\\bGannavaram\\b|\\bGannan\\b|\\bGanja\\b|\\bGanj Dundwara\\b|\\bGangawati\\b|\\bGangarampur\\b|\\bGangapur\\b|\\bGangapur\\b|\\bGangapur\\b|\\bGanganagar\\b|\\bGangakher\\b|\\bGangtok\\b|\\bGangolli\\b|\\bGangoh\\b|\\bGangneung\\b|\\bGanghwa\\-gun\\b|\\bGanei Tikva\\b|\\bGandu\\b|\\bGandia\\b|\\bGandhinagar\\b|\\bGandevi\\b|\\bGanderkesee\\b|\\bGandajika\\b|\\bGan Yavne\\b|\\bGampola\\b|\\bGamping Lor\\b|\\bGampengrejo\\b|\\bGamonal\\b|\\bGamla Uppsala\\b|\\bGameleira\\b|\\bGambela\\b|\\bGamboru\\b|\\bGamboma\\b|\\bGambiran Satu\\b|\\bGambat\\b|\\bGamagori\\b|\\bGalatsi\\b|\\bGalveston\\b|\\bGalt\\b|\\bGallus\\b|\\bGallup\\b|\\bGallipoli\\b|\\bGalliate\\b|\\bGalle\\b|\\bGallatin\\b|\\bGallarate\\b|\\bGalich\\b|\\bGalesong\\b|\\bGalesburg\\b|\\bGaldakao\\b|\\bGalati\\b|\\bGalatina\\b|\\bGalappo\\b|\\bGalapagar\\b|\\bGalapa\\b|\\bGalaosiyo\\b|\\bGalanta\\b|\\bGalaat el Andeless\\b|\\bGajuwaka\\b|\\bGajraula\\b|\\bGajendragarh\\b|\\bGaithersburg\\b|\\bGainsborough\\b|\\bGainesville\\b|\\bGainesville\\b|\\bGainesville\\b|\\bGaillimh\\b|\\bGaigeturi\\b|\\bGahanna\\b|\\bGagny\\b|\\bGagnoa\\b|\\bGaggenau\\b|\\bGage Park\\b|\\bGagarin\\b|\\bGagarin\\b|\\bGafsa\\b|\\bGafargaon\\b|\\bGaeta\\b|\\bGadwal\\b|\\bGadsden\\b|\\bGadhinglaj\\b|\\bGadhada\\b|\\bGaddi Annaram\\b|\\bGadag\\-Betageri\\b|\\bGadag\\b|\\bGabes\\b|\\bGabrovo\\b|\\bGaborone\\b|\\bGaalkacyo\\b|\\bGa\\-Rankuwa\\b|\\bFuman\\b|\\bFiruzabad\\b|\\bFirozabad\\b|\\bFirozpur Jhirka\\b|\\bFalticeni\\b|\\bFagaras\\b|\\bFazilka\\b|\\bFarsan\\b|\\bFaraskur\\b|\\bFaqus\\b|\\bFalakata\\b|\\bFurth\\b|\\bFurstenwalde\\b|\\bFurstenfeldbruck\\b|\\bFot\\b|\\bFecamp\\b|\\bFes al Bali\\b|\\bFes\\b|\\bFanzeres\\b|\\bFyzabad\\b|\\bFylde\\b|\\bFu'an\\b|\\bFuzhou\\b|\\bFuyuan\\b|\\bFuyu\\b|\\bFuyu\\b|\\bFuyang\\b|\\bFuyang\\b|\\bFuxin\\b|\\bFuwwah\\b|\\bFuttsu\\b|\\bFussa\\b|\\bFushun\\b|\\bFusagasuga\\b|\\bFurukawa\\b|\\bFurmanov\\b|\\bFuquay\\-Varina\\b|\\bFuqing\\b|\\bFuorigrotta\\b|\\bFunza\\b|\\bFuntua\\b|\\bFunehikimachi\\-funehiki\\b|\\bFundong\\b|\\bFundacion\\b|\\bFunchal\\b|\\bFunaishikawa\\b|\\bFunafuti\\b|\\bFullerton\\b|\\bFuling\\b|\\bFuli\\b|\\bFulda\\b|\\bFukuyama\\b|\\bFukushima\\b|\\bFukuroi\\b|\\bFukura\\b|\\bFukuoka\\b|\\bFukumitsu\\b|\\bFukui\\-shi\\b|\\bFukuecho\\b|\\bFukuchiyama\\b|\\bFukiage\\-fujimi\\b|\\bFukayacho\\b|\\bFukagawa\\b|\\bFujiyoshida\\b|\\bFujishiro\\b|\\bFujisawa\\b|\\bFujioka\\b|\\bFujioka\\b|\\bFujinomiya\\b|\\bFujin\\b|\\bFujikawaguchiko\\b|\\bFujieda\\b|\\bFuji\\b|\\bFuentes del Valle\\b|\\bFuenlabrada\\b|\\bFuengirola\\b|\\bFuencarral\\-El Pardo\\b|\\bFuding\\b|\\bFuchucho\\b|\\bFrydek\\-Mistek\\b|\\bFrondenberg\\b|\\bFrejus\\b|\\bFryazino\\b|\\bFryazevo\\b|\\bFrutal\\b|\\bFruit Cove\\b|\\bFrosinone\\b|\\bFrontignan\\b|\\bFrontera\\b|\\bFrontera\\b|\\bFront Royal\\b|\\bFrome\\b|\\bFrolovo\\b|\\bFrohnau\\b|\\bFrisco\\b|\\bFrinton\\-on\\-Sea\\b|\\bFriesoythe\\b|\\bFriendswood\\b|\\bFriedrichshain\\b|\\bFriedrichshagen\\b|\\bFriedrichshafen\\b|\\bFriedrichsfelde\\b|\\bFriedrichsdorf\\b|\\bFriedenau\\b|\\bFriedberg\\b|\\bFriedberg\\b|\\bFridley\\b|\\bFribourg\\b|\\bFria\\b|\\bFreudenstadt\\b|\\bFreudenberg\\b|\\bFresno\\b|\\bFresno\\b|\\bFresno\\b|\\bFresnillo\\b|\\bFresnes\\b|\\bFresh Meadows\\b|\\bFrenda\\b|\\bFrench Rocks\\b|\\bFremont\\b|\\bFremont\\b|\\bFremont\\b|\\bFreital\\b|\\bFreising\\b|\\bFreilassing\\b|\\bFreiburg\\b|\\bFreiberg am Neckar\\b|\\bFreiberg\\b|\\bFreha\\b|\\bFreguesia do Ribeirao da Ilha\\b|\\bFreetown\\b|\\bFreeport\\b|\\bFreeport\\b|\\bFreeport\\b|\\bFredrikstad\\b|\\bFrederikshavn\\b|\\bFrederiksberg\\b|\\bFredericton\\b|\\bFrederico Westphalen\\b|\\bFrederickson\\b|\\bFredericksburg\\b|\\bFrederick\\b|\\bFredericia\\b|\\bFrechen\\b|\\bFray Bentos\\b|\\bFrauenfeld\\b|\\bFrattaminore\\b|\\bFrattamaggiore\\b|\\bFrascati\\b|\\bFranzosisch Buchholz\\b|\\bFrankston South\\b|\\bFrankston East\\b|\\bFrankston\\b|\\bFranklin Square\\b|\\bFranklin Park\\b|\\bFranklin\\b|\\bFranklin\\b|\\bFranklin\\b|\\bFranklin\\b|\\bFrankfurt am Main\\b|\\bFrankfurt \\(Oder\\)\\b|\\bFrankfort\\b|\\bFrankfort\\b|\\bFrankfort\\b|\\bFrankenthal\\b|\\bFrankenberg\\b|\\bFrankenberg\\b|\\bFranconville\\b|\\bFranconia\\b|\\bFranco da Rocha\\b|\\bFrancistown\\b|\\bFrancisco Morato\\b|\\bFrancisco I\\. Madero\\b|\\bFrancisco Beltrao\\b|\\bFranceville\\b|\\bFrancavilla al Mare\\b|\\bFrancavilla Fontana\\b|\\bFranca\\b|\\bFramingham Center\\b|\\bFramingham\\b|\\bFrameries\\b|\\bFraijanes\\b|\\bFraccionamiento Real Palmas\\b|\\bFraccionamiento Ciudad Olmeca\\b|\\bFoca\\b|\\bFoz do Iguacu\\b|\\bFour Corners\\b|\\bFour Corners\\b|\\bFountainebleau\\b|\\bFountain Valley\\b|\\bFountain Hills\\b|\\bFountain\\b|\\bFoumbot\\b|\\bFoumban\\b|\\bFougeres\\b|\\bFoster City\\b|\\bFossano\\b|\\bFoso\\b|\\bFoshan\\b|\\bFos\\-sur\\-Mer\\b|\\bFortin de las Flores\\b|\\bFortuna Foothills\\b|\\bFortaleza\\b|\\bFort\\-de\\-France\\b|\\bFort Worth\\b|\\bFort Wayne\\b|\\bFort Washington\\b|\\bFort Walton Beach\\b|\\bFort Thomas\\b|\\bFort St\\. John\\b|\\bFort Smith\\b|\\bFort Portal\\b|\\bFort Pierce\\b|\\bFort Pienc\\b|\\bFort Myers\\b|\\bFort McMurray\\b|\\bFort Leonard Wood\\b|\\bFort Lee\\b|\\bFort Lauderdale\\b|\\bFort Hunt\\b|\\bFort Hood\\b|\\bFort Hamilton\\b|\\bFort Gloster\\b|\\bFort Erie\\b|\\bFort Dodge\\b|\\bFort Collins\\b|\\bFort Bragg\\b|\\bFort Beaufort\\b|\\bFort Abbas\\b|\\bForst\\b|\\bForssa\\b|\\bForquilhinha\\b|\\bForney\\b|\\bFornacelle\\b|\\bFormosa\\b|\\bFormosa\\b|\\bFormigine\\b|\\bFormiga\\b|\\bFormia\\b|\\bFormby\\b|\\bForli\\b|\\bForio\\b|\\bForest Park\\b|\\bForest Park\\b|\\bForest Lake\\b|\\bForest Lake\\b|\\bForest Hills\\b|\\bForest Hills\\b|\\bForest Grove\\b|\\bFords\\b|\\bFordon\\b|\\bFordham\\b|\\bForchheim\\b|\\bForbesganj\\b|\\bForbach\\b|\\bFootscray\\b|\\bFoothill Farms\\b|\\bFontenay\\-sous\\-Bois\\b|\\bFontenay\\-le\\-Comte\\b|\\bFontenay\\-aux\\-Roses\\b|\\bFontem\\b|\\bFonte Boa\\b|\\bFontana\\b|\\bFontana\\b|\\bFontainebleau\\b|\\bFontaine\\b|\\bFonseca\\b|\\bFondi\\b|\\bFond du Lac\\b|\\bFond Parisien\\b|\\bFomento\\b|\\bFolsom\\b|\\bFollonica\\b|\\bFolkestone\\b|\\bFoligno\\b|\\bFoley\\b|\\bFokino\\b|\\bFoggia\\b|\\bFocsani\\b|\\bFochville\\b|\\bFnidek\\b|\\bFlorsheim\\b|\\bFlorina\\b|\\bFleron\\b|\\bFlemalle\\-Haute\\b|\\bFlying Fish Cove\\b|\\bFlowing Wells\\b|\\bFlower Mound\\b|\\bFlorissant\\b|\\bFlorin\\b|\\bFloridsdorf\\b|\\bFloridia\\b|\\bFloridablanca\\b|\\bFlorida Ridge\\b|\\bFlorida\\b|\\bFlorida\\b|\\bFlorida\\b|\\bFlorianopolis\\b|\\bFloriano\\b|\\bFloresti\\b|\\bFloresta\\b|\\bFlores da Cunha\\b|\\bFlores\\b|\\bFlorencia\\b|\\bFlorencia\\b|\\bFlorence\\-Graham\\b|\\bFlorence\\b|\\bFlorence\\b|\\bFlorence\\b|\\bFlorence\\b|\\bFlorence\\b|\\bFloral Park\\b|\\bFloirac\\b|\\bFlint\\b|\\bFlint\\b|\\bFleury\\-les\\-Aubrais\\b|\\bFleurus\\b|\\bFlers\\b|\\bFlensburg\\b|\\bFleming Island\\b|\\bFleetwood\\b|\\bFleet\\b|\\bFlatlands\\b|\\bFlatbush\\b|\\bFlandes\\b|\\bFlagstaff\\b|\\bFlagami\\b|\\bFizuli\\b|\\bFive Corners\\b|\\bFiumicino\\-Isola Sacra\\b|\\bFitchburg\\b|\\bFitchburg\\b|\\bFishers\\b|\\bFirminy\\b|\\bFirmat\\b|\\bFiorano\\b|\\bFinsterwalde\\b|\\bFinote Selam\\b|\\bFinnentrop\\b|\\bFinlyandskiy\\b|\\bFinglas\\b|\\bFindlay\\b|\\bFinancial District\\b|\\bFillmore\\b|\\bFiliasi\\b|\\bFili\\b|\\bFilderstadt\\b|\\bFigueres\\b|\\bFigueira da Foz\\b|\\bFier\\-Cifci\\b|\\bFier\\b|\\bFiditi\\b|\\bFidenza\\b|\\bFiche\\b|\\bFianarantsoa\\b|\\bFethiye\\b|\\bFetesti\\-Gara\\b|\\bFetesti\\b|\\bFerry Pass\\b|\\bFerrol\\b|\\bFerrenafe\\b|\\bFerraz de Vasconcelos\\b|\\bFerrara\\b|\\bFerozepore\\b|\\bFerokh\\b|\\bFerntree Gully\\b|\\bFernley\\b|\\bFerndown\\b|\\bFerndale\\b|\\bFerndale\\b|\\bFernandopolis\\b|\\bFernando de la Mora\\b|\\bFern Creek\\b|\\bFermo\\b|\\bFerkessedougou\\b|\\bFerizli\\b|\\bFerizaj\\b|\\bFerguson\\b|\\bFergana\\b|\\bFereydunkenar\\b|\\bFeraoun\\b|\\bFeodosiya\\b|\\bFenyi\\b|\\bFenoarivo Be\\b|\\bFenoarivo Atsinanana\\b|\\bFennpfuhl\\b|\\bFeni\\b|\\bFengxiang\\b|\\bFengxian\\b|\\bFengrun\\b|\\bFengkou\\b|\\bFenghuang\\b|\\bFenghua\\b|\\bFengcheng\\b|\\bFendou\\b|\\bFendou\\b|\\bFeltham\\b|\\bFelling\\b|\\bFellbach\\b|\\bFelixstowe\\b|\\bFelipe Carrillo Puerto\\b|\\bFelgueiras\\b|\\bFelege Neway\\b|\\bFeldkirch\\b|\\bFelanitx\\b|\\bFeira de Santana\\b|\\bFeira\\b|\\bFeicheng\\b|\\bFeicheng\\b|\\bFedorovskiy\\b|\\bFederal Way\\b|\\bFederal\\b|\\bFazilpur\\b|\\bFayzabad\\b|\\bFayetteville\\b|\\bFayetteville\\b|\\bFayetteville\\b|\\bFavoriten\\b|\\bFaversham\\b|\\bFavara\\b|\\bFatwa\\b|\\bFatsa\\b|\\bFatehabad\\b|\\bFatehabad\\b|\\bFatehpur Sikri\\b|\\bFatehpur\\b|\\bFatehpur\\b|\\bFatehpur\\b|\\bFatehgarh Churian\\b|\\bFatehganj West\\b|\\bFasa\\b|\\bFastiv\\b|\\bFasano\\b|\\bFaridpur\\b|\\bFaridpur\\b|\\bFaridkot\\b|\\bFarum\\b|\\bFaruka\\b|\\bFarshut\\b|\\bFarrukhabad\\b|\\bFarrukhnagar\\b|\\bFarroupilha\\b|\\bFarrokh Shahr\\b|\\bFarragut\\b|\\bFaro\\b|\\bFarnworth\\b|\\bFarnham\\b|\\bFarnborough\\b|\\bFarmsen\\-Berne\\b|\\bFarmingville\\b|\\bFarmington Hills\\b|\\bFarmington\\b|\\bFarmington\\b|\\bFarmington\\b|\\bFarmington\\b|\\bFarmington\\b|\\bFarmers Branch\\b|\\bFarkhor\\b|\\bFaridabad\\b|\\bFaribault\\b|\\bFargo\\b|\\bFareham\\b|\\bFaratsiho\\b|\\bFarakka\\b|\\bFarah\\b|\\bFarafenni\\b|\\bFarafangana\\b|\\bFar Rockaway\\b|\\bFaqirwali\\b|\\bFano\\b|\\bFangshan\\b|\\bFandriana\\b|\\bFamailla\\b|\\bFamagusta\\b|\\bFalavarjan\\b|\\bFalun\\b|\\bFalmouth\\b|\\bFallingbrook\\b|\\bFallbrook\\b|\\bFall River\\b|\\bFalkoping\\b|\\bFalkirk\\b|\\bFalkensee\\b|\\bFalkenhagener Feld\\b|\\bFalkenberg\\b|\\bFalconara Marittima\\b|\\bFajardo\\b|\\bFaizpur\\b|\\bFaisalabad\\b|\\bFairwood\\b|\\bFairview Park\\b|\\bFairview Heights\\b|\\bFairmont\\b|\\bFairland\\b|\\bFairhope\\b|\\bFairhaven\\b|\\bFairfield Heights\\b|\\bFairfield\\b|\\bFairfield\\b|\\bFairfield\\b|\\bFairfield\\b|\\bFairfax\\b|\\bFairborn\\b|\\bFairbanks\\b|\\bFair Oaks\\b|\\bFair Lawn\\b|\\bFailsworth\\b|\\bFafe\\b|\\bFaenza\\b|\\bFada N'gourma\\b|\\bFada\\b|\\bFaches\\-Thumesnil\\b|\\bFacatativa\\b|\\bFabriano\\b|\\bFabijoniskes\\b|\\bFaaa\\b|\\bEt Taiyiba\\b|\\bElk\\b|\\bEgirdir\\b|\\bEzza\\-Ohu\\b|\\bEzine\\b|\\bEzhva\\b|\\bEzhou\\b|\\bEysines\\b|\\bEyl\\b|\\bExtremoz\\b|\\bExmouth\\b|\\bExeter\\b|\\bEwing\\b|\\bEwell\\b|\\bEvesham\\b|\\bEvergreen Park\\b|\\bEvergem\\b|\\bEverett\\b|\\bEverett\\b|\\bEven Yehuda\\b|\\bEvansville\\b|\\bEvanston\\b|\\bEvans\\b|\\bEvans\\b|\\bEutin\\b|\\bEusebio\\b|\\bEustis\\b|\\bEuskirchen\\b|\\bEureka\\b|\\bEupen\\b|\\bEunapolis\\b|\\bEuless\\b|\\bEugene\\b|\\bEuclides da Cunha\\b|\\bEuclid\\b|\\bEtawah\\b|\\bEtawa\\b|\\bEttlingen\\b|\\bEtobicoke\\b|\\bEseka\\b|\\bEsztergom\\b|\\bEsuk Oron\\b|\\bEstancia Velha\\b|\\bEstancia\\b|\\bEstrela\\b|\\bEstreito\\b|\\bEstoril\\b|\\bEstero\\b|\\bEstepona\\b|\\bEsteli\\b|\\bEstelle\\b|\\bEsteio\\b|\\bEste\\b|\\bEsslingen\\b|\\bEssex\\b|\\bEssendon\\b|\\bEssen\\b|\\bEssen\\b|\\bEssaouira\\b|\\bEsquipulas\\b|\\bEsquina\\b|\\bEsquel\\b|\\bEspirito Santo do Pinhal\\b|\\bEsposende\\b|\\bEspoo\\b|\\bEsplugues de Llobregat\\b|\\bEsplanada\\b|\\bEspiye\\b|\\bEspinosa\\b|\\bEspinho\\b|\\bEspinal\\b|\\bEsperanca\\b|\\bEsperanza\\b|\\bEsperanza\\b|\\bEsperanza\\b|\\bEsperantina\\b|\\bEspelkamp\\b|\\bEsparza\\b|\\bEsparreguera\\b|\\bEsmeraldas\\b|\\bEsmeraldas\\b|\\bEsmeralda\\b|\\bEslov\\b|\\bEskisehir\\b|\\bEskilstuna\\b|\\bEsik\\b|\\bEsher\\b|\\bEsfarayen\\b|\\bEsenyurt\\b|\\bEsenler\\b|\\bEscarcega\\b|\\bEscuintla\\b|\\bEscuinapa\\b|\\bEscondido\\b|\\bEschweiler\\b|\\bEschwege\\b|\\bEschborn\\b|\\bEsch\\-sur\\-Alzette\\b|\\bEscalante\\b|\\bEscada\\b|\\bEsbjerg\\b|\\bEs Senia\\b|\\bErattupetta\\b|\\bErzurum\\b|\\bErzsebetvaros\\b|\\bErzincan\\b|\\bErzin\\b|\\bErwitte\\b|\\bErskine\\b|\\bErrenteria\\b|\\bErraguntla\\b|\\bErrachidia\\b|\\bErode\\b|\\bErmua\\b|\\bErmont\\b|\\bErmitagana\\b|\\bErmesinde\\b|\\bErmenek\\b|\\bErmelo\\b|\\bErlanger\\b|\\bErlangen\\b|\\bErkrath\\b|\\bErkelenz\\b|\\bErie\\b|\\bErie\\b|\\bErgani\\b|\\bErfurt\\b|\\bErftstadt\\b|\\bEregli\\b|\\bEregli\\b|\\bErenhot\\b|\\bErechim\\b|\\bErding\\b|\\bErdenet\\b|\\bErdemli\\b|\\bErdek\\b|\\bErdaojiang\\b|\\bErcolano\\b|\\bErcis\\b|\\bErbil\\b|\\bErbaa\\b|\\bErba\\b|\\bEravur Town\\b|\\bErandol\\b|\\bErandio\\b|\\bEr Reina\\b|\\bEqbaliyeh\\b|\\bEpworth\\b|\\bEpsom\\b|\\bEppingen\\b|\\bEpping\\b|\\bEpping\\b|\\bEppelborn\\b|\\bEpe\\b|\\bEpe\\b|\\bEnzan\\b|\\bEnvigado\\b|\\bEnugu\\-Ukwu\\b|\\bEnugu\\-Ezike\\b|\\bEnugu\\b|\\bEntroncamento\\b|\\bEntre Rios\\b|\\bEnterprise\\b|\\bEnterprise\\b|\\bEntebbe\\b|\\bEnsley\\b|\\bEnshi\\b|\\bEnsenada\\b|\\bEnschede\\b|\\bEnnis\\b|\\bEnnis\\b|\\bEnnigerloh\\b|\\bEnnepetal\\b|\\bEnna\\b|\\bEnkoping\\b|\\bEnkhuizen\\b|\\bEnid\\b|\\bEnglewood\\b|\\bEnglewood\\b|\\bEnglewood\\b|\\bEnger\\b|\\bEngel's\\b|\\bEngelskirchen\\b|\\bEngadine\\b|\\bEnfield Town\\b|\\bEnfield\\b|\\bEnergodar\\b|\\bEnem\\b|\\bEndeavour Hills\\b|\\bEnde\\b|\\bEncruzilhada do Sul\\b|\\bEncrucijada\\b|\\bEncino\\b|\\bEncinitas\\b|\\bEncheng\\b|\\bEnchanted Hills\\b|\\bEncarnacion de Diaz\\b|\\bEncarnacion\\b|\\bEncanto\\b|\\bEncantado\\b|\\bEn Naqoura\\b|\\bEmure\\-Ekiti\\b|\\bEmsworth\\b|\\bEmsdetten\\b|\\bEmporia\\b|\\bEmpoli\\b|\\bEmpangeni\\b|\\bEmpalme\\b|\\bEmmiganur\\b|\\bEmmerich\\b|\\bEmmendingen\\b|\\bEmmen\\b|\\bEmmen\\b|\\bEmmeloord\\b|\\bEmirdag\\b|\\bEminonu\\b|\\bEminabad\\b|\\bEmiliano Zapata\\b|\\bEmiliano Zapata\\b|\\bEmiliano Zapata\\b|\\bEmet\\b|\\bEmerson Hill\\b|\\bEmden\\b|\\bEmbu Guacu\\b|\\bEmbu\\b|\\bEmbu\\b|\\bEmbi\\b|\\bEmbarcacion\\b|\\bEmbalse\\b|\\bElur\\b|\\bEloi Mendes\\b|\\bElyria\\b|\\bEly\\b|\\bElwood\\b|\\bEltville\\b|\\bEltham\\b|\\bElst\\b|\\bElsdorf\\b|\\bEloy Alfaro\\b|\\bEloy\\b|\\bElmwood Park\\b|\\bElmwood Park\\b|\\bElmshorn\\b|\\bElmont\\b|\\bElmira\\b|\\bElmina\\b|\\bElmhurst\\b|\\bElmhurst\\b|\\bElmali\\b|\\bElmadag\\b|\\bEllwangen\\b|\\bEllore\\b|\\bElliniko\\b|\\bEllicott City\\b|\\bEllesmere Port\\b|\\bEllensburg\\b|\\bEllenbrook\\b|\\bEllenabad\\b|\\bElland\\b|\\bElkton\\b|\\bElkridge\\b|\\bElko\\b|\\bElkhart\\b|\\bElk River\\b|\\bElk Grove Village\\b|\\bElk Grove\\b|\\bElizabethtown\\b|\\bElizabeth City\\b|\\bElizabeth\\b|\\bElista\\b|\\bElgin\\b|\\bElgin\\b|\\bEleskirt\\b|\\bElele\\b|\\bElektrougli\\b|\\bElektrostal'\\b|\\bElektrogorsk\\b|\\bElefsina\\b|\\bEldoret\\b|\\bEldersburg\\b|\\bElda\\b|\\bElche\\b|\\bElburg\\b|\\bElblag\\b|\\bElbistan\\b|\\bElbeuf\\b|\\bElbasan\\b|\\bElazig\\b|\\bElamanchili\\b|\\bEl Viso del Alcor\\b|\\bEl Vigia\\b|\\bEl Viejo\\b|\\bEl Vendrell\\b|\\bEl Triunfo\\b|\\bEl Tocuyo\\b|\\bEl Tigre\\b|\\bEl Tejar\\b|\\bEl Tarf\\b|\\bEl Soberbio\\b|\\bEl Segundo\\b|\\bEl Salto\\b|\\bEl Salto\\b|\\bEl Salto\\b|\\bEl Rosario\\b|\\bEl Reten\\b|\\bEl Reno\\b|\\bEl Rama\\b|\\bEl Quince\\b|\\bEl Puerto de Santa Maria\\b|\\bEl Pueblito\\b|\\bEl Progreso\\b|\\bEl Prat de Llobregat\\b|\\bEl Paso\\b|\\bEl Paraiso\\b|\\bEl Palmar\\b|\\bEl Oued\\b|\\bEl Obeid\\b|\\bEl Monte\\b|\\bEl Monte\\b|\\bEl Mirage\\b|\\bEl Masnou\\b|\\bEl Malah\\b|\\bEl Limon\\b|\\bEl Kseur\\b|\\bEl Khroub\\b|\\bEl Kef\\b|\\bEl Kala\\b|\\bEl Jem\\b|\\bEl Jadid\\b|\\bEl Idrissia\\b|\\bEl Hatillo\\b|\\bEl Hamma\\b|\\bEl Hajeb\\b|\\bEl Hadjira\\b|\\bEl Hadjar\\b|\\bEl Grullo\\b|\\bEl Grao\\b|\\bEl Fasher\\b|\\bEl Fahs\\b|\\bEl Eulma\\b|\\bEl Estor\\b|\\bEl Ejido\\b|\\bEl Dorado Hills\\b|\\bEl Dorado\\b|\\bEl Daein\\b|\\bEl Crucero\\b|\\bEl Copey\\b|\\bEl Chorrillo\\b|\\bEl Charco\\b|\\bEl Cerrito\\b|\\bEl Cerrito\\b|\\bEl Centro\\b|\\bEl Carmen de Bolivar\\b|\\bEl Carmel\\b|\\bEl Campello\\b|\\bEl Cajon\\b|\\bEl Cafetal\\b|\\bEl Bolson\\b|\\bEl Bayadh\\b|\\bEl Bauga\\b|\\bEl Banco\\b|\\bEl Bagre\\b|\\bEl Aioun\\b|\\bEl Attaf\\b|\\bEl Astillero\\b|\\bEl Arahal\\b|\\bEl Aouinet\\b|\\bEl Amria\\b|\\bEl Alia\\b|\\bEl Affroun\\b|\\bEl Achir\\b|\\bEl Abiodh Sidi Cheikh\\b|\\bEl Abadia\\b|\\bEkpoma\\b|\\bEkibastuz\\b|\\bEket\\b|\\bEkazhevo\\b|\\bEkangala\\b|\\bEjura\\b|\\bEjigbo\\b|\\bEjido\\b|\\bEjea de los Caballeros\\b|\\bEixample\\b|\\bEitorf\\b|\\bEislingen\\b|\\bEisleben Lutherstadt\\b|\\bEisenhuttenstadt\\b|\\bEisenach\\b|\\bEisen\\b|\\bEisen\\b|\\bEirunepe\\b|\\bEindhoven\\b|\\bEinbeck\\b|\\bEimsbuttel\\b|\\bEilenburg\\b|\\bEilat\\b|\\bEiguliai\\b|\\bEight Mile Plains\\b|\\bEidelstedt\\b|\\bEibergen\\b|\\bEibar\\b|\\bEhingen\\b|\\bEha Amufu\\b|\\bEgypt Lake\\-Leto\\b|\\bEgra\\b|\\bEgham\\b|\\bEggertsville\\b|\\bEggenstein\\-Leopoldshafen\\b|\\bEggenberg\\b|\\bEger\\b|\\bEgbe\\b|\\bEfon\\-Alaaye\\b|\\bEffium\\b|\\bEersel\\b|\\bEeklo\\b|\\bEdea\\b|\\bEdwardsville\\b|\\bEdremit\\b|\\bEdosaki\\b|\\bEdmundston\\b|\\bEdmonton\\b|\\bEdmonds\\b|\\bEdmond\\b|\\bEdison\\b|\\bEdirne\\b|\\bEdinet\\b|\\bEdinburgh\\b|\\bEdinburg\\b|\\bEdina\\b|\\bEdgewood\\b|\\bEdgewater\\b|\\bEdgewater\\b|\\bEdewecht\\b|\\bEdenvale\\b|\\bEden Prairie\\b|\\bEden\\b|\\bEdegem\\b|\\bEde\\b|\\bEd Damer\\b|\\bEckernforde\\b|\\bEcho Park\\b|\\bEch Chettia\\b|\\bEccles\\b|\\bEcatepec de Morelos\\b|\\bEbute Ikorodu\\b|\\bEboli\\b|\\bEbetsu\\b|\\bEberswalde\\b|\\bEbersbach an der Fils\\b|\\bEberbach\\b|\\bEbebiyin\\b|\\bEbbw Vale\\b|\\bEaubonne\\b|\\bEau Claire\\b|\\bEastwood\\b|\\bEastwood\\b|\\bEastvale\\b|\\bEastpointe\\b|\\bEaston\\b|\\bEaston\\b|\\bEaston\\b|\\bEastmont\\b|\\bEastleigh\\b|\\bEastlake\\b|\\bEasthampton\\b|\\bEastchester\\b|\\bEastbourne\\b|\\bEast York\\b|\\bEast Village\\b|\\bEast Tremont\\b|\\bEast Setauket\\b|\\bEast Saint Louis\\b|\\bEast Riverdale\\b|\\bEast Ridge\\b|\\bEast Rancho Dominguez\\b|\\bEast Providence\\b|\\bEast Point\\b|\\bEast Peoria\\b|\\bEast Pensacola Heights\\b|\\bEast Patchogue\\b|\\bEast Palo Alto\\b|\\bEast Orange\\b|\\bEast Norwalk\\b|\\bEast Northport\\b|\\bEast New York\\b|\\bEast Naples\\b|\\bEast Moline\\b|\\bEast Molesey\\b|\\bEast Millcreek\\b|\\bEast Meadow\\b|\\bEast Massapequa\\b|\\bEast Los Angeles\\b|\\bEast Longmeadow\\b|\\bEast London\\b|\\bEast Lansing\\b|\\bEast Lake\\-Orient Park\\b|\\bEast Lake\\b|\\bEast Kilbride\\b|\\bEast Jerusalem\\b|\\bEast Independence\\b|\\bEast Honolulu\\b|\\bEast Hill\\-Meridian\\b|\\bEast Hemet\\b|\\bEast Haven\\b|\\bEast Hartford\\b|\\bEast Harlem\\b|\\bEast Hampton\\b|\\bEast Gwillimbury\\b|\\bEast Grinstead\\b|\\bEast Garfield Park\\b|\\bEast Florence\\b|\\bEast Flatbush\\b|\\bEast Elmhurst\\b|\\bEast Dereham\\b|\\bEast Concord\\b|\\bEast Cleveland\\b|\\bEast Chicago\\b|\\bEast Chattanooga\\b|\\bEast Brunswick\\b|\\bEast Brainerd\\b|\\bEasley\\b|\\bEarlwood\\b|\\bEarlsfield\\b|\\bEarl Shilton\\b|\\bEagle River\\b|\\bEagle Pass\\b|\\bEagle Mountain\\b|\\bEagle\\b|\\bEagan\\b|\\bDustlik\\b|\\bDura\\b|\\bDungarpur\\b|\\bDisa\\b|\\bDinanagar\\b|\\bDinhata\\b|\\bDila\\b|\\bDiglur\\b|\\bDig\\b|\\bDidwana\\b|\\bDecin\\b|\\bDeblin\\b|\\bDebica\\b|\\bDabrowa Gornicza\\b|\\bDataganj\\b|\\bDasna\\b|\\bDarab\\b|\\bDarwha\\b|\\bDarjiling\\b|\\bDarchula\\b|\\bDarayya\\b|\\bDar Kulayb\\b|\\bDamnagar\\b|\\bDamghan\\b|\\bDakor\\b|\\bDahanu\\b|\\bDadri\\b|\\bDuzce\\b|\\bDusseldorf\\-Pempelfort\\b|\\bDusseldorf\\b|\\bDuren\\b|\\bDulmen\\b|\\bDubendorf\\b|\\bDun Laoghaire\\b|\\bDortyol\\b|\\bDobeln\\b|\\bDeqen\\b|\\bDesarmes\\b|\\bDedougou\\b|\\bDecines\\-Charpieu\\b|\\bDzuunharaa\\b|\\bDzyarzhynsk\\b|\\bDzierzoniow\\b|\\bDzialdowo\\b|\\bDzhetygara\\b|\\bDzhankoy\\b|\\bDzerzhinsky\\b|\\bDzerzhinskiy\\b|\\bDzerzhinsk\\b|\\bDzaoudzi\\b|\\bDyurtyuli\\b|\\bDyker Heights\\b|\\bDyersburg\\b|\\bDyer\\b|\\bDyat'kovo\\b|\\bDwarka\\b|\\bDvur Kralove nad Labem\\b|\\bDuyun\\b|\\bDutsen Wai\\b|\\bDutse\\b|\\bDushanbe\\b|\\bDursunbey\\b|\\bDurres\\b|\\bDurham\\b|\\bDurham\\b|\\bDurgapur\\b|\\bDurgapur\\b|\\bDurg\\b|\\bDurban\\b|\\bDurazno\\b|\\bDurant\\b|\\bDurango\\b|\\bDurango\\b|\\bDuque de Caxias\\b|\\bDupnitsa\\b|\\bDuobao\\b|\\bDunyapur\\b|\\bDunwoody\\b|\\bDunstable\\b|\\bDunkwa\\b|\\bDunkerque\\b|\\bDunhua\\b|\\bDunga Bunga\\b|\\bDunfermline\\b|\\bDunedin\\b|\\bDunedin\\b|\\bDundee\\b|\\bDundee\\b|\\bDundalk\\b|\\bDundalk\\b|\\bDuncanville\\b|\\bDuncan\\b|\\bDuncan\\b|\\bDunaujvaros\\b|\\bDunakeszi\\b|\\bDunajska Streda\\b|\\bDunaivtsi\\b|\\bDunaharaszti\\b|\\bDumraon\\b|\\bDumra\\b|\\bDumont\\b|\\bDumka\\b|\\bDumjor\\b|\\bDumfries\\b|\\bDumbea\\b|\\bDumbarton\\b|\\bDumas\\b|\\bDumai\\b|\\bDumaguete\\b|\\bDum Duma\\b|\\bDuluth\\b|\\bDuluth\\b|\\bDullewala\\b|\\bDuliagaon\\b|\\bDukuhturi\\b|\\bDukku\\b|\\bDukinfield\\b|\\bDuiwelskloof\\b|\\bDuiven\\b|\\bDuitama\\b|\\bDuisburg\\b|\\bDugulubgey\\b|\\bDugda\\b|\\bDuffel\\b|\\bDuekoue\\b|\\bDudley\\b|\\bDudinka\\b|\\bDuderstadt\\b|\\bDudelange\\b|\\bDucos\\b|\\bDucheng\\b|\\bDubasari\\b|\\bDubuque\\b|\\bDubti\\b|\\bDubrajpur\\b|\\bDubrovnik\\b|\\bDubovka\\b|\\bDubno\\b|\\bDubnica nad Vahom\\b|\\bDubna\\b|\\bDublin\\b|\\bDublin\\b|\\bDublin\\b|\\bDublin\\b|\\bDubbo\\b|\\bDubai\\b|\\bDuba\\b|\\bDuayaw\\-Nkwanta\\b|\\bDuarte\\b|\\bDschang\\b|\\bDragasani\\b|\\bDrama\\b|\\bDruzhkivka\\b|\\bDruskininkai\\b|\\bDrummondville\\b|\\bDroylsden\\b|\\bDronten\\b|\\bDronfield\\b|\\bDroitwich\\b|\\bDroichead Nua\\b|\\bDrohobych\\b|\\bDrogheda\\b|\\bDrochia\\b|\\bDrobeta\\-Turnu Severin\\b|\\bDriyorejo\\b|\\bDriefontein\\b|\\bDriebergen\\-Rijsenburg\\b|\\bDrexel Hill\\b|\\bDrexel Heights\\b|\\bDreux\\b|\\bDreta de l'Eixample\\b|\\bDresden\\b|\\bDrensteinfurt\\b|\\bDreieich\\b|\\bDrean\\b|\\bDraveil\\b|\\bDraper\\b|\\bDrancy\\b|\\bDrammen\\b|\\bDraguignan\\b|\\bDragash\\b|\\bDracut\\b|\\bDrachten\\b|\\bDraa el Mizan\\b|\\bDraa Ben Khedda\\b|\\bDogubayazit\\b|\\bDowney\\b|\\bDowners Grove\\b|\\bDowlatabad\\b|\\bDover\\b|\\bDover\\b|\\bDover\\b|\\bDover\\b|\\bDouz\\b|\\bDourbali\\b|\\bDourados\\b|\\bDour\\b|\\bDouma\\b|\\bDouliu\\b|\\bDouglasville\\b|\\bDouglas\\b|\\bDouglas\\b|\\bDouglas\\b|\\bDouera\\b|\\bDouarnenez\\b|\\bDouar Tindja\\b|\\bDouane\\b|\\bDouala\\b|\\bDouai\\b|\\bDothan\\b|\\bDosso\\b|\\bDosquebradas\\b|\\bDos Hermanas\\b|\\bDoraha\\b|\\bDorval\\b|\\bDortmund\\b|\\bDorsten\\b|\\bDorohoi\\b|\\bDorogomilovo\\b|\\bDornbirn\\b|\\bDornakal\\b|\\bDormagen\\b|\\bDorking\\b|\\bDori\\b|\\bDoreen\\b|\\bDordrecht\\b|\\bDorchester\\b|\\bDorcheh Piaz\\b|\\bDoral\\b|\\bDonskoye\\b|\\bDonskoy\\b|\\bDonostia / San Sebastian\\b|\\bDonna\\b|\\bDongyang\\b|\\bDongxing\\b|\\bDongtai\\b|\\bDongsheng\\b|\\bDongobesh\\b|\\bDongning\\b|\\bDongling\\b|\\bDongkan\\b|\\bDonghai\\b|\\bDongguan\\b|\\bDonggongon\\b|\\bDonggang\\b|\\bDongfeng\\b|\\bDongen\\b|\\bDongdu\\b|\\bDongcun\\b|\\bDongargarh\\b|\\bDonetsk\\b|\\bDonetsk\\b|\\bDondo\\b|\\bDondaicha\\b|\\bDoncaster East\\b|\\bDoncaster\\b|\\bDoncaster\\b|\\bDonauworth\\b|\\bDonaustadt\\b|\\bDonaueschingen\\b|\\bDonaghmede\\b|\\bDon Torcuato\\b|\\bDon Luan\\b|\\bDon Carlos\\b|\\bDon Benito\\b|\\bDon Antonio\\b|\\bDompu\\b|\\bDomont\\b|\\bDomodossola\\b|\\bDomodedovo\\b|\\bDome\\b|\\bDombovar\\b|\\bDombivli\\b|\\bDomalanoan\\b|\\bDoma\\b|\\bDom Pedro\\b|\\bDom Pedrito\\b|\\bDolyns'ka\\b|\\bDolyna\\b|\\bDolton\\b|\\bDolores Hidalgo Cuna de la Independencia Nacional\\b|\\bDolores\\b|\\bDolores\\b|\\bDologon\\b|\\bDolny Kubin\\b|\\bDollard\\-Des Ormeaux\\b|\\bDolisie\\b|\\bDolgoprudnyy\\b|\\bDole\\b|\\bDokuchayevs'k\\b|\\bDoka\\b|\\bDok Kham Tai\\b|\\bDois Vizinhos\\b|\\bDois Corregos\\b|\\bDohar\\b|\\bDohad\\b|\\bDoha\\b|\\bDogondoutchi\\b|\\bDogonbadan\\b|\\bDogbo\\b|\\bDoetinchem\\b|\\bDodoma\\b|\\bDodola\\b|\\bDodge City\\b|\\bDoda\\b|\\bDod Ballapur\\b|\\bDobryanka\\b|\\bDobrush\\b|\\bDobropillya\\b|\\bDobrich\\b|\\bDoboj\\b|\\bDoba\\b|\\bDniprorudne\\b|\\bDnipro\\b|\\bDmitrov\\b|\\bDjenne\\b|\\bDjougou\\b|\\bDjidiouia\\b|\\bDjibouti\\b|\\bDjibo\\b|\\bDjemmal\\b|\\bDjelfa\\b|\\bDjamaa\\b|\\bDizangue\\b|\\bDiyarbakir\\b|\\bDiyarb Najm\\b|\\bDiyadin\\b|\\bDixon\\b|\\bDixon\\b|\\bDixiana\\b|\\bDix Hills\\b|\\bDiwek\\b|\\bDivo\\b|\\bDivnoye\\b|\\bDivnogorsk\\b|\\bDivinopolis\\b|\\bDivichibazar\\b|\\bDiu\\b|\\bDitzingen\\b|\\bDisuq\\b|\\bDishna\\b|\\bDiriamba\\b|\\bDire Dawa\\b|\\bDipolog\\b|\\bDiphu\\b|\\bDipayal\\b|\\bDipalpur\\b|\\bDinajpur\\b|\\bDinuba\\b|\\bDinslaken\\b|\\bDinskaya\\b|\\bDinnington\\b|\\bDingzhou\\b|\\bDingtao\\b|\\bDingolfing\\b|\\bDingcheng\\b|\\bDinga\\b|\\bDindori\\b|\\bDindigul\\b|\\bDinar\\b|\\bDinapore\\b|\\bDinalupihan\\b|\\bDimapur\\b|\\bDimona\\b|\\bDimitrovgrad\\b|\\bDimitrovgrad\\b|\\bDimbokro\\b|\\bDillingen an der Donau\\b|\\bDillingen\\b|\\bDilling\\b|\\bDillenburg\\b|\\bDili\\b|\\bDilbeek\\b|\\bDikwa\\b|\\bDiksmuide\\b|\\bDikirnis\\b|\\bDijon\\b|\\bDijkot\\b|\\bDihok\\b|\\bDigri\\b|\\bDigras\\b|\\bDigos\\b|\\bDigne\\-les\\-Bains\\b|\\bDighwara\\b|\\bDigboi\\b|\\bDiffa\\b|\\bDiez de Octubre\\b|\\bDietzenbach\\b|\\bDietikon\\b|\\bDiest\\b|\\bDiepsloot\\b|\\bDieppe\\b|\\bDieppe\\b|\\bDiepholz\\b|\\bDiepenbeek\\b|\\bDien Bien Phu\\b|\\bDiemen\\b|\\bDiego de Almagro\\b|\\bDieburg\\b|\\bDidouche Mourad\\b|\\bDidim\\b|\\bDidcot\\b|\\bDickson\\b|\\bDickinson\\b|\\bDickinson\\b|\\bDicholi\\b|\\bDibrugarh\\b|\\bDibba Al\\-Hisn\\b|\\bDibba Al\\-Fujairah\\b|\\bDibai\\b|\\bDiapaga\\b|\\bDianella\\b|\\bDiamond Harbour\\b|\\bDiamond Bar\\b|\\bDiamantino\\b|\\bDiamantina\\b|\\bDiamante\\b|\\bDiadi\\b|\\bDiadema\\b|\\bDhuri\\b|\\bDhulia\\b|\\bDhi as Sufal\\b|\\bDharur\\b|\\bDharuhera\\b|\\bDhariwal\\b|\\bDhari\\b|\\bDhar\\b|\\bDhampur\\b|\\bDhamnod\\b|\\bDhaka\\b|\\bDhupgari\\b|\\bDhulian\\b|\\bDhulikhel\\b|\\bDhulagari\\b|\\bDhuburi\\b|\\bDhrangadhra\\b|\\bDhrol\\b|\\bDhoraji\\b|\\bDhoro Naro\\b|\\bDhone\\b|\\bDholka\\b|\\bDhing\\b|\\bDhenkanal\\b|\\bDhekiajuli\\b|\\bDhaurahra\\b|\\bDhaulpur\\b|\\bDharan\\b|\\bDharmabad\\b|\\bDharmavaram\\b|\\bDharmapuri\\b|\\bDharmanagar\\b|\\bDharmadam\\b|\\bDharapuram\\b|\\bDharangaon\\b|\\bDharamsala\\b|\\bDharampur\\b|\\bDhanot\\b|\\bDhankuta\\b|\\bDhangadhi\\b|\\bDhanera\\b|\\bDhandhuka\\b|\\bDhanbad\\b|\\bDhanaura\\b|\\bDhanaula\\b|\\bDhamar\\b|\\bDhamtari\\b|\\bDhaka\\b|\\bDhahran\\b|\\bDhafni\\b|\\bDeulgaon Raja\\b|\\bDecan\\b|\\bDean Funes\\b|\\bDezhou\\b|\\bDeyang\\b|\\bDewsbury\\b|\\bDewas\\b|\\bDevrek\\b|\\bDevizes\\b|\\bDevinuwara\\b|\\bDevgarh\\b|\\bDevgadh Bariya\\b|\\bDeventer\\b|\\bDeveli\\b|\\bDevarkonda\\b|\\bDevanhalli\\b|\\bDevakottai\\b|\\bDeva\\b|\\bDeux\\-Montagnes\\b|\\bDeutz\\b|\\bDeurne\\b|\\bDeuil\\-la\\-Barre\\b|\\bDetva\\b|\\bDetroit\\-Shoreway\\b|\\bDetroit\\b|\\bDetmold\\b|\\bDet Udom\\b|\\bDese\\b|\\bDestelbergen\\b|\\bDessau\\b|\\bDesnogorsk\\b|\\bDesio\\b|\\bDeshnoke\\b|\\bDesert Hot Springs\\b|\\bDesenzano del Garda\\b|\\bDescalvado\\b|\\bDes Plaines\\b|\\bDes Moines\\b|\\bDes Moines\\b|\\bDerry Village\\b|\\bDerry\\b|\\bDerry\\b|\\bDerince\\b|\\bDerhachi\\b|\\bDerby\\b|\\bDerby\\b|\\bDerbent\\b|\\bDera Ismail Khan\\b|\\bDera Ghazi Khan\\b|\\bDera Bugti\\b|\\bDeqing\\b|\\bDepalpur\\b|\\bDepok\\b|\\bDepok\\b|\\bDepew\\b|\\bDeoria\\b|\\bDeori Khas\\b|\\bDeoranian\\b|\\bDeolali\\b|\\bDeoli\\b|\\bDeoli\\b|\\bDeoli\\b|\\bDeogarh\\b|\\bDeoband\\b|\\bDenver\\b|\\bDenton\\b|\\bDenton\\b|\\bDenpasar\\b|\\bDenov\\b|\\bDenkanikota\\b|\\bDenizli\\b|\\bDenizciler\\b|\\bDenison\\b|\\bDenia\\b|\\bDengzhou\\b|\\bDendermonde\\b|\\bDenderleeuw\\b|\\bDenain\\b|\\bDen Helder\\b|\\bDen Chai\\b|\\bDemirci\\b|\\bDemerval Lobao\\b|\\bDembi Dolo\\b|\\bDemba\\b|\\bDemak\\b|\\bDelijan\\b|\\bDeltona\\b|\\bDelta del Tigre\\b|\\bDelta\\b|\\bDelray Beach\\b|\\bDelmiro Gouveia\\b|\\bDelmenhorst\\b|\\bDelmas 73\\b|\\bDelmas\\b|\\bDellys\\b|\\bDelitzsch\\b|\\bDelicias\\b|\\bDeli Tua\\b|\\bDelhi\\b|\\bDelgado\\b|\\bDelfzijl\\b|\\bDelft\\b|\\bDelegacion Cuajimalpa de Morelos\\b|\\bDelcevo\\b|\\bDelbruck\\b|\\bDelaware\\b|\\bDelano\\b|\\bDelanggu\\b|\\bDel Rio\\b|\\bDel Pilar\\b|\\bDel City\\b|\\bDej\\b|\\bDeir ez\\-Zor\\b|\\bDeinze\\b|\\bDehui\\b|\\bDehri\\b|\\bDehra Dun\\b|\\bDehloran\\b|\\bDehiwala\\-Mount Lavinia\\b|\\bDehdasht\\b|\\bDegtyarsk\\b|\\bDeggendorf\\b|\\bDegema Hulk\\b|\\bDefiance\\b|\\bDeeside\\b|\\bDeerfield Beach\\b|\\bDeerfield\\b|\\bDeer Valley\\b|\\bDeer Park\\b|\\bDeer Park\\b|\\bDeer Park\\b|\\bDee Why\\b|\\bDedza\\b|\\bDedovsk\\b|\\bDedham\\b|\\bDededo Village\\b|\\bDeception Bay\\b|\\bDecatur\\b|\\bDecatur\\b|\\bDecatur\\b|\\bDebrecen\\b|\\bDebre Tabor\\b|\\bDebre Mark'os\\b|\\bDebre Birhan\\b|\\bDebila\\b|\\bDebark'\\b|\\bDebar\\b|\\bDebal'tseve\\b|\\bDeba\\b|\\bDearborn Heights\\b|\\bDearborn\\b|\\bDeal\\b|\\bDeSoto\\b|\\bDeLand\\b|\\bDeKalb\\b|\\bDeBary\\b|\\bDe Pere\\b|\\bDe Aar\\b|\\bDasoguz\\b|\\bDazhou\\b|\\bDazhong\\b|\\bDazaifu\\b|\\bDaytona Beach\\b|\\bDayton\\b|\\bDayrut\\b|\\bDayr Hafir\\b|\\bDayr al Balah\\b|\\bDayr Mawas\\b|\\bDaye\\b|\\bDaxing\\b|\\bDaxi\\b|\\bDax\\b|\\bDawukou\\b|\\bDawei\\b|\\bDavydkovo\\b|\\bDavlekanovo\\b|\\bDavis\\b|\\bDavie\\b|\\bDavid\\b|\\bDaventry\\b|\\bDavenport\\b|\\bDavao\\b|\\bDavangere\\b|\\bDausa\\b|\\bDaura\\b|\\bDaura\\b|\\bDaur\\b|\\bDaund\\b|\\bDaugavpils\\b|\\bDaudnagar\\b|\\bDaud Khel\\b|\\bDattapur\\b|\\bDatteln\\b|\\bDatong\\b|\\bDatong\\b|\\bDatia\\b|\\bDate\\b|\\bDasuya\\b|\\bDassa\\-Zoume\\b|\\bDasnapur\\b|\\bDasmarinas\\b|\\bDaska Kalan\\b|\\bDashtobod\\b|\\bDashitou\\b|\\bDashiqiao\\b|\\bDasha\\b|\\bDar'a\\b|\\bDaryapur\\b|\\bDarya Khan\\b|\\bDarwin\\b|\\bDarwen\\b|\\bDaru\\b|\\bDarton\\b|\\bDartmouth\\b|\\bDartford\\b|\\bDarsi\\b|\\bDarreh Shahr\\b|\\bDarnah\\b|\\bDarmstadt\\b|\\bDarlington\\b|\\bDarien\\b|\\bDarien\\b|\\bDarien\\b|\\bDarhan\\b|\\bDargecit\\b|\\bDarende\\b|\\bDareda\\b|\\bDarbhanga\\b|\\bDarazo\\b|\\bDara\\b|\\bDar es Salaam\\b|\\bDar el Beida\\b|\\bDar Chioukh\\b|\\bDar Chabanne\\b|\\bDaqing\\b|\\bDapitan\\b|\\bDaphne\\b|\\bDapaong\\b|\\bDaoukro\\b|\\bDaokou\\b|\\bDanville\\b|\\bDanville\\b|\\bDanville\\b|\\bDanville\\b|\\bDanvers\\b|\\bDanshui\\b|\\bDanli\\b|\\bDankov\\b|\\bDanjiangkou\\b|\\bDanilov\\b|\\bDania Beach\\b|\\bDanghara\\b|\\bDandong\\b|\\bDandenong North\\b|\\bDandenong\\b|\\bDandeli\\b|\\bDanbury\\b|\\bDanao\\b|\\bDanao\\b|\\bDanane\\b|\\bDana Point\\b|\\bDan Khun Thot\\b|\\bDamavand\\b|\\bDampit\\b|\\bDamoh\\b|\\bDamnoen Saduak\\b|\\bDamme\\b|\\bDammarie\\-les\\-Lys\\b|\\bDammam\\b|\\bDamietta\\b|\\bDambulla\\b|\\bDamboa\\b|\\bDamaturu\\b|\\bDamascus\\b|\\bDamascus\\b|\\bDamara\\b|\\bDamanhur\\b|\\bDaman\\b|\\bDam Dam\\b|\\bDaly City\\b|\\bDaltonganj\\b|\\bDalton\\b|\\bDalsingh Sarai\\b|\\bDalserf\\b|\\bDaloa\\b|\\bDalnerechensk\\b|\\bDalnegorsk\\b|\\bDalmine\\b|\\bDallas\\b|\\bDallas\\b|\\bDalkola\\b|\\bDaliyat al Karmel\\b|\\bDalianwan\\b|\\bDaliang\\b|\\bDalian\\b|\\bDali\\b|\\bDalfsen\\b|\\bDale City\\b|\\bDalandzadgad\\b|\\bDalaman\\b|\\bDalai\\b|\\bDakoro\\b|\\bDakhla\\b|\\bDakhla\\b|\\bDakar\\b|\\bDajal\\b|\\bDajabon\\b|\\bDaitocho\\b|\\bDainava \\(Kaunas\\)\\b|\\bDaimiel\\b|\\bDailekh\\b|\\bDaigo\\b|\\bDahlem\\b|\\bDahegam\\b|\\bDagupan\\b|\\bDagomys\\b|\\bDagestanskiye Ogni\\b|\\bDagenham\\b|\\bDaet\\b|\\bDaejeon\\b|\\bDaegu\\b|\\bDadukou\\b|\\bDadu\\b|\\bDadonghai\\b|\\bDadhar\\b|\\bDadeldhura\\b|\\bDachnoye\\b|\\bDachau\\b|\\bDabwali\\b|\\bDabra\\b|\\bDabou\\b|\\bDaboh\\b|\\bDabhoi\\b|\\bDabas\\b|\\bDa Nang\\b|\\bCu Chi\\b|\\bCam Pha Mines\\b|\\bCan Tho\\b|\\bCan Gio\\b|\\bCan Giuoc\\b|\\bCesis\\b|\\bCauseni\\b|\\bCucuta\\b|\\bCua\\b|\\bCote\\-Saint\\-Luc\\b|\\bCordoba\\b|\\bCordoba\\b|\\bCordoba\\b|\\bCicero Dantas\\b|\\bCandido Mota\\b|\\bCampulung Moldovenesc\\b|\\bCampina\\b|\\bCampia Turzii\\b|\\bCamara de Lobos\\b|\\bCat Ba\\b|\\bCartama\\b|\\bCardenas\\b|\\bCardenas\\b|\\bCardenas\\b|\\bCaceres\\b|\\bCa Mau\\b|\\bCzestochowa\\b|\\bCzerwionka\\-Leszczyny\\b|\\bCzeladz\\b|\\bCzechowice\\-Dziedzice\\b|\\bCypress Hills\\b|\\bCypress\\b|\\bCypress\\b|\\bCyangugu\\b|\\bCwmbran\\b|\\bCuyahoga Falls\\b|\\bCuxhaven\\b|\\bCuttack\\b|\\bCutral\\-Co\\b|\\bCutler Ridge\\b|\\bCutler Bay\\b|\\bCutler\\b|\\bCustodia\\b|\\bCustoias\\b|\\bCusco\\b|\\bCuscatancingo\\b|\\bCusano\\b|\\bCurvelo\\b|\\bCuruzu Cuatia\\b|\\bCururupu\\b|\\bCurup\\b|\\bCurundu\\b|\\bCurumani\\b|\\bCurug\\b|\\bCurtea de Arges\\b|\\bCurridabat\\b|\\bCurrais Novos\\b|\\bCuritibanos\\b|\\bCuritiba\\b|\\bCurico\\b|\\bCurepipe\\b|\\bCurchorem\\b|\\bCuranilahue\\b|\\bCupira\\b|\\bCupertino\\b|\\bCung Kiem\\b|\\bCuneo\\b|\\bCunduacan\\b|\\bCuncolim\\b|\\bCumbum\\b|\\bCumbum\\b|\\bCumbernauld\\b|\\bCumberland\\b|\\bCumberland\\b|\\bCumaribo\\b|\\bCumana\\b|\\bCumanayagua\\b|\\bCulver City\\b|\\bCulpeper\\b|\\bCullman\\b|\\bCullinan\\b|\\bCulleredo\\b|\\bCullera\\b|\\bCuliacan\\b|\\bCulemborg\\b|\\bCukai\\b|\\bCuito\\b|\\bCuilapa\\b|\\bCuiaba\\b|\\bCugnaux\\b|\\bCugir\\b|\\bCueto\\b|\\bCuernavaca\\b|\\bCuenca\\b|\\bCuenca\\b|\\bCuenca\\b|\\bCuddapah\\b|\\bCuddalore\\b|\\bCudahy\\b|\\bCudahy\\b|\\bCubatao\\b|\\bCuautlancingo\\b|\\bCuautla\\b|\\bCuautitlan Izcalli\\b|\\bCuautitlan\\b|\\bCuautepec de Hinojosa\\b|\\bCuauhtemoc\\b|\\bCuauhtemoc\\b|\\bCuamba\\b|\\bCsongrad\\b|\\bCreteil\\b|\\bCrepy\\-en\\-Valois\\b|\\bCrystal Lake\\b|\\bCrystal\\b|\\bCruzeiro do Sul\\b|\\bCruzeiro do Oeste\\b|\\bCruzeiro\\b|\\bCruz del Eje\\b|\\bCruz das Almas\\b|\\bCruz Alta\\b|\\bCruces\\b|\\bCrucecita\\b|\\bCroydon\\b|\\bCroydon\\b|\\bCrowthorne\\b|\\bCrown Point\\b|\\bCrowborough\\b|\\bCrotone\\b|\\bCrosby\\b|\\bCronulla\\b|\\bCroix\\-des\\-Bouquets\\b|\\bCroix\\b|\\bCrofton\\b|\\bCristalina\\b|\\bCrimmitschau\\b|\\bCriciuma\\b|\\bCrewe\\b|\\bCrevillente\\b|\\bCreve Coeur\\b|\\bCrestview\\b|\\bCrest Hill\\b|\\bCrespo\\b|\\bCremona\\b|\\bCrema\\b|\\bCreil\\b|\\bCrawley\\b|\\bCrawfordsville\\b|\\bCravinhos\\b|\\bCrato\\b|\\bCrateus\\b|\\bCranston\\b|\\bCranford\\b|\\bCranendonck\\b|\\bCranebrook\\b|\\bCranbrook\\b|\\bCranbourne North\\b|\\bCranbourne East\\b|\\bCranbourne\\b|\\bCranberry Township\\b|\\bCran\\-Gevrier\\b|\\bCramlington\\b|\\bCraiova\\b|\\bCrailsheim\\b|\\bCraigieburn\\b|\\bCraigavon\\b|\\bCradock\\b|\\bCoin\\b|\\bCozumel\\b|\\bCoyula\\b|\\bCoyotepec\\b|\\bCoyoacan\\b|\\bCoyhaique\\b|\\bCoyah\\b|\\bCox's Bazar\\b|\\bCoxim\\b|\\bCowley\\b|\\bCowes\\b|\\bCove\\b|\\bCovington\\b|\\bCovington\\b|\\bCovina\\b|\\bCovilha\\b|\\bCoventry\\b|\\bCoventry\\b|\\bCova Figueira\\b|\\bCoueron\\b|\\bCourtenay\\b|\\bCournon\\-d'Auvergne\\b|\\bCourcelles\\b|\\bCourbevoie\\b|\\bCountry Walk\\b|\\bCountry Club Hills\\b|\\bCountry Club\\b|\\bCouncil Bluffs\\b|\\bCoulsdon\\b|\\bCoulommiers\\b|\\bCoudekerque\\-Branche\\b|\\bCotui\\b|\\bCottonwood Heights\\b|\\bCottbus\\b|\\bCottage Lake\\b|\\bCottage Grove\\b|\\bCotonou\\b|\\bCotoca\\b|\\bCotia\\b|\\bCotabato\\b|\\bCoswig\\b|\\bCosta Mesa\\b|\\bCosquin\\b|\\bCosoleacaque\\b|\\bCosmopolis\\b|\\bCoslada\\b|\\bCosenza\\b|\\bCoscomatepec de Bravo\\b|\\bCosamaloapan\\b|\\bCorvera de Asturias\\b|\\bCorvallis\\b|\\bCoruripe\\b|\\bCorumba\\b|\\bCortland\\b|\\bCortazar\\b|\\bCorsico\\b|\\bCorsicana\\b|\\bCorroios\\b|\\bCorrientes\\b|\\bCorreggio\\b|\\bCorralillo\\b|\\bCorpus Christi\\b|\\bCorozal\\b|\\bCoronel Vivida\\b|\\bCoronel Suarez\\b|\\bCoronel Oviedo\\b|\\bCoronel Fabriciano\\b|\\bCoronel\\b|\\bCoronda\\b|\\bCoronado\\b|\\bCorona\\b|\\bCorona\\b|\\bCoromandel\\b|\\bCoroata\\b|\\bCoro\\b|\\bCornelio Procopio\\b|\\bCornwall\\b|\\bCorner Brook\\b|\\bCornella de Llobregat\\b|\\bCornelius\\b|\\bCornaredo\\b|\\bCormeilles\\-en\\-Parisis\\b|\\bCormano\\b|\\bCork\\b|\\bCorio\\b|\\bCorinto\\b|\\bCorinto\\b|\\bCorinto\\b|\\bCorinth\\b|\\bCorigliano Scalo\\b|\\bCoria del Rio\\b|\\bCorfu\\b|\\bCordova\\b|\\bCordenons\\b|\\bCordeiropolis\\b|\\bCordeiro\\b|\\bCorcoran\\b|\\bCorby\\b|\\bCorbeil\\-Essonnes\\b|\\bCorato\\b|\\bCoram\\b|\\bCoralville\\b|\\bCoral Terrace\\b|\\bCoral Springs\\b|\\bCoral Gables\\b|\\bCorabia\\b|\\bCoquitlam\\b|\\bCoquimbo\\b|\\bCopperas Cove\\b|\\bCoppell\\b|\\bCopiapo\\b|\\bCopiague\\b|\\bCopertino\\b|\\bCopenhagen\\b|\\bCopacabana\\b|\\bCoos Bay\\b|\\bCoorparoo\\b|\\bCooper City\\b|\\bCoondapoor\\b|\\bCoon Rapids\\b|\\bCookeville\\b|\\bCoogee\\b|\\bConyers\\b|\\bConway\\b|\\bConway\\b|\\bConverse\\b|\\bConversano\\b|\\bContramaestre\\b|\\bContla\\b|\\bContai\\b|\\bContagem\\b|\\bConstitucion\\b|\\bConstanta\\b|\\bConstanza\\b|\\bConstantine\\b|\\bConsolacion del Sur\\b|\\bConsolacion\\b|\\bConsett\\b|\\bConselheiro Lafaiete\\b|\\bConroe\\b|\\bConisbrough\\b|\\bConil de la Frontera\\b|\\bCongonhas\\b|\\bCongleton\\b|\\bConflans\\-Sainte\\-Honorine\\b|\\bConey Island\\b|\\bConegliano\\b|\\bCondeixa\\-a\\-Nova\\b|\\bConde\\b|\\bConde\\b|\\bCondado\\b|\\bCondado\\b|\\bConcordia\\b|\\bConcordia\\b|\\bConcord\\b|\\bConcord\\b|\\bConcord\\b|\\bConcord\\b|\\bConcord\\b|\\bConchal\\b|\\bConception Bay South\\b|\\bConcepcion del Uruguay\\b|\\bConcepcion de La Vega\\b|\\bConcepcion\\b|\\bConcepcion\\b|\\bConcepcion Ibaba\\b|\\bConcepcion\\b|\\bConceicao do Jacuipe\\b|\\bConceicao do Coite\\b|\\bConceicao do Araguaia\\b|\\bConceicao das Alagoas\\b|\\bConceicao da Feira\\b|\\bConceicao da Barra\\b|\\bConcarneau\\b|\\bConakry\\b|\\bComanesti\\b|\\bCome\\b|\\bComrat\\b|\\bCompton\\b|\\bCompostela\\b|\\bCompostela\\b|\\bCompostela\\b|\\bCompiegne\\b|\\bComonfort\\b|\\bComodoro Rivadavia\\b|\\bComo\\b|\\bCommerce City\\b|\\bCommack\\b|\\bComitan\\b|\\bComitancillo\\b|\\bComiso\\b|\\bComilla\\b|\\bCombs\\-la\\-Ville\\b|\\bComayagua\\b|\\bComalcalco\\b|\\bComalapa\\b|\\bComalapa\\b|\\bComal\\b|\\bColon\\b|\\bColon\\b|\\bColon\\b|\\bColwyn Bay\\b|\\bColumbus\\b|\\bColumbus\\b|\\bColumbus\\b|\\bColumbus\\b|\\bColumbus\\b|\\bColumbine\\b|\\bColumbia Heights\\b|\\bColumbia\\b|\\bColumbia\\b|\\bColumbia\\b|\\bColumbia\\b|\\bColton\\b|\\bColorado Springs\\b|\\bColorado\\b|\\bColonial Heights\\b|\\bColonia del Valle\\b|\\bColonia del Sol\\b|\\bColonia del Sacramento\\b|\\bColonia Nativitas\\b|\\bColonia Lindavista\\b|\\bColonia\\b|\\bColonelganj\\b|\\bColomiers\\b|\\bColombo\\b|\\bColombo\\b|\\bColombia\\b|\\bColombes\\b|\\bColomba\\b|\\bColomadu\\b|\\bCologno Monzese\\b|\\bColne\\b|\\bColmenar Viejo\\b|\\bColmar\\b|\\bCollipulli\\b|\\bCollinwood\\b|\\bCollinsville\\b|\\bCollingwood\\b|\\bCollierville\\b|\\bColleyville\\b|\\bCollegno\\b|\\bCollege Station\\b|\\bCollege Point\\b|\\bCollege Park\\b|\\bColleferro\\b|\\bColle di Val d'Elsa\\b|\\bCollado\\-Villalba\\b|\\bColinas\\b|\\bColima\\b|\\bColima\\b|\\bColgong\\b|\\bColfontaine\\b|\\bColeraine\\b|\\bColegiales\\b|\\bCole Harbour\\b|\\bColchester\\b|\\bColchester\\b|\\bColatina\\b|\\bColachel\\b|\\bCojutepeque\\b|\\bCoity\\b|\\bCoishco\\b|\\bCoimbra\\b|\\bCoimbatore\\b|\\bCohoes\\b|\\bCognac\\b|\\bCogan\\b|\\bCofradia\\b|\\bCoffs Harbour\\b|\\bCoeur d'Alene\\b|\\bCoesfeld\\b|\\bCoelho Neto\\b|\\bCodo\\b|\\bCodlea\\b|\\bCoconut Grove\\b|\\bCoconut Creek\\b|\\bCocoa\\b|\\bCockeysville\\b|\\bCockburn Town\\b|\\bCochrane\\b|\\bCochin\\b|\\bCochabamba\\b|\\bCoban\\b|\\bCoburg\\b|\\bCoburg\\b|\\bCobourg\\b|\\bCobija\\b|\\bCobham\\b|\\bCoatzintla\\b|\\bCoatzacoalcos\\b|\\bCoatepeque\\b|\\bCoatepec\\b|\\bCoatbridge\\b|\\bCoari\\b|\\bCoaraci\\b|\\bCoalville\\b|\\bCoalinga\\b|\\bCoachella\\b|\\bCoacalco\\b|\\bClaudio\\b|\\bClydebank\\b|\\bClydach\\b|\\bCluses\\b|\\bCluj\\-Napoca\\b|\\bCluain Meala\\b|\\bClovis\\b|\\bClovis\\b|\\bCloverly\\b|\\bCloverleaf\\b|\\bClosepet\\b|\\bCloppenburg\\b|\\bClive\\b|\\bClinton Township\\b|\\bClinton\\b|\\bClinton\\b|\\bClinton\\b|\\bClinton\\b|\\bClifton\\b|\\bClifton\\b|\\bCliffside Park\\b|\\bClichy\\-sous\\-Bois\\b|\\bClichy\\b|\\bCleveland Heights\\b|\\bCleveland\\b|\\bCleveland\\b|\\bClevedon\\b|\\bClermont\\-Ferrand\\b|\\bClermont\\b|\\bClemson\\b|\\bClemmons\\b|\\bClement Town\\b|\\bCleethorpes\\b|\\bCleckheaton\\b|\\bCleburne\\b|\\bClearwater\\b|\\bClearlake\\b|\\bClearfield\\b|\\bClayton\\b|\\bClayton\\b|\\bClayton\\b|\\bClausthal\\-Zellerfeld\\b|\\bClarksville\\b|\\bClarksville\\b|\\bClarksdale\\b|\\bClarksburg\\b|\\bClark\\-Fulton\\b|\\bClarence\\-Rockland\\b|\\bClaremore\\b|\\bClaremont\\b|\\bClamart\\b|\\bClacton\\-on\\-Sea\\b|\\bCienega de Flores\\b|\\bCienaga de Oro\\b|\\bCienaga\\b|\\bCizre\\b|\\bCivitavecchia\\b|\\bCivitanova Marche\\b|\\bCiutat Vella\\b|\\bCiutadella\\b|\\bCiudad del Este\\b|\\bCiudad del Carmen\\b|\\bCiudad de Villa de Alvarez\\b|\\bCiudad de Huitzuco\\b|\\bCiudad de Huajuapan de Leon\\b|\\bCiudad de Armeria\\b|\\bCiudad de Allende\\b|\\bCiudad Vieja\\b|\\bCiudad Victoria\\b|\\bCiudad Valles\\b|\\bCiudad Serdan\\b|\\bCiudad Sandino\\b|\\bCiudad Sahagun\\b|\\bCiudad Sabinas Hidalgo\\b|\\bCiudad Rio Bravo\\b|\\bCiudad Real\\b|\\bCiudad Obregon\\b|\\bCiudad Nueva\\b|\\bCiudad Nezahualcoyotl\\b|\\bCiudad Miguel Aleman\\b|\\bCiudad Mendoza\\b|\\bCiudad Melchor Muzquiz\\b|\\bCiudad Mante\\b|\\bCiudad Madero\\b|\\bCiudad Lopez Mateos\\b|\\bCiudad Lazaro Cardenas\\b|\\bCiudad Lineal\\b|\\bCiudad Lerdo\\b|\\bCiudad Hidalgo\\b|\\bCiudad Guzman\\b|\\bCiudad Guayana\\b|\\bCiudad Guadalupe Victoria\\b|\\bCiudad General Escobedo\\b|\\bCiudad Fernandez\\b|\\bCiudad Delicias\\b|\\bCiudad Constitucion\\b|\\bCiudad Choluteca\\b|\\bCiudad Bolivar\\b|\\bCiudad Bolivar\\b|\\bCiudad Benito Juarez\\b|\\bCiudad Apodaca\\b|\\bCiudad Altamirano\\b|\\bCiudad Acuna\\b|\\bCity of Westminster\\b|\\bCity of Sammamish\\b|\\bCity of Milford \\(balance\\)\\b|\\bCity of Isabela\\b|\\bCity of Balikpapan\\b|\\bCity Center\\b|\\bCitta di Castello\\b|\\bCitrus Park\\b|\\bCitrus Heights\\b|\\bCiteureup\\b|\\bCisterna di Latina\\b|\\bCisnadie\\b|\\bCiro Redondo\\b|\\bCirie\\b|\\bCirencester\\b|\\bCirebon\\b|\\bCircasia\\b|\\bCiranjang\\-hilir\\b|\\bCiputat\\b|\\bCipolletti\\b|\\bCintalapa de Figueroa\\b|\\bCinisello Balsamo\\b|\\bCinco Saltos\\b|\\bCinco Ranch\\b|\\bCincinnati\\b|\\bCimin\\b|\\bCimarron Hills\\b|\\bCimahi\\b|\\bCileunyi\\b|\\bCileungsir\\b|\\bCikupa\\b|\\bCikarang\\b|\\bCikampek\\b|\\bCihuatlan\\b|\\bCifuentes\\b|\\bCieza\\b|\\bCieszyn\\b|\\bCienfuegos\\b|\\bCiempozuelos\\b|\\bCiego de Avila\\b|\\bCiechanow\\b|\\bCicurug\\b|\\bCicero\\b|\\bCibolo\\b|\\bCibinong\\b|\\bCianorte\\b|\\bCiampino\\b|\\bCiampea\\b|\\bCiamis\\b|\\bChuru\\b|\\bChongju\\b|\\bChofu\\b|\\bChitapur\\b|\\bChirala\\b|\\bChipurupalle\\b|\\bChaibasa\\b|\\bChas\\b|\\bChapra\\b|\\bChapar\\b|\\bChandur Bazar\\b|\\bChandur\\b|\\bChandur\\b|\\bChandpur\\b|\\bChandor\\b|\\bChanda\\b|\\bChanasma\\b|\\bChampa\\b|\\bChalus\\b|\\bChalisgaon\\b|\\bChakia\\b|\\bChakan\\b|\\bChia\\b|\\bCha Grande\\b|\\bChatillon\\b|\\bChatenay\\-Malabry\\b|\\bChatellerault\\b|\\bChatelet\\b|\\bChateauroux\\b|\\bChateauguay\\b|\\bChateaudun\\b|\\bChateau\\-Thierry\\b|\\bChalons\\-en\\-Champagne\\b|\\bChystyakove\\b|\\bChuzhou\\b|\\bChust\\b|\\bChusovoy\\b|\\bChurachandpur\\b|\\bChur\\b|\\bChunar\\b|\\bChunskiy\\b|\\bChunian\\b|\\bChunghwa\\b|\\bChuncheon\\b|\\bChumphon\\b|\\bChum Phae\\b|\\bChulucanas\\b|\\bChula Vista\\b|\\bChuhuyiv\\b|\\bChuhar Jamali\\b|\\bChudovo\\b|\\bChuchar\\-kana Mandi\\b|\\bChubek\\b|\\bChu\\b|\\bChrzanow\\b|\\bChrudim\\b|\\bChristiansburg\\b|\\bChristiana\\b|\\bChristchurch\\b|\\bChristchurch\\b|\\bChowchilla\\b|\\bChotila\\b|\\bChoszczno\\b|\\bChosica\\b|\\bChorzow\\b|\\bChortoq\\b|\\bChortkiv\\b|\\bChornomors'k\\b|\\bChorley\\b|\\bChorfa\\b|\\bChopda\\b|\\bChongqing\\b|\\bChongoyape\\b|\\bChonglong\\b|\\bChongjin\\b|\\bChone\\b|\\bChon Daen\\b|\\bChon Buri\\b|\\bChomutov\\b|\\bChoma\\b|\\bChom Bueng\\b|\\bCholula\\b|\\bCholpon\\-Ata\\b|\\bCholoma\\b|\\bCholet\\b|\\bCholargos\\b|\\bChokwe\\b|\\bChok Chai\\b|\\bChojnice\\b|\\bChoisy\\-le\\-Roi\\b|\\bChodziez\\b|\\bChodavaram\\b|\\bChocope\\b|\\bChoa Saidan Shah\\b|\\bCho Dok\\b|\\bChlef\\b|\\bChkalov\\b|\\bChizhou\\b|\\bChivilcoy\\b|\\bChivasso\\b|\\bChivacoa\\b|\\bChitungwiza\\b|\\bChittur\\b|\\bChittaurgarh\\b|\\bChittaranjan\\b|\\bChittagong\\b|\\bChitradurga\\b|\\bChitose\\b|\\bChita\\b|\\bChistopol'\\b|\\bChislehurst\\b|\\bChisinau\\b|\\bChishtian\\b|\\bChishmy\\b|\\bChisec\\b|\\bChiryu\\b|\\bChirpan\\b|\\bChiroqchi\\b|\\bChiriguana\\b|\\bChiredzi\\b|\\bChirchiq\\b|\\bChiquinquira\\b|\\bChiquimula\\b|\\bChipping Sodbury\\b|\\bChippenham\\b|\\bChiplun\\b|\\bChipiona\\b|\\bChipinge\\b|\\bChipata\\b|\\bChios\\b|\\bChioggia\\b|\\bChinu\\b|\\bChintamani\\b|\\bChinoz\\b|\\bChino Hills\\b|\\bChino\\b|\\bChino\\b|\\bChinnamanur\\b|\\bChinnachowk\\b|\\bChinna Salem\\b|\\bChinju\\b|\\bChiniot\\b|\\bChinhoyi\\b|\\bChingola\\b|\\bChingleput\\b|\\bChinde\\b|\\bChincholi\\b|\\bChinchina\\b|\\bChincha Alta\\b|\\bChinch'on\\b|\\bChinautla\\b|\\bChinatown\\b|\\bChinandega\\b|\\bChimoio\\b|\\bChimichagua\\b|\\bChimbote\\b|\\bChimbas\\b|\\bChimbarongo\\b|\\bChimaltenango\\b|\\bChimala\\b|\\bChilpancingo\\b|\\bChilmari\\b|\\bChillan\\b|\\bChilly\\-Mazarin\\b|\\bChillupar\\b|\\bChillum\\b|\\bChilliwack\\b|\\bChillicothe\\b|\\bChililabombwe\\b|\\bChilibre\\b|\\bChilecito\\b|\\bChilaw\\b|\\bChilapa de Alvarez\\b|\\bChilakalurupet\\b|\\bChikushino\\-shi\\b|\\bChikodi\\b|\\bChiknayakanhalli\\b|\\bChikmagalur\\b|\\bChikhli\\b|\\bChik Ballapur\\b|\\bChihuahua\\b|\\bChiguayante\\b|\\bChigorodo\\b|\\bChignahuapan\\b|\\bChigasaki\\b|\\bChiffa\\b|\\bChifeng\\b|\\bChieti\\b|\\bChieri\\b|\\bChidawa\\b|\\bChidambaram\\b|\\bChicureo Abajo\\b|\\bChicopee\\b|\\bChiconcuac\\b|\\bChicoloapan\\b|\\bChico\\b|\\bChiclayo\\b|\\bChiclana de la Frontera\\b|\\bChickasha\\b|\\bChichen\\-Itza\\b|\\bChicholi\\b|\\bChichigalpa\\b|\\bChichicastenango\\b|\\bChichibu\\b|\\bChichester\\b|\\bChichawatni\\b|\\bChicago Loop\\b|\\bChicago Lawn\\b|\\bChicago Heights\\b|\\bChicago\\b|\\bChicacao\\b|\\bChibuto\\b|\\bChiba\\b|\\bChiavari\\b|\\bChiari\\b|\\bChiapa de Corzo\\b|\\bChiang Rai\\b|\\bChiang Mai\\b|\\bChiaiano\\b|\\bChiaia\\b|\\bChhatapur\\b|\\bChhatak\\b|\\bChhata\\b|\\bChhapar\\b|\\bChhagalnaiya\\b|\\bChhoti Sadri\\b|\\bChhota Udepur\\b|\\bChhor\\b|\\bChhindwara\\b|\\bChhibramau\\b|\\bChhatarpur\\b|\\bChharra\\b|\\bChhaprauli\\b|\\bChhala\\b|\\bChhabra\\b|\\bChelmza\\b|\\bChelmno\\b|\\bChelm\\b|\\bCheyyar\\b|\\bCheyenne\\b|\\bChevilly\\-Larue\\b|\\bChetwayi\\b|\\bChetumal\\b|\\bChettipalaiyam\\b|\\bChetput\\b|\\bChetouane\\b|\\bChesterfield\\b|\\bChesterfield\\b|\\bChester\\-le\\-Street\\b|\\bChester\\b|\\bChester\\b|\\bChester\\b|\\bChessington\\b|\\bCheshunt\\b|\\bCheshire\\b|\\bChesham\\b|\\bChesapeake\\b|\\bCheremushki\\b|\\bChervonopartyzans'k\\b|\\bChervonohrad\\b|\\bCherthala\\b|\\bChertanovo Yuzhnoye\\b|\\bCherrybrook\\b|\\bCherry Hill\\b|\\bCherry Hill\\b|\\bCherpulassery\\b|\\bChernyanka\\b|\\bChernyakhovsk\\b|\\bChernushka\\b|\\bChernogorsk\\b|\\bChernogolovka\\b|\\bChernivtsi\\b|\\bChernihiv\\b|\\bChernaya Rechka\\b|\\bCherkessk\\b|\\bCherkasy\\b|\\bCheria\\b|\\bCherepovets\\b|\\bCherepanovo\\b|\\bCheremkhovo\\b|\\bCherbourg\\-Octeville\\b|\\bCheraga\\b|\\bChepen\\b|\\bChepstow\\b|\\bCheongsong gun\\b|\\bCheongju\\-si\\b|\\bCheonan\\b|\\bChenaran\\b|\\bChenove\\b|\\bChenzhou\\b|\\bChennimalai\\b|\\bChennevieres\\-sur\\-Marne\\b|\\bChennai\\b|\\bChengzihe\\b|\\bChengzhong\\b|\\bChengyang\\b|\\bChengtangcun\\b|\\bChenghua\\b|\\bChengdu\\b|\\bChengde\\b|\\bChengannur\\b|\\bChengam\\b|\\bChenab Nagar\\b|\\bChemnitz\\b|\\bChemmumiahpet\\b|\\bChemini\\b|\\bChelyabinsk\\b|\\bCheltenham\\b|\\bCheltenham\\b|\\bChelsea\\b|\\bChelsea\\b|\\bChelmsford\\b|\\bChelmsford\\b|\\bChelles\\b|\\bChelghoum el Aid\\b|\\bChelak\\b|\\bChekhov\\b|\\bChegutu\\b|\\bChegem\\b|\\bChefchaouene\\b|\\bCheektowaga\\b|\\bCheboksary\\b|\\bChebli\\b|\\bChebba\\b|\\bChebarkul'\\b|\\bCheb\\b|\\bCheadle Hulme\\b|\\bChaidari\\b|\\bChaykovskiy\\b|\\bChawinda\\b|\\bChaville\\b|\\bChaves\\b|\\bChaupimarca\\b|\\bChaumont\\b|\\bChauk\\b|\\bChaudfontaine\\b|\\bChattanooga\\b|\\bChatsworth\\b|\\bChatswood\\b|\\bChatra\\b|\\bChatrapur\\b|\\bChatou\\b|\\bChato\\b|\\bChatham\\b|\\bChatham\\b|\\bChatham\\b|\\bChatan\\b|\\bChasse Royale\\b|\\bChaska\\b|\\bChartres\\b|\\bCharthawal\\b|\\bCharsadda\\b|\\bCharqueadas\\b|\\bCharneca de Caparica\\b|\\bCharlottetown\\b|\\bCharlottesville\\b|\\bCharlottenlund\\b|\\bCharlottenburg\\-Nord\\b|\\bCharlottenburg\\b|\\bCharlotte Amalie\\b|\\bCharlotte\\b|\\bCharleville\\-Mezieres\\b|\\bCharleston\\b|\\bCharleston\\b|\\bCharleston\\b|\\bCharleroi\\b|\\bCharkhari\\b|\\bCharkhi Dadri\\b|\\bCharikar\\b|\\bCharenton\\-le\\-Pont\\b|\\bCharef\\b|\\bChardara\\b|\\bCharata\\b|\\bCharallave\\b|\\bChar Bhadrasan\\b|\\bChapeltown\\b|\\bChapel Hill\\b|\\bChapel Allerton\\b|\\bChapeco\\b|\\bChapayevsk\\b|\\bChaparral\\b|\\bChapala\\b|\\bChapadinha\\b|\\bChaozhou\\b|\\bChaoyang\\b|\\bChaoyang\\b|\\bChaohu\\b|\\bChantilly\\b|\\bChanthaburi\\b|\\bChannelview\\b|\\bChannarayapatna\\b|\\bChannapatna\\b|\\bChannagiri\\b|\\bChania\\b|\\bChanika\\b|\\bChanhassen\\b|\\bChangzhou\\b|\\bChangzhi\\b|\\bChangyon\\b|\\bChangwon\\b|\\bChanguinola\\b|\\bChangtu\\b|\\bChangsu\\b|\\bChangshu City\\b|\\bChangsha\\b|\\bChangqing\\b|\\bChangping\\b|\\bChangnyeong\\b|\\bChangling\\b|\\bChangli\\b|\\bChangleng\\b|\\bChangji\\b|\\bChangde\\b|\\bChangchun\\b|\\bChanganacheri\\b|\\bChanduasi\\b|\\bChandrakona\\b|\\bChandler\\b|\\bChandigarh\\b|\\bChanderi\\b|\\bChandauli\\b|\\bChandannagar\\b|\\bChancay\\b|\\bChamrajnagar\\b|\\bChamps\\-sur\\-Marne\\b|\\bChampoton\\b|\\bChamplin\\b|\\bChampigny\\-sur\\-Marne\\b|\\bChampaign\\b|\\bChambery\\b|\\bChambly\\b|\\bChamblee\\b|\\bChamberi\\b|\\bChambersburg\\b|\\bChambas\\b|\\bChamba\\b|\\bChamartin\\b|\\bChaman\\b|\\bChamalieres\\b|\\bCham\\b|\\bChalala\\b|\\bChalon\\-sur\\-Saone\\b|\\bChalmette\\b|\\bChallapalle\\b|\\bChallans\\b|\\bChallakere\\b|\\bChalkida\\b|\\bChalinze\\b|\\bChalfont Saint Peter\\b|\\bChalco\\b|\\bChalchuapa\\b|\\bChalatenango\\b|\\bChala\\b|\\bChakwal\\b|\\bChaksu\\b|\\bChakradharpur\\b|\\bChaklasi\\b|\\bChake Chake\\b|\\bChakapara\\b|\\bChak Two Hundred Forty\\-nine Thal Development Authority\\b|\\bChak Thirty\\-one \\-Eleven Left\\b|\\bChak One Hundred Twenty Nine Left\\b|\\bChak Jhumra\\b|\\bChak Five Hundred Seventy\\-five\\b|\\bChak Azam Sahu\\b|\\bChajari\\b|\\bChaiyaphum\\b|\\bChaihe\\b|\\bChai Nat\\b|\\bChai Badan\\b|\\bChaguanas\\b|\\bChaeryong\\-up\\b|\\bChachoengsao\\b|\\bChachapoyas\\b|\\bChacarita\\b|\\bChacao\\b|\\bChacabuco\\b|\\bChabet el Ameur\\b|\\bChabahar\\b|\\bCha\\-am\\b|\\bCeylanpinar\\b|\\bCeyhan\\b|\\bCeuta\\b|\\bCetinje\\b|\\bCestas\\b|\\bCesson\\-Sevigne\\b|\\bCessnock\\b|\\bCesenatico\\b|\\bCesena\\b|\\bCesano Maderno\\b|\\bCesano Boscone\\b|\\bCervia\\b|\\bCerveteri\\b|\\bCerro de Pasco\\b|\\bCerro Azul\\b|\\bCerro\\b|\\bCerritos\\b|\\bCerquilho\\b|\\bCernusco sul Naviglio\\b|\\bCernavoda\\b|\\bCerignola\\b|\\bCergy\\-Pontoise\\b|\\bCergy\\b|\\bCerete\\b|\\bCeres\\b|\\bCeres\\b|\\bCeres\\b|\\bCerdanyola del Valles\\b|\\bCercola\\b|\\bCepu\\b|\\bCeper\\b|\\bCenturion\\b|\\bCentro Habana\\b|\\bCentro Familiar la Soledad\\b|\\bCentreville\\b|\\bCentre de Flacq\\b|\\bCentralniy\\b|\\bCentralia\\b|\\bCentral Point\\b|\\bCentral Islip\\b|\\bCentral Falls\\b|\\bCentral City\\b|\\bCentral\\b|\\bCento\\b|\\bCenterville\\b|\\bCenterville\\b|\\bCentereach\\b|\\bCenter Point\\b|\\bCenter City\\b|\\bCentennial\\b|\\bCentenario\\b|\\bCentar Zupa\\b|\\bCentar\\b|\\bCenon\\b|\\bCelso Ramos\\b|\\bCelle\\b|\\bCelje\\b|\\bCelbridge\\b|\\bCelaya\\b|\\bCehegin\\b|\\bCegled\\b|\\bCeglie Messapica\\b|\\bCeerigaabo\\b|\\bCeeldheer\\b|\\bCedar Rapids\\b|\\bCedar Park\\b|\\bCedar Hill\\b|\\bCedar Falls\\b|\\bCedar City\\b|\\bCecina\\b|\\bCebu City\\b|\\bCeara Mirim\\b|\\bCeadir\\-Lunga\\b|\\bCanon City\\b|\\bCanete\\b|\\bCanas\\b|\\bCanada de Gomez\\b|\\bCacapava do Sul\\b|\\bCacapava\\b|\\bCacador\\b|\\bCaala\\b|\\bCazin\\b|\\bCayey\\b|\\bCayenne\\b|\\bCayambe\\b|\\bCaxito\\b|\\bCaxias do Sul\\b|\\bCaxias\\b|\\bCaxambu\\b|\\bCavite City\\b|\\bCave Spring\\b|\\bCavaillon\\b|\\bCava De Tirreni\\b|\\bCauto Cristo\\b|\\bCauquenes\\b|\\bCaucete\\b|\\bCaucasia\\b|\\bCaucaia\\b|\\bCaucaguito\\b|\\bCaucaguita\\b|\\bCatumbela\\b|\\bCatu\\b|\\bCattolica\\b|\\bCatriel\\b|\\bCatonsville\\b|\\bCatole do Rocha\\b|\\bCativa\\b|\\bCatia La Mar\\b|\\bCathedral City\\b|\\bCaterham\\b|\\bCatende\\b|\\bCatemaco\\b|\\bCatbalogan\\b|\\bCatano\\b|\\bCatarroja\\b|\\bCatarman\\b|\\bCatanzaro\\b|\\bCatania\\b|\\bCatanduva\\b|\\bCatanauan\\b|\\bCatamayo\\b|\\bCatalao\\b|\\bCatalina Foothills\\b|\\bCataguases\\b|\\bCatacaos\\b|\\bCatabola\\b|\\bCasula\\b|\\bCastrovillari\\b|\\bCastrop\\-Rauxel\\b|\\bCastro\\-Urdiales\\b|\\bCastro Valley\\b|\\bCastro\\b|\\bCastro\\b|\\bCastries\\b|\\bCastricum\\b|\\bCastres\\b|\\bCastlewood\\b|\\bCastlereagh\\b|\\bCastleford\\b|\\bCastle Rock\\b|\\bCastle Hill\\b|\\bCastillejos\\b|\\bCastilleja de la Cuesta\\b|\\bCastiglione delle Stiviere\\b|\\bCastelvetrano\\b|\\bCastelo Branco\\b|\\bCastelo\\b|\\bCastelnau\\-le\\-Lez\\b|\\bCastello de la Plana\\b|\\bCastelli\\b|\\bCastelldefels\\b|\\bCastellar del Valles\\b|\\bCastellammare di Stabia\\b|\\bCastelfranco Veneto\\b|\\bCastelfranco Emilia\\b|\\bCastel Volturno\\b|\\bCastel Maggiore\\b|\\bCastanos\\b|\\bCastanhal\\b|\\bCastaic\\b|\\bCassino\\b|\\bCassilandia\\b|\\bCasselberry\\b|\\bCassano d'Adda\\b|\\bCassano Magnago\\b|\\bCasper\\b|\\bCasoria\\b|\\bCasimiro de Abreu\\b|\\bCasilda\\b|\\bCaserta\\b|\\bCascina\\b|\\bCascavel\\b|\\bCascavel\\b|\\bCascais\\b|\\bCasavatore\\b|\\bCasas Adobes\\b|\\bCasarano\\b|\\bCasamassima\\b|\\bCasalnuovo di Napoli\\b|\\bCasalecchio di Reno\\b|\\bCasale Monferrato\\b|\\bCasal di Principe\\b|\\bCasal Palocco\\b|\\bCasablanca\\b|\\bCasa de Oro\\-Mount Helix\\b|\\bCasa Santa\\b|\\bCasa Grande\\b|\\bCasa Branca\\b|\\bCasa Blanca\\b|\\bCarupano\\b|\\bCary\\b|\\bCary\\b|\\bCarvin\\b|\\bCaruaru\\b|\\bCarthage\\b|\\bCarterton\\b|\\bCartersville\\b|\\bCarteret\\b|\\bCartaya\\b|\\bCartago\\b|\\bCartago\\b|\\bCartagena\\b|\\bCartagena\\b|\\bCartagena\\b|\\bCarson City\\b|\\bCarson\\b|\\bCarshalton\\b|\\bCarrum Downs\\b|\\bCarrollwood Village\\b|\\bCarrollwood\\b|\\bCarrollton\\b|\\bCarrollton\\b|\\bCarrieres\\-sous\\-Poissy\\b|\\bCarrizal\\b|\\bCarrizal\\b|\\bCarrickfergus\\b|\\bCarrefour\\b|\\bCarrboro\\b|\\bCarrara\\b|\\bCarquefou\\b|\\bCarpina\\b|\\bCarpi Centro\\b|\\bCarpentras\\b|\\bCarpentersville\\b|\\bCarouge\\b|\\bCarora\\b|\\bCaronno Pertusella\\b|\\bCaroline Springs\\b|\\bCarolina\\b|\\bCarolina\\b|\\bCarol Stream\\b|\\bCarol City\\b|\\bCarnot\\b|\\bCarney\\b|\\bCarnegie\\b|\\bCarnaxide\\b|\\bCarmona\\b|\\bCarmona\\b|\\bCarmo do Paranaiba\\b|\\bCarmo do Cajuru\\b|\\bCarmichael\\b|\\bCarmen de Viboral\\b|\\bCarmelo\\b|\\bCarmel\\b|\\bCarmarthen\\b|\\bCarmagnola\\b|\\bCarlton\\b|\\bCarlsbad\\b|\\bCarlsbad\\b|\\bCarlow\\b|\\bCarlos Barbosa\\b|\\bCarlos A\\. Carrillo\\b|\\bCarlisle\\b|\\bCarlisle\\b|\\bCarlingford\\b|\\bCarletonville\\b|\\bCarlet\\b|\\bCarini\\b|\\bCaringin\\b|\\bCarindale\\b|\\bCarigara\\b|\\bCariamanga\\b|\\bCarepa\\b|\\bCarei\\b|\\bCardona\\b|\\bCardito\\b|\\bCardiff\\b|\\bCardedeu\\b|\\bCarcavelos\\b|\\bCarcassonne\\b|\\bCarcarana\\b|\\bCarcar\\b|\\bCarcaixent\\b|\\bCarbonia\\b|\\bCarbondale\\b|\\bCarballo\\b|\\bCarazinho\\b|\\bCaravaca\\b|\\bCarauari\\b|\\bCaratinga\\b|\\bCarate Brianza\\b|\\bCarapicuiba\\b|\\bCaransebes\\b|\\bCarangola\\b|\\bCarandai\\b|\\bCaraguatatuba\\b|\\bCaracas\\b|\\bCaracal\\b|\\bCarabanchel\\b|\\bCaraballeda\\b|\\bCapao da Canoa\\b|\\bCapao Bonito\\b|\\bCapulhuac de Mirafuentes\\b|\\bCapua\\b|\\bCapivari\\b|\\bCapitao Poco\\b|\\bCapitan Bermudez\\b|\\bCapinzal\\b|\\bCapim Grosso\\b|\\bCapiata\\b|\\bCapesterre\\-Belle\\-Eau\\b|\\bCapelle aan den IJssel\\b|\\bCapelinha\\b|\\bCapela\\b|\\bCape Town\\b|\\bCape Girardeau\\b|\\bCape Coral\\b|\\bCape Coast\\b|\\bCapas\\b|\\bCaparica\\b|\\bCapannori\\b|\\bCapanema\\b|\\bCapalaba\\b|\\bCaohe\\b|\\bCao Lanh\\b|\\bCao Bang\\b|\\bCanyon Lake\\b|\\bCanvey Island\\b|\\bCantu\\b|\\bCantonment\\b|\\bCanton\\b|\\bCanton\\b|\\bCanton\\b|\\bCanton\\b|\\bCanterbury\\b|\\bCanteleu\\b|\\bCantel\\b|\\bCantaura\\b|\\bCanovelles\\b|\\bCanosa di Puglia\\b|\\bCanoinhas\\b|\\bCanoga Park\\b|\\bCanoas\\b|\\bCannock\\b|\\bCanning Vale\\b|\\bCanning\\b|\\bCannes\\b|\\bCanlaon\\b|\\bCanico\\b|\\bCaninde\\b|\\bCanidelo\\b|\\bCanicatti\\b|\\bCangzhou\\b|\\bCangucu\\b|\\bCanguaretama\\b|\\bCangas do Morrazo\\b|\\bCanelones\\b|\\bCanela\\b|\\bCandler\\-McAfee\\b|\\bCandiac\\b|\\bCandi Prambanan\\b|\\bCandelaria\\b|\\bCandelaria\\b|\\bCandelaria\\b|\\bCandelaria\\b|\\bCandelaria\\b|\\bCandaba\\b|\\bCancun\\b|\\bCanby\\b|\\bCanberra\\b|\\bCanavieiras\\b|\\bCanary Wharf\\b|\\bCanarsie\\b|\\bCananea\\b|\\bCamrose\\b|\\bCampsie\\b|\\bCampos dos Goytacazes\\b|\\bCampos do Jordao\\b|\\bCampos Sales\\b|\\bCampos Novos\\b|\\bCampos Gerais\\b|\\bCampos Belos\\b|\\bCampobasso\\b|\\bCampoalegre\\b|\\bCampo de la Cruz\\b|\\bCampo de Criptana\\b|\\bCampo Verde\\b|\\bCampo Mourao\\b|\\bCampo Maior\\b|\\bCampo Largo\\b|\\bCampo Grande\\b|\\bCampo Formoso\\b|\\bCampo Belo\\b|\\bCampo Alegre\\b|\\bCampina\\b|\\bCampinas\\b|\\bCampinas\\b|\\bCampina Grande do Sul\\b|\\bCampina Grande\\b|\\bCampi Bisenzio\\b|\\bCampechuela\\b|\\bCampeche\\b|\\bCampbell River\\b|\\bCampbell\\b|\\bCampana\\b|\\bCamp Springs\\b|\\bCamocim\\b|\\bCamoapa\\b|\\bCamiri\\b|\\bCamiling\\b|\\bCameta\\b|\\bCameron Park\\b|\\bCamden Town\\b|\\bCamden\\b|\\bCambe\\b|\\bCambui\\b|\\bCambuslang\\b|\\bCambrils\\b|\\bCambridge\\b|\\bCambridge\\b|\\bCambridge\\b|\\bCambridge\\b|\\bCambria Heights\\b|\\bCambre\\b|\\bCambrai\\b|\\bCamborne\\b|\\bCamberwell\\b|\\bCamberley\\b|\\bCambebba\\b|\\bCambara\\b|\\bCamacari\\b|\\bCamayenne\\b|\\bCamas\\b|\\bCamas\\b|\\bCamarillo\\b|\\bCamargo\\b|\\bCamargo\\b|\\bCamarate\\b|\\bCamaqua\\b|\\bCamana\\b|\\bCamanducaia\\b|\\bCamajuani\\b|\\bCamaiore\\b|\\bCamaguey\\b|\\bCamacupa\\b|\\bCam Ranh\\b|\\bCalw\\b|\\bCalvia\\b|\\bCalvillo\\b|\\bCalverton\\b|\\bCalumpit\\b|\\bCalumpang\\b|\\bCalumet City\\b|\\bCaluire\\-et\\-Cuire\\b|\\bCaltanissetta\\b|\\bCaltagirone\\b|\\bCalpulalpan\\b|\\bCalp\\b|\\bCaloocan City\\b|\\bCalne\\b|\\bCallosa de Segura\\b|\\bCalle Blancos\\b|\\bCallao\\b|\\bCalimete\\b|\\bCali\\b|\\bCalhoun\\b|\\bCalgary\\b|\\bCalexico\\b|\\bCaleta Olivia\\b|\\bCalella\\b|\\bCaledonia\\b|\\bCaldwell\\b|\\bCaldes de Montbui\\b|\\bCaldas da Rainha\\b|\\bCaldas Novas\\b|\\bCaldas\\b|\\bCalceta\\b|\\bCalbayog City\\b|\\bCalauan\\b|\\bCalauag\\b|\\bCalatayud\\b|\\bCalatagan\\b|\\bCalasiao\\b|\\bCalarca\\b|\\bCalapan\\b|\\bCalangute\\b|\\bCalamvale\\b|\\bCalamba\\b|\\bCalama\\b|\\bCalais\\b|\\bCalahorra\\b|\\bCalafell\\b|\\bCalafat\\b|\\bCalaca\\b|\\bCalabozo\\b|\\bCalabasas\\b|\\bCalabar\\b|\\bCalabanga\\b|\\bCajuru\\b|\\bCajueiro\\b|\\bCajica\\b|\\bCajazeiras\\b|\\bCajati\\b|\\bCajamarca\\b|\\bCajamar\\b|\\bCaivano\\b|\\bCairo\\b|\\bCairns\\b|\\bCainta\\b|\\bCaieiras\\b|\\bCaidian\\b|\\bCaico\\b|\\bCaicedonia\\b|\\bCaibarien\\b|\\bCahul\\b|\\bCahors\\b|\\bCaguas\\b|\\bCagua\\b|\\bCagnes\\-sur\\-Mer\\b|\\bCagliari\\b|\\bCagayan de Oro\\b|\\bCaete\\b|\\bCaetite\\b|\\bCaerphilly\\b|\\bCaen\\b|\\bCadiz\\b|\\bCadiz\\b|\\bCadereyta Jimenez\\b|\\bCadereyta\\b|\\bCacem\\b|\\bCacocum\\b|\\bCacoal\\b|\\bCachoeiro de Itapemirim\\b|\\bCachoeirinha\\b|\\bCachoeiras de Macacu\\b|\\bCachoeira do Sul\\b|\\bCachoeira\\b|\\bCachan\\b|\\bCacahoatan\\b|\\bCabuyao\\b|\\bCabrobo\\b|\\bCabreuva\\b|\\bCabrero\\b|\\bCabramatta\\b|\\bCabra\\b|\\bCabot\\b|\\bCaboolture\\b|\\bCabo San Lucas\\b|\\bCabo Frio\\b|\\bCabo\\b|\\bCabinda\\b|\\bCabimas\\b|\\bCabiao\\b|\\bCabedelo\\b|\\bCabeceiras de Basto\\b|\\bCabayangan\\b|\\bCabanatuan City\\b|\\bCabaiguan\\b|\\bCabagan\\b|\\bCabadbaran\\b|\\bCaazapa\\b|\\bCaaguazu\\b|\\bCaacupe\\b|\\bBim Son\\b|\\bBen Tre\\b|\\bBac Ninh\\b|\\bBac Kan\\b|\\bBac Giang\\b|\\bBao Loc\\b|\\bBac Lieu\\b|\\bBush\\b|\\bBurewala\\b|\\bBundu\\b|\\bBundi\\b|\\bBukan\\b|\\bBreclav\\b|\\bBisalpur\\b|\\bBirpur\\b|\\bBirjand\\b|\\bBilaspur\\b|\\bBikaner\\b|\\bBijar\\b|\\bBidar\\b|\\bBedzin\\b|\\bBalti\\b|\\bBailesti\\b|\\bBaicoi\\b|\\bBazarak\\b|\\bBazpur\\b|\\bBasudebpur\\b|\\bBasoda\\b|\\bBarasat\\b|\\bBarasat\\b|\\bBaran\\b|\\bBaramati\\b|\\bBarakpur\\b|\\bBaruni\\b|\\bBaruipur\\b|\\bBarsi\\b|\\bBarmer\\b|\\bBari\\b|\\bBarh\\b|\\bBardoli\\b|\\bBaramula\\b|\\bBarah\\b|\\bBapatla\\b|\\bBantva\\b|\\bBanswara\\b|\\bBanswada\\b|\\bBansi\\b|\\bBansdih\\b|\\bBansbaria\\b|\\bBankura\\b|\\bBanki\\b|\\bBanka\\b|\\bBaniyas\\b|\\bBangarmau\\b|\\bBaneh\\b|\\bBandikui\\b|\\bBandarban\\b|\\bBanda\\b|\\bBanapur\\b|\\bBamyan\\b|\\bBamor Kalan\\b|\\bBalapur\\b|\\bBalaghat\\b|\\bBalachor\\b|\\bBalurghat\\b|\\bBalugaon\\b|\\bBalotra\\b|\\bBali\\b|\\bBali\\b|\\bBajitpur\\b|\\bBajil\\b|\\bBah\\b|\\bBaglung\\b|\\bBaghpat\\b|\\bBagha Purana\\b|\\bBagepalli\\b|\\bBafq\\b|\\bBadami\\b|\\bBabra\\b|\\bBabolsar\\b|\\bBabol\\b|\\bBabai\\b|\\bBuyukcekmece\\b|\\bBurstadt\\b|\\bBuren\\b|\\bBunde\\b|\\bBuhl\\b|\\bBudingen\\b|\\bBuckeburg\\b|\\bBonen\\b|\\bBoblingen\\b|\\bBilina Kyselka\\b|\\bBilina\\b|\\bBeziers\\b|\\bBethune\\b|\\bBetera\\b|\\bBeoumi\\b|\\bBelabo\\b|\\bBekescsaba\\b|\\bBekes\\b|\\bBejar\\b|\\bBeja\\b|\\bBechar\\b|\\bBegles\\b|\\bBarlad\\b|\\bBanovce nad Bebravou\\b|\\bByadgi\\b|\\bByumba\\b|\\bBytow\\b|\\bBytom\\b|\\bByndoor\\b|\\bBykhaw\\b|\\bBydgoszcz\\b|\\bByaroza\\b|\\bBwizibwera\\b|\\bBuon Ma Thuot\\b|\\bBuique\\b|\\bBuzau\\b|\\bBuzuluk\\b|\\bBuzovna\\b|\\bBuzen\\b|\\bBuynaksk\\b|\\bBuyeo\\b|\\bBuy\\b|\\bBuxton\\b|\\bBuxtehude\\b|\\bBuxar\\b|\\bBuwenge\\b|\\bBuurhakaba\\b|\\bBuulobarde\\b|\\bButzbach\\b|\\bButwal\\b|\\bButurlinovka\\b|\\bButuan\\b|\\bButterworth\\b|\\bButterworth\\b|\\bButte\\-Silver Bow \\(Balance\\)\\b|\\bButte\\b|\\bButia\\b|\\bButiama\\b|\\bButha\\-Buthe\\b|\\bButembo\\b|\\bButel\\b|\\bButare\\b|\\bButajira\\b|\\bButa\\b|\\bBustos\\b|\\bBusto Arsizio\\b|\\bBussum\\b|\\bBussolengo\\b|\\bBusselton\\b|\\bBusko\\-Zdroj\\b|\\bBusinga\\b|\\bBusia\\b|\\bBusia\\b|\\bBushwick\\b|\\bBushey\\b|\\bBushehr\\b|\\bBuseresere\\b|\\bBusembatia\\b|\\bBusan\\b|\\bBure\\b|\\bBury St Edmunds\\b|\\bBury\\b|\\bBurwood\\b|\\bBurutu\\b|\\bBururi\\b|\\bBurunday\\b|\\bBurton upon Trent\\b|\\bBurton\\b|\\bBurscheid\\b|\\bBursa\\b|\\bBurriana\\b|\\bBurrel\\b|\\bBurntwood\\b|\\bBurnsville\\b|\\bBurnley\\b|\\bBurnie\\b|\\bBurnham\\-on\\-Sea\\b|\\bBurngreave\\b|\\bBurnaby\\b|\\bBurlington\\b|\\bBurlington\\b|\\bBurlington\\b|\\bBurlington\\b|\\bBurlington\\b|\\bBurlington\\b|\\bBurlingame\\b|\\bBurleson\\b|\\bBurlata\\b|\\bBurla\\b|\\bBurke\\b|\\bBurjassot\\b|\\bBuritizeiro\\b|\\bBuritis\\b|\\bBuriti Bravo\\b|\\bBurien\\b|\\bBuri Ram\\b|\\bBuri\\b|\\bBurhanuddin\\b|\\bBurhanpur\\b|\\bBurhar\\b|\\bBurhaniye\\b|\\bBurgos\\b|\\bBurgos\\b|\\bBurglesum\\b|\\bBurghausen\\b|\\bBurgess Hill\\b|\\bBurgdorf\\b|\\bBurgas\\b|\\bBurg bei Magdeburg\\b|\\bBurg Unter\\-Falkenstein\\b|\\bBurdur\\b|\\bBurbank\\b|\\bBurbank\\b|\\bBuraydah\\b|\\bBurao\\b|\\bBunia\\b|\\bBungu\\b|\\bBungoma\\b|\\bBungo\\-Takada\\-shi\\b|\\bBundoora\\b|\\bBundibugyo\\b|\\bBundaberg\\b|\\bBunda\\b|\\bBunbury\\b|\\bBunawan\\b|\\bBumba\\b|\\bBulung'ur\\b|\\bBulungu\\b|\\bBuluan\\b|\\bBulolo\\b|\\bBullhead City\\b|\\bBulgan\\b|\\bBuldana\\b|\\bBulawayo\\b|\\bBulaon\\b|\\bBulanik\\b|\\bBulandshahr\\b|\\bBulancak\\b|\\bBulan\\b|\\bBulakamba\\b|\\bBulacan\\b|\\bBukuru\\b|\\bBukoba\\b|\\bBukittinggi\\b|\\bBukit Rambai\\b|\\bBukit Mertajam\\b|\\bBukhara\\b|\\bBukavu\\b|\\bBukama\\b|\\bBujumbura\\b|\\bBuinsk\\b|\\bBuin\\b|\\bBuhusi\\b|\\bBuhi\\b|\\bBuhe\\b|\\bBuguruslan\\b|\\bBuguma\\b|\\bBugul'ma\\b|\\bBugojno\\b|\\bBugo\\b|\\bBugiri\\b|\\bBugarama\\b|\\bBuftea\\b|\\bBuffalo Grove\\b|\\bBuffalo\\b|\\bBuffalo\\b|\\bBuerarema\\b|\\bBuenos Aires\\b|\\bBuenavista\\b|\\bBuenavista\\b|\\bBuenaventura Lakes\\b|\\bBuenaventura\\b|\\bBuenaventura\\b|\\bBuena Park\\b|\\bBuea\\b|\\bBudennovsk\\b|\\bBudva\\b|\\bBuduran\\b|\\bBudta\\b|\\bBudhana\\b|\\bBudhlada\\b|\\bBuderim\\b|\\bBuddh Gaya\\b|\\bBudaors\\b|\\bBudaun\\b|\\bBudapest XXIII\\. kerulet\\b|\\bBudapest XXII\\. kerulet\\b|\\bBudapest XXI\\. kerulet\\b|\\bBudapest XX\\. kerulet\\b|\\bBudapest XVIII\\. kerulet\\b|\\bBudapest XVII\\. kerulet\\b|\\bBudapest XVI\\. kerulet\\b|\\bBudapest XV\\. kerulet\\b|\\bBudapest XIX\\. kerulet\\b|\\bBudapest XIII\\. kerulet\\b|\\bBudapest XII\\. kerulet\\b|\\bBudapest XI\\. kerulet\\b|\\bBudapest X\\. kerulet\\b|\\bBudapest VIII\\. kerulet\\b|\\bBudapest VI\\. kerulet\\b|\\bBudapest IV\\. kerulet\\b|\\bBudapest III\\. kerulet\\b|\\bBudapest II\\. kerulet\\b|\\bBudapest I\\. kerulet\\b|\\bBudapest\\b|\\bBuckow\\b|\\bBuckley\\b|\\bBuckingham\\b|\\bBuckhall\\b|\\bBuckeye\\b|\\bBuchholz in der Nordheide\\b|\\bBucheon\\-si\\b|\\bBuchen in Odenwald\\b|\\bBucharest\\b|\\bBuchanan\\b|\\bBucha\\b|\\bBucaramanga\\b|\\bBucak\\b|\\bBuaran\\b|\\bBua Yai\\b|\\bBrcko\\b|\\bBraila\\b|\\bBrajarajnagar\\b|\\bBruhl\\b|\\bBruggen\\b|\\bBretigny\\-sur\\-Orge\\b|\\bBrzesko\\b|\\bBrzeg\\b|\\bBryukhovetskaya\\b|\\bBryn Mawr\\-Skyway\\b|\\bBrymbo\\b|\\bBryant\\b|\\bBryansk\\b|\\bBryanka\\b|\\bBryan\\b|\\bBry\\-sur\\-Marne\\b|\\bBrvenica\\b|\\bBrussels\\b|\\bBrusque\\b|\\bBrushy Creek\\b|\\bBrusciano\\b|\\bBruntal\\b|\\bBrunswick\\b|\\bBrunswick\\b|\\bBrunswick\\b|\\bBrunswick\\b|\\bBrunssum\\b|\\bBrunoy\\b|\\bBrummen\\b|\\bBrumado\\b|\\bBrumadinho\\b|\\bBrugherio\\b|\\bBrugge\\b|\\bBruckmuhl\\b|\\bBruchsal\\b|\\bBruchkobel\\b|\\bBruay\\-la\\-Buissiere\\b|\\bBroxburn\\b|\\bBrownwood\\b|\\bBrownsville\\b|\\bBrownsville\\b|\\bBrownsville\\b|\\bBrownsburg\\b|\\bBrownhills\\b|\\bBrovary\\b|\\bBrough\\b|\\bBrotas\\b|\\bBrossard\\b|\\bBroomfield\\b|\\bBrooklyn Park\\b|\\bBrooklyn Heights\\b|\\bBrooklyn Center\\b|\\bBrooklyn\\b|\\bBrookline\\b|\\bBrookings\\b|\\bBrookhaven\\b|\\bBrookfield\\b|\\bBrookfield\\b|\\bBrook Park\\b|\\bBronte\\b|\\bBronnitsy\\b|\\bBronkhorstspruit\\b|\\bBron\\b|\\bBromsgrove\\b|\\bBromma\\b|\\bBroken Hill\\b|\\bBroken Arrow\\b|\\bBrodosqui\\b|\\bBrody\\b|\\bBrodnica\\b|\\bBrockville\\b|\\bBrockton\\b|\\bBroadview Heights\\b|\\bBroadstairs\\b|\\bBroad Ripple\\b|\\bBrno\\b|\\bBrixton\\b|\\bBrixham\\b|\\bBrive\\-la\\-Gaillarde\\b|\\bBritz\\b|\\bBrits\\b|\\bBriton Ferry\\b|\\bBristol\\b|\\bBristol\\b|\\bBristol\\b|\\bBristol\\b|\\bBristol\\b|\\bBrisbane\\b|\\bBrindisi\\b|\\bBrilon\\b|\\bBrikama\\b|\\bBrignoles\\b|\\bBrighton Park\\b|\\bBrighton East\\b|\\bBrighton Beach\\b|\\bBrighton\\b|\\bBrighton\\b|\\bBrighton\\b|\\bBrighton\\b|\\bBrighouse\\b|\\bBrigham City\\b|\\bBrierley Hill\\b|\\bBrie\\-Comte\\-Robert\\b|\\bBridlington\\b|\\bBridgwater\\b|\\bBridgewater\\b|\\bBridgeview\\b|\\bBridgetown\\b|\\bBridgeton\\b|\\bBridgeport\\b|\\bBridgeport\\b|\\bBridgend\\b|\\bBriarwood\\b|\\bBria\\b|\\bBrezno\\b|\\bBrezina\\b|\\bBreves\\b|\\bBretten\\b|\\bBrest\\b|\\bBrest\\b|\\bBressuire\\b|\\bBresso\\b|\\bBressanone\\b|\\bBrescia\\b|\\bBrentwood Estates\\b|\\bBrentwood\\b|\\bBrentwood\\b|\\bBrentwood\\b|\\bBrentwood\\b|\\bBrent\\b|\\bBrent\\b|\\bBrenham\\b|\\bBremervorde\\b|\\bBremerton\\b|\\bBremerhaven\\b|\\bBremen\\b|\\bBrejo da Madre de Deus\\b|\\bBrejo Santo\\b|\\bBregenz\\b|\\bBredbury\\b|\\bBreda\\b|\\bBrecht\\b|\\bBreaza\\b|\\bBrea\\b|\\bBrasov\\b|\\bBraco do Norte\\b|\\bBrazzaville\\b|\\bBrawley\\b|\\bBraunschweig\\b|\\bBratsk\\b|\\bBratislava\\b|\\bBrateyevo\\b|\\bBrasilia\\b|\\bBrasschaat\\b|\\bBranik\\b|\\bBrantford\\b|\\bBrant\\b|\\bBraniewo\\b|\\bBranford\\b|\\bBrandys nad Labem\\-Stara Boleslav\\b|\\bBrandon\\b|\\bBrandon\\b|\\bBrandon\\b|\\bBrandenburg an der Havel\\b|\\bBramsche\\b|\\bBrampton\\b|\\bBramhall\\b|\\bBrakpan\\b|\\bBrakel\\b|\\bBrake \\(Unterweser\\)\\b|\\bBrak\\b|\\bBraintree\\b|\\bBraintree\\b|\\bBraine\\-le\\-Comte\\b|\\bBraine\\-l'Alleud\\b|\\bBrahmapur\\b|\\bBraganca Paulista\\b|\\bBraganca\\b|\\bBraganca\\b|\\bBraga\\b|\\bBradley\\b|\\bBradford\\b|\\bBrades\\b|\\bBradenton\\b|\\bBrad\\b|\\bBracknell\\b|\\bBrackenheim\\b|\\bBracken Ridge\\b|\\bBra\\b|\\bBo'ka\\b|\\bBou Arfa\\b|\\bBozuyuk\\b|\\bBozyazi\\b|\\bBozova\\b|\\bBozoum\\b|\\bBozhou\\b|\\bBozeman\\b|\\bBoysun\\b|\\bBoyolangu\\b|\\bBoyolali\\b|\\bBoynton Beach\\b|\\bBoyle Heights\\b|\\bBoyeros\\b|\\bBoyarka\\b|\\bBoyabat\\b|\\bBoxtel\\b|\\bBowthorpe\\b|\\bBowling Green\\b|\\bBowling Green\\b|\\bBowie\\b|\\bBovisio\\-Masciago\\b|\\bBouira\\b|\\bBouznika\\b|\\bBousse\\b|\\bBoussu\\b|\\bBournemouth\\b|\\bBourgoin\\-Jallieu\\b|\\bBourges\\b|\\bBourg\\-les\\-Valence\\b|\\bBourg\\-la\\-Reine\\b|\\bBourg\\-en\\-Bresse\\b|\\bBourbonnais\\b|\\bBountiful\\b|\\bBoundiali\\b|\\bBouna\\b|\\bBoumerdas\\b|\\bBoumahra Ahmed\\b|\\bBoulsa\\b|\\bBoulogne\\-sur\\-Mer\\b|\\bBoulogne\\-Billancourt\\b|\\bBoulder City\\b|\\bBoulder\\b|\\bBoukadir\\b|\\bBoujniba\\b|\\bBouinan\\b|\\bBouguenais\\b|\\bBougouni\\b|\\bBougara\\b|\\bBougado\\b|\\bBougaa\\b|\\bBoufarik\\b|\\bBoudouaou\\b|\\bBoudjima\\b|\\bBoucherville\\b|\\bBouarfa\\b|\\bBouar\\b|\\bBouake\\b|\\bBouafle\\b|\\bBou Tlelis\\b|\\bBou Ismail\\b|\\bBou Hanifia el Hamamat\\b|\\bBotad\\b|\\bBotucatu\\b|\\bBottrop\\b|\\bBotshabelo\\b|\\bBotosani\\b|\\bBotou\\b|\\bBotolan\\b|\\bBothell West\\b|\\bBothell\\b|\\bBothaville\\b|\\bBotevgrad\\b|\\bBostonia\\b|\\bBoston\\b|\\bBoston\\b|\\bBossier City\\b|\\bBossangoa\\b|\\bBoskoop\\b|\\bBoshkengash\\b|\\bBoshan\\b|\\bBoscoreale\\b|\\bBosaso\\b|\\bBosanska Krupa\\b|\\bBorujerd\\b|\\bBorujen\\b|\\bBorsa\\b|\\bBorazjan\\b|\\bBoras\\b|\\bBorzya\\b|\\bBoryspil'\\b|\\bBoryslav\\b|\\bBoryeong\\b|\\bBorssele\\b|\\bBorsad\\b|\\bBorovskiy\\b|\\bBorovichi\\b|\\bBorough Park\\b|\\bBoroon\\b|\\bBoronia\\b|\\bBorongan\\b|\\bBorodino\\b|\\bBornheim\\b|\\bBornem\\b|\\bBorne\\b|\\bBorna\\b|\\bBormujos\\b|\\bBorlange\\b|\\bBorken\\b|\\bBorivli\\b|\\bBorisoglebsk\\b|\\bBorgomanero\\b|\\bBorehamwood\\b|\\bBordon\\b|\\bBordj el Kiffan\\b|\\bBordj Zemoura\\b|\\bBordj Ghdir\\b|\\bBordj Bou Arreridj\\b|\\bBordeaux\\b|\\bBor\\b|\\bBor\\b|\\bBor\\b|\\bBor\\b|\\bBoppard\\b|\\bBootle\\b|\\bBoone\\b|\\bBoom\\b|\\bBoo\\b|\\bBonab\\b|\\bBontang\\b|\\bBonoua\\b|\\bBonnyrigg\\b|\\bBonny\\b|\\bBonney Lake\\b|\\bBonneuil\\-sur\\-Marne\\b|\\bBonn\\b|\\bBonita Springs\\b|\\bBongouanou\\b|\\bBongor\\b|\\bBongao\\b|\\bBongaigaon\\b|\\bBongabon\\b|\\bBonga\\b|\\bBondy\\b|\\bBondowoso\\b|\\bBondoukou\\b|\\bBondo\\b|\\bBonao\\b|\\bBon Air\\b|\\bBoma\\b|\\bBom Jesus do Itabapoana\\b|\\bBom Jesus da Lapa\\b|\\bBom Despacho\\b|\\bBom Conselho\\b|\\bBol'shoy Kamen'\\b|\\bBol'shaya Setun'\\b|\\bBolzano\\b|\\bBolvadin\\b|\\bBolu\\b|\\bBolton\\b|\\bBolpur\\b|\\bBolotnoye\\b|\\bBologoye\\b|\\bBologna\\b|\\bBolobo\\b|\\bBollate\\b|\\bBolingbrook\\b|\\bBoli\\b|\\bBolhrad\\b|\\bBolgatanga\\b|\\bBoleslawiec\\b|\\bBoldumsaz\\b|\\bBokaro\\b|\\bBoke\\b|\\bBoksitogorsk\\b|\\bBoksburg\\b|\\bBokajan\\b|\\bBojonegoro\\b|\\bBojnurd\\b|\\bBojia\\b|\\bBoituva\\b|\\bBoissy\\-Saint\\-Leger\\b|\\bBoise\\b|\\bBoisbriand\\b|\\bBoisar\\b|\\bBois\\-Colombes\\b|\\bBoiro\\b|\\bBohuslav\\b|\\bBohumin\\b|\\bBohodukhiv\\b|\\bBohicon\\b|\\bBoguszow\\-Gorce\\b|\\bBoguchar\\b|\\bBogra\\b|\\bBogovinje\\b|\\bBogota\\b|\\bBogotol\\b|\\bBogorodskoye\\b|\\bBogorodsk\\b|\\bBogoroditsk\\b|\\bBogor\\b|\\bBogo\\b|\\bBogo\\b|\\bBognor Regis\\b|\\bBoghni\\b|\\bBogenhausen\\b|\\bBogdanovich\\b|\\bBogatynia\\b|\\bBogale\\b|\\bBoende\\b|\\bBoedo\\b|\\bBoditi\\b|\\bBodo\\b|\\bBodrum\\b|\\bBodinayakkanur\\b|\\bBodhan\\b|\\bBoden\\b|\\bBodegraven\\b|\\bBode Saadu\\b|\\bBodaybo\\b|\\bBoda\\b|\\bBocsa\\b|\\bBochum\\-Hordel\\b|\\bBochum\\b|\\bBocholt\\b|\\bBochnia\\b|\\bBocaue\\b|\\bBocaiuva\\b|\\bBoca Suno\\b|\\bBoca Raton\\b|\\bBoca Del Mar\\b|\\bBoca Chica\\b|\\bBobrov\\b|\\bBobo\\-Dioulasso\\b|\\bBobingen\\b|\\bBobigny\\b|\\bBobbili\\b|\\bBoardman\\b|\\bBoadilla del Monte\\b|\\bBoaco\\b|\\bBoa Vista\\b|\\bBoa Viagem\\b|\\bBoa Esperanca\\b|\\bBo Phloi\\b|\\bBo\\b|\\bBni Bouayach\\b|\\bBnei Brak\\b|\\bBlythe\\b|\\bBlyth\\b|\\bBlumenau\\b|\\bBluffton\\b|\\bBluefields\\b|\\bBlue Springs\\b|\\bBlue Island\\b|\\bBloxwich\\b|\\bBlora\\b|\\bBloomington\\b|\\bBloomington\\b|\\bBloomington\\b|\\bBloomington\\b|\\bBloomingdale\\b|\\bBloomingdale\\b|\\bBloomfield\\b|\\bBlomberg\\b|\\bBlois\\b|\\bBloemhof\\b|\\bBloemfontein\\b|\\bBlitar\\b|\\bBlieskastel\\b|\\bBlida\\b|\\bBletchley\\b|\\bBlenheim\\b|\\bBlantyre\\b|\\bBlantyre\\b|\\bBlansko\\b|\\bBlanquefort\\b|\\bBlankenburg\\b|\\bBlankenberge\\b|\\bBlanes\\b|\\bBlanchardstown\\b|\\bBlaj\\b|\\bBlainville\\b|\\bBlaine\\b|\\bBlagoveshchensk\\b|\\bBlagoveshchensk\\b|\\bBlagoevgrad\\b|\\bBlagodarnyy\\b|\\bBlagnac\\b|\\bBlackwood\\b|\\bBlacktown\\b|\\bBlacksburg\\b|\\bBlackpool\\b|\\bBlackheath\\b|\\bBlackburn\\b|\\bBjorlanda\\b|\\bBjelovar\\b|\\bBilgoraj\\b|\\bBinan\\b|\\bBien Hoa\\b|\\bBizerte\\b|\\bBiysk\\b|\\bBixby\\b|\\bBiu\\b|\\bBitterfeld\\-Wolfen\\b|\\bBitonto\\b|\\bBitola\\b|\\bBitlis\\b|\\bBitkine\\b|\\bBiswan\\b|\\bBistrita\\b|\\bBissau\\b|\\bBissau\\b|\\bBismil\\b|\\bBismarck\\b|\\bBislig\\b|\\bBiskra\\b|\\bBishopstoke\\b|\\bBishops Stortford\\b|\\bBishopbriggs\\b|\\bBishop Auckland\\b|\\bBishoftu\\b|\\bBishnupur\\b|\\bBishkek\\b|\\bBischheim\\b|\\bBisceglie\\b|\\bBisauli\\b|\\bBirur\\b|\\bBiryulevo Zapadnoye\\b|\\bBiryulevo\\b|\\bBirsk\\b|\\bBirpara\\b|\\bBirobidzhan\\b|\\bBirnin Kudu\\b|\\bBirnin Kebbi\\b|\\bBirni N Konni\\b|\\bBirmitrapur\\b|\\bBirmingham\\b|\\bBirmingham\\b|\\bBirmingham\\b|\\bBirkirkara\\b|\\bBirkhadem\\b|\\bBirkerod\\b|\\bBirkenhead\\b|\\bBiritiba Mirim\\b|\\bBirine\\b|\\bBirigui\\b|\\bBirganj\\b|\\bBireun\\b|\\bBirendranagar\\b|\\bBirecik\\b|\\bBiratnagar\\b|\\bBir el Djir\\b|\\bBir el Ater\\b|\\bBinzhou\\b|\\bBinzhou\\b|\\bBiny Selo\\b|\\bBintulu\\b|\\bBinonga\\b|\\bBinnish\\b|\\bBinmaley\\b|\\bBinka\\b|\\bBinjai\\b|\\bBinhe\\b|\\bBingol\\b|\\bBingley\\b|\\bBinghamton\\b|\\bBingerville\\b|\\bBingen am Rhein\\b|\\bBindura\\b|\\bBindki\\b|\\bBinche\\b|\\bBinangonan\\b|\\bBinalbagan\\b|\\bBimbo\\b|\\bBima\\b|\\bBilaspur\\b|\\bBilasipara\\b|\\bBilari\\b|\\bBilara\\b|\\bBilzen\\b|\\bBilthra\\b|\\bBilsi\\b|\\bBilsanda\\b|\\bBilqas\\b|\\bBiloxi\\b|\\bBilopillya\\b|\\bBilohirsk\\b|\\bBilliri\\b|\\bBillings\\b|\\bBillingham\\b|\\bBillericay\\b|\\bBillerica\\b|\\bBilimora\\b|\\bBilicenii Vechi\\b|\\bBilhorod\\-Dnistrovskyi\\b|\\bBilhaur\\b|\\bBilgram\\b|\\bBilgi\\b|\\bBilecik\\b|\\bBilderstoeckchen\\b|\\bBilbays\\b|\\bBilbao\\b|\\bBilajari\\b|\\bBila Tserkva\\b|\\bBikramganj\\b|\\bBikin\\b|\\bBijawar\\b|\\bBijnor\\b|\\bBijie\\b|\\bBijelo Polje\\b|\\bBijeljina\\b|\\bBijbehara\\b|\\bBijapur\\b|\\bBihariganj\\b|\\bBihar Sharif\\b|\\bBihac\\b|\\bBiharamulo\\b|\\bBiguacu\\b|\\bBignona\\b|\\bBignay Uno\\b|\\bBiggleswade\\b|\\bBigadic\\b|\\bBiga\\b|\\bBig Spring\\b|\\bBietigheim\\-Bissingen\\b|\\bBiesdorf\\b|\\bBierun\\b|\\bBielsko\\-Biala\\b|\\bBielsk Podlaski\\b|\\bBiella\\b|\\bBielefeld\\b|\\bBielawa\\b|\\bBielany\\b|\\bBiel/Bienne\\b|\\bBidur\\b|\\bBidhuna\\b|\\bBideford\\b|\\bBiddulph\\b|\\bBiddeford\\b|\\bBidbid\\b|\\bBida\\b|\\bBichena\\b|\\bBicester\\b|\\bBibirevo\\b|\\bBibir Hat\\b|\\bBibiani\\b|\\bBiberach an der Riss\\b|\\bBibai\\b|\\bBialystok\\b|\\bBialoleka\\b|\\bBialogard\\b|\\bBiala Podlaska\\b|\\bBiarritz\\b|\\bBiaora\\b|\\bBianzhuang\\b|\\bBiankouma\\b|\\bBiancavilla\\b|\\bBhum\\b|\\bBhinmal\\b|\\bBhimunipatnam\\b|\\bBhimavaram\\b|\\bBhilwara\\b|\\bBhikhi\\b|\\bBhayavadar\\b|\\bBhatapara\\b|\\bBhatpara Abhaynagar\\b|\\bBhatpara\\b|\\bBhanvad\\b|\\bBhanpuri\\b|\\bBhanpura\\b|\\bBhandaria\\b|\\bBhander\\b|\\bBhalki\\b|\\bBhagalpur\\b|\\bBhadasar\\b|\\bBhadra\\b|\\bBhusaval\\b|\\bBhuj\\b|\\bBhudgaon\\b|\\bBhubaneshwar\\b|\\bBhuban\\b|\\bBhor\\b|\\bBhopalwala\\b|\\bBhopal\\b|\\bBhongir\\b|\\bBhongaon\\b|\\bBhola\\b|\\bBhogpur\\b|\\bBhiwani\\b|\\bBhiwandi\\b|\\bBhiwadi\\b|\\bBhitarwar\\b|\\bBhit Shah\\b|\\bBhisho\\b|\\bBhinga\\b|\\bBhindar\\b|\\bBhind\\b|\\bBhimbar\\b|\\bBhilai\\b|\\bBhikangaon\\b|\\bBheramara\\b|\\bBhera\\b|\\bBhayandar\\b|\\bBhawanigarh\\b|\\bBhawanipatna\\b|\\bBhawaniganj\\b|\\bBhawanipur\\b|\\bBhawana\\b|\\bBhavani\\b|\\bBhavnagar\\b|\\bBhattiprolu\\b|\\bBhatkal\\b|\\bBhasawar\\b|\\bBharuch\\b|\\bBharwari\\b|\\bBharthana\\b|\\bBharatpur\\b|\\bBharatpur\\b|\\bBhanjanagar\\b|\\bBhandara\\b|\\bBhan\\b|\\bBhamo\\b|\\bBhalwal\\b|\\bBhakkar\\b|\\bBhaisa\\b|\\bBhairab Bazar\\b|\\bBhainsdehi\\b|\\bBhadravati\\b|\\bBhadrachalam\\b|\\bBhadreswar\\b|\\bBhadrapur\\b|\\bBhadrakh\\b|\\bBhadohi\\b|\\bBhadaur\\b|\\bBhachau\\b|\\bBhabhua\\b|\\bBesikduzu\\b|\\bBelchatow\\b|\\bBecej\\b|\\bBeawar\\b|\\bBezons\\b|\\bBezhetsk\\b|\\bBezerros\\b|\\bBezenchuk\\b|\\bBeysehir\\b|\\bBeypore\\b|\\bBeypazari\\b|\\bBeylikduzu\\b|\\bBeylagan\\b|\\bBeykonak\\b|\\bBexley\\b|\\bBexley\\b|\\bBexhill\\-on\\-Sea\\b|\\bBexbach\\b|\\bBewar\\b|\\bBeverwijk\\b|\\bBeverungen\\b|\\bBeverly Hills\\b|\\bBeverly Cove\\b|\\bBeverly\\b|\\bBeverley\\b|\\bBeveren\\b|\\bBeuningen\\b|\\bBetul\\b|\\bBettiah\\b|\\bBettendorf\\b|\\bBetong\\b|\\bBetioky\\b|\\bBetim\\b|\\bBethpage\\b|\\bBethnal Green\\b|\\bBethlehem\\b|\\bBethlehem\\b|\\bBethlehem\\b|\\bBethesda\\b|\\bBethel Park\\b|\\bBethany\\b|\\bBethany\\b|\\bBethal\\b|\\bBetamcherla\\b|\\bBetafo\\b|\\bBet She'an\\b|\\bBet Shemesh\\b|\\bBesuki\\b|\\bBest\\b|\\bBessemer\\b|\\bBesni\\b|\\bBeslan\\b|\\bBeshkent\\b|\\bBeshariq\\b|\\bBesbes\\b|\\bBesancon\\b|\\bBerezovskiy\\b|\\bBerezovka\\b|\\bBeryozovsky\\b|\\bBerwyn\\b|\\bBerwick\\b|\\bBeruwala\\b|\\bBeruniy\\b|\\bBertoua\\b|\\bBertioga\\b|\\bBerrouaghia\\b|\\bBerriozabal\\b|\\bBerriane\\b|\\bBerrechid\\b|\\bBerrahal\\b|\\bBeroun\\b|\\bBeroroha\\b|\\bBernburg\\b|\\bBernau bei Berlin\\b|\\bBern\\b|\\bBermeo\\b|\\bBermejo\\b|\\bBerlin Treptow\\b|\\bBerlin Kopenick\\b|\\bBerlin\\b|\\bBerkovitsa\\b|\\bBerkley\\b|\\bBerkhamsted\\b|\\bBerkeley\\b|\\bBerkel en Rodenrijs\\b|\\bBerkane\\b|\\bBerja\\b|\\bBeringen\\b|\\bBeri Khas\\b|\\bBergschenhoek\\b|\\bBergneustadt\\b|\\bBergkamen\\b|\\bBergisch Gladbach\\b|\\bBergheim\\b|\\bBergerac\\b|\\bBergenfield\\b|\\bBergen op Zoom\\b|\\bBergen\\b|\\bBergeijk\\b|\\bBergedorf\\b|\\bBergamo\\b|\\bBergama\\b|\\bBerga\\b|\\bBerezniki\\b|\\bBerettyoujfalu\\b|\\bBerekum\\b|\\bBereket\\b|\\bBerehove\\b|\\bBerea\\b|\\bBerdychiv\\b|\\bBerdyansk\\b|\\bBerdsk\\b|\\bBerck\\-Plage\\b|\\bBerck\\b|\\bBerberati\\b|\\bBerbera\\b|\\bBerber\\b|\\bBerazategui\\b|\\bBerat\\b|\\bBerastagi\\b|\\bBerasia\\b|\\bBera\\b|\\bBeppu\\b|\\bBeolgyo\\b|\\bBeohari\\b|\\bBenxi\\b|\\bBentota\\b|\\bBentonville\\b|\\bBentong Town\\b|\\bBenton\\b|\\bBento Goncalves\\b|\\bBentley\\b|\\bBentleigh East\\b|\\bBentleigh\\b|\\bBenthuizen\\b|\\bBensonville\\b|\\bBensonhurst\\b|\\bBensheim\\b|\\bBensenville\\b|\\bBensekrane\\b|\\bBenoy\\b|\\bBenoni\\b|\\bBenito Juarez\\b|\\bBenito Juarez\\b|\\bBenin City\\b|\\bBenidorm\\b|\\bBenicassim\\b|\\bBenicia\\b|\\bBenicarlo\\b|\\bBeni Saf\\b|\\bBeni Mester\\b|\\bBeni Mered\\b|\\bBeni Mellal\\b|\\bBeni Khiar\\b|\\bBeni Douala\\b|\\bBeni Amrane\\b|\\bBeni\\b|\\bBenguela\\b|\\bBengkulu\\b|\\bBenghazi\\b|\\bBengbu\\b|\\bBengaluru\\b|\\bBenfica\\b|\\bBenesov\\b|\\bBenevides\\b|\\bBenevento\\b|\\bBenetusser\\b|\\bBendorf\\b|\\bBendigo\\b|\\bBender\\b|\\bBende\\b|\\bBend\\b|\\bBenbrook\\b|\\bBenavente\\b|\\bBenalmadena\\b|\\bBen Mehidi\\b|\\bBen Arous\\b|\\bBemowo\\b|\\bBemetara\\b|\\bBembereke\\b|\\bBelur\\b|\\bBelev\\b|\\bBelen de Umbria\\b|\\bBelem\\b|\\bBelem\\b|\\bBelyye Vody\\b|\\bBelvidere\\b|\\bBelvedere Park\\b|\\bBeltsville\\b|\\bBelton\\b|\\bBelton\\b|\\bBelsand\\b|\\bBelper\\b|\\bBelpasso\\b|\\bBeloyarskiy\\b|\\bBelovo\\b|\\bBeloretsk\\b|\\bBelorechensk\\b|\\bBeloozerskiy\\b|\\bBelonia\\b|\\bBeloit\\b|\\bBeloha\\b|\\bBelogorsk\\b|\\bBeloeil\\b|\\bBelo sur Tsiribihina\\b|\\bBelo Oriente\\b|\\bBelo Jardim\\b|\\bBelo Horizonte\\b|\\bBelmopan\\b|\\bBelmont Cragin\\b|\\bBelmont\\b|\\bBelmont\\b|\\bBellwood\\b|\\bBellview\\b|\\bBelluno\\b|\\bBellshill\\b|\\bBello\\b|\\bBellmore\\b|\\bBellinzona\\b|\\bBellingham\\b|\\bBellflower\\b|\\bBellevue\\b|\\bBellevue\\b|\\bBellevue\\b|\\bBelleville\\b|\\bBelleville\\b|\\bBelleville\\b|\\bBelle Glade\\b|\\bBellavista\\b|\\bBellary\\b|\\bBellaria\\-Igea Marina\\b|\\bBellampalli\\b|\\bBellaire\\b|\\bBella Vista\\b|\\bBella Vista\\b|\\bBella Vista\\b|\\bBell Ville\\b|\\bBell Gardens\\b|\\bBell\\b|\\bBelize City\\b|\\bBelidzhi\\b|\\bBeli\\b|\\bBelgrano\\b|\\bBelgrade\\b|\\bBelgorod\\b|\\bBelgaum\\b|\\bBelfort\\b|\\bBelford Roxo\\b|\\bBelfast\\b|\\bBelen\\b|\\bBelek\\b|\\bBeledweyne\\b|\\bBelebey\\b|\\bBeldanga\\b|\\bBelaya Kalitva\\b|\\bBelaya Glina\\b|\\bBelawan\\b|\\bBelas\\b|\\bBelalcazar\\b|\\bBela Vista\\b|\\bBela\\b|\\bBela\\b|\\bBel Air South\\b|\\bBel Air Riviere Seche\\b|\\bBel Air North\\b|\\bBektemir\\b|\\bBekobod\\b|\\bBekasi\\b|\\bBekalta\\b|\\bBejucal\\b|\\bBejaia\\b|\\bBeja\\b|\\bBei'an\\b|\\bBeitbridge\\b|\\bBeirut\\b|\\bBeira\\b|\\bBeipiao\\b|\\bBeijing\\b|\\bBeihai\\b|\\bBeidao\\b|\\bBeidaihehaibin\\b|\\bBeichengqu\\b|\\bBeibei\\b|\\bBehshahr\\b|\\bBehror\\b|\\bBehbahan\\b|\\bBehat\\b|\\bBegun\\b|\\bBegusarai\\b|\\bBegoro\\b|\\bBegamganj\\b|\\bBeersheba\\b|\\bBeersel\\b|\\bBeerse\\b|\\bBedesa\\b|\\bBedworth\\b|\\bBedugul\\b|\\bBedong\\b|\\bBedlington\\b|\\bBedi\\b|\\bBedford\\b|\\bBedford\\b|\\bBedford\\b|\\bBedele\\b|\\bBedburg\\b|\\bBecontree\\b|\\bBeckum\\b|\\bBeckley\\b|\\bBeckingen\\b|\\bBeckenham\\b|\\bBechem\\b|\\bBebington\\b|\\bBeberibe\\b|\\bBebedouro\\b|\\bBeaverton\\b|\\bBeavercreek\\b|\\bBeaver Dam\\b|\\bBeauvais\\b|\\bBeaune\\b|\\bBeaumont\\b|\\bBeaumont\\b|\\bBeaufort West\\b|\\bBeaufort\\b|\\bBeau Bassin\\-Rose Hill\\b|\\bBearsden\\b|\\bBear\\b|\\bBealanana\\b|\\bBeaconsfield\\b|\\bBcharre\\b|\\bBasaksehir\\b|\\bBagcilar\\b|\\bBacka Topola\\b|\\bBacka Palanka\\b|\\bBanga\\b|\\bBazar\\-Korgon\\b|\\bBaza\\b|\\bBayindir\\b|\\bBayana\\b|\\bBayan\\b|\\bBayville\\b|\\bBayugan\\b|\\bBaytown\\b|\\bBayt Hanun\\b|\\bBayt al Faqih\\b|\\bBayt Lahya\\b|\\bBayt Jala\\b|\\bBayswater\\b|\\bBayside\\b|\\bBayside\\b|\\bBayshore Gardens\\b|\\bBayreuth\\b|\\bBayramaly\\b|\\bBayou Cane\\b|\\bBayonne\\b|\\bBayonne\\b|\\bBayonet Point\\b|\\bBayombong\\b|\\bBaynjiwayn\\b|\\bBaymak\\b|\\bBaykal'sk\\b|\\bBayji\\b|\\bBayeux\\b|\\bBayeux\\b|\\bBaychester\\b|\\bBayburt\\b|\\bBaybay\\b|\\bBayawan\\b|\\bBayanhongor\\b|\\bBayanhongor\\b|\\bBayan Nur\\b|\\bBayan\\b|\\bBayamon\\b|\\bBayamo\\b|\\bBayambang\\b|\\bBayaguana\\b|\\bBay Village\\b|\\bBay Shore\\b|\\bBay Point\\b|\\bBay City\\b|\\bBay City\\b|\\bBay\\b|\\bBawana\\b|\\bBawshar\\b|\\bBawku\\b|\\bBavly\\b|\\bBautzen\\b|\\bBauta\\b|\\bBauru\\b|\\bBaunatal\\b|\\bBaumschulenweg\\b|\\bBaulkham Hills\\b|\\bBaukau\\b|\\bBaud\\b|\\bBauchi\\b|\\bBauang\\b|\\bBauan\\b|\\bBati\\b|\\bBatala\\b|\\bBaturite\\b|\\bBaturaja\\b|\\bBaturaden\\b|\\bBatumi\\b|\\bBatu Pahat\\b|\\bBatu Gajah\\b|\\bBatu Feringgi\\b|\\bBatu Berendam\\b|\\bBatu Arang\\b|\\bBatu\\b|\\bBattle Ground\\b|\\bBattle Creek\\b|\\bBattipaglia\\b|\\bBatticaloa\\b|\\bBattersea\\b|\\bBattaramulla South\\b|\\bBattambang\\b|\\bBattagram\\b|\\bBatouri\\b|\\bBaton Rouge\\b|\\bBato\\b|\\bBatna\\b|\\bBatman\\b|\\bBatley\\b|\\bBatikent\\b|\\bBatifa\\b|\\bBathurst\\b|\\bBathinda\\b|\\bBathgate\\b|\\bBath Beach\\b|\\bBath\\b|\\bBataysk\\b|\\bBatavia\\b|\\bBatavia\\b|\\bBatatais\\b|\\bBatangas\\b|\\bBatangafo\\b|\\bBatang Berjuntai\\b|\\bBatang\\b|\\bBatam\\b|\\bBatac City\\b|\\bBata\\b|\\bBat Yam\\b|\\bBat Khela\\b|\\bBasyun\\b|\\bBaswa\\b|\\bBasti\\b|\\bBastos\\b|\\bBastia umbra\\b|\\bBastia\\b|\\bBassum\\b|\\bBassila\\b|\\bBasseterre\\b|\\bBasse\\-Terre\\b|\\bBassar\\b|\\bBassano del Grappa\\b|\\bBasrah\\b|\\bBasotu\\b|\\bBasoko\\b|\\bBasni\\b|\\bBasmat\\b|\\bBaskil\\b|\\bBasirpur\\b|\\bBasingstoke\\b|\\bBasildon\\b|\\bBasi\\b|\\bBasi\\b|\\bBasi\\b|\\bBashanet\\b|\\bBasford\\b|\\bBasel\\b|\\bBasavana Bagevadi\\b|\\bBasavakalyan\\b|\\bBasauri\\b|\\bBarao de Cocais\\b|\\bBarysh\\b|\\bBarysaw\\b|\\bBarwani\\b|\\bBarwala\\b|\\bBaruun\\-Urt\\b|\\bBaruta\\b|\\bBarueri\\b|\\bBartin\\b|\\bBartow\\b|\\bBartoszyce\\b|\\bBartolome Maso\\b|\\bBartley Green\\b|\\bBartlett\\b|\\bBartlett\\b|\\bBartlesville\\b|\\bBarstow Heights\\b|\\bBarstow\\b|\\bBarry\\b|\\bBarrow in Furness\\b|\\bBarroso\\b|\\bBarros Blancos\\b|\\bBarrinha\\b|\\bBarrington\\b|\\bBarrie\\b|\\bBarri de les Corts\\b|\\bBarri de Sant Andreu\\b|\\bBarri Gotic\\b|\\bBarrhead\\b|\\bBarretos\\b|\\bBarreiros\\b|\\bBarreiro do Jaiba\\b|\\bBarreiro\\b|\\bBarreirinhas\\b|\\bBarreiras\\b|\\bBarras\\b|\\bBarranquilla\\b|\\bBarranqueras\\b|\\bBarrancas\\b|\\bBarrancabermeja\\b|\\bBarranca\\b|\\bBarracas\\b|\\bBarra dos Coqueiros\\b|\\bBarra do Pirai\\b|\\bBarra do Garcas\\b|\\bBarra do Corda\\b|\\bBarra do Bugres\\b|\\bBarra de Sao Francisco\\b|\\bBarra Velha\\b|\\bBarra Mansa\\b|\\bBarra Bonita\\b|\\bBarra\\b|\\bBarra\\b|\\bBarquisimeto\\b|\\bBarpali\\b|\\bBarpeta Road\\b|\\bBarpeta\\b|\\bBaro\\b|\\bBarnala\\b|\\bBarnstaple\\b|\\bBarnstable\\b|\\bBarnsley\\b|\\bBarneveld\\b|\\bBarnet\\b|\\bBarnaul\\b|\\bBarmbek\\-Nord\\b|\\bBarletta\\b|\\bBarka'\\b|\\bBarka Kana\\b|\\bBarking\\b|\\bBarki Saria\\b|\\bBarjala\\b|\\bBarisal\\b|\\bBariri\\b|\\bBarinitas\\b|\\bBarinas\\b|\\bBarika\\b|\\bBariadi\\b|\\bBari Sadri\\b|\\bBari\\b|\\bBarhiya\\b|\\bBargi\\b|\\bBargarh\\b|\\bBarentu\\b|\\bBarendrecht\\b|\\bBareilly\\b|\\bBareggio\\b|\\bBardsir\\b|\\bBardejov\\b|\\bBarddhaman\\b|\\bBardaskan\\b|\\bBarda\\b|\\bBarcelos\\b|\\bBarceloneta\\b|\\bBarcelona\\b|\\bBarcelona\\b|\\bBarcellona Pozzo di Gotto\\b|\\bBarcarena\\b|\\bBarbosa\\b|\\bBarbosa\\b|\\bBarbil\\b|\\bBarbera del Valles\\b|\\bBarberton\\b|\\bBarberton\\b|\\bBarberena\\b|\\bBarbate\\b|\\bBarbastro\\b|\\bBarbalha\\b|\\bBarbacha\\b|\\bBarbacena\\b|\\bBaranain\\b|\\bBaraut\\b|\\bBarauli\\b|\\bBaras\\b|\\bBaranovichi\\b|\\bBaranoa\\b|\\bBaranagar\\b|\\bBaraki Barak\\b|\\bBaraki\\b|\\bBarakaldo\\b|\\bBarajas de Madrid\\b|\\bBaragua\\b|\\bBaracoa\\b|\\bBarabinsk\\b|\\bBarabai\\b|\\bBara Uchana\\b|\\bBar\\-le\\-Duc\\b|\\bBar Bigha\\b|\\bBar\\b|\\bBar\\b|\\bBaqubah\\b|\\bBaoying\\b|\\bBaotou\\b|\\bBaoshan\\b|\\bBaoqing\\b|\\bBaoding\\b|\\bBanur\\b|\\bBani Suwayf\\b|\\bBani Suhayla\\b|\\bBani Na'im\\b|\\bBani Mazar\\b|\\bBani\\b|\\bBanyuwangi\\b|\\bBanyumas\\b|\\bBanyoles\\b|\\bBanyo\\b|\\bBantval\\b|\\bBantul\\b|\\bBanting\\b|\\bBantayan\\b|\\bBanstead\\b|\\bBanska Bystrica\\b|\\bBansalan\\b|\\bBanqiao\\b|\\bBanora Point\\b|\\bBannur\\b|\\bBannu\\b|\\bBanning\\b|\\bBanmankhi\\b|\\bBanlung\\b|\\bBankstown\\b|\\bBankra\\b|\\bBanjul\\b|\\bBanjarmasin\\b|\\bBanjaran\\b|\\bBanjar\\b|\\bBanjar\\b|\\bBanja Luka\\b|\\bBanikoara\\b|\\bBaniachang\\b|\\bBani Yas City\\b|\\bBani Walid\\b|\\bBanha\\b|\\bBangui\\b|\\bBangor\\b|\\bBangor\\b|\\bBangor\\b|\\bBangolo\\b|\\bBangkok\\b|\\bBangkalan\\b|\\bBangil\\b|\\bBangassou\\b|\\bBangarapet\\b|\\bBangaon\\b|\\bBangaon\\b|\\bBangangte\\b|\\bBanganapalle\\b|\\bBanga\\b|\\bBang Saphan\\b|\\bBang Rakam\\b|\\bBang Racham\\b|\\bBang Phae\\b|\\bBang Pakong\\b|\\bBang Pa\\-in\\b|\\bBang Mun Nak\\b|\\bBang Len\\b|\\bBang Lamung\\b|\\bBang Kruai\\b|\\bBang Krathum\\b|\\bBang Bua Thong\\b|\\bBang Bo District\\b|\\bBang Ban\\b|\\bBanfora\\b|\\bBanes\\b|\\bBanepa\\b|\\bBandirma\\b|\\bBandung\\b|\\bBandundu\\b|\\bBandipura\\b|\\bBanderilla\\b|\\bBandeirantes\\b|\\bBandar\\-e Lengeh\\b|\\bBandar\\-e Genaveh\\b|\\bBandar\\-e Anzali\\b|\\bBandar Seri Begawan\\b|\\bBandar Lampung\\b|\\bBandar Labuan\\b|\\bBandar Abbas\\b|\\bBandar\\b|\\bBanda Aceh\\b|\\bBanda\\b|\\bBanbury\\b|\\bBanbridge\\b|\\bBanaz\\b|\\bBanaybanay\\b|\\bBanat\\b|\\bBanamba\\b|\\bBan Talat Yai\\b|\\bBan Talat Nua\\b|\\bBan Talat Bueng\\b|\\bBan Tak\\b|\\bBan Selaphum\\b|\\bBan Ratsada\\b|\\bBan Pong\\b|\\bBan Phe\\b|\\bBan Phan Don\\b|\\bBan Phai\\b|\\bBan Phaeo\\b|\\bBan Nong Wua So\\b|\\bBan Na San\\b|\\bBan Na\\b|\\bBan Mo\\b|\\bBan Mai\\b|\\bBan Lam Luk Ka\\b|\\bBan Khlong Bang Sao Thong\\b|\\bBan Huai Thalaeng\\b|\\bBan Houakhoua\\b|\\bBan Dung\\b|\\bBan Chang\\b|\\bBan Chalong\\b|\\bBan Bueng\\b|\\bBan Bang Kadi Pathum Thani\\b|\\bBamusso\\b|\\bBamiantong\\b|\\bBamenda\\b|\\bBambui\\b|\\bBambous\\b|\\bBamberg\\b|\\bBambari\\b|\\bBambanglipuro\\b|\\bBambang\\b|\\bBamako\\b|\\bBama\\b|\\bBam\\b|\\bBals\\b|\\bBalikesir\\b|\\bBalatah\\b|\\bBalangir\\b|\\bBalzar\\b|\\bBalykshi\\b|\\bBalykchy\\b|\\bBalwyn North\\b|\\bBalvanera\\b|\\bBalung\\b|\\bBaltiysk\\b|\\bBaltimore\\b|\\bBalta\\b|\\bBalsas\\b|\\bBalrampur\\b|\\bBalqash\\b|\\bBaloda Bazar\\b|\\bBalod\\b|\\bBalneario Camboriu\\b|\\bBalmazujvaros\\b|\\bBalma\\b|\\bBallalpur\\b|\\bBallymena\\b|\\bBallwin\\b|\\bBallito\\b|\\bBallerup\\b|\\bBallenger Creek\\b|\\bBallarat\\b|\\bBallajura\\b|\\bBalkh\\b|\\bBalkanabat\\b|\\bBaliuag\\b|\\bBalingen\\b|\\bBalikpapan\\b|\\bBali\\b|\\bBalfour\\b|\\bBalezino\\b|\\bBalen\\b|\\bBaldwin Park\\b|\\bBaldwin\\b|\\bBaldwin\\b|\\bBaldivis\\b|\\bBalch Springs\\b|\\bBalcarce\\b|\\bBalbriggan\\b|\\bBalayan\\b|\\bBalassagyarmat\\b|\\bBalasore\\b|\\bBalashov\\b|\\bBalashikha\\b|\\bBalarampur\\b|\\bBalapulang\\b|\\bBalanga\\b|\\bBalamban\\b|\\bBalakovo\\b|\\bBalakliya\\b|\\bBalaklava\\b|\\bBalaka\\b|\\bBalaipungut\\b|\\bBalaguer\\b|\\bBalagtas\\b|\\bBalad\\b|\\bBalabanovo\\b|\\bBakixanov\\b|\\bBaku\\b|\\bBaksan\\b|\\bBakri\\b|\\bBako\\b|\\bBaki\\b|\\bBaki\\b|\\bBakhtiyarpur\\b|\\bBakhmut\\b|\\bBakhmach\\b|\\bBakhchysarai\\b|\\bBakersfield\\b|\\bBakau\\b|\\bBakal\\b|\\bBajos de Haina\\b|\\bBaja\\b|\\bBaj Baj\\b|\\bBaiao\\b|\\bBaiyin\\b|\\bBaixo Guandu\\b|\\bBaishishan\\b|\\bBaishan\\b|\\bBaise City\\b|\\bBais\\b|\\bBairagnia\\b|\\bBaiquan\\b|\\bBainbridge Island\\b|\\bBailen\\b|\\bBaileys Crossroads\\b|\\bBaildon\\b|\\bBail\\-Hongal\\b|\\bBaikonur\\b|\\bBaijiantan\\b|\\bBaihe\\b|\\bBaihar\\b|\\bBaiersbronn\\b|\\bBaie\\-Mahault\\b|\\bBaie\\-Comeau\\b|\\bBaidyabati\\b|\\bBaidoa\\b|\\bBaicheng\\b|\\bBaia Sprie\\b|\\bBaia Mare\\b|\\bBahar\\b|\\bBahadurgarh\\b|\\bBahadurganj\\b|\\bBahia de Caraquez\\b|\\bBahia Honda\\b|\\bBahia Blanca\\b|\\bBahcelievler\\b|\\bBahce\\b|\\bBahula\\b|\\bBahraigh\\b|\\bBahla'\\b|\\bBahjoi\\b|\\bBahir Dar\\b|\\bBaheri\\b|\\bBahawalpur\\b|\\bBahawalnagar\\b|\\bBahawalnagar\\b|\\bBahau\\b|\\bBaharly\\b|\\bBaharampur\\b|\\bBah\\-Bah\\b|\\bBage\\b|\\bBagula\\b|\\bBaguio\\b|\\bBaguim do Monte\\b|\\bBagua Grande\\b|\\bBagong Pagasa\\b|\\bBago City\\b|\\bBago\\b|\\bBagnols\\-sur\\-Ceze\\b|\\bBagnoli\\b|\\bBagnolet\\b|\\bBagneux\\b|\\bBaghlan\\b|\\bBagheria\\b|\\bBaghdad\\b|\\bBaggabag B\\b|\\bBagerhat\\b|\\bBagdogra\\b|\\bBagayevskaya\\b|\\bBagasra\\b|\\bBagar\\b|\\bBagan Serai\\b|\\bBagamoyo\\b|\\bBagalkot\\b|\\bBagaha\\b|\\bBagaha\\b|\\bBafra\\b|\\bBafoussam\\b|\\bBafoulabe\\b|\\bBafilo\\b|\\bBafia\\b|\\bBafata\\b|\\bBafang\\b|\\bBaeza\\b|\\bBaesweiler\\b|\\bBaena\\b|\\bBaekrajan\\b|\\bBaduria\\b|\\bBadiyah\\b|\\bBadvel\\b|\\bBadulla\\b|\\bBadr Hunayn\\b|\\bBadou\\b|\\bBadnawar\\b|\\bBadlapur\\b|\\bBadin\\b|\\bBadger\\b|\\bBaden\\-Baden\\b|\\bBaden\\b|\\bBaden\\b|\\bBaddomalhi\\b|\\bBaddi\\b|\\bBadarganj\\b|\\bBadalona\\b|\\bBadajoz\\b|\\bBadagry\\b|\\bBadagara\\b|\\bBada Barabil\\b|\\bBad Zwischenahn\\b|\\bBad Wildungen\\b|\\bBad Waldsee\\b|\\bBad Vilbel\\b|\\bBad Tolz\\b|\\bBad Sackingen\\b|\\bBad Soden am Taunus\\b|\\bBad Segeberg\\b|\\bBad Schwartau\\b|\\bBad Salzungen\\b|\\bBad Salzuflen\\b|\\bBad Reichenhall\\b|\\bBad Rappenau\\b|\\bBad Pyrmont\\b|\\bBad Oldesloe\\b|\\bBad Oeynhausen\\b|\\bBad Neustadt an der Saale\\b|\\bBad Neuenahr\\-Ahrweiler\\b|\\bBad Nauheim\\b|\\bBad Munstereifel\\b|\\bBad Munder am Deister\\b|\\bBad Mergentheim\\b|\\bBad Lippspringe\\b|\\bBad Langensalza\\b|\\bBad Laasphe\\b|\\bBad Kreuznach\\b|\\bBad Kissingen\\b|\\bBad Honnef\\b|\\bBad Homburg vor der Hohe\\b|\\bBad Hersfeld\\b|\\bBad Harzburg\\b|\\bBad Essen\\b|\\bBad Durkheim\\b|\\bBad Driburg\\b|\\bBad Berleburg\\b|\\bBad Bentheim\\b|\\bBad Arolsen\\b|\\bBad Aibling\\b|\\bBacau\\b|\\bBacoor\\b|\\bBacolod City\\b|\\bBacoli\\b|\\bBacknang\\b|\\bBack Mountain\\b|\\bBachhraon\\b|\\bBacabal\\b|\\bBabina\\b|\\bBabushkin\\b|\\bBabu\\b|\\bBabrala\\b|\\bBabruysk\\b|\\bBabo\\-Pangulo\\b|\\bBaberu\\b|\\bBabenhausen\\b|\\bBabati\\b|\\bBabat\\b|\\bBabana\\b|\\bBabahoyo\\b|\\bBabaeski\\b|\\bBab Ezzouar\\b|\\bBaarn\\b|\\bBaardheere\\b|\\bBaar\\b|\\bBaao\\b|\\bBaalbek\\b|\\bBABOR \\- VILLE\\b|\\bAt Taraf\\b|\\bAt Tafilah\\b|\\bAskale\\b|\\bAs Suwayrah\\b|\\bAs Sanamayn\\b|\\bAs Saff\\b|\\bAibak\\b|\\bAgri\\b|\\bAgdas\\b|\\bAgdam\\b|\\bAnatuya\\b|\\bAin el Bya\\b|\\bAin Touta\\b|\\bAin Temouchent\\b|\\bAin Taya\\b|\\bAin Smara\\b|\\bAin Sefra\\b|\\bAin Oussera\\b|\\bAin Kercha\\b|\\bAin Fakroun\\b|\\bAin Defla\\b|\\bAin Beida\\b|\\bAin Bessem\\b|\\bAin Beni Mathar\\b|\\bAin Arnat\\b|\\bAigio\\b|\\bAcu\\b|\\bAz Zahiriyah\\b|\\bAzzaba\\b|\\bAzusa\\b|\\bAzuqueca de Henares\\b|\\bAzul\\b|\\bAzua\\b|\\bAzrou\\b|\\bAzov\\b|\\bAzor\\b|\\bAzogues\\b|\\bAzna\\b|\\bAzimpur\\b|\\bAzemmour\\b|\\bAzeitao\\b|\\bAzcapotzalco\\b|\\bAzazga\\b|\\bAzare\\b|\\bAzamgarh\\b|\\bAz Zawiyah\\b|\\bAz Zuwaydah\\b|\\bAz Zuwaytinah\\b|\\bAz Zulfi\\b|\\bAz Zubayr\\b|\\bAz Zarqa\\b|\\bAz Zabadani\\b|\\bAyvalik\\b|\\bAyutuxtepeque\\b|\\bAyutla de los Libres\\b|\\bAytos\\b|\\bAyteke Bi\\b|\\bAyr\\b|\\bAyorou\\b|\\bAylesbury\\b|\\bAykhal\\b|\\bAydun\\b|\\bAydin\\b|\\bAyaviri\\b|\\bAyapel\\b|\\bAyang\\-ni\\b|\\bAyamonte\\b|\\bAyakudi\\b|\\bAyagoz\\b|\\bAyacucho\\b|\\bAyabe\\b|\\bAxum\\b|\\bAxochiapan\\b|\\bAxim\\b|\\bAwsim\\b|\\bAwka\\b|\\bAwgu\\b|\\bAweil\\b|\\bAvvocata\\b|\\bAvtury\\b|\\bAvtovo\\b|\\bAvondale\\b|\\bAvondale\\b|\\bAvon Lake\\b|\\bAvon Center\\b|\\bAvon\\b|\\bAvon\\b|\\bAvon\\b|\\bAvola\\b|\\bAvocado Heights\\b|\\bAvion\\b|\\bAvinashi\\b|\\bAviles\\b|\\bAvignon\\b|\\bAvezzano\\b|\\bAversa\\b|\\bAventura\\b|\\bAvenel\\b|\\bAvellino\\b|\\bAvellaneda\\b|\\bAveiro\\b|\\bAvdiyivka\\b|\\bAvare\\b|\\bAvarua\\b|\\bAvanigadda\\b|\\bAuxerre\\b|\\bAutun\\b|\\bAutlan de Navarro\\b|\\bAustintown\\b|\\bAustin\\b|\\bAustin\\b|\\bAusa\\b|\\bAurad\\b|\\bAurora\\b|\\bAurora\\b|\\bAurora\\b|\\bAurora\\b|\\bAurora\\b|\\bAurillac\\b|\\bAurich\\b|\\bAurangabad\\b|\\bAurangabad\\b|\\bAuraiya\\b|\\bAulnay\\-sous\\-Bois\\b|\\bAugustow\\b|\\bAugusto Correa\\b|\\bAugusta\\b|\\bAugusta\\b|\\bAugusta\\b|\\bAugsburg\\b|\\bAuerbach\\b|\\bAue\\b|\\bAudincourt\\b|\\bAuckland\\b|\\bAuchi\\b|\\bAuch\\b|\\bAuburndale\\b|\\bAuburn Hills\\b|\\bAuburn Gresham\\b|\\bAuburn\\b|\\bAuburn\\b|\\bAuburn\\b|\\bAuburn\\b|\\bAuburn\\b|\\bAuburn\\b|\\bAubervilliers\\b|\\bAubagne\\b|\\bAtyrau\\b|\\bAtwater\\b|\\bAtuntaqui\\b|\\bAttur\\b|\\bAttock City\\b|\\bAttleboro\\b|\\bAttingal\\b|\\bAttili\\b|\\bAttendorn\\b|\\bAtsugi\\b|\\bAtsiaman\\b|\\bAtrauli\\b|\\bAtoyac de Alvarez\\b|\\bAtotonilco el Alto\\b|\\bAtmakur\\b|\\bAtlixco\\b|\\bAtlantis\\b|\\bAtlantic City\\b|\\bAtlanta\\b|\\bAtlacomulco de Fabela\\b|\\bAtkarsk\\b|\\bAtimonan\\b|\\bAtibaia\\b|\\bAti\\b|\\bAthni\\b|\\bAthlone\\b|\\bAthis\\-Mons\\b|\\bAthi River\\b|\\bAtherton\\b|\\bAthens\\b|\\bAthens\\b|\\bAthens\\b|\\bAthens\\b|\\bAth Thawrah\\b|\\bAth\\b|\\bAtbasar\\b|\\bAtbara\\b|\\bAtasehir\\b|\\bAtascocita\\b|\\bAtascadero\\b|\\bAtarra\\b|\\bAtarfe\\b|\\bAtar\\b|\\bAtaq\\b|\\bAtani\\b|\\bAtamyrat\\b|\\bAtami\\b|\\bAtambua\\b|\\bAtamaria\\b|\\bAtalaia\\b|\\bAtakpame\\b|\\bAt\\-Bashi\\b|\\bAt Taj\\b|\\bAt Tall al Kabir\\b|\\bAt Tall\\b|\\bAsyut\\b|\\bAswan\\b|\\bAsuncion Mita\\b|\\bAsuncion\\b|\\bAstrakhan\\b|\\bAstoria\\b|\\bAstorga\\b|\\bAston\\b|\\bAsti\\b|\\bAstara\\b|\\bAstanajapura\\b|\\bAssis\\b|\\bAssen\\b|\\bAssemini\\b|\\bAsse\\b|\\bAssab\\b|\\bAspropyrgos\\b|\\bAspen Hill\\b|\\bAspe\\b|\\bAsparuhovo\\b|\\bAso\\b|\\bAsnieres\\-sur\\-Seine\\b|\\bAsmara\\b|\\bAskoy\\b|\\bAsker\\b|\\bAsipovichy\\b|\\bAsino\\b|\\bAsilah\\b|\\bAsifabad\\b|\\bAsia\\b|\\bAshwaubenon\\b|\\bAshton\\-under\\-Lyne\\b|\\bAshton in Makerfield\\b|\\bAshtarak\\b|\\bAshtabula\\b|\\bAshta\\b|\\bAshta\\b|\\bAshoknagar Kalyangarh\\b|\\bAshoknagar\\b|\\bAshmun\\b|\\bAshland\\b|\\bAshland\\b|\\bAshland\\b|\\bAshland\\b|\\bAshland\\b|\\bAshkelon\\b|\\bAshiya\\b|\\bAshington\\b|\\bAshikaga\\b|\\bAshibetsu\\b|\\bAshgabat\\b|\\bAshford\\b|\\bAshford\\b|\\bAshfield\\b|\\bAsheville\\b|\\bAsheboro\\b|\\bAshdod\\b|\\bAshburton\\b|\\bAshburn\\b|\\bAshburn\\b|\\bAsha\\b|\\bAsh Shamiyah\\b|\\bAsh Shuhada'\\b|\\bAsh Shatrah\\b|\\bAsh Shaykh Miskin\\b|\\bAsh Shafa\\b|\\bAserri\\b|\\bAsenovgrad\\b|\\bAscot\\b|\\bAscoli Piceno\\b|\\bAschersleben\\b|\\bAscheberg\\b|\\bAschaffenburg\\b|\\bAscencion de Guarayos\\b|\\bAsbury Park\\b|\\bAsbest\\b|\\bAsan\\b|\\bAsamankese\\b|\\bAsaka\\b|\\bAsaka\\b|\\bAsaita\\b|\\bAsahikawa\\b|\\bAsahi\\b|\\bAsadabad\\b|\\bAsadabad\\b|\\bAsaba\\b|\\bAs\\-Suwayda\\b|\\bAs Suki\\b|\\bAs Salimiyah\\b|\\bAs Suwayq\\b|\\bAs Sulayyil\\b|\\bAs Sulaymaniyah\\b|\\bAs Samu'\\b|\\bAs Samawah\\b|\\bAs Salt\\b|\\bAs Salamiyah\\b|\\bAs Safirah\\b|\\bAraria\\b|\\bArambagh\\b|\\bArak\\b|\\bArzignano\\b|\\bArzgir\\b|\\bArzano\\b|\\bArzamas\\b|\\bArys\\b|\\bArvin\\b|\\bArvayheer\\b|\\bArvada\\b|\\bArusha\\b|\\bAruppukkottai\\b|\\bArumuganeri\\b|\\bArukutti\\b|\\bAruja\\b|\\bArucas\\b|\\bArua\\b|\\bArtemovskiy\\b|\\bArtem\\b|\\bArtemida\\b|\\bArtvin\\b|\\bArtur Nogueira\\b|\\bArtsyz\\b|\\bArtigas\\b|\\bArtesia\\b|\\bArtemisa\\b|\\bArteixo\\b|\\bArtashat\\b|\\bArsk\\b|\\bArsin\\b|\\bArsikere\\b|\\bArsen'yev\\b|\\bArroyo Seco\\b|\\bArroyo Naranjo\\b|\\bArroyo Grande\\b|\\bArroyito\\b|\\bArroio do Meio\\b|\\bArroio Grande\\b|\\bArris\\b|\\bArriaga\\b|\\bArrentela\\b|\\bArrecife\\b|\\bArrasate / Mondragon\\b|\\bArras\\b|\\bArraijan\\b|\\bArraial do Cabo\\b|\\bArrah\\b|\\bArrah\\b|\\bArpino\\b|\\bAroor\\b|\\bArona\\b|\\bArnstadt\\b|\\bArnsberg\\b|\\bArnold\\b|\\bArnold\\b|\\bArnold\\b|\\bArni\\b|\\bArnhem\\b|\\bArnavutkoy\\b|\\bArmyansk\\b|\\bArmilla\\b|\\bArmidale\\b|\\bArmentieres\\b|\\bArmenia\\b|\\bArmacao de Buzios\\b|\\bArmavir\\b|\\bArmavir\\b|\\bArlon\\b|\\bArlington Heights\\b|\\bArlington\\b|\\bArlington\\b|\\bArlington\\b|\\bArlington\\b|\\bArles\\b|\\bArkhangel'sk\\b|\\bArkalyk\\b|\\bArkalgud\\b|\\bArjona\\b|\\bArjawinangun\\b|\\bAriyalur\\b|\\bArivonimamo\\b|\\bAristobulo del Valle\\b|\\bArish\\b|\\bAriquemes\\b|\\bAripuana\\b|\\bArio de Rosales\\b|\\bAringay\\b|\\bArima\\b|\\bAriguani\\b|\\bArifwala\\b|\\bAriel\\b|\\bAriccia\\b|\\bArica\\b|\\bAriana\\b|\\bArhribs\\b|\\bArhavi\\b|\\bArgyroupoli\\b|\\bArgungu\\b|\\bArgun\\b|\\bArgenteuil\\b|\\bArgentan\\b|\\bArganzuela\\b|\\bArganda\\b|\\bArfoud\\b|\\bArezzo\\b|\\bArese\\b|\\bArequipa\\b|\\bArenys de Mar\\b|\\bArenella\\b|\\bArendal\\b|\\bAreia Branca\\b|\\bArecibo\\b|\\bArdon\\b|\\bArdmore\\b|\\bArdesen\\b|\\bArdestan\\b|\\bArden\\-Arcade\\b|\\bArdea\\b|\\bArdakan\\b|\\bArdahan\\b|\\bArdabil\\b|\\bArcueil\\b|\\bArcoverde\\b|\\bArcot\\b|\\bArcos de la Frontera\\b|\\bArcos de Valdevez\\b|\\bArcos\\b|\\bArcore\\b|\\bArchway\\b|\\bArchena\\b|\\bArcelia\\b|\\bArcata\\b|\\bArcadia\\b|\\bArbutus\\b|\\bArbroath\\b|\\bArbatache\\b|\\bArba Minch\\b|\\bAracuai\\b|\\bAracoiaba da Serra\\b|\\bAracatuba\\b|\\bArayat\\b|\\bAraxa\\b|\\bArawa\\b|\\bAraure\\b|\\bAraucaria\\b|\\bArauco\\b|\\bArauca\\b|\\bArashiyama\\b|\\bAraruama\\b|\\bAraripina\\b|\\bArari\\b|\\bArarat\\b|\\bAraras\\b|\\bAraraquara\\b|\\bArarangua\\b|\\bArar\\b|\\bArapongas\\b|\\bArapiraca\\b|\\bArandelovac\\b|\\bAranyaprathet\\b|\\bArantangi\\b|\\bAranjuez\\b|\\bArang\\b|\\bArandas\\b|\\bAranda de Duero\\b|\\bAramoko\\-Ekiti\\b|\\bAramil\\b|\\bAral\\b|\\bAral\\b|\\bArakli\\b|\\bArakkonam\\b|\\bArai\\b|\\bAraguaina\\b|\\bAraguari\\b|\\bAragarcas\\b|\\bArad\\b|\\bArad\\b|\\bAracruz\\b|\\bAraci\\b|\\bAracati\\b|\\bAracataca\\b|\\bAracaju\\b|\\bAr Ram wa Dahiyat al Barid\\b|\\bAr Rabiyah\\b|\\bAr Rutbah\\b|\\bAr Ruways\\b|\\bAr Ruseris\\b|\\bAr Rumaythiyah\\b|\\bAr Rumaythah\\b|\\bAr Rudayyif\\b|\\bAr Riqqah\\b|\\bAr Rifa'\\b|\\bAr Rayyan\\b|\\bAr Rastan\\b|\\bAr Rass\\b|\\bAr Raqqah\\b|\\bAr Ramtha\\b|\\bAr Rahad\\b|\\bAquiraz\\b|\\bAquidauana\\b|\\bAqsay\\b|\\bAqaba\\b|\\bApucarana\\b|\\bApsheronsk\\b|\\bAprilia\\b|\\bAprelevka\\b|\\bAppleton\\b|\\bApple Valley\\b|\\bApple Valley\\b|\\bApostolove\\b|\\bApopka\\b|\\bApopa\\b|\\bApomu\\b|\\bApolda\\b|\\bApodi\\b|\\bAplahoue\\b|\\bApizaco\\b|\\bApiai\\b|\\bApia\\b|\\bApex\\b|\\bApeldoorn\\b|\\bApatzingan\\b|\\bApatity\\b|\\bApatin\\b|\\bApaseo el Grande\\b|\\bApaseo el Alto\\b|\\bApas\\b|\\bApartado\\b|\\bAparri\\b|\\bAparecida do Taboado\\b|\\bAparecida de Goiania\\b|\\bAparecida\\b|\\bApan\\b|\\bApam\\b|\\bApalit\\b|\\bApache Junction\\b|\\bAoulef\\b|\\bAosta\\b|\\bAonla\\b|\\bAomori\\b|\\bAoji\\b|\\bAnupshahr\\b|\\bAnuppur\\b|\\bAnupgarh\\b|\\bAneho\\b|\\bAnapolis\\b|\\bAnahuac\\b|\\bAnzio\\b|\\bAnzhero\\-Sudzhensk\\b|\\bAnyang\\-si\\b|\\bAnyang\\b|\\bAnyama\\b|\\bAnxiang\\b|\\bAnuradhapura\\b|\\bAntonio Enes\\b|\\bAntwerpen\\b|\\bAntsohimbondrona\\b|\\bAntsohihy\\b|\\bAntsiranana\\b|\\bAntsirabe\\b|\\bAntrim\\b|\\bAntratsyt\\b|\\bAntony\\b|\\bAntonina\\b|\\bAntofagasta\\b|\\bAntipolo\\b|\\bAntioch\\b|\\bAntiguo Cuscatlan\\b|\\bAntigua Guatemala\\b|\\bAntibes\\b|\\bAnthiyur\\b|\\bAnthem\\b|\\bAntequera\\b|\\bAntelope\\b|\\bAntanifotsy\\b|\\bAntananarivo\\b|\\bAntalya\\b|\\bAntalaha\\b|\\bAntakya\\b|\\bAnta\\b|\\bAnsonia\\b|\\bAnshun\\b|\\bAnshing\\b|\\bAnshan\\b|\\bAnserma\\b|\\bAnseong\\b|\\bAnsbach\\b|\\bAnsan\\-si\\b|\\bAns\\b|\\bAnqiu\\b|\\bAnqing\\b|\\bAnoka\\b|\\bAnnur\\b|\\bAnnonay\\b|\\bAnniston\\b|\\bAnnino\\b|\\bAnnino\\b|\\bAnnigeri\\b|\\bAnnemasse\\b|\\bAnnecy\\-le\\-Vieux\\b|\\bAnnecy\\b|\\bAnnau\\b|\\bAnnapolis\\b|\\bAnnandale\\b|\\bAnnaka\\b|\\bAnnaberg\\-Buchholz\\b|\\bAnnaba\\b|\\bAnna\\b|\\bAnn Arbor\\b|\\bAnlu\\b|\\bAnloga\\b|\\bAnkleshwar\\b|\\bAnkeny\\b|\\bAnkazondandy\\b|\\bAnkazobe\\b|\\bAnkazoabo\\b|\\bAnkara\\b|\\bAnkang\\b|\\bAnjo\\b|\\bAnjar\\b|\\bAnju\\b|\\bAnjozorobe\\b|\\bAnjiang\\b|\\bAnjangaon\\b|\\bAnjala\\b|\\bAnjad\\b|\\bAnicuns\\b|\\bAngul\\b|\\bAngri\\b|\\bAngren\\b|\\bAngra dos Reis\\b|\\bAngouleme\\b|\\bAngono\\b|\\bAngol\\b|\\bAngleton\\b|\\bAnglet\\b|\\bAngers\\b|\\bAngermunde\\b|\\bAngeles City\\b|\\bAngat\\b|\\bAngarsk\\b|\\bAngamali\\b|\\bAnekal\\b|\\bAndujar\\b|\\bAndrychow\\b|\\bAndritz\\b|\\bAndria\\b|\\bAndreyevskoye\\b|\\bAndradina\\b|\\bAndradas\\b|\\bAndover\\b|\\bAndover\\b|\\bAndorra la Vella\\b|\\bAndong\\b|\\bAndol\\b|\\bAndkhoy\\b|\\bAndilamena\\b|\\bAndijon\\b|\\bAndes\\b|\\bAnderson\\b|\\bAnderson\\b|\\bAndernach\\b|\\bAndenne\\b|\\bAndapa\\b|\\bAndalucia\\b|\\bAndahuaylas\\b|\\bAnda\\b|\\bAncon\\b|\\bAncud\\b|\\bAncona\\b|\\bAnchorage\\b|\\bAnchau\\b|\\bAncaster\\b|\\bAnbyon\\-up\\b|\\bAnbu\\b|\\bAnastacio\\b|\\bAnapa\\b|\\bAnantnag\\b|\\bAnantapur\\b|\\bAnanindeua\\b|\\bAnandpur\\b|\\bAnand\\b|\\bAnan\\b|\\bAnamur\\b|\\bAnamalais\\b|\\bAnakapalle\\b|\\bAnak\\b|\\bAnaime\\b|\\bAnaheim\\b|\\bAnacortes\\b|\\bAnaco\\b|\\bAn Nusayrat\\b|\\bAn Nuhud\\b|\\bAn Nimas\\b|\\bAn Nabk\\b|\\bAn Muileann gCearr\\b|\\bAmes\\b|\\bAmerico Brasiliense\\b|\\bAmvrosiyivka\\b|\\bAmursk\\b|\\bAmuntai\\b|\\bAmudalavalasa\\b|\\bAmstetten\\b|\\bAmsterdam\\-Zuidoost\\b|\\bAmsterdam\\b|\\bAmsterdam\\b|\\bAmstelveen\\b|\\bAmravati\\b|\\bAmroli\\b|\\bAmroha\\b|\\bAmritsar\\b|\\bAmreli\\b|\\bAmpthill\\b|\\bAmposta\\b|\\bAmpliacion San Mateo \\(Colonia Solidaridad\\)\\b|\\bAmphoe Sikhiu\\b|\\bAmpasimanolotra\\b|\\bAmparo\\b|\\bAmparafaravola\\b|\\bAmpara\\b|\\bAmpanihy\\b|\\bAmpang\\b|\\bAmpahana\\b|\\bAmozoc de Mota\\b|\\bAmos\\b|\\bAmorebieta\\b|\\bAmora\\b|\\bAmod\\b|\\bAmnat Charoen\\b|\\bAmmi Moussa\\b|\\bAmmanford\\b|\\bAmman\\b|\\bAmlapura city\\b|\\bAmlapura\\b|\\bAmla\\b|\\bAmizour\\b|\\bAmirdzhan\\b|\\bAmin'yevo\\b|\\bAmiens\\b|\\bAmi\\b|\\bAmherst Center\\b|\\bAmherst\\b|\\bAmherst\\b|\\bAmet\\b|\\bAmesbury\\b|\\bAmes\\b|\\bAmersham on the Hill\\b|\\bAmersham\\b|\\bAmersfoort\\b|\\bAmericus\\b|\\bAmericana\\b|\\bAmerican Fork\\b|\\bAmerican Canyon\\b|\\bAmecameca\\b|\\bAmeca\\b|\\bAmbala\\b|\\bAmbajogai\\b|\\bAmbah\\b|\\bAmbur\\b|\\bAmbovombe\\b|\\bAmbositra\\b|\\bAmbon\\b|\\bAmbohitrolomahitsy\\b|\\bAmboasary\\b|\\bAmboanjo\\b|\\bAmbilobe\\b|\\bAmbikapur\\b|\\bAmberg\\b|\\bAmbattur\\b|\\bAmbatondrazaka\\b|\\bAmbatolampy\\b|\\bAmbatofinandrahana\\b|\\bAmbato Boeny\\b|\\bAmbato\\b|\\bAmbasamudram\\b|\\bAmbarawa\\b|\\bAmbarakaraka\\b|\\bAmbanja\\b|\\bAmbalavao\\b|\\bAmbalangoda\\b|\\bAmbad\\b|\\bAmato\\b|\\bAmatitlan\\b|\\bAmasya\\b|\\bAmarpatan\\b|\\bAmarpur\\b|\\bAmarnath\\b|\\bAmarillo\\b|\\bAmargosa\\b|\\bAmaraji\\b|\\bAmancio\\b|\\bAman Garh\\b|\\bAmalapuram\\b|\\bAmalner\\b|\\bAmaliada\\b|\\bAmaigbo\\b|\\bAmahai\\b|\\bAmagi\\b|\\bAmagasaki\\b|\\bAmadora\\b|\\bAmadeo\\b|\\bAm Timan\\b|\\bAl'met'yevsk\\b|\\bAlipur Duar\\b|\\bAlipur\\b|\\bAligudarz\\b|\\bAligarh\\b|\\bAliganj\\b|\\bAlibag\\b|\\bAlem Paraiba\\b|\\bAles\\b|\\bAlzira\\b|\\bAlzey\\b|\\bAlzenau in Unterfranken\\b|\\bAlytus\\b|\\bAlwaye\\b|\\bAlwar\\b|\\bAlvin\\b|\\bAlvarado\\b|\\bAlvand\\b|\\bAlvand\\b|\\bAlvalade\\b|\\bAluva\\b|\\bAlushta\\b|\\bAlum Rock\\b|\\bAltus\\b|\\bAltuf'yevskiy\\b|\\bAltstadt Sud\\b|\\bAltstadt Nord\\b|\\bAltrincham\\b|\\bAltotonga\\b|\\bAltos\\b|\\bAltoona\\b|\\bAltoona\\b|\\bAltona Meadows\\b|\\bAltona\\b|\\bAlton\\b|\\bAlton\\b|\\bAlton\\b|\\bAlto Lucero\\b|\\bAlto Barinas\\b|\\bAltglienicke\\b|\\bAltepexi\\b|\\bAltenburg\\b|\\bAltena\\b|\\bAltea\\b|\\bAltdorf\\b|\\bAltay\\b|\\bAltamura\\b|\\bAltamonte Springs\\b|\\bAltamont\\b|\\bAltamira\\b|\\bAltamira\\b|\\bAltai\\b|\\bAltagracia de Orituco\\b|\\bAltadena\\b|\\bAlta Gracia\\b|\\bAlt\\-Hohenschonhausen\\b|\\bAlsip\\b|\\bAlsfeld\\b|\\bAlsdorf\\b|\\bAlquizar\\b|\\bAlpignano\\b|\\bAlphen aan den Rijn\\b|\\bAlpharetta\\b|\\bAlotenango\\b|\\bAlot\\b|\\bAlor Setar\\b|\\bAlor Gajah\\b|\\bAlong\\b|\\bAloha\\b|\\bAlofi\\b|\\bAlnavar\\b|\\bAlmunecar\\b|\\bAlmozara\\b|\\bAlmoradi\\b|\\bAlmora\\b|\\bAlmonte\\b|\\bAlmirante Tamandare\\b|\\bAlmeria\\b|\\bAlmere Stad\\b|\\bAlmendralejo\\b|\\bAlmenara\\b|\\bAlmelo\\b|\\bAlmeirim\\b|\\bAlmaty\\b|\\bAlmassora\\b|\\bAlmansa\\b|\\bAlmada\\b|\\bAlma\\b|\\bAllschwil\\b|\\bAlloa\\b|\\bAlliston\\b|\\bAllison Park\\b|\\bAlliance\\b|\\bAllentown\\b|\\bAllende\\b|\\bAllende\\b|\\bAllendale\\b|\\bAllen Park\\b|\\bAllen\\b|\\bAllen\\b|\\bAllauch\\b|\\bAllapattah\\b|\\bAllanridge\\b|\\bAllahabad\\b|\\bAllada\\b|\\bAlkmaar\\b|\\bAljaraque\\b|\\bAliwal North\\b|\\bAliso Viejo\\b|\\bAlipur\\b|\\bAlingsas\\b|\\bAlief\\b|\\bAlicia\\b|\\bAlice Springs\\b|\\bAlice\\b|\\bAlicante\\b|\\bAliaga\\b|\\bAliaga\\b|\\bAlhaurin el Grande\\b|\\bAlhaurin de la Torre\\b|\\bAlhambra\\b|\\bAlhambra\\b|\\bAlhama de Murcia\\b|\\bAlges\\b|\\bAlgueirao\\b|\\bAlgorta\\b|\\bAlgonquin\\b|\\bAlgiers\\b|\\bAlghero\\b|\\bAlgete\\b|\\bAlgemesi\\b|\\bAlgeciras\\b|\\bAlfter\\b|\\bAlfreton\\b|\\bAlfragide\\b|\\bAlfortville\\b|\\bAlfenas\\b|\\bAlfena\\b|\\bAlfeld\\b|\\bAlfafar\\b|\\bAleysk\\b|\\bAlexandroupoli\\b|\\bAlexandria\\b|\\bAlexandria\\b|\\bAlexandria\\b|\\bAlexandria\\b|\\bAlexandra Hills\\b|\\bAlessandria\\b|\\bAleshtar\\b|\\bAleppo\\b|\\bAlencon\\b|\\bAlenquer\\b|\\bAleksotas\\b|\\bAleksin\\b|\\bAlekseyevka\\b|\\bAlekseyevka\\b|\\bAleksandrow Lodzki\\b|\\bAleksandrovskoye\\b|\\bAleksandrovsk\\b|\\bAleksandrov\\b|\\bAlegrete\\b|\\bAlegre\\b|\\bAleg\\b|\\bAldridge\\b|\\bAldine\\b|\\bAldershot\\b|\\bAlderetes\\b|\\bAldan\\b|\\bAldama\\b|\\bAldaia\\b|\\bAlcudia\\b|\\bAlcazar de San Juan\\b|\\bAlcoy\\b|\\bAlcorcon\\b|\\bAlcobendas\\b|\\bAlcobaca\\b|\\bAlchevs'k\\b|\\bAlcaniz\\b|\\bAlcantarilla\\b|\\bAlcamo\\b|\\bAlcala la Real\\b|\\bAlcala de Henares\\b|\\bAlcala de Guadaira\\b|\\bAlcalde Diaz\\b|\\bAlcabideche\\b|\\bAlbuquerque\\b|\\bAlbufeira\\b|\\bAlbstadt\\b|\\bAlboraya\\b|\\bAlborada Jaltenco\\b|\\bAlbolote\\b|\\bAlblasserdam\\b|\\bAlbignasego\\b|\\bAlbi\\b|\\bAlbertville\\b|\\bAlbertville\\b|\\bAlbertslund\\b|\\bAlberton\\b|\\bAlbert Lea\\b|\\bAlbenga\\b|\\bAlbemarle\\b|\\bAlbardon\\b|\\bAlbany Park\\b|\\bAlbany Creek\\b|\\bAlbany\\b|\\bAlbany\\b|\\bAlbany\\b|\\bAlbany\\b|\\bAlbany\\b|\\bAlbano Laziale\\b|\\bAlbal\\b|\\bAlbacete\\b|\\bAlba Iulia\\b|\\bAlba\\b|\\bAlasehir\\b|\\bAlatyr'\\b|\\bAlarobia\\b|\\bAlaquas\\b|\\bAlappuzha\\b|\\bAlapli\\b|\\bAlapayevsk\\b|\\bAlanya\\b|\\bAlangayam\\b|\\bAlandur\\b|\\bAlandi\\b|\\bAland\\b|\\bAlamogordo\\b|\\bAlamo\\b|\\bAlaminos\\b|\\bAlameda\\b|\\bAlamar\\b|\\bAlajuela\\b|\\bAlagoinhas\\b|\\bAlagoa Grande\\b|\\bAlagir\\b|\\bAlaghsas\\b|\\bAlafaya\\b|\\bAlaca\\b|\\bAlabel\\b|\\bAlabaster\\b|\\bAl\\-`Ula\\b|\\bAl\\-Hamdaniya\\b|\\bAl 'Aziziyah\\b|\\bAl 'Ayzariyah\\b|\\bAl 'Ayyat\\b|\\bAl 'Amarah\\b|\\bAl Hamul\\b|\\bAl Hudaydah\\b|\\bAl Hillah\\b|\\bAl Hazm\\b|\\bAl Hayy\\b|\\bAl Hawatah\\b|\\bAl Hawamidiyah\\b|\\bAl Hasakah\\b|\\bAl Harak\\b|\\bAl Yamun\\b|\\bAl Wasitah\\b|\\bAl Wakrah\\b|\\bAl Wajh\\b|\\bAl Shamkhah City\\b|\\bAl Qusiyah\\b|\\bAl Qutayfah\\b|\\bAl Qusayr\\b|\\bAl Qusayr\\b|\\bAl Qurayn\\b|\\bAl Qunaytirah\\b|\\bAl Qubbah\\b|\\bAl Qitena\\b|\\bAl Qatif\\b|\\bAl Qararah\\b|\\bAl Qaryatayn\\b|\\bAl Qanatir al Khayriyah\\b|\\bAl Qanayat\\b|\\bAl Qadarif\\b|\\bAl Musayyib\\b|\\bAl Munayzilah\\b|\\bAl Muharraq\\b|\\bAl Mubarraz\\b|\\bAl Mithnab\\b|\\bAl Mishkhab\\b|\\bAl Miqdadiyah\\b|\\bAl Minya\\b|\\bAl Mijlad\\b|\\bAl Mahallah al Kubra\\b|\\bAl Matariyah\\b|\\bAl Mayadin\\b|\\bAl Mawsil al Jadidah\\b|\\bAl Marsa\\b|\\bAl Marj\\b|\\bAl Mansurah\\b|\\bAl Manaqil\\b|\\bAl Manzalah\\b|\\bAl Manshah\\b|\\bAl Manqaf\\b|\\bAl Mahbulah\\b|\\bAl Kut\\b|\\bAl Kiswah\\b|\\bAl Kharijah\\b|\\bAl Khankah\\b|\\bAl Khaburah\\b|\\bAl Khums\\b|\\bAl Khawr\\b|\\bAl Kharj\\b|\\bAl Khafji\\b|\\bAl Jumum\\b|\\bAl Jubayl\\b|\\bAl Jubayhah\\b|\\bAl Jawf\\b|\\bAl Jammaliyah\\b|\\bAl Jahra'\\b|\\bAl Jadid\\b|\\bAl Ibrahimiyah\\b|\\bAl Harithah\\b|\\bAl Hufuf\\b|\\bAl Hoceima\\b|\\bAl Hindiyah\\b|\\bAl Hilaliyya\\b|\\bAl Hasaheisa\\b|\\bAl Faw\\b|\\bAl Fujairah City\\b|\\bAl Fqih Ben Calah\\b|\\bAl Fintas\\b|\\bAl Fahahil\\b|\\bAl Fayyum\\b|\\bAl Fashn\\b|\\bAl Farwaniyah\\b|\\bAl Fallujah\\b|\\bAl Birah\\b|\\bAl Bajur\\b|\\bAl Bab\\b|\\bAl Buraymi\\b|\\bAl Burayj\\b|\\bAl Bukayriyah\\b|\\bAl Battaliyah\\b|\\bAl Basrah al Qadimah\\b|\\bAl Bayda'\\b|\\bAl Bayda\\b|\\bAl Bawiti\\b|\\bAl Balyana\\b|\\bAl Bahah\\b|\\bAl Badari\\b|\\bAl Ahmadi\\b|\\bAl Ajaylat\\b|\\bAl Ain City\\b|\\bAl Abyar\\b|\\bAl Aaroui\\b|\\bAksehir\\b|\\bAkcakoca\\b|\\bAkcakale\\b|\\bAkcaabat\\b|\\bAkyazi\\b|\\bAkwatia\\b|\\bAkwanga\\b|\\bAkureyri\\b|\\bAkure\\b|\\bAkune\\b|\\bAku\\b|\\bAktobe\\b|\\bAktau\\b|\\bAksu\\b|\\bAksu\\b|\\bAksay\\b|\\bAksaray\\b|\\bAkron\\b|\\bAkoupe\\b|\\bAkouda\\b|\\bAkot\\b|\\bAkora\\b|\\bAkonolinga\\b|\\bAkola\\b|\\bAklera\\b|\\bAkkol'\\b|\\bAkkarampalle\\b|\\bAkividu\\b|\\bAkita\\b|\\bAkim Oda\\b|\\bAki\\b|\\bAkhtyrskiy\\b|\\bAkhtubinsk\\b|\\bAkhmim\\b|\\bAkhisar\\b|\\bAkhaltsikhe\\b|\\bAketi\\b|\\bAkdagmadeni\\b|\\bAkbou\\b|\\bAkbarabad\\b|\\bAkbarpur\\b|\\bAkbarpur\\b|\\bAkashi\\b|\\bAkaltara\\b|\\bAkalkot\\b|\\bAkademicheskoe\\b|\\bAkademgorodok\\b|\\bAja\\b|\\bAjra\\b|\\bAjodhya\\b|\\bAjnala\\b|\\bAjmer\\b|\\bAjman City\\b|\\bAjka\\b|\\bAjdabiya\\b|\\bAjax\\b|\\bAjaokuta\\b|\\bAjalpan\\b|\\bAjaccio\\b|\\bAizawl\\b|\\bAix\\-les\\-Bains\\b|\\bAix\\-en\\-Provence\\b|\\bAiud\\b|\\bAistala\\b|\\bAiroli\\b|\\bAirdrie\\b|\\bAirdrie\\b|\\bAioi\\b|\\bAin Sukhna\\b|\\bAimores\\b|\\bAileu\\b|\\bAiken\\b|\\bAigaleo\\b|\\bAichach\\b|\\bAhwatukee Foothills\\b|\\bAhvaz\\b|\\bAhualulco de Mercado\\b|\\bAhuachapan\\b|\\bAhrensburg\\b|\\bAhraura\\b|\\bAhmedabad\\b|\\bAhmadpur Sial\\b|\\bAhmadpur East\\b|\\bAhmadpur\\b|\\bAhmadnagar\\b|\\bAhlen\\b|\\bAhlat\\b|\\bAhfir\\b|\\bAhaus\\b|\\bAhar\\b|\\bAguimes\\b|\\bAgia Varvara\\b|\\bAgia Paraskevi\\b|\\bAgustin Codazzi\\b|\\bAgulu\\b|\\bAguilares\\b|\\bAguilares\\b|\\bAgudos\\b|\\bAguai\\b|\\bAguazul\\b|\\bAguascalientes\\b|\\bAguadilla\\b|\\bAguadas\\b|\\bAguada de Pasajeros\\b|\\bAguachica\\b|\\bAgua Prieta\\b|\\bAgua Dulce\\b|\\bAgrinio\\b|\\bAgryz\\b|\\bAgropoli\\b|\\bAgrigento\\b|\\bAgra\\b|\\bAgoura Hills\\b|\\bAgoura\\b|\\bAgoo\\b|\\bAgogo\\b|\\bAgnibilekrou\\b|\\bAgios Ioannis Rentis\\b|\\bAgios Dimitrios\\b|\\bAginskoye\\b|\\bAgidel'\\b|\\bAghsu\\b|\\bAghajari\\b|\\bAgeoshimo\\b|\\bAgen\\b|\\bAgdzhabedy\\b|\\bAgde\\b|\\bAgboville\\b|\\bAgbor\\b|\\bAgawam\\b|\\bAgartala\\b|\\bAgar\\b|\\bAgadir\\b|\\bAgadez\\b|\\bAfsin\\b|\\bAfzalpur\\b|\\bAfzalgarh\\b|\\bAfyonkarahisar\\b|\\bAfula\\b|\\bAfragola\\b|\\bAfogados da Ingazeira\\b|\\bAflou\\b|\\bAflao\\b|\\bAfipskiy\\b|\\bAfikpo\\b|\\bAfif\\b|\\bAfgooye\\b|\\bAffton\\b|\\bAffery\\b|\\bAdur\\b|\\bAdiyaman\\b|\\bAdzope\\b|\\bAdwick le Street\\b|\\bAdrogue\\b|\\bAdrian\\b|\\bAdrar\\b|\\bAdrano\\b|\\bAdra\\b|\\bAdra\\b|\\bAdo\\-Ekiti\\b|\\bAdo Odo\\b|\\bAdmiralteisky\\b|\\bAdliswil\\b|\\bAdlershof\\b|\\bAdler\\b|\\bAdjumani\\b|\\bAdjud\\b|\\bAdiwerna\\b|\\bAdirampattinam\\b|\\bAdilcevaz\\b|\\bAdiake\\b|\\bAdh Dhayd\\b|\\bAden\\b|\\bAdelphi\\b|\\bAdelfia\\b|\\bAdelanto\\b|\\bAdelaide city centre\\b|\\bAdelaide Hills\\b|\\bAdelaide\\b|\\bAdeje\\b|\\bAddison\\b|\\bAddison\\b|\\bAddis Ababa\\b|\\bAddiet Canna\\b|\\bAddanki\\b|\\bAdapazari\\b|\\bAdana\\b|\\bAdamstown\\b|\\bAdams Morgan\\b|\\bAdampur\\b|\\bAdamantina\\b|\\bAdam\\b|\\bAda\\b|\\bAd\\-Damazin\\b|\\bAd Diwaniyah\\b|\\bAd Dana\\b|\\bAd Dujayl\\b|\\bAd Douiem\\b|\\bAd Dindar\\b|\\bAd Dilinjat\\b|\\bAd Dilam\\b|\\bAd Dawadimi\\b|\\bAd Dasmah\\b|\\bAd Darbasiyah\\b|\\bAcambaro\\b|\\bAcworth\\b|\\bActopan\\b|\\bActon\\b|\\bActon\\b|\\bAcre\\b|\\bAcqui Terme\\b|\\bAcquaviva delle Fonti\\b|\\bAcopiara\\b|\\bAcocks Green\\b|\\bAcireale\\b|\\bAcilia\\-Castel Fusano\\-Ostia Antica\\b|\\bAci Catena\\b|\\bAci Castello\\b|\\bAcheres\\b|\\bAchkhoy\\-Martan\\b|\\bAchinsk\\b|\\bAchim\\b|\\bAchhnera\\b|\\bAchern\\b|\\bAcheng\\b|\\bAcharnes\\b|\\bAchalpur\\b|\\bAcerra\\b|\\bAccrington\\b|\\bAccra\\b|\\bAcayucan\\b|\\bAcatzingo\\b|\\bAcatlan de Osorio\\b|\\bAcarigua\\b|\\bAcarau\\b|\\bAcapulco de Juarez\\b|\\bAcaponeta\\b|\\bAcajutla\\b|\\bAcajete\\b|\\bAcacias\\b|\\bAbu 'Arish\\b|\\bAbu al Matamir\\b|\\bAbu Zabad\\b|\\bAbu Tij\\b|\\bAbu Qurqas\\b|\\bAbu Kabir\\b|\\bAbu Ghurayb\\b|\\bAbeche\\b|\\bAbuyog\\b|\\bAburi\\b|\\bAbuja\\b|\\bAbucay\\b|\\bAbu Jibeha\\b|\\bAbu Dhabi\\b|\\bAbrisham\\b|\\bAbreus\\b|\\bAbreu e Lima\\b|\\bAbrama\\b|\\bAbqaiq\\b|\\bAbovyan\\b|\\bAbou el Hassan\\b|\\bAbony\\b|\\bAbomsa\\b|\\bAbomey\\-Calavi\\b|\\bAbomey\\b|\\bAboisso\\b|\\bAbohar\\b|\\bAbobo\\b|\\bAbnub\\b|\\bAbinsk\\b|\\bAbington\\b|\\bAbingdon\\b|\\bAbilene\\b|\\bAbiko\\b|\\bAbidjan\\b|\\bAbhayapuri\\b|\\bAbhar\\b|\\bAbha\\b|\\bAberystwyth\\b|\\bAbergele\\b|\\bAberdeen\\b|\\bAberdeen\\b|\\bAberdeen\\b|\\bAberdeen\\b|\\bAberdare\\b|\\bAbepura\\b|\\bAbeokuta\\b|\\bAbengourou\\b|\\bAbdulino\\b|\\bAbbottabad\\b|\\bAbbotsford\\b|\\bAbbiategrasso\\b|\\bAbbeville\\b|\\bAbaza\\b|\\bAbay\\b|\\bAbasolo\\b|\\bAbashiri\\b|\\bAbano Terme\\b|\\bAbancay\\b|\\bAbakan\\b|\\bAbakaliki\\b|\\bAbaete\\b|\\bAbaetetuba\\b|\\bAbadan\\b|\\bAbadan\\b|\\bAba\\b|\\bAarschot\\b|\\bAarau\\b|\\bAalter\\b|\\bAalten\\b|\\bAalst\\b|\\bAalsmeer\\b|\\bAalen\\b|\\bAalborg\\b|\\bAachen\\b|\\bAabenraa\\b|\\bA Estrada\\b|\\bA Coruna\\b|\\b's\\-Hertogenbosch\\b|\\b's\\-Gravenzande\\b|\\b'Ali Sabieh\\b\n"
     ]
    },
    {
     "name": "stdout",
     "output_type": "stream",
     "text": [
      "                               0\n",
      "'Ain\\ el\\ Turk      ’Aïn el Turk\n",
      "'Ain\\ el\\ Melh      ’Aïn el Melh\n",
      "'Ain\\ el\\ Hammam  ’Aïn el Hammam\n",
      "'Ain\\ el\\ Berd      ’Aïn el Berd\n",
      "'Ain\\ el\\ Bell      ’Aïn el Bell\n",
      "23022\n"
     ]
    }
   ],
   "source": [
    "regString = \"\"\n",
    "originalCity = {}\n",
    "for cityName in cityList:\n",
    "    #\n",
    "    origName = cityName\n",
    "    cityName = unidecode(re.escape(cityName))\n",
    "    originalCity[cityName] = origName\n",
    "    cityName = cityName.replace(\"\\ \", \" \")\n",
    "    cityName = r'\\b' + cityName + r'\\b'\n",
    "    if(regString != \"\"):\n",
    "        regString = regString + '|'+ cityName\n",
    "    else:\n",
    "        regString = regString + cityName\n",
    "        \n",
    "print(regString)\n",
    "regExpCity = re.compile(r''+regString)\n",
    "\n",
    "print(pd.DataFrame(originalCity, index=[0]).T.head())\n",
    "print(len(originalCity))\n",
    "regStringCountry = \"\"\n",
    "for countryName in countryList:\n",
    "    countryName = unidecode(re.escape(countryName))\n",
    "    countryName = countryName.replace(\"\\ \", \" \")\n",
    "    countryName = r'\\b' + countryName + r'\\b'\n",
    "    if(regStringCountry != \"\"):\n",
    "        regStringCountry = regStringCountry + \"|\" + countryName \n",
    "    else:\n",
    "        regStringCountry = regStringCountry + countryName\n",
    "\n",
    "\n",
    "regExpCountry = re.compile(r''+regStringCountry)"
   ]
  },
  {
   "cell_type": "code",
   "execution_count": 249,
   "id": "b3e8ffe6",
   "metadata": {},
   "outputs": [
    {
     "name": "stdout",
     "output_type": "stream",
     "text": [
      "{'headline': 'Louisiana Zika cases up to 26', 'cities': [], 'countries': []}\n",
      "{'headline': 'Zika infects pregnant woman in Cebu', 'cities': [], 'countries': []}\n",
      "{'headline': 'Spanish Flu Sighted in Antigua', 'cities': [], 'countries': []}\n",
      "{'headline': 'Carnival under threat in Rio De Janeiro due to Zika outbreak', 'cities': [], 'countries': []}\n",
      "{'headline': 'Zika case reported in Oton', 'cities': [], 'countries': []}\n",
      "{'headline': 'Hillsborough uses innovative trap against Zika 20 minutes ago', 'cities': [], 'countries': []}\n",
      "{'headline': 'Maka City Experiences Influenza Outbreak', 'cities': [], 'countries': []}\n",
      "{'headline': 'More Zika patients reported in Mcallen', 'cities': [], 'countries': []}\n",
      "{'headline': 'West Nile Virus Outbreak in Saint Johns', 'cities': [], 'countries': []}\n",
      "{'headline': 'More people in Mclean are infected with Hepatitis A every year', 'cities': [], 'countries': []}\n",
      "{'headline': 'Malaria Exposure in Sussex', 'cities': [], 'countries': []}\n",
      "{'headline': 'Greenwich Establishes Zika Task Force', 'cities': [], 'countries': []}\n",
      "{'headline': 'Will West Nile Virus vaccine help Parsons?', 'cities': [], 'countries': []}\n",
      "{'headline': 'Yulee takes a hit from Spreading Sickness', 'cities': [], 'countries': []}\n",
      "{'headline': 'The Spread of Chikungunya in Davidson has been Confirmed', 'cities': [], 'countries': []}\n",
      "{'headline': 'Zika case reported in Los Fresnos', 'cities': [], 'countries': []}\n",
      "{'headline': 'More people in Boucau are infected with HIV every year', 'cities': [], 'countries': []}\n",
      "{'headline': 'Bronchitis Outbreak in Manhasset', 'cities': [], 'countries': []}\n",
      "{'headline': 'Zika Troubles come to Padre Las Casas', 'cities': [], 'countries': []}\n",
      "{'headline': 'Rumors about Influenza Spreading in Dobbs Ferry have been Refuted', 'cities': [], 'countries': []}\n",
      "{'headline': 'Outbreak of Zika in Destin', 'cities': [], 'countries': []}\n",
      "{'headline': 'More people in Huron are infected with Dengue every year', 'cities': [], 'countries': []}\n",
      "{'headline': 'Will Tuberculosis vaccine help Cherry Creek?', 'cities': [], 'countries': []}\n",
      "{'headline': 'Gympie Patient in Critical Condition after Contracting Chlamydia', 'cities': [], 'countries': []}\n",
      "{'headline': 'Spike of Meningitis Cases in Druid Hills', 'cities': [], 'countries': []}\n",
      "{'headline': 'Martinsville tests new cure for Measles', 'cities': [], 'countries': []}\n",
      "{'headline': 'More Patients in Magnolia are Getting Diagnosed with Malaria', 'cities': [], 'countries': []}\n",
      "{'headline': 'Rumors about Syphilis spreading in Penal have been refuted', 'cities': [], 'countries': []}\n",
      "{'headline': 'Fort Belvoir tests new cure for Hepatitis C', 'cities': [], 'countries': []}\n",
      "{'headline': 'More people in Oak Brook are infected with Respiratory Syncytial Virus every year', 'cities': [], 'countries': []}\n",
      "{'headline': 'Outbreak of Zika in Hutchins', 'cities': [], 'countries': []}\n",
      "{'headline': 'Longwood volunteers spreading Zika awareness', 'cities': [], 'countries': []}\n",
      "{'headline': 'Zika symptoms spotted in Quixere', 'cities': [], 'countries': []}\n",
      "{'headline': 'Measles Hits Davos', 'cities': [], 'countries': []}\n",
      "{'headline': 'Spike of Hepatitis E Cases in Morehead City', 'cities': [], 'countries': []}\n",
      "{'headline': 'Outbreak of Zika in Alvorada', 'cities': [], 'countries': []}\n",
      "{'headline': 'Schools in Coamo Closed Due to Rhinovirus Outbreak', 'cities': [], 'countries': []}\n",
      "{'headline': 'Zika arrives in Dangriga', 'cities': [], 'countries': []}\n",
      "{'headline': 'More Patients in Maynard are Getting Diagnosed with Syphilis', 'cities': [], 'countries': []}\n",
      "{'headline': 'Zika case reported in Antioquia', 'cities': [], 'countries': []}\n",
      "{'headline': 'Chikungunya has not Left Pismo Beach', 'cities': [], 'countries': []}\n",
      "{'headline': 'Zika spreads to La Joya', 'cities': [], 'countries': []}\n",
      "total missed: 42\n"
     ]
    }
   ],
   "source": [
    "listOfHeadlines = []\n",
    "for line in lines:\n",
    "    line = line.replace(\"\\n\", \"\")\n",
    "    decoded = unidecode((line))\n",
    "    matchedCities = re.findall(r''+regString,decoded)\n",
    "    matchedCountries = re.findall(r''+regStringCountry,decoded)\n",
    "    \n",
    "    newDictObject = {\"headline\": decoded, \"cities\": matchedCities, \"countries\": matchedCountries}\n",
    "    listOfHeadlines.append(newDictObject)\n",
    "countMissed = 0\n",
    "for item in listOfHeadlines:\n",
    "    if(item[\"countries\"] == [] and item[\"cities\"] == []):\n",
    "        print(item)\n",
    "        countMissed += 1\n",
    "print(\"total missed: \" + str(countMissed))\n",
    "\n",
    "#Rio De Janeiro vs Rio de Janeiro is easier to fix in the data compared to in the code - as otherwise we will end up catching a whole lot of 'Man' and 'Of' in the cities list"
   ]
  },
  {
   "cell_type": "code",
   "execution_count": 250,
   "id": "f48653cf",
   "metadata": {},
   "outputs": [
    {
     "name": "stdout",
     "output_type": "stream",
     "text": [
      "                                  headline           cities countries\n",
      "0                 Zika Outbreak Hits Miami          [Miami]        []\n",
      "1          Could Zika Reach New York City?  [New York City]        []\n",
      "2        First Case of Zika in Miami Beach    [Miami Beach]        []\n",
      "3  Mystery Virus Spreads in Recife, Brazil         [Recife]  [Brazil]\n",
      "4  Dallas man comes down with case of Zika         [Dallas]        []\n"
     ]
    }
   ],
   "source": [
    "df = pd.DataFrame(listOfHeadlines)\n",
    "print(df.head())"
   ]
  },
  {
   "cell_type": "markdown",
   "id": "75153d92",
   "metadata": {},
   "source": []
  },
  {
   "cell_type": "code",
   "execution_count": 251,
   "id": "f47864b3",
   "metadata": {},
   "outputs": [
    {
     "name": "stdout",
     "output_type": "stream",
     "text": [
      "[] Louisiana Zika cases up to 26\n",
      "[] Zika infects pregnant woman in Cebu\n",
      "Double city  ['Tampa', 'Bay'] Tampa Bay Area Zika Case Count Climbs  at location  21\n",
      "Double city  ['Kuala Lumpur', 'Hit'] Kuala Lumpur is Hit By Zika Threat  at location  33\n",
      "[] Spanish Flu Sighted in Antigua\n",
      "[] Carnival under threat in Rio De Janeiro due to Zika outbreak\n",
      "[] Zika case reported in Oton\n",
      "[] Hillsborough uses innovative trap against Zika 20 minutes ago\n",
      "[] Maka City Experiences Influenza Outbreak\n",
      "Double city  ['Seminole', 'Florida'] Zika Patient in Seminole, Florida  at location  98\n",
      "Double city  ['Can', 'Vero Beach'] Can Zika make it here to Vero Beach?  at location  101\n",
      "Double city  ['Spring', 'Fort Lauderdale'] Spring break ruined by Zika in Fort Lauderdale  at location  120\n",
      "Double city  ['Batangas', 'Hit'] Batangas Tourism Takes a Hit as Virus Spreads  at location  134\n",
      "[] More Zika patients reported in Mcallen\n",
      "[] West Nile Virus Outbreak in Saint Johns\n",
      "Double city  ['Belmont', 'Belmont'] Zika in Belmont, Belmont worry  at location  159\n",
      "[] More people in Mclean are infected with Hepatitis A every year\n",
      "[] Malaria Exposure in Sussex\n",
      "[] Greenwich Establishes Zika Task Force\n",
      "[] Will West Nile Virus vaccine help Parsons?\n",
      "[] Yulee takes a hit from Spreading Sickness\n",
      "[] The Spread of Chikungunya in Davidson has been Confirmed\n",
      "[] Zika case reported in Los Fresnos\n",
      "[] More people in Boucau are infected with HIV every year\n",
      "[] Bronchitis Outbreak in Manhasset\n",
      "[] Zika Troubles come to Padre Las Casas\n",
      "[] Rumors about Influenza Spreading in Dobbs Ferry have been Refuted\n",
      "[] Outbreak of Zika in Destin\n",
      "[] More people in Huron are infected with Dengue every year\n",
      "[] Will Tuberculosis vaccine help Cherry Creek?\n",
      "[] Gympie Patient in Critical Condition after Contracting Chlamydia\n",
      "[] Spike of Meningitis Cases in Druid Hills\n",
      "[] Martinsville tests new cure for Measles\n",
      "[] More Patients in Magnolia are Getting Diagnosed with Malaria\n",
      "[] Rumors about Syphilis spreading in Penal have been refuted\n",
      "[] Fort Belvoir tests new cure for Hepatitis C\n",
      "[] More people in Oak Brook are infected with Respiratory Syncytial Virus every year\n",
      "[] Outbreak of Zika in Hutchins\n",
      "[] Longwood volunteers spreading Zika awareness\n",
      "[] Zika symptoms spotted in Quixere\n",
      "[] Measles Hits Davos\n",
      "[] Spike of Hepatitis E Cases in Morehead City\n",
      "[] Outbreak of Zika in Alvorada\n",
      "[] Schools in Coamo Closed Due to Rhinovirus Outbreak\n",
      "[] Zika arrives in Dangriga\n",
      "[] More Patients in Maynard are Getting Diagnosed with Syphilis\n",
      "[] Zika case reported in Antioquia\n",
      "[] Chikungunya has not Left Pismo Beach\n",
      "[] Zika spreads to La Joya\n"
     ]
    }
   ],
   "source": [
    "def count_doubles():\n",
    "    for entry in df.index:\n",
    "        if(len(df[\"cities\"][entry]) > 1):\n",
    "           print(\"Double city \",df[\"cities\"][entry], df[\"headline\"][entry], \" at location \", entry)\n",
    "        if(len(df[\"countries\"][entry]) > 1):\n",
    "           print(df[\"countries\"][entry], df[\"headline\"][entry])\n",
    "        if(len(df[\"countries\"][entry]) < 1 and len(df[\"cities\"][entry]) < 1):\n",
    "            print(df[\"countries\"][entry], df[\"headline\"][entry])\n",
    "count_doubles()"
   ]
  },
  {
   "cell_type": "markdown",
   "id": "41ca3131",
   "metadata": {},
   "source": [
    "# Clearing out double cities (countries was not a problem!)\n",
    "(And the hit + spring!)\n"
   ]
  },
  {
   "cell_type": "code",
   "execution_count": 252,
   "id": "99cb28c0",
   "metadata": {},
   "outputs": [],
   "source": [
    "#Ugly code, but hey!\n",
    "df.at[21, \"cities\"] = [\"Tampa\"]\n",
    "df.at[33, \"cities\"] = [\"Kuala Lumpur\"]\n",
    "df.at[98, \"cities\"] = [\"Seminole\"]\n",
    "df.at[101, \"cities\"] = [\"Vero Beach\"]\n",
    "df.at[120, \"cities\"] = [\"Fort Lauerdale\"]\n",
    "df.at[134, \"cities\"] = [\"Batangas\"]\n",
    "df.at[159, \"cities\"] = [\"Belmont\"]\n",
    "for entry in df.index:\n",
    "    if(len(df[\"countries\"][entry]) < 1 and len(df[\"cities\"][entry]) < 1):\n",
    "           df.drop([entry], inplace=True)\n",
    "count_doubles()"
   ]
  },
  {
   "cell_type": "markdown",
   "id": "7c726239",
   "metadata": {},
   "source": [
    "# Getting lat/long, deciding as well that the first city returned is an ok heuristic\n",
    "(In reality, we could probably use some contextual clues to find out which city it is, but this is likely also a very risky move)"
   ]
  },
  {
   "cell_type": "code",
   "execution_count": 253,
   "id": "c9e9dc4c",
   "metadata": {},
   "outputs": [
    {
     "name": "stdout",
     "output_type": "stream",
     "text": [
      "                                  headline           cities countries  \\\n",
      "0                 Zika Outbreak Hits Miami          [Miami]        []   \n",
      "1          Could Zika Reach New York City?  [New York City]        []   \n",
      "2        First Case of Zika in Miami Beach    [Miami Beach]        []   \n",
      "3  Mystery Virus Spreads in Recife, Brazil         [Recife]  [Brazil]   \n",
      "4  Dallas man comes down with case of Zika         [Dallas]        []   \n",
      "\n",
      "   latitude  longitude countrycode country city  \n",
      "0       NaN        NaN         NaN               \n",
      "1       NaN        NaN         NaN               \n",
      "2       NaN        NaN         NaN               \n",
      "3       NaN        NaN         NaN               \n",
      "4       NaN        NaN         NaN               \n"
     ]
    }
   ],
   "source": [
    "df.insert(3, \"latitude\", pd.Series([]), allow_duplicates=True)\n",
    "df.insert(4, \"longitude\", pd.Series([]), allow_duplicates=True)\n",
    "df.insert(5, \"countrycode\", pd.Series([],dtype=\"str\"), allow_duplicates=True)\n",
    "df.insert(6, \"country\", \"\", allow_duplicates=True)\n",
    "df.insert(7, \"city\", \"\", allow_duplicates=True)\n",
    "print(df.head())"
   ]
  },
  {
   "cell_type": "markdown",
   "id": "3c584884",
   "metadata": {},
   "source": [
    "We should probably in reality look for countries too..."
   ]
  },
  {
   "cell_type": "code",
   "execution_count": null,
   "id": "4317a2b4",
   "metadata": {},
   "outputs": [],
   "source": []
  },
  {
   "cell_type": "code",
   "execution_count": 254,
   "id": "e88ba1a1",
   "metadata": {},
   "outputs": [
    {
     "name": "stdout",
     "output_type": "stream",
     "text": [
      "                                  headline  latitude  longitude countrycode  \\\n",
      "0                 Zika Outbreak Hits Miami  25.77427  -80.19366          US   \n",
      "1          Could Zika Reach New York City?  40.71427  -74.00597          US   \n",
      "2        First Case of Zika in Miami Beach  25.79065  -80.13005          US   \n",
      "3  Mystery Virus Spreads in Recife, Brazil  -8.05389  -34.88111          BR   \n",
      "4  Dallas man comes down with case of Zika  32.78306  -96.80667          US   \n",
      "\n",
      "  country           city  \n",
      "0                  Miami  \n",
      "1          New York City  \n",
      "2            Miami Beach  \n",
      "3  Brazil         Recife  \n",
      "4                 Dallas  \n"
     ]
    }
   ],
   "source": [
    "\n",
    "for entry in df.index:\n",
    "    #We'll prefer cities over countries, more specific\n",
    "    if(len(df[\"cities\"][entry]) > 0):\n",
    "        targetCity = gc.get_cities_by_name(df[\"cities\"][entry][0])\n",
    "        if(len(targetCity) > 0):\n",
    "            targetCityDict = targetCity[0]\n",
    "            for value in targetCityDict.values():\n",
    "                df.at[entry,\"latitude\"] = value[\"latitude\"]\n",
    "                df.at[entry,\"longitude\"] = value[\"longitude\"]\n",
    "                df.at[entry,\"countrycode\"] = value[\"countrycode\"]\n",
    "for entry in df.index:\n",
    "    if(len(df[\"cities\"][entry]) > 0):\n",
    "        df.at[entry,\"city\"] = df[\"cities\"][entry][0]\n",
    "    if(len(df[\"countries\"][entry]) > 0):\n",
    "        df.at[entry,\"country\"] = df[\"countries\"][entry][0]\n",
    "df = df.drop(['countries', 'cities'], axis=1)\n",
    "df.dropna(inplace=True)\n",
    "print(df.head())"
   ]
  },
  {
   "cell_type": "code",
   "execution_count": 255,
   "id": "70cadded",
   "metadata": {},
   "outputs": [
    {
     "name": "stdout",
     "output_type": "stream",
     "text": [
      "Total entries with long/lat  581\n"
     ]
    }
   ],
   "source": [
    "count = 0\n",
    "for entry in df.index:\n",
    "    if(not math.isnan(df[\"latitude\"][entry]) and not math.isnan(df[\"longitude\"][entry])):\n",
    "        count += 1\n",
    "print(\"Total entries with long/lat \", count)"
   ]
  },
  {
   "cell_type": "markdown",
   "id": "4cbf9a0b",
   "metadata": {},
   "source": [
    "# As the documentation for get_countries is pretty lacking, skipping countries atm"
   ]
  },
  {
   "cell_type": "markdown",
   "id": "7100e6cb-77a1-4bec-9901-156a2403b35d",
   "metadata": {},
   "source": [
    "# Plot the distribution of headlines\n",
    "(Surprise surprise, one country outweighs them all!)"
   ]
  },
  {
   "cell_type": "code",
   "execution_count": 256,
   "id": "7bcce034",
   "metadata": {},
   "outputs": [],
   "source": [
    "df_countrycode = pd.DataFrame(df['countrycode'].values)\n",
    "df_plot = df_countrycode.apply(pd.value_counts)\n",
    "df_plot[\"Country Code\"] = df_plot.index\n",
    "df_plot.columns = [\"Occurrences\",\"Country Code\"]"
   ]
  },
  {
   "cell_type": "markdown",
   "id": "b574a2b6",
   "metadata": {},
   "source": [
    "# KMeans"
   ]
  },
  {
   "cell_type": "code",
   "execution_count": 257,
   "id": "3180969f",
   "metadata": {},
   "outputs": [],
   "source": [
    "def elbow(df):\n",
    "####\n",
    "#Running some standard elbow code - courtesy of https://jakevdp.github.io/PythonDataScienceHandbook/05.11-k-means.html\n",
    "    sse = [] #SUM OF SQUARED ERROR\n",
    "    for k in range(1,11):\n",
    "        km = KMeans(n_clusters=k, random_state=2)\n",
    "        km.fit(df)\n",
    "        sse.append(km.inertia_)\n",
    "    sns.set_style(\"whitegrid\")\n",
    "    g=sns.lineplot(x=range(1,11), y=sse)\n",
    "\n",
    "    g.set(xlabel =\"Number of cluster (k)\", \n",
    "          ylabel = \"Sum Squared Error\", \n",
    "          title ='Elbow Method')\n",
    "\n",
    "    plt.show()\n",
    "###\n",
    "\n",
    "#Slightly surprised that this gives 2-3?"
   ]
  },
  {
   "cell_type": "markdown",
   "id": "54140bf4",
   "metadata": {},
   "source": [
    "# Basic scatterplot of the fits and centroids - notice the shape"
   ]
  },
  {
   "cell_type": "code",
   "execution_count": 258,
   "id": "6036dbbf",
   "metadata": {},
   "outputs": [],
   "source": [
    "def kmns(df, n_cluster):\n",
    "    cluster_model = KMeans(n_clusters=n_cluster)\n",
    "\n",
    "    list_long = df[\"longitude\"]\n",
    "    list_lat = df[\"latitude\"]\n",
    "    print(list_long.isnull().values.any())\n",
    "    print(list_lat.isnull().values.any())\n",
    "    list_long.dropna(inplace=True)\n",
    "    list_lat.dropna(inplace=True)\n",
    "\n",
    "    cluster_df = pd.concat([list_long,list_lat], axis=1, keys=[\"longitude\", \"latitude\"])\n",
    "    cluster_df.dropna(inplace=True)\n",
    "    elbow(cluster_df)\n",
    "\n",
    "    assigned_coordinates = cluster_model.fit_predict(cluster_df)\n",
    "    df[\"cluster_kmeans\"] = assigned_coordinates\n",
    "    \n",
    "    ###\n",
    "    plt.scatter(cluster_df[\"longitude\"], cluster_df[\"latitude\"], c=assigned_coordinates, s=15, cmap='viridis')\n",
    "\n",
    "    centers = cluster_model.cluster_centers_ #Slightly adapted from original by JakeVDP, above link\n",
    "    plt.scatter(centers[:, 0], centers[:, 1], c='red', s=50, alpha=0.5)\n",
    "    return cluster_df, df, centers"
   ]
  },
  {
   "cell_type": "markdown",
   "id": "6547b305",
   "metadata": {},
   "source": [
    " # DBSCAN"
   ]
  },
  {
   "cell_type": "code",
   "execution_count": 259,
   "id": "1fd0cee2",
   "metadata": {},
   "outputs": [],
   "source": [
    "#db_cluster = DBSCAN(eps=12, min_samples=5).fit(cluster_df)\n",
    "#print(db_cluster.labels_)\n",
    "#df[\"cluster_db\"] = db_cluster.labels_"
   ]
  },
  {
   "cell_type": "markdown",
   "id": "d3406e44",
   "metadata": {},
   "source": [
    "# Turns out that basemap isn't all that nice for annotation - seems complicated to get them only on hover"
   ]
  },
  {
   "cell_type": "markdown",
   "id": "5016959d",
   "metadata": {},
   "source": [
    "plt.figure(figsize=(20, 20)) #200x200 is a nice render, but takes time\n",
    "\n",
    "worldmap = Basemap()\n",
    "worldmap.drawcountries()\n",
    "worldmap.drawcoastlines()\n",
    "worldmap.shadedrelief()\n",
    "x, y = worldmap(df[\"longitude\"].to_numpy(), df[\"latitude\"].to_numpy())\n",
    "\n",
    "\n",
    "\n",
    "for entry in df.index:\n",
    "    plt.annotate(df[\"headline\"][entry], (df[\"longitude\"][entry], df[\"latitude\"][entry]))\n",
    "\n",
    "worldmap.scatter(x, y, marker='o',c=df[\"cluster\"], cmap='plasma', s=11)\n",
    "plt.show()"
   ]
  },
  {
   "cell_type": "markdown",
   "id": "9c4bd166",
   "metadata": {},
   "source": [
    "# Plotly however makes it very easy!"
   ]
  },
  {
   "cell_type": "code",
   "execution_count": 260,
   "id": "afe83aab",
   "metadata": {},
   "outputs": [],
   "source": [
    "def df_centers(centers):\n",
    "    list_of_center_dict = []\n",
    "    for center in centers:\n",
    "        dict_obj = {\"longitude\": center[0], \"latitude\": center[1], \"color\": \"black\", \"name\": \"Cluster Center\"}\n",
    "        list_of_center_dict.append(dict_obj)\n",
    "    return pd.DataFrame(list_of_center_dict)\n",
    "\n",
    "\n",
    "def plotdf(df, centers, titletext):\n",
    "    fig = px.scatter_geo(df, \n",
    "                         lat=df[\"latitude\"], \n",
    "                         lon=df[\"longitude\"], \n",
    "                         hover_name=df[\"headline\"], \n",
    "                         color=df[\"cluster_kmeans\"], \n",
    "                         title=titletext)\n",
    "    center_df = df_centers(centers)\n",
    "    fig_centers = px.scatter_geo(center_df,\n",
    "                                 lat=center_df[\"latitude\"], \n",
    "                                 lon=center_df[\"longitude\"],\n",
    "                                 hover_name=center_df[\"name\"]\n",
    "                                )\n",
    "\n",
    "    fig_final = px.scatter_geo()\n",
    "    fig_final.add_traces(fig_centers._data)\n",
    "    fig_final.add_traces(fig._data)\n",
    "    #Adding multiple scatters was harder than I thought, kudos vestland @https://stackoverflow.com/questions/66466457/python-plotly-express-two-bubble-markers-on-the-same-scatter-geo\n",
    "    #Also, why does it _require_ three plots to produce one, why not just two?\n",
    "    fig_final.update_geos(\n",
    "        projection_type=\"orthographic\",\n",
    "        showcountries=True)\n",
    "    fig_final.data[1].marker.size = 12\n",
    "    fig_final.data[1].marker.symbol = \"diamond\"\n",
    "    fig_final.show()\n",
    "    \n",
    "    "
   ]
  },
  {
   "cell_type": "code",
   "execution_count": 261,
   "id": "ce7f98fa",
   "metadata": {},
   "outputs": [],
   "source": [
    "def splitUSA(df):\n",
    "    us_list = df.loc[df[\"countrycode\"] == \"US\"]\n",
    "    rest_of_world = df.loc[df[\"countrycode\"] != \"US\"]\n",
    "    #for entry in df.index:\n",
    "    #   if(df[\"countrycode\"][entry] == \"US\"):\n",
    "    #      us_list.append(df.iloc(entry))\n",
    "    #  else:\n",
    "    #rest_of_world.append(df.loc(entry))\n",
    "    #print(us_list.head(), \"\\n ### \\n\", rest_of_world.head())\n",
    "    return pd.DataFrame(us_list), pd.DataFrame(rest_of_world)\n",
    "            "
   ]
  },
  {
   "cell_type": "code",
   "execution_count": 262,
   "id": "550fe483",
   "metadata": {},
   "outputs": [],
   "source": [
    "#cluster_df = kmns(df)\n",
    "\n",
    "#plotdf(df,\"KMeans\")\n"
   ]
  },
  {
   "cell_type": "markdown",
   "id": "ce6315f2",
   "metadata": {},
   "source": [
    "# Sort headlines per cluster"
   ]
  },
  {
   "cell_type": "code",
   "execution_count": 263,
   "id": "0cef1387",
   "metadata": {},
   "outputs": [],
   "source": [
    "def calc_distance(df_entry, centers, cluster):\n",
    "    center_long = centers[cluster][0]\n",
    "    center_lat = centers[cluster][1]\n",
    "    euclidean_distance = math.sqrt(\n",
    "        math.pow(\n",
    "            center_long - df_entry[\"longitude\"],\n",
    "            2\n",
    "        )\n",
    "        +\n",
    "        math.pow(\n",
    "            center_lat - df_entry[\"latitude\"],\n",
    "            2\n",
    "        )\n",
    "    )\n",
    "    return euclidean_distance\n",
    "def sort_headlines(df, centers, n_clusters):\n",
    "    list_of_dfs = []\n",
    "    for i in range(n_clusters):\n",
    "        cluster_list = df.loc[df[\"cluster_kmeans\"] == i]\n",
    "        list_of_dfs.append(cluster_list)\n",
    "   \n",
    "    list_of_dfs = sorted(list_of_dfs, key = lambda x: (len(x[\"headline\"])), reverse = True)\n",
    "    \n",
    "    updated_list_of_dfs = [] #There likely is at least 50 ways to do this better\n",
    "    for cluster_list in list_of_dfs:\n",
    "        distance_list = []\n",
    "        for index, row in cluster_list.iterrows():\n",
    "            distance_list.append(calc_distance(row, centers, row[\"cluster_kmeans\"]))\n",
    "        cluster_list = cluster_list.assign(distance = distance_list)\n",
    "        cluster_list.sort_values(by=[\"distance\"], inplace = True)\n",
    "        updated_list_of_dfs.append(cluster_list)\n",
    "        \n",
    "    list_of_dfs = updated_list_of_dfs\n",
    "    cluster_counter = 1\n",
    "    for cluster_list in list_of_dfs:\n",
    "        actual_list = cluster_list[\"headline\"].tolist()\n",
    "        print(\"\\n \\nFor cluster \", cluster_counter)\n",
    "        for index in range(0, 12):\n",
    "            print(actual_list[index])\n",
    "        cluster_counter = cluster_counter + 1"
   ]
  },
  {
   "cell_type": "code",
   "execution_count": 264,
   "id": "10f2c0f9",
   "metadata": {},
   "outputs": [
    {
     "name": "stdout",
     "output_type": "stream",
     "text": [
      "                                  headline  latitude  longitude countrycode  \\\n",
      "0                 Zika Outbreak Hits Miami  25.77427  -80.19366          US   \n",
      "1          Could Zika Reach New York City?  40.71427  -74.00597          US   \n",
      "2        First Case of Zika in Miami Beach  25.79065  -80.13005          US   \n",
      "4  Dallas man comes down with case of Zika  32.78306  -96.80667          US   \n",
      "6   Zika Concerns are Spreading in Houston  29.76328  -95.36327          US   \n",
      "\n",
      "  country           city  \n",
      "0                  Miami  \n",
      "1          New York City  \n",
      "2            Miami Beach  \n",
      "4                 Dallas  \n",
      "6                Houston  \n"
     ]
    }
   ],
   "source": [
    "usa_df, world_df = splitUSA(df)\n",
    "print(usa_df.head())"
   ]
  },
  {
   "cell_type": "markdown",
   "id": "f098714f",
   "metadata": {},
   "source": [
    "# Plot US and world"
   ]
  },
  {
   "cell_type": "code",
   "execution_count": 265,
   "id": "bb919d1d",
   "metadata": {},
   "outputs": [
    {
     "name": "stdout",
     "output_type": "stream",
     "text": [
      "False\n",
      "False\n"
     ]
    },
    {
     "data": {
      "image/png": "[encoded data removed]",
      "text/plain": [
       "<Figure size 640x480 with 1 Axes>"
      ]
     },
     "metadata": {},
     "output_type": "display_data"
    },
    {
     "data": {
      "application/vnd.plotly.v1+json": {
       "config": {
        "plotlyServerURL": "https://plot.ly"
       },
       "data": [
        {
         "geo": "geo",
         "hovertemplate": "<extra></extra>",
         "legendgroup": "",
         "marker": {
          "color": "#636efa",
          "symbol": "circle"
         },
         "mode": "markers",
         "name": "",
         "showlegend": false,
         "type": "scattergeo"
        },
        {
         "geo": "geo",
         "hovertemplate": "<b>%{hovertext}</b><br><br>latitude=%{lat}<br>longitude=%{lon}<extra></extra>",
         "hovertext": [
          "Cluster Center",
          "Cluster Center",
          "Cluster Center"
         ],
         "lat": [
          35.07534098484848,
          36.84110404255319,
          36.967562471910114
         ],
         "legendgroup": "",
         "lon": [
          -78.70102295454545,
          -118.11401170212766,
          -93.22135719101124
         ],
         "marker": {
          "color": "#636efa",
          "size": 12,
          "symbol": "diamond"
         },
         "mode": "markers",
         "name": "",
         "showlegend": false,
         "type": "scattergeo"
        },
        {
         "geo": "geo",
         "hovertemplate": "<b>%{hovertext}</b><br><br>latitude=%{lat}<br>longitude=%{lon}<br>cluster_kmeans=%{marker.color}<extra></extra>",
         "hovertext": [
          "Zika Outbreak Hits Miami",
          "Could Zika Reach New York City?",
          "First Case of Zika in Miami Beach",
          "Dallas man comes down with case of Zika",
          "Zika Concerns are Spreading in Houston",
          "The CDC in Atlanta is Growing Worried",
          "Brownsville teen contracts Zika virus",
          "Mosquito control efforts in St. Louis take new tactics with Zika threat",
          "Flu outbreak in Galveston, Texas",
          "New Los Angeles Hairstyle goes Viral",
          "Orlando volunteers aid Zika research",
          "Chicago's First Zika Case Confirmed",
          "Tampa Bay Area Zika Case Count Climbs",
          "Baltimore plans for Zika virus",
          "Philadelphia experts track pandemic",
          "Tallahassee Doctors Discuss Zika Virus",
          "New Vaccine on Trial in Bethesda District",
          "Zika virus reported in Cleveland",
          "More Zika patients reported in Austin",
          "Zika symtomps spotted in Key West",
          "Seattle scientists get $500,000 grant to pursue Zika vaccine New 7:50 pm",
          "Nashville takes precautions against Zika",
          "Fort Collins Encounters Severe Symptoms of Gonorrhea",
          "Madison lab developing vaccine against Zika virus [The Wisconsin State Journal]",
          "New Zika Case Confirmed in Sarasota County",
          "Jacksonville man hit by Zika",
          "Authorities are Worried about the Spread of Bronchitis in Silver Spring",
          "El Paso fighting Zika",
          "Salt Lake City tests new cure for Respiratory Syncytial Virus",
          "First Columbus Zika case",
          "Zika Patient in Seminole, Florida",
          "Can Zika make it here to Vero Beach?",
          "Hollywood Outbreak Film Premieres",
          "Doral hit by Deadly Virus",
          "Authorities are Worried about the Spread of Influenza in Savannah",
          "HIV has Arrived in Fairfax",
          "New medicine wipes out West Nile Virus in Ventura",
          "First Zika Case in Cincinnati",
          "Zika cases concern Charlotte residents",
          "Spike of Pneumonia Cases in Springfield",
          "Zika case reported in Jupiter",
          "Zika virus confirmed in Westchester",
          "Rumors about Hepatitis D Spreading in San Juan Capistrano have been Refuted",
          "The Spread of Measles in Spokane has been Confirmed",
          "West Nile Virus Outbreak in Louisville",
          "New details in Baton Rouge cop killings",
          "More Zika patients reported in Pensacola",
          "Outbreak of Zika in Corpus Christi",
          "How to Avoid Rhinovirus in Lemon Grove",
          "Measles has not Left Brooklyn",
          "Escondido neighborhood to get sprayed for Zika virus",
          "Zika in Belmont, Belmont worry",
          "Case of Mumps Reported in Dayton",
          "Gainesville Deals with Disease Concerns",
          "Varicella Keeps Spreading in Detroit",
          "Manhattan Residents Recieve HIV vaccine",
          "Rumors about Dengue Spreading in Syracuse have been Refuted",
          "Will Norovirus vaccine help Raleigh?",
          "How to Avoid Gonorrhea in Shreveport",
          "Ithaca is infested with Dengue",
          "BREAKING aEUR\" Zika in Missoula",
          "New medicine wipes out Chikungunya in Tucson",
          "Hepatitis B Comes to Kansas City",
          "Is Lafayette prepared to combat Zika?",
          "Syphilis Outbreak in Harrisburg",
          "Zika Arrives in North Miami",
          "Urbana Encounters Severe Symptoms of Meningitis",
          "Pittsburgh Residents Recieve Norovirus vaccine",
          "Chikungunya Hits Denver",
          "HIV Keeps Spreading in Boulder",
          "Will Tuberculosis vaccine help Rockville?",
          "Zika Virus Arrives in Ontario",
          "The Spread of Chikungunya in Arcadia has been Confirmed",
          "Outbreak of Zika in Stephenville",
          "Providence Encounters Severe Symptoms of Dengue",
          "Zika battle outlined at Valdosta meeting",
          "Zika case reported in Coral Gables",
          "Hepatitis C Outbreak in Danbury",
          "Chickenpox has Arrived in Chula Vista",
          "Syphilis Hits Jefferson",
          "Will HIV vaccine help Las Vegas?",
          "Zika arrives in West Palm Beach",
          "Mobile authorities confirmed the spread of Bronchitis",
          "Zika spreads to Daytona Beach",
          "Spike of Chlamydia Cases in Farmington",
          "Authorities are Worried about the Spread of Rotavirus in Union",
          "Zika Virus Detected in Lubbock",
          "Malaria re-emerges in Boise",
          "How to Avoid Hepatitis B in Waldorf",
          "Tuberculosis Outbreak in Newark",
          "Zika Virus Sparks 'International Concern'",
          "Zika-carrying mosquitoes discovered in Ardmore",
          "Frisco Woman Tests Positive For Zika Virus",
          "Benton Residents Recieve Pneumonia vaccine",
          "Zika Outbreak in Pinewood",
          "Zika Strikes St. Petersburg",
          "Zika symptoms spotted in Hollywood",
          "Swine Flu re-emerges in La Jolla",
          "Tuberculosis Outbreak in Hartford",
          "Rumors about Mumps Spreading in New Bedford have been Refuted",
          "Respiratory Syncytial Virus Vaccine is now Required in Tulsa",
          "More people in Indianapolis are infected with Norovirus every year",
          "Rotavirus Vaccine is now Required in Starkville",
          "Milwaukee authorities confirmed the spread of Rhinovirus",
          "Zika symptoms spotted in Arlington",
          "Zika Spreads to Palm Beach Gardens",
          "Spike of Herpes Cases in Meriden",
          "Zika case reported in Abilene",
          "Outbreak of Zika in Palm Springs",
          "How to Avoid Pneumonia in Bullhead City",
          "Meningitis re-emerges in Summerville",
          "Pneumonia Symptoms Spread all over Bloomington",
          "Phoenix Residents Recieve Syphilis vaccine",
          "Zika Outbreak in Weslaco",
          "Mumps Symptoms Spread all over Jefferson",
          "The Spread of Rhinovirus in Boardman has been Confirmed",
          "Richland Center is infested with Hepatitis B",
          "Malaria Vaccine is now Required in Schenectady",
          "Lower Hospitalization in Lakewood after Hepatitis B Vaccine becomes Mandatory",
          "Spike of Rotavirus Cases in Omaha",
          "Will West Nile Virus vaccine help Coronado?",
          "Zika case confirmed in Lorain",
          "Chickenpox Hits Simpsonville",
          "Framingham Residents Receive Measles vaccine",
          "Bridgeport authorities confirmed the spread of West Nile Virus",
          "Measles Vaccine is now Required in Wailuku",
          "Zika in Tamarac!",
          "Will Measles vaccine help Milford?",
          "Rhinovirus Hits Bakersfield",
          "More people in Berkeley are infected with Swine Flu every year",
          "Zika only the latest mosquito-borne threat to New Orleans",
          "Will Swine Flu vaccine help Annapolis?",
          "Lower Hospitalization in Monroe after Hepatitis D Vaccine becomes Mandatory",
          "New medicine wipes out Dengue in Saginaw",
          "Spike of Rhinovirus Cases in Sevierville",
          "New medicine wipes out Mumps in Saint Charles",
          "Case of Chikungunya Reported in Gaithersburg",
          "How to Avoid Respiratory Syncytial Virus in San Bernardino",
          "More Zika patients reported in Waco",
          "Erie County sets Zika traps",
          "Schools in Huntington Closed Due to Rotavirus Outbreak",
          "Chickenpox Comes to Stillwater",
          "Case of Measles Reported in Springdale",
          "Norwalk Encounters Severe Symptoms of Malaria",
          "More Zika patients reported in Carrollton",
          "West Nile Virus Exposure in Racine",
          "The Spread of Hepatitis E in Lansing has been Confirmed",
          "West Nile Virus Exposure in Alpharetta",
          "Herpes Vaccine is now Required in Mattoon",
          "Kent is infested with Rabies",
          "Zika symptoms spotted in Bonita Springs",
          "More Zika patients reported in Fort Myers",
          "Zika spreads to Lewisville",
          "Ogden is infested with Gonorrhea",
          "Fort Hood Reports its First Zika Patient",
          "New medicine wipes out Rabies in Newburgh",
          "Iowa City Encounters Severe Symptoms of Rhinovirus",
          "Mumps Hits Howard Beach",
          "The Spread of Gonorrhea in Reno has been Confirmed",
          "How to Avoid Rhinovirus in Plainfield",
          "Rumors about Varicella spreading in Carlsbad have been refuted",
          "Scranton authorities confirmed the spread of Gonorrhea",
          "Hallandale Beach a Victim of Zika Outbreak",
          "Rhinovirus re-emerges in Storrs",
          "Germantown authorities confirmed the spread of Chickenpox",
          "Rumors about Rotavirus spreading in North Platte have been refuted",
          "Spike of Hepatitis C Cases in Golden",
          "Pneumonia Exposure in Alhambra",
          "Schools in Bentonville Closed Due to Hepatitis B Outbreak",
          "Hepatitis E Hits Hammond",
          "Schools in Bridgeton Closed Due to Mumps Outbreak",
          "Biloxi Residents Recieve Chlamydia vaccine",
          "More Patients in Crawfordsville are Getting Diagnosed with Rabies",
          "Authorities are Worried about the Spread of Hepatitis D in Akron",
          "Zika arrives in Boca Raton",
          "Bradenton Experiences Zika Troubles  ",
          "Chlamydia Symptoms Spread all over University City",
          "Wisconsin Rapids Patient in Critical Condition after Contracting Chickenpox",
          "Zika spreads to Kissimmee",
          "Herpes Symptoms Spread all over Fremont",
          "Spike of Pneumonia Cases in The Bronx",
          "HIV has Arrived in Tacoma",
          "Malaria re-emerges in Nashua",
          "Arvada is infested with Syphilis",
          "Spike of Syphilis Cases in West Monroe",
          "Deerfield tests new cure for Measles",
          "Hepatitis A re-emerges in Foster City",
          "How to Avoid Tuberculosis in Santa Monica",
          "Zika reported in Fort Pierce",
          "Zika spreads to Winter Park",
          "Hepatitis A has not Left Staten Island",
          "New Milford Patient in Critical Condition after Contracting Respiratory Syncytial Virus",
          "More people in Palo Alto are infected with HIV every year",
          "Vineland authorities confirmed the spread of Chlamydia",
          "Tupelo Residents Recieve Syphilis vaccine",
          "The Spread of Dengue in Yakima has been Confirmed",
          "Rumors about Chlamydia spreading in Redmond have been refuted",
          "Case of Varicella Reported in Concord",
          "Zika virus case reported in Rockland",
          "Zika investigators coming to Mankato",
          "Toms River Encounters Severe Symptoms of Respiratory Syncytial Virus",
          "Hepatitis D Keeps Spreading in Bismarck",
          "Varicella Outbreak in Minot",
          "Authorities are Worried about the Spread of Chickenpox in Hemet",
          "Princeton Encounters Severe Symptoms of Dengue",
          "Lower Hospitalization in Palm Springs after Hepatitis A Vaccine becomes Mandatory",
          "Outbreak of Zika in Leesburg",
          "Stony Brook University experts discuss Zika virus",
          "Lower Hospitalization in Janesville after Varicella Vaccine becomes Mandatory",
          "Rabies Outbreak in Altus",
          "Miami resident suggests Zika precautions",
          "Schools in Tulare Closed Due to Mumps Outbreak",
          "Hepatitis D Keeps Spreading in Danvers",
          "Authorities a Miami",
          "Spike of Tuberculosis Cases in Albuquerque",
          "More people in Cranford are infected with Hepatitis A every year",
          "West Nile Virus Hits Monroe",
          "Pneumonia Outbreak in Springville",
          "Rumors about Rotavirus Spreading in Joliet have been Refuted",
          "Lawrenceville is infested with Dengue",
          "Gonorrhea has Arrived in Avon Lake",
          "Respiratory Syncytial Virus Hits Henderson",
          "More Zika patients reported in Lakeland",
          "Malaria Vaccine is now Required in Winona",
          "More Patients in Canton are Getting Diagnosed with Norovirus",
          "Ronkonkoma is infested with Chickenpox",
          "Gonorrhea Exposure in Norwalk",
          "How to Avoid Rhinovirus in Medford",
          "Hepatitis D Symptoms Spread all over Evansville",
          "New medicine wipes out Herpes in Bossier City",
          "Duluth Patient in Critical Condition after Contracting Rotavirus",
          "Norfolk tests new cure for Herpes",
          "Manassas Encounters Severe Symptoms of Measles",
          "Fayetteville authorities confirmed the spread of HIV",
          "Zika Outbreak in South Miami",
          "Hepatitis D Symptoms Spread all over North Bethesda",
          "Zika seminars in Yuma County",
          "Rumors about Hepatitis E Spreading in Morristown have been Refuted",
          "Mumps Outbreak in Joplin",
          "Authorities are Worried about the Spread of Mumps in Corona",
          "Schools in Danville Closed Due to Tuberculosis Outbreak",
          "Marquette tests new cure for Hepatitis A",
          "Norovirus Vaccine is now Required in Anaheim",
          "The Spread of Hepatitis E in Fargo has been Confirmed",
          "West Nile Virus Keeps Spreading in Hauppauge",
          "Bronchitis Keeps Spreading in Hayward",
          "Zika spreads to Plant City",
          "Zika Reported in North Miami Beach",
          "Case of West Nile Virus Reported in Riverside",
          "Northfield Encounters Severe Symptoms of Herpes",
          "The Spread of Respiratory Syncytial Virus in Monroe has been Confirmed",
          "How to Avoid Hepatitis B in Trenton",
          "Barstow Patient in Critical Condition after Contracting Herpes",
          "Will Gonorrhea vaccine help East Moline?",
          "New medicine wipes out Influenza in Redlands",
          "Alameda Residents Recieve Rabies vaccine",
          "Memphis Encounters Severe Symptoms of Swine Flu",
          "Zika Troubles come to Delray Beach",
          "How to Avoid Hepatitis E in South Bend",
          "Davenport is infested with Dengue",
          "Malaria Vaccine is now Required in Elyria",
          "Influenza Keeps Spreading in Suffolk",
          "More people in Allentown are infected with Chlamydia every year",
          "Dengue Outbreak in Easton",
          "Authorities are Worried about the Spread of Varicella in Clovis",
          "More Zika patients reported in Fort Worth",
          "Zika symptoms spotted in Boynton Beach",
          "Zika Outbreak in Wichita Falls"
         ],
         "lat": [
          25.77427,
          40.71427,
          25.79065,
          32.78306,
          29.76328,
          33.749,
          25.82176,
          38.62727,
          29.30135,
          34.05223,
          28.53834,
          41.85003,
          27.94752,
          39.29038,
          39.95233,
          30.43826,
          38.98067,
          35.15952,
          30.26715,
          24.55524,
          47.60621,
          36.16589,
          40.58526,
          34.69926,
          27.33643,
          34.8662,
          38.99067,
          31.75872,
          40.76078,
          32.46098,
          27.83975,
          27.63864,
          26.0112,
          25.81954,
          32.08354,
          38.84622,
          34.27834,
          39.12711,
          35.22709,
          39.80172,
          26.93422,
          25.75482,
          33.50169,
          47.65966,
          38.25424,
          30.44332,
          30.42131,
          27.80058,
          32.74255,
          40.6501,
          33.11921,
          42.39593,
          39.75895,
          29.65163,
          42.33143,
          39.18361,
          43.04812,
          35.7721,
          32.52515,
          42.44063,
          46.87215,
          32.22174,
          39.11417,
          30.22409,
          40.2737,
          25.89009,
          40.11059,
          40.44062,
          39.73915,
          40.01499,
          39.084,
          34.06334,
          34.13973,
          32.2207,
          41.82399,
          30.83334,
          25.72149,
          41.39482,
          32.64005,
          38.86456,
          36.17497,
          26.71534,
          30.69436,
          29.21081,
          37.78088,
          40.6976,
          33.57786,
          43.6135,
          38.62456,
          39.68372,
          39.53491,
          34.17426,
          33.15067,
          34.56454,
          25.86898,
          27.77086,
          26.0112,
          32.84727,
          41.76371,
          41.63526,
          36.15398,
          39.76838,
          33.45049,
          43.0389,
          32.73569,
          26.82339,
          41.53815,
          32.44874,
          26.6359,
          35.14778,
          33.0185,
          39.16533,
          33.44838,
          26.15952,
          38.86456,
          41.02423,
          46.28569,
          42.81424,
          40.09789,
          41.25626,
          32.68589,
          41.45282,
          34.73706,
          42.27926,
          41.83809,
          20.89133,
          26.21286,
          41.22232,
          35.37329,
          37.87159,
          29.95465,
          38.97845,
          32.50931,
          32.86013,
          35.86815,
          38.60317,
          39.14344,
          34.10834,
          31.54933,
          42.12922,
          38.41925,
          36.11561,
          36.18674,
          41.1176,
          33.58011,
          42.72613,
          41.56476,
          34.07538,
          39.48309,
          41.15367,
          26.33981,
          26.62168,
          33.04623,
          41.223,
          31.13489,
          41.50343,
          41.66113,
          40.65788,
          39.52963,
          39.70421,
          33.15809,
          41.40916,
          25.9812,
          41.80843,
          39.17316,
          41.12389,
          39.75554,
          34.09529,
          36.37285,
          30.50463,
          39.42734,
          30.39603,
          40.04115,
          41.08144,
          26.35869,
          27.49893,
          38.65588,
          44.38358,
          28.30468,
          41.43333,
          40.84985,
          47.25288,
          42.76537,
          39.80276,
          32.50931,
          42.17114,
          37.55855,
          34.01945,
          27.44671,
          28.6,
          40.56233,
          40.9351,
          37.44188,
          39.48623,
          34.25807,
          46.60207,
          44.27262,
          38.5245,
          42.13066,
          44.15906,
          39.95373,
          46.80833,
          48.23251,
          33.74761,
          25.53844,
          26.6359,
          28.81082,
          28.07389,
          42.68279,
          34.63813,
          25.77427,
          36.20773,
          42.57509,
          25.77427,
          35.08449,
          40.65844,
          32.50931,
          40.16523,
          41.52519,
          33.95621,
          41.50532,
          37.83615,
          28.03947,
          44.04996,
          34.23676,
          40.81538,
          41.1176,
          42.41843,
          37.97476,
          32.51599,
          34.00288,
          36.84681,
          38.75095,
          36.06258,
          25.77427,
          39.04455,
          32.72532,
          36.21398,
          37.08423,
          40.74705,
          37.64563,
          46.54354,
          33.83529,
          46.87719,
          40.82565,
          37.66882,
          28.01888,
          25.93315,
          39.77978,
          44.4583,
          32.50931,
          42.13949,
          34.89859,
          41.50087,
          34.05557,
          37.76521,
          35.14953,
          26.46146,
          41.68338,
          41.52364,
          41.36838,
          36.72836,
          40.60843,
          38.77428,
          36.82523,
          32.72541,
          26.52535,
          33.91371
         ],
         "legendgroup": "",
         "lon": [
          -80.19366,
          -74.00597,
          -80.13005,
          -96.80667,
          -95.36327,
          -84.38798,
          -80.24116,
          -90.19789,
          -94.7977,
          -118.24368,
          -81.37924,
          -87.65005,
          -82.45843,
          -76.61219,
          -75.16379,
          -84.28073,
          -77.10026,
          -84.87661,
          -97.74306,
          -81.78163,
          -122.33207,
          -86.78444,
          -105.08442,
          -86.74833,
          -82.53065,
          -92.11015,
          -77.02609,
          -106.48693,
          -111.89105,
          -84.98771,
          -82.79121,
          -80.39727,
          -80.14949,
          -80.35533,
          -81.09983,
          -77.30637,
          -119.29317,
          -84.51439,
          -80.84313,
          -89.64371,
          -80.09421,
          -80.32727,
          -117.66255,
          -117.42908,
          -85.75941,
          -91.18747,
          -87.21691,
          -97.39638,
          -117.03142,
          -73.94958,
          -117.08642,
          -71.17867,
          -84.19161,
          -82.32483,
          -83.04575,
          -96.57167,
          -76.14742,
          -78.63861,
          -93.75018,
          -76.49661,
          -113.994,
          -110.92648,
          -94.62746,
          -92.01984,
          -76.88442,
          -80.18671,
          -88.20727,
          -79.99589,
          -104.9847,
          -105.27055,
          -77.15276,
          -117.65089,
          -118.03534,
          -98.20226,
          -71.41283,
          -83.28032,
          -80.26838,
          -73.45401,
          -117.0842,
          -77.18776,
          -115.13722,
          -80.05337,
          -88.04305,
          -81.02283,
          -90.42179,
          -74.2632,
          -101.85517,
          -116.20345,
          -76.93914,
          -75.74966,
          -119.75269,
          -97.14363,
          -96.82361,
          -92.58683,
          -80.21699,
          -82.67927,
          -80.14949,
          -117.2742,
          -72.68509,
          -70.92701,
          -95.99277,
          -86.15804,
          -88.81961,
          -87.90647,
          -97.10807,
          -80.13865,
          -72.80704,
          -99.73314,
          -80.09615,
          -114.5683,
          -80.17565,
          -86.52639,
          -112.07404,
          -97.99084,
          -77.18776,
          -80.66285,
          -119.28446,
          -73.93957,
          -74.21764,
          -95.94043,
          -117.18309,
          -82.18237,
          -82.25428,
          -71.41617,
          -87.65116,
          -156.50604,
          -80.24977,
          -73.0565,
          -119.01871,
          -122.27275,
          -90.07507,
          -76.49218,
          -92.1193,
          -97.36391,
          -83.56184,
          -76.93858,
          -77.20137,
          -117.28977,
          -97.14667,
          -80.08506,
          -82.44515,
          -97.05837,
          -94.12881,
          -73.4079,
          -85.07661,
          -87.78285,
          -87.53893,
          -84.29409,
          -88.37283,
          -81.35789,
          -81.7787,
          -81.84059,
          -96.99417,
          -111.97383,
          -97.77561,
          -74.01042,
          -91.53017,
          -73.83625,
          -119.8138,
          -86.39944,
          -117.35059,
          -75.6649,
          -80.14838,
          -72.24952,
          -77.27165,
          -100.76542,
          -105.2211,
          -118.12701,
          -94.20882,
          -90.46293,
          -75.23408,
          -88.88531,
          -86.87445,
          -81.51901,
          -80.0831,
          -82.57482,
          -90.30928,
          -89.81735,
          -81.41667,
          -96.49808,
          -73.86641,
          -122.44429,
          -71.46757,
          -105.08748,
          -92.1193,
          -87.84451,
          -122.27108,
          -118.49119,
          -80.32561,
          -81.33924,
          -74.13986,
          -74.01903,
          -122.14302,
          -75.02573,
          -88.70464,
          -120.5059,
          -121.17392,
          -90.35734,
          -70.91616,
          -94.00915,
          -74.19792,
          -100.78374,
          -101.29627,
          -116.97307,
          -80.40894,
          -80.09615,
          -81.87786,
          -82.43902,
          -89.01872,
          -99.33398,
          -80.19366,
          -119.34734,
          -70.93005,
          -80.19366,
          -106.65114,
          -74.29959,
          -92.1193,
          -111.61075,
          -88.0834,
          -83.98796,
          -82.0282,
          -87.59001,
          -81.9498,
          -91.63932,
          -84.49076,
          -73.11233,
          -73.4079,
          -71.10616,
          -87.55585,
          -93.73212,
          -84.14464,
          -76.28522,
          -77.47527,
          -94.15743,
          -80.19366,
          -77.11887,
          -114.6244,
          -83.29489,
          -94.51328,
          -73.86014,
          -84.77217,
          -87.39542,
          -117.9145,
          -96.7898,
          -73.20261,
          -122.0808,
          -82.11469,
          -80.16255,
          -84.1241,
          -93.1616,
          -92.1193,
          -83.17826,
          -117.02282,
          -90.4443,
          -117.18254,
          -122.24164,
          -90.04898,
          -80.07282,
          -86.25001,
          -90.57764,
          -82.10765,
          -76.58496,
          -75.49018,
          -76.07633,
          -119.70292,
          -97.32085,
          -80.06643,
          -98.49339
         ],
         "marker": {
          "color": [
           0,
           0,
           0,
           2,
           2,
           0,
           0,
           2,
           2,
           1,
           0,
           2,
           0,
           0,
           0,
           0,
           0,
           0,
           2,
           0,
           1,
           2,
           2,
           2,
           0,
           2,
           0,
           1,
           1,
           0,
           0,
           0,
           0,
           0,
           0,
           0,
           1,
           0,
           0,
           2,
           0,
           0,
           1,
           1,
           2,
           2,
           2,
           2,
           1,
           0,
           1,
           0,
           0,
           0,
           0,
           2,
           0,
           0,
           2,
           0,
           1,
           1,
           2,
           2,
           0,
           0,
           2,
           0,
           2,
           2,
           0,
           1,
           1,
           2,
           0,
           0,
           0,
           0,
           1,
           0,
           1,
           0,
           2,
           0,
           2,
           0,
           2,
           1,
           0,
           0,
           1,
           2,
           2,
           2,
           0,
           0,
           0,
           1,
           0,
           0,
           2,
           2,
           2,
           2,
           2,
           0,
           0,
           2,
           0,
           1,
           0,
           2,
           1,
           2,
           0,
           0,
           1,
           0,
           0,
           2,
           1,
           0,
           0,
           0,
           2,
           1,
           0,
           0,
           1,
           1,
           2,
           0,
           2,
           2,
           0,
           0,
           0,
           1,
           2,
           0,
           0,
           2,
           2,
           0,
           0,
           2,
           2,
           0,
           2,
           0,
           0,
           0,
           2,
           1,
           2,
           0,
           2,
           0,
           1,
           2,
           1,
           0,
           0,
           0,
           0,
           2,
           2,
           1,
           2,
           2,
           0,
           2,
           2,
           0,
           0,
           0,
           2,
           2,
           0,
           2,
           0,
           1,
           0,
           2,
           2,
           2,
           1,
           1,
           0,
           0,
           0,
           0,
           1,
           0,
           2,
           1,
           1,
           2,
           0,
           2,
           0,
           2,
           2,
           1,
           0,
           0,
           0,
           0,
           2,
           2,
           0,
           1,
           0,
           0,
           1,
           0,
           2,
           1,
           2,
           0,
           0,
           2,
           0,
           2,
           0,
           0,
           0,
           0,
           2,
           2,
           0,
           0,
           0,
           2,
           0,
           0,
           1,
           0,
           2,
           0,
           0,
           2,
           1,
           2,
           0,
           1,
           0,
           0,
           0,
           2,
           2,
           0,
           1,
           2,
           1,
           1,
           2,
           0,
           2,
           2,
           0,
           0,
           0,
           0,
           1,
           2,
           0,
           2
          ],
          "coloraxis": "coloraxis",
          "symbol": "circle"
         },
         "mode": "markers",
         "name": "",
         "showlegend": false,
         "type": "scattergeo"
        }
       ],
       "layout": {
        "geo": {
         "center": {},
         "domain": {
          "x": [
           0,
           1
          ],
          "y": [
           0,
           1
          ]
         },
         "projection": {
          "type": "orthographic"
         },
         "showcountries": true
        },
        "legend": {
         "tracegroupgap": 0
        },
        "margin": {
         "t": 60
        },
        "template": {
         "data": {
          "bar": [
           {
            "error_x": {
             "color": "#2a3f5f"
            },
            "error_y": {
             "color": "#2a3f5f"
            },
            "marker": {
             "line": {
              "color": "#E5ECF6",
              "width": 0.5
             },
             "pattern": {
              "fillmode": "overlay",
              "size": 10,
              "solidity": 0.2
             }
            },
            "type": "bar"
           }
          ],
          "barpolar": [
           {
            "marker": {
             "line": {
              "color": "#E5ECF6",
              "width": 0.5
             },
             "pattern": {
              "fillmode": "overlay",
              "size": 10,
              "solidity": 0.2
             }
            },
            "type": "barpolar"
           }
          ],
          "carpet": [
           {
            "aaxis": {
             "endlinecolor": "#2a3f5f",
             "gridcolor": "white",
             "linecolor": "white",
             "minorgridcolor": "white",
             "startlinecolor": "#2a3f5f"
            },
            "baxis": {
             "endlinecolor": "#2a3f5f",
             "gridcolor": "white",
             "linecolor": "white",
             "minorgridcolor": "white",
             "startlinecolor": "#2a3f5f"
            },
            "type": "carpet"
           }
          ],
          "choropleth": [
           {
            "colorbar": {
             "outlinewidth": 0,
             "ticks": ""
            },
            "type": "choropleth"
           }
          ],
          "contour": [
           {
            "colorbar": {
             "outlinewidth": 0,
             "ticks": ""
            },
            "colorscale": [
             [
              0,
              "#0d0887"
             ],
             [
              0.1111111111111111,
              "#46039f"
             ],
             [
              0.2222222222222222,
              "#7201a8"
             ],
             [
              0.3333333333333333,
              "#9c179e"
             ],
             [
              0.4444444444444444,
              "#bd3786"
             ],
             [
              0.5555555555555556,
              "#d8576b"
             ],
             [
              0.6666666666666666,
              "#ed7953"
             ],
             [
              0.7777777777777778,
              "#fb9f3a"
             ],
             [
              0.8888888888888888,
              "#fdca26"
             ],
             [
              1,
              "#f0f921"
             ]
            ],
            "type": "contour"
           }
          ],
          "contourcarpet": [
           {
            "colorbar": {
             "outlinewidth": 0,
             "ticks": ""
            },
            "type": "contourcarpet"
           }
          ],
          "heatmap": [
           {
            "colorbar": {
             "outlinewidth": 0,
             "ticks": ""
            },
            "colorscale": [
             [
              0,
              "#0d0887"
             ],
             [
              0.1111111111111111,
              "#46039f"
             ],
             [
              0.2222222222222222,
              "#7201a8"
             ],
             [
              0.3333333333333333,
              "#9c179e"
             ],
             [
              0.4444444444444444,
              "#bd3786"
             ],
             [
              0.5555555555555556,
              "#d8576b"
             ],
             [
              0.6666666666666666,
              "#ed7953"
             ],
             [
              0.7777777777777778,
              "#fb9f3a"
             ],
             [
              0.8888888888888888,
              "#fdca26"
             ],
             [
              1,
              "#f0f921"
             ]
            ],
            "type": "heatmap"
           }
          ],
          "heatmapgl": [
           {
            "colorbar": {
             "outlinewidth": 0,
             "ticks": ""
            },
            "colorscale": [
             [
              0,
              "#0d0887"
             ],
             [
              0.1111111111111111,
              "#46039f"
             ],
             [
              0.2222222222222222,
              "#7201a8"
             ],
             [
              0.3333333333333333,
              "#9c179e"
             ],
             [
              0.4444444444444444,
              "#bd3786"
             ],
             [
              0.5555555555555556,
              "#d8576b"
             ],
             [
              0.6666666666666666,
              "#ed7953"
             ],
             [
              0.7777777777777778,
              "#fb9f3a"
             ],
             [
              0.8888888888888888,
              "#fdca26"
             ],
             [
              1,
              "#f0f921"
             ]
            ],
            "type": "heatmapgl"
           }
          ],
          "histogram": [
           {
            "marker": {
             "pattern": {
              "fillmode": "overlay",
              "size": 10,
              "solidity": 0.2
             }
            },
            "type": "histogram"
           }
          ],
          "histogram2d": [
           {
            "colorbar": {
             "outlinewidth": 0,
             "ticks": ""
            },
            "colorscale": [
             [
              0,
              "#0d0887"
             ],
             [
              0.1111111111111111,
              "#46039f"
             ],
             [
              0.2222222222222222,
              "#7201a8"
             ],
             [
              0.3333333333333333,
              "#9c179e"
             ],
             [
              0.4444444444444444,
              "#bd3786"
             ],
             [
              0.5555555555555556,
              "#d8576b"
             ],
             [
              0.6666666666666666,
              "#ed7953"
             ],
             [
              0.7777777777777778,
              "#fb9f3a"
             ],
             [
              0.8888888888888888,
              "#fdca26"
             ],
             [
              1,
              "#f0f921"
             ]
            ],
            "type": "histogram2d"
           }
          ],
          "histogram2dcontour": [
           {
            "colorbar": {
             "outlinewidth": 0,
             "ticks": ""
            },
            "colorscale": [
             [
              0,
              "#0d0887"
             ],
             [
              0.1111111111111111,
              "#46039f"
             ],
             [
              0.2222222222222222,
              "#7201a8"
             ],
             [
              0.3333333333333333,
              "#9c179e"
             ],
             [
              0.4444444444444444,
              "#bd3786"
             ],
             [
              0.5555555555555556,
              "#d8576b"
             ],
             [
              0.6666666666666666,
              "#ed7953"
             ],
             [
              0.7777777777777778,
              "#fb9f3a"
             ],
             [
              0.8888888888888888,
              "#fdca26"
             ],
             [
              1,
              "#f0f921"
             ]
            ],
            "type": "histogram2dcontour"
           }
          ],
          "mesh3d": [
           {
            "colorbar": {
             "outlinewidth": 0,
             "ticks": ""
            },
            "type": "mesh3d"
           }
          ],
          "parcoords": [
           {
            "line": {
             "colorbar": {
              "outlinewidth": 0,
              "ticks": ""
             }
            },
            "type": "parcoords"
           }
          ],
          "pie": [
           {
            "automargin": true,
            "type": "pie"
           }
          ],
          "scatter": [
           {
            "fillpattern": {
             "fillmode": "overlay",
             "size": 10,
             "solidity": 0.2
            },
            "type": "scatter"
           }
          ],
          "scatter3d": [
           {
            "line": {
             "colorbar": {
              "outlinewidth": 0,
              "ticks": ""
             }
            },
            "marker": {
             "colorbar": {
              "outlinewidth": 0,
              "ticks": ""
             }
            },
            "type": "scatter3d"
           }
          ],
          "scattercarpet": [
           {
            "marker": {
             "colorbar": {
              "outlinewidth": 0,
              "ticks": ""
             }
            },
            "type": "scattercarpet"
           }
          ],
          "scattergeo": [
           {
            "marker": {
             "colorbar": {
              "outlinewidth": 0,
              "ticks": ""
             }
            },
            "type": "scattergeo"
           }
          ],
          "scattergl": [
           {
            "marker": {
             "colorbar": {
              "outlinewidth": 0,
              "ticks": ""
             }
            },
            "type": "scattergl"
           }
          ],
          "scattermapbox": [
           {
            "marker": {
             "colorbar": {
              "outlinewidth": 0,
              "ticks": ""
             }
            },
            "type": "scattermapbox"
           }
          ],
          "scatterpolar": [
           {
            "marker": {
             "colorbar": {
              "outlinewidth": 0,
              "ticks": ""
             }
            },
            "type": "scatterpolar"
           }
          ],
          "scatterpolargl": [
           {
            "marker": {
             "colorbar": {
              "outlinewidth": 0,
              "ticks": ""
             }
            },
            "type": "scatterpolargl"
           }
          ],
          "scatterternary": [
           {
            "marker": {
             "colorbar": {
              "outlinewidth": 0,
              "ticks": ""
             }
            },
            "type": "scatterternary"
           }
          ],
          "surface": [
           {
            "colorbar": {
             "outlinewidth": 0,
             "ticks": ""
            },
            "colorscale": [
             [
              0,
              "#0d0887"
             ],
             [
              0.1111111111111111,
              "#46039f"
             ],
             [
              0.2222222222222222,
              "#7201a8"
             ],
             [
              0.3333333333333333,
              "#9c179e"
             ],
             [
              0.4444444444444444,
              "#bd3786"
             ],
             [
              0.5555555555555556,
              "#d8576b"
             ],
             [
              0.6666666666666666,
              "#ed7953"
             ],
             [
              0.7777777777777778,
              "#fb9f3a"
             ],
             [
              0.8888888888888888,
              "#fdca26"
             ],
             [
              1,
              "#f0f921"
             ]
            ],
            "type": "surface"
           }
          ],
          "table": [
           {
            "cells": {
             "fill": {
              "color": "#EBF0F8"
             },
             "line": {
              "color": "white"
             }
            },
            "header": {
             "fill": {
              "color": "#C8D4E3"
             },
             "line": {
              "color": "white"
             }
            },
            "type": "table"
           }
          ]
         },
         "layout": {
          "annotationdefaults": {
           "arrowcolor": "#2a3f5f",
           "arrowhead": 0,
           "arrowwidth": 1
          },
          "autotypenumbers": "strict",
          "coloraxis": {
           "colorbar": {
            "outlinewidth": 0,
            "ticks": ""
           }
          },
          "colorscale": {
           "diverging": [
            [
             0,
             "#8e0152"
            ],
            [
             0.1,
             "#c51b7d"
            ],
            [
             0.2,
             "#de77ae"
            ],
            [
             0.3,
             "#f1b6da"
            ],
            [
             0.4,
             "#fde0ef"
            ],
            [
             0.5,
             "#f7f7f7"
            ],
            [
             0.6,
             "#e6f5d0"
            ],
            [
             0.7,
             "#b8e186"
            ],
            [
             0.8,
             "#7fbc41"
            ],
            [
             0.9,
             "#4d9221"
            ],
            [
             1,
             "#276419"
            ]
           ],
           "sequential": [
            [
             0,
             "#0d0887"
            ],
            [
             0.1111111111111111,
             "#46039f"
            ],
            [
             0.2222222222222222,
             "#7201a8"
            ],
            [
             0.3333333333333333,
             "#9c179e"
            ],
            [
             0.4444444444444444,
             "#bd3786"
            ],
            [
             0.5555555555555556,
             "#d8576b"
            ],
            [
             0.6666666666666666,
             "#ed7953"
            ],
            [
             0.7777777777777778,
             "#fb9f3a"
            ],
            [
             0.8888888888888888,
             "#fdca26"
            ],
            [
             1,
             "#f0f921"
            ]
           ],
           "sequentialminus": [
            [
             0,
             "#0d0887"
            ],
            [
             0.1111111111111111,
             "#46039f"
            ],
            [
             0.2222222222222222,
             "#7201a8"
            ],
            [
             0.3333333333333333,
             "#9c179e"
            ],
            [
             0.4444444444444444,
             "#bd3786"
            ],
            [
             0.5555555555555556,
             "#d8576b"
            ],
            [
             0.6666666666666666,
             "#ed7953"
            ],
            [
             0.7777777777777778,
             "#fb9f3a"
            ],
            [
             0.8888888888888888,
             "#fdca26"
            ],
            [
             1,
             "#f0f921"
            ]
           ]
          },
          "colorway": [
           "#636efa",
           "#EF553B",
           "#00cc96",
           "#ab63fa",
           "#FFA15A",
           "#19d3f3",
           "#FF6692",
           "#B6E880",
           "#FF97FF",
           "#FECB52"
          ],
          "font": {
           "color": "#2a3f5f"
          },
          "geo": {
           "bgcolor": "white",
           "lakecolor": "white",
           "landcolor": "#E5ECF6",
           "showlakes": true,
           "showland": true,
           "subunitcolor": "white"
          },
          "hoverlabel": {
           "align": "left"
          },
          "hovermode": "closest",
          "mapbox": {
           "style": "light"
          },
          "paper_bgcolor": "white",
          "plot_bgcolor": "#E5ECF6",
          "polar": {
           "angularaxis": {
            "gridcolor": "white",
            "linecolor": "white",
            "ticks": ""
           },
           "bgcolor": "#E5ECF6",
           "radialaxis": {
            "gridcolor": "white",
            "linecolor": "white",
            "ticks": ""
           }
          },
          "scene": {
           "xaxis": {
            "backgroundcolor": "#E5ECF6",
            "gridcolor": "white",
            "gridwidth": 2,
            "linecolor": "white",
            "showbackground": true,
            "ticks": "",
            "zerolinecolor": "white"
           },
           "yaxis": {
            "backgroundcolor": "#E5ECF6",
            "gridcolor": "white",
            "gridwidth": 2,
            "linecolor": "white",
            "showbackground": true,
            "ticks": "",
            "zerolinecolor": "white"
           },
           "zaxis": {
            "backgroundcolor": "#E5ECF6",
            "gridcolor": "white",
            "gridwidth": 2,
            "linecolor": "white",
            "showbackground": true,
            "ticks": "",
            "zerolinecolor": "white"
           }
          },
          "shapedefaults": {
           "line": {
            "color": "#2a3f5f"
           }
          },
          "ternary": {
           "aaxis": {
            "gridcolor": "white",
            "linecolor": "white",
            "ticks": ""
           },
           "baxis": {
            "gridcolor": "white",
            "linecolor": "white",
            "ticks": ""
           },
           "bgcolor": "#E5ECF6",
           "caxis": {
            "gridcolor": "white",
            "linecolor": "white",
            "ticks": ""
           }
          },
          "title": {
           "x": 0.05
          },
          "xaxis": {
           "automargin": true,
           "gridcolor": "white",
           "linecolor": "white",
           "ticks": "",
           "title": {
            "standoff": 15
           },
           "zerolinecolor": "white",
           "zerolinewidth": 2
          },
          "yaxis": {
           "automargin": true,
           "gridcolor": "white",
           "linecolor": "white",
           "ticks": "",
           "title": {
            "standoff": 15
           },
           "zerolinecolor": "white",
           "zerolinewidth": 2
          }
         }
        }
       }
      },
      "text/html": [
       "<div>                            <div id=\"e11a39ca-e715-430b-9990-40b8cae3ce2a\" class=\"plotly-graph-div\" style=\"height:525px; width:100%;\"></div>            <script type=\"text/javascript\">                require([\"plotly\"], function(Plotly) {                    window.PLOTLYENV=window.PLOTLYENV || {};                                    if (document.getElementById(\"e11a39ca-e715-430b-9990-40b8cae3ce2a\")) {                    Plotly.newPlot(                        \"e11a39ca-e715-430b-9990-40b8cae3ce2a\",                        [{\"geo\":\"geo\",\"hovertemplate\":\"\\u003cextra\\u003e\\u003c\\u002fextra\\u003e\",\"legendgroup\":\"\",\"marker\":{\"color\":\"#636efa\",\"symbol\":\"circle\"},\"mode\":\"markers\",\"name\":\"\",\"showlegend\":false,\"type\":\"scattergeo\"},{\"geo\":\"geo\",\"hovertemplate\":\"\\u003cb\\u003e%{hovertext}\\u003c\\u002fb\\u003e\\u003cbr\\u003e\\u003cbr\\u003elatitude=%{lat}\\u003cbr\\u003elongitude=%{lon}\\u003cextra\\u003e\\u003c\\u002fextra\\u003e\",\"hovertext\":[\"Cluster Center\",\"Cluster Center\",\"Cluster Center\"],\"lat\":[35.07534098484848,36.84110404255319,36.967562471910114],\"legendgroup\":\"\",\"lon\":[-78.70102295454545,-118.11401170212766,-93.22135719101124],\"marker\":{\"color\":\"#636efa\",\"symbol\":\"diamond\",\"size\":12},\"mode\":\"markers\",\"name\":\"\",\"showlegend\":false,\"type\":\"scattergeo\"},{\"geo\":\"geo\",\"hovertemplate\":\"\\u003cb\\u003e%{hovertext}\\u003c\\u002fb\\u003e\\u003cbr\\u003e\\u003cbr\\u003elatitude=%{lat}\\u003cbr\\u003elongitude=%{lon}\\u003cbr\\u003ecluster_kmeans=%{marker.color}\\u003cextra\\u003e\\u003c\\u002fextra\\u003e\",\"hovertext\":[\"Zika Outbreak Hits Miami\",\"Could Zika Reach New York City?\",\"First Case of Zika in Miami Beach\",\"Dallas man comes down with case of Zika\",\"Zika Concerns are Spreading in Houston\",\"The CDC in Atlanta is Growing Worried\",\"Brownsville teen contracts Zika virus\",\"Mosquito control efforts in St. Louis take new tactics with Zika threat\",\"Flu outbreak in Galveston, Texas\",\"New Los Angeles Hairstyle goes Viral\",\"Orlando volunteers aid Zika research\",\"Chicago's First Zika Case Confirmed\",\"Tampa Bay Area Zika Case Count Climbs\",\"Baltimore plans for Zika virus\",\"Philadelphia experts track pandemic\",\"Tallahassee Doctors Discuss Zika Virus\",\"New Vaccine on Trial in Bethesda District\",\"Zika virus reported in Cleveland\",\"More Zika patients reported in Austin\",\"Zika symtomps spotted in Key West\",\"Seattle scientists get $500,000 grant to pursue Zika vaccine New 7:50 pm\",\"Nashville takes precautions against Zika\",\"Fort Collins Encounters Severe Symptoms of Gonorrhea\",\"Madison lab developing vaccine against Zika virus [The Wisconsin State Journal]\",\"New Zika Case Confirmed in Sarasota County\",\"Jacksonville man hit by Zika\",\"Authorities are Worried about the Spread of Bronchitis in Silver Spring\",\"El Paso fighting Zika\",\"Salt Lake City tests new cure for Respiratory Syncytial Virus\",\"First Columbus Zika case\",\"Zika Patient in Seminole, Florida\",\"Can Zika make it here to Vero Beach?\",\"Hollywood Outbreak Film Premieres\",\"Doral hit by Deadly Virus\",\"Authorities are Worried about the Spread of Influenza in Savannah\",\"HIV has Arrived in Fairfax\",\"New medicine wipes out West Nile Virus in Ventura\",\"First Zika Case in Cincinnati\",\"Zika cases concern Charlotte residents\",\"Spike of Pneumonia Cases in Springfield\",\"Zika case reported in Jupiter\",\"Zika virus confirmed in Westchester\",\"Rumors about Hepatitis D Spreading in San Juan Capistrano have been Refuted\",\"The Spread of Measles in Spokane has been Confirmed\",\"West Nile Virus Outbreak in Louisville\",\"New details in Baton Rouge cop killings\",\"More Zika patients reported in Pensacola\",\"Outbreak of Zika in Corpus Christi\",\"How to Avoid Rhinovirus in Lemon Grove\",\"Measles has not Left Brooklyn\",\"Escondido neighborhood to get sprayed for Zika virus\",\"Zika in Belmont, Belmont worry\",\"Case of Mumps Reported in Dayton\",\"Gainesville Deals with Disease Concerns\",\"Varicella Keeps Spreading in Detroit\",\"Manhattan Residents Recieve HIV vaccine\",\"Rumors about Dengue Spreading in Syracuse have been Refuted\",\"Will Norovirus vaccine help Raleigh?\",\"How to Avoid Gonorrhea in Shreveport\",\"Ithaca is infested with Dengue\",\"BREAKING aEUR\\\" Zika in Missoula\",\"New medicine wipes out Chikungunya in Tucson\",\"Hepatitis B Comes to Kansas City\",\"Is Lafayette prepared to combat Zika?\",\"Syphilis Outbreak in Harrisburg\",\"Zika Arrives in North Miami\",\"Urbana Encounters Severe Symptoms of Meningitis\",\"Pittsburgh Residents Recieve Norovirus vaccine\",\"Chikungunya Hits Denver\",\"HIV Keeps Spreading in Boulder\",\"Will Tuberculosis vaccine help Rockville?\",\"Zika Virus Arrives in Ontario\",\"The Spread of Chikungunya in Arcadia has been Confirmed\",\"Outbreak of Zika in Stephenville\",\"Providence Encounters Severe Symptoms of Dengue\",\"Zika battle outlined at Valdosta meeting\",\"Zika case reported in Coral Gables\",\"Hepatitis C Outbreak in Danbury\",\"Chickenpox has Arrived in Chula Vista\",\"Syphilis Hits Jefferson\",\"Will HIV vaccine help Las Vegas?\",\"Zika arrives in West Palm Beach\",\"Mobile authorities confirmed the spread of Bronchitis\",\"Zika spreads to Daytona Beach\",\"Spike of Chlamydia Cases in Farmington\",\"Authorities are Worried about the Spread of Rotavirus in Union\",\"Zika Virus Detected in Lubbock\",\"Malaria re-emerges in Boise\",\"How to Avoid Hepatitis B in Waldorf\",\"Tuberculosis Outbreak in Newark\",\"Zika Virus Sparks 'International Concern'\",\"Zika-carrying mosquitoes discovered in Ardmore\",\"Frisco Woman Tests Positive For Zika Virus\",\"Benton Residents Recieve Pneumonia vaccine\",\"Zika Outbreak in Pinewood\",\"Zika Strikes St. Petersburg\",\"Zika symptoms spotted in Hollywood\",\"Swine Flu re-emerges in La Jolla\",\"Tuberculosis Outbreak in Hartford\",\"Rumors about Mumps Spreading in New Bedford have been Refuted\",\"Respiratory Syncytial Virus Vaccine is now Required in Tulsa\",\"More people in Indianapolis are infected with Norovirus every year\",\"Rotavirus Vaccine is now Required in Starkville\",\"Milwaukee authorities confirmed the spread of Rhinovirus\",\"Zika symptoms spotted in Arlington\",\"Zika Spreads to Palm Beach Gardens\",\"Spike of Herpes Cases in Meriden\",\"Zika case reported in Abilene\",\"Outbreak of Zika in Palm Springs\",\"How to Avoid Pneumonia in Bullhead City\",\"Meningitis re-emerges in Summerville\",\"Pneumonia Symptoms Spread all over Bloomington\",\"Phoenix Residents Recieve Syphilis vaccine\",\"Zika Outbreak in Weslaco\",\"Mumps Symptoms Spread all over Jefferson\",\"The Spread of Rhinovirus in Boardman has been Confirmed\",\"Richland Center is infested with Hepatitis B\",\"Malaria Vaccine is now Required in Schenectady\",\"Lower Hospitalization in Lakewood after Hepatitis B Vaccine becomes Mandatory\",\"Spike of Rotavirus Cases in Omaha\",\"Will West Nile Virus vaccine help Coronado?\",\"Zika case confirmed in Lorain\",\"Chickenpox Hits Simpsonville\",\"Framingham Residents Receive Measles vaccine\",\"Bridgeport authorities confirmed the spread of West Nile Virus\",\"Measles Vaccine is now Required in Wailuku\",\"Zika in Tamarac!\",\"Will Measles vaccine help Milford?\",\"Rhinovirus Hits Bakersfield\",\"More people in Berkeley are infected with Swine Flu every year\",\"Zika only the latest mosquito-borne threat to New Orleans\",\"Will Swine Flu vaccine help Annapolis?\",\"Lower Hospitalization in Monroe after Hepatitis D Vaccine becomes Mandatory\",\"New medicine wipes out Dengue in Saginaw\",\"Spike of Rhinovirus Cases in Sevierville\",\"New medicine wipes out Mumps in Saint Charles\",\"Case of Chikungunya Reported in Gaithersburg\",\"How to Avoid Respiratory Syncytial Virus in San Bernardino\",\"More Zika patients reported in Waco\",\"Erie County sets Zika traps\",\"Schools in Huntington Closed Due to Rotavirus Outbreak\",\"Chickenpox Comes to Stillwater\",\"Case of Measles Reported in Springdale\",\"Norwalk Encounters Severe Symptoms of Malaria\",\"More Zika patients reported in Carrollton\",\"West Nile Virus Exposure in Racine\",\"The Spread of Hepatitis E in Lansing has been Confirmed\",\"West Nile Virus Exposure in Alpharetta\",\"Herpes Vaccine is now Required in Mattoon\",\"Kent is infested with Rabies\",\"Zika symptoms spotted in Bonita Springs\",\"More Zika patients reported in Fort Myers\",\"Zika spreads to Lewisville\",\"Ogden is infested with Gonorrhea\",\"Fort Hood Reports its First Zika Patient\",\"New medicine wipes out Rabies in Newburgh\",\"Iowa City Encounters Severe Symptoms of Rhinovirus\",\"Mumps Hits Howard Beach\",\"The Spread of Gonorrhea in Reno has been Confirmed\",\"How to Avoid Rhinovirus in Plainfield\",\"Rumors about Varicella spreading in Carlsbad have been refuted\",\"Scranton authorities confirmed the spread of Gonorrhea\",\"Hallandale Beach a Victim of Zika Outbreak\",\"Rhinovirus re-emerges in Storrs\",\"Germantown authorities confirmed the spread of Chickenpox\",\"Rumors about Rotavirus spreading in North Platte have been refuted\",\"Spike of Hepatitis C Cases in Golden\",\"Pneumonia Exposure in Alhambra\",\"Schools in Bentonville Closed Due to Hepatitis B Outbreak\",\"Hepatitis E Hits Hammond\",\"Schools in Bridgeton Closed Due to Mumps Outbreak\",\"Biloxi Residents Recieve Chlamydia vaccine\",\"More Patients in Crawfordsville are Getting Diagnosed with Rabies\",\"Authorities are Worried about the Spread of Hepatitis D in Akron\",\"Zika arrives in Boca Raton\",\"Bradenton Experiences Zika Troubles  \",\"Chlamydia Symptoms Spread all over University City\",\"Wisconsin Rapids Patient in Critical Condition after Contracting Chickenpox\",\"Zika spreads to Kissimmee\",\"Herpes Symptoms Spread all over Fremont\",\"Spike of Pneumonia Cases in The Bronx\",\"HIV has Arrived in Tacoma\",\"Malaria re-emerges in Nashua\",\"Arvada is infested with Syphilis\",\"Spike of Syphilis Cases in West Monroe\",\"Deerfield tests new cure for Measles\",\"Hepatitis A re-emerges in Foster City\",\"How to Avoid Tuberculosis in Santa Monica\",\"Zika reported in Fort Pierce\",\"Zika spreads to Winter Park\",\"Hepatitis A has not Left Staten Island\",\"New Milford Patient in Critical Condition after Contracting Respiratory Syncytial Virus\",\"More people in Palo Alto are infected with HIV every year\",\"Vineland authorities confirmed the spread of Chlamydia\",\"Tupelo Residents Recieve Syphilis vaccine\",\"The Spread of Dengue in Yakima has been Confirmed\",\"Rumors about Chlamydia spreading in Redmond have been refuted\",\"Case of Varicella Reported in Concord\",\"Zika virus case reported in Rockland\",\"Zika investigators coming to Mankato\",\"Toms River Encounters Severe Symptoms of Respiratory Syncytial Virus\",\"Hepatitis D Keeps Spreading in Bismarck\",\"Varicella Outbreak in Minot\",\"Authorities are Worried about the Spread of Chickenpox in Hemet\",\"Princeton Encounters Severe Symptoms of Dengue\",\"Lower Hospitalization in Palm Springs after Hepatitis A Vaccine becomes Mandatory\",\"Outbreak of Zika in Leesburg\",\"Stony Brook University experts discuss Zika virus\",\"Lower Hospitalization in Janesville after Varicella Vaccine becomes Mandatory\",\"Rabies Outbreak in Altus\",\"Miami resident suggests Zika precautions\",\"Schools in Tulare Closed Due to Mumps Outbreak\",\"Hepatitis D Keeps Spreading in Danvers\",\"Authorities a Miami\",\"Spike of Tuberculosis Cases in Albuquerque\",\"More people in Cranford are infected with Hepatitis A every year\",\"West Nile Virus Hits Monroe\",\"Pneumonia Outbreak in Springville\",\"Rumors about Rotavirus Spreading in Joliet have been Refuted\",\"Lawrenceville is infested with Dengue\",\"Gonorrhea has Arrived in Avon Lake\",\"Respiratory Syncytial Virus Hits Henderson\",\"More Zika patients reported in Lakeland\",\"Malaria Vaccine is now Required in Winona\",\"More Patients in Canton are Getting Diagnosed with Norovirus\",\"Ronkonkoma is infested with Chickenpox\",\"Gonorrhea Exposure in Norwalk\",\"How to Avoid Rhinovirus in Medford\",\"Hepatitis D Symptoms Spread all over Evansville\",\"New medicine wipes out Herpes in Bossier City\",\"Duluth Patient in Critical Condition after Contracting Rotavirus\",\"Norfolk tests new cure for Herpes\",\"Manassas Encounters Severe Symptoms of Measles\",\"Fayetteville authorities confirmed the spread of HIV\",\"Zika Outbreak in South Miami\",\"Hepatitis D Symptoms Spread all over North Bethesda\",\"Zika seminars in Yuma County\",\"Rumors about Hepatitis E Spreading in Morristown have been Refuted\",\"Mumps Outbreak in Joplin\",\"Authorities are Worried about the Spread of Mumps in Corona\",\"Schools in Danville Closed Due to Tuberculosis Outbreak\",\"Marquette tests new cure for Hepatitis A\",\"Norovirus Vaccine is now Required in Anaheim\",\"The Spread of Hepatitis E in Fargo has been Confirmed\",\"West Nile Virus Keeps Spreading in Hauppauge\",\"Bronchitis Keeps Spreading in Hayward\",\"Zika spreads to Plant City\",\"Zika Reported in North Miami Beach\",\"Case of West Nile Virus Reported in Riverside\",\"Northfield Encounters Severe Symptoms of Herpes\",\"The Spread of Respiratory Syncytial Virus in Monroe has been Confirmed\",\"How to Avoid Hepatitis B in Trenton\",\"Barstow Patient in Critical Condition after Contracting Herpes\",\"Will Gonorrhea vaccine help East Moline?\",\"New medicine wipes out Influenza in Redlands\",\"Alameda Residents Recieve Rabies vaccine\",\"Memphis Encounters Severe Symptoms of Swine Flu\",\"Zika Troubles come to Delray Beach\",\"How to Avoid Hepatitis E in South Bend\",\"Davenport is infested with Dengue\",\"Malaria Vaccine is now Required in Elyria\",\"Influenza Keeps Spreading in Suffolk\",\"More people in Allentown are infected with Chlamydia every year\",\"Dengue Outbreak in Easton\",\"Authorities are Worried about the Spread of Varicella in Clovis\",\"More Zika patients reported in Fort Worth\",\"Zika symptoms spotted in Boynton Beach\",\"Zika Outbreak in Wichita Falls\"],\"lat\":[25.77427,40.71427,25.79065,32.78306,29.76328,33.749,25.82176,38.62727,29.30135,34.05223,28.53834,41.85003,27.94752,39.29038,39.95233,30.43826,38.98067,35.15952,30.26715,24.55524,47.60621,36.16589,40.58526,34.69926,27.33643,34.8662,38.99067,31.75872,40.76078,32.46098,27.83975,27.63864,26.0112,25.81954,32.08354,38.84622,34.27834,39.12711,35.22709,39.80172,26.93422,25.75482,33.50169,47.65966,38.25424,30.44332,30.42131,27.80058,32.74255,40.6501,33.11921,42.39593,39.75895,29.65163,42.33143,39.18361,43.04812,35.7721,32.52515,42.44063,46.87215,32.22174,39.11417,30.22409,40.2737,25.89009,40.11059,40.44062,39.73915,40.01499,39.084,34.06334,34.13973,32.2207,41.82399,30.83334,25.72149,41.39482,32.64005,38.86456,36.17497,26.71534,30.69436,29.21081,37.78088,40.6976,33.57786,43.6135,38.62456,39.68372,39.53491,34.17426,33.15067,34.56454,25.86898,27.77086,26.0112,32.84727,41.76371,41.63526,36.15398,39.76838,33.45049,43.0389,32.73569,26.82339,41.53815,32.44874,26.6359,35.14778,33.0185,39.16533,33.44838,26.15952,38.86456,41.02423,46.28569,42.81424,40.09789,41.25626,32.68589,41.45282,34.73706,42.27926,41.83809,20.89133,26.21286,41.22232,35.37329,37.87159,29.95465,38.97845,32.50931,32.86013,35.86815,38.60317,39.14344,34.10834,31.54933,42.12922,38.41925,36.11561,36.18674,41.1176,33.58011,42.72613,41.56476,34.07538,39.48309,41.15367,26.33981,26.62168,33.04623,41.223,31.13489,41.50343,41.66113,40.65788,39.52963,39.70421,33.15809,41.40916,25.9812,41.80843,39.17316,41.12389,39.75554,34.09529,36.37285,30.50463,39.42734,30.39603,40.04115,41.08144,26.35869,27.49893,38.65588,44.38358,28.30468,41.43333,40.84985,47.25288,42.76537,39.80276,32.50931,42.17114,37.55855,34.01945,27.44671,28.6,40.56233,40.9351,37.44188,39.48623,34.25807,46.60207,44.27262,38.5245,42.13066,44.15906,39.95373,46.80833,48.23251,33.74761,25.53844,26.6359,28.81082,28.07389,42.68279,34.63813,25.77427,36.20773,42.57509,25.77427,35.08449,40.65844,32.50931,40.16523,41.52519,33.95621,41.50532,37.83615,28.03947,44.04996,34.23676,40.81538,41.1176,42.41843,37.97476,32.51599,34.00288,36.84681,38.75095,36.06258,25.77427,39.04455,32.72532,36.21398,37.08423,40.74705,37.64563,46.54354,33.83529,46.87719,40.82565,37.66882,28.01888,25.93315,39.77978,44.4583,32.50931,42.13949,34.89859,41.50087,34.05557,37.76521,35.14953,26.46146,41.68338,41.52364,41.36838,36.72836,40.60843,38.77428,36.82523,32.72541,26.52535,33.91371],\"legendgroup\":\"\",\"lon\":[-80.19366,-74.00597,-80.13005,-96.80667,-95.36327,-84.38798,-80.24116,-90.19789,-94.7977,-118.24368,-81.37924,-87.65005,-82.45843,-76.61219,-75.16379,-84.28073,-77.10026,-84.87661,-97.74306,-81.78163,-122.33207,-86.78444,-105.08442,-86.74833,-82.53065,-92.11015,-77.02609,-106.48693,-111.89105,-84.98771,-82.79121,-80.39727,-80.14949,-80.35533,-81.09983,-77.30637,-119.29317,-84.51439,-80.84313,-89.64371,-80.09421,-80.32727,-117.66255,-117.42908,-85.75941,-91.18747,-87.21691,-97.39638,-117.03142,-73.94958,-117.08642,-71.17867,-84.19161,-82.32483,-83.04575,-96.57167,-76.14742,-78.63861,-93.75018,-76.49661,-113.994,-110.92648,-94.62746,-92.01984,-76.88442,-80.18671,-88.20727,-79.99589,-104.9847,-105.27055,-77.15276,-117.65089,-118.03534,-98.20226,-71.41283,-83.28032,-80.26838,-73.45401,-117.0842,-77.18776,-115.13722,-80.05337,-88.04305,-81.02283,-90.42179,-74.2632,-101.85517,-116.20345,-76.93914,-75.74966,-119.75269,-97.14363,-96.82361,-92.58683,-80.21699,-82.67927,-80.14949,-117.2742,-72.68509,-70.92701,-95.99277,-86.15804,-88.81961,-87.90647,-97.10807,-80.13865,-72.80704,-99.73314,-80.09615,-114.5683,-80.17565,-86.52639,-112.07404,-97.99084,-77.18776,-80.66285,-119.28446,-73.93957,-74.21764,-95.94043,-117.18309,-82.18237,-82.25428,-71.41617,-87.65116,-156.50604,-80.24977,-73.0565,-119.01871,-122.27275,-90.07507,-76.49218,-92.1193,-97.36391,-83.56184,-76.93858,-77.20137,-117.28977,-97.14667,-80.08506,-82.44515,-97.05837,-94.12881,-73.4079,-85.07661,-87.78285,-87.53893,-84.29409,-88.37283,-81.35789,-81.7787,-81.84059,-96.99417,-111.97383,-97.77561,-74.01042,-91.53017,-73.83625,-119.8138,-86.39944,-117.35059,-75.6649,-80.14838,-72.24952,-77.27165,-100.76542,-105.2211,-118.12701,-94.20882,-90.46293,-75.23408,-88.88531,-86.87445,-81.51901,-80.0831,-82.57482,-90.30928,-89.81735,-81.41667,-96.49808,-73.86641,-122.44429,-71.46757,-105.08748,-92.1193,-87.84451,-122.27108,-118.49119,-80.32561,-81.33924,-74.13986,-74.01903,-122.14302,-75.02573,-88.70464,-120.5059,-121.17392,-90.35734,-70.91616,-94.00915,-74.19792,-100.78374,-101.29627,-116.97307,-80.40894,-80.09615,-81.87786,-82.43902,-89.01872,-99.33398,-80.19366,-119.34734,-70.93005,-80.19366,-106.65114,-74.29959,-92.1193,-111.61075,-88.0834,-83.98796,-82.0282,-87.59001,-81.9498,-91.63932,-84.49076,-73.11233,-73.4079,-71.10616,-87.55585,-93.73212,-84.14464,-76.28522,-77.47527,-94.15743,-80.19366,-77.11887,-114.6244,-83.29489,-94.51328,-73.86014,-84.77217,-87.39542,-117.9145,-96.7898,-73.20261,-122.0808,-82.11469,-80.16255,-84.1241,-93.1616,-92.1193,-83.17826,-117.02282,-90.4443,-117.18254,-122.24164,-90.04898,-80.07282,-86.25001,-90.57764,-82.10765,-76.58496,-75.49018,-76.07633,-119.70292,-97.32085,-80.06643,-98.49339],\"marker\":{\"color\":[0,0,0,2,2,0,0,2,2,1,0,2,0,0,0,0,0,0,2,0,1,2,2,2,0,2,0,1,1,0,0,0,0,0,0,0,1,0,0,2,0,0,1,1,2,2,2,2,1,0,1,0,0,0,0,2,0,0,2,0,1,1,2,2,0,0,2,0,2,2,0,1,1,2,0,0,0,0,1,0,1,0,2,0,2,0,2,1,0,0,1,2,2,2,0,0,0,1,0,0,2,2,2,2,2,0,0,2,0,1,0,2,1,2,0,0,1,0,0,2,1,0,0,0,2,1,0,0,1,1,2,0,2,2,0,0,0,1,2,0,0,2,2,0,0,2,2,0,2,0,0,0,2,1,2,0,2,0,1,2,1,0,0,0,0,2,2,1,2,2,0,2,2,0,0,0,2,2,0,2,0,1,0,2,2,2,1,1,0,0,0,0,1,0,2,1,1,2,0,2,0,2,2,1,0,0,0,0,2,2,0,1,0,0,1,0,2,1,2,0,0,2,0,2,0,0,0,0,2,2,0,0,0,2,0,0,1,0,2,0,0,2,1,2,0,1,0,0,0,2,2,0,1,2,1,1,2,0,2,2,0,0,0,0,1,2,0,2],\"coloraxis\":\"coloraxis\",\"symbol\":\"circle\"},\"mode\":\"markers\",\"name\":\"\",\"showlegend\":false,\"type\":\"scattergeo\"}],                        {\"template\":{\"data\":{\"histogram2dcontour\":[{\"type\":\"histogram2dcontour\",\"colorbar\":{\"outlinewidth\":0,\"ticks\":\"\"},\"colorscale\":[[0.0,\"#0d0887\"],[0.1111111111111111,\"#46039f\"],[0.2222222222222222,\"#7201a8\"],[0.3333333333333333,\"#9c179e\"],[0.4444444444444444,\"#bd3786\"],[0.5555555555555556,\"#d8576b\"],[0.6666666666666666,\"#ed7953\"],[0.7777777777777778,\"#fb9f3a\"],[0.8888888888888888,\"#fdca26\"],[1.0,\"#f0f921\"]]}],\"choropleth\":[{\"type\":\"choropleth\",\"colorbar\":{\"outlinewidth\":0,\"ticks\":\"\"}}],\"histogram2d\":[{\"type\":\"histogram2d\",\"colorbar\":{\"outlinewidth\":0,\"ticks\":\"\"},\"colorscale\":[[0.0,\"#0d0887\"],[0.1111111111111111,\"#46039f\"],[0.2222222222222222,\"#7201a8\"],[0.3333333333333333,\"#9c179e\"],[0.4444444444444444,\"#bd3786\"],[0.5555555555555556,\"#d8576b\"],[0.6666666666666666,\"#ed7953\"],[0.7777777777777778,\"#fb9f3a\"],[0.8888888888888888,\"#fdca26\"],[1.0,\"#f0f921\"]]}],\"heatmap\":[{\"type\":\"heatmap\",\"colorbar\":{\"outlinewidth\":0,\"ticks\":\"\"},\"colorscale\":[[0.0,\"#0d0887\"],[0.1111111111111111,\"#46039f\"],[0.2222222222222222,\"#7201a8\"],[0.3333333333333333,\"#9c179e\"],[0.4444444444444444,\"#bd3786\"],[0.5555555555555556,\"#d8576b\"],[0.6666666666666666,\"#ed7953\"],[0.7777777777777778,\"#fb9f3a\"],[0.8888888888888888,\"#fdca26\"],[1.0,\"#f0f921\"]]}],\"heatmapgl\":[{\"type\":\"heatmapgl\",\"colorbar\":{\"outlinewidth\":0,\"ticks\":\"\"},\"colorscale\":[[0.0,\"#0d0887\"],[0.1111111111111111,\"#46039f\"],[0.2222222222222222,\"#7201a8\"],[0.3333333333333333,\"#9c179e\"],[0.4444444444444444,\"#bd3786\"],[0.5555555555555556,\"#d8576b\"],[0.6666666666666666,\"#ed7953\"],[0.7777777777777778,\"#fb9f3a\"],[0.8888888888888888,\"#fdca26\"],[1.0,\"#f0f921\"]]}],\"contourcarpet\":[{\"type\":\"contourcarpet\",\"colorbar\":{\"outlinewidth\":0,\"ticks\":\"\"}}],\"contour\":[{\"type\":\"contour\",\"colorbar\":{\"outlinewidth\":0,\"ticks\":\"\"},\"colorscale\":[[0.0,\"#0d0887\"],[0.1111111111111111,\"#46039f\"],[0.2222222222222222,\"#7201a8\"],[0.3333333333333333,\"#9c179e\"],[0.4444444444444444,\"#bd3786\"],[0.5555555555555556,\"#d8576b\"],[0.6666666666666666,\"#ed7953\"],[0.7777777777777778,\"#fb9f3a\"],[0.8888888888888888,\"#fdca26\"],[1.0,\"#f0f921\"]]}],\"surface\":[{\"type\":\"surface\",\"colorbar\":{\"outlinewidth\":0,\"ticks\":\"\"},\"colorscale\":[[0.0,\"#0d0887\"],[0.1111111111111111,\"#46039f\"],[0.2222222222222222,\"#7201a8\"],[0.3333333333333333,\"#9c179e\"],[0.4444444444444444,\"#bd3786\"],[0.5555555555555556,\"#d8576b\"],[0.6666666666666666,\"#ed7953\"],[0.7777777777777778,\"#fb9f3a\"],[0.8888888888888888,\"#fdca26\"],[1.0,\"#f0f921\"]]}],\"mesh3d\":[{\"type\":\"mesh3d\",\"colorbar\":{\"outlinewidth\":0,\"ticks\":\"\"}}],\"scatter\":[{\"fillpattern\":{\"fillmode\":\"overlay\",\"size\":10,\"solidity\":0.2},\"type\":\"scatter\"}],\"parcoords\":[{\"type\":\"parcoords\",\"line\":{\"colorbar\":{\"outlinewidth\":0,\"ticks\":\"\"}}}],\"scatterpolargl\":[{\"type\":\"scatterpolargl\",\"marker\":{\"colorbar\":{\"outlinewidth\":0,\"ticks\":\"\"}}}],\"bar\":[{\"error_x\":{\"color\":\"#2a3f5f\"},\"error_y\":{\"color\":\"#2a3f5f\"},\"marker\":{\"line\":{\"color\":\"#E5ECF6\",\"width\":0.5},\"pattern\":{\"fillmode\":\"overlay\",\"size\":10,\"solidity\":0.2}},\"type\":\"bar\"}],\"scattergeo\":[{\"type\":\"scattergeo\",\"marker\":{\"colorbar\":{\"outlinewidth\":0,\"ticks\":\"\"}}}],\"scatterpolar\":[{\"type\":\"scatterpolar\",\"marker\":{\"colorbar\":{\"outlinewidth\":0,\"ticks\":\"\"}}}],\"histogram\":[{\"marker\":{\"pattern\":{\"fillmode\":\"overlay\",\"size\":10,\"solidity\":0.2}},\"type\":\"histogram\"}],\"scattergl\":[{\"type\":\"scattergl\",\"marker\":{\"colorbar\":{\"outlinewidth\":0,\"ticks\":\"\"}}}],\"scatter3d\":[{\"type\":\"scatter3d\",\"line\":{\"colorbar\":{\"outlinewidth\":0,\"ticks\":\"\"}},\"marker\":{\"colorbar\":{\"outlinewidth\":0,\"ticks\":\"\"}}}],\"scattermapbox\":[{\"type\":\"scattermapbox\",\"marker\":{\"colorbar\":{\"outlinewidth\":0,\"ticks\":\"\"}}}],\"scatterternary\":[{\"type\":\"scatterternary\",\"marker\":{\"colorbar\":{\"outlinewidth\":0,\"ticks\":\"\"}}}],\"scattercarpet\":[{\"type\":\"scattercarpet\",\"marker\":{\"colorbar\":{\"outlinewidth\":0,\"ticks\":\"\"}}}],\"carpet\":[{\"aaxis\":{\"endlinecolor\":\"#2a3f5f\",\"gridcolor\":\"white\",\"linecolor\":\"white\",\"minorgridcolor\":\"white\",\"startlinecolor\":\"#2a3f5f\"},\"baxis\":{\"endlinecolor\":\"#2a3f5f\",\"gridcolor\":\"white\",\"linecolor\":\"white\",\"minorgridcolor\":\"white\",\"startlinecolor\":\"#2a3f5f\"},\"type\":\"carpet\"}],\"table\":[{\"cells\":{\"fill\":{\"color\":\"#EBF0F8\"},\"line\":{\"color\":\"white\"}},\"header\":{\"fill\":{\"color\":\"#C8D4E3\"},\"line\":{\"color\":\"white\"}},\"type\":\"table\"}],\"barpolar\":[{\"marker\":{\"line\":{\"color\":\"#E5ECF6\",\"width\":0.5},\"pattern\":{\"fillmode\":\"overlay\",\"size\":10,\"solidity\":0.2}},\"type\":\"barpolar\"}],\"pie\":[{\"automargin\":true,\"type\":\"pie\"}]},\"layout\":{\"autotypenumbers\":\"strict\",\"colorway\":[\"#636efa\",\"#EF553B\",\"#00cc96\",\"#ab63fa\",\"#FFA15A\",\"#19d3f3\",\"#FF6692\",\"#B6E880\",\"#FF97FF\",\"#FECB52\"],\"font\":{\"color\":\"#2a3f5f\"},\"hovermode\":\"closest\",\"hoverlabel\":{\"align\":\"left\"},\"paper_bgcolor\":\"white\",\"plot_bgcolor\":\"#E5ECF6\",\"polar\":{\"bgcolor\":\"#E5ECF6\",\"angularaxis\":{\"gridcolor\":\"white\",\"linecolor\":\"white\",\"ticks\":\"\"},\"radialaxis\":{\"gridcolor\":\"white\",\"linecolor\":\"white\",\"ticks\":\"\"}},\"ternary\":{\"bgcolor\":\"#E5ECF6\",\"aaxis\":{\"gridcolor\":\"white\",\"linecolor\":\"white\",\"ticks\":\"\"},\"baxis\":{\"gridcolor\":\"white\",\"linecolor\":\"white\",\"ticks\":\"\"},\"caxis\":{\"gridcolor\":\"white\",\"linecolor\":\"white\",\"ticks\":\"\"}},\"coloraxis\":{\"colorbar\":{\"outlinewidth\":0,\"ticks\":\"\"}},\"colorscale\":{\"sequential\":[[0.0,\"#0d0887\"],[0.1111111111111111,\"#46039f\"],[0.2222222222222222,\"#7201a8\"],[0.3333333333333333,\"#9c179e\"],[0.4444444444444444,\"#bd3786\"],[0.5555555555555556,\"#d8576b\"],[0.6666666666666666,\"#ed7953\"],[0.7777777777777778,\"#fb9f3a\"],[0.8888888888888888,\"#fdca26\"],[1.0,\"#f0f921\"]],\"sequentialminus\":[[0.0,\"#0d0887\"],[0.1111111111111111,\"#46039f\"],[0.2222222222222222,\"#7201a8\"],[0.3333333333333333,\"#9c179e\"],[0.4444444444444444,\"#bd3786\"],[0.5555555555555556,\"#d8576b\"],[0.6666666666666666,\"#ed7953\"],[0.7777777777777778,\"#fb9f3a\"],[0.8888888888888888,\"#fdca26\"],[1.0,\"#f0f921\"]],\"diverging\":[[0,\"#8e0152\"],[0.1,\"#c51b7d\"],[0.2,\"#de77ae\"],[0.3,\"#f1b6da\"],[0.4,\"#fde0ef\"],[0.5,\"#f7f7f7\"],[0.6,\"#e6f5d0\"],[0.7,\"#b8e186\"],[0.8,\"#7fbc41\"],[0.9,\"#4d9221\"],[1,\"#276419\"]]},\"xaxis\":{\"gridcolor\":\"white\",\"linecolor\":\"white\",\"ticks\":\"\",\"title\":{\"standoff\":15},\"zerolinecolor\":\"white\",\"automargin\":true,\"zerolinewidth\":2},\"yaxis\":{\"gridcolor\":\"white\",\"linecolor\":\"white\",\"ticks\":\"\",\"title\":{\"standoff\":15},\"zerolinecolor\":\"white\",\"automargin\":true,\"zerolinewidth\":2},\"scene\":{\"xaxis\":{\"backgroundcolor\":\"#E5ECF6\",\"gridcolor\":\"white\",\"linecolor\":\"white\",\"showbackground\":true,\"ticks\":\"\",\"zerolinecolor\":\"white\",\"gridwidth\":2},\"yaxis\":{\"backgroundcolor\":\"#E5ECF6\",\"gridcolor\":\"white\",\"linecolor\":\"white\",\"showbackground\":true,\"ticks\":\"\",\"zerolinecolor\":\"white\",\"gridwidth\":2},\"zaxis\":{\"backgroundcolor\":\"#E5ECF6\",\"gridcolor\":\"white\",\"linecolor\":\"white\",\"showbackground\":true,\"ticks\":\"\",\"zerolinecolor\":\"white\",\"gridwidth\":2}},\"shapedefaults\":{\"line\":{\"color\":\"#2a3f5f\"}},\"annotationdefaults\":{\"arrowcolor\":\"#2a3f5f\",\"arrowhead\":0,\"arrowwidth\":1},\"geo\":{\"bgcolor\":\"white\",\"landcolor\":\"#E5ECF6\",\"subunitcolor\":\"white\",\"showland\":true,\"showlakes\":true,\"lakecolor\":\"white\"},\"title\":{\"x\":0.05},\"mapbox\":{\"style\":\"light\"}}},\"geo\":{\"domain\":{\"x\":[0.0,1.0],\"y\":[0.0,1.0]},\"center\":{},\"projection\":{\"type\":\"orthographic\"},\"showcountries\":true},\"legend\":{\"tracegroupgap\":0},\"margin\":{\"t\":60}},                        {\"responsive\": true}                    ).then(function(){\n",
       "                            \n",
       "var gd = document.getElementById('e11a39ca-e715-430b-9990-40b8cae3ce2a');\n",
       "var x = new MutationObserver(function (mutations, observer) {{\n",
       "        var display = window.getComputedStyle(gd).display;\n",
       "        if (!display || display === 'none') {{\n",
       "            console.log([gd, 'removed!']);\n",
       "            Plotly.purge(gd);\n",
       "            observer.disconnect();\n",
       "        }}\n",
       "}});\n",
       "\n",
       "// Listen for the removal of the full notebook cells\n",
       "var notebookContainer = gd.closest('#notebook-container');\n",
       "if (notebookContainer) {{\n",
       "    x.observe(notebookContainer, {childList: true});\n",
       "}}\n",
       "\n",
       "// Listen for the clearing of the current output cell\n",
       "var outputEl = gd.closest('.output');\n",
       "if (outputEl) {{\n",
       "    x.observe(outputEl, {childList: true});\n",
       "}}\n",
       "\n",
       "                        })                };                });            </script>        </div>"
      ]
     },
     "metadata": {},
     "output_type": "display_data"
    },
    {
     "data": {
      "image/png": "[encoded data removed]",
      "text/plain": [
       "<Figure size 640x480 with 1 Axes>"
      ]
     },
     "metadata": {},
     "output_type": "display_data"
    }
   ],
   "source": [
    "cluster_df_usa, usa_df, usa_centers = kmns(usa_df,3)\n",
    "\n",
    "plotdf(usa_df, usa_centers, \"KMeans USA\")\n"
   ]
  },
  {
   "cell_type": "code",
   "execution_count": 267,
   "id": "d9691a25",
   "metadata": {},
   "outputs": [
    {
     "name": "stdout",
     "output_type": "stream",
     "text": [
      "False\n",
      "False\n"
     ]
    },
    {
     "data": {
      "image/png": "[encoded data removed]",
      "text/plain": [
       "<Figure size 640x480 with 1 Axes>"
      ]
     },
     "metadata": {},
     "output_type": "display_data"
    },
    {
     "data": {
      "application/vnd.plotly.v1+json": {
       "config": {
        "plotlyServerURL": "https://plot.ly"
       },
       "data": [
        {
         "geo": "geo",
         "hovertemplate": "<extra></extra>",
         "legendgroup": "",
         "marker": {
          "color": "#636efa",
          "symbol": "circle"
         },
         "mode": "markers",
         "name": "",
         "showlegend": false,
         "type": "scattergeo"
        },
        {
         "geo": "geo",
         "hovertemplate": "<b>%{hovertext}</b><br><br>latitude=%{lat}<br>longitude=%{lon}<extra></extra>",
         "hovertext": [
          "Cluster Center",
          "Cluster Center",
          "Cluster Center"
         ],
         "lat": [
          5.610165192307692,
          7.997885925925926,
          33.475787029702964
         ],
         "legendgroup": "",
         "lon": [
          118.98696721153846,
          -74.21373361111111,
          13.592945445544554
         ],
         "marker": {
          "color": "#636efa",
          "size": 12,
          "symbol": "diamond"
         },
         "mode": "markers",
         "name": "",
         "showlegend": false,
         "type": "scattergeo"
        },
        {
         "geo": "geo",
         "hovertemplate": "<b>%{hovertext}</b><br><br>latitude=%{lat}<br>longitude=%{lon}<br>cluster_kmeans=%{marker.color}<extra></extra>",
         "hovertext": [
          "Mystery Virus Spreads in Recife, Brazil",
          "Trinidad confirms first Zika case",
          "San Juan reports 1st U.S. Zika-related death amid outbreak",
          "Zika alert aEUR\" Manila now threatened",
          "Zika afflicts 7 in Iloilo City",
          "Bad Water Leads to Sickness in Flint, Michigan",
          "London Health Unit Tracks Mad Cow Disease",
          "Zika cases in Vietnam's Ho Chi Minh City surge",
          "Flu season hits Boston",
          "Scientists in Paris to look for answers",
          "Key Zika Findings in San Diego Institute",
          "Thailand-Zika Virus in Bangkok",
          "Beijing team cracks Zika secret",
          "Zika spreading to Salvador",
          "Kuala Lumpur is Hit By Zika Threat",
          "First Zika case confirmed in Yangon",
          "Zika Virus Reaches San Francisco",
          "Townsville Zika tests inconclusive",
          "Mandaluyong City under Siege by Virus",
          "Hepatitis E re-emerges in Santa Rosa",
          "Zika worries in San Salvador",
          "Zika outbreak in Piracicaba, Brazil",
          "Lima tries to address Zika Concerns",
          "More people in Toronto are infected with Hepatitis E every year",
          "Brisbane is infested with Meningitis",
          "Cholera outbreak in Dakar",
          "Zika Virus Transmission Detected in Havana",
          "Case of Measles Reported in Vancouver",
          "Saint Croix under Zika threat",
          "Zika surfaces in Klang, Malaysia",
          "Rumors about Meningitis spreading in Guatemala City have been refuted",
          "Lower Hospitalization in Entebbe after Rabies Vaccine becomes Mandatory",
          "Schools in Shenzhen Closed Due to Malaria Outbreak",
          "Caracas patient dies",
          "More Quezon City Zika Transmissions",
          "Schools in Sydney Closed Due to Respiratory Syncytial Virus Outbreak",
          "Mumbai's Health Minister warns of more Zika cases",
          "Pune woman diagnosed with Zika",
          "Hospitals in Hanoi fill up with Zika patients",
          "Zika: Delhi for strict monitoring",
          "Belize City under threat from Zika",
          "Student sick in Campinas, Brazil",
          "More Zika cases in Soyapango",
          "Authorities are Worried about the Spread of Mad Cow Disease in Rome",
          "Seoul confirms 14th Zika infection",
          "Zika outbreak spreads to Mexico City",
          "Rochester authorities confirmed the spread of Dengue",
          "Zika now spreading through Jakarta",
          "Zika San Antonio Patient Speaks Out",
          "Ebola outbreak in Kampala",
          "Precautionary Zika measures in Rockhampton",
          "Zika arrives in Tegucigalpa",
          "New Zika Case Confirmed in Belo Horizonte",
          "Case of Hepatitis E Reported in Melbourne",
          "New medicine wipes out Tuberculosis in Taipei",
          "Antipolo under threat from Zika Virus",
          "Spreading Zika reaches Bacoor",
          "Zika afflicts patient in Calamba",
          "Petaling Jaya man ill from Zika",
          "Malaria is Spreading in Johannesburg",
          "Authorities are Worried about the Spread of Norovirus in Buenos Aires",
          "Guangzhou Patient in Critical Condition after Contracting Swine Flu",
          "Tokyo Encounters Severe Symptoms of Meningitis",
          "Rabies Exposure in Hamilton",
          "Zika Outbreak in Hyderabad",
          "Birmingham Residents Recieve Rabies vaccine",
          "Is Zika virus in Majuro?",
          "Spanish Flu Outbreak in Barcelona",
          "Santa Barbara tests new cure for Hepatitis C",
          "Villavicencio under Zika threat",
          "Two more Zika cases confirmed in Laredo",
          "New Delhi Addressing Zika Concerns",
          "New Zika Case in Kota Kinabalu, Malaysia",
          "Meningitis re-emerges in Nassau",
          "Zika reaches Johor Bahru, Malaysia",
          "Nha Trang Zika Outbreak",
          "Molo Cholera Spread Causing Concern",
          "Norovirus Exposure in Hong Kong",
          "19 new Zika Cases in Sengkang",
          "Batangas Tourism Takes a Hit as Virus Spreads",
          "Johannesburg Patient in Critical Condition after Contracting Pneumonia",
          "Outbreak of Zika in Bacolod City",
          "Respiratory Syncytial Virus Keeps Spreading in Masaya",
          "Authorities are Worried about the Spread of Tuberculosis in Abuja",
          "Zika alert for Rio Grande Valley residents",
          "Zika symptoms spotted in Colombo",
          "Hepatitis B has not Left Florence",
          "Rumors about Rotavirus spreading in Huntsville have been refuted",
          "Rhinovirus has Arrived in Athens",
          "Influenza has not Left Sacramento",
          "Veracruz hit by Zika Concerns",
          "Authorities are Worried about the Spread of Dengue in Kingston",
          "Montevideo Encounters Severe Symptoms of Rotavirus",
          "Zika cases in Singapore reach 393",
          "Zika arrives in Miri",
          "Lower Hospitalization in Auckland after Hepatitis D Vaccine becomes Mandatory",
          "Will MCD vaccine help Strasbourg?",
          "New medicine wipes out Measles in Fresno",
          "Zika arrives in Santos",
          "Sick Livestock Leads to Serious Trouble for Belfort",
          "Hepatitis E has not Left Libreville",
          "Norovirus has Arrived in Winnipeg",
          "More Patients in Cambridge are Getting Diagnosed with Chickenpox",
          "Chikungunya Exposure in Toledo",
          "Mecca tests new cure for Chikungunya",
          "Zika arrives in San Benito",
          "Zika case recorded in Tunapuna A>>",
          "Spike of Respiratory Syncytial Virus Cases in Mandalay",
          "Mad Cow Disease Re-emerges in Chatham",
          "Mad Cow Disease Hits Naples",
          "More Zika patients reported in Davao",
          "Oxford tests new cure for HIV",
          "Tests negative on Windsor Zika carriers",
          "Lausanne Residents Recieve Meningitis vaccine",
          "Rhinovirus Comes to San Jose",
          "Rumors about Hepatitis D spreading in Albany have been refuted",
          "Zika symptoms spotted in Bello",
          "Will Meningitis vaccine help Hamburg?",
          "Madera Patient in Critical Condition after Contracting Rabies",
          "Varicella re-emerges in Lagos",
          "Vericella spreading in Ibadan",
          "Schools in Birmingham Closed Due to Measles Outbreak",
          "Spike of Chlamydia Cases in Berlin",
          "Zika Mosquitoes May Have Bred in Bromeliads, Florida Officials Say",
          "More Livestock in Fontainebleau are infected with Mad Cow Disease",
          "Authorities are Worried about the Spread of Norovirus in Dubai",
          "Case of Hepatitis A Reported in Calgary",
          "Will Swine Flu vaccine help Ljubljana?",
          "Bronchitis re-emerges in Tehran",
          "Mad Cow case in Murcia",
          "Mad Cow Disease Spreads to Margate",
          "Will the Mad Cow Outbreak Reach Vienna?",
          "More Patients in Orange are Getting Diagnosed with Chickenpox",
          "Lower Hospitalization in Richmond after Mumps Vaccine becomes Mandatory",
          "Meningitis re-emerges in Medina",
          "Four cases of Zika in Hidalgo County",
          "Zika arrives in Oaxaca",
          "More people in Durham are infected with Chlamydia every year",
          "Authorities are Worried about the Spread of Gonorrhea in Taoyuan City",
          "Lower Hospitalization in Dhaka after Measles Vaccine becomes Mandatory",
          "Albany Residents Recieve Respiratory Syncytial Virus vaccine",
          "More people in Nadi are infected with HIV every year",
          "Tocumen tests new cure for Hepatitis A",
          "Phnom Penh hit by Zika Threat",
          "Zika Troubles come to Harlingen",
          "Zika spreads to Barranquilla",
          "Mad Cow Disease Hits Rotterdam",
          "West Nile Virus Hits Yogyakarta",
          "More Patients in Dublin are Getting Diagnosed with Bronchitis",
          "Rumors about Tuberculosis Spreading in Baud have been Refuted",
          "Rumors about West Nile Virus Spreading in Salem have been Refuted",
          "St. Catharines Patient in Critical Condition after Contracting Dengue",
          "Outbreak of Zika in Pasig City",
          "Zika Troubles come to Kampong Cham",
          "Zika case reported in Rizal",
          "More people in Saint Petersburg are infected with Varicella every year",
          "Halifax is infested with Swine Flu",
          "Zika arrives in Natal",
          "Herpes Keeps Spreading in Rochester",
          "Zika case reported in Phetchabun",
          "West Nile Virus re-emerges in Wellington",
          "Rumors about Pneumonia spreading in Ottawa have been refuted",
          "More Patients in Stuttgart are Getting Diagnosed with Rabies",
          "Schools in Glasgow Closed Due to Hepatitis B Outbreak",
          "Spanish flu spreading in Madrid",
          "Rabies Hits Madrid",
          "How to Avoid Chlamydia in Santiago",
          "Rotavirus Vaccine is now Required in Las Cumbres",
          "Mad Cow Outbreak Spreading in Ennis",
          "Southampton Patient in Critical Condition after Contracting Tuberculosis",
          "Authorities are Worried about the Spread of Chickenpox in Richmond",
          "Chikungunya re-emerges in Kobe",
          "Hepatitis D has Arrived in Grenoble",
          "West Nile Virus Symptoms Spread all over Yerevan",
          "Zika Outbreak in Sincelejo",
          "Rumors about HIV spreading in Montpellier have been refuted",
          "Praia tests new cure for Pneumonia",
          "Zika spreads to Kuching",
          "Tuberculosis re-emerges in Silver Springs",
          "Rumors about Mad Cow Disease Brighton have been Refuted",
          "Zika case reported in Jacobina",
          "More contaminated cattle reported in Bedford",
          "Spike of Norovirus Cases in Huddersfield",
          "Lower Hospitalization in Papeete after Measles Vaccine becomes Mandatory",
          "Zika arrives in Udon Thani",
          "Spike of Dengue Cases in Stockholm",
          "Duisburg up in Arms over Mad Cow Disease",
          "Laventille authorities confirmed the spread of Rhinovirus",
          "Will Herpes vaccine help Newcastle?",
          "How to Avoid Norovirus in Greenville",
          "More Zika patients reported in Calumpang",
          "Zika symptoms spotted in Quisqueya",
          "Zika symptoms spotted in Fortaleza",
          "Rumors about Bronchitis spreading in Bundaberg have been refuted",
          "Hepatitis A re-emerges in Stamford",
          "Will Mad Cow Vaccine Help Bristol?",
          "The Spread of Meningitis in Imperial has been Confirmed",
          "Zika arrives in Orange City",
          "Pilsen Encounters Severe Symptoms of Malaria",
          "Will Hepatitis B vaccine help La Paz?",
          "Zika Outbreak in Puducherry",
          "Will Rabies vaccine help Tangier?",
          "Zika symptoms spotted in Iquitos",
          "Pedro Juan Caballero Encounters Severe Symptoms of Pneumonia",
          "More Zika patients reported in Melbourne",
          "Zika Troubles come to La Libertad",
          "The Spread of Malaria in Brazzaville has been Confirmed",
          "Huzhou Residents Receive Hepatitis B vaccine",
          "Spike of Rabies Cases in Managua",
          "Outbreak of Zika in Santa Elena",
          "Mad Cow Disease Disastrous to Brussels",
          "Zika spreads to Olinda",
          "Authorities are Worried about the Spread of Hepatitis D in Ganja",
          "Dengue Exposure in Kathmandu",
          "Tuberculosis has Arrived in Fairfield",
          "Outbreak of Zika in Kozhikode",
          "Bronchitis Symptoms Spread all over Santa Fe",
          "More Patients in Alexandria are Getting Diagnosed with Mumps",
          "Hepatitis C re-emerges in Damascus",
          "Lower Hospitalization in Pekanbaru after Rotavirus Vaccine becomes Mandatory",
          "Case of Mad Cow Disease Reported in Hilden",
          "Rumors about Rabies Spreading in Khartoum have been Refuted",
          "Harare is infested with Pneumonia",
          "Zika symptoms spotted in Sibu",
          "Zika arrives in Quezon",
          "Spike of Hepatitis B Cases in Greenville",
          "More Zika patients reported in Nuevo Laredo",
          "Bronchitis Keeps Spreading in San Mateo",
          "Authorities are Worried about the Spread of Hepatitis D in North Bay",
          "The Spread of Herpes in Baku has been Confirmed",
          "Will Measles vaccine help Sochi?",
          "Tuberculosis Symptoms Spread all over Caguas",
          "Contaminated Meat Brings Trouble for Bonn Farmers",
          "Authorities are Worried about the Spread of Syphilis in Pyongyang",
          "Durango is infested with Hepatitis B",
          "Mpika authorities confirmed the spread of Chikungunya",
          "Gladstone Encounters Severe Symptoms of Dengue",
          "Mad Cow Disease Hits London",
          "HIV Symptoms Spread all over Hinthada",
          "Zika symptoms spotted in Quito",
          "Sulu, Zamboanga brace for Zika",
          "Spanish Flu Outbreak in Lisbon",
          "Spanish Flu Spreading through Madrid",
          "Barcelona Struck by Spanish Flu",
          "Spanish Flu Outbreak in Lisbon",
          "Spanish Flu Spreading through Madrid",
          "Barcelona Struck by Spanish Flu ",
          "Tuberculosis Hits Luanda",
          "Will West Nile Virus vaccine help Dumai?",
          "The Spread of Malaria in Zanzibar has been Confirmed",
          "Malaria Outbreak Hits Zanzibar's Tourist Industry",
          "Tourist Perishes from Malaria in Arusha",
          "Herpes Symptoms Spread all over New Kingston",
          "More people in Yokohama are infected with Norovirus every year",
          "More people in Kitwe are infected with Respiratory Syncytial Virus every year",
          "Malaria has Arrived in Terrebonne",
          "Chikungunya Keeps Spreading in North Vancouver",
          "Rumors about Hepatitis C spreading in Darien have been refuted",
          "The Spread of West Nile Virus in Fairfield has been Confirmed",
          "Norovirus Keeps Spreading in Copenhagen",
          "Wuhan is infested with Varicella",
          "Spike of Norovirus Cases in Canberra",
          "Zika Troubles come to Greater Noida",
          "Sangre Grande Residents Recieve Gonorrhea vaccine",
          "Outbreak of Zika in Colombo",
          "Will Rotavirus vaccine help Addis Ababa?",
          "Zika Troubles come to Jaen",
          "Hepatitis B Exposure in Edinburgh",
          "Zika case reported in Reynosa",
          "More Zika patients reported in Chennai",
          "Zika arrives in San Onofre",
          "Lung Cancer Rates Increasing in Moscow",
          "More Zika patients reported in Chanthaburi",
          "Zika case reported in Limoeiro",
          "Ibadan tests new cure for Malaria",
          "Pneumonia has not Left Kinshasa",
          "Pneumonia Exposure in San Jose",
          "Authorities are Worried about the Spread of Mad Cow Disease in Edinburgh",
          "More Zika patients reported in Botucatu",
          "Varicella Exposure in Cambridge",
          "Hepatitis A Vaccine is now Required in Fukushima",
          "West Nile Virus has Arrived in Dongguan",
          "Zika arrives in Belmopan",
          "Zika Outbreak in Manaus",
          "Zika spreads to Caucasia",
          "Case of Malaria Reported in Aurora",
          "Manchester Residents Recieve Influenza vaccine",
          "Zika spreads to Kamphaeng Phet",
          "Rotavirus Vaccine is now Required in Labasa",
          "Zika Outbreak in Mexicali",
          "Chlamydia Exposure in Sanaa",
          "More Patients in Kensington are Getting Diagnosed with Varicella",
          "Zika Reported in Ilopango",
          "Hepatitis D Exposure in Aswan",
          "How to Avoid Contaminated Meat when Visiting Basel",
          "More Zika patients reported in Kampong Speu",
          "Mad Cow Disease Detected in Lyon",
          "How to Avoid Chikungunya in Hampton",
          "Case of Norovirus Reported in Stratford",
          "Hepatitis C Outbreak in Bethlehem",
          "Rumors about Swine Flu spreading in Suzhou have been refuted",
          "Case of Swine Flu Reported in Tbilisi",
          "Mad Cow Disease re-emerges in Bedford",
          "Authorities are Worried about the Spread of Hepatitis B in Yiwu",
          "Zika Outbreak in Yurimaguas",
          "Varicella has Arrived in Milton",
          "New medicine wipes out Meningitis in Sevilla",
          "Outbreak of Zika in Portoviejo",
          "Influenza Exposure in Muscat",
          "Rumors about Rabies spreading in Jerusalem have been refuted",
          "More Zika patients reported in Indang",
          "Suva authorities confirmed the spread of Rotavirus",
          "More Zika patients reported in Bella Vista"
         ],
         "lat": [
          -8.05389,
          -14.83333,
          -31.5375,
          14.6042,
          10.69694,
          53.24488,
          42.98339,
          10.82302,
          52.97633,
          48.85341,
          9.89898,
          13.75398,
          39.9075,
          -12.97111,
          3.1412,
          16.80528,
          -31.42797,
          -19.26639,
          14.5832,
          -36.61667,
          13.68935,
          -22.72528,
          -12.04318,
          43.70011,
          -27.46794,
          14.6937,
          23.13302,
          49.24966,
          17.72751,
          3.03667,
          14.64072,
          0.05621,
          22.54554,
          10.48801,
          14.6488,
          -33.86785,
          19.07283,
          18.51957,
          21.0245,
          28.65195,
          17.49952,
          -22.90556,
          13.71024,
          41.89193,
          37.566,
          19.42847,
          51.38764,
          -6.21462,
          -33.59473,
          0.31628,
          -23.38032,
          14.0818,
          -19.92083,
          -37.814,
          25.04776,
          14.62578,
          14.45896,
          14.21167,
          3.10726,
          -26.20227,
          -34.61315,
          23.11667,
          35.6895,
          32.2949,
          17.38405,
          52.48142,
          7.08971,
          41.38879,
          16.0009,
          4.142,
          -8.08965,
          28.63576,
          25.18254,
          25.05823,
          1.4655,
          12.24507,
          -0.24849,
          22.27832,
          -4.1279,
          13.7567,
          -26.20227,
          10.66667,
          11.97444,
          9.05785,
          -32.035,
          -25.29167,
          43.77925,
          45.33341,
          37.98376,
          -19.86528,
          19.18095,
          44.22976,
          -34.90328,
          1.28967,
          4.39928,
          -36.84853,
          48.58392,
          5.15264,
          -23.96083,
          47.64218,
          0.39241,
          49.8844,
          43.3601,
          -24.71361,
          21.42664,
          16.91675,
          10.65245,
          21.97473,
          42.41224,
          40.85216,
          7.07306,
          51.75222,
          42.30008,
          46.516,
          13.35,
          -35.02692,
          6.33732,
          53.57532,
          29.19366,
          6.45407,
          7.37756,
          52.48142,
          52.52437,
          3.3223,
          48.40908,
          25.07725,
          51.05011,
          46.05108,
          35.69439,
          37.98704,
          51.38132,
          48.20849,
          -33.28397,
          -37.81819,
          21.14972,
          25.97205,
          17.06542,
          54.77676,
          24.99368,
          23.7104,
          -35.02692,
          -17.80309,
          9.08939,
          11.56245,
          53.17477,
          10.96854,
          51.9225,
          -7.80139,
          53.33306,
          20.83773,
          11.65376,
          43.17126,
          14.58691,
          11.99339,
          15.7118,
          59.93863,
          44.64533,
          -5.795,
          51.38764,
          16.41904,
          52.7,
          45.41117,
          48.78232,
          55.86515,
          4.73245,
          4.73245,
          -29.19167,
          9.08916,
          52.84361,
          50.90395,
          -37.81819,
          34.6913,
          45.17869,
          40.18111,
          9.30472,
          43.61092,
          14.93152,
          1.55,
          -26.25,
          -37.90561,
          -11.18143,
          52.13459,
          53.64904,
          -17.53733,
          17.41567,
          59.33258,
          51.43247,
          10.64917,
          -32.92953,
          5.01133,
          14.6228,
          18.55542,
          -3.71722,
          -24.86621,
          52.65,
          51.45523,
          -13.05927,
          -33.28397,
          49.74747,
          -30.74179,
          11.93381,
          35.76727,
          -3.74912,
          -22.54722,
          -37.814,
          -2.233,
          -4.26613,
          30.8703,
          12.13282,
          -30.94432,
          50.85045,
          -8.00889,
          40.68278,
          27.70169,
          -33.86667,
          11.24802,
          -31.64881,
          31.20176,
          33.5102,
          0.51667,
          51.16818,
          15.55177,
          -17.82772,
          2.3,
          15.5512,
          5.01133,
          27.47629,
          16.88206,
          46.3168,
          40.37767,
          43.59917,
          18.23412,
          50.73438,
          39.03385,
          43.17124,
          -11.83431,
          -23.84852,
          42.98339,
          17.64944,
          -0.22985,
          6.91028,
          38.71667,
          4.73245,
          41.38879,
          38.71667,
          4.73245,
          41.38879,
          -8.83682,
          1.66711,
          -6.16394,
          -6.16394,
          -3.36667,
          18.00747,
          35.43333,
          -12.80243,
          45.70004,
          49.31636,
          3.93135,
          -33.86667,
          55.67594,
          30.58333,
          -35.28346,
          28.49615,
          10.58705,
          -25.29167,
          9.02497,
          15.3275,
          55.95206,
          26.08061,
          13.08784,
          9.73586,
          55.75222,
          12.60961,
          -7.87472,
          7.37756,
          -4.32758,
          13.35,
          55.95206,
          -22.88583,
          43.3601,
          37.75,
          23.01797,
          17.25,
          -3.10194,
          7.98654,
          44.00011,
          53.48095,
          16.48344,
          -16.4332,
          32.62781,
          15.35472,
          -33.92019,
          13.70167,
          24.09082,
          47.55839,
          11.45332,
          45.74846,
          51.41334,
          43.36679,
          31.70487,
          33.63611,
          41.69411,
          52.13459,
          29.31506,
          -5.90181,
          43.51681,
          4.26425,
          -1.05458,
          23.58413,
          31.76904,
          14.19528,
          -18.14161,
          -27.03424
         ],
         "legendgroup": "",
         "lon": [
          -34.88111,
          -64.9,
          -68.53639,
          120.9822,
          122.56444,
          -3.13231,
          -81.23304,
          106.62965,
          -0.02664,
          2.3488,
          -84.00287,
          100.50144,
          116.39723,
          -38.51083,
          101.68653,
          96.15611,
          -62.08266,
          146.80569,
          121.0409,
          -64.28333,
          -89.18718,
          -47.64917,
          -77.02824,
          -79.4163,
          153.02809,
          -17.44406,
          -82.38304,
          -123.11934,
          -64.74698,
          101.44333,
          -90.51327,
          32.47949,
          114.0683,
          -66.87919,
          121.0509,
          151.20732,
          72.88261,
          73.85535,
          105.84117,
          77.23149,
          -88.19756,
          -47.06083,
          -89.13989,
          12.51133,
          126.9784,
          -99.12766,
          0.50546,
          106.84513,
          -71.60746,
          32.58219,
          150.50595,
          -87.20681,
          -43.93778,
          144.96332,
          121.53185,
          121.12251,
          120.93851,
          121.16528,
          101.60671,
          28.04363,
          -58.37723,
          113.25,
          139.69171,
          -64.78303,
          78.45636,
          -1.89983,
          171.38027,
          2.15899,
          120.4023,
          -73.62664,
          -78.9602,
          77.22445,
          75.83907,
          -77.34306,
          103.7578,
          109.19432,
          35.73194,
          114.17469,
          120.0297,
          121.0584,
          28.04363,
          122.95,
          -86.09417,
          7.49508,
          -52.09861,
          -49.22417,
          11.24626,
          -79.21632,
          23.72784,
          -47.44,
          -96.1429,
          -76.48098,
          -56.18816,
          103.85007,
          113.99163,
          174.76349,
          7.74553,
          -75.03624,
          -46.33361,
          6.85385,
          9.45356,
          -97.14704,
          -80.31269,
          -53.74306,
          39.82563,
          -89.91898,
          -61.38878,
          96.08359,
          -82.18494,
          14.26811,
          125.61278,
          -1.25596,
          -83.01654,
          6.63282,
          123.55,
          117.88369,
          -75.55795,
          10.01534,
          -108.14684,
          3.39467,
          3.90591,
          -1.89983,
          13.41053,
          -76.2348,
          2.70177,
          55.30927,
          -114.08529,
          14.50513,
          51.42151,
          -1.13004,
          1.38617,
          16.37208,
          149.10018,
          145.00176,
          -101.6225,
          -100.45029,
          -96.72365,
          -1.57566,
          121.29696,
          90.40744,
          117.88369,
          177.41617,
          -79.3831,
          104.91601,
          5.42244,
          -74.78132,
          4.47917,
          110.36472,
          -6.24889,
          84.32618,
          78.15538,
          -79.24267,
          121.0614,
          105.4635,
          121.1061,
          30.31413,
          -63.57239,
          -35.20944,
          0.50546,
          101.16056,
          -2.51667,
          -75.69812,
          9.17702,
          -4.25763,
          -74.26419,
          -74.26419,
          -54.86722,
          -79.52809,
          -8.98639,
          -1.40428,
          145.00176,
          135.183,
          5.71479,
          44.51361,
          -75.39778,
          3.87723,
          -23.51254,
          110.33333,
          28.4,
          145.00279,
          -40.51372,
          -0.46632,
          -1.78416,
          -149.5665,
          102.78589,
          18.0649,
          6.76516,
          -61.49889,
          151.7801,
          -9.0388,
          121.0897,
          -69.40814,
          -38.54306,
          152.3479,
          -0.48333,
          -2.59665,
          -76.35269,
          149.10018,
          13.37759,
          -59.64517,
          79.82979,
          -5.79975,
          -73.25383,
          -55.73333,
          144.96332,
          -80.91039,
          15.28318,
          120.0933,
          -86.2504,
          -59.78832,
          4.34878,
          -34.85528,
          46.36056,
          85.3206,
          150.95,
          75.7804,
          -60.70868,
          29.91582,
          36.29128,
          101.44167,
          6.93093,
          32.53241,
          31.05337,
          111.81667,
          120.8147,
          -9.0388,
          -99.51639,
          121.58694,
          -79.46633,
          49.89201,
          39.72569,
          -66.0485,
          7.09549,
          125.75432,
          -2.6338,
          31.45287,
          151.25775,
          -81.23304,
          95.45705,
          -78.52495,
          122.07389,
          -9.13333,
          -74.26419,
          2.15899,
          -9.13333,
          -74.26419,
          2.15899,
          13.23432,
          101.44316,
          39.19793,
          39.19793,
          36.68333,
          -76.78319,
          139.65,
          28.21323,
          -73.64732,
          -123.06934,
          -76.48481,
          150.95,
          12.56553,
          114.26667,
          149.12807,
          77.53601,
          -61.13008,
          -49.22417,
          38.74689,
          120.9192,
          -3.19648,
          -98.28835,
          80.27847,
          -75.52626,
          37.61556,
          102.10447,
          -35.45028,
          3.90591,
          15.31357,
          123.55,
          -3.19648,
          -48.445,
          -80.31269,
          140.46667,
          113.74866,
          -88.76667,
          -60.025,
          -75.19349,
          -79.46632,
          -2.23743,
          99.52153,
          179.36451,
          -115.45446,
          44.20667,
          151.22241,
          -89.10944,
          32.89942,
          7.57327,
          104.52085,
          4.84671,
          -0.36701,
          -80.94972,
          35.20376,
          116.97889,
          44.83368,
          -0.46632,
          120.07676,
          -76.12234,
          -79.88294,
          -75.93085,
          -80.45445,
          58.40778,
          35.21633,
          120.87694,
          178.44149,
          -65.30196
         ],
         "marker": {
          "color": [
           1,
           1,
           1,
           0,
           0,
           2,
           1,
           0,
           2,
           2,
           1,
           0,
           0,
           1,
           0,
           0,
           1,
           0,
           0,
           1,
           1,
           1,
           1,
           1,
           0,
           2,
           1,
           1,
           1,
           0,
           1,
           2,
           0,
           1,
           0,
           0,
           0,
           0,
           0,
           0,
           1,
           1,
           1,
           2,
           0,
           1,
           2,
           0,
           1,
           2,
           0,
           1,
           1,
           0,
           0,
           0,
           0,
           0,
           0,
           2,
           1,
           0,
           0,
           1,
           0,
           2,
           0,
           2,
           0,
           1,
           1,
           0,
           0,
           1,
           0,
           0,
           2,
           0,
           0,
           0,
           2,
           0,
           1,
           2,
           1,
           1,
           2,
           1,
           2,
           1,
           1,
           1,
           1,
           0,
           0,
           0,
           2,
           1,
           1,
           2,
           2,
           1,
           1,
           1,
           2,
           1,
           1,
           0,
           1,
           2,
           0,
           2,
           1,
           2,
           0,
           0,
           1,
           2,
           1,
           2,
           2,
           2,
           2,
           1,
           2,
           2,
           1,
           2,
           2,
           2,
           2,
           2,
           0,
           0,
           1,
           1,
           1,
           2,
           0,
           0,
           0,
           0,
           1,
           0,
           2,
           1,
           2,
           0,
           2,
           0,
           0,
           1,
           0,
           0,
           0,
           2,
           1,
           1,
           2,
           0,
           2,
           1,
           2,
           2,
           1,
           1,
           1,
           1,
           2,
           2,
           0,
           0,
           2,
           2,
           1,
           2,
           2,
           0,
           2,
           0,
           1,
           2,
           2,
           1,
           0,
           2,
           2,
           1,
           0,
           2,
           0,
           1,
           1,
           0,
           2,
           2,
           1,
           0,
           2,
           1,
           0,
           2,
           1,
           1,
           0,
           1,
           2,
           0,
           1,
           1,
           2,
           1,
           2,
           0,
           0,
           0,
           1,
           2,
           2,
           0,
           2,
           2,
           2,
           0,
           0,
           2,
           1,
           0,
           1,
           2,
           2,
           1,
           2,
           0,
           2,
           2,
           0,
           1,
           0,
           1,
           0,
           2,
           1,
           2,
           2,
           1,
           2,
           2,
           0,
           2,
           2,
           2,
           1,
           0,
           2,
           1,
           1,
           1,
           0,
           2,
           0,
           0,
           0,
           1,
           1,
           2,
           0,
           2,
           1,
           0,
           1,
           2,
           0,
           1,
           2,
           2,
           0,
           2,
           1,
           1,
           0,
           0,
           1,
           1,
           1,
           1,
           2,
           0,
           0,
           1,
           2,
           0,
           1,
           2,
           2,
           0,
           2,
           2,
           1,
           2,
           0,
           2,
           2,
           0,
           1,
           1,
           1,
           1,
           2,
           2,
           0,
           0,
           1
          ],
          "coloraxis": "coloraxis",
          "symbol": "circle"
         },
         "mode": "markers",
         "name": "",
         "showlegend": false,
         "type": "scattergeo"
        }
       ],
       "layout": {
        "geo": {
         "center": {},
         "domain": {
          "x": [
           0,
           1
          ],
          "y": [
           0,
           1
          ]
         },
         "projection": {
          "type": "orthographic"
         },
         "showcountries": true
        },
        "legend": {
         "tracegroupgap": 0
        },
        "margin": {
         "t": 60
        },
        "template": {
         "data": {
          "bar": [
           {
            "error_x": {
             "color": "#2a3f5f"
            },
            "error_y": {
             "color": "#2a3f5f"
            },
            "marker": {
             "line": {
              "color": "#E5ECF6",
              "width": 0.5
             },
             "pattern": {
              "fillmode": "overlay",
              "size": 10,
              "solidity": 0.2
             }
            },
            "type": "bar"
           }
          ],
          "barpolar": [
           {
            "marker": {
             "line": {
              "color": "#E5ECF6",
              "width": 0.5
             },
             "pattern": {
              "fillmode": "overlay",
              "size": 10,
              "solidity": 0.2
             }
            },
            "type": "barpolar"
           }
          ],
          "carpet": [
           {
            "aaxis": {
             "endlinecolor": "#2a3f5f",
             "gridcolor": "white",
             "linecolor": "white",
             "minorgridcolor": "white",
             "startlinecolor": "#2a3f5f"
            },
            "baxis": {
             "endlinecolor": "#2a3f5f",
             "gridcolor": "white",
             "linecolor": "white",
             "minorgridcolor": "white",
             "startlinecolor": "#2a3f5f"
            },
            "type": "carpet"
           }
          ],
          "choropleth": [
           {
            "colorbar": {
             "outlinewidth": 0,
             "ticks": ""
            },
            "type": "choropleth"
           }
          ],
          "contour": [
           {
            "colorbar": {
             "outlinewidth": 0,
             "ticks": ""
            },
            "colorscale": [
             [
              0,
              "#0d0887"
             ],
             [
              0.1111111111111111,
              "#46039f"
             ],
             [
              0.2222222222222222,
              "#7201a8"
             ],
             [
              0.3333333333333333,
              "#9c179e"
             ],
             [
              0.4444444444444444,
              "#bd3786"
             ],
             [
              0.5555555555555556,
              "#d8576b"
             ],
             [
              0.6666666666666666,
              "#ed7953"
             ],
             [
              0.7777777777777778,
              "#fb9f3a"
             ],
             [
              0.8888888888888888,
              "#fdca26"
             ],
             [
              1,
              "#f0f921"
             ]
            ],
            "type": "contour"
           }
          ],
          "contourcarpet": [
           {
            "colorbar": {
             "outlinewidth": 0,
             "ticks": ""
            },
            "type": "contourcarpet"
           }
          ],
          "heatmap": [
           {
            "colorbar": {
             "outlinewidth": 0,
             "ticks": ""
            },
            "colorscale": [
             [
              0,
              "#0d0887"
             ],
             [
              0.1111111111111111,
              "#46039f"
             ],
             [
              0.2222222222222222,
              "#7201a8"
             ],
             [
              0.3333333333333333,
              "#9c179e"
             ],
             [
              0.4444444444444444,
              "#bd3786"
             ],
             [
              0.5555555555555556,
              "#d8576b"
             ],
             [
              0.6666666666666666,
              "#ed7953"
             ],
             [
              0.7777777777777778,
              "#fb9f3a"
             ],
             [
              0.8888888888888888,
              "#fdca26"
             ],
             [
              1,
              "#f0f921"
             ]
            ],
            "type": "heatmap"
           }
          ],
          "heatmapgl": [
           {
            "colorbar": {
             "outlinewidth": 0,
             "ticks": ""
            },
            "colorscale": [
             [
              0,
              "#0d0887"
             ],
             [
              0.1111111111111111,
              "#46039f"
             ],
             [
              0.2222222222222222,
              "#7201a8"
             ],
             [
              0.3333333333333333,
              "#9c179e"
             ],
             [
              0.4444444444444444,
              "#bd3786"
             ],
             [
              0.5555555555555556,
              "#d8576b"
             ],
             [
              0.6666666666666666,
              "#ed7953"
             ],
             [
              0.7777777777777778,
              "#fb9f3a"
             ],
             [
              0.8888888888888888,
              "#fdca26"
             ],
             [
              1,
              "#f0f921"
             ]
            ],
            "type": "heatmapgl"
           }
          ],
          "histogram": [
           {
            "marker": {
             "pattern": {
              "fillmode": "overlay",
              "size": 10,
              "solidity": 0.2
             }
            },
            "type": "histogram"
           }
          ],
          "histogram2d": [
           {
            "colorbar": {
             "outlinewidth": 0,
             "ticks": ""
            },
            "colorscale": [
             [
              0,
              "#0d0887"
             ],
             [
              0.1111111111111111,
              "#46039f"
             ],
             [
              0.2222222222222222,
              "#7201a8"
             ],
             [
              0.3333333333333333,
              "#9c179e"
             ],
             [
              0.4444444444444444,
              "#bd3786"
             ],
             [
              0.5555555555555556,
              "#d8576b"
             ],
             [
              0.6666666666666666,
              "#ed7953"
             ],
             [
              0.7777777777777778,
              "#fb9f3a"
             ],
             [
              0.8888888888888888,
              "#fdca26"
             ],
             [
              1,
              "#f0f921"
             ]
            ],
            "type": "histogram2d"
           }
          ],
          "histogram2dcontour": [
           {
            "colorbar": {
             "outlinewidth": 0,
             "ticks": ""
            },
            "colorscale": [
             [
              0,
              "#0d0887"
             ],
             [
              0.1111111111111111,
              "#46039f"
             ],
             [
              0.2222222222222222,
              "#7201a8"
             ],
             [
              0.3333333333333333,
              "#9c179e"
             ],
             [
              0.4444444444444444,
              "#bd3786"
             ],
             [
              0.5555555555555556,
              "#d8576b"
             ],
             [
              0.6666666666666666,
              "#ed7953"
             ],
             [
              0.7777777777777778,
              "#fb9f3a"
             ],
             [
              0.8888888888888888,
              "#fdca26"
             ],
             [
              1,
              "#f0f921"
             ]
            ],
            "type": "histogram2dcontour"
           }
          ],
          "mesh3d": [
           {
            "colorbar": {
             "outlinewidth": 0,
             "ticks": ""
            },
            "type": "mesh3d"
           }
          ],
          "parcoords": [
           {
            "line": {
             "colorbar": {
              "outlinewidth": 0,
              "ticks": ""
             }
            },
            "type": "parcoords"
           }
          ],
          "pie": [
           {
            "automargin": true,
            "type": "pie"
           }
          ],
          "scatter": [
           {
            "fillpattern": {
             "fillmode": "overlay",
             "size": 10,
             "solidity": 0.2
            },
            "type": "scatter"
           }
          ],
          "scatter3d": [
           {
            "line": {
             "colorbar": {
              "outlinewidth": 0,
              "ticks": ""
             }
            },
            "marker": {
             "colorbar": {
              "outlinewidth": 0,
              "ticks": ""
             }
            },
            "type": "scatter3d"
           }
          ],
          "scattercarpet": [
           {
            "marker": {
             "colorbar": {
              "outlinewidth": 0,
              "ticks": ""
             }
            },
            "type": "scattercarpet"
           }
          ],
          "scattergeo": [
           {
            "marker": {
             "colorbar": {
              "outlinewidth": 0,
              "ticks": ""
             }
            },
            "type": "scattergeo"
           }
          ],
          "scattergl": [
           {
            "marker": {
             "colorbar": {
              "outlinewidth": 0,
              "ticks": ""
             }
            },
            "type": "scattergl"
           }
          ],
          "scattermapbox": [
           {
            "marker": {
             "colorbar": {
              "outlinewidth": 0,
              "ticks": ""
             }
            },
            "type": "scattermapbox"
           }
          ],
          "scatterpolar": [
           {
            "marker": {
             "colorbar": {
              "outlinewidth": 0,
              "ticks": ""
             }
            },
            "type": "scatterpolar"
           }
          ],
          "scatterpolargl": [
           {
            "marker": {
             "colorbar": {
              "outlinewidth": 0,
              "ticks": ""
             }
            },
            "type": "scatterpolargl"
           }
          ],
          "scatterternary": [
           {
            "marker": {
             "colorbar": {
              "outlinewidth": 0,
              "ticks": ""
             }
            },
            "type": "scatterternary"
           }
          ],
          "surface": [
           {
            "colorbar": {
             "outlinewidth": 0,
             "ticks": ""
            },
            "colorscale": [
             [
              0,
              "#0d0887"
             ],
             [
              0.1111111111111111,
              "#46039f"
             ],
             [
              0.2222222222222222,
              "#7201a8"
             ],
             [
              0.3333333333333333,
              "#9c179e"
             ],
             [
              0.4444444444444444,
              "#bd3786"
             ],
             [
              0.5555555555555556,
              "#d8576b"
             ],
             [
              0.6666666666666666,
              "#ed7953"
             ],
             [
              0.7777777777777778,
              "#fb9f3a"
             ],
             [
              0.8888888888888888,
              "#fdca26"
             ],
             [
              1,
              "#f0f921"
             ]
            ],
            "type": "surface"
           }
          ],
          "table": [
           {
            "cells": {
             "fill": {
              "color": "#EBF0F8"
             },
             "line": {
              "color": "white"
             }
            },
            "header": {
             "fill": {
              "color": "#C8D4E3"
             },
             "line": {
              "color": "white"
             }
            },
            "type": "table"
           }
          ]
         },
         "layout": {
          "annotationdefaults": {
           "arrowcolor": "#2a3f5f",
           "arrowhead": 0,
           "arrowwidth": 1
          },
          "autotypenumbers": "strict",
          "coloraxis": {
           "colorbar": {
            "outlinewidth": 0,
            "ticks": ""
           }
          },
          "colorscale": {
           "diverging": [
            [
             0,
             "#8e0152"
            ],
            [
             0.1,
             "#c51b7d"
            ],
            [
             0.2,
             "#de77ae"
            ],
            [
             0.3,
             "#f1b6da"
            ],
            [
             0.4,
             "#fde0ef"
            ],
            [
             0.5,
             "#f7f7f7"
            ],
            [
             0.6,
             "#e6f5d0"
            ],
            [
             0.7,
             "#b8e186"
            ],
            [
             0.8,
             "#7fbc41"
            ],
            [
             0.9,
             "#4d9221"
            ],
            [
             1,
             "#276419"
            ]
           ],
           "sequential": [
            [
             0,
             "#0d0887"
            ],
            [
             0.1111111111111111,
             "#46039f"
            ],
            [
             0.2222222222222222,
             "#7201a8"
            ],
            [
             0.3333333333333333,
             "#9c179e"
            ],
            [
             0.4444444444444444,
             "#bd3786"
            ],
            [
             0.5555555555555556,
             "#d8576b"
            ],
            [
             0.6666666666666666,
             "#ed7953"
            ],
            [
             0.7777777777777778,
             "#fb9f3a"
            ],
            [
             0.8888888888888888,
             "#fdca26"
            ],
            [
             1,
             "#f0f921"
            ]
           ],
           "sequentialminus": [
            [
             0,
             "#0d0887"
            ],
            [
             0.1111111111111111,
             "#46039f"
            ],
            [
             0.2222222222222222,
             "#7201a8"
            ],
            [
             0.3333333333333333,
             "#9c179e"
            ],
            [
             0.4444444444444444,
             "#bd3786"
            ],
            [
             0.5555555555555556,
             "#d8576b"
            ],
            [
             0.6666666666666666,
             "#ed7953"
            ],
            [
             0.7777777777777778,
             "#fb9f3a"
            ],
            [
             0.8888888888888888,
             "#fdca26"
            ],
            [
             1,
             "#f0f921"
            ]
           ]
          },
          "colorway": [
           "#636efa",
           "#EF553B",
           "#00cc96",
           "#ab63fa",
           "#FFA15A",
           "#19d3f3",
           "#FF6692",
           "#B6E880",
           "#FF97FF",
           "#FECB52"
          ],
          "font": {
           "color": "#2a3f5f"
          },
          "geo": {
           "bgcolor": "white",
           "lakecolor": "white",
           "landcolor": "#E5ECF6",
           "showlakes": true,
           "showland": true,
           "subunitcolor": "white"
          },
          "hoverlabel": {
           "align": "left"
          },
          "hovermode": "closest",
          "mapbox": {
           "style": "light"
          },
          "paper_bgcolor": "white",
          "plot_bgcolor": "#E5ECF6",
          "polar": {
           "angularaxis": {
            "gridcolor": "white",
            "linecolor": "white",
            "ticks": ""
           },
           "bgcolor": "#E5ECF6",
           "radialaxis": {
            "gridcolor": "white",
            "linecolor": "white",
            "ticks": ""
           }
          },
          "scene": {
           "xaxis": {
            "backgroundcolor": "#E5ECF6",
            "gridcolor": "white",
            "gridwidth": 2,
            "linecolor": "white",
            "showbackground": true,
            "ticks": "",
            "zerolinecolor": "white"
           },
           "yaxis": {
            "backgroundcolor": "#E5ECF6",
            "gridcolor": "white",
            "gridwidth": 2,
            "linecolor": "white",
            "showbackground": true,
            "ticks": "",
            "zerolinecolor": "white"
           },
           "zaxis": {
            "backgroundcolor": "#E5ECF6",
            "gridcolor": "white",
            "gridwidth": 2,
            "linecolor": "white",
            "showbackground": true,
            "ticks": "",
            "zerolinecolor": "white"
           }
          },
          "shapedefaults": {
           "line": {
            "color": "#2a3f5f"
           }
          },
          "ternary": {
           "aaxis": {
            "gridcolor": "white",
            "linecolor": "white",
            "ticks": ""
           },
           "baxis": {
            "gridcolor": "white",
            "linecolor": "white",
            "ticks": ""
           },
           "bgcolor": "#E5ECF6",
           "caxis": {
            "gridcolor": "white",
            "linecolor": "white",
            "ticks": ""
           }
          },
          "title": {
           "x": 0.05
          },
          "xaxis": {
           "automargin": true,
           "gridcolor": "white",
           "linecolor": "white",
           "ticks": "",
           "title": {
            "standoff": 15
           },
           "zerolinecolor": "white",
           "zerolinewidth": 2
          },
          "yaxis": {
           "automargin": true,
           "gridcolor": "white",
           "linecolor": "white",
           "ticks": "",
           "title": {
            "standoff": 15
           },
           "zerolinecolor": "white",
           "zerolinewidth": 2
          }
         }
        }
       }
      },
      "text/html": [
       "<div>                            <div id=\"6645b7f6-a132-4c3f-833b-456e3326c4a3\" class=\"plotly-graph-div\" style=\"height:525px; width:100%;\"></div>            <script type=\"text/javascript\">                require([\"plotly\"], function(Plotly) {                    window.PLOTLYENV=window.PLOTLYENV || {};                                    if (document.getElementById(\"6645b7f6-a132-4c3f-833b-456e3326c4a3\")) {                    Plotly.newPlot(                        \"6645b7f6-a132-4c3f-833b-456e3326c4a3\",                        [{\"geo\":\"geo\",\"hovertemplate\":\"\\u003cextra\\u003e\\u003c\\u002fextra\\u003e\",\"legendgroup\":\"\",\"marker\":{\"color\":\"#636efa\",\"symbol\":\"circle\"},\"mode\":\"markers\",\"name\":\"\",\"showlegend\":false,\"type\":\"scattergeo\"},{\"geo\":\"geo\",\"hovertemplate\":\"\\u003cb\\u003e%{hovertext}\\u003c\\u002fb\\u003e\\u003cbr\\u003e\\u003cbr\\u003elatitude=%{lat}\\u003cbr\\u003elongitude=%{lon}\\u003cextra\\u003e\\u003c\\u002fextra\\u003e\",\"hovertext\":[\"Cluster Center\",\"Cluster Center\",\"Cluster Center\"],\"lat\":[5.610165192307692,7.997885925925926,33.475787029702964],\"legendgroup\":\"\",\"lon\":[118.98696721153846,-74.21373361111111,13.592945445544554],\"marker\":{\"color\":\"#636efa\",\"symbol\":\"diamond\",\"size\":12},\"mode\":\"markers\",\"name\":\"\",\"showlegend\":false,\"type\":\"scattergeo\"},{\"geo\":\"geo\",\"hovertemplate\":\"\\u003cb\\u003e%{hovertext}\\u003c\\u002fb\\u003e\\u003cbr\\u003e\\u003cbr\\u003elatitude=%{lat}\\u003cbr\\u003elongitude=%{lon}\\u003cbr\\u003ecluster_kmeans=%{marker.color}\\u003cextra\\u003e\\u003c\\u002fextra\\u003e\",\"hovertext\":[\"Mystery Virus Spreads in Recife, Brazil\",\"Trinidad confirms first Zika case\",\"San Juan reports 1st U.S. Zika-related death amid outbreak\",\"Zika alert aEUR\\\" Manila now threatened\",\"Zika afflicts 7 in Iloilo City\",\"Bad Water Leads to Sickness in Flint, Michigan\",\"London Health Unit Tracks Mad Cow Disease\",\"Zika cases in Vietnam's Ho Chi Minh City surge\",\"Flu season hits Boston\",\"Scientists in Paris to look for answers\",\"Key Zika Findings in San Diego Institute\",\"Thailand-Zika Virus in Bangkok\",\"Beijing team cracks Zika secret\",\"Zika spreading to Salvador\",\"Kuala Lumpur is Hit By Zika Threat\",\"First Zika case confirmed in Yangon\",\"Zika Virus Reaches San Francisco\",\"Townsville Zika tests inconclusive\",\"Mandaluyong City under Siege by Virus\",\"Hepatitis E re-emerges in Santa Rosa\",\"Zika worries in San Salvador\",\"Zika outbreak in Piracicaba, Brazil\",\"Lima tries to address Zika Concerns\",\"More people in Toronto are infected with Hepatitis E every year\",\"Brisbane is infested with Meningitis\",\"Cholera outbreak in Dakar\",\"Zika Virus Transmission Detected in Havana\",\"Case of Measles Reported in Vancouver\",\"Saint Croix under Zika threat\",\"Zika surfaces in Klang, Malaysia\",\"Rumors about Meningitis spreading in Guatemala City have been refuted\",\"Lower Hospitalization in Entebbe after Rabies Vaccine becomes Mandatory\",\"Schools in Shenzhen Closed Due to Malaria Outbreak\",\"Caracas patient dies\",\"More Quezon City Zika Transmissions\",\"Schools in Sydney Closed Due to Respiratory Syncytial Virus Outbreak\",\"Mumbai's Health Minister warns of more Zika cases\",\"Pune woman diagnosed with Zika\",\"Hospitals in Hanoi fill up with Zika patients\",\"Zika: Delhi for strict monitoring\",\"Belize City under threat from Zika\",\"Student sick in Campinas, Brazil\",\"More Zika cases in Soyapango\",\"Authorities are Worried about the Spread of Mad Cow Disease in Rome\",\"Seoul confirms 14th Zika infection\",\"Zika outbreak spreads to Mexico City\",\"Rochester authorities confirmed the spread of Dengue\",\"Zika now spreading through Jakarta\",\"Zika San Antonio Patient Speaks Out\",\"Ebola outbreak in Kampala\",\"Precautionary Zika measures in Rockhampton\",\"Zika arrives in Tegucigalpa\",\"New Zika Case Confirmed in Belo Horizonte\",\"Case of Hepatitis E Reported in Melbourne\",\"New medicine wipes out Tuberculosis in Taipei\",\"Antipolo under threat from Zika Virus\",\"Spreading Zika reaches Bacoor\",\"Zika afflicts patient in Calamba\",\"Petaling Jaya man ill from Zika\",\"Malaria is Spreading in Johannesburg\",\"Authorities are Worried about the Spread of Norovirus in Buenos Aires\",\"Guangzhou Patient in Critical Condition after Contracting Swine Flu\",\"Tokyo Encounters Severe Symptoms of Meningitis\",\"Rabies Exposure in Hamilton\",\"Zika Outbreak in Hyderabad\",\"Birmingham Residents Recieve Rabies vaccine\",\"Is Zika virus in Majuro?\",\"Spanish Flu Outbreak in Barcelona\",\"Santa Barbara tests new cure for Hepatitis C\",\"Villavicencio under Zika threat\",\"Two more Zika cases confirmed in Laredo\",\"New Delhi Addressing Zika Concerns\",\"New Zika Case in Kota Kinabalu, Malaysia\",\"Meningitis re-emerges in Nassau\",\"Zika reaches Johor Bahru, Malaysia\",\"Nha Trang Zika Outbreak\",\"Molo Cholera Spread Causing Concern\",\"Norovirus Exposure in Hong Kong\",\"19 new Zika Cases in Sengkang\",\"Batangas Tourism Takes a Hit as Virus Spreads\",\"Johannesburg Patient in Critical Condition after Contracting Pneumonia\",\"Outbreak of Zika in Bacolod City\",\"Respiratory Syncytial Virus Keeps Spreading in Masaya\",\"Authorities are Worried about the Spread of Tuberculosis in Abuja\",\"Zika alert for Rio Grande Valley residents\",\"Zika symptoms spotted in Colombo\",\"Hepatitis B has not Left Florence\",\"Rumors about Rotavirus spreading in Huntsville have been refuted\",\"Rhinovirus has Arrived in Athens\",\"Influenza has not Left Sacramento\",\"Veracruz hit by Zika Concerns\",\"Authorities are Worried about the Spread of Dengue in Kingston\",\"Montevideo Encounters Severe Symptoms of Rotavirus\",\"Zika cases in Singapore reach 393\",\"Zika arrives in Miri\",\"Lower Hospitalization in Auckland after Hepatitis D Vaccine becomes Mandatory\",\"Will MCD vaccine help Strasbourg?\",\"New medicine wipes out Measles in Fresno\",\"Zika arrives in Santos\",\"Sick Livestock Leads to Serious Trouble for Belfort\",\"Hepatitis E has not Left Libreville\",\"Norovirus has Arrived in Winnipeg\",\"More Patients in Cambridge are Getting Diagnosed with Chickenpox\",\"Chikungunya Exposure in Toledo\",\"Mecca tests new cure for Chikungunya\",\"Zika arrives in San Benito\",\"Zika case recorded in Tunapuna A\\u003e\\u003e\",\"Spike of Respiratory Syncytial Virus Cases in Mandalay\",\"Mad Cow Disease Re-emerges in Chatham\",\"Mad Cow Disease Hits Naples\",\"More Zika patients reported in Davao\",\"Oxford tests new cure for HIV\",\"Tests negative on Windsor Zika carriers\",\"Lausanne Residents Recieve Meningitis vaccine\",\"Rhinovirus Comes to San Jose\",\"Rumors about Hepatitis D spreading in Albany have been refuted\",\"Zika symptoms spotted in Bello\",\"Will Meningitis vaccine help Hamburg?\",\"Madera Patient in Critical Condition after Contracting Rabies\",\"Varicella re-emerges in Lagos\",\"Vericella spreading in Ibadan\",\"Schools in Birmingham Closed Due to Measles Outbreak\",\"Spike of Chlamydia Cases in Berlin\",\"Zika Mosquitoes May Have Bred in Bromeliads, Florida Officials Say\",\"More Livestock in Fontainebleau are infected with Mad Cow Disease\",\"Authorities are Worried about the Spread of Norovirus in Dubai\",\"Case of Hepatitis A Reported in Calgary\",\"Will Swine Flu vaccine help Ljubljana?\",\"Bronchitis re-emerges in Tehran\",\"Mad Cow case in Murcia\",\"Mad Cow Disease Spreads to Margate\",\"Will the Mad Cow Outbreak Reach Vienna?\",\"More Patients in Orange are Getting Diagnosed with Chickenpox\",\"Lower Hospitalization in Richmond after Mumps Vaccine becomes Mandatory\",\"Meningitis re-emerges in Medina\",\"Four cases of Zika in Hidalgo County\",\"Zika arrives in Oaxaca\",\"More people in Durham are infected with Chlamydia every year\",\"Authorities are Worried about the Spread of Gonorrhea in Taoyuan City\",\"Lower Hospitalization in Dhaka after Measles Vaccine becomes Mandatory\",\"Albany Residents Recieve Respiratory Syncytial Virus vaccine\",\"More people in Nadi are infected with HIV every year\",\"Tocumen tests new cure for Hepatitis A\",\"Phnom Penh hit by Zika Threat\",\"Zika Troubles come to Harlingen\",\"Zika spreads to Barranquilla\",\"Mad Cow Disease Hits Rotterdam\",\"West Nile Virus Hits Yogyakarta\",\"More Patients in Dublin are Getting Diagnosed with Bronchitis\",\"Rumors about Tuberculosis Spreading in Baud have been Refuted\",\"Rumors about West Nile Virus Spreading in Salem have been Refuted\",\"St. Catharines Patient in Critical Condition after Contracting Dengue\",\"Outbreak of Zika in Pasig City\",\"Zika Troubles come to Kampong Cham\",\"Zika case reported in Rizal\",\"More people in Saint Petersburg are infected with Varicella every year\",\"Halifax is infested with Swine Flu\",\"Zika arrives in Natal\",\"Herpes Keeps Spreading in Rochester\",\"Zika case reported in Phetchabun\",\"West Nile Virus re-emerges in Wellington\",\"Rumors about Pneumonia spreading in Ottawa have been refuted\",\"More Patients in Stuttgart are Getting Diagnosed with Rabies\",\"Schools in Glasgow Closed Due to Hepatitis B Outbreak\",\"Spanish flu spreading in Madrid\",\"Rabies Hits Madrid\",\"How to Avoid Chlamydia in Santiago\",\"Rotavirus Vaccine is now Required in Las Cumbres\",\"Mad Cow Outbreak Spreading in Ennis\",\"Southampton Patient in Critical Condition after Contracting Tuberculosis\",\"Authorities are Worried about the Spread of Chickenpox in Richmond\",\"Chikungunya re-emerges in Kobe\",\"Hepatitis D has Arrived in Grenoble\",\"West Nile Virus Symptoms Spread all over Yerevan\",\"Zika Outbreak in Sincelejo\",\"Rumors about HIV spreading in Montpellier have been refuted\",\"Praia tests new cure for Pneumonia\",\"Zika spreads to Kuching\",\"Tuberculosis re-emerges in Silver Springs\",\"Rumors about Mad Cow Disease Brighton have been Refuted\",\"Zika case reported in Jacobina\",\"More contaminated cattle reported in Bedford\",\"Spike of Norovirus Cases in Huddersfield\",\"Lower Hospitalization in Papeete after Measles Vaccine becomes Mandatory\",\"Zika arrives in Udon Thani\",\"Spike of Dengue Cases in Stockholm\",\"Duisburg up in Arms over Mad Cow Disease\",\"Laventille authorities confirmed the spread of Rhinovirus\",\"Will Herpes vaccine help Newcastle?\",\"How to Avoid Norovirus in Greenville\",\"More Zika patients reported in Calumpang\",\"Zika symptoms spotted in Quisqueya\",\"Zika symptoms spotted in Fortaleza\",\"Rumors about Bronchitis spreading in Bundaberg have been refuted\",\"Hepatitis A re-emerges in Stamford\",\"Will Mad Cow Vaccine Help Bristol?\",\"The Spread of Meningitis in Imperial has been Confirmed\",\"Zika arrives in Orange City\",\"Pilsen Encounters Severe Symptoms of Malaria\",\"Will Hepatitis B vaccine help La Paz?\",\"Zika Outbreak in Puducherry\",\"Will Rabies vaccine help Tangier?\",\"Zika symptoms spotted in Iquitos\",\"Pedro Juan Caballero Encounters Severe Symptoms of Pneumonia\",\"More Zika patients reported in Melbourne\",\"Zika Troubles come to La Libertad\",\"The Spread of Malaria in Brazzaville has been Confirmed\",\"Huzhou Residents Receive Hepatitis B vaccine\",\"Spike of Rabies Cases in Managua\",\"Outbreak of Zika in Santa Elena\",\"Mad Cow Disease Disastrous to Brussels\",\"Zika spreads to Olinda\",\"Authorities are Worried about the Spread of Hepatitis D in Ganja\",\"Dengue Exposure in Kathmandu\",\"Tuberculosis has Arrived in Fairfield\",\"Outbreak of Zika in Kozhikode\",\"Bronchitis Symptoms Spread all over Santa Fe\",\"More Patients in Alexandria are Getting Diagnosed with Mumps\",\"Hepatitis C re-emerges in Damascus\",\"Lower Hospitalization in Pekanbaru after Rotavirus Vaccine becomes Mandatory\",\"Case of Mad Cow Disease Reported in Hilden\",\"Rumors about Rabies Spreading in Khartoum have been Refuted\",\"Harare is infested with Pneumonia\",\"Zika symptoms spotted in Sibu\",\"Zika arrives in Quezon\",\"Spike of Hepatitis B Cases in Greenville\",\"More Zika patients reported in Nuevo Laredo\",\"Bronchitis Keeps Spreading in San Mateo\",\"Authorities are Worried about the Spread of Hepatitis D in North Bay\",\"The Spread of Herpes in Baku has been Confirmed\",\"Will Measles vaccine help Sochi?\",\"Tuberculosis Symptoms Spread all over Caguas\",\"Contaminated Meat Brings Trouble for Bonn Farmers\",\"Authorities are Worried about the Spread of Syphilis in Pyongyang\",\"Durango is infested with Hepatitis B\",\"Mpika authorities confirmed the spread of Chikungunya\",\"Gladstone Encounters Severe Symptoms of Dengue\",\"Mad Cow Disease Hits London\",\"HIV Symptoms Spread all over Hinthada\",\"Zika symptoms spotted in Quito\",\"Sulu, Zamboanga brace for Zika\",\"Spanish Flu Outbreak in Lisbon\",\"Spanish Flu Spreading through Madrid\",\"Barcelona Struck by Spanish Flu\",\"Spanish Flu Outbreak in Lisbon\",\"Spanish Flu Spreading through Madrid\",\"Barcelona Struck by Spanish Flu \",\"Tuberculosis Hits Luanda\",\"Will West Nile Virus vaccine help Dumai?\",\"The Spread of Malaria in Zanzibar has been Confirmed\",\"Malaria Outbreak Hits Zanzibar's Tourist Industry\",\"Tourist Perishes from Malaria in Arusha\",\"Herpes Symptoms Spread all over New Kingston\",\"More people in Yokohama are infected with Norovirus every year\",\"More people in Kitwe are infected with Respiratory Syncytial Virus every year\",\"Malaria has Arrived in Terrebonne\",\"Chikungunya Keeps Spreading in North Vancouver\",\"Rumors about Hepatitis C spreading in Darien have been refuted\",\"The Spread of West Nile Virus in Fairfield has been Confirmed\",\"Norovirus Keeps Spreading in Copenhagen\",\"Wuhan is infested with Varicella\",\"Spike of Norovirus Cases in Canberra\",\"Zika Troubles come to Greater Noida\",\"Sangre Grande Residents Recieve Gonorrhea vaccine\",\"Outbreak of Zika in Colombo\",\"Will Rotavirus vaccine help Addis Ababa?\",\"Zika Troubles come to Jaen\",\"Hepatitis B Exposure in Edinburgh\",\"Zika case reported in Reynosa\",\"More Zika patients reported in Chennai\",\"Zika arrives in San Onofre\",\"Lung Cancer Rates Increasing in Moscow\",\"More Zika patients reported in Chanthaburi\",\"Zika case reported in Limoeiro\",\"Ibadan tests new cure for Malaria\",\"Pneumonia has not Left Kinshasa\",\"Pneumonia Exposure in San Jose\",\"Authorities are Worried about the Spread of Mad Cow Disease in Edinburgh\",\"More Zika patients reported in Botucatu\",\"Varicella Exposure in Cambridge\",\"Hepatitis A Vaccine is now Required in Fukushima\",\"West Nile Virus has Arrived in Dongguan\",\"Zika arrives in Belmopan\",\"Zika Outbreak in Manaus\",\"Zika spreads to Caucasia\",\"Case of Malaria Reported in Aurora\",\"Manchester Residents Recieve Influenza vaccine\",\"Zika spreads to Kamphaeng Phet\",\"Rotavirus Vaccine is now Required in Labasa\",\"Zika Outbreak in Mexicali\",\"Chlamydia Exposure in Sanaa\",\"More Patients in Kensington are Getting Diagnosed with Varicella\",\"Zika Reported in Ilopango\",\"Hepatitis D Exposure in Aswan\",\"How to Avoid Contaminated Meat when Visiting Basel\",\"More Zika patients reported in Kampong Speu\",\"Mad Cow Disease Detected in Lyon\",\"How to Avoid Chikungunya in Hampton\",\"Case of Norovirus Reported in Stratford\",\"Hepatitis C Outbreak in Bethlehem\",\"Rumors about Swine Flu spreading in Suzhou have been refuted\",\"Case of Swine Flu Reported in Tbilisi\",\"Mad Cow Disease re-emerges in Bedford\",\"Authorities are Worried about the Spread of Hepatitis B in Yiwu\",\"Zika Outbreak in Yurimaguas\",\"Varicella has Arrived in Milton\",\"New medicine wipes out Meningitis in Sevilla\",\"Outbreak of Zika in Portoviejo\",\"Influenza Exposure in Muscat\",\"Rumors about Rabies spreading in Jerusalem have been refuted\",\"More Zika patients reported in Indang\",\"Suva authorities confirmed the spread of Rotavirus\",\"More Zika patients reported in Bella Vista\"],\"lat\":[-8.05389,-14.83333,-31.5375,14.6042,10.69694,53.24488,42.98339,10.82302,52.97633,48.85341,9.89898,13.75398,39.9075,-12.97111,3.1412,16.80528,-31.42797,-19.26639,14.5832,-36.61667,13.68935,-22.72528,-12.04318,43.70011,-27.46794,14.6937,23.13302,49.24966,17.72751,3.03667,14.64072,0.05621,22.54554,10.48801,14.6488,-33.86785,19.07283,18.51957,21.0245,28.65195,17.49952,-22.90556,13.71024,41.89193,37.566,19.42847,51.38764,-6.21462,-33.59473,0.31628,-23.38032,14.0818,-19.92083,-37.814,25.04776,14.62578,14.45896,14.21167,3.10726,-26.20227,-34.61315,23.11667,35.6895,32.2949,17.38405,52.48142,7.08971,41.38879,16.0009,4.142,-8.08965,28.63576,25.18254,25.05823,1.4655,12.24507,-0.24849,22.27832,-4.1279,13.7567,-26.20227,10.66667,11.97444,9.05785,-32.035,-25.29167,43.77925,45.33341,37.98376,-19.86528,19.18095,44.22976,-34.90328,1.28967,4.39928,-36.84853,48.58392,5.15264,-23.96083,47.64218,0.39241,49.8844,43.3601,-24.71361,21.42664,16.91675,10.65245,21.97473,42.41224,40.85216,7.07306,51.75222,42.30008,46.516,13.35,-35.02692,6.33732,53.57532,29.19366,6.45407,7.37756,52.48142,52.52437,3.3223,48.40908,25.07725,51.05011,46.05108,35.69439,37.98704,51.38132,48.20849,-33.28397,-37.81819,21.14972,25.97205,17.06542,54.77676,24.99368,23.7104,-35.02692,-17.80309,9.08939,11.56245,53.17477,10.96854,51.9225,-7.80139,53.33306,20.83773,11.65376,43.17126,14.58691,11.99339,15.7118,59.93863,44.64533,-5.795,51.38764,16.41904,52.7,45.41117,48.78232,55.86515,4.73245,4.73245,-29.19167,9.08916,52.84361,50.90395,-37.81819,34.6913,45.17869,40.18111,9.30472,43.61092,14.93152,1.55,-26.25,-37.90561,-11.18143,52.13459,53.64904,-17.53733,17.41567,59.33258,51.43247,10.64917,-32.92953,5.01133,14.6228,18.55542,-3.71722,-24.86621,52.65,51.45523,-13.05927,-33.28397,49.74747,-30.74179,11.93381,35.76727,-3.74912,-22.54722,-37.814,-2.233,-4.26613,30.8703,12.13282,-30.94432,50.85045,-8.00889,40.68278,27.70169,-33.86667,11.24802,-31.64881,31.20176,33.5102,0.51667,51.16818,15.55177,-17.82772,2.3,15.5512,5.01133,27.47629,16.88206,46.3168,40.37767,43.59917,18.23412,50.73438,39.03385,43.17124,-11.83431,-23.84852,42.98339,17.64944,-0.22985,6.91028,38.71667,4.73245,41.38879,38.71667,4.73245,41.38879,-8.83682,1.66711,-6.16394,-6.16394,-3.36667,18.00747,35.43333,-12.80243,45.70004,49.31636,3.93135,-33.86667,55.67594,30.58333,-35.28346,28.49615,10.58705,-25.29167,9.02497,15.3275,55.95206,26.08061,13.08784,9.73586,55.75222,12.60961,-7.87472,7.37756,-4.32758,13.35,55.95206,-22.88583,43.3601,37.75,23.01797,17.25,-3.10194,7.98654,44.00011,53.48095,16.48344,-16.4332,32.62781,15.35472,-33.92019,13.70167,24.09082,47.55839,11.45332,45.74846,51.41334,43.36679,31.70487,33.63611,41.69411,52.13459,29.31506,-5.90181,43.51681,4.26425,-1.05458,23.58413,31.76904,14.19528,-18.14161,-27.03424],\"legendgroup\":\"\",\"lon\":[-34.88111,-64.9,-68.53639,120.9822,122.56444,-3.13231,-81.23304,106.62965,-0.02664,2.3488,-84.00287,100.50144,116.39723,-38.51083,101.68653,96.15611,-62.08266,146.80569,121.0409,-64.28333,-89.18718,-47.64917,-77.02824,-79.4163,153.02809,-17.44406,-82.38304,-123.11934,-64.74698,101.44333,-90.51327,32.47949,114.0683,-66.87919,121.0509,151.20732,72.88261,73.85535,105.84117,77.23149,-88.19756,-47.06083,-89.13989,12.51133,126.9784,-99.12766,0.50546,106.84513,-71.60746,32.58219,150.50595,-87.20681,-43.93778,144.96332,121.53185,121.12251,120.93851,121.16528,101.60671,28.04363,-58.37723,113.25,139.69171,-64.78303,78.45636,-1.89983,171.38027,2.15899,120.4023,-73.62664,-78.9602,77.22445,75.83907,-77.34306,103.7578,109.19432,35.73194,114.17469,120.0297,121.0584,28.04363,122.95,-86.09417,7.49508,-52.09861,-49.22417,11.24626,-79.21632,23.72784,-47.44,-96.1429,-76.48098,-56.18816,103.85007,113.99163,174.76349,7.74553,-75.03624,-46.33361,6.85385,9.45356,-97.14704,-80.31269,-53.74306,39.82563,-89.91898,-61.38878,96.08359,-82.18494,14.26811,125.61278,-1.25596,-83.01654,6.63282,123.55,117.88369,-75.55795,10.01534,-108.14684,3.39467,3.90591,-1.89983,13.41053,-76.2348,2.70177,55.30927,-114.08529,14.50513,51.42151,-1.13004,1.38617,16.37208,149.10018,145.00176,-101.6225,-100.45029,-96.72365,-1.57566,121.29696,90.40744,117.88369,177.41617,-79.3831,104.91601,5.42244,-74.78132,4.47917,110.36472,-6.24889,84.32618,78.15538,-79.24267,121.0614,105.4635,121.1061,30.31413,-63.57239,-35.20944,0.50546,101.16056,-2.51667,-75.69812,9.17702,-4.25763,-74.26419,-74.26419,-54.86722,-79.52809,-8.98639,-1.40428,145.00176,135.183,5.71479,44.51361,-75.39778,3.87723,-23.51254,110.33333,28.4,145.00279,-40.51372,-0.46632,-1.78416,-149.5665,102.78589,18.0649,6.76516,-61.49889,151.7801,-9.0388,121.0897,-69.40814,-38.54306,152.3479,-0.48333,-2.59665,-76.35269,149.10018,13.37759,-59.64517,79.82979,-5.79975,-73.25383,-55.73333,144.96332,-80.91039,15.28318,120.0933,-86.2504,-59.78832,4.34878,-34.85528,46.36056,85.3206,150.95,75.7804,-60.70868,29.91582,36.29128,101.44167,6.93093,32.53241,31.05337,111.81667,120.8147,-9.0388,-99.51639,121.58694,-79.46633,49.89201,39.72569,-66.0485,7.09549,125.75432,-2.6338,31.45287,151.25775,-81.23304,95.45705,-78.52495,122.07389,-9.13333,-74.26419,2.15899,-9.13333,-74.26419,2.15899,13.23432,101.44316,39.19793,39.19793,36.68333,-76.78319,139.65,28.21323,-73.64732,-123.06934,-76.48481,150.95,12.56553,114.26667,149.12807,77.53601,-61.13008,-49.22417,38.74689,120.9192,-3.19648,-98.28835,80.27847,-75.52626,37.61556,102.10447,-35.45028,3.90591,15.31357,123.55,-3.19648,-48.445,-80.31269,140.46667,113.74866,-88.76667,-60.025,-75.19349,-79.46632,-2.23743,99.52153,179.36451,-115.45446,44.20667,151.22241,-89.10944,32.89942,7.57327,104.52085,4.84671,-0.36701,-80.94972,35.20376,116.97889,44.83368,-0.46632,120.07676,-76.12234,-79.88294,-75.93085,-80.45445,58.40778,35.21633,120.87694,178.44149,-65.30196],\"marker\":{\"color\":[1,1,1,0,0,2,1,0,2,2,1,0,0,1,0,0,1,0,0,1,1,1,1,1,0,2,1,1,1,0,1,2,0,1,0,0,0,0,0,0,1,1,1,2,0,1,2,0,1,2,0,1,1,0,0,0,0,0,0,2,1,0,0,1,0,2,0,2,0,1,1,0,0,1,0,0,2,0,0,0,2,0,1,2,1,1,2,1,2,1,1,1,1,0,0,0,2,1,1,2,2,1,1,1,2,1,1,0,1,2,0,2,1,2,0,0,1,2,1,2,2,2,2,1,2,2,1,2,2,2,2,2,0,0,1,1,1,2,0,0,0,0,1,0,2,1,2,0,2,0,0,1,0,0,0,2,1,1,2,0,2,1,2,2,1,1,1,1,2,2,0,0,2,2,1,2,2,0,2,0,1,2,2,1,0,2,2,1,0,2,0,1,1,0,2,2,1,0,2,1,0,2,1,1,0,1,2,0,1,1,2,1,2,0,0,0,1,2,2,0,2,2,2,0,0,2,1,0,1,2,2,1,2,0,2,2,0,1,0,1,0,2,1,2,2,1,2,2,0,2,2,2,1,0,2,1,1,1,0,2,0,0,0,1,1,2,0,2,1,0,1,2,0,1,2,2,0,2,1,1,0,0,1,1,1,1,2,0,0,1,2,0,1,2,2,0,2,2,1,2,0,2,2,0,1,1,1,1,2,2,0,0,1],\"coloraxis\":\"coloraxis\",\"symbol\":\"circle\"},\"mode\":\"markers\",\"name\":\"\",\"showlegend\":false,\"type\":\"scattergeo\"}],                        {\"template\":{\"data\":{\"histogram2dcontour\":[{\"type\":\"histogram2dcontour\",\"colorbar\":{\"outlinewidth\":0,\"ticks\":\"\"},\"colorscale\":[[0.0,\"#0d0887\"],[0.1111111111111111,\"#46039f\"],[0.2222222222222222,\"#7201a8\"],[0.3333333333333333,\"#9c179e\"],[0.4444444444444444,\"#bd3786\"],[0.5555555555555556,\"#d8576b\"],[0.6666666666666666,\"#ed7953\"],[0.7777777777777778,\"#fb9f3a\"],[0.8888888888888888,\"#fdca26\"],[1.0,\"#f0f921\"]]}],\"choropleth\":[{\"type\":\"choropleth\",\"colorbar\":{\"outlinewidth\":0,\"ticks\":\"\"}}],\"histogram2d\":[{\"type\":\"histogram2d\",\"colorbar\":{\"outlinewidth\":0,\"ticks\":\"\"},\"colorscale\":[[0.0,\"#0d0887\"],[0.1111111111111111,\"#46039f\"],[0.2222222222222222,\"#7201a8\"],[0.3333333333333333,\"#9c179e\"],[0.4444444444444444,\"#bd3786\"],[0.5555555555555556,\"#d8576b\"],[0.6666666666666666,\"#ed7953\"],[0.7777777777777778,\"#fb9f3a\"],[0.8888888888888888,\"#fdca26\"],[1.0,\"#f0f921\"]]}],\"heatmap\":[{\"type\":\"heatmap\",\"colorbar\":{\"outlinewidth\":0,\"ticks\":\"\"},\"colorscale\":[[0.0,\"#0d0887\"],[0.1111111111111111,\"#46039f\"],[0.2222222222222222,\"#7201a8\"],[0.3333333333333333,\"#9c179e\"],[0.4444444444444444,\"#bd3786\"],[0.5555555555555556,\"#d8576b\"],[0.6666666666666666,\"#ed7953\"],[0.7777777777777778,\"#fb9f3a\"],[0.8888888888888888,\"#fdca26\"],[1.0,\"#f0f921\"]]}],\"heatmapgl\":[{\"type\":\"heatmapgl\",\"colorbar\":{\"outlinewidth\":0,\"ticks\":\"\"},\"colorscale\":[[0.0,\"#0d0887\"],[0.1111111111111111,\"#46039f\"],[0.2222222222222222,\"#7201a8\"],[0.3333333333333333,\"#9c179e\"],[0.4444444444444444,\"#bd3786\"],[0.5555555555555556,\"#d8576b\"],[0.6666666666666666,\"#ed7953\"],[0.7777777777777778,\"#fb9f3a\"],[0.8888888888888888,\"#fdca26\"],[1.0,\"#f0f921\"]]}],\"contourcarpet\":[{\"type\":\"contourcarpet\",\"colorbar\":{\"outlinewidth\":0,\"ticks\":\"\"}}],\"contour\":[{\"type\":\"contour\",\"colorbar\":{\"outlinewidth\":0,\"ticks\":\"\"},\"colorscale\":[[0.0,\"#0d0887\"],[0.1111111111111111,\"#46039f\"],[0.2222222222222222,\"#7201a8\"],[0.3333333333333333,\"#9c179e\"],[0.4444444444444444,\"#bd3786\"],[0.5555555555555556,\"#d8576b\"],[0.6666666666666666,\"#ed7953\"],[0.7777777777777778,\"#fb9f3a\"],[0.8888888888888888,\"#fdca26\"],[1.0,\"#f0f921\"]]}],\"surface\":[{\"type\":\"surface\",\"colorbar\":{\"outlinewidth\":0,\"ticks\":\"\"},\"colorscale\":[[0.0,\"#0d0887\"],[0.1111111111111111,\"#46039f\"],[0.2222222222222222,\"#7201a8\"],[0.3333333333333333,\"#9c179e\"],[0.4444444444444444,\"#bd3786\"],[0.5555555555555556,\"#d8576b\"],[0.6666666666666666,\"#ed7953\"],[0.7777777777777778,\"#fb9f3a\"],[0.8888888888888888,\"#fdca26\"],[1.0,\"#f0f921\"]]}],\"mesh3d\":[{\"type\":\"mesh3d\",\"colorbar\":{\"outlinewidth\":0,\"ticks\":\"\"}}],\"scatter\":[{\"fillpattern\":{\"fillmode\":\"overlay\",\"size\":10,\"solidity\":0.2},\"type\":\"scatter\"}],\"parcoords\":[{\"type\":\"parcoords\",\"line\":{\"colorbar\":{\"outlinewidth\":0,\"ticks\":\"\"}}}],\"scatterpolargl\":[{\"type\":\"scatterpolargl\",\"marker\":{\"colorbar\":{\"outlinewidth\":0,\"ticks\":\"\"}}}],\"bar\":[{\"error_x\":{\"color\":\"#2a3f5f\"},\"error_y\":{\"color\":\"#2a3f5f\"},\"marker\":{\"line\":{\"color\":\"#E5ECF6\",\"width\":0.5},\"pattern\":{\"fillmode\":\"overlay\",\"size\":10,\"solidity\":0.2}},\"type\":\"bar\"}],\"scattergeo\":[{\"type\":\"scattergeo\",\"marker\":{\"colorbar\":{\"outlinewidth\":0,\"ticks\":\"\"}}}],\"scatterpolar\":[{\"type\":\"scatterpolar\",\"marker\":{\"colorbar\":{\"outlinewidth\":0,\"ticks\":\"\"}}}],\"histogram\":[{\"marker\":{\"pattern\":{\"fillmode\":\"overlay\",\"size\":10,\"solidity\":0.2}},\"type\":\"histogram\"}],\"scattergl\":[{\"type\":\"scattergl\",\"marker\":{\"colorbar\":{\"outlinewidth\":0,\"ticks\":\"\"}}}],\"scatter3d\":[{\"type\":\"scatter3d\",\"line\":{\"colorbar\":{\"outlinewidth\":0,\"ticks\":\"\"}},\"marker\":{\"colorbar\":{\"outlinewidth\":0,\"ticks\":\"\"}}}],\"scattermapbox\":[{\"type\":\"scattermapbox\",\"marker\":{\"colorbar\":{\"outlinewidth\":0,\"ticks\":\"\"}}}],\"scatterternary\":[{\"type\":\"scatterternary\",\"marker\":{\"colorbar\":{\"outlinewidth\":0,\"ticks\":\"\"}}}],\"scattercarpet\":[{\"type\":\"scattercarpet\",\"marker\":{\"colorbar\":{\"outlinewidth\":0,\"ticks\":\"\"}}}],\"carpet\":[{\"aaxis\":{\"endlinecolor\":\"#2a3f5f\",\"gridcolor\":\"white\",\"linecolor\":\"white\",\"minorgridcolor\":\"white\",\"startlinecolor\":\"#2a3f5f\"},\"baxis\":{\"endlinecolor\":\"#2a3f5f\",\"gridcolor\":\"white\",\"linecolor\":\"white\",\"minorgridcolor\":\"white\",\"startlinecolor\":\"#2a3f5f\"},\"type\":\"carpet\"}],\"table\":[{\"cells\":{\"fill\":{\"color\":\"#EBF0F8\"},\"line\":{\"color\":\"white\"}},\"header\":{\"fill\":{\"color\":\"#C8D4E3\"},\"line\":{\"color\":\"white\"}},\"type\":\"table\"}],\"barpolar\":[{\"marker\":{\"line\":{\"color\":\"#E5ECF6\",\"width\":0.5},\"pattern\":{\"fillmode\":\"overlay\",\"size\":10,\"solidity\":0.2}},\"type\":\"barpolar\"}],\"pie\":[{\"automargin\":true,\"type\":\"pie\"}]},\"layout\":{\"autotypenumbers\":\"strict\",\"colorway\":[\"#636efa\",\"#EF553B\",\"#00cc96\",\"#ab63fa\",\"#FFA15A\",\"#19d3f3\",\"#FF6692\",\"#B6E880\",\"#FF97FF\",\"#FECB52\"],\"font\":{\"color\":\"#2a3f5f\"},\"hovermode\":\"closest\",\"hoverlabel\":{\"align\":\"left\"},\"paper_bgcolor\":\"white\",\"plot_bgcolor\":\"#E5ECF6\",\"polar\":{\"bgcolor\":\"#E5ECF6\",\"angularaxis\":{\"gridcolor\":\"white\",\"linecolor\":\"white\",\"ticks\":\"\"},\"radialaxis\":{\"gridcolor\":\"white\",\"linecolor\":\"white\",\"ticks\":\"\"}},\"ternary\":{\"bgcolor\":\"#E5ECF6\",\"aaxis\":{\"gridcolor\":\"white\",\"linecolor\":\"white\",\"ticks\":\"\"},\"baxis\":{\"gridcolor\":\"white\",\"linecolor\":\"white\",\"ticks\":\"\"},\"caxis\":{\"gridcolor\":\"white\",\"linecolor\":\"white\",\"ticks\":\"\"}},\"coloraxis\":{\"colorbar\":{\"outlinewidth\":0,\"ticks\":\"\"}},\"colorscale\":{\"sequential\":[[0.0,\"#0d0887\"],[0.1111111111111111,\"#46039f\"],[0.2222222222222222,\"#7201a8\"],[0.3333333333333333,\"#9c179e\"],[0.4444444444444444,\"#bd3786\"],[0.5555555555555556,\"#d8576b\"],[0.6666666666666666,\"#ed7953\"],[0.7777777777777778,\"#fb9f3a\"],[0.8888888888888888,\"#fdca26\"],[1.0,\"#f0f921\"]],\"sequentialminus\":[[0.0,\"#0d0887\"],[0.1111111111111111,\"#46039f\"],[0.2222222222222222,\"#7201a8\"],[0.3333333333333333,\"#9c179e\"],[0.4444444444444444,\"#bd3786\"],[0.5555555555555556,\"#d8576b\"],[0.6666666666666666,\"#ed7953\"],[0.7777777777777778,\"#fb9f3a\"],[0.8888888888888888,\"#fdca26\"],[1.0,\"#f0f921\"]],\"diverging\":[[0,\"#8e0152\"],[0.1,\"#c51b7d\"],[0.2,\"#de77ae\"],[0.3,\"#f1b6da\"],[0.4,\"#fde0ef\"],[0.5,\"#f7f7f7\"],[0.6,\"#e6f5d0\"],[0.7,\"#b8e186\"],[0.8,\"#7fbc41\"],[0.9,\"#4d9221\"],[1,\"#276419\"]]},\"xaxis\":{\"gridcolor\":\"white\",\"linecolor\":\"white\",\"ticks\":\"\",\"title\":{\"standoff\":15},\"zerolinecolor\":\"white\",\"automargin\":true,\"zerolinewidth\":2},\"yaxis\":{\"gridcolor\":\"white\",\"linecolor\":\"white\",\"ticks\":\"\",\"title\":{\"standoff\":15},\"zerolinecolor\":\"white\",\"automargin\":true,\"zerolinewidth\":2},\"scene\":{\"xaxis\":{\"backgroundcolor\":\"#E5ECF6\",\"gridcolor\":\"white\",\"linecolor\":\"white\",\"showbackground\":true,\"ticks\":\"\",\"zerolinecolor\":\"white\",\"gridwidth\":2},\"yaxis\":{\"backgroundcolor\":\"#E5ECF6\",\"gridcolor\":\"white\",\"linecolor\":\"white\",\"showbackground\":true,\"ticks\":\"\",\"zerolinecolor\":\"white\",\"gridwidth\":2},\"zaxis\":{\"backgroundcolor\":\"#E5ECF6\",\"gridcolor\":\"white\",\"linecolor\":\"white\",\"showbackground\":true,\"ticks\":\"\",\"zerolinecolor\":\"white\",\"gridwidth\":2}},\"shapedefaults\":{\"line\":{\"color\":\"#2a3f5f\"}},\"annotationdefaults\":{\"arrowcolor\":\"#2a3f5f\",\"arrowhead\":0,\"arrowwidth\":1},\"geo\":{\"bgcolor\":\"white\",\"landcolor\":\"#E5ECF6\",\"subunitcolor\":\"white\",\"showland\":true,\"showlakes\":true,\"lakecolor\":\"white\"},\"title\":{\"x\":0.05},\"mapbox\":{\"style\":\"light\"}}},\"geo\":{\"domain\":{\"x\":[0.0,1.0],\"y\":[0.0,1.0]},\"center\":{},\"projection\":{\"type\":\"orthographic\"},\"showcountries\":true},\"legend\":{\"tracegroupgap\":0},\"margin\":{\"t\":60}},                        {\"responsive\": true}                    ).then(function(){\n",
       "                            \n",
       "var gd = document.getElementById('6645b7f6-a132-4c3f-833b-456e3326c4a3');\n",
       "var x = new MutationObserver(function (mutations, observer) {{\n",
       "        var display = window.getComputedStyle(gd).display;\n",
       "        if (!display || display === 'none') {{\n",
       "            console.log([gd, 'removed!']);\n",
       "            Plotly.purge(gd);\n",
       "            observer.disconnect();\n",
       "        }}\n",
       "}});\n",
       "\n",
       "// Listen for the removal of the full notebook cells\n",
       "var notebookContainer = gd.closest('#notebook-container');\n",
       "if (notebookContainer) {{\n",
       "    x.observe(notebookContainer, {childList: true});\n",
       "}}\n",
       "\n",
       "// Listen for the clearing of the current output cell\n",
       "var outputEl = gd.closest('.output');\n",
       "if (outputEl) {{\n",
       "    x.observe(outputEl, {childList: true});\n",
       "}}\n",
       "\n",
       "                        })                };                });            </script>        </div>"
      ]
     },
     "metadata": {},
     "output_type": "display_data"
    },
    {
     "data": {
      "image/png": "[encoded data removed]",
      "text/plain": [
       "<Figure size 640x480 with 1 Axes>"
      ]
     },
     "metadata": {},
     "output_type": "display_data"
    }
   ],
   "source": [
    "cluster_df_world, world_df, world_centers = kmns(world_df,3)\n",
    "\n",
    "plotdf(world_df, world_centers, \"KMeans World without US\")\n"
   ]
  },
  {
   "cell_type": "code",
   "execution_count": null,
   "id": "30eea628",
   "metadata": {},
   "outputs": [],
   "source": [
    "#print(usa_centers)\n",
    "sort_headlines(usa_df, usa_centers, 3)"
   ]
  },
  {
   "cell_type": "code",
   "execution_count": null,
   "id": "da293b6f",
   "metadata": {},
   "outputs": [],
   "source": []
  }
 ],
 "metadata": {
  "kernelspec": {
   "display_name": "Python 3 (ipykernel)",
   "language": "python",
   "name": "python3"
  },
  "language_info": {
   "codemirror_mode": {
    "name": "ipython",
    "version": 3
   },
   "file_extension": ".py",
   "mimetype": "text/x-python",
   "name": "python",
   "nbconvert_exporter": "python",
   "pygments_lexer": "ipython3",
   "version": "3.7.12"
  }
 },
 "nbformat": 4,
 "nbformat_minor": 5
}
