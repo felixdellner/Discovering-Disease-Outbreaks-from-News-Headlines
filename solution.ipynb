{
 "cells": [
  {
   "cell_type": "markdown",
   "id": "6e6ca4f0",
   "metadata": {},
   "source": [
    "# Read our file and get countries/cities"
   ]
  },
  {
   "cell_type": "code",
   "execution_count": 68,
   "id": "8aab93ff",
   "metadata": {},
   "outputs": [],
   "source": [
    "import geonamescache\n",
    "import re\n",
    "import math\n",
    "import plotly.express as px\n",
    "import pandas as pd\n",
    "import numpy as np\n",
    "import seaborn as sns\n",
    "import matplotlib.pyplot as plt\n",
    "import matplotlib.cm as cm\n",
    "from sklearn.datasets import load_iris\n",
    "from sklearn.cluster import KMeans\n",
    "from sklearn.cluster import DBSCAN\n",
    "from unidecode import unidecode\n",
    "from mpl_toolkits.basemap import Basemap\n",
    "\n",
    "\n",
    "gc = geonamescache.GeonamesCache()\n",
    "countries = gc.get_countries()\n",
    "cities = gc.get_cities()\n",
    "file = open(\"data/headlines.txt\", \"r\")\n",
    "\n",
    "lines = file.readlines()\n",
    "cityList = []\n",
    "for city in cities.items():\n",
    "    cityName = city[1]['name']\n",
    "    cityList.append(cityName)\n",
    "cityList.sort(reverse=True)\n",
    "\n",
    "countryList = []\n",
    "for country in countries.items():\n",
    "    countryName = country[1]['name']\n",
    "    countryList.append(countryName)\n",
    "countryList.sort(reverse=True)\n"
   ]
  },
  {
   "cell_type": "markdown",
   "id": "18efb2f4",
   "metadata": {},
   "source": [
    "# Create regex"
   ]
  },
  {
   "cell_type": "code",
   "execution_count": 69,
   "id": "61c77407",
   "metadata": {},
   "outputs": [],
   "source": [
    "regString = \"\"\n",
    "originalCity = {}\n",
    "for cityName in cityList:\n",
    "    #\n",
    "    origName = cityName\n",
    "    cityName = unidecode(re.escape(cityName))\n",
    "    originalCity[cityName] = origName\n",
    "    cityName = cityName.replace(\"\\ \", \" \")\n",
    "    cityName = r'\\b' + cityName + r'\\b'\n",
    "    if(regString != \"\"):\n",
    "        regString = regString + '|'+ cityName\n",
    "    else:\n",
    "        regString = regString + cityName\n",
    "        \n",
    "#print(regString)\n",
    "regExpCity = re.compile(r''+regString)\n",
    "\n",
    "#print(pd.DataFrame(originalCity, index=[0]).T.head())\n",
    "#print(len(originalCity))\n",
    "regStringCountry = \"\"\n",
    "for countryName in countryList:\n",
    "    countryName = unidecode(re.escape(countryName))\n",
    "    countryName = countryName.replace(\"\\ \", \" \")\n",
    "    countryName = r'\\b' + countryName + r'\\b'\n",
    "    if(regStringCountry != \"\"):\n",
    "        regStringCountry = regStringCountry + \"|\" + countryName \n",
    "    else:\n",
    "        regStringCountry = regStringCountry + countryName\n",
    "\n",
    "\n",
    "regExpCountry = re.compile(r''+regStringCountry)"
   ]
  },
  {
   "cell_type": "markdown",
   "id": "4a0c941e",
   "metadata": {},
   "source": [
    "# Use regex to find city/country of headlines, count missed headlines"
   ]
  },
  {
   "cell_type": "code",
   "execution_count": 70,
   "id": "b3e8ffe6",
   "metadata": {},
   "outputs": [
    {
     "name": "stdout",
     "output_type": "stream",
     "text": [
      "{'headline': 'Louisiana Zika cases up to 26', 'cities': [], 'countries': []}\n",
      "{'headline': 'Zika infects pregnant woman in Cebu', 'cities': [], 'countries': []}\n",
      "{'headline': 'Spanish Flu Sighted in Antigua', 'cities': [], 'countries': []}\n",
      "{'headline': 'Carnival under threat in Rio De Janeiro due to Zika outbreak', 'cities': [], 'countries': []}\n",
      "{'headline': 'Zika case reported in Oton', 'cities': [], 'countries': []}\n",
      "{'headline': 'Hillsborough uses innovative trap against Zika 20 minutes ago', 'cities': [], 'countries': []}\n",
      "{'headline': 'Maka City Experiences Influenza Outbreak', 'cities': [], 'countries': []}\n",
      "{'headline': 'More Zika patients reported in Mcallen', 'cities': [], 'countries': []}\n",
      "{'headline': 'West Nile Virus Outbreak in Saint Johns', 'cities': [], 'countries': []}\n",
      "{'headline': 'More people in Mclean are infected with Hepatitis A every year', 'cities': [], 'countries': []}\n",
      "{'headline': 'Malaria Exposure in Sussex', 'cities': [], 'countries': []}\n",
      "{'headline': 'Greenwich Establishes Zika Task Force', 'cities': [], 'countries': []}\n",
      "{'headline': 'Will West Nile Virus vaccine help Parsons?', 'cities': [], 'countries': []}\n",
      "{'headline': 'Yulee takes a hit from Spreading Sickness', 'cities': [], 'countries': []}\n",
      "{'headline': 'The Spread of Chikungunya in Davidson has been Confirmed', 'cities': [], 'countries': []}\n",
      "{'headline': 'Zika case reported in Los Fresnos', 'cities': [], 'countries': []}\n",
      "{'headline': 'More people in Boucau are infected with HIV every year', 'cities': [], 'countries': []}\n",
      "{'headline': 'Bronchitis Outbreak in Manhasset', 'cities': [], 'countries': []}\n",
      "{'headline': 'Zika Troubles come to Padre Las Casas', 'cities': [], 'countries': []}\n",
      "{'headline': 'Rumors about Influenza Spreading in Dobbs Ferry have been Refuted', 'cities': [], 'countries': []}\n",
      "{'headline': 'Outbreak of Zika in Destin', 'cities': [], 'countries': []}\n",
      "{'headline': 'More people in Huron are infected with Dengue every year', 'cities': [], 'countries': []}\n",
      "{'headline': 'Will Tuberculosis vaccine help Cherry Creek?', 'cities': [], 'countries': []}\n",
      "{'headline': 'Gympie Patient in Critical Condition after Contracting Chlamydia', 'cities': [], 'countries': []}\n",
      "{'headline': 'Spike of Meningitis Cases in Druid Hills', 'cities': [], 'countries': []}\n",
      "{'headline': 'Martinsville tests new cure for Measles', 'cities': [], 'countries': []}\n",
      "{'headline': 'More Patients in Magnolia are Getting Diagnosed with Malaria', 'cities': [], 'countries': []}\n",
      "{'headline': 'Rumors about Syphilis spreading in Penal have been refuted', 'cities': [], 'countries': []}\n",
      "{'headline': 'Fort Belvoir tests new cure for Hepatitis C', 'cities': [], 'countries': []}\n",
      "{'headline': 'More people in Oak Brook are infected with Respiratory Syncytial Virus every year', 'cities': [], 'countries': []}\n",
      "{'headline': 'Outbreak of Zika in Hutchins', 'cities': [], 'countries': []}\n",
      "{'headline': 'Longwood volunteers spreading Zika awareness', 'cities': [], 'countries': []}\n",
      "{'headline': 'Zika symptoms spotted in Quixere', 'cities': [], 'countries': []}\n",
      "{'headline': 'Measles Hits Davos', 'cities': [], 'countries': []}\n",
      "{'headline': 'Spike of Hepatitis E Cases in Morehead City', 'cities': [], 'countries': []}\n",
      "{'headline': 'Outbreak of Zika in Alvorada', 'cities': [], 'countries': []}\n",
      "{'headline': 'Schools in Coamo Closed Due to Rhinovirus Outbreak', 'cities': [], 'countries': []}\n",
      "{'headline': 'Zika arrives in Dangriga', 'cities': [], 'countries': []}\n",
      "{'headline': 'More Patients in Maynard are Getting Diagnosed with Syphilis', 'cities': [], 'countries': []}\n",
      "{'headline': 'Zika case reported in Antioquia', 'cities': [], 'countries': []}\n",
      "{'headline': 'Chikungunya has not Left Pismo Beach', 'cities': [], 'countries': []}\n",
      "{'headline': 'Zika spreads to La Joya', 'cities': [], 'countries': []}\n",
      "total missed: 42\n"
     ]
    }
   ],
   "source": [
    "listOfHeadlines = []\n",
    "for line in lines:\n",
    "    line = line.replace(\"\\n\", \"\")\n",
    "    decoded = unidecode((line))\n",
    "    matchedCities = re.findall(r''+regString,decoded)\n",
    "    matchedCountries = re.findall(r''+regStringCountry,decoded)\n",
    "    \n",
    "    newDictObject = {\"headline\": decoded, \"cities\": matchedCities, \"countries\": matchedCountries}\n",
    "    listOfHeadlines.append(newDictObject)\n",
    "countMissed = 0\n",
    "for item in listOfHeadlines:\n",
    "    if(item[\"countries\"] == [] and item[\"cities\"] == []):\n",
    "        print(item)\n",
    "        countMissed += 1\n",
    "print(\"total missed: \" + str(countMissed))\n",
    "\n",
    "#Rio De Janeiro vs Rio de Janeiro is easier to fix in the data compared to in the code - as otherwise we will end up catching a whole lot of 'Man' and 'Of' in the cities list"
   ]
  },
  {
   "cell_type": "code",
   "execution_count": 71,
   "id": "f48653cf",
   "metadata": {},
   "outputs": [
    {
     "name": "stdout",
     "output_type": "stream",
     "text": [
      "                                  headline           cities countries\n",
      "0                 Zika Outbreak Hits Miami          [Miami]        []\n",
      "1          Could Zika Reach New York City?  [New York City]        []\n",
      "2        First Case of Zika in Miami Beach    [Miami Beach]        []\n",
      "3  Mystery Virus Spreads in Recife, Brazil         [Recife]  [Brazil]\n",
      "4  Dallas man comes down with case of Zika         [Dallas]        []\n"
     ]
    }
   ],
   "source": [
    "df = pd.DataFrame(listOfHeadlines)\n",
    "print(df.head())"
   ]
  },
  {
   "cell_type": "code",
   "execution_count": 72,
   "id": "f47864b3",
   "metadata": {},
   "outputs": [
    {
     "name": "stdout",
     "output_type": "stream",
     "text": [
      "[] Louisiana Zika cases up to 26\n",
      "[] Zika infects pregnant woman in Cebu\n",
      "Double city  ['Tampa', 'Bay'] Tampa Bay Area Zika Case Count Climbs  at location  21\n",
      "Double city  ['Kuala Lumpur', 'Hit'] Kuala Lumpur is Hit By Zika Threat  at location  33\n",
      "[] Spanish Flu Sighted in Antigua\n",
      "[] Carnival under threat in Rio De Janeiro due to Zika outbreak\n",
      "[] Zika case reported in Oton\n",
      "[] Hillsborough uses innovative trap against Zika 20 minutes ago\n",
      "[] Maka City Experiences Influenza Outbreak\n",
      "Double city  ['Seminole', 'Florida'] Zika Patient in Seminole, Florida  at location  98\n",
      "Double city  ['Can', 'Vero Beach'] Can Zika make it here to Vero Beach?  at location  101\n",
      "Double city  ['Spring', 'Fort Lauderdale'] Spring break ruined by Zika in Fort Lauderdale  at location  120\n",
      "Double city  ['Batangas', 'Hit'] Batangas Tourism Takes a Hit as Virus Spreads  at location  134\n",
      "[] More Zika patients reported in Mcallen\n",
      "[] West Nile Virus Outbreak in Saint Johns\n",
      "Double city  ['Belmont', 'Belmont'] Zika in Belmont, Belmont worry  at location  159\n",
      "[] More people in Mclean are infected with Hepatitis A every year\n",
      "[] Malaria Exposure in Sussex\n",
      "[] Greenwich Establishes Zika Task Force\n",
      "[] Will West Nile Virus vaccine help Parsons?\n",
      "[] Yulee takes a hit from Spreading Sickness\n",
      "[] The Spread of Chikungunya in Davidson has been Confirmed\n",
      "[] Zika case reported in Los Fresnos\n",
      "[] More people in Boucau are infected with HIV every year\n",
      "[] Bronchitis Outbreak in Manhasset\n",
      "[] Zika Troubles come to Padre Las Casas\n",
      "[] Rumors about Influenza Spreading in Dobbs Ferry have been Refuted\n",
      "[] Outbreak of Zika in Destin\n",
      "[] More people in Huron are infected with Dengue every year\n",
      "[] Will Tuberculosis vaccine help Cherry Creek?\n",
      "[] Gympie Patient in Critical Condition after Contracting Chlamydia\n",
      "[] Spike of Meningitis Cases in Druid Hills\n",
      "[] Martinsville tests new cure for Measles\n",
      "[] More Patients in Magnolia are Getting Diagnosed with Malaria\n",
      "[] Rumors about Syphilis spreading in Penal have been refuted\n",
      "[] Fort Belvoir tests new cure for Hepatitis C\n",
      "[] More people in Oak Brook are infected with Respiratory Syncytial Virus every year\n",
      "[] Outbreak of Zika in Hutchins\n",
      "[] Longwood volunteers spreading Zika awareness\n",
      "[] Zika symptoms spotted in Quixere\n",
      "[] Measles Hits Davos\n",
      "[] Spike of Hepatitis E Cases in Morehead City\n",
      "[] Outbreak of Zika in Alvorada\n",
      "[] Schools in Coamo Closed Due to Rhinovirus Outbreak\n",
      "[] Zika arrives in Dangriga\n",
      "[] More Patients in Maynard are Getting Diagnosed with Syphilis\n",
      "[] Zika case reported in Antioquia\n",
      "[] Chikungunya has not Left Pismo Beach\n",
      "[] Zika spreads to La Joya\n"
     ]
    }
   ],
   "source": [
    "def count_doubles():\n",
    "    for entry in df.index:\n",
    "        if(len(df[\"cities\"][entry]) > 1):\n",
    "           print(\"Double city \",df[\"cities\"][entry], df[\"headline\"][entry], \" at location \", entry)\n",
    "        if(len(df[\"countries\"][entry]) > 1):\n",
    "           print(df[\"countries\"][entry], df[\"headline\"][entry])\n",
    "        if(len(df[\"countries\"][entry]) < 1 and len(df[\"cities\"][entry]) < 1):\n",
    "            print(df[\"countries\"][entry], df[\"headline\"][entry])\n",
    "count_doubles()"
   ]
  },
  {
   "cell_type": "markdown",
   "id": "41ca3131",
   "metadata": {},
   "source": [
    "# Clearing out double cities (countries was not a problem!)\n",
    "(And the hit + spring!)\n"
   ]
  },
  {
   "cell_type": "code",
   "execution_count": 73,
   "id": "99cb28c0",
   "metadata": {},
   "outputs": [],
   "source": [
    "#Ugly code, but hey!\n",
    "df.at[21, \"cities\"] = [\"Tampa\"]\n",
    "df.at[33, \"cities\"] = [\"Kuala Lumpur\"]\n",
    "df.at[98, \"cities\"] = [\"Seminole\"]\n",
    "df.at[101, \"cities\"] = [\"Vero Beach\"]\n",
    "df.at[120, \"cities\"] = [\"Fort Lauerdale\"]\n",
    "df.at[134, \"cities\"] = [\"Batangas\"]\n",
    "df.at[159, \"cities\"] = [\"Belmont\"]\n",
    "for entry in df.index:\n",
    "    if(len(df[\"countries\"][entry]) < 1 and len(df[\"cities\"][entry]) < 1):\n",
    "           df.drop([entry], inplace=True)\n",
    "count_doubles()"
   ]
  },
  {
   "cell_type": "markdown",
   "id": "7c726239",
   "metadata": {},
   "source": [
    "# Getting lat/long, deciding as well that the first city returned is an ok heuristic\n",
    "(In reality, we could probably use some contextual clues to find out which city it is, but this is likely also a very risky move)"
   ]
  },
  {
   "cell_type": "code",
   "execution_count": 74,
   "id": "c9e9dc4c",
   "metadata": {},
   "outputs": [
    {
     "name": "stdout",
     "output_type": "stream",
     "text": [
      "                                  headline           cities countries  \\\n",
      "0                 Zika Outbreak Hits Miami          [Miami]        []   \n",
      "1          Could Zika Reach New York City?  [New York City]        []   \n",
      "2        First Case of Zika in Miami Beach    [Miami Beach]        []   \n",
      "3  Mystery Virus Spreads in Recife, Brazil         [Recife]  [Brazil]   \n",
      "4  Dallas man comes down with case of Zika         [Dallas]        []   \n",
      "\n",
      "   latitude  longitude countrycode country city  \n",
      "0       NaN        NaN         NaN               \n",
      "1       NaN        NaN         NaN               \n",
      "2       NaN        NaN         NaN               \n",
      "3       NaN        NaN         NaN               \n",
      "4       NaN        NaN         NaN               \n"
     ]
    }
   ],
   "source": [
    "df.insert(3, \"latitude\", pd.Series([]), allow_duplicates=True)\n",
    "df.insert(4, \"longitude\", pd.Series([]), allow_duplicates=True)\n",
    "df.insert(5, \"countrycode\", pd.Series([],dtype=\"str\"), allow_duplicates=True)\n",
    "df.insert(6, \"country\", \"\", allow_duplicates=True)\n",
    "df.insert(7, \"city\", \"\", allow_duplicates=True)\n",
    "print(df.head())"
   ]
  },
  {
   "cell_type": "markdown",
   "id": "3c584884",
   "metadata": {},
   "source": [
    "We should probably in reality look for countries too...\n",
    "# Assing lat/long to df"
   ]
  },
  {
   "cell_type": "code",
   "execution_count": 75,
   "id": "e88ba1a1",
   "metadata": {},
   "outputs": [
    {
     "name": "stdout",
     "output_type": "stream",
     "text": [
      "                                  headline  latitude  longitude countrycode  \\\n",
      "0                 Zika Outbreak Hits Miami  25.77427  -80.19366          US   \n",
      "1          Could Zika Reach New York City?  40.71427  -74.00597          US   \n",
      "2        First Case of Zika in Miami Beach  25.79065  -80.13005          US   \n",
      "3  Mystery Virus Spreads in Recife, Brazil  -8.05389  -34.88111          BR   \n",
      "4  Dallas man comes down with case of Zika  32.78306  -96.80667          US   \n",
      "\n",
      "  country           city  \n",
      "0                  Miami  \n",
      "1          New York City  \n",
      "2            Miami Beach  \n",
      "3  Brazil         Recife  \n",
      "4                 Dallas  \n"
     ]
    }
   ],
   "source": [
    "\n",
    "for entry in df.index:\n",
    "    #We'll prefer cities over countries, more specific\n",
    "    if(len(df[\"cities\"][entry]) > 0):\n",
    "        targetCity = gc.get_cities_by_name(df[\"cities\"][entry][0])\n",
    "        if(len(targetCity) > 0):\n",
    "            targetCityDict = targetCity[0]\n",
    "            for value in targetCityDict.values():\n",
    "                df.at[entry,\"latitude\"] = value[\"latitude\"]\n",
    "                df.at[entry,\"longitude\"] = value[\"longitude\"]\n",
    "                df.at[entry,\"countrycode\"] = value[\"countrycode\"]\n",
    "for entry in df.index:\n",
    "    if(len(df[\"cities\"][entry]) > 0):\n",
    "        df.at[entry,\"city\"] = df[\"cities\"][entry][0]\n",
    "    if(len(df[\"countries\"][entry]) > 0):\n",
    "        df.at[entry,\"country\"] = df[\"countries\"][entry][0]\n",
    "df = df.drop(['countries', 'cities'], axis=1)\n",
    "df.dropna(inplace=True)\n",
    "print(df.head())"
   ]
  },
  {
   "cell_type": "code",
   "execution_count": 76,
   "id": "70cadded",
   "metadata": {},
   "outputs": [
    {
     "name": "stdout",
     "output_type": "stream",
     "text": [
      "Total entries with long/lat  581\n"
     ]
    }
   ],
   "source": [
    "count = 0\n",
    "for entry in df.index:\n",
    "    if(not math.isnan(df[\"latitude\"][entry]) and not math.isnan(df[\"longitude\"][entry])):\n",
    "        count += 1\n",
    "print(\"Total entries with long/lat \", count)"
   ]
  },
  {
   "cell_type": "markdown",
   "id": "4cbf9a0b",
   "metadata": {},
   "source": [
    "# As the documentation for get_countries is pretty lacking, skipping countries atm"
   ]
  },
  {
   "cell_type": "markdown",
   "id": "7100e6cb-77a1-4bec-9901-156a2403b35d",
   "metadata": {},
   "source": [
    "# Plot the distribution of headlines\n",
    "(Surprise surprise, one country outweighs them all!)"
   ]
  },
  {
   "cell_type": "code",
   "execution_count": 77,
   "id": "7bcce034",
   "metadata": {},
   "outputs": [],
   "source": [
    "df_countrycode = pd.DataFrame(df['countrycode'].values)\n",
    "df_plot = df_countrycode.apply(pd.value_counts)\n",
    "df_plot[\"Country Code\"] = df_plot.index\n",
    "df_plot.columns = [\"Occurrences\",\"Country Code\"]"
   ]
  },
  {
   "cell_type": "markdown",
   "id": "b574a2b6",
   "metadata": {},
   "source": [
    "# KMeans"
   ]
  },
  {
   "cell_type": "code",
   "execution_count": 78,
   "id": "3180969f",
   "metadata": {},
   "outputs": [],
   "source": [
    "def elbow(df):\n",
    "####\n",
    "#Running some standard elbow code - courtesy of https://jakevdp.github.io/PythonDataScienceHandbook/05.11-k-means.html\n",
    "    sse = [] #SUM OF SQUARED ERROR\n",
    "    for k in range(1,11):\n",
    "        km = KMeans(n_clusters=k, random_state=2)\n",
    "        km.fit(df)\n",
    "        sse.append(km.inertia_)\n",
    "    sns.set_style(\"whitegrid\")\n",
    "    g=sns.lineplot(x=range(1,11), y=sse)\n",
    "\n",
    "    g.set(xlabel =\"Number of cluster (k)\", \n",
    "          ylabel = \"Sum Squared Error\", \n",
    "          title ='Elbow Method')\n",
    "\n",
    "    plt.show()\n",
    "###\n",
    "\n",
    "#Slightly surprised that this gives 2-3?"
   ]
  },
  {
   "cell_type": "code",
   "execution_count": 79,
   "id": "1fd0cee2",
   "metadata": {},
   "outputs": [],
   "source": [
    "def separate_df_lat_long(df):\n",
    "    list_long = df[\"longitude\"]\n",
    "    list_lat = df[\"latitude\"]\n",
    "    print(list_long.isnull().values.any())\n",
    "    print(list_lat.isnull().values.any())\n",
    "    list_long.dropna(inplace=True)\n",
    "    list_lat.dropna(inplace=True)\n",
    "\n",
    "    cluster_df = pd.concat([list_long,list_lat], axis=1, keys=[\"longitude\", \"latitude\"])\n",
    "    cluster_df.dropna(inplace=True)\n",
    "    return cluster_df"
   ]
  },
  {
   "cell_type": "markdown",
   "id": "54140bf4",
   "metadata": {},
   "source": [
    "# Basic scatterplot of the fits and centroids - notice the shape"
   ]
  },
  {
   "cell_type": "code",
   "execution_count": 80,
   "id": "6036dbbf",
   "metadata": {},
   "outputs": [],
   "source": [
    "def kmns(df, n_cluster):\n",
    "    cluster_model = KMeans(n_clusters=n_cluster)\n",
    "\n",
    "    cluster_df = separate_df_lat_long(df)\n",
    "    \n",
    "    elbow(cluster_df)\n",
    "\n",
    "    assigned_coordinates = cluster_model.fit_predict(cluster_df)\n",
    "    df[\"cluster_kmeans\"] = assigned_coordinates\n",
    "    \n",
    "    ###\n",
    "    plt.scatter(cluster_df[\"longitude\"], cluster_df[\"latitude\"], c=assigned_coordinates, s=15, cmap='viridis')\n",
    "\n",
    "    centers = cluster_model.cluster_centers_ #Slightly adapted from original by JakeVDP, above link\n",
    "    plt.scatter(centers[:, 0], centers[:, 1], c='red', s=50, alpha=0.5)\n",
    "    return cluster_df, df, centers"
   ]
  },
  {
   "cell_type": "code",
   "execution_count": null,
   "id": "a3fad98d",
   "metadata": {},
   "outputs": [],
   "source": []
  },
  {
   "cell_type": "markdown",
   "id": "d3406e44",
   "metadata": {},
   "source": [
    "# Turns out that basemap isn't all that nice for annotation - seems complicated to get them only on hover"
   ]
  },
  {
   "cell_type": "markdown",
   "id": "5016959d",
   "metadata": {},
   "source": [
    "plt.figure(figsize=(20, 20)) #200x200 is a nice render, but takes time\n",
    "\n",
    "worldmap = Basemap()\n",
    "worldmap.drawcountries()\n",
    "worldmap.drawcoastlines()\n",
    "worldmap.shadedrelief()\n",
    "x, y = worldmap(df[\"longitude\"].to_numpy(), df[\"latitude\"].to_numpy())\n",
    "\n",
    "\n",
    "\n",
    "for entry in df.index:\n",
    "    plt.annotate(df[\"headline\"][entry], (df[\"longitude\"][entry], df[\"latitude\"][entry]))\n",
    "\n",
    "worldmap.scatter(x, y, marker='o',c=df[\"cluster\"], cmap='plasma', s=11)\n",
    "plt.show()"
   ]
  },
  {
   "cell_type": "markdown",
   "id": "9c4bd166",
   "metadata": {},
   "source": [
    "# Plotly however makes it very easy!"
   ]
  },
  {
   "cell_type": "code",
   "execution_count": 81,
   "id": "afe83aab",
   "metadata": {},
   "outputs": [],
   "source": [
    "def df_centers(centers):\n",
    "    list_of_center_dict = []\n",
    "    for center in centers:\n",
    "        dict_obj = {\"longitude\": center[0], \"latitude\": center[1], \"color\": \"black\", \"name\": \"Cluster Center\"}\n",
    "        list_of_center_dict.append(dict_obj)\n",
    "    return pd.DataFrame(list_of_center_dict)\n",
    "\n",
    "\n",
    "def plotdf(df, centers, titletext, projection, use_center):\n",
    "    fig = px.scatter_geo(df, \n",
    "                         lat=df[\"latitude\"], \n",
    "                         lon=df[\"longitude\"], \n",
    "                         hover_name=df[\"headline\"], \n",
    "                         color=df[\"cluster_kmeans\"]\n",
    "                        )\n",
    "    \n",
    "    fig_final = px.scatter_geo(title=titletext)\n",
    "    \n",
    "    if(use_center):\n",
    "        center_df = df_centers(centers)\n",
    "        fig_centers = px.scatter_geo(center_df,\n",
    "                                     lat=center_df[\"latitude\"], \n",
    "                                     lon=center_df[\"longitude\"],\n",
    "                                     hover_name=center_df[\"name\"]\n",
    "                                    )\n",
    "\n",
    "\n",
    "        fig_final.add_traces(fig_centers._data)\n",
    "        \n",
    "    fig_final.add_traces(fig._data)\n",
    "    #Adding multiple scatters was harder than I thought, kudos vestland @https://stackoverflow.com/questions/66466457/python-plotly-express-two-bubble-markers-on-the-same-scatter-geo\n",
    "    #Also, why does it _require_ three plots to produce one, why not just two?\n",
    "    \n",
    "    fig_final.update_geos(\n",
    "        projection_type=projection,\n",
    "        showcountries=True)\n",
    "    fig_final.data[1].marker.size = 12\n",
    "    fig_final.data[1].marker.symbol = \"diamond\"\n",
    "    fig_final.show()\n",
    "    \n",
    "    "
   ]
  },
  {
   "cell_type": "markdown",
   "id": "6547b305",
   "metadata": {},
   "source": [
    " # DBSCAN - Not giving the best result"
   ]
  },
  {
   "cell_type": "code",
   "execution_count": 82,
   "id": "70f6d741",
   "metadata": {},
   "outputs": [],
   "source": [
    "from math import radians\n",
    "def great_circle_distance(pos1, pos2):\n",
    "        long1 = (radians(pos1[0]))\n",
    "        lat1 = (radians(pos1[1]))\n",
    "        long2 = (radians(pos2[0]))\n",
    "        lat2 = (radians(pos2[1]))\n",
    "        radius = 6371 #Radius of earth in km\n",
    "        try:\n",
    "            acos_target = math.cos(lat1) * math.cos(lat2) * math.cos(long1-long2) + math.sin(lat1) * math.sin(lat2)\n",
    "            if(acos_target > 1):\n",
    "                print(\"Rounding acos from \", acos_target)\n",
    "                acos_target = 1\n",
    "                \n",
    "            distance = radius * (math.acos(acos_target))\n",
    "            return distance\n",
    "        except:\n",
    "            print(\"Error with \", acos_target)\n",
    "            return 0\n",
    "            pass"
   ]
  },
  {
   "cell_type": "code",
   "execution_count": 99,
   "id": "e79775b6",
   "metadata": {},
   "outputs": [
    {
     "name": "stdout",
     "output_type": "stream",
     "text": [
      "False\n",
      "False\n",
      "Rounding acos from  1.0000000000000002\n",
      "Rounding acos from  1.0000000000000002\n",
      "Rounding acos from  1.0000000000000002\n",
      "Rounding acos from  1.0000000000000002\n",
      "Rounding acos from  1.0000000000000002\n",
      "Rounding acos from  1.0000000000000002\n",
      "Rounding acos from  1.0000000000000002\n",
      "Rounding acos from  1.0000000000000002\n",
      "Rounding acos from  1.0000000000000002\n",
      "Rounding acos from  1.0000000000000002\n",
      "Rounding acos from  1.0000000000000002\n",
      "Rounding acos from  1.0000000000000002\n",
      "Rounding acos from  1.0000000000000002\n",
      "Rounding acos from  1.0000000000000002\n",
      "Rounding acos from  1.0000000000000002\n",
      "Rounding acos from  1.0000000000000002\n",
      "Rounding acos from  1.0000000000000002\n",
      "Rounding acos from  1.0000000000000002\n",
      "Rounding acos from  1.0000000000000002\n",
      "Rounding acos from  1.0000000000000002\n",
      "Rounding acos from  1.0000000000000002\n",
      "Rounding acos from  1.0000000000000002\n",
      "Rounding acos from  1.0000000000000002\n",
      "Rounding acos from  1.0000000000000002\n",
      "Rounding acos from  1.0000000000000002\n",
      "Rounding acos from  1.0000000000000002\n",
      "Rounding acos from  1.0000000000000002\n",
      "Rounding acos from  1.0000000000000002\n",
      "Rounding acos from  1.0000000000000002\n",
      "Rounding acos from  1.0000000000000002\n",
      "Rounding acos from  1.0000000000000002\n",
      "Rounding acos from  1.0000000000000002\n",
      "Rounding acos from  1.0000000000000002\n",
      "Rounding acos from  1.0000000000000002\n",
      "Rounding acos from  1.0000000000000002\n",
      "Rounding acos from  1.0000000000000002\n",
      "Rounding acos from  1.0000000000000002\n",
      "Rounding acos from  1.0000000000000002\n",
      "Rounding acos from  1.0000000000000002\n",
      "Rounding acos from  1.0000000000000002\n",
      "Rounding acos from  1.0000000000000002\n",
      "Rounding acos from  1.0000000000000002\n",
      "Rounding acos from  1.0000000000000002\n",
      "Rounding acos from  1.0000000000000002\n",
      "Rounding acos from  1.0000000000000002\n",
      "Rounding acos from  1.0000000000000002\n",
      "Rounding acos from  1.0000000000000002\n",
      "Rounding acos from  1.0000000000000002\n",
      "Rounding acos from  1.0000000000000002\n",
      "Rounding acos from  1.0000000000000002\n",
      "Rounding acos from  1.0000000000000002\n",
      "Rounding acos from  1.0000000000000002\n",
      "Rounding acos from  1.0000000000000002\n",
      "[ 0  0  0  1  0 -1  0  0  0  0 -1  0  2  3  4  0  0  0  5  0  0  6  0  5\n",
      "  5 -1  6 -1  7  8  9  0 10  0 -1  2 -1 11  0  0 12 13  0 14 -1  0  0 15\n",
      " 15  0 16 17  8 11  0  0 18  0 19 -1  2 20 21 21 -1  0 22 11 12 11 23 24\n",
      " -1  5 -1 -1 25 -1 18 14 11 -1 26  0 27  0  2  2  0  2  0  8 28 29 19  0\n",
      " 30 -1  0 -1  5 -1  0  5  2 31 -1 22 -1  4  0  8 -1  0 -1 19 -1  0  2 28\n",
      "  3 11  0  0  0 -1  4 15 -1 12  0  0 23  0  0  4  0 -1  0  4  0 -1 32  0\n",
      "  0  0 29  0  8  0 -1  0  0 -1  0  0  5 31 15 12  5 -1  4 -1  0  0 -1  0\n",
      " -1 11  0  0  0  0 17 33 -1 17  0  0  4 23 -1  4  5  0  0  0  0  0  0  4\n",
      "  0  4  0  0  0  5  2  0  0 34 31 35 -1  0 -1 36 36  5  0  0  4 35  0 31\n",
      "  5  0 -1  0 -1  0 37 -1 -1  5  0 37 20 26 -1  0  0 32  5 27  4  0  0  0\n",
      "  0 -1 34  0 38 39  6  5 31  0  5  0 -1  5 -1 40  0  2  6  2  0 -1  0  0\n",
      "  0 -1  1  5 41  4  5  0  0  0  5  5  4 31 31  0 -1 39  0  5  5  0 15 26\n",
      " -1  0  5 42 31  5 -1  0 43  0 28  4  0  0  0 26  7  0 -1  5  0  0  5  4\n",
      " -1 41 -1  4  0  0  0  0  0  5  0  0  4 33  0 20  0 44  2 -1 -1 14  5  0\n",
      "  5  0 13  0  0 20 37 10 40  0 -1 -1  0  0  0 -1 26 45  0  0  0 46  0  0\n",
      " 25  0 47  0  0 11 10  0  4  0  4  0  5  1  0  0  0 -1 17 42 -1 20 40 10\n",
      " -1  4 48  8  0  0  0  0  5 -1 -1 43  2  0 44  0  0  2  0  0  0  0  0  0\n",
      "  0  0 -1 -1 16 15  0 17  0  0  5  4  4  0 24  0 -1  0 -1 14  0  0  4  9\n",
      " 45  0 -1  0 49 31  5 49 31  5 15 -1  8 15  0  0  0  0 50 50 -1 -1 30 -1\n",
      " 51 51  0 15  4 31 20  0 35 -1 20 22  0  0 33 12 -1  0  0  0  0  2  5  0\n",
      "  4 40  0  0 -1  0  0 25 31 -1  0  6  0  1 36  0 46  0  0  0  0  0  0  0\n",
      "  0  0  2  5  0  0 12  0  0  0 30  0  0 19 11  4  0  0  0  0 -1  4 -1 31\n",
      "  0  5 41 38 -1  4  0  4  0 -1  0 20  0  0  0  0 11  4 -1  0  4  5  6  4\n",
      "  5  0  0  5  0  0 48  0 -1  0 42  0  0  5 47 -1  0  0 31  4  0  0 45 -1\n",
      " 48  2 38 -1  0]\n"
     ]
    },
    {
     "data": {
      "application/vnd.plotly.v1+json": {
       "config": {
        "plotlyServerURL": "https://plot.ly"
       },
       "data": [
        {
         "geo": "geo",
         "hovertemplate": "<extra></extra>",
         "legendgroup": "",
         "marker": {
          "color": "#636efa",
          "symbol": "circle"
         },
         "mode": "markers",
         "name": "",
         "showlegend": false,
         "type": "scattergeo"
        },
        {
         "geo": "geo",
         "hovertemplate": "<b>%{hovertext}</b><br><br>latitude=%{lat}<br>longitude=%{lon}<br>cluster_kmeans=%{marker.color}<extra></extra>",
         "hovertext": [
          "Zika Outbreak Hits Miami",
          "Could Zika Reach New York City?",
          "First Case of Zika in Miami Beach",
          "Mystery Virus Spreads in Recife, Brazil",
          "Dallas man comes down with case of Zika",
          "Zika Concerns are Spreading in Houston",
          "The CDC in Atlanta is Growing Worried",
          "Brownsville teen contracts Zika virus",
          "Mosquito control efforts in St. Louis take new tactics with Zika threat",
          "Flu outbreak in Galveston, Texas",
          "Zika alert aEUR\" Manila now threatened",
          "Zika afflicts 7 in Iloilo City",
          "New Los Angeles Hairstyle goes Viral",
          "Orlando volunteers aid Zika research",
          "Chicago's First Zika Case Confirmed",
          "Tampa Bay Area Zika Case Count Climbs",
          "Bad Water Leads to Sickness in Flint, Michigan",
          "Baltimore plans for Zika virus",
          "London Health Unit Tracks Mad Cow Disease",
          "Zika cases in Vietnam's Ho Chi Minh City surge",
          "Philadelphia experts track pandemic",
          "Flu season hits Boston",
          "Scientists in Paris to look for answers",
          "Thailand-Zika Virus in Bangkok",
          "Zika spreading to Salvador",
          "Kuala Lumpur is Hit By Zika Threat",
          "First Zika case confirmed in Yangon",
          "Tallahassee Doctors Discuss Zika Virus",
          "Zika Virus Reaches San Francisco",
          "New Vaccine on Trial in Bethesda District",
          "Mandaluyong City under Siege by Virus",
          "Zika worries in San Salvador",
          "Zika virus reported in Cleveland",
          "More Zika patients reported in Austin",
          "Zika outbreak in Piracicaba, Brazil",
          "Lima tries to address Zika Concerns",
          "More people in Toronto are infected with Hepatitis E every year",
          "Brisbane is infested with Meningitis",
          "Zika Virus Transmission Detected in Havana",
          "Zika symtomps spotted in Key West",
          "Case of Measles Reported in Vancouver",
          "Seattle scientists get $500,000 grant to pursue Zika vaccine New 7:50 pm",
          "Nashville takes precautions against Zika",
          "Saint Croix under Zika threat",
          "Fort Collins Encounters Severe Symptoms of Gonorrhea",
          "Zika surfaces in Klang, Malaysia",
          "Rumors about Meningitis spreading in Guatemala City have been refuted",
          "Madison lab developing vaccine against Zika virus [The Wisconsin State Journal]",
          "New Zika Case Confirmed in Sarasota County",
          "Lower Hospitalization in Entebbe after Rabies Vaccine becomes Mandatory",
          "Jacksonville man hit by Zika",
          "Schools in Shenzhen Closed Due to Malaria Outbreak",
          "More Quezon City Zika Transmissions",
          "Schools in Sydney Closed Due to Respiratory Syncytial Virus Outbreak",
          "Mumbai's Health Minister warns of more Zika cases",
          "Pune woman diagnosed with Zika",
          "Authorities are Worried about the Spread of Bronchitis in Silver Spring",
          "Zika: Delhi for strict monitoring",
          "Belize City under threat from Zika",
          "Student sick in Campinas, Brazil",
          "More Zika cases in Soyapango",
          "Authorities are Worried about the Spread of Mad Cow Disease in Rome",
          "Seoul confirms 14th Zika infection",
          "Rochester authorities confirmed the spread of Dengue",
          "Salt Lake City tests new cure for Respiratory Syncytial Virus",
          "Ebola outbreak in Kampala",
          "Precautionary Zika measures in Rockhampton",
          "Zika arrives in Tegucigalpa",
          "Case of Hepatitis E Reported in Melbourne",
          "First Columbus Zika case",
          "New medicine wipes out Tuberculosis in Taipei",
          "Zika Patient in Seminole, Florida",
          "Antipolo under threat from Zika Virus",
          "Spreading Zika reaches Bacoor",
          "Can Zika make it here to Vero Beach?",
          "Zika afflicts patient in Calamba",
          "Hollywood Outbreak Film Premieres",
          "Petaling Jaya man ill from Zika",
          "Malaria is Spreading in Johannesburg",
          "Authorities are Worried about the Spread of Norovirus in Buenos Aires",
          "Guangzhou Patient in Critical Condition after Contracting Swine Flu",
          "Doral hit by Deadly Virus",
          "Tokyo Encounters Severe Symptoms of Meningitis",
          "Authorities are Worried about the Spread of Influenza in Savannah",
          "Birmingham Residents Recieve Rabies vaccine",
          "HIV has Arrived in Fairfax",
          "Spanish Flu Outbreak in Barcelona",
          "Santa Barbara tests new cure for Hepatitis C",
          "Villavicencio under Zika threat",
          "New Delhi Addressing Zika Concerns",
          "New medicine wipes out West Nile Virus in Ventura",
          "Meningitis re-emerges in Nassau",
          "Zika reaches Johor Bahru, Malaysia",
          "First Zika Case in Cincinnati",
          "Norovirus Exposure in Hong Kong",
          "Zika cases concern Charlotte residents",
          "Batangas Tourism Takes a Hit as Virus Spreads",
          "Johannesburg Patient in Critical Condition after Contracting Pneumonia",
          "Outbreak of Zika in Bacolod City",
          "Respiratory Syncytial Virus Keeps Spreading in Masaya",
          "Spike of Pneumonia Cases in Springfield",
          "Zika case reported in Jupiter",
          "Zika virus confirmed in Westchester",
          "Rumors about Hepatitis D Spreading in San Juan Capistrano have been Refuted",
          "The Spread of Measles in Spokane has been Confirmed",
          "Zika symptoms spotted in Colombo",
          "West Nile Virus Outbreak in Louisville",
          "New details in Baton Rouge cop killings",
          "Hepatitis B has not Left Florence",
          "More Zika patients reported in Pensacola",
          "Outbreak of Zika in Corpus Christi",
          "How to Avoid Rhinovirus in Lemon Grove",
          "Rumors about Rotavirus spreading in Huntsville have been refuted",
          "Measles has not Left Brooklyn",
          "Escondido neighborhood to get sprayed for Zika virus",
          "Zika in Belmont, Belmont worry",
          "Veracruz hit by Zika Concerns",
          "Case of Mumps Reported in Dayton",
          "Authorities are Worried about the Spread of Dengue in Kingston",
          "Gainesville Deals with Disease Concerns",
          "Montevideo Encounters Severe Symptoms of Rotavirus",
          "Varicella Keeps Spreading in Detroit",
          "Zika cases in Singapore reach 393",
          "Manhattan Residents Recieve HIV vaccine",
          "Rumors about Dengue Spreading in Syracuse have been Refuted",
          "Will Norovirus vaccine help Raleigh?",
          "How to Avoid Gonorrhea in Shreveport",
          "Ithaca is infested with Dengue",
          "Will MCD vaccine help Strasbourg?",
          "New medicine wipes out Measles in Fresno",
          "BREAKING aEUR\" Zika in Missoula",
          "Zika arrives in Santos",
          "Sick Livestock Leads to Serious Trouble for Belfort",
          "New medicine wipes out Chikungunya in Tucson",
          "Hepatitis B Comes to Kansas City",
          "More Patients in Cambridge are Getting Diagnosed with Chickenpox",
          "Is Lafayette prepared to combat Zika?",
          "Zika arrives in San Benito",
          "Syphilis Outbreak in Harrisburg",
          "Zika Arrives in North Miami",
          "Urbana Encounters Severe Symptoms of Meningitis",
          "Pittsburgh Residents Recieve Norovirus vaccine",
          "Chikungunya Hits Denver",
          "Zika case recorded in Tunapuna A>>",
          "HIV Keeps Spreading in Boulder",
          "Will Tuberculosis vaccine help Rockville?",
          "Mad Cow Disease Re-emerges in Chatham",
          "Zika Virus Arrives in Ontario",
          "Mad Cow Disease Hits Naples",
          "The Spread of Chikungunya in Arcadia has been Confirmed",
          "Oxford tests new cure for HIV",
          "Outbreak of Zika in Stephenville",
          "Providence Encounters Severe Symptoms of Dengue",
          "Tests negative on Windsor Zika carriers",
          "Zika battle outlined at Valdosta meeting",
          "Zika case reported in Coral Gables",
          "Hepatitis C Outbreak in Danbury",
          "Chickenpox has Arrived in Chula Vista",
          "Syphilis Hits Jefferson",
          "Will HIV vaccine help Las Vegas?",
          "Zika arrives in West Palm Beach",
          "Mobile authorities confirmed the spread of Bronchitis",
          "Zika spreads to Daytona Beach",
          "Lausanne Residents Recieve Meningitis vaccine",
          "Rhinovirus Comes to San Jose",
          "Spike of Chlamydia Cases in Farmington",
          "Authorities are Worried about the Spread of Rotavirus in Union",
          "Rumors about Hepatitis D spreading in Albany have been refuted",
          "Zika symptoms spotted in Bello",
          "Will Meningitis vaccine help Hamburg?",
          "Zika Virus Detected in Lubbock",
          "Varicella re-emerges in Lagos",
          "Vericella spreading in Ibadan",
          "Schools in Birmingham Closed Due to Measles Outbreak",
          "How to Avoid Hepatitis B in Waldorf",
          "Tuberculosis Outbreak in Newark",
          "Zika Virus Sparks 'International Concern'",
          "Spike of Chlamydia Cases in Berlin",
          "Zika-carrying mosquitoes discovered in Ardmore",
          "Zika Mosquitoes May Have Bred in Bromeliads, Florida Officials Say",
          "More Livestock in Fontainebleau are infected with Mad Cow Disease",
          "Frisco Woman Tests Positive For Zika Virus",
          "Benton Residents Recieve Pneumonia vaccine",
          "Zika Outbreak in Pinewood",
          "Will Swine Flu vaccine help Ljubljana?",
          "Mad Cow Disease Spreads to Margate",
          "Zika Strikes St. Petersburg",
          "Will the Mad Cow Outbreak Reach Vienna?",
          "More Patients in Orange are Getting Diagnosed with Chickenpox",
          "Lower Hospitalization in Richmond after Mumps Vaccine becomes Mandatory",
          "Four cases of Zika in Hidalgo County",
          "Zika symptoms spotted in Hollywood",
          "Zika arrives in Oaxaca",
          "More people in Durham are infected with Chlamydia every year",
          "Authorities are Worried about the Spread of Gonorrhea in Taoyuan City",
          "Swine Flu re-emerges in La Jolla",
          "Tuberculosis Outbreak in Hartford",
          "Rumors about Mumps Spreading in New Bedford have been Refuted",
          "Respiratory Syncytial Virus Vaccine is now Required in Tulsa",
          "More people in Indianapolis are infected with Norovirus every year",
          "Albany Residents Recieve Respiratory Syncytial Virus vaccine",
          "Rotavirus Vaccine is now Required in Starkville",
          "More people in Nadi are infected with HIV every year",
          "Tocumen tests new cure for Hepatitis A",
          "Phnom Penh hit by Zika Threat",
          "Zika Troubles come to Harlingen",
          "Zika spreads to Barranquilla",
          "Milwaukee authorities confirmed the spread of Rhinovirus",
          "Mad Cow Disease Hits Rotterdam",
          "Zika symptoms spotted in Arlington",
          "More Patients in Dublin are Getting Diagnosed with Bronchitis",
          "Rumors about West Nile Virus Spreading in Salem have been Refuted",
          "St. Catharines Patient in Critical Condition after Contracting Dengue",
          "Outbreak of Zika in Pasig City",
          "Zika Troubles come to Kampong Cham",
          "Zika case reported in Rizal",
          "Zika Spreads to Palm Beach Gardens",
          "Spike of Herpes Cases in Meriden",
          "Zika case reported in Abilene",
          "Outbreak of Zika in Palm Springs",
          "Zika arrives in Natal",
          "Herpes Keeps Spreading in Rochester",
          "Zika case reported in Phetchabun",
          "How to Avoid Pneumonia in Bullhead City",
          "West Nile Virus re-emerges in Wellington",
          "Rumors about Pneumonia spreading in Ottawa have been refuted",
          "Meningitis re-emerges in Summerville",
          "Pneumonia Symptoms Spread all over Bloomington",
          "More Patients in Stuttgart are Getting Diagnosed with Rabies",
          "Schools in Glasgow Closed Due to Hepatitis B Outbreak",
          "Phoenix Residents Recieve Syphilis vaccine",
          "Spanish flu spreading in Madrid",
          "Rabies Hits Madrid",
          "Zika Outbreak in Weslaco",
          "Rotavirus Vaccine is now Required in Las Cumbres",
          "Mumps Symptoms Spread all over Jefferson",
          "Mad Cow Outbreak Spreading in Ennis",
          "Southampton Patient in Critical Condition after Contracting Tuberculosis",
          "The Spread of Rhinovirus in Boardman has been Confirmed",
          "Richland Center is infested with Hepatitis B",
          "Authorities are Worried about the Spread of Chickenpox in Richmond",
          "Malaria Vaccine is now Required in Schenectady",
          "Hepatitis D has Arrived in Grenoble",
          "West Nile Virus Symptoms Spread all over Yerevan",
          "Zika Outbreak in Sincelejo",
          "Rumors about HIV spreading in Montpellier have been refuted",
          "Lower Hospitalization in Lakewood after Hepatitis B Vaccine becomes Mandatory",
          "Zika spreads to Kuching",
          "Spike of Rotavirus Cases in Omaha",
          "Tuberculosis re-emerges in Silver Springs",
          "Will West Nile Virus vaccine help Coronado?",
          "Zika case confirmed in Lorain",
          "Chickenpox Hits Simpsonville",
          "Framingham Residents Receive Measles vaccine",
          "Rumors about Mad Cow Disease Brighton have been Refuted",
          "Zika case reported in Jacobina",
          "Bridgeport authorities confirmed the spread of West Nile Virus",
          "More contaminated cattle reported in Bedford",
          "Zika in Tamarac!",
          "Will Measles vaccine help Milford?",
          "Spike of Norovirus Cases in Huddersfield",
          "Rhinovirus Hits Bakersfield",
          "Zika arrives in Udon Thani",
          "More people in Berkeley are infected with Swine Flu every year",
          "Zika only the latest mosquito-borne threat to New Orleans",
          "Will Swine Flu vaccine help Annapolis?",
          "Lower Hospitalization in Monroe after Hepatitis D Vaccine becomes Mandatory",
          "New medicine wipes out Dengue in Saginaw",
          "Spike of Rhinovirus Cases in Sevierville",
          "Duisburg up in Arms over Mad Cow Disease",
          "New medicine wipes out Mumps in Saint Charles",
          "Case of Chikungunya Reported in Gaithersburg",
          "How to Avoid Respiratory Syncytial Virus in San Bernardino",
          "Laventille authorities confirmed the spread of Rhinovirus",
          "More Zika patients reported in Waco",
          "Will Herpes vaccine help Newcastle?",
          "Erie County sets Zika traps",
          "How to Avoid Norovirus in Greenville",
          "More Zika patients reported in Calumpang",
          "Rumors about Bronchitis spreading in Bundaberg have been refuted",
          "Hepatitis A re-emerges in Stamford",
          "Schools in Huntington Closed Due to Rotavirus Outbreak",
          "Will Mad Cow Vaccine Help Bristol?",
          "Chickenpox Comes to Stillwater",
          "The Spread of Meningitis in Imperial has been Confirmed",
          "Case of Measles Reported in Springdale",
          "Norwalk Encounters Severe Symptoms of Malaria",
          "Zika arrives in Orange City",
          "Pilsen Encounters Severe Symptoms of Malaria",
          "Will Hepatitis B vaccine help La Paz?",
          "Zika Outbreak in Puducherry",
          "More Zika patients reported in Carrollton",
          "West Nile Virus Exposure in Racine",
          "The Spread of Hepatitis E in Lansing has been Confirmed",
          "West Nile Virus Exposure in Alpharetta",
          "More Zika patients reported in Melbourne",
          "Zika Troubles come to La Libertad",
          "Herpes Vaccine is now Required in Mattoon",
          "Kent is infested with Rabies",
          "Zika symptoms spotted in Bonita Springs",
          "The Spread of Malaria in Brazzaville has been Confirmed",
          "More Zika patients reported in Fort Myers",
          "Zika spreads to Lewisville",
          "Ogden is infested with Gonorrhea",
          "Fort Hood Reports its First Zika Patient",
          "Huzhou Residents Receive Hepatitis B vaccine",
          "New medicine wipes out Rabies in Newburgh",
          "Iowa City Encounters Severe Symptoms of Rhinovirus",
          "Spike of Rabies Cases in Managua",
          "Outbreak of Zika in Santa Elena",
          "Mumps Hits Howard Beach",
          "The Spread of Gonorrhea in Reno has been Confirmed",
          "How to Avoid Rhinovirus in Plainfield",
          "Rumors about Varicella spreading in Carlsbad have been refuted",
          "Scranton authorities confirmed the spread of Gonorrhea",
          "Mad Cow Disease Disastrous to Brussels",
          "Zika spreads to Olinda",
          "Hallandale Beach a Victim of Zika Outbreak",
          "Rhinovirus re-emerges in Storrs",
          "Germantown authorities confirmed the spread of Chickenpox",
          "Spike of Hepatitis C Cases in Golden",
          "Authorities are Worried about the Spread of Hepatitis D in Ganja",
          "Tuberculosis has Arrived in Fairfield",
          "Outbreak of Zika in Kozhikode",
          "Bronchitis Symptoms Spread all over Santa Fe",
          "Pneumonia Exposure in Alhambra",
          "Hepatitis C re-emerges in Damascus",
          "Lower Hospitalization in Pekanbaru after Rotavirus Vaccine becomes Mandatory",
          "Schools in Bentonville Closed Due to Hepatitis B Outbreak",
          "Hepatitis E Hits Hammond",
          "Schools in Bridgeton Closed Due to Mumps Outbreak",
          "Biloxi Residents Recieve Chlamydia vaccine",
          "Case of Mad Cow Disease Reported in Hilden",
          "Zika symptoms spotted in Sibu",
          "Zika arrives in Quezon",
          "More Patients in Crawfordsville are Getting Diagnosed with Rabies",
          "Spike of Hepatitis B Cases in Greenville",
          "Authorities are Worried about the Spread of Hepatitis D in Akron",
          "More Zika patients reported in Nuevo Laredo",
          "Bronchitis Keeps Spreading in San Mateo",
          "Zika arrives in Boca Raton",
          "Bradenton Experiences Zika Troubles  ",
          "Chlamydia Symptoms Spread all over University City",
          "Wisconsin Rapids Patient in Critical Condition after Contracting Chickenpox",
          "Zika spreads to Kissimmee",
          "Herpes Symptoms Spread all over Fremont",
          "Spike of Pneumonia Cases in The Bronx",
          "Authorities are Worried about the Spread of Hepatitis D in North Bay",
          "Tuberculosis Symptoms Spread all over Caguas",
          "HIV has Arrived in Tacoma",
          "Malaria re-emerges in Nashua",
          "Arvada is infested with Syphilis",
          "Spike of Syphilis Cases in West Monroe",
          "Deerfield tests new cure for Measles",
          "Contaminated Meat Brings Trouble for Bonn Farmers",
          "Hepatitis A re-emerges in Foster City",
          "How to Avoid Tuberculosis in Santa Monica",
          "Zika reported in Fort Pierce",
          "Authorities are Worried about the Spread of Syphilis in Pyongyang",
          "Zika spreads to Winter Park",
          "Hepatitis A has not Left Staten Island",
          "Gladstone Encounters Severe Symptoms of Dengue",
          "Mad Cow Disease Hits London",
          "New Milford Patient in Critical Condition after Contracting Respiratory Syncytial Virus",
          "More people in Palo Alto are infected with HIV every year",
          "HIV Symptoms Spread all over Hinthada",
          "Zika symptoms spotted in Quito",
          "Vineland authorities confirmed the spread of Chlamydia",
          "Tupelo Residents Recieve Syphilis vaccine",
          "Spanish Flu Outbreak in Lisbon",
          "Spanish Flu Spreading through Madrid",
          "Barcelona Struck by Spanish Flu",
          "Spanish Flu Outbreak in Lisbon",
          "Spanish Flu Spreading through Madrid",
          "Barcelona Struck by Spanish Flu ",
          "The Spread of Dengue in Yakima has been Confirmed",
          "Will West Nile Virus vaccine help Dumai?",
          "Rumors about Chlamydia spreading in Redmond have been refuted",
          "Case of Varicella Reported in Concord",
          "Zika virus case reported in Rockland",
          "Zika investigators coming to Mankato",
          "Toms River Encounters Severe Symptoms of Respiratory Syncytial Virus",
          "The Spread of Malaria in Zanzibar has been Confirmed",
          "Malaria Outbreak Hits Zanzibar's Tourist Industry",
          "More people in Yokohama are infected with Norovirus every year",
          "Hepatitis D Keeps Spreading in Bismarck",
          "Varicella Outbreak in Minot",
          "Malaria has Arrived in Terrebonne",
          "Chikungunya Keeps Spreading in North Vancouver",
          "Authorities are Worried about the Spread of Chickenpox in Hemet",
          "Rumors about Hepatitis C spreading in Darien have been refuted",
          "The Spread of West Nile Virus in Fairfield has been Confirmed",
          "Princeton Encounters Severe Symptoms of Dengue",
          "Norovirus Keeps Spreading in Copenhagen",
          "Spike of Norovirus Cases in Canberra",
          "Zika Troubles come to Greater Noida",
          "Lower Hospitalization in Palm Springs after Hepatitis A Vaccine becomes Mandatory",
          "Outbreak of Zika in Leesburg",
          "Sangre Grande Residents Recieve Gonorrhea vaccine",
          "Outbreak of Zika in Colombo",
          "Stony Brook University experts discuss Zika virus",
          "Lower Hospitalization in Janesville after Varicella Vaccine becomes Mandatory",
          "Rabies Outbreak in Altus",
          "Miami resident suggests Zika precautions",
          "Zika Troubles come to Jaen",
          "Hepatitis B Exposure in Edinburgh",
          "Zika case reported in Reynosa",
          "Schools in Tulare Closed Due to Mumps Outbreak",
          "More Zika patients reported in Chennai",
          "Hepatitis D Keeps Spreading in Danvers",
          "Authorities a Miami",
          "More people in Cranford are infected with Hepatitis A every year",
          "West Nile Virus Hits Monroe",
          "Pneumonia Outbreak in Springville",
          "Zika arrives in San Onofre",
          "Rumors about Rotavirus Spreading in Joliet have been Refuted",
          "More Zika patients reported in Chanthaburi",
          "Lawrenceville is infested with Dengue",
          "Zika case reported in Limoeiro",
          "Ibadan tests new cure for Malaria",
          "Gonorrhea has Arrived in Avon Lake",
          "Pneumonia has not Left Kinshasa",
          "Respiratory Syncytial Virus Hits Henderson",
          "More Zika patients reported in Lakeland",
          "Malaria Vaccine is now Required in Winona",
          "More Patients in Canton are Getting Diagnosed with Norovirus",
          "Ronkonkoma is infested with Chickenpox",
          "Gonorrhea Exposure in Norwalk",
          "How to Avoid Rhinovirus in Medford",
          "Hepatitis D Symptoms Spread all over Evansville",
          "New medicine wipes out Herpes in Bossier City",
          "Pneumonia Exposure in San Jose",
          "Authorities are Worried about the Spread of Mad Cow Disease in Edinburgh",
          "Duluth Patient in Critical Condition after Contracting Rotavirus",
          "Norfolk tests new cure for Herpes",
          "More Zika patients reported in Botucatu",
          "Manassas Encounters Severe Symptoms of Measles",
          "Fayetteville authorities confirmed the spread of HIV",
          "Varicella Exposure in Cambridge",
          "Hepatitis A Vaccine is now Required in Fukushima",
          "Zika Outbreak in South Miami",
          "Hepatitis D Symptoms Spread all over North Bethesda",
          "West Nile Virus has Arrived in Dongguan",
          "Zika arrives in Belmopan",
          "Zika seminars in Yuma County",
          "Rumors about Hepatitis E Spreading in Morristown have been Refuted",
          "Mumps Outbreak in Joplin",
          "Authorities are Worried about the Spread of Mumps in Corona",
          "Schools in Danville Closed Due to Tuberculosis Outbreak",
          "Norovirus Vaccine is now Required in Anaheim",
          "Zika spreads to Caucasia",
          "Case of Malaria Reported in Aurora",
          "Manchester Residents Recieve Influenza vaccine",
          "Zika spreads to Kamphaeng Phet",
          "Rotavirus Vaccine is now Required in Labasa",
          "Zika Outbreak in Mexicali",
          "West Nile Virus Keeps Spreading in Hauppauge",
          "Bronchitis Keeps Spreading in Hayward",
          "Zika spreads to Plant City",
          "Zika Reported in North Miami Beach",
          "More Patients in Kensington are Getting Diagnosed with Varicella",
          "Case of West Nile Virus Reported in Riverside",
          "Northfield Encounters Severe Symptoms of Herpes",
          "The Spread of Respiratory Syncytial Virus in Monroe has been Confirmed",
          "How to Avoid Hepatitis B in Trenton",
          "Zika Reported in Ilopango",
          "Barstow Patient in Critical Condition after Contracting Herpes",
          "Will Gonorrhea vaccine help East Moline?",
          "New medicine wipes out Influenza in Redlands",
          "How to Avoid Contaminated Meat when Visiting Basel",
          "More Zika patients reported in Kampong Speu",
          "Alameda Residents Recieve Rabies vaccine",
          "Mad Cow Disease Detected in Lyon",
          "Memphis Encounters Severe Symptoms of Swine Flu",
          "Zika Troubles come to Delray Beach",
          "How to Avoid Chikungunya in Hampton",
          "Case of Norovirus Reported in Stratford",
          "How to Avoid Hepatitis E in South Bend",
          "Hepatitis C Outbreak in Bethlehem",
          "Davenport is infested with Dengue",
          "Malaria Vaccine is now Required in Elyria",
          "Case of Swine Flu Reported in Tbilisi",
          "Influenza Keeps Spreading in Suffolk",
          "More people in Allentown are infected with Chlamydia every year",
          "Mad Cow Disease re-emerges in Bedford",
          "Authorities are Worried about the Spread of Hepatitis B in Yiwu",
          "Dengue Outbreak in Easton",
          "Varicella has Arrived in Milton",
          "New medicine wipes out Meningitis in Sevilla",
          "Authorities are Worried about the Spread of Varicella in Clovis",
          "More Zika patients reported in Fort Worth",
          "Zika symptoms spotted in Boynton Beach",
          "Outbreak of Zika in Portoviejo",
          "Rumors about Rabies spreading in Jerusalem have been refuted",
          "More Zika patients reported in Indang",
          "Suva authorities confirmed the spread of Rotavirus",
          "Zika Outbreak in Wichita Falls"
         ],
         "lat": [
          25.77427,
          40.71427,
          25.79065,
          -8.05389,
          32.78306,
          29.76328,
          33.749,
          25.82176,
          38.62727,
          29.30135,
          14.6042,
          10.69694,
          34.05223,
          28.53834,
          41.85003,
          27.94752,
          53.24488,
          39.29038,
          42.98339,
          10.82302,
          39.95233,
          52.97633,
          48.85341,
          13.75398,
          -12.97111,
          3.1412,
          16.80528,
          30.43826,
          -31.42797,
          38.98067,
          14.5832,
          13.68935,
          35.15952,
          30.26715,
          -22.72528,
          -12.04318,
          43.70011,
          -27.46794,
          23.13302,
          24.55524,
          49.24966,
          47.60621,
          36.16589,
          17.72751,
          40.58526,
          3.03667,
          14.64072,
          34.69926,
          27.33643,
          0.05621,
          34.8662,
          22.54554,
          14.6488,
          -33.86785,
          19.07283,
          18.51957,
          38.99067,
          28.65195,
          17.49952,
          -22.90556,
          13.71024,
          41.89193,
          37.566,
          51.38764,
          40.76078,
          0.31628,
          -23.38032,
          14.0818,
          -37.814,
          32.46098,
          25.04776,
          27.83975,
          14.62578,
          14.45896,
          27.63864,
          14.21167,
          26.0112,
          3.10726,
          -26.20227,
          -34.61315,
          23.11667,
          25.81954,
          35.6895,
          32.08354,
          52.48142,
          38.84622,
          41.38879,
          16.0009,
          4.142,
          28.63576,
          34.27834,
          25.05823,
          1.4655,
          39.12711,
          22.27832,
          35.22709,
          13.7567,
          -26.20227,
          10.66667,
          11.97444,
          39.80172,
          26.93422,
          25.75482,
          33.50169,
          47.65966,
          -25.29167,
          38.25424,
          30.44332,
          43.77925,
          30.42131,
          27.80058,
          32.74255,
          45.33341,
          40.6501,
          33.11921,
          42.39593,
          19.18095,
          39.75895,
          44.22976,
          29.65163,
          -34.90328,
          42.33143,
          1.28967,
          39.18361,
          43.04812,
          35.7721,
          32.52515,
          42.44063,
          48.58392,
          5.15264,
          46.87215,
          -23.96083,
          47.64218,
          32.22174,
          39.11417,
          43.3601,
          30.22409,
          16.91675,
          40.2737,
          25.89009,
          40.11059,
          40.44062,
          39.73915,
          10.65245,
          40.01499,
          39.084,
          42.41224,
          34.06334,
          40.85216,
          34.13973,
          51.75222,
          32.2207,
          41.82399,
          42.30008,
          30.83334,
          25.72149,
          41.39482,
          32.64005,
          38.86456,
          36.17497,
          26.71534,
          30.69436,
          29.21081,
          46.516,
          13.35,
          37.78088,
          40.6976,
          -35.02692,
          6.33732,
          53.57532,
          33.57786,
          6.45407,
          7.37756,
          52.48142,
          38.62456,
          39.68372,
          39.53491,
          52.52437,
          34.17426,
          3.3223,
          48.40908,
          33.15067,
          34.56454,
          25.86898,
          46.05108,
          51.38132,
          27.77086,
          48.20849,
          -33.28397,
          -37.81819,
          25.97205,
          26.0112,
          17.06542,
          54.77676,
          24.99368,
          32.84727,
          41.76371,
          41.63526,
          36.15398,
          39.76838,
          -35.02692,
          33.45049,
          -17.80309,
          9.08939,
          11.56245,
          53.17477,
          10.96854,
          43.0389,
          51.9225,
          32.73569,
          53.33306,
          11.65376,
          43.17126,
          14.58691,
          11.99339,
          15.7118,
          26.82339,
          41.53815,
          32.44874,
          26.6359,
          -5.795,
          51.38764,
          16.41904,
          35.14778,
          52.7,
          45.41117,
          33.0185,
          39.16533,
          48.78232,
          55.86515,
          33.44838,
          4.73245,
          4.73245,
          26.15952,
          9.08916,
          38.86456,
          52.84361,
          50.90395,
          41.02423,
          46.28569,
          -37.81819,
          42.81424,
          45.17869,
          40.18111,
          9.30472,
          43.61092,
          40.09789,
          1.55,
          41.25626,
          -26.25,
          32.68589,
          41.45282,
          34.73706,
          42.27926,
          -37.90561,
          -11.18143,
          41.83809,
          52.13459,
          26.21286,
          41.22232,
          53.64904,
          35.37329,
          17.41567,
          37.87159,
          29.95465,
          38.97845,
          32.50931,
          32.86013,
          35.86815,
          51.43247,
          38.60317,
          39.14344,
          34.10834,
          10.64917,
          31.54933,
          -32.92953,
          42.12922,
          5.01133,
          14.6228,
          -24.86621,
          52.65,
          38.41925,
          51.45523,
          36.11561,
          -13.05927,
          36.18674,
          41.1176,
          -33.28397,
          49.74747,
          -30.74179,
          11.93381,
          33.58011,
          42.72613,
          41.56476,
          34.07538,
          -37.814,
          -2.233,
          39.48309,
          41.15367,
          26.33981,
          -4.26613,
          26.62168,
          33.04623,
          41.223,
          31.13489,
          30.8703,
          41.50343,
          41.66113,
          12.13282,
          -30.94432,
          40.65788,
          39.52963,
          39.70421,
          33.15809,
          41.40916,
          50.85045,
          -8.00889,
          25.9812,
          41.80843,
          39.17316,
          39.75554,
          40.68278,
          -33.86667,
          11.24802,
          -31.64881,
          34.09529,
          33.5102,
          0.51667,
          36.37285,
          30.50463,
          39.42734,
          30.39603,
          51.16818,
          2.3,
          15.5512,
          40.04115,
          5.01133,
          41.08144,
          27.47629,
          16.88206,
          26.35869,
          27.49893,
          38.65588,
          44.38358,
          28.30468,
          41.43333,
          40.84985,
          46.3168,
          18.23412,
          47.25288,
          42.76537,
          39.80276,
          32.50931,
          42.17114,
          50.73438,
          37.55855,
          34.01945,
          27.44671,
          39.03385,
          28.6,
          40.56233,
          -23.84852,
          42.98339,
          40.9351,
          37.44188,
          17.64944,
          -0.22985,
          39.48623,
          34.25807,
          38.71667,
          4.73245,
          41.38879,
          38.71667,
          4.73245,
          41.38879,
          46.60207,
          1.66711,
          44.27262,
          38.5245,
          42.13066,
          44.15906,
          39.95373,
          -6.16394,
          -6.16394,
          35.43333,
          46.80833,
          48.23251,
          45.70004,
          49.31636,
          33.74761,
          3.93135,
          -33.86667,
          25.53844,
          55.67594,
          -35.28346,
          28.49615,
          26.6359,
          28.81082,
          10.58705,
          -25.29167,
          28.07389,
          42.68279,
          34.63813,
          25.77427,
          15.3275,
          55.95206,
          26.08061,
          36.20773,
          13.08784,
          42.57509,
          25.77427,
          40.65844,
          32.50931,
          40.16523,
          9.73586,
          41.52519,
          12.60961,
          33.95621,
          -7.87472,
          7.37756,
          41.50532,
          -4.32758,
          37.83615,
          28.03947,
          44.04996,
          34.23676,
          40.81538,
          41.1176,
          42.41843,
          37.97476,
          32.51599,
          13.35,
          55.95206,
          34.00288,
          36.84681,
          -22.88583,
          38.75095,
          36.06258,
          43.3601,
          37.75,
          25.77427,
          39.04455,
          23.01797,
          17.25,
          32.72532,
          36.21398,
          37.08423,
          40.74705,
          37.64563,
          33.83529,
          7.98654,
          44.00011,
          53.48095,
          16.48344,
          -16.4332,
          32.62781,
          40.82565,
          37.66882,
          28.01888,
          25.93315,
          -33.92019,
          39.77978,
          44.4583,
          32.50931,
          42.13949,
          13.70167,
          34.89859,
          41.50087,
          34.05557,
          47.55839,
          11.45332,
          37.76521,
          45.74846,
          35.14953,
          26.46146,
          51.41334,
          43.36679,
          41.68338,
          31.70487,
          41.52364,
          41.36838,
          41.69411,
          36.72836,
          40.60843,
          52.13459,
          29.31506,
          38.77428,
          43.51681,
          4.26425,
          36.82523,
          32.72541,
          26.52535,
          -1.05458,
          31.76904,
          14.19528,
          -18.14161,
          33.91371
         ],
         "legendgroup": "",
         "lon": [
          -80.19366,
          -74.00597,
          -80.13005,
          -34.88111,
          -96.80667,
          -95.36327,
          -84.38798,
          -80.24116,
          -90.19789,
          -94.7977,
          120.9822,
          122.56444,
          -118.24368,
          -81.37924,
          -87.65005,
          -82.45843,
          -3.13231,
          -76.61219,
          -81.23304,
          106.62965,
          -75.16379,
          -0.02664,
          2.3488,
          100.50144,
          -38.51083,
          101.68653,
          96.15611,
          -84.28073,
          -62.08266,
          -77.10026,
          121.0409,
          -89.18718,
          -84.87661,
          -97.74306,
          -47.64917,
          -77.02824,
          -79.4163,
          153.02809,
          -82.38304,
          -81.78163,
          -123.11934,
          -122.33207,
          -86.78444,
          -64.74698,
          -105.08442,
          101.44333,
          -90.51327,
          -86.74833,
          -82.53065,
          32.47949,
          -92.11015,
          114.0683,
          121.0509,
          151.20732,
          72.88261,
          73.85535,
          -77.02609,
          77.23149,
          -88.19756,
          -47.06083,
          -89.13989,
          12.51133,
          126.9784,
          0.50546,
          -111.89105,
          32.58219,
          150.50595,
          -87.20681,
          144.96332,
          -84.98771,
          121.53185,
          -82.79121,
          121.12251,
          120.93851,
          -80.39727,
          121.16528,
          -80.14949,
          101.60671,
          28.04363,
          -58.37723,
          113.25,
          -80.35533,
          139.69171,
          -81.09983,
          -1.89983,
          -77.30637,
          2.15899,
          120.4023,
          -73.62664,
          77.22445,
          -119.29317,
          -77.34306,
          103.7578,
          -84.51439,
          114.17469,
          -80.84313,
          121.0584,
          28.04363,
          122.95,
          -86.09417,
          -89.64371,
          -80.09421,
          -80.32727,
          -117.66255,
          -117.42908,
          -49.22417,
          -85.75941,
          -91.18747,
          11.24626,
          -87.21691,
          -97.39638,
          -117.03142,
          -79.21632,
          -73.94958,
          -117.08642,
          -71.17867,
          -96.1429,
          -84.19161,
          -76.48098,
          -82.32483,
          -56.18816,
          -83.04575,
          103.85007,
          -96.57167,
          -76.14742,
          -78.63861,
          -93.75018,
          -76.49661,
          7.74553,
          -75.03624,
          -113.994,
          -46.33361,
          6.85385,
          -110.92648,
          -94.62746,
          -80.31269,
          -92.01984,
          -89.91898,
          -76.88442,
          -80.18671,
          -88.20727,
          -79.99589,
          -104.9847,
          -61.38878,
          -105.27055,
          -77.15276,
          -82.18494,
          -117.65089,
          14.26811,
          -118.03534,
          -1.25596,
          -98.20226,
          -71.41283,
          -83.01654,
          -83.28032,
          -80.26838,
          -73.45401,
          -117.0842,
          -77.18776,
          -115.13722,
          -80.05337,
          -88.04305,
          -81.02283,
          6.63282,
          123.55,
          -90.42179,
          -74.2632,
          117.88369,
          -75.55795,
          10.01534,
          -101.85517,
          3.39467,
          3.90591,
          -1.89983,
          -76.93914,
          -75.74966,
          -119.75269,
          13.41053,
          -97.14363,
          -76.2348,
          2.70177,
          -96.82361,
          -92.58683,
          -80.21699,
          14.50513,
          1.38617,
          -82.67927,
          16.37208,
          149.10018,
          145.00176,
          -100.45029,
          -80.14949,
          -96.72365,
          -1.57566,
          121.29696,
          -117.2742,
          -72.68509,
          -70.92701,
          -95.99277,
          -86.15804,
          117.88369,
          -88.81961,
          177.41617,
          -79.3831,
          104.91601,
          5.42244,
          -74.78132,
          -87.90647,
          4.47917,
          -97.10807,
          -6.24889,
          78.15538,
          -79.24267,
          121.0614,
          105.4635,
          121.1061,
          -80.13865,
          -72.80704,
          -99.73314,
          -80.09615,
          -35.20944,
          0.50546,
          101.16056,
          -114.5683,
          -2.51667,
          -75.69812,
          -80.17565,
          -86.52639,
          9.17702,
          -4.25763,
          -112.07404,
          -74.26419,
          -74.26419,
          -97.99084,
          -79.52809,
          -77.18776,
          -8.98639,
          -1.40428,
          -80.66285,
          -119.28446,
          145.00176,
          -73.93957,
          5.71479,
          44.51361,
          -75.39778,
          3.87723,
          -74.21764,
          110.33333,
          -95.94043,
          28.4,
          -117.18309,
          -82.18237,
          -82.25428,
          -71.41617,
          145.00279,
          -40.51372,
          -87.65116,
          -0.46632,
          -80.24977,
          -73.0565,
          -1.78416,
          -119.01871,
          102.78589,
          -122.27275,
          -90.07507,
          -76.49218,
          -92.1193,
          -97.36391,
          -83.56184,
          6.76516,
          -76.93858,
          -77.20137,
          -117.28977,
          -61.49889,
          -97.14667,
          151.7801,
          -80.08506,
          -9.0388,
          121.0897,
          152.3479,
          -0.48333,
          -82.44515,
          -2.59665,
          -97.05837,
          -76.35269,
          -94.12881,
          -73.4079,
          149.10018,
          13.37759,
          -59.64517,
          79.82979,
          -85.07661,
          -87.78285,
          -87.53893,
          -84.29409,
          144.96332,
          -80.91039,
          -88.37283,
          -81.35789,
          -81.7787,
          15.28318,
          -81.84059,
          -96.99417,
          -111.97383,
          -97.77561,
          120.0933,
          -74.01042,
          -91.53017,
          -86.2504,
          -59.78832,
          -73.83625,
          -119.8138,
          -86.39944,
          -117.35059,
          -75.6649,
          4.34878,
          -34.85528,
          -80.14838,
          -72.24952,
          -77.27165,
          -105.2211,
          46.36056,
          150.95,
          75.7804,
          -60.70868,
          -118.12701,
          36.29128,
          101.44167,
          -94.20882,
          -90.46293,
          -75.23408,
          -88.88531,
          6.93093,
          111.81667,
          120.8147,
          -86.87445,
          -9.0388,
          -81.51901,
          -99.51639,
          121.58694,
          -80.0831,
          -82.57482,
          -90.30928,
          -89.81735,
          -81.41667,
          -96.49808,
          -73.86641,
          -79.46633,
          -66.0485,
          -122.44429,
          -71.46757,
          -105.08748,
          -92.1193,
          -87.84451,
          7.09549,
          -122.27108,
          -118.49119,
          -80.32561,
          125.75432,
          -81.33924,
          -74.13986,
          151.25775,
          -81.23304,
          -74.01903,
          -122.14302,
          95.45705,
          -78.52495,
          -75.02573,
          -88.70464,
          -9.13333,
          -74.26419,
          2.15899,
          -9.13333,
          -74.26419,
          2.15899,
          -120.5059,
          101.44316,
          -121.17392,
          -90.35734,
          -70.91616,
          -94.00915,
          -74.19792,
          39.19793,
          39.19793,
          139.65,
          -100.78374,
          -101.29627,
          -73.64732,
          -123.06934,
          -116.97307,
          -76.48481,
          150.95,
          -80.40894,
          12.56553,
          149.12807,
          77.53601,
          -80.09615,
          -81.87786,
          -61.13008,
          -49.22417,
          -82.43902,
          -89.01872,
          -99.33398,
          -80.19366,
          120.9192,
          -3.19648,
          -98.28835,
          -119.34734,
          80.27847,
          -70.93005,
          -80.19366,
          -74.29959,
          -92.1193,
          -111.61075,
          -75.52626,
          -88.0834,
          102.10447,
          -83.98796,
          -35.45028,
          3.90591,
          -82.0282,
          15.31357,
          -87.59001,
          -81.9498,
          -91.63932,
          -84.49076,
          -73.11233,
          -73.4079,
          -71.10616,
          -87.55585,
          -93.73212,
          123.55,
          -3.19648,
          -84.14464,
          -76.28522,
          -48.445,
          -77.47527,
          -94.15743,
          -80.31269,
          140.46667,
          -80.19366,
          -77.11887,
          113.74866,
          -88.76667,
          -114.6244,
          -83.29489,
          -94.51328,
          -73.86014,
          -84.77217,
          -117.9145,
          -75.19349,
          -79.46632,
          -2.23743,
          99.52153,
          179.36451,
          -115.45446,
          -73.20261,
          -122.0808,
          -82.11469,
          -80.16255,
          151.22241,
          -84.1241,
          -93.1616,
          -92.1193,
          -83.17826,
          -89.10944,
          -117.02282,
          -90.4443,
          -117.18254,
          7.57327,
          104.52085,
          -122.24164,
          4.84671,
          -90.04898,
          -80.07282,
          -0.36701,
          -80.94972,
          -86.25001,
          35.20376,
          -90.57764,
          -82.10765,
          44.83368,
          -76.58496,
          -75.49018,
          -0.46632,
          120.07676,
          -76.07633,
          -79.88294,
          -75.93085,
          -119.70292,
          -97.32085,
          -80.06643,
          -80.45445,
          35.21633,
          120.87694,
          178.44149,
          -98.49339
         ],
         "marker": {
          "color": [
           0,
           0,
           0,
           1,
           0,
           0,
           0,
           0,
           0,
           0,
           2,
           3,
           4,
           0,
           0,
           0,
           5,
           0,
           0,
           6,
           0,
           5,
           5,
           6,
           7,
           8,
           9,
           0,
           10,
           0,
           2,
           11,
           0,
           0,
           12,
           13,
           0,
           14,
           0,
           0,
           15,
           15,
           0,
           16,
           17,
           8,
           11,
           0,
           0,
           18,
           0,
           19,
           2,
           20,
           21,
           21,
           0,
           22,
           11,
           12,
           11,
           23,
           24,
           5,
           25,
           18,
           14,
           11,
           26,
           0,
           27,
           0,
           2,
           2,
           0,
           2,
           0,
           8,
           28,
           29,
           19,
           0,
           30,
           0,
           5,
           0,
           5,
           2,
           31,
           22,
           4,
           0,
           8,
           0,
           19,
           0,
           2,
           28,
           3,
           11,
           0,
           0,
           0,
           4,
           15,
           12,
           0,
           0,
           23,
           0,
           0,
           4,
           0,
           0,
           4,
           0,
           32,
           0,
           0,
           0,
           29,
           0,
           8,
           0,
           0,
           0,
           0,
           0,
           5,
           31,
           15,
           12,
           5,
           4,
           0,
           0,
           0,
           11,
           0,
           0,
           0,
           0,
           17,
           33,
           17,
           0,
           0,
           4,
           23,
           4,
           5,
           0,
           0,
           0,
           0,
           0,
           0,
           4,
           0,
           4,
           0,
           0,
           0,
           5,
           2,
           0,
           0,
           34,
           31,
           35,
           0,
           36,
           36,
           5,
           0,
           0,
           4,
           35,
           0,
           31,
           5,
           0,
           0,
           0,
           37,
           5,
           0,
           37,
           20,
           26,
           0,
           0,
           32,
           5,
           27,
           4,
           0,
           0,
           0,
           0,
           34,
           0,
           38,
           39,
           6,
           5,
           31,
           0,
           5,
           0,
           5,
           40,
           0,
           2,
           6,
           2,
           0,
           0,
           0,
           0,
           1,
           5,
           41,
           4,
           5,
           0,
           0,
           0,
           5,
           5,
           4,
           31,
           31,
           0,
           39,
           0,
           5,
           5,
           0,
           15,
           26,
           0,
           5,
           42,
           31,
           5,
           0,
           43,
           0,
           28,
           4,
           0,
           0,
           0,
           26,
           7,
           0,
           5,
           0,
           0,
           5,
           4,
           41,
           4,
           0,
           0,
           0,
           0,
           0,
           5,
           0,
           0,
           4,
           33,
           0,
           20,
           0,
           44,
           2,
           14,
           5,
           0,
           5,
           0,
           13,
           0,
           0,
           20,
           37,
           10,
           40,
           0,
           0,
           0,
           0,
           26,
           45,
           0,
           0,
           0,
           46,
           0,
           0,
           25,
           0,
           47,
           0,
           0,
           11,
           10,
           0,
           4,
           0,
           4,
           0,
           5,
           1,
           0,
           0,
           0,
           17,
           42,
           20,
           40,
           10,
           4,
           48,
           8,
           0,
           0,
           0,
           0,
           5,
           43,
           2,
           0,
           44,
           0,
           0,
           2,
           0,
           0,
           0,
           0,
           0,
           0,
           0,
           0,
           16,
           15,
           0,
           17,
           0,
           0,
           5,
           4,
           4,
           0,
           24,
           0,
           0,
           14,
           0,
           0,
           4,
           9,
           45,
           0,
           0,
           49,
           31,
           5,
           49,
           31,
           5,
           15,
           8,
           15,
           0,
           0,
           0,
           0,
           50,
           50,
           30,
           51,
           51,
           0,
           15,
           4,
           31,
           20,
           0,
           35,
           20,
           22,
           0,
           0,
           33,
           12,
           0,
           0,
           0,
           0,
           2,
           5,
           0,
           4,
           40,
           0,
           0,
           0,
           0,
           25,
           31,
           0,
           6,
           0,
           1,
           36,
           0,
           46,
           0,
           0,
           0,
           0,
           0,
           0,
           0,
           0,
           0,
           2,
           5,
           0,
           0,
           12,
           0,
           0,
           0,
           30,
           0,
           0,
           19,
           11,
           4,
           0,
           0,
           0,
           0,
           4,
           31,
           0,
           5,
           41,
           38,
           4,
           0,
           4,
           0,
           0,
           20,
           0,
           0,
           0,
           0,
           11,
           4,
           0,
           4,
           5,
           6,
           4,
           5,
           0,
           0,
           5,
           0,
           0,
           48,
           0,
           0,
           42,
           0,
           0,
           5,
           47,
           0,
           0,
           31,
           4,
           0,
           0,
           45,
           48,
           2,
           38,
           0
          ],
          "coloraxis": "coloraxis",
          "size": 12,
          "symbol": "diamond"
         },
         "mode": "markers",
         "name": "",
         "showlegend": false,
         "type": "scattergeo"
        }
       ],
       "layout": {
        "geo": {
         "center": {},
         "domain": {
          "x": [
           0,
           1
          ],
          "y": [
           0,
           1
          ]
         },
         "projection": {
          "type": "robinson"
         },
         "showcountries": true
        },
        "legend": {
         "tracegroupgap": 0
        },
        "template": {
         "data": {
          "bar": [
           {
            "error_x": {
             "color": "#2a3f5f"
            },
            "error_y": {
             "color": "#2a3f5f"
            },
            "marker": {
             "line": {
              "color": "#E5ECF6",
              "width": 0.5
             },
             "pattern": {
              "fillmode": "overlay",
              "size": 10,
              "solidity": 0.2
             }
            },
            "type": "bar"
           }
          ],
          "barpolar": [
           {
            "marker": {
             "line": {
              "color": "#E5ECF6",
              "width": 0.5
             },
             "pattern": {
              "fillmode": "overlay",
              "size": 10,
              "solidity": 0.2
             }
            },
            "type": "barpolar"
           }
          ],
          "carpet": [
           {
            "aaxis": {
             "endlinecolor": "#2a3f5f",
             "gridcolor": "white",
             "linecolor": "white",
             "minorgridcolor": "white",
             "startlinecolor": "#2a3f5f"
            },
            "baxis": {
             "endlinecolor": "#2a3f5f",
             "gridcolor": "white",
             "linecolor": "white",
             "minorgridcolor": "white",
             "startlinecolor": "#2a3f5f"
            },
            "type": "carpet"
           }
          ],
          "choropleth": [
           {
            "colorbar": {
             "outlinewidth": 0,
             "ticks": ""
            },
            "type": "choropleth"
           }
          ],
          "contour": [
           {
            "colorbar": {
             "outlinewidth": 0,
             "ticks": ""
            },
            "colorscale": [
             [
              0,
              "#0d0887"
             ],
             [
              0.1111111111111111,
              "#46039f"
             ],
             [
              0.2222222222222222,
              "#7201a8"
             ],
             [
              0.3333333333333333,
              "#9c179e"
             ],
             [
              0.4444444444444444,
              "#bd3786"
             ],
             [
              0.5555555555555556,
              "#d8576b"
             ],
             [
              0.6666666666666666,
              "#ed7953"
             ],
             [
              0.7777777777777778,
              "#fb9f3a"
             ],
             [
              0.8888888888888888,
              "#fdca26"
             ],
             [
              1,
              "#f0f921"
             ]
            ],
            "type": "contour"
           }
          ],
          "contourcarpet": [
           {
            "colorbar": {
             "outlinewidth": 0,
             "ticks": ""
            },
            "type": "contourcarpet"
           }
          ],
          "heatmap": [
           {
            "colorbar": {
             "outlinewidth": 0,
             "ticks": ""
            },
            "colorscale": [
             [
              0,
              "#0d0887"
             ],
             [
              0.1111111111111111,
              "#46039f"
             ],
             [
              0.2222222222222222,
              "#7201a8"
             ],
             [
              0.3333333333333333,
              "#9c179e"
             ],
             [
              0.4444444444444444,
              "#bd3786"
             ],
             [
              0.5555555555555556,
              "#d8576b"
             ],
             [
              0.6666666666666666,
              "#ed7953"
             ],
             [
              0.7777777777777778,
              "#fb9f3a"
             ],
             [
              0.8888888888888888,
              "#fdca26"
             ],
             [
              1,
              "#f0f921"
             ]
            ],
            "type": "heatmap"
           }
          ],
          "heatmapgl": [
           {
            "colorbar": {
             "outlinewidth": 0,
             "ticks": ""
            },
            "colorscale": [
             [
              0,
              "#0d0887"
             ],
             [
              0.1111111111111111,
              "#46039f"
             ],
             [
              0.2222222222222222,
              "#7201a8"
             ],
             [
              0.3333333333333333,
              "#9c179e"
             ],
             [
              0.4444444444444444,
              "#bd3786"
             ],
             [
              0.5555555555555556,
              "#d8576b"
             ],
             [
              0.6666666666666666,
              "#ed7953"
             ],
             [
              0.7777777777777778,
              "#fb9f3a"
             ],
             [
              0.8888888888888888,
              "#fdca26"
             ],
             [
              1,
              "#f0f921"
             ]
            ],
            "type": "heatmapgl"
           }
          ],
          "histogram": [
           {
            "marker": {
             "pattern": {
              "fillmode": "overlay",
              "size": 10,
              "solidity": 0.2
             }
            },
            "type": "histogram"
           }
          ],
          "histogram2d": [
           {
            "colorbar": {
             "outlinewidth": 0,
             "ticks": ""
            },
            "colorscale": [
             [
              0,
              "#0d0887"
             ],
             [
              0.1111111111111111,
              "#46039f"
             ],
             [
              0.2222222222222222,
              "#7201a8"
             ],
             [
              0.3333333333333333,
              "#9c179e"
             ],
             [
              0.4444444444444444,
              "#bd3786"
             ],
             [
              0.5555555555555556,
              "#d8576b"
             ],
             [
              0.6666666666666666,
              "#ed7953"
             ],
             [
              0.7777777777777778,
              "#fb9f3a"
             ],
             [
              0.8888888888888888,
              "#fdca26"
             ],
             [
              1,
              "#f0f921"
             ]
            ],
            "type": "histogram2d"
           }
          ],
          "histogram2dcontour": [
           {
            "colorbar": {
             "outlinewidth": 0,
             "ticks": ""
            },
            "colorscale": [
             [
              0,
              "#0d0887"
             ],
             [
              0.1111111111111111,
              "#46039f"
             ],
             [
              0.2222222222222222,
              "#7201a8"
             ],
             [
              0.3333333333333333,
              "#9c179e"
             ],
             [
              0.4444444444444444,
              "#bd3786"
             ],
             [
              0.5555555555555556,
              "#d8576b"
             ],
             [
              0.6666666666666666,
              "#ed7953"
             ],
             [
              0.7777777777777778,
              "#fb9f3a"
             ],
             [
              0.8888888888888888,
              "#fdca26"
             ],
             [
              1,
              "#f0f921"
             ]
            ],
            "type": "histogram2dcontour"
           }
          ],
          "mesh3d": [
           {
            "colorbar": {
             "outlinewidth": 0,
             "ticks": ""
            },
            "type": "mesh3d"
           }
          ],
          "parcoords": [
           {
            "line": {
             "colorbar": {
              "outlinewidth": 0,
              "ticks": ""
             }
            },
            "type": "parcoords"
           }
          ],
          "pie": [
           {
            "automargin": true,
            "type": "pie"
           }
          ],
          "scatter": [
           {
            "fillpattern": {
             "fillmode": "overlay",
             "size": 10,
             "solidity": 0.2
            },
            "type": "scatter"
           }
          ],
          "scatter3d": [
           {
            "line": {
             "colorbar": {
              "outlinewidth": 0,
              "ticks": ""
             }
            },
            "marker": {
             "colorbar": {
              "outlinewidth": 0,
              "ticks": ""
             }
            },
            "type": "scatter3d"
           }
          ],
          "scattercarpet": [
           {
            "marker": {
             "colorbar": {
              "outlinewidth": 0,
              "ticks": ""
             }
            },
            "type": "scattercarpet"
           }
          ],
          "scattergeo": [
           {
            "marker": {
             "colorbar": {
              "outlinewidth": 0,
              "ticks": ""
             }
            },
            "type": "scattergeo"
           }
          ],
          "scattergl": [
           {
            "marker": {
             "colorbar": {
              "outlinewidth": 0,
              "ticks": ""
             }
            },
            "type": "scattergl"
           }
          ],
          "scattermapbox": [
           {
            "marker": {
             "colorbar": {
              "outlinewidth": 0,
              "ticks": ""
             }
            },
            "type": "scattermapbox"
           }
          ],
          "scatterpolar": [
           {
            "marker": {
             "colorbar": {
              "outlinewidth": 0,
              "ticks": ""
             }
            },
            "type": "scatterpolar"
           }
          ],
          "scatterpolargl": [
           {
            "marker": {
             "colorbar": {
              "outlinewidth": 0,
              "ticks": ""
             }
            },
            "type": "scatterpolargl"
           }
          ],
          "scatterternary": [
           {
            "marker": {
             "colorbar": {
              "outlinewidth": 0,
              "ticks": ""
             }
            },
            "type": "scatterternary"
           }
          ],
          "surface": [
           {
            "colorbar": {
             "outlinewidth": 0,
             "ticks": ""
            },
            "colorscale": [
             [
              0,
              "#0d0887"
             ],
             [
              0.1111111111111111,
              "#46039f"
             ],
             [
              0.2222222222222222,
              "#7201a8"
             ],
             [
              0.3333333333333333,
              "#9c179e"
             ],
             [
              0.4444444444444444,
              "#bd3786"
             ],
             [
              0.5555555555555556,
              "#d8576b"
             ],
             [
              0.6666666666666666,
              "#ed7953"
             ],
             [
              0.7777777777777778,
              "#fb9f3a"
             ],
             [
              0.8888888888888888,
              "#fdca26"
             ],
             [
              1,
              "#f0f921"
             ]
            ],
            "type": "surface"
           }
          ],
          "table": [
           {
            "cells": {
             "fill": {
              "color": "#EBF0F8"
             },
             "line": {
              "color": "white"
             }
            },
            "header": {
             "fill": {
              "color": "#C8D4E3"
             },
             "line": {
              "color": "white"
             }
            },
            "type": "table"
           }
          ]
         },
         "layout": {
          "annotationdefaults": {
           "arrowcolor": "#2a3f5f",
           "arrowhead": 0,
           "arrowwidth": 1
          },
          "autotypenumbers": "strict",
          "coloraxis": {
           "colorbar": {
            "outlinewidth": 0,
            "ticks": ""
           }
          },
          "colorscale": {
           "diverging": [
            [
             0,
             "#8e0152"
            ],
            [
             0.1,
             "#c51b7d"
            ],
            [
             0.2,
             "#de77ae"
            ],
            [
             0.3,
             "#f1b6da"
            ],
            [
             0.4,
             "#fde0ef"
            ],
            [
             0.5,
             "#f7f7f7"
            ],
            [
             0.6,
             "#e6f5d0"
            ],
            [
             0.7,
             "#b8e186"
            ],
            [
             0.8,
             "#7fbc41"
            ],
            [
             0.9,
             "#4d9221"
            ],
            [
             1,
             "#276419"
            ]
           ],
           "sequential": [
            [
             0,
             "#0d0887"
            ],
            [
             0.1111111111111111,
             "#46039f"
            ],
            [
             0.2222222222222222,
             "#7201a8"
            ],
            [
             0.3333333333333333,
             "#9c179e"
            ],
            [
             0.4444444444444444,
             "#bd3786"
            ],
            [
             0.5555555555555556,
             "#d8576b"
            ],
            [
             0.6666666666666666,
             "#ed7953"
            ],
            [
             0.7777777777777778,
             "#fb9f3a"
            ],
            [
             0.8888888888888888,
             "#fdca26"
            ],
            [
             1,
             "#f0f921"
            ]
           ],
           "sequentialminus": [
            [
             0,
             "#0d0887"
            ],
            [
             0.1111111111111111,
             "#46039f"
            ],
            [
             0.2222222222222222,
             "#7201a8"
            ],
            [
             0.3333333333333333,
             "#9c179e"
            ],
            [
             0.4444444444444444,
             "#bd3786"
            ],
            [
             0.5555555555555556,
             "#d8576b"
            ],
            [
             0.6666666666666666,
             "#ed7953"
            ],
            [
             0.7777777777777778,
             "#fb9f3a"
            ],
            [
             0.8888888888888888,
             "#fdca26"
            ],
            [
             1,
             "#f0f921"
            ]
           ]
          },
          "colorway": [
           "#636efa",
           "#EF553B",
           "#00cc96",
           "#ab63fa",
           "#FFA15A",
           "#19d3f3",
           "#FF6692",
           "#B6E880",
           "#FF97FF",
           "#FECB52"
          ],
          "font": {
           "color": "#2a3f5f"
          },
          "geo": {
           "bgcolor": "white",
           "lakecolor": "white",
           "landcolor": "#E5ECF6",
           "showlakes": true,
           "showland": true,
           "subunitcolor": "white"
          },
          "hoverlabel": {
           "align": "left"
          },
          "hovermode": "closest",
          "mapbox": {
           "style": "light"
          },
          "paper_bgcolor": "white",
          "plot_bgcolor": "#E5ECF6",
          "polar": {
           "angularaxis": {
            "gridcolor": "white",
            "linecolor": "white",
            "ticks": ""
           },
           "bgcolor": "#E5ECF6",
           "radialaxis": {
            "gridcolor": "white",
            "linecolor": "white",
            "ticks": ""
           }
          },
          "scene": {
           "xaxis": {
            "backgroundcolor": "#E5ECF6",
            "gridcolor": "white",
            "gridwidth": 2,
            "linecolor": "white",
            "showbackground": true,
            "ticks": "",
            "zerolinecolor": "white"
           },
           "yaxis": {
            "backgroundcolor": "#E5ECF6",
            "gridcolor": "white",
            "gridwidth": 2,
            "linecolor": "white",
            "showbackground": true,
            "ticks": "",
            "zerolinecolor": "white"
           },
           "zaxis": {
            "backgroundcolor": "#E5ECF6",
            "gridcolor": "white",
            "gridwidth": 2,
            "linecolor": "white",
            "showbackground": true,
            "ticks": "",
            "zerolinecolor": "white"
           }
          },
          "shapedefaults": {
           "line": {
            "color": "#2a3f5f"
           }
          },
          "ternary": {
           "aaxis": {
            "gridcolor": "white",
            "linecolor": "white",
            "ticks": ""
           },
           "baxis": {
            "gridcolor": "white",
            "linecolor": "white",
            "ticks": ""
           },
           "bgcolor": "#E5ECF6",
           "caxis": {
            "gridcolor": "white",
            "linecolor": "white",
            "ticks": ""
           }
          },
          "title": {
           "x": 0.05
          },
          "xaxis": {
           "automargin": true,
           "gridcolor": "white",
           "linecolor": "white",
           "ticks": "",
           "title": {
            "standoff": 15
           },
           "zerolinecolor": "white",
           "zerolinewidth": 2
          },
          "yaxis": {
           "automargin": true,
           "gridcolor": "white",
           "linecolor": "white",
           "ticks": "",
           "title": {
            "standoff": 15
           },
           "zerolinecolor": "white",
           "zerolinewidth": 2
          }
         }
        },
        "title": {
         "text": "DBScan clusters"
        }
       }
      },
      "text/html": [
       "<div>                            <div id=\"2eafbea3-ff3e-45ce-ab03-971b73fae629\" class=\"plotly-graph-div\" style=\"height:525px; width:100%;\"></div>            <script type=\"text/javascript\">                require([\"plotly\"], function(Plotly) {                    window.PLOTLYENV=window.PLOTLYENV || {};                                    if (document.getElementById(\"2eafbea3-ff3e-45ce-ab03-971b73fae629\")) {                    Plotly.newPlot(                        \"2eafbea3-ff3e-45ce-ab03-971b73fae629\",                        [{\"geo\":\"geo\",\"hovertemplate\":\"\\u003cextra\\u003e\\u003c\\u002fextra\\u003e\",\"legendgroup\":\"\",\"marker\":{\"color\":\"#636efa\",\"symbol\":\"circle\"},\"mode\":\"markers\",\"name\":\"\",\"showlegend\":false,\"type\":\"scattergeo\"},{\"geo\":\"geo\",\"hovertemplate\":\"\\u003cb\\u003e%{hovertext}\\u003c\\u002fb\\u003e\\u003cbr\\u003e\\u003cbr\\u003elatitude=%{lat}\\u003cbr\\u003elongitude=%{lon}\\u003cbr\\u003ecluster_kmeans=%{marker.color}\\u003cextra\\u003e\\u003c\\u002fextra\\u003e\",\"hovertext\":[\"Zika Outbreak Hits Miami\",\"Could Zika Reach New York City?\",\"First Case of Zika in Miami Beach\",\"Mystery Virus Spreads in Recife, Brazil\",\"Dallas man comes down with case of Zika\",\"Zika Concerns are Spreading in Houston\",\"The CDC in Atlanta is Growing Worried\",\"Brownsville teen contracts Zika virus\",\"Mosquito control efforts in St. Louis take new tactics with Zika threat\",\"Flu outbreak in Galveston, Texas\",\"Zika alert aEUR\\\" Manila now threatened\",\"Zika afflicts 7 in Iloilo City\",\"New Los Angeles Hairstyle goes Viral\",\"Orlando volunteers aid Zika research\",\"Chicago's First Zika Case Confirmed\",\"Tampa Bay Area Zika Case Count Climbs\",\"Bad Water Leads to Sickness in Flint, Michigan\",\"Baltimore plans for Zika virus\",\"London Health Unit Tracks Mad Cow Disease\",\"Zika cases in Vietnam's Ho Chi Minh City surge\",\"Philadelphia experts track pandemic\",\"Flu season hits Boston\",\"Scientists in Paris to look for answers\",\"Thailand-Zika Virus in Bangkok\",\"Zika spreading to Salvador\",\"Kuala Lumpur is Hit By Zika Threat\",\"First Zika case confirmed in Yangon\",\"Tallahassee Doctors Discuss Zika Virus\",\"Zika Virus Reaches San Francisco\",\"New Vaccine on Trial in Bethesda District\",\"Mandaluyong City under Siege by Virus\",\"Zika worries in San Salvador\",\"Zika virus reported in Cleveland\",\"More Zika patients reported in Austin\",\"Zika outbreak in Piracicaba, Brazil\",\"Lima tries to address Zika Concerns\",\"More people in Toronto are infected with Hepatitis E every year\",\"Brisbane is infested with Meningitis\",\"Zika Virus Transmission Detected in Havana\",\"Zika symtomps spotted in Key West\",\"Case of Measles Reported in Vancouver\",\"Seattle scientists get $500,000 grant to pursue Zika vaccine New 7:50 pm\",\"Nashville takes precautions against Zika\",\"Saint Croix under Zika threat\",\"Fort Collins Encounters Severe Symptoms of Gonorrhea\",\"Zika surfaces in Klang, Malaysia\",\"Rumors about Meningitis spreading in Guatemala City have been refuted\",\"Madison lab developing vaccine against Zika virus [The Wisconsin State Journal]\",\"New Zika Case Confirmed in Sarasota County\",\"Lower Hospitalization in Entebbe after Rabies Vaccine becomes Mandatory\",\"Jacksonville man hit by Zika\",\"Schools in Shenzhen Closed Due to Malaria Outbreak\",\"More Quezon City Zika Transmissions\",\"Schools in Sydney Closed Due to Respiratory Syncytial Virus Outbreak\",\"Mumbai's Health Minister warns of more Zika cases\",\"Pune woman diagnosed with Zika\",\"Authorities are Worried about the Spread of Bronchitis in Silver Spring\",\"Zika: Delhi for strict monitoring\",\"Belize City under threat from Zika\",\"Student sick in Campinas, Brazil\",\"More Zika cases in Soyapango\",\"Authorities are Worried about the Spread of Mad Cow Disease in Rome\",\"Seoul confirms 14th Zika infection\",\"Rochester authorities confirmed the spread of Dengue\",\"Salt Lake City tests new cure for Respiratory Syncytial Virus\",\"Ebola outbreak in Kampala\",\"Precautionary Zika measures in Rockhampton\",\"Zika arrives in Tegucigalpa\",\"Case of Hepatitis E Reported in Melbourne\",\"First Columbus Zika case\",\"New medicine wipes out Tuberculosis in Taipei\",\"Zika Patient in Seminole, Florida\",\"Antipolo under threat from Zika Virus\",\"Spreading Zika reaches Bacoor\",\"Can Zika make it here to Vero Beach?\",\"Zika afflicts patient in Calamba\",\"Hollywood Outbreak Film Premieres\",\"Petaling Jaya man ill from Zika\",\"Malaria is Spreading in Johannesburg\",\"Authorities are Worried about the Spread of Norovirus in Buenos Aires\",\"Guangzhou Patient in Critical Condition after Contracting Swine Flu\",\"Doral hit by Deadly Virus\",\"Tokyo Encounters Severe Symptoms of Meningitis\",\"Authorities are Worried about the Spread of Influenza in Savannah\",\"Birmingham Residents Recieve Rabies vaccine\",\"HIV has Arrived in Fairfax\",\"Spanish Flu Outbreak in Barcelona\",\"Santa Barbara tests new cure for Hepatitis C\",\"Villavicencio under Zika threat\",\"New Delhi Addressing Zika Concerns\",\"New medicine wipes out West Nile Virus in Ventura\",\"Meningitis re-emerges in Nassau\",\"Zika reaches Johor Bahru, Malaysia\",\"First Zika Case in Cincinnati\",\"Norovirus Exposure in Hong Kong\",\"Zika cases concern Charlotte residents\",\"Batangas Tourism Takes a Hit as Virus Spreads\",\"Johannesburg Patient in Critical Condition after Contracting Pneumonia\",\"Outbreak of Zika in Bacolod City\",\"Respiratory Syncytial Virus Keeps Spreading in Masaya\",\"Spike of Pneumonia Cases in Springfield\",\"Zika case reported in Jupiter\",\"Zika virus confirmed in Westchester\",\"Rumors about Hepatitis D Spreading in San Juan Capistrano have been Refuted\",\"The Spread of Measles in Spokane has been Confirmed\",\"Zika symptoms spotted in Colombo\",\"West Nile Virus Outbreak in Louisville\",\"New details in Baton Rouge cop killings\",\"Hepatitis B has not Left Florence\",\"More Zika patients reported in Pensacola\",\"Outbreak of Zika in Corpus Christi\",\"How to Avoid Rhinovirus in Lemon Grove\",\"Rumors about Rotavirus spreading in Huntsville have been refuted\",\"Measles has not Left Brooklyn\",\"Escondido neighborhood to get sprayed for Zika virus\",\"Zika in Belmont, Belmont worry\",\"Veracruz hit by Zika Concerns\",\"Case of Mumps Reported in Dayton\",\"Authorities are Worried about the Spread of Dengue in Kingston\",\"Gainesville Deals with Disease Concerns\",\"Montevideo Encounters Severe Symptoms of Rotavirus\",\"Varicella Keeps Spreading in Detroit\",\"Zika cases in Singapore reach 393\",\"Manhattan Residents Recieve HIV vaccine\",\"Rumors about Dengue Spreading in Syracuse have been Refuted\",\"Will Norovirus vaccine help Raleigh?\",\"How to Avoid Gonorrhea in Shreveport\",\"Ithaca is infested with Dengue\",\"Will MCD vaccine help Strasbourg?\",\"New medicine wipes out Measles in Fresno\",\"BREAKING aEUR\\\" Zika in Missoula\",\"Zika arrives in Santos\",\"Sick Livestock Leads to Serious Trouble for Belfort\",\"New medicine wipes out Chikungunya in Tucson\",\"Hepatitis B Comes to Kansas City\",\"More Patients in Cambridge are Getting Diagnosed with Chickenpox\",\"Is Lafayette prepared to combat Zika?\",\"Zika arrives in San Benito\",\"Syphilis Outbreak in Harrisburg\",\"Zika Arrives in North Miami\",\"Urbana Encounters Severe Symptoms of Meningitis\",\"Pittsburgh Residents Recieve Norovirus vaccine\",\"Chikungunya Hits Denver\",\"Zika case recorded in Tunapuna A\\u003e\\u003e\",\"HIV Keeps Spreading in Boulder\",\"Will Tuberculosis vaccine help Rockville?\",\"Mad Cow Disease Re-emerges in Chatham\",\"Zika Virus Arrives in Ontario\",\"Mad Cow Disease Hits Naples\",\"The Spread of Chikungunya in Arcadia has been Confirmed\",\"Oxford tests new cure for HIV\",\"Outbreak of Zika in Stephenville\",\"Providence Encounters Severe Symptoms of Dengue\",\"Tests negative on Windsor Zika carriers\",\"Zika battle outlined at Valdosta meeting\",\"Zika case reported in Coral Gables\",\"Hepatitis C Outbreak in Danbury\",\"Chickenpox has Arrived in Chula Vista\",\"Syphilis Hits Jefferson\",\"Will HIV vaccine help Las Vegas?\",\"Zika arrives in West Palm Beach\",\"Mobile authorities confirmed the spread of Bronchitis\",\"Zika spreads to Daytona Beach\",\"Lausanne Residents Recieve Meningitis vaccine\",\"Rhinovirus Comes to San Jose\",\"Spike of Chlamydia Cases in Farmington\",\"Authorities are Worried about the Spread of Rotavirus in Union\",\"Rumors about Hepatitis D spreading in Albany have been refuted\",\"Zika symptoms spotted in Bello\",\"Will Meningitis vaccine help Hamburg?\",\"Zika Virus Detected in Lubbock\",\"Varicella re-emerges in Lagos\",\"Vericella spreading in Ibadan\",\"Schools in Birmingham Closed Due to Measles Outbreak\",\"How to Avoid Hepatitis B in Waldorf\",\"Tuberculosis Outbreak in Newark\",\"Zika Virus Sparks 'International Concern'\",\"Spike of Chlamydia Cases in Berlin\",\"Zika-carrying mosquitoes discovered in Ardmore\",\"Zika Mosquitoes May Have Bred in Bromeliads, Florida Officials Say\",\"More Livestock in Fontainebleau are infected with Mad Cow Disease\",\"Frisco Woman Tests Positive For Zika Virus\",\"Benton Residents Recieve Pneumonia vaccine\",\"Zika Outbreak in Pinewood\",\"Will Swine Flu vaccine help Ljubljana?\",\"Mad Cow Disease Spreads to Margate\",\"Zika Strikes St. Petersburg\",\"Will the Mad Cow Outbreak Reach Vienna?\",\"More Patients in Orange are Getting Diagnosed with Chickenpox\",\"Lower Hospitalization in Richmond after Mumps Vaccine becomes Mandatory\",\"Four cases of Zika in Hidalgo County\",\"Zika symptoms spotted in Hollywood\",\"Zika arrives in Oaxaca\",\"More people in Durham are infected with Chlamydia every year\",\"Authorities are Worried about the Spread of Gonorrhea in Taoyuan City\",\"Swine Flu re-emerges in La Jolla\",\"Tuberculosis Outbreak in Hartford\",\"Rumors about Mumps Spreading in New Bedford have been Refuted\",\"Respiratory Syncytial Virus Vaccine is now Required in Tulsa\",\"More people in Indianapolis are infected with Norovirus every year\",\"Albany Residents Recieve Respiratory Syncytial Virus vaccine\",\"Rotavirus Vaccine is now Required in Starkville\",\"More people in Nadi are infected with HIV every year\",\"Tocumen tests new cure for Hepatitis A\",\"Phnom Penh hit by Zika Threat\",\"Zika Troubles come to Harlingen\",\"Zika spreads to Barranquilla\",\"Milwaukee authorities confirmed the spread of Rhinovirus\",\"Mad Cow Disease Hits Rotterdam\",\"Zika symptoms spotted in Arlington\",\"More Patients in Dublin are Getting Diagnosed with Bronchitis\",\"Rumors about West Nile Virus Spreading in Salem have been Refuted\",\"St. Catharines Patient in Critical Condition after Contracting Dengue\",\"Outbreak of Zika in Pasig City\",\"Zika Troubles come to Kampong Cham\",\"Zika case reported in Rizal\",\"Zika Spreads to Palm Beach Gardens\",\"Spike of Herpes Cases in Meriden\",\"Zika case reported in Abilene\",\"Outbreak of Zika in Palm Springs\",\"Zika arrives in Natal\",\"Herpes Keeps Spreading in Rochester\",\"Zika case reported in Phetchabun\",\"How to Avoid Pneumonia in Bullhead City\",\"West Nile Virus re-emerges in Wellington\",\"Rumors about Pneumonia spreading in Ottawa have been refuted\",\"Meningitis re-emerges in Summerville\",\"Pneumonia Symptoms Spread all over Bloomington\",\"More Patients in Stuttgart are Getting Diagnosed with Rabies\",\"Schools in Glasgow Closed Due to Hepatitis B Outbreak\",\"Phoenix Residents Recieve Syphilis vaccine\",\"Spanish flu spreading in Madrid\",\"Rabies Hits Madrid\",\"Zika Outbreak in Weslaco\",\"Rotavirus Vaccine is now Required in Las Cumbres\",\"Mumps Symptoms Spread all over Jefferson\",\"Mad Cow Outbreak Spreading in Ennis\",\"Southampton Patient in Critical Condition after Contracting Tuberculosis\",\"The Spread of Rhinovirus in Boardman has been Confirmed\",\"Richland Center is infested with Hepatitis B\",\"Authorities are Worried about the Spread of Chickenpox in Richmond\",\"Malaria Vaccine is now Required in Schenectady\",\"Hepatitis D has Arrived in Grenoble\",\"West Nile Virus Symptoms Spread all over Yerevan\",\"Zika Outbreak in Sincelejo\",\"Rumors about HIV spreading in Montpellier have been refuted\",\"Lower Hospitalization in Lakewood after Hepatitis B Vaccine becomes Mandatory\",\"Zika spreads to Kuching\",\"Spike of Rotavirus Cases in Omaha\",\"Tuberculosis re-emerges in Silver Springs\",\"Will West Nile Virus vaccine help Coronado?\",\"Zika case confirmed in Lorain\",\"Chickenpox Hits Simpsonville\",\"Framingham Residents Receive Measles vaccine\",\"Rumors about Mad Cow Disease Brighton have been Refuted\",\"Zika case reported in Jacobina\",\"Bridgeport authorities confirmed the spread of West Nile Virus\",\"More contaminated cattle reported in Bedford\",\"Zika in Tamarac!\",\"Will Measles vaccine help Milford?\",\"Spike of Norovirus Cases in Huddersfield\",\"Rhinovirus Hits Bakersfield\",\"Zika arrives in Udon Thani\",\"More people in Berkeley are infected with Swine Flu every year\",\"Zika only the latest mosquito-borne threat to New Orleans\",\"Will Swine Flu vaccine help Annapolis?\",\"Lower Hospitalization in Monroe after Hepatitis D Vaccine becomes Mandatory\",\"New medicine wipes out Dengue in Saginaw\",\"Spike of Rhinovirus Cases in Sevierville\",\"Duisburg up in Arms over Mad Cow Disease\",\"New medicine wipes out Mumps in Saint Charles\",\"Case of Chikungunya Reported in Gaithersburg\",\"How to Avoid Respiratory Syncytial Virus in San Bernardino\",\"Laventille authorities confirmed the spread of Rhinovirus\",\"More Zika patients reported in Waco\",\"Will Herpes vaccine help Newcastle?\",\"Erie County sets Zika traps\",\"How to Avoid Norovirus in Greenville\",\"More Zika patients reported in Calumpang\",\"Rumors about Bronchitis spreading in Bundaberg have been refuted\",\"Hepatitis A re-emerges in Stamford\",\"Schools in Huntington Closed Due to Rotavirus Outbreak\",\"Will Mad Cow Vaccine Help Bristol?\",\"Chickenpox Comes to Stillwater\",\"The Spread of Meningitis in Imperial has been Confirmed\",\"Case of Measles Reported in Springdale\",\"Norwalk Encounters Severe Symptoms of Malaria\",\"Zika arrives in Orange City\",\"Pilsen Encounters Severe Symptoms of Malaria\",\"Will Hepatitis B vaccine help La Paz?\",\"Zika Outbreak in Puducherry\",\"More Zika patients reported in Carrollton\",\"West Nile Virus Exposure in Racine\",\"The Spread of Hepatitis E in Lansing has been Confirmed\",\"West Nile Virus Exposure in Alpharetta\",\"More Zika patients reported in Melbourne\",\"Zika Troubles come to La Libertad\",\"Herpes Vaccine is now Required in Mattoon\",\"Kent is infested with Rabies\",\"Zika symptoms spotted in Bonita Springs\",\"The Spread of Malaria in Brazzaville has been Confirmed\",\"More Zika patients reported in Fort Myers\",\"Zika spreads to Lewisville\",\"Ogden is infested with Gonorrhea\",\"Fort Hood Reports its First Zika Patient\",\"Huzhou Residents Receive Hepatitis B vaccine\",\"New medicine wipes out Rabies in Newburgh\",\"Iowa City Encounters Severe Symptoms of Rhinovirus\",\"Spike of Rabies Cases in Managua\",\"Outbreak of Zika in Santa Elena\",\"Mumps Hits Howard Beach\",\"The Spread of Gonorrhea in Reno has been Confirmed\",\"How to Avoid Rhinovirus in Plainfield\",\"Rumors about Varicella spreading in Carlsbad have been refuted\",\"Scranton authorities confirmed the spread of Gonorrhea\",\"Mad Cow Disease Disastrous to Brussels\",\"Zika spreads to Olinda\",\"Hallandale Beach a Victim of Zika Outbreak\",\"Rhinovirus re-emerges in Storrs\",\"Germantown authorities confirmed the spread of Chickenpox\",\"Spike of Hepatitis C Cases in Golden\",\"Authorities are Worried about the Spread of Hepatitis D in Ganja\",\"Tuberculosis has Arrived in Fairfield\",\"Outbreak of Zika in Kozhikode\",\"Bronchitis Symptoms Spread all over Santa Fe\",\"Pneumonia Exposure in Alhambra\",\"Hepatitis C re-emerges in Damascus\",\"Lower Hospitalization in Pekanbaru after Rotavirus Vaccine becomes Mandatory\",\"Schools in Bentonville Closed Due to Hepatitis B Outbreak\",\"Hepatitis E Hits Hammond\",\"Schools in Bridgeton Closed Due to Mumps Outbreak\",\"Biloxi Residents Recieve Chlamydia vaccine\",\"Case of Mad Cow Disease Reported in Hilden\",\"Zika symptoms spotted in Sibu\",\"Zika arrives in Quezon\",\"More Patients in Crawfordsville are Getting Diagnosed with Rabies\",\"Spike of Hepatitis B Cases in Greenville\",\"Authorities are Worried about the Spread of Hepatitis D in Akron\",\"More Zika patients reported in Nuevo Laredo\",\"Bronchitis Keeps Spreading in San Mateo\",\"Zika arrives in Boca Raton\",\"Bradenton Experiences Zika Troubles  \",\"Chlamydia Symptoms Spread all over University City\",\"Wisconsin Rapids Patient in Critical Condition after Contracting Chickenpox\",\"Zika spreads to Kissimmee\",\"Herpes Symptoms Spread all over Fremont\",\"Spike of Pneumonia Cases in The Bronx\",\"Authorities are Worried about the Spread of Hepatitis D in North Bay\",\"Tuberculosis Symptoms Spread all over Caguas\",\"HIV has Arrived in Tacoma\",\"Malaria re-emerges in Nashua\",\"Arvada is infested with Syphilis\",\"Spike of Syphilis Cases in West Monroe\",\"Deerfield tests new cure for Measles\",\"Contaminated Meat Brings Trouble for Bonn Farmers\",\"Hepatitis A re-emerges in Foster City\",\"How to Avoid Tuberculosis in Santa Monica\",\"Zika reported in Fort Pierce\",\"Authorities are Worried about the Spread of Syphilis in Pyongyang\",\"Zika spreads to Winter Park\",\"Hepatitis A has not Left Staten Island\",\"Gladstone Encounters Severe Symptoms of Dengue\",\"Mad Cow Disease Hits London\",\"New Milford Patient in Critical Condition after Contracting Respiratory Syncytial Virus\",\"More people in Palo Alto are infected with HIV every year\",\"HIV Symptoms Spread all over Hinthada\",\"Zika symptoms spotted in Quito\",\"Vineland authorities confirmed the spread of Chlamydia\",\"Tupelo Residents Recieve Syphilis vaccine\",\"Spanish Flu Outbreak in Lisbon\",\"Spanish Flu Spreading through Madrid\",\"Barcelona Struck by Spanish Flu\",\"Spanish Flu Outbreak in Lisbon\",\"Spanish Flu Spreading through Madrid\",\"Barcelona Struck by Spanish Flu \",\"The Spread of Dengue in Yakima has been Confirmed\",\"Will West Nile Virus vaccine help Dumai?\",\"Rumors about Chlamydia spreading in Redmond have been refuted\",\"Case of Varicella Reported in Concord\",\"Zika virus case reported in Rockland\",\"Zika investigators coming to Mankato\",\"Toms River Encounters Severe Symptoms of Respiratory Syncytial Virus\",\"The Spread of Malaria in Zanzibar has been Confirmed\",\"Malaria Outbreak Hits Zanzibar's Tourist Industry\",\"More people in Yokohama are infected with Norovirus every year\",\"Hepatitis D Keeps Spreading in Bismarck\",\"Varicella Outbreak in Minot\",\"Malaria has Arrived in Terrebonne\",\"Chikungunya Keeps Spreading in North Vancouver\",\"Authorities are Worried about the Spread of Chickenpox in Hemet\",\"Rumors about Hepatitis C spreading in Darien have been refuted\",\"The Spread of West Nile Virus in Fairfield has been Confirmed\",\"Princeton Encounters Severe Symptoms of Dengue\",\"Norovirus Keeps Spreading in Copenhagen\",\"Spike of Norovirus Cases in Canberra\",\"Zika Troubles come to Greater Noida\",\"Lower Hospitalization in Palm Springs after Hepatitis A Vaccine becomes Mandatory\",\"Outbreak of Zika in Leesburg\",\"Sangre Grande Residents Recieve Gonorrhea vaccine\",\"Outbreak of Zika in Colombo\",\"Stony Brook University experts discuss Zika virus\",\"Lower Hospitalization in Janesville after Varicella Vaccine becomes Mandatory\",\"Rabies Outbreak in Altus\",\"Miami resident suggests Zika precautions\",\"Zika Troubles come to Jaen\",\"Hepatitis B Exposure in Edinburgh\",\"Zika case reported in Reynosa\",\"Schools in Tulare Closed Due to Mumps Outbreak\",\"More Zika patients reported in Chennai\",\"Hepatitis D Keeps Spreading in Danvers\",\"Authorities a Miami\",\"More people in Cranford are infected with Hepatitis A every year\",\"West Nile Virus Hits Monroe\",\"Pneumonia Outbreak in Springville\",\"Zika arrives in San Onofre\",\"Rumors about Rotavirus Spreading in Joliet have been Refuted\",\"More Zika patients reported in Chanthaburi\",\"Lawrenceville is infested with Dengue\",\"Zika case reported in Limoeiro\",\"Ibadan tests new cure for Malaria\",\"Gonorrhea has Arrived in Avon Lake\",\"Pneumonia has not Left Kinshasa\",\"Respiratory Syncytial Virus Hits Henderson\",\"More Zika patients reported in Lakeland\",\"Malaria Vaccine is now Required in Winona\",\"More Patients in Canton are Getting Diagnosed with Norovirus\",\"Ronkonkoma is infested with Chickenpox\",\"Gonorrhea Exposure in Norwalk\",\"How to Avoid Rhinovirus in Medford\",\"Hepatitis D Symptoms Spread all over Evansville\",\"New medicine wipes out Herpes in Bossier City\",\"Pneumonia Exposure in San Jose\",\"Authorities are Worried about the Spread of Mad Cow Disease in Edinburgh\",\"Duluth Patient in Critical Condition after Contracting Rotavirus\",\"Norfolk tests new cure for Herpes\",\"More Zika patients reported in Botucatu\",\"Manassas Encounters Severe Symptoms of Measles\",\"Fayetteville authorities confirmed the spread of HIV\",\"Varicella Exposure in Cambridge\",\"Hepatitis A Vaccine is now Required in Fukushima\",\"Zika Outbreak in South Miami\",\"Hepatitis D Symptoms Spread all over North Bethesda\",\"West Nile Virus has Arrived in Dongguan\",\"Zika arrives in Belmopan\",\"Zika seminars in Yuma County\",\"Rumors about Hepatitis E Spreading in Morristown have been Refuted\",\"Mumps Outbreak in Joplin\",\"Authorities are Worried about the Spread of Mumps in Corona\",\"Schools in Danville Closed Due to Tuberculosis Outbreak\",\"Norovirus Vaccine is now Required in Anaheim\",\"Zika spreads to Caucasia\",\"Case of Malaria Reported in Aurora\",\"Manchester Residents Recieve Influenza vaccine\",\"Zika spreads to Kamphaeng Phet\",\"Rotavirus Vaccine is now Required in Labasa\",\"Zika Outbreak in Mexicali\",\"West Nile Virus Keeps Spreading in Hauppauge\",\"Bronchitis Keeps Spreading in Hayward\",\"Zika spreads to Plant City\",\"Zika Reported in North Miami Beach\",\"More Patients in Kensington are Getting Diagnosed with Varicella\",\"Case of West Nile Virus Reported in Riverside\",\"Northfield Encounters Severe Symptoms of Herpes\",\"The Spread of Respiratory Syncytial Virus in Monroe has been Confirmed\",\"How to Avoid Hepatitis B in Trenton\",\"Zika Reported in Ilopango\",\"Barstow Patient in Critical Condition after Contracting Herpes\",\"Will Gonorrhea vaccine help East Moline?\",\"New medicine wipes out Influenza in Redlands\",\"How to Avoid Contaminated Meat when Visiting Basel\",\"More Zika patients reported in Kampong Speu\",\"Alameda Residents Recieve Rabies vaccine\",\"Mad Cow Disease Detected in Lyon\",\"Memphis Encounters Severe Symptoms of Swine Flu\",\"Zika Troubles come to Delray Beach\",\"How to Avoid Chikungunya in Hampton\",\"Case of Norovirus Reported in Stratford\",\"How to Avoid Hepatitis E in South Bend\",\"Hepatitis C Outbreak in Bethlehem\",\"Davenport is infested with Dengue\",\"Malaria Vaccine is now Required in Elyria\",\"Case of Swine Flu Reported in Tbilisi\",\"Influenza Keeps Spreading in Suffolk\",\"More people in Allentown are infected with Chlamydia every year\",\"Mad Cow Disease re-emerges in Bedford\",\"Authorities are Worried about the Spread of Hepatitis B in Yiwu\",\"Dengue Outbreak in Easton\",\"Varicella has Arrived in Milton\",\"New medicine wipes out Meningitis in Sevilla\",\"Authorities are Worried about the Spread of Varicella in Clovis\",\"More Zika patients reported in Fort Worth\",\"Zika symptoms spotted in Boynton Beach\",\"Outbreak of Zika in Portoviejo\",\"Rumors about Rabies spreading in Jerusalem have been refuted\",\"More Zika patients reported in Indang\",\"Suva authorities confirmed the spread of Rotavirus\",\"Zika Outbreak in Wichita Falls\"],\"lat\":[25.77427,40.71427,25.79065,-8.05389,32.78306,29.76328,33.749,25.82176,38.62727,29.30135,14.6042,10.69694,34.05223,28.53834,41.85003,27.94752,53.24488,39.29038,42.98339,10.82302,39.95233,52.97633,48.85341,13.75398,-12.97111,3.1412,16.80528,30.43826,-31.42797,38.98067,14.5832,13.68935,35.15952,30.26715,-22.72528,-12.04318,43.70011,-27.46794,23.13302,24.55524,49.24966,47.60621,36.16589,17.72751,40.58526,3.03667,14.64072,34.69926,27.33643,0.05621,34.8662,22.54554,14.6488,-33.86785,19.07283,18.51957,38.99067,28.65195,17.49952,-22.90556,13.71024,41.89193,37.566,51.38764,40.76078,0.31628,-23.38032,14.0818,-37.814,32.46098,25.04776,27.83975,14.62578,14.45896,27.63864,14.21167,26.0112,3.10726,-26.20227,-34.61315,23.11667,25.81954,35.6895,32.08354,52.48142,38.84622,41.38879,16.0009,4.142,28.63576,34.27834,25.05823,1.4655,39.12711,22.27832,35.22709,13.7567,-26.20227,10.66667,11.97444,39.80172,26.93422,25.75482,33.50169,47.65966,-25.29167,38.25424,30.44332,43.77925,30.42131,27.80058,32.74255,45.33341,40.6501,33.11921,42.39593,19.18095,39.75895,44.22976,29.65163,-34.90328,42.33143,1.28967,39.18361,43.04812,35.7721,32.52515,42.44063,48.58392,5.15264,46.87215,-23.96083,47.64218,32.22174,39.11417,43.3601,30.22409,16.91675,40.2737,25.89009,40.11059,40.44062,39.73915,10.65245,40.01499,39.084,42.41224,34.06334,40.85216,34.13973,51.75222,32.2207,41.82399,42.30008,30.83334,25.72149,41.39482,32.64005,38.86456,36.17497,26.71534,30.69436,29.21081,46.516,13.35,37.78088,40.6976,-35.02692,6.33732,53.57532,33.57786,6.45407,7.37756,52.48142,38.62456,39.68372,39.53491,52.52437,34.17426,3.3223,48.40908,33.15067,34.56454,25.86898,46.05108,51.38132,27.77086,48.20849,-33.28397,-37.81819,25.97205,26.0112,17.06542,54.77676,24.99368,32.84727,41.76371,41.63526,36.15398,39.76838,-35.02692,33.45049,-17.80309,9.08939,11.56245,53.17477,10.96854,43.0389,51.9225,32.73569,53.33306,11.65376,43.17126,14.58691,11.99339,15.7118,26.82339,41.53815,32.44874,26.6359,-5.795,51.38764,16.41904,35.14778,52.7,45.41117,33.0185,39.16533,48.78232,55.86515,33.44838,4.73245,4.73245,26.15952,9.08916,38.86456,52.84361,50.90395,41.02423,46.28569,-37.81819,42.81424,45.17869,40.18111,9.30472,43.61092,40.09789,1.55,41.25626,-26.25,32.68589,41.45282,34.73706,42.27926,-37.90561,-11.18143,41.83809,52.13459,26.21286,41.22232,53.64904,35.37329,17.41567,37.87159,29.95465,38.97845,32.50931,32.86013,35.86815,51.43247,38.60317,39.14344,34.10834,10.64917,31.54933,-32.92953,42.12922,5.01133,14.6228,-24.86621,52.65,38.41925,51.45523,36.11561,-13.05927,36.18674,41.1176,-33.28397,49.74747,-30.74179,11.93381,33.58011,42.72613,41.56476,34.07538,-37.814,-2.233,39.48309,41.15367,26.33981,-4.26613,26.62168,33.04623,41.223,31.13489,30.8703,41.50343,41.66113,12.13282,-30.94432,40.65788,39.52963,39.70421,33.15809,41.40916,50.85045,-8.00889,25.9812,41.80843,39.17316,39.75554,40.68278,-33.86667,11.24802,-31.64881,34.09529,33.5102,0.51667,36.37285,30.50463,39.42734,30.39603,51.16818,2.3,15.5512,40.04115,5.01133,41.08144,27.47629,16.88206,26.35869,27.49893,38.65588,44.38358,28.30468,41.43333,40.84985,46.3168,18.23412,47.25288,42.76537,39.80276,32.50931,42.17114,50.73438,37.55855,34.01945,27.44671,39.03385,28.6,40.56233,-23.84852,42.98339,40.9351,37.44188,17.64944,-0.22985,39.48623,34.25807,38.71667,4.73245,41.38879,38.71667,4.73245,41.38879,46.60207,1.66711,44.27262,38.5245,42.13066,44.15906,39.95373,-6.16394,-6.16394,35.43333,46.80833,48.23251,45.70004,49.31636,33.74761,3.93135,-33.86667,25.53844,55.67594,-35.28346,28.49615,26.6359,28.81082,10.58705,-25.29167,28.07389,42.68279,34.63813,25.77427,15.3275,55.95206,26.08061,36.20773,13.08784,42.57509,25.77427,40.65844,32.50931,40.16523,9.73586,41.52519,12.60961,33.95621,-7.87472,7.37756,41.50532,-4.32758,37.83615,28.03947,44.04996,34.23676,40.81538,41.1176,42.41843,37.97476,32.51599,13.35,55.95206,34.00288,36.84681,-22.88583,38.75095,36.06258,43.3601,37.75,25.77427,39.04455,23.01797,17.25,32.72532,36.21398,37.08423,40.74705,37.64563,33.83529,7.98654,44.00011,53.48095,16.48344,-16.4332,32.62781,40.82565,37.66882,28.01888,25.93315,-33.92019,39.77978,44.4583,32.50931,42.13949,13.70167,34.89859,41.50087,34.05557,47.55839,11.45332,37.76521,45.74846,35.14953,26.46146,51.41334,43.36679,41.68338,31.70487,41.52364,41.36838,41.69411,36.72836,40.60843,52.13459,29.31506,38.77428,43.51681,4.26425,36.82523,32.72541,26.52535,-1.05458,31.76904,14.19528,-18.14161,33.91371],\"legendgroup\":\"\",\"lon\":[-80.19366,-74.00597,-80.13005,-34.88111,-96.80667,-95.36327,-84.38798,-80.24116,-90.19789,-94.7977,120.9822,122.56444,-118.24368,-81.37924,-87.65005,-82.45843,-3.13231,-76.61219,-81.23304,106.62965,-75.16379,-0.02664,2.3488,100.50144,-38.51083,101.68653,96.15611,-84.28073,-62.08266,-77.10026,121.0409,-89.18718,-84.87661,-97.74306,-47.64917,-77.02824,-79.4163,153.02809,-82.38304,-81.78163,-123.11934,-122.33207,-86.78444,-64.74698,-105.08442,101.44333,-90.51327,-86.74833,-82.53065,32.47949,-92.11015,114.0683,121.0509,151.20732,72.88261,73.85535,-77.02609,77.23149,-88.19756,-47.06083,-89.13989,12.51133,126.9784,0.50546,-111.89105,32.58219,150.50595,-87.20681,144.96332,-84.98771,121.53185,-82.79121,121.12251,120.93851,-80.39727,121.16528,-80.14949,101.60671,28.04363,-58.37723,113.25,-80.35533,139.69171,-81.09983,-1.89983,-77.30637,2.15899,120.4023,-73.62664,77.22445,-119.29317,-77.34306,103.7578,-84.51439,114.17469,-80.84313,121.0584,28.04363,122.95,-86.09417,-89.64371,-80.09421,-80.32727,-117.66255,-117.42908,-49.22417,-85.75941,-91.18747,11.24626,-87.21691,-97.39638,-117.03142,-79.21632,-73.94958,-117.08642,-71.17867,-96.1429,-84.19161,-76.48098,-82.32483,-56.18816,-83.04575,103.85007,-96.57167,-76.14742,-78.63861,-93.75018,-76.49661,7.74553,-75.03624,-113.994,-46.33361,6.85385,-110.92648,-94.62746,-80.31269,-92.01984,-89.91898,-76.88442,-80.18671,-88.20727,-79.99589,-104.9847,-61.38878,-105.27055,-77.15276,-82.18494,-117.65089,14.26811,-118.03534,-1.25596,-98.20226,-71.41283,-83.01654,-83.28032,-80.26838,-73.45401,-117.0842,-77.18776,-115.13722,-80.05337,-88.04305,-81.02283,6.63282,123.55,-90.42179,-74.2632,117.88369,-75.55795,10.01534,-101.85517,3.39467,3.90591,-1.89983,-76.93914,-75.74966,-119.75269,13.41053,-97.14363,-76.2348,2.70177,-96.82361,-92.58683,-80.21699,14.50513,1.38617,-82.67927,16.37208,149.10018,145.00176,-100.45029,-80.14949,-96.72365,-1.57566,121.29696,-117.2742,-72.68509,-70.92701,-95.99277,-86.15804,117.88369,-88.81961,177.41617,-79.3831,104.91601,5.42244,-74.78132,-87.90647,4.47917,-97.10807,-6.24889,78.15538,-79.24267,121.0614,105.4635,121.1061,-80.13865,-72.80704,-99.73314,-80.09615,-35.20944,0.50546,101.16056,-114.5683,-2.51667,-75.69812,-80.17565,-86.52639,9.17702,-4.25763,-112.07404,-74.26419,-74.26419,-97.99084,-79.52809,-77.18776,-8.98639,-1.40428,-80.66285,-119.28446,145.00176,-73.93957,5.71479,44.51361,-75.39778,3.87723,-74.21764,110.33333,-95.94043,28.4,-117.18309,-82.18237,-82.25428,-71.41617,145.00279,-40.51372,-87.65116,-0.46632,-80.24977,-73.0565,-1.78416,-119.01871,102.78589,-122.27275,-90.07507,-76.49218,-92.1193,-97.36391,-83.56184,6.76516,-76.93858,-77.20137,-117.28977,-61.49889,-97.14667,151.7801,-80.08506,-9.0388,121.0897,152.3479,-0.48333,-82.44515,-2.59665,-97.05837,-76.35269,-94.12881,-73.4079,149.10018,13.37759,-59.64517,79.82979,-85.07661,-87.78285,-87.53893,-84.29409,144.96332,-80.91039,-88.37283,-81.35789,-81.7787,15.28318,-81.84059,-96.99417,-111.97383,-97.77561,120.0933,-74.01042,-91.53017,-86.2504,-59.78832,-73.83625,-119.8138,-86.39944,-117.35059,-75.6649,4.34878,-34.85528,-80.14838,-72.24952,-77.27165,-105.2211,46.36056,150.95,75.7804,-60.70868,-118.12701,36.29128,101.44167,-94.20882,-90.46293,-75.23408,-88.88531,6.93093,111.81667,120.8147,-86.87445,-9.0388,-81.51901,-99.51639,121.58694,-80.0831,-82.57482,-90.30928,-89.81735,-81.41667,-96.49808,-73.86641,-79.46633,-66.0485,-122.44429,-71.46757,-105.08748,-92.1193,-87.84451,7.09549,-122.27108,-118.49119,-80.32561,125.75432,-81.33924,-74.13986,151.25775,-81.23304,-74.01903,-122.14302,95.45705,-78.52495,-75.02573,-88.70464,-9.13333,-74.26419,2.15899,-9.13333,-74.26419,2.15899,-120.5059,101.44316,-121.17392,-90.35734,-70.91616,-94.00915,-74.19792,39.19793,39.19793,139.65,-100.78374,-101.29627,-73.64732,-123.06934,-116.97307,-76.48481,150.95,-80.40894,12.56553,149.12807,77.53601,-80.09615,-81.87786,-61.13008,-49.22417,-82.43902,-89.01872,-99.33398,-80.19366,120.9192,-3.19648,-98.28835,-119.34734,80.27847,-70.93005,-80.19366,-74.29959,-92.1193,-111.61075,-75.52626,-88.0834,102.10447,-83.98796,-35.45028,3.90591,-82.0282,15.31357,-87.59001,-81.9498,-91.63932,-84.49076,-73.11233,-73.4079,-71.10616,-87.55585,-93.73212,123.55,-3.19648,-84.14464,-76.28522,-48.445,-77.47527,-94.15743,-80.31269,140.46667,-80.19366,-77.11887,113.74866,-88.76667,-114.6244,-83.29489,-94.51328,-73.86014,-84.77217,-117.9145,-75.19349,-79.46632,-2.23743,99.52153,179.36451,-115.45446,-73.20261,-122.0808,-82.11469,-80.16255,151.22241,-84.1241,-93.1616,-92.1193,-83.17826,-89.10944,-117.02282,-90.4443,-117.18254,7.57327,104.52085,-122.24164,4.84671,-90.04898,-80.07282,-0.36701,-80.94972,-86.25001,35.20376,-90.57764,-82.10765,44.83368,-76.58496,-75.49018,-0.46632,120.07676,-76.07633,-79.88294,-75.93085,-119.70292,-97.32085,-80.06643,-80.45445,35.21633,120.87694,178.44149,-98.49339],\"marker\":{\"color\":[0,0,0,1,0,0,0,0,0,0,2,3,4,0,0,0,5,0,0,6,0,5,5,6,7,8,9,0,10,0,2,11,0,0,12,13,0,14,0,0,15,15,0,16,17,8,11,0,0,18,0,19,2,20,21,21,0,22,11,12,11,23,24,5,25,18,14,11,26,0,27,0,2,2,0,2,0,8,28,29,19,0,30,0,5,0,5,2,31,22,4,0,8,0,19,0,2,28,3,11,0,0,0,4,15,12,0,0,23,0,0,4,0,0,4,0,32,0,0,0,29,0,8,0,0,0,0,0,5,31,15,12,5,4,0,0,0,11,0,0,0,0,17,33,17,0,0,4,23,4,5,0,0,0,0,0,0,4,0,4,0,0,0,5,2,0,0,34,31,35,0,36,36,5,0,0,4,35,0,31,5,0,0,0,37,5,0,37,20,26,0,0,32,5,27,4,0,0,0,0,34,0,38,39,6,5,31,0,5,0,5,40,0,2,6,2,0,0,0,0,1,5,41,4,5,0,0,0,5,5,4,31,31,0,39,0,5,5,0,15,26,0,5,42,31,5,0,43,0,28,4,0,0,0,26,7,0,5,0,0,5,4,41,4,0,0,0,0,0,5,0,0,4,33,0,20,0,44,2,14,5,0,5,0,13,0,0,20,37,10,40,0,0,0,0,26,45,0,0,0,46,0,0,25,0,47,0,0,11,10,0,4,0,4,0,5,1,0,0,0,17,42,20,40,10,4,48,8,0,0,0,0,5,43,2,0,44,0,0,2,0,0,0,0,0,0,0,0,16,15,0,17,0,0,5,4,4,0,24,0,0,14,0,0,4,9,45,0,0,49,31,5,49,31,5,15,8,15,0,0,0,0,50,50,30,51,51,0,15,4,31,20,0,35,20,22,0,0,33,12,0,0,0,0,2,5,0,4,40,0,0,0,0,25,31,0,6,0,1,36,0,46,0,0,0,0,0,0,0,0,0,2,5,0,0,12,0,0,0,30,0,0,19,11,4,0,0,0,0,4,31,0,5,41,38,4,0,4,0,0,20,0,0,0,0,11,4,0,4,5,6,4,5,0,0,5,0,0,48,0,0,42,0,0,5,47,0,0,31,4,0,0,45,48,2,38,0],\"coloraxis\":\"coloraxis\",\"symbol\":\"diamond\",\"size\":12},\"mode\":\"markers\",\"name\":\"\",\"showlegend\":false,\"type\":\"scattergeo\"}],                        {\"template\":{\"data\":{\"histogram2dcontour\":[{\"type\":\"histogram2dcontour\",\"colorbar\":{\"outlinewidth\":0,\"ticks\":\"\"},\"colorscale\":[[0.0,\"#0d0887\"],[0.1111111111111111,\"#46039f\"],[0.2222222222222222,\"#7201a8\"],[0.3333333333333333,\"#9c179e\"],[0.4444444444444444,\"#bd3786\"],[0.5555555555555556,\"#d8576b\"],[0.6666666666666666,\"#ed7953\"],[0.7777777777777778,\"#fb9f3a\"],[0.8888888888888888,\"#fdca26\"],[1.0,\"#f0f921\"]]}],\"choropleth\":[{\"type\":\"choropleth\",\"colorbar\":{\"outlinewidth\":0,\"ticks\":\"\"}}],\"histogram2d\":[{\"type\":\"histogram2d\",\"colorbar\":{\"outlinewidth\":0,\"ticks\":\"\"},\"colorscale\":[[0.0,\"#0d0887\"],[0.1111111111111111,\"#46039f\"],[0.2222222222222222,\"#7201a8\"],[0.3333333333333333,\"#9c179e\"],[0.4444444444444444,\"#bd3786\"],[0.5555555555555556,\"#d8576b\"],[0.6666666666666666,\"#ed7953\"],[0.7777777777777778,\"#fb9f3a\"],[0.8888888888888888,\"#fdca26\"],[1.0,\"#f0f921\"]]}],\"heatmap\":[{\"type\":\"heatmap\",\"colorbar\":{\"outlinewidth\":0,\"ticks\":\"\"},\"colorscale\":[[0.0,\"#0d0887\"],[0.1111111111111111,\"#46039f\"],[0.2222222222222222,\"#7201a8\"],[0.3333333333333333,\"#9c179e\"],[0.4444444444444444,\"#bd3786\"],[0.5555555555555556,\"#d8576b\"],[0.6666666666666666,\"#ed7953\"],[0.7777777777777778,\"#fb9f3a\"],[0.8888888888888888,\"#fdca26\"],[1.0,\"#f0f921\"]]}],\"heatmapgl\":[{\"type\":\"heatmapgl\",\"colorbar\":{\"outlinewidth\":0,\"ticks\":\"\"},\"colorscale\":[[0.0,\"#0d0887\"],[0.1111111111111111,\"#46039f\"],[0.2222222222222222,\"#7201a8\"],[0.3333333333333333,\"#9c179e\"],[0.4444444444444444,\"#bd3786\"],[0.5555555555555556,\"#d8576b\"],[0.6666666666666666,\"#ed7953\"],[0.7777777777777778,\"#fb9f3a\"],[0.8888888888888888,\"#fdca26\"],[1.0,\"#f0f921\"]]}],\"contourcarpet\":[{\"type\":\"contourcarpet\",\"colorbar\":{\"outlinewidth\":0,\"ticks\":\"\"}}],\"contour\":[{\"type\":\"contour\",\"colorbar\":{\"outlinewidth\":0,\"ticks\":\"\"},\"colorscale\":[[0.0,\"#0d0887\"],[0.1111111111111111,\"#46039f\"],[0.2222222222222222,\"#7201a8\"],[0.3333333333333333,\"#9c179e\"],[0.4444444444444444,\"#bd3786\"],[0.5555555555555556,\"#d8576b\"],[0.6666666666666666,\"#ed7953\"],[0.7777777777777778,\"#fb9f3a\"],[0.8888888888888888,\"#fdca26\"],[1.0,\"#f0f921\"]]}],\"surface\":[{\"type\":\"surface\",\"colorbar\":{\"outlinewidth\":0,\"ticks\":\"\"},\"colorscale\":[[0.0,\"#0d0887\"],[0.1111111111111111,\"#46039f\"],[0.2222222222222222,\"#7201a8\"],[0.3333333333333333,\"#9c179e\"],[0.4444444444444444,\"#bd3786\"],[0.5555555555555556,\"#d8576b\"],[0.6666666666666666,\"#ed7953\"],[0.7777777777777778,\"#fb9f3a\"],[0.8888888888888888,\"#fdca26\"],[1.0,\"#f0f921\"]]}],\"mesh3d\":[{\"type\":\"mesh3d\",\"colorbar\":{\"outlinewidth\":0,\"ticks\":\"\"}}],\"scatter\":[{\"fillpattern\":{\"fillmode\":\"overlay\",\"size\":10,\"solidity\":0.2},\"type\":\"scatter\"}],\"parcoords\":[{\"type\":\"parcoords\",\"line\":{\"colorbar\":{\"outlinewidth\":0,\"ticks\":\"\"}}}],\"scatterpolargl\":[{\"type\":\"scatterpolargl\",\"marker\":{\"colorbar\":{\"outlinewidth\":0,\"ticks\":\"\"}}}],\"bar\":[{\"error_x\":{\"color\":\"#2a3f5f\"},\"error_y\":{\"color\":\"#2a3f5f\"},\"marker\":{\"line\":{\"color\":\"#E5ECF6\",\"width\":0.5},\"pattern\":{\"fillmode\":\"overlay\",\"size\":10,\"solidity\":0.2}},\"type\":\"bar\"}],\"scattergeo\":[{\"type\":\"scattergeo\",\"marker\":{\"colorbar\":{\"outlinewidth\":0,\"ticks\":\"\"}}}],\"scatterpolar\":[{\"type\":\"scatterpolar\",\"marker\":{\"colorbar\":{\"outlinewidth\":0,\"ticks\":\"\"}}}],\"histogram\":[{\"marker\":{\"pattern\":{\"fillmode\":\"overlay\",\"size\":10,\"solidity\":0.2}},\"type\":\"histogram\"}],\"scattergl\":[{\"type\":\"scattergl\",\"marker\":{\"colorbar\":{\"outlinewidth\":0,\"ticks\":\"\"}}}],\"scatter3d\":[{\"type\":\"scatter3d\",\"line\":{\"colorbar\":{\"outlinewidth\":0,\"ticks\":\"\"}},\"marker\":{\"colorbar\":{\"outlinewidth\":0,\"ticks\":\"\"}}}],\"scattermapbox\":[{\"type\":\"scattermapbox\",\"marker\":{\"colorbar\":{\"outlinewidth\":0,\"ticks\":\"\"}}}],\"scatterternary\":[{\"type\":\"scatterternary\",\"marker\":{\"colorbar\":{\"outlinewidth\":0,\"ticks\":\"\"}}}],\"scattercarpet\":[{\"type\":\"scattercarpet\",\"marker\":{\"colorbar\":{\"outlinewidth\":0,\"ticks\":\"\"}}}],\"carpet\":[{\"aaxis\":{\"endlinecolor\":\"#2a3f5f\",\"gridcolor\":\"white\",\"linecolor\":\"white\",\"minorgridcolor\":\"white\",\"startlinecolor\":\"#2a3f5f\"},\"baxis\":{\"endlinecolor\":\"#2a3f5f\",\"gridcolor\":\"white\",\"linecolor\":\"white\",\"minorgridcolor\":\"white\",\"startlinecolor\":\"#2a3f5f\"},\"type\":\"carpet\"}],\"table\":[{\"cells\":{\"fill\":{\"color\":\"#EBF0F8\"},\"line\":{\"color\":\"white\"}},\"header\":{\"fill\":{\"color\":\"#C8D4E3\"},\"line\":{\"color\":\"white\"}},\"type\":\"table\"}],\"barpolar\":[{\"marker\":{\"line\":{\"color\":\"#E5ECF6\",\"width\":0.5},\"pattern\":{\"fillmode\":\"overlay\",\"size\":10,\"solidity\":0.2}},\"type\":\"barpolar\"}],\"pie\":[{\"automargin\":true,\"type\":\"pie\"}]},\"layout\":{\"autotypenumbers\":\"strict\",\"colorway\":[\"#636efa\",\"#EF553B\",\"#00cc96\",\"#ab63fa\",\"#FFA15A\",\"#19d3f3\",\"#FF6692\",\"#B6E880\",\"#FF97FF\",\"#FECB52\"],\"font\":{\"color\":\"#2a3f5f\"},\"hovermode\":\"closest\",\"hoverlabel\":{\"align\":\"left\"},\"paper_bgcolor\":\"white\",\"plot_bgcolor\":\"#E5ECF6\",\"polar\":{\"bgcolor\":\"#E5ECF6\",\"angularaxis\":{\"gridcolor\":\"white\",\"linecolor\":\"white\",\"ticks\":\"\"},\"radialaxis\":{\"gridcolor\":\"white\",\"linecolor\":\"white\",\"ticks\":\"\"}},\"ternary\":{\"bgcolor\":\"#E5ECF6\",\"aaxis\":{\"gridcolor\":\"white\",\"linecolor\":\"white\",\"ticks\":\"\"},\"baxis\":{\"gridcolor\":\"white\",\"linecolor\":\"white\",\"ticks\":\"\"},\"caxis\":{\"gridcolor\":\"white\",\"linecolor\":\"white\",\"ticks\":\"\"}},\"coloraxis\":{\"colorbar\":{\"outlinewidth\":0,\"ticks\":\"\"}},\"colorscale\":{\"sequential\":[[0.0,\"#0d0887\"],[0.1111111111111111,\"#46039f\"],[0.2222222222222222,\"#7201a8\"],[0.3333333333333333,\"#9c179e\"],[0.4444444444444444,\"#bd3786\"],[0.5555555555555556,\"#d8576b\"],[0.6666666666666666,\"#ed7953\"],[0.7777777777777778,\"#fb9f3a\"],[0.8888888888888888,\"#fdca26\"],[1.0,\"#f0f921\"]],\"sequentialminus\":[[0.0,\"#0d0887\"],[0.1111111111111111,\"#46039f\"],[0.2222222222222222,\"#7201a8\"],[0.3333333333333333,\"#9c179e\"],[0.4444444444444444,\"#bd3786\"],[0.5555555555555556,\"#d8576b\"],[0.6666666666666666,\"#ed7953\"],[0.7777777777777778,\"#fb9f3a\"],[0.8888888888888888,\"#fdca26\"],[1.0,\"#f0f921\"]],\"diverging\":[[0,\"#8e0152\"],[0.1,\"#c51b7d\"],[0.2,\"#de77ae\"],[0.3,\"#f1b6da\"],[0.4,\"#fde0ef\"],[0.5,\"#f7f7f7\"],[0.6,\"#e6f5d0\"],[0.7,\"#b8e186\"],[0.8,\"#7fbc41\"],[0.9,\"#4d9221\"],[1,\"#276419\"]]},\"xaxis\":{\"gridcolor\":\"white\",\"linecolor\":\"white\",\"ticks\":\"\",\"title\":{\"standoff\":15},\"zerolinecolor\":\"white\",\"automargin\":true,\"zerolinewidth\":2},\"yaxis\":{\"gridcolor\":\"white\",\"linecolor\":\"white\",\"ticks\":\"\",\"title\":{\"standoff\":15},\"zerolinecolor\":\"white\",\"automargin\":true,\"zerolinewidth\":2},\"scene\":{\"xaxis\":{\"backgroundcolor\":\"#E5ECF6\",\"gridcolor\":\"white\",\"linecolor\":\"white\",\"showbackground\":true,\"ticks\":\"\",\"zerolinecolor\":\"white\",\"gridwidth\":2},\"yaxis\":{\"backgroundcolor\":\"#E5ECF6\",\"gridcolor\":\"white\",\"linecolor\":\"white\",\"showbackground\":true,\"ticks\":\"\",\"zerolinecolor\":\"white\",\"gridwidth\":2},\"zaxis\":{\"backgroundcolor\":\"#E5ECF6\",\"gridcolor\":\"white\",\"linecolor\":\"white\",\"showbackground\":true,\"ticks\":\"\",\"zerolinecolor\":\"white\",\"gridwidth\":2}},\"shapedefaults\":{\"line\":{\"color\":\"#2a3f5f\"}},\"annotationdefaults\":{\"arrowcolor\":\"#2a3f5f\",\"arrowhead\":0,\"arrowwidth\":1},\"geo\":{\"bgcolor\":\"white\",\"landcolor\":\"#E5ECF6\",\"subunitcolor\":\"white\",\"showland\":true,\"showlakes\":true,\"lakecolor\":\"white\"},\"title\":{\"x\":0.05},\"mapbox\":{\"style\":\"light\"}}},\"geo\":{\"domain\":{\"x\":[0.0,1.0],\"y\":[0.0,1.0]},\"center\":{},\"projection\":{\"type\":\"robinson\"},\"showcountries\":true},\"legend\":{\"tracegroupgap\":0},\"title\":{\"text\":\"DBScan clusters\"}},                        {\"responsive\": true}                    ).then(function(){\n",
       "                            \n",
       "var gd = document.getElementById('2eafbea3-ff3e-45ce-ab03-971b73fae629');\n",
       "var x = new MutationObserver(function (mutations, observer) {{\n",
       "        var display = window.getComputedStyle(gd).display;\n",
       "        if (!display || display === 'none') {{\n",
       "            console.log([gd, 'removed!']);\n",
       "            Plotly.purge(gd);\n",
       "            observer.disconnect();\n",
       "        }}\n",
       "}});\n",
       "\n",
       "// Listen for the removal of the full notebook cells\n",
       "var notebookContainer = gd.closest('#notebook-container');\n",
       "if (notebookContainer) {{\n",
       "    x.observe(notebookContainer, {childList: true});\n",
       "}}\n",
       "\n",
       "// Listen for the clearing of the current output cell\n",
       "var outputEl = gd.closest('.output');\n",
       "if (outputEl) {{\n",
       "    x.observe(outputEl, {childList: true});\n",
       "}}\n",
       "\n",
       "                        })                };                });            </script>        </div>"
      ]
     },
     "metadata": {},
     "output_type": "display_data"
    }
   ],
   "source": [
    "cluster_df = separate_df_lat_long(df)\n",
    "db_cluster = DBSCAN(eps=300, min_samples=2, metric=great_circle_distance).fit(cluster_df)\n",
    "print(db_cluster.labels_)\n",
    "df[\"cluster_kmeans\"] = db_cluster.labels_ #it's actually dbscan_clusters ofc, but easier not to rewrite plotting\n",
    "great_circle_df = df.loc[df[\"cluster_kmeans\"] != -1]\n",
    "plotdf(great_circle_df, \"\", \"DBScan clusters\", \"robinson\", False)"
   ]
  },
  {
   "cell_type": "code",
   "execution_count": 84,
   "id": "ba06fe61",
   "metadata": {},
   "outputs": [],
   "source": [
    "def splitUSA(df):\n",
    "    us_list = df.loc[df[\"countrycode\"] == \"US\"]\n",
    "    rest_of_world = df.loc[df[\"countrycode\"] != \"US\"]\n",
    "    #for entry in df.index:\n",
    "    #   if(df[\"countrycode\"][entry] == \"US\"):\n",
    "    #      us_list.append(df.iloc(entry))\n",
    "    #  else:\n",
    "    #rest_of_world.append(df.loc(entry))\n",
    "    #print(us_list.head(), \"\\n ### \\n\", rest_of_world.head())\n",
    "    return pd.DataFrame(us_list), pd.DataFrame(rest_of_world)\n",
    "            "
   ]
  },
  {
   "cell_type": "code",
   "execution_count": 85,
   "id": "f4c3b6c1",
   "metadata": {},
   "outputs": [],
   "source": [
    "#cluster_df = kmns(df)\n",
    "\n",
    "#plotdf(df,\"KMeans\")\n"
   ]
  },
  {
   "cell_type": "markdown",
   "id": "6b3f959a",
   "metadata": {},
   "source": [
    "# Sort headlines per cluster"
   ]
  },
  {
   "cell_type": "code",
   "execution_count": 86,
   "id": "0bfdccc2",
   "metadata": {},
   "outputs": [],
   "source": [
    "def calc_distance(df_entry, centers, cluster):\n",
    "    center_long = centers[cluster][0]\n",
    "    center_lat = centers[cluster][1]\n",
    "    euclidean_distance = math.sqrt(\n",
    "        math.pow(\n",
    "            center_long - df_entry[\"longitude\"],\n",
    "            2\n",
    "        )\n",
    "        +\n",
    "        math.pow(\n",
    "            center_lat - df_entry[\"latitude\"],\n",
    "            2\n",
    "        )\n",
    "    )\n",
    "    return euclidean_distance\n",
    "def sort_headlines(df, centers, n_clusters):\n",
    "    list_of_dfs = []\n",
    "    for i in range(n_clusters):\n",
    "        cluster_list = df.loc[df[\"cluster_kmeans\"] == i]\n",
    "        list_of_dfs.append(cluster_list)\n",
    "   \n",
    "    list_of_dfs = sorted(list_of_dfs, key = lambda x: (len(x[\"headline\"])), reverse = True)\n",
    "    \n",
    "    updated_list_of_dfs = [] #There likely is at least 50 ways to do this better\n",
    "    for cluster_list in list_of_dfs:\n",
    "        distance_list = []\n",
    "        for index, row in cluster_list.iterrows():\n",
    "            distance_list.append(calc_distance(row, centers, row[\"cluster_kmeans\"]))\n",
    "        cluster_list = cluster_list.assign(distance = distance_list)\n",
    "        cluster_list.sort_values(by=[\"distance\"], inplace = True)\n",
    "        updated_list_of_dfs.append(cluster_list)\n",
    "        \n",
    "    list_of_dfs = updated_list_of_dfs\n",
    "    cluster_counter = 1\n",
    "    for cluster_list in list_of_dfs:\n",
    "        actual_list = cluster_list[\"headline\"].tolist()\n",
    "        print(\"\\n \\nFor cluster \", cluster_counter)\n",
    "        for index in range(0, len(actual_list)):\n",
    "            print(actual_list[index])\n",
    "        cluster_counter = cluster_counter + 1"
   ]
  },
  {
   "cell_type": "code",
   "execution_count": 87,
   "id": "826ba2aa",
   "metadata": {},
   "outputs": [
    {
     "name": "stdout",
     "output_type": "stream",
     "text": [
      "                                  headline  latitude  longitude countrycode  \\\n",
      "0                 Zika Outbreak Hits Miami  25.77427  -80.19366          US   \n",
      "1          Could Zika Reach New York City?  40.71427  -74.00597          US   \n",
      "2        First Case of Zika in Miami Beach  25.79065  -80.13005          US   \n",
      "4  Dallas man comes down with case of Zika  32.78306  -96.80667          US   \n",
      "6   Zika Concerns are Spreading in Houston  29.76328  -95.36327          US   \n",
      "\n",
      "  country           city  cluster_kmeans  \n",
      "0                  Miami               0  \n",
      "1          New York City               1  \n",
      "2            Miami Beach               0  \n",
      "4                 Dallas              -1  \n",
      "6                Houston              -1  \n"
     ]
    }
   ],
   "source": [
    "usa_df, world_df = splitUSA(df)\n",
    "print(usa_df.head())"
   ]
  },
  {
   "cell_type": "markdown",
   "id": "778251c4",
   "metadata": {},
   "source": [
    "# Plot US and world"
   ]
  },
  {
   "cell_type": "code",
   "execution_count": 88,
   "id": "ff45ae20",
   "metadata": {},
   "outputs": [
    {
     "name": "stdout",
     "output_type": "stream",
     "text": [
      "False\n",
      "False\n"
     ]
    },
    {
     "data": {
      "image/png": "[encoded data removed]",
      "text/plain": [
       "<Figure size 640x480 with 1 Axes>"
      ]
     },
     "metadata": {},
     "output_type": "display_data"
    },
    {
     "data": {
      "application/vnd.plotly.v1+json": {
       "config": {
        "plotlyServerURL": "https://plot.ly"
       },
       "data": [
        {
         "geo": "geo",
         "hovertemplate": "<extra></extra>",
         "legendgroup": "",
         "marker": {
          "color": "#636efa",
          "symbol": "circle"
         },
         "mode": "markers",
         "name": "",
         "showlegend": false,
         "type": "scattergeo"
        },
        {
         "geo": "geo",
         "hovertemplate": "<b>%{hovertext}</b><br><br>latitude=%{lat}<br>longitude=%{lon}<extra></extra>",
         "hovertext": [
          "Cluster Center",
          "Cluster Center",
          "Cluster Center"
         ],
         "lat": [
          35.07534098484848,
          36.84110404255319,
          36.967562471910114
         ],
         "legendgroup": "",
         "lon": [
          -78.70102295454545,
          -118.11401170212766,
          -93.22135719101124
         ],
         "marker": {
          "color": "#636efa",
          "size": 12,
          "symbol": "diamond"
         },
         "mode": "markers",
         "name": "",
         "showlegend": false,
         "type": "scattergeo"
        },
        {
         "geo": "geo",
         "hovertemplate": "<b>%{hovertext}</b><br><br>latitude=%{lat}<br>longitude=%{lon}<br>cluster_kmeans=%{marker.color}<extra></extra>",
         "hovertext": [
          "Zika Outbreak Hits Miami",
          "Could Zika Reach New York City?",
          "First Case of Zika in Miami Beach",
          "Dallas man comes down with case of Zika",
          "Zika Concerns are Spreading in Houston",
          "The CDC in Atlanta is Growing Worried",
          "Brownsville teen contracts Zika virus",
          "Mosquito control efforts in St. Louis take new tactics with Zika threat",
          "Flu outbreak in Galveston, Texas",
          "New Los Angeles Hairstyle goes Viral",
          "Orlando volunteers aid Zika research",
          "Chicago's First Zika Case Confirmed",
          "Tampa Bay Area Zika Case Count Climbs",
          "Baltimore plans for Zika virus",
          "Philadelphia experts track pandemic",
          "Tallahassee Doctors Discuss Zika Virus",
          "New Vaccine on Trial in Bethesda District",
          "Zika virus reported in Cleveland",
          "More Zika patients reported in Austin",
          "Zika symtomps spotted in Key West",
          "Seattle scientists get $500,000 grant to pursue Zika vaccine New 7:50 pm",
          "Nashville takes precautions against Zika",
          "Fort Collins Encounters Severe Symptoms of Gonorrhea",
          "Madison lab developing vaccine against Zika virus [The Wisconsin State Journal]",
          "New Zika Case Confirmed in Sarasota County",
          "Jacksonville man hit by Zika",
          "Authorities are Worried about the Spread of Bronchitis in Silver Spring",
          "El Paso fighting Zika",
          "Salt Lake City tests new cure for Respiratory Syncytial Virus",
          "First Columbus Zika case",
          "Zika Patient in Seminole, Florida",
          "Can Zika make it here to Vero Beach?",
          "Hollywood Outbreak Film Premieres",
          "Doral hit by Deadly Virus",
          "Authorities are Worried about the Spread of Influenza in Savannah",
          "HIV has Arrived in Fairfax",
          "New medicine wipes out West Nile Virus in Ventura",
          "First Zika Case in Cincinnati",
          "Zika cases concern Charlotte residents",
          "Spike of Pneumonia Cases in Springfield",
          "Zika case reported in Jupiter",
          "Zika virus confirmed in Westchester",
          "Rumors about Hepatitis D Spreading in San Juan Capistrano have been Refuted",
          "The Spread of Measles in Spokane has been Confirmed",
          "West Nile Virus Outbreak in Louisville",
          "New details in Baton Rouge cop killings",
          "More Zika patients reported in Pensacola",
          "Outbreak of Zika in Corpus Christi",
          "How to Avoid Rhinovirus in Lemon Grove",
          "Measles has not Left Brooklyn",
          "Escondido neighborhood to get sprayed for Zika virus",
          "Zika in Belmont, Belmont worry",
          "Case of Mumps Reported in Dayton",
          "Gainesville Deals with Disease Concerns",
          "Varicella Keeps Spreading in Detroit",
          "Manhattan Residents Recieve HIV vaccine",
          "Rumors about Dengue Spreading in Syracuse have been Refuted",
          "Will Norovirus vaccine help Raleigh?",
          "How to Avoid Gonorrhea in Shreveport",
          "Ithaca is infested with Dengue",
          "BREAKING aEUR\" Zika in Missoula",
          "New medicine wipes out Chikungunya in Tucson",
          "Hepatitis B Comes to Kansas City",
          "Is Lafayette prepared to combat Zika?",
          "Syphilis Outbreak in Harrisburg",
          "Zika Arrives in North Miami",
          "Urbana Encounters Severe Symptoms of Meningitis",
          "Pittsburgh Residents Recieve Norovirus vaccine",
          "Chikungunya Hits Denver",
          "HIV Keeps Spreading in Boulder",
          "Will Tuberculosis vaccine help Rockville?",
          "Zika Virus Arrives in Ontario",
          "The Spread of Chikungunya in Arcadia has been Confirmed",
          "Outbreak of Zika in Stephenville",
          "Providence Encounters Severe Symptoms of Dengue",
          "Zika battle outlined at Valdosta meeting",
          "Zika case reported in Coral Gables",
          "Hepatitis C Outbreak in Danbury",
          "Chickenpox has Arrived in Chula Vista",
          "Syphilis Hits Jefferson",
          "Will HIV vaccine help Las Vegas?",
          "Zika arrives in West Palm Beach",
          "Mobile authorities confirmed the spread of Bronchitis",
          "Zika spreads to Daytona Beach",
          "Spike of Chlamydia Cases in Farmington",
          "Authorities are Worried about the Spread of Rotavirus in Union",
          "Zika Virus Detected in Lubbock",
          "Malaria re-emerges in Boise",
          "How to Avoid Hepatitis B in Waldorf",
          "Tuberculosis Outbreak in Newark",
          "Zika Virus Sparks 'International Concern'",
          "Zika-carrying mosquitoes discovered in Ardmore",
          "Frisco Woman Tests Positive For Zika Virus",
          "Benton Residents Recieve Pneumonia vaccine",
          "Zika Outbreak in Pinewood",
          "Zika Strikes St. Petersburg",
          "Zika symptoms spotted in Hollywood",
          "Swine Flu re-emerges in La Jolla",
          "Tuberculosis Outbreak in Hartford",
          "Rumors about Mumps Spreading in New Bedford have been Refuted",
          "Respiratory Syncytial Virus Vaccine is now Required in Tulsa",
          "More people in Indianapolis are infected with Norovirus every year",
          "Rotavirus Vaccine is now Required in Starkville",
          "Milwaukee authorities confirmed the spread of Rhinovirus",
          "Zika symptoms spotted in Arlington",
          "Zika Spreads to Palm Beach Gardens",
          "Spike of Herpes Cases in Meriden",
          "Zika case reported in Abilene",
          "Outbreak of Zika in Palm Springs",
          "How to Avoid Pneumonia in Bullhead City",
          "Meningitis re-emerges in Summerville",
          "Pneumonia Symptoms Spread all over Bloomington",
          "Phoenix Residents Recieve Syphilis vaccine",
          "Zika Outbreak in Weslaco",
          "Mumps Symptoms Spread all over Jefferson",
          "The Spread of Rhinovirus in Boardman has been Confirmed",
          "Richland Center is infested with Hepatitis B",
          "Malaria Vaccine is now Required in Schenectady",
          "Lower Hospitalization in Lakewood after Hepatitis B Vaccine becomes Mandatory",
          "Spike of Rotavirus Cases in Omaha",
          "Will West Nile Virus vaccine help Coronado?",
          "Zika case confirmed in Lorain",
          "Chickenpox Hits Simpsonville",
          "Framingham Residents Receive Measles vaccine",
          "Bridgeport authorities confirmed the spread of West Nile Virus",
          "Measles Vaccine is now Required in Wailuku",
          "Zika in Tamarac!",
          "Will Measles vaccine help Milford?",
          "Rhinovirus Hits Bakersfield",
          "More people in Berkeley are infected with Swine Flu every year",
          "Zika only the latest mosquito-borne threat to New Orleans",
          "Will Swine Flu vaccine help Annapolis?",
          "Lower Hospitalization in Monroe after Hepatitis D Vaccine becomes Mandatory",
          "New medicine wipes out Dengue in Saginaw",
          "Spike of Rhinovirus Cases in Sevierville",
          "New medicine wipes out Mumps in Saint Charles",
          "Case of Chikungunya Reported in Gaithersburg",
          "How to Avoid Respiratory Syncytial Virus in San Bernardino",
          "More Zika patients reported in Waco",
          "Erie County sets Zika traps",
          "Schools in Huntington Closed Due to Rotavirus Outbreak",
          "Chickenpox Comes to Stillwater",
          "Case of Measles Reported in Springdale",
          "Norwalk Encounters Severe Symptoms of Malaria",
          "More Zika patients reported in Carrollton",
          "West Nile Virus Exposure in Racine",
          "The Spread of Hepatitis E in Lansing has been Confirmed",
          "West Nile Virus Exposure in Alpharetta",
          "Herpes Vaccine is now Required in Mattoon",
          "Kent is infested with Rabies",
          "Zika symptoms spotted in Bonita Springs",
          "More Zika patients reported in Fort Myers",
          "Zika spreads to Lewisville",
          "Ogden is infested with Gonorrhea",
          "Fort Hood Reports its First Zika Patient",
          "New medicine wipes out Rabies in Newburgh",
          "Iowa City Encounters Severe Symptoms of Rhinovirus",
          "Mumps Hits Howard Beach",
          "The Spread of Gonorrhea in Reno has been Confirmed",
          "How to Avoid Rhinovirus in Plainfield",
          "Rumors about Varicella spreading in Carlsbad have been refuted",
          "Scranton authorities confirmed the spread of Gonorrhea",
          "Hallandale Beach a Victim of Zika Outbreak",
          "Rhinovirus re-emerges in Storrs",
          "Germantown authorities confirmed the spread of Chickenpox",
          "Rumors about Rotavirus spreading in North Platte have been refuted",
          "Spike of Hepatitis C Cases in Golden",
          "Pneumonia Exposure in Alhambra",
          "Schools in Bentonville Closed Due to Hepatitis B Outbreak",
          "Hepatitis E Hits Hammond",
          "Schools in Bridgeton Closed Due to Mumps Outbreak",
          "Biloxi Residents Recieve Chlamydia vaccine",
          "More Patients in Crawfordsville are Getting Diagnosed with Rabies",
          "Authorities are Worried about the Spread of Hepatitis D in Akron",
          "Zika arrives in Boca Raton",
          "Bradenton Experiences Zika Troubles  ",
          "Chlamydia Symptoms Spread all over University City",
          "Wisconsin Rapids Patient in Critical Condition after Contracting Chickenpox",
          "Zika spreads to Kissimmee",
          "Herpes Symptoms Spread all over Fremont",
          "Spike of Pneumonia Cases in The Bronx",
          "HIV has Arrived in Tacoma",
          "Malaria re-emerges in Nashua",
          "Arvada is infested with Syphilis",
          "Spike of Syphilis Cases in West Monroe",
          "Deerfield tests new cure for Measles",
          "Hepatitis A re-emerges in Foster City",
          "How to Avoid Tuberculosis in Santa Monica",
          "Zika reported in Fort Pierce",
          "Zika spreads to Winter Park",
          "Hepatitis A has not Left Staten Island",
          "New Milford Patient in Critical Condition after Contracting Respiratory Syncytial Virus",
          "More people in Palo Alto are infected with HIV every year",
          "Vineland authorities confirmed the spread of Chlamydia",
          "Tupelo Residents Recieve Syphilis vaccine",
          "The Spread of Dengue in Yakima has been Confirmed",
          "Rumors about Chlamydia spreading in Redmond have been refuted",
          "Case of Varicella Reported in Concord",
          "Zika virus case reported in Rockland",
          "Zika investigators coming to Mankato",
          "Toms River Encounters Severe Symptoms of Respiratory Syncytial Virus",
          "Hepatitis D Keeps Spreading in Bismarck",
          "Varicella Outbreak in Minot",
          "Authorities are Worried about the Spread of Chickenpox in Hemet",
          "Princeton Encounters Severe Symptoms of Dengue",
          "Lower Hospitalization in Palm Springs after Hepatitis A Vaccine becomes Mandatory",
          "Outbreak of Zika in Leesburg",
          "Stony Brook University experts discuss Zika virus",
          "Lower Hospitalization in Janesville after Varicella Vaccine becomes Mandatory",
          "Rabies Outbreak in Altus",
          "Miami resident suggests Zika precautions",
          "Schools in Tulare Closed Due to Mumps Outbreak",
          "Hepatitis D Keeps Spreading in Danvers",
          "Authorities a Miami",
          "Spike of Tuberculosis Cases in Albuquerque",
          "More people in Cranford are infected with Hepatitis A every year",
          "West Nile Virus Hits Monroe",
          "Pneumonia Outbreak in Springville",
          "Rumors about Rotavirus Spreading in Joliet have been Refuted",
          "Lawrenceville is infested with Dengue",
          "Gonorrhea has Arrived in Avon Lake",
          "Respiratory Syncytial Virus Hits Henderson",
          "More Zika patients reported in Lakeland",
          "Malaria Vaccine is now Required in Winona",
          "More Patients in Canton are Getting Diagnosed with Norovirus",
          "Ronkonkoma is infested with Chickenpox",
          "Gonorrhea Exposure in Norwalk",
          "How to Avoid Rhinovirus in Medford",
          "Hepatitis D Symptoms Spread all over Evansville",
          "New medicine wipes out Herpes in Bossier City",
          "Duluth Patient in Critical Condition after Contracting Rotavirus",
          "Norfolk tests new cure for Herpes",
          "Manassas Encounters Severe Symptoms of Measles",
          "Fayetteville authorities confirmed the spread of HIV",
          "Zika Outbreak in South Miami",
          "Hepatitis D Symptoms Spread all over North Bethesda",
          "Zika seminars in Yuma County",
          "Rumors about Hepatitis E Spreading in Morristown have been Refuted",
          "Mumps Outbreak in Joplin",
          "Authorities are Worried about the Spread of Mumps in Corona",
          "Schools in Danville Closed Due to Tuberculosis Outbreak",
          "Marquette tests new cure for Hepatitis A",
          "Norovirus Vaccine is now Required in Anaheim",
          "The Spread of Hepatitis E in Fargo has been Confirmed",
          "West Nile Virus Keeps Spreading in Hauppauge",
          "Bronchitis Keeps Spreading in Hayward",
          "Zika spreads to Plant City",
          "Zika Reported in North Miami Beach",
          "Case of West Nile Virus Reported in Riverside",
          "Northfield Encounters Severe Symptoms of Herpes",
          "The Spread of Respiratory Syncytial Virus in Monroe has been Confirmed",
          "How to Avoid Hepatitis B in Trenton",
          "Barstow Patient in Critical Condition after Contracting Herpes",
          "Will Gonorrhea vaccine help East Moline?",
          "New medicine wipes out Influenza in Redlands",
          "Alameda Residents Recieve Rabies vaccine",
          "Memphis Encounters Severe Symptoms of Swine Flu",
          "Zika Troubles come to Delray Beach",
          "How to Avoid Hepatitis E in South Bend",
          "Davenport is infested with Dengue",
          "Malaria Vaccine is now Required in Elyria",
          "Influenza Keeps Spreading in Suffolk",
          "More people in Allentown are infected with Chlamydia every year",
          "Dengue Outbreak in Easton",
          "Authorities are Worried about the Spread of Varicella in Clovis",
          "More Zika patients reported in Fort Worth",
          "Zika symptoms spotted in Boynton Beach",
          "Zika Outbreak in Wichita Falls"
         ],
         "lat": [
          25.77427,
          40.71427,
          25.79065,
          32.78306,
          29.76328,
          33.749,
          25.82176,
          38.62727,
          29.30135,
          34.05223,
          28.53834,
          41.85003,
          27.94752,
          39.29038,
          39.95233,
          30.43826,
          38.98067,
          35.15952,
          30.26715,
          24.55524,
          47.60621,
          36.16589,
          40.58526,
          34.69926,
          27.33643,
          34.8662,
          38.99067,
          31.75872,
          40.76078,
          32.46098,
          27.83975,
          27.63864,
          26.0112,
          25.81954,
          32.08354,
          38.84622,
          34.27834,
          39.12711,
          35.22709,
          39.80172,
          26.93422,
          25.75482,
          33.50169,
          47.65966,
          38.25424,
          30.44332,
          30.42131,
          27.80058,
          32.74255,
          40.6501,
          33.11921,
          42.39593,
          39.75895,
          29.65163,
          42.33143,
          39.18361,
          43.04812,
          35.7721,
          32.52515,
          42.44063,
          46.87215,
          32.22174,
          39.11417,
          30.22409,
          40.2737,
          25.89009,
          40.11059,
          40.44062,
          39.73915,
          40.01499,
          39.084,
          34.06334,
          34.13973,
          32.2207,
          41.82399,
          30.83334,
          25.72149,
          41.39482,
          32.64005,
          38.86456,
          36.17497,
          26.71534,
          30.69436,
          29.21081,
          37.78088,
          40.6976,
          33.57786,
          43.6135,
          38.62456,
          39.68372,
          39.53491,
          34.17426,
          33.15067,
          34.56454,
          25.86898,
          27.77086,
          26.0112,
          32.84727,
          41.76371,
          41.63526,
          36.15398,
          39.76838,
          33.45049,
          43.0389,
          32.73569,
          26.82339,
          41.53815,
          32.44874,
          26.6359,
          35.14778,
          33.0185,
          39.16533,
          33.44838,
          26.15952,
          38.86456,
          41.02423,
          46.28569,
          42.81424,
          40.09789,
          41.25626,
          32.68589,
          41.45282,
          34.73706,
          42.27926,
          41.83809,
          20.89133,
          26.21286,
          41.22232,
          35.37329,
          37.87159,
          29.95465,
          38.97845,
          32.50931,
          32.86013,
          35.86815,
          38.60317,
          39.14344,
          34.10834,
          31.54933,
          42.12922,
          38.41925,
          36.11561,
          36.18674,
          41.1176,
          33.58011,
          42.72613,
          41.56476,
          34.07538,
          39.48309,
          41.15367,
          26.33981,
          26.62168,
          33.04623,
          41.223,
          31.13489,
          41.50343,
          41.66113,
          40.65788,
          39.52963,
          39.70421,
          33.15809,
          41.40916,
          25.9812,
          41.80843,
          39.17316,
          41.12389,
          39.75554,
          34.09529,
          36.37285,
          30.50463,
          39.42734,
          30.39603,
          40.04115,
          41.08144,
          26.35869,
          27.49893,
          38.65588,
          44.38358,
          28.30468,
          41.43333,
          40.84985,
          47.25288,
          42.76537,
          39.80276,
          32.50931,
          42.17114,
          37.55855,
          34.01945,
          27.44671,
          28.6,
          40.56233,
          40.9351,
          37.44188,
          39.48623,
          34.25807,
          46.60207,
          44.27262,
          38.5245,
          42.13066,
          44.15906,
          39.95373,
          46.80833,
          48.23251,
          33.74761,
          25.53844,
          26.6359,
          28.81082,
          28.07389,
          42.68279,
          34.63813,
          25.77427,
          36.20773,
          42.57509,
          25.77427,
          35.08449,
          40.65844,
          32.50931,
          40.16523,
          41.52519,
          33.95621,
          41.50532,
          37.83615,
          28.03947,
          44.04996,
          34.23676,
          40.81538,
          41.1176,
          42.41843,
          37.97476,
          32.51599,
          34.00288,
          36.84681,
          38.75095,
          36.06258,
          25.77427,
          39.04455,
          32.72532,
          36.21398,
          37.08423,
          40.74705,
          37.64563,
          46.54354,
          33.83529,
          46.87719,
          40.82565,
          37.66882,
          28.01888,
          25.93315,
          39.77978,
          44.4583,
          32.50931,
          42.13949,
          34.89859,
          41.50087,
          34.05557,
          37.76521,
          35.14953,
          26.46146,
          41.68338,
          41.52364,
          41.36838,
          36.72836,
          40.60843,
          38.77428,
          36.82523,
          32.72541,
          26.52535,
          33.91371
         ],
         "legendgroup": "",
         "lon": [
          -80.19366,
          -74.00597,
          -80.13005,
          -96.80667,
          -95.36327,
          -84.38798,
          -80.24116,
          -90.19789,
          -94.7977,
          -118.24368,
          -81.37924,
          -87.65005,
          -82.45843,
          -76.61219,
          -75.16379,
          -84.28073,
          -77.10026,
          -84.87661,
          -97.74306,
          -81.78163,
          -122.33207,
          -86.78444,
          -105.08442,
          -86.74833,
          -82.53065,
          -92.11015,
          -77.02609,
          -106.48693,
          -111.89105,
          -84.98771,
          -82.79121,
          -80.39727,
          -80.14949,
          -80.35533,
          -81.09983,
          -77.30637,
          -119.29317,
          -84.51439,
          -80.84313,
          -89.64371,
          -80.09421,
          -80.32727,
          -117.66255,
          -117.42908,
          -85.75941,
          -91.18747,
          -87.21691,
          -97.39638,
          -117.03142,
          -73.94958,
          -117.08642,
          -71.17867,
          -84.19161,
          -82.32483,
          -83.04575,
          -96.57167,
          -76.14742,
          -78.63861,
          -93.75018,
          -76.49661,
          -113.994,
          -110.92648,
          -94.62746,
          -92.01984,
          -76.88442,
          -80.18671,
          -88.20727,
          -79.99589,
          -104.9847,
          -105.27055,
          -77.15276,
          -117.65089,
          -118.03534,
          -98.20226,
          -71.41283,
          -83.28032,
          -80.26838,
          -73.45401,
          -117.0842,
          -77.18776,
          -115.13722,
          -80.05337,
          -88.04305,
          -81.02283,
          -90.42179,
          -74.2632,
          -101.85517,
          -116.20345,
          -76.93914,
          -75.74966,
          -119.75269,
          -97.14363,
          -96.82361,
          -92.58683,
          -80.21699,
          -82.67927,
          -80.14949,
          -117.2742,
          -72.68509,
          -70.92701,
          -95.99277,
          -86.15804,
          -88.81961,
          -87.90647,
          -97.10807,
          -80.13865,
          -72.80704,
          -99.73314,
          -80.09615,
          -114.5683,
          -80.17565,
          -86.52639,
          -112.07404,
          -97.99084,
          -77.18776,
          -80.66285,
          -119.28446,
          -73.93957,
          -74.21764,
          -95.94043,
          -117.18309,
          -82.18237,
          -82.25428,
          -71.41617,
          -87.65116,
          -156.50604,
          -80.24977,
          -73.0565,
          -119.01871,
          -122.27275,
          -90.07507,
          -76.49218,
          -92.1193,
          -97.36391,
          -83.56184,
          -76.93858,
          -77.20137,
          -117.28977,
          -97.14667,
          -80.08506,
          -82.44515,
          -97.05837,
          -94.12881,
          -73.4079,
          -85.07661,
          -87.78285,
          -87.53893,
          -84.29409,
          -88.37283,
          -81.35789,
          -81.7787,
          -81.84059,
          -96.99417,
          -111.97383,
          -97.77561,
          -74.01042,
          -91.53017,
          -73.83625,
          -119.8138,
          -86.39944,
          -117.35059,
          -75.6649,
          -80.14838,
          -72.24952,
          -77.27165,
          -100.76542,
          -105.2211,
          -118.12701,
          -94.20882,
          -90.46293,
          -75.23408,
          -88.88531,
          -86.87445,
          -81.51901,
          -80.0831,
          -82.57482,
          -90.30928,
          -89.81735,
          -81.41667,
          -96.49808,
          -73.86641,
          -122.44429,
          -71.46757,
          -105.08748,
          -92.1193,
          -87.84451,
          -122.27108,
          -118.49119,
          -80.32561,
          -81.33924,
          -74.13986,
          -74.01903,
          -122.14302,
          -75.02573,
          -88.70464,
          -120.5059,
          -121.17392,
          -90.35734,
          -70.91616,
          -94.00915,
          -74.19792,
          -100.78374,
          -101.29627,
          -116.97307,
          -80.40894,
          -80.09615,
          -81.87786,
          -82.43902,
          -89.01872,
          -99.33398,
          -80.19366,
          -119.34734,
          -70.93005,
          -80.19366,
          -106.65114,
          -74.29959,
          -92.1193,
          -111.61075,
          -88.0834,
          -83.98796,
          -82.0282,
          -87.59001,
          -81.9498,
          -91.63932,
          -84.49076,
          -73.11233,
          -73.4079,
          -71.10616,
          -87.55585,
          -93.73212,
          -84.14464,
          -76.28522,
          -77.47527,
          -94.15743,
          -80.19366,
          -77.11887,
          -114.6244,
          -83.29489,
          -94.51328,
          -73.86014,
          -84.77217,
          -87.39542,
          -117.9145,
          -96.7898,
          -73.20261,
          -122.0808,
          -82.11469,
          -80.16255,
          -84.1241,
          -93.1616,
          -92.1193,
          -83.17826,
          -117.02282,
          -90.4443,
          -117.18254,
          -122.24164,
          -90.04898,
          -80.07282,
          -86.25001,
          -90.57764,
          -82.10765,
          -76.58496,
          -75.49018,
          -76.07633,
          -119.70292,
          -97.32085,
          -80.06643,
          -98.49339
         ],
         "marker": {
          "color": [
           0,
           0,
           0,
           2,
           2,
           0,
           0,
           2,
           2,
           1,
           0,
           2,
           0,
           0,
           0,
           0,
           0,
           0,
           2,
           0,
           1,
           2,
           2,
           2,
           0,
           2,
           0,
           1,
           1,
           0,
           0,
           0,
           0,
           0,
           0,
           0,
           1,
           0,
           0,
           2,
           0,
           0,
           1,
           1,
           2,
           2,
           2,
           2,
           1,
           0,
           1,
           0,
           0,
           0,
           0,
           2,
           0,
           0,
           2,
           0,
           1,
           1,
           2,
           2,
           0,
           0,
           2,
           0,
           2,
           2,
           0,
           1,
           1,
           2,
           0,
           0,
           0,
           0,
           1,
           0,
           1,
           0,
           2,
           0,
           2,
           0,
           2,
           1,
           0,
           0,
           1,
           2,
           2,
           2,
           0,
           0,
           0,
           1,
           0,
           0,
           2,
           2,
           2,
           2,
           2,
           0,
           0,
           2,
           0,
           1,
           0,
           2,
           1,
           2,
           0,
           0,
           1,
           0,
           0,
           2,
           1,
           0,
           0,
           0,
           2,
           1,
           0,
           0,
           1,
           1,
           2,
           0,
           2,
           2,
           0,
           0,
           0,
           1,
           2,
           0,
           0,
           2,
           2,
           0,
           0,
           2,
           2,
           0,
           2,
           0,
           0,
           0,
           2,
           1,
           2,
           0,
           2,
           0,
           1,
           2,
           1,
           0,
           0,
           0,
           0,
           2,
           2,
           1,
           2,
           2,
           0,
           2,
           2,
           0,
           0,
           0,
           2,
           2,
           0,
           2,
           0,
           1,
           0,
           2,
           2,
           2,
           1,
           1,
           0,
           0,
           0,
           0,
           1,
           0,
           2,
           1,
           1,
           2,
           0,
           2,
           0,
           2,
           2,
           1,
           0,
           0,
           0,
           0,
           2,
           2,
           0,
           1,
           0,
           0,
           1,
           0,
           2,
           1,
           2,
           0,
           0,
           2,
           0,
           2,
           0,
           0,
           0,
           0,
           2,
           2,
           0,
           0,
           0,
           2,
           0,
           0,
           1,
           0,
           2,
           0,
           0,
           2,
           1,
           2,
           0,
           1,
           0,
           0,
           0,
           2,
           2,
           0,
           1,
           2,
           1,
           1,
           2,
           0,
           2,
           2,
           0,
           0,
           0,
           0,
           1,
           2,
           0,
           2
          ],
          "coloraxis": "coloraxis",
          "symbol": "circle"
         },
         "mode": "markers",
         "name": "",
         "showlegend": false,
         "type": "scattergeo"
        }
       ],
       "layout": {
        "geo": {
         "center": {},
         "domain": {
          "x": [
           0,
           1
          ],
          "y": [
           0,
           1
          ]
         },
         "projection": {
          "type": "robinson"
         },
         "showcountries": true
        },
        "legend": {
         "tracegroupgap": 0
        },
        "template": {
         "data": {
          "bar": [
           {
            "error_x": {
             "color": "#2a3f5f"
            },
            "error_y": {
             "color": "#2a3f5f"
            },
            "marker": {
             "line": {
              "color": "#E5ECF6",
              "width": 0.5
             },
             "pattern": {
              "fillmode": "overlay",
              "size": 10,
              "solidity": 0.2
             }
            },
            "type": "bar"
           }
          ],
          "barpolar": [
           {
            "marker": {
             "line": {
              "color": "#E5ECF6",
              "width": 0.5
             },
             "pattern": {
              "fillmode": "overlay",
              "size": 10,
              "solidity": 0.2
             }
            },
            "type": "barpolar"
           }
          ],
          "carpet": [
           {
            "aaxis": {
             "endlinecolor": "#2a3f5f",
             "gridcolor": "white",
             "linecolor": "white",
             "minorgridcolor": "white",
             "startlinecolor": "#2a3f5f"
            },
            "baxis": {
             "endlinecolor": "#2a3f5f",
             "gridcolor": "white",
             "linecolor": "white",
             "minorgridcolor": "white",
             "startlinecolor": "#2a3f5f"
            },
            "type": "carpet"
           }
          ],
          "choropleth": [
           {
            "colorbar": {
             "outlinewidth": 0,
             "ticks": ""
            },
            "type": "choropleth"
           }
          ],
          "contour": [
           {
            "colorbar": {
             "outlinewidth": 0,
             "ticks": ""
            },
            "colorscale": [
             [
              0,
              "#0d0887"
             ],
             [
              0.1111111111111111,
              "#46039f"
             ],
             [
              0.2222222222222222,
              "#7201a8"
             ],
             [
              0.3333333333333333,
              "#9c179e"
             ],
             [
              0.4444444444444444,
              "#bd3786"
             ],
             [
              0.5555555555555556,
              "#d8576b"
             ],
             [
              0.6666666666666666,
              "#ed7953"
             ],
             [
              0.7777777777777778,
              "#fb9f3a"
             ],
             [
              0.8888888888888888,
              "#fdca26"
             ],
             [
              1,
              "#f0f921"
             ]
            ],
            "type": "contour"
           }
          ],
          "contourcarpet": [
           {
            "colorbar": {
             "outlinewidth": 0,
             "ticks": ""
            },
            "type": "contourcarpet"
           }
          ],
          "heatmap": [
           {
            "colorbar": {
             "outlinewidth": 0,
             "ticks": ""
            },
            "colorscale": [
             [
              0,
              "#0d0887"
             ],
             [
              0.1111111111111111,
              "#46039f"
             ],
             [
              0.2222222222222222,
              "#7201a8"
             ],
             [
              0.3333333333333333,
              "#9c179e"
             ],
             [
              0.4444444444444444,
              "#bd3786"
             ],
             [
              0.5555555555555556,
              "#d8576b"
             ],
             [
              0.6666666666666666,
              "#ed7953"
             ],
             [
              0.7777777777777778,
              "#fb9f3a"
             ],
             [
              0.8888888888888888,
              "#fdca26"
             ],
             [
              1,
              "#f0f921"
             ]
            ],
            "type": "heatmap"
           }
          ],
          "heatmapgl": [
           {
            "colorbar": {
             "outlinewidth": 0,
             "ticks": ""
            },
            "colorscale": [
             [
              0,
              "#0d0887"
             ],
             [
              0.1111111111111111,
              "#46039f"
             ],
             [
              0.2222222222222222,
              "#7201a8"
             ],
             [
              0.3333333333333333,
              "#9c179e"
             ],
             [
              0.4444444444444444,
              "#bd3786"
             ],
             [
              0.5555555555555556,
              "#d8576b"
             ],
             [
              0.6666666666666666,
              "#ed7953"
             ],
             [
              0.7777777777777778,
              "#fb9f3a"
             ],
             [
              0.8888888888888888,
              "#fdca26"
             ],
             [
              1,
              "#f0f921"
             ]
            ],
            "type": "heatmapgl"
           }
          ],
          "histogram": [
           {
            "marker": {
             "pattern": {
              "fillmode": "overlay",
              "size": 10,
              "solidity": 0.2
             }
            },
            "type": "histogram"
           }
          ],
          "histogram2d": [
           {
            "colorbar": {
             "outlinewidth": 0,
             "ticks": ""
            },
            "colorscale": [
             [
              0,
              "#0d0887"
             ],
             [
              0.1111111111111111,
              "#46039f"
             ],
             [
              0.2222222222222222,
              "#7201a8"
             ],
             [
              0.3333333333333333,
              "#9c179e"
             ],
             [
              0.4444444444444444,
              "#bd3786"
             ],
             [
              0.5555555555555556,
              "#d8576b"
             ],
             [
              0.6666666666666666,
              "#ed7953"
             ],
             [
              0.7777777777777778,
              "#fb9f3a"
             ],
             [
              0.8888888888888888,
              "#fdca26"
             ],
             [
              1,
              "#f0f921"
             ]
            ],
            "type": "histogram2d"
           }
          ],
          "histogram2dcontour": [
           {
            "colorbar": {
             "outlinewidth": 0,
             "ticks": ""
            },
            "colorscale": [
             [
              0,
              "#0d0887"
             ],
             [
              0.1111111111111111,
              "#46039f"
             ],
             [
              0.2222222222222222,
              "#7201a8"
             ],
             [
              0.3333333333333333,
              "#9c179e"
             ],
             [
              0.4444444444444444,
              "#bd3786"
             ],
             [
              0.5555555555555556,
              "#d8576b"
             ],
             [
              0.6666666666666666,
              "#ed7953"
             ],
             [
              0.7777777777777778,
              "#fb9f3a"
             ],
             [
              0.8888888888888888,
              "#fdca26"
             ],
             [
              1,
              "#f0f921"
             ]
            ],
            "type": "histogram2dcontour"
           }
          ],
          "mesh3d": [
           {
            "colorbar": {
             "outlinewidth": 0,
             "ticks": ""
            },
            "type": "mesh3d"
           }
          ],
          "parcoords": [
           {
            "line": {
             "colorbar": {
              "outlinewidth": 0,
              "ticks": ""
             }
            },
            "type": "parcoords"
           }
          ],
          "pie": [
           {
            "automargin": true,
            "type": "pie"
           }
          ],
          "scatter": [
           {
            "fillpattern": {
             "fillmode": "overlay",
             "size": 10,
             "solidity": 0.2
            },
            "type": "scatter"
           }
          ],
          "scatter3d": [
           {
            "line": {
             "colorbar": {
              "outlinewidth": 0,
              "ticks": ""
             }
            },
            "marker": {
             "colorbar": {
              "outlinewidth": 0,
              "ticks": ""
             }
            },
            "type": "scatter3d"
           }
          ],
          "scattercarpet": [
           {
            "marker": {
             "colorbar": {
              "outlinewidth": 0,
              "ticks": ""
             }
            },
            "type": "scattercarpet"
           }
          ],
          "scattergeo": [
           {
            "marker": {
             "colorbar": {
              "outlinewidth": 0,
              "ticks": ""
             }
            },
            "type": "scattergeo"
           }
          ],
          "scattergl": [
           {
            "marker": {
             "colorbar": {
              "outlinewidth": 0,
              "ticks": ""
             }
            },
            "type": "scattergl"
           }
          ],
          "scattermapbox": [
           {
            "marker": {
             "colorbar": {
              "outlinewidth": 0,
              "ticks": ""
             }
            },
            "type": "scattermapbox"
           }
          ],
          "scatterpolar": [
           {
            "marker": {
             "colorbar": {
              "outlinewidth": 0,
              "ticks": ""
             }
            },
            "type": "scatterpolar"
           }
          ],
          "scatterpolargl": [
           {
            "marker": {
             "colorbar": {
              "outlinewidth": 0,
              "ticks": ""
             }
            },
            "type": "scatterpolargl"
           }
          ],
          "scatterternary": [
           {
            "marker": {
             "colorbar": {
              "outlinewidth": 0,
              "ticks": ""
             }
            },
            "type": "scatterternary"
           }
          ],
          "surface": [
           {
            "colorbar": {
             "outlinewidth": 0,
             "ticks": ""
            },
            "colorscale": [
             [
              0,
              "#0d0887"
             ],
             [
              0.1111111111111111,
              "#46039f"
             ],
             [
              0.2222222222222222,
              "#7201a8"
             ],
             [
              0.3333333333333333,
              "#9c179e"
             ],
             [
              0.4444444444444444,
              "#bd3786"
             ],
             [
              0.5555555555555556,
              "#d8576b"
             ],
             [
              0.6666666666666666,
              "#ed7953"
             ],
             [
              0.7777777777777778,
              "#fb9f3a"
             ],
             [
              0.8888888888888888,
              "#fdca26"
             ],
             [
              1,
              "#f0f921"
             ]
            ],
            "type": "surface"
           }
          ],
          "table": [
           {
            "cells": {
             "fill": {
              "color": "#EBF0F8"
             },
             "line": {
              "color": "white"
             }
            },
            "header": {
             "fill": {
              "color": "#C8D4E3"
             },
             "line": {
              "color": "white"
             }
            },
            "type": "table"
           }
          ]
         },
         "layout": {
          "annotationdefaults": {
           "arrowcolor": "#2a3f5f",
           "arrowhead": 0,
           "arrowwidth": 1
          },
          "autotypenumbers": "strict",
          "coloraxis": {
           "colorbar": {
            "outlinewidth": 0,
            "ticks": ""
           }
          },
          "colorscale": {
           "diverging": [
            [
             0,
             "#8e0152"
            ],
            [
             0.1,
             "#c51b7d"
            ],
            [
             0.2,
             "#de77ae"
            ],
            [
             0.3,
             "#f1b6da"
            ],
            [
             0.4,
             "#fde0ef"
            ],
            [
             0.5,
             "#f7f7f7"
            ],
            [
             0.6,
             "#e6f5d0"
            ],
            [
             0.7,
             "#b8e186"
            ],
            [
             0.8,
             "#7fbc41"
            ],
            [
             0.9,
             "#4d9221"
            ],
            [
             1,
             "#276419"
            ]
           ],
           "sequential": [
            [
             0,
             "#0d0887"
            ],
            [
             0.1111111111111111,
             "#46039f"
            ],
            [
             0.2222222222222222,
             "#7201a8"
            ],
            [
             0.3333333333333333,
             "#9c179e"
            ],
            [
             0.4444444444444444,
             "#bd3786"
            ],
            [
             0.5555555555555556,
             "#d8576b"
            ],
            [
             0.6666666666666666,
             "#ed7953"
            ],
            [
             0.7777777777777778,
             "#fb9f3a"
            ],
            [
             0.8888888888888888,
             "#fdca26"
            ],
            [
             1,
             "#f0f921"
            ]
           ],
           "sequentialminus": [
            [
             0,
             "#0d0887"
            ],
            [
             0.1111111111111111,
             "#46039f"
            ],
            [
             0.2222222222222222,
             "#7201a8"
            ],
            [
             0.3333333333333333,
             "#9c179e"
            ],
            [
             0.4444444444444444,
             "#bd3786"
            ],
            [
             0.5555555555555556,
             "#d8576b"
            ],
            [
             0.6666666666666666,
             "#ed7953"
            ],
            [
             0.7777777777777778,
             "#fb9f3a"
            ],
            [
             0.8888888888888888,
             "#fdca26"
            ],
            [
             1,
             "#f0f921"
            ]
           ]
          },
          "colorway": [
           "#636efa",
           "#EF553B",
           "#00cc96",
           "#ab63fa",
           "#FFA15A",
           "#19d3f3",
           "#FF6692",
           "#B6E880",
           "#FF97FF",
           "#FECB52"
          ],
          "font": {
           "color": "#2a3f5f"
          },
          "geo": {
           "bgcolor": "white",
           "lakecolor": "white",
           "landcolor": "#E5ECF6",
           "showlakes": true,
           "showland": true,
           "subunitcolor": "white"
          },
          "hoverlabel": {
           "align": "left"
          },
          "hovermode": "closest",
          "mapbox": {
           "style": "light"
          },
          "paper_bgcolor": "white",
          "plot_bgcolor": "#E5ECF6",
          "polar": {
           "angularaxis": {
            "gridcolor": "white",
            "linecolor": "white",
            "ticks": ""
           },
           "bgcolor": "#E5ECF6",
           "radialaxis": {
            "gridcolor": "white",
            "linecolor": "white",
            "ticks": ""
           }
          },
          "scene": {
           "xaxis": {
            "backgroundcolor": "#E5ECF6",
            "gridcolor": "white",
            "gridwidth": 2,
            "linecolor": "white",
            "showbackground": true,
            "ticks": "",
            "zerolinecolor": "white"
           },
           "yaxis": {
            "backgroundcolor": "#E5ECF6",
            "gridcolor": "white",
            "gridwidth": 2,
            "linecolor": "white",
            "showbackground": true,
            "ticks": "",
            "zerolinecolor": "white"
           },
           "zaxis": {
            "backgroundcolor": "#E5ECF6",
            "gridcolor": "white",
            "gridwidth": 2,
            "linecolor": "white",
            "showbackground": true,
            "ticks": "",
            "zerolinecolor": "white"
           }
          },
          "shapedefaults": {
           "line": {
            "color": "#2a3f5f"
           }
          },
          "ternary": {
           "aaxis": {
            "gridcolor": "white",
            "linecolor": "white",
            "ticks": ""
           },
           "baxis": {
            "gridcolor": "white",
            "linecolor": "white",
            "ticks": ""
           },
           "bgcolor": "#E5ECF6",
           "caxis": {
            "gridcolor": "white",
            "linecolor": "white",
            "ticks": ""
           }
          },
          "title": {
           "x": 0.05
          },
          "xaxis": {
           "automargin": true,
           "gridcolor": "white",
           "linecolor": "white",
           "ticks": "",
           "title": {
            "standoff": 15
           },
           "zerolinecolor": "white",
           "zerolinewidth": 2
          },
          "yaxis": {
           "automargin": true,
           "gridcolor": "white",
           "linecolor": "white",
           "ticks": "",
           "title": {
            "standoff": 15
           },
           "zerolinecolor": "white",
           "zerolinewidth": 2
          }
         }
        },
        "title": {
         "text": "KMeans USA"
        }
       }
      },
      "text/html": [
       "<div>                            <div id=\"86a947db-cb23-4e5a-a7e4-dab75bff0e3f\" class=\"plotly-graph-div\" style=\"height:525px; width:100%;\"></div>            <script type=\"text/javascript\">                require([\"plotly\"], function(Plotly) {                    window.PLOTLYENV=window.PLOTLYENV || {};                                    if (document.getElementById(\"86a947db-cb23-4e5a-a7e4-dab75bff0e3f\")) {                    Plotly.newPlot(                        \"86a947db-cb23-4e5a-a7e4-dab75bff0e3f\",                        [{\"geo\":\"geo\",\"hovertemplate\":\"\\u003cextra\\u003e\\u003c\\u002fextra\\u003e\",\"legendgroup\":\"\",\"marker\":{\"color\":\"#636efa\",\"symbol\":\"circle\"},\"mode\":\"markers\",\"name\":\"\",\"showlegend\":false,\"type\":\"scattergeo\"},{\"geo\":\"geo\",\"hovertemplate\":\"\\u003cb\\u003e%{hovertext}\\u003c\\u002fb\\u003e\\u003cbr\\u003e\\u003cbr\\u003elatitude=%{lat}\\u003cbr\\u003elongitude=%{lon}\\u003cextra\\u003e\\u003c\\u002fextra\\u003e\",\"hovertext\":[\"Cluster Center\",\"Cluster Center\",\"Cluster Center\"],\"lat\":[35.07534098484848,36.84110404255319,36.967562471910114],\"legendgroup\":\"\",\"lon\":[-78.70102295454545,-118.11401170212766,-93.22135719101124],\"marker\":{\"color\":\"#636efa\",\"symbol\":\"diamond\",\"size\":12},\"mode\":\"markers\",\"name\":\"\",\"showlegend\":false,\"type\":\"scattergeo\"},{\"geo\":\"geo\",\"hovertemplate\":\"\\u003cb\\u003e%{hovertext}\\u003c\\u002fb\\u003e\\u003cbr\\u003e\\u003cbr\\u003elatitude=%{lat}\\u003cbr\\u003elongitude=%{lon}\\u003cbr\\u003ecluster_kmeans=%{marker.color}\\u003cextra\\u003e\\u003c\\u002fextra\\u003e\",\"hovertext\":[\"Zika Outbreak Hits Miami\",\"Could Zika Reach New York City?\",\"First Case of Zika in Miami Beach\",\"Dallas man comes down with case of Zika\",\"Zika Concerns are Spreading in Houston\",\"The CDC in Atlanta is Growing Worried\",\"Brownsville teen contracts Zika virus\",\"Mosquito control efforts in St. Louis take new tactics with Zika threat\",\"Flu outbreak in Galveston, Texas\",\"New Los Angeles Hairstyle goes Viral\",\"Orlando volunteers aid Zika research\",\"Chicago's First Zika Case Confirmed\",\"Tampa Bay Area Zika Case Count Climbs\",\"Baltimore plans for Zika virus\",\"Philadelphia experts track pandemic\",\"Tallahassee Doctors Discuss Zika Virus\",\"New Vaccine on Trial in Bethesda District\",\"Zika virus reported in Cleveland\",\"More Zika patients reported in Austin\",\"Zika symtomps spotted in Key West\",\"Seattle scientists get $500,000 grant to pursue Zika vaccine New 7:50 pm\",\"Nashville takes precautions against Zika\",\"Fort Collins Encounters Severe Symptoms of Gonorrhea\",\"Madison lab developing vaccine against Zika virus [The Wisconsin State Journal]\",\"New Zika Case Confirmed in Sarasota County\",\"Jacksonville man hit by Zika\",\"Authorities are Worried about the Spread of Bronchitis in Silver Spring\",\"El Paso fighting Zika\",\"Salt Lake City tests new cure for Respiratory Syncytial Virus\",\"First Columbus Zika case\",\"Zika Patient in Seminole, Florida\",\"Can Zika make it here to Vero Beach?\",\"Hollywood Outbreak Film Premieres\",\"Doral hit by Deadly Virus\",\"Authorities are Worried about the Spread of Influenza in Savannah\",\"HIV has Arrived in Fairfax\",\"New medicine wipes out West Nile Virus in Ventura\",\"First Zika Case in Cincinnati\",\"Zika cases concern Charlotte residents\",\"Spike of Pneumonia Cases in Springfield\",\"Zika case reported in Jupiter\",\"Zika virus confirmed in Westchester\",\"Rumors about Hepatitis D Spreading in San Juan Capistrano have been Refuted\",\"The Spread of Measles in Spokane has been Confirmed\",\"West Nile Virus Outbreak in Louisville\",\"New details in Baton Rouge cop killings\",\"More Zika patients reported in Pensacola\",\"Outbreak of Zika in Corpus Christi\",\"How to Avoid Rhinovirus in Lemon Grove\",\"Measles has not Left Brooklyn\",\"Escondido neighborhood to get sprayed for Zika virus\",\"Zika in Belmont, Belmont worry\",\"Case of Mumps Reported in Dayton\",\"Gainesville Deals with Disease Concerns\",\"Varicella Keeps Spreading in Detroit\",\"Manhattan Residents Recieve HIV vaccine\",\"Rumors about Dengue Spreading in Syracuse have been Refuted\",\"Will Norovirus vaccine help Raleigh?\",\"How to Avoid Gonorrhea in Shreveport\",\"Ithaca is infested with Dengue\",\"BREAKING aEUR\\\" Zika in Missoula\",\"New medicine wipes out Chikungunya in Tucson\",\"Hepatitis B Comes to Kansas City\",\"Is Lafayette prepared to combat Zika?\",\"Syphilis Outbreak in Harrisburg\",\"Zika Arrives in North Miami\",\"Urbana Encounters Severe Symptoms of Meningitis\",\"Pittsburgh Residents Recieve Norovirus vaccine\",\"Chikungunya Hits Denver\",\"HIV Keeps Spreading in Boulder\",\"Will Tuberculosis vaccine help Rockville?\",\"Zika Virus Arrives in Ontario\",\"The Spread of Chikungunya in Arcadia has been Confirmed\",\"Outbreak of Zika in Stephenville\",\"Providence Encounters Severe Symptoms of Dengue\",\"Zika battle outlined at Valdosta meeting\",\"Zika case reported in Coral Gables\",\"Hepatitis C Outbreak in Danbury\",\"Chickenpox has Arrived in Chula Vista\",\"Syphilis Hits Jefferson\",\"Will HIV vaccine help Las Vegas?\",\"Zika arrives in West Palm Beach\",\"Mobile authorities confirmed the spread of Bronchitis\",\"Zika spreads to Daytona Beach\",\"Spike of Chlamydia Cases in Farmington\",\"Authorities are Worried about the Spread of Rotavirus in Union\",\"Zika Virus Detected in Lubbock\",\"Malaria re-emerges in Boise\",\"How to Avoid Hepatitis B in Waldorf\",\"Tuberculosis Outbreak in Newark\",\"Zika Virus Sparks 'International Concern'\",\"Zika-carrying mosquitoes discovered in Ardmore\",\"Frisco Woman Tests Positive For Zika Virus\",\"Benton Residents Recieve Pneumonia vaccine\",\"Zika Outbreak in Pinewood\",\"Zika Strikes St. Petersburg\",\"Zika symptoms spotted in Hollywood\",\"Swine Flu re-emerges in La Jolla\",\"Tuberculosis Outbreak in Hartford\",\"Rumors about Mumps Spreading in New Bedford have been Refuted\",\"Respiratory Syncytial Virus Vaccine is now Required in Tulsa\",\"More people in Indianapolis are infected with Norovirus every year\",\"Rotavirus Vaccine is now Required in Starkville\",\"Milwaukee authorities confirmed the spread of Rhinovirus\",\"Zika symptoms spotted in Arlington\",\"Zika Spreads to Palm Beach Gardens\",\"Spike of Herpes Cases in Meriden\",\"Zika case reported in Abilene\",\"Outbreak of Zika in Palm Springs\",\"How to Avoid Pneumonia in Bullhead City\",\"Meningitis re-emerges in Summerville\",\"Pneumonia Symptoms Spread all over Bloomington\",\"Phoenix Residents Recieve Syphilis vaccine\",\"Zika Outbreak in Weslaco\",\"Mumps Symptoms Spread all over Jefferson\",\"The Spread of Rhinovirus in Boardman has been Confirmed\",\"Richland Center is infested with Hepatitis B\",\"Malaria Vaccine is now Required in Schenectady\",\"Lower Hospitalization in Lakewood after Hepatitis B Vaccine becomes Mandatory\",\"Spike of Rotavirus Cases in Omaha\",\"Will West Nile Virus vaccine help Coronado?\",\"Zika case confirmed in Lorain\",\"Chickenpox Hits Simpsonville\",\"Framingham Residents Receive Measles vaccine\",\"Bridgeport authorities confirmed the spread of West Nile Virus\",\"Measles Vaccine is now Required in Wailuku\",\"Zika in Tamarac!\",\"Will Measles vaccine help Milford?\",\"Rhinovirus Hits Bakersfield\",\"More people in Berkeley are infected with Swine Flu every year\",\"Zika only the latest mosquito-borne threat to New Orleans\",\"Will Swine Flu vaccine help Annapolis?\",\"Lower Hospitalization in Monroe after Hepatitis D Vaccine becomes Mandatory\",\"New medicine wipes out Dengue in Saginaw\",\"Spike of Rhinovirus Cases in Sevierville\",\"New medicine wipes out Mumps in Saint Charles\",\"Case of Chikungunya Reported in Gaithersburg\",\"How to Avoid Respiratory Syncytial Virus in San Bernardino\",\"More Zika patients reported in Waco\",\"Erie County sets Zika traps\",\"Schools in Huntington Closed Due to Rotavirus Outbreak\",\"Chickenpox Comes to Stillwater\",\"Case of Measles Reported in Springdale\",\"Norwalk Encounters Severe Symptoms of Malaria\",\"More Zika patients reported in Carrollton\",\"West Nile Virus Exposure in Racine\",\"The Spread of Hepatitis E in Lansing has been Confirmed\",\"West Nile Virus Exposure in Alpharetta\",\"Herpes Vaccine is now Required in Mattoon\",\"Kent is infested with Rabies\",\"Zika symptoms spotted in Bonita Springs\",\"More Zika patients reported in Fort Myers\",\"Zika spreads to Lewisville\",\"Ogden is infested with Gonorrhea\",\"Fort Hood Reports its First Zika Patient\",\"New medicine wipes out Rabies in Newburgh\",\"Iowa City Encounters Severe Symptoms of Rhinovirus\",\"Mumps Hits Howard Beach\",\"The Spread of Gonorrhea in Reno has been Confirmed\",\"How to Avoid Rhinovirus in Plainfield\",\"Rumors about Varicella spreading in Carlsbad have been refuted\",\"Scranton authorities confirmed the spread of Gonorrhea\",\"Hallandale Beach a Victim of Zika Outbreak\",\"Rhinovirus re-emerges in Storrs\",\"Germantown authorities confirmed the spread of Chickenpox\",\"Rumors about Rotavirus spreading in North Platte have been refuted\",\"Spike of Hepatitis C Cases in Golden\",\"Pneumonia Exposure in Alhambra\",\"Schools in Bentonville Closed Due to Hepatitis B Outbreak\",\"Hepatitis E Hits Hammond\",\"Schools in Bridgeton Closed Due to Mumps Outbreak\",\"Biloxi Residents Recieve Chlamydia vaccine\",\"More Patients in Crawfordsville are Getting Diagnosed with Rabies\",\"Authorities are Worried about the Spread of Hepatitis D in Akron\",\"Zika arrives in Boca Raton\",\"Bradenton Experiences Zika Troubles  \",\"Chlamydia Symptoms Spread all over University City\",\"Wisconsin Rapids Patient in Critical Condition after Contracting Chickenpox\",\"Zika spreads to Kissimmee\",\"Herpes Symptoms Spread all over Fremont\",\"Spike of Pneumonia Cases in The Bronx\",\"HIV has Arrived in Tacoma\",\"Malaria re-emerges in Nashua\",\"Arvada is infested with Syphilis\",\"Spike of Syphilis Cases in West Monroe\",\"Deerfield tests new cure for Measles\",\"Hepatitis A re-emerges in Foster City\",\"How to Avoid Tuberculosis in Santa Monica\",\"Zika reported in Fort Pierce\",\"Zika spreads to Winter Park\",\"Hepatitis A has not Left Staten Island\",\"New Milford Patient in Critical Condition after Contracting Respiratory Syncytial Virus\",\"More people in Palo Alto are infected with HIV every year\",\"Vineland authorities confirmed the spread of Chlamydia\",\"Tupelo Residents Recieve Syphilis vaccine\",\"The Spread of Dengue in Yakima has been Confirmed\",\"Rumors about Chlamydia spreading in Redmond have been refuted\",\"Case of Varicella Reported in Concord\",\"Zika virus case reported in Rockland\",\"Zika investigators coming to Mankato\",\"Toms River Encounters Severe Symptoms of Respiratory Syncytial Virus\",\"Hepatitis D Keeps Spreading in Bismarck\",\"Varicella Outbreak in Minot\",\"Authorities are Worried about the Spread of Chickenpox in Hemet\",\"Princeton Encounters Severe Symptoms of Dengue\",\"Lower Hospitalization in Palm Springs after Hepatitis A Vaccine becomes Mandatory\",\"Outbreak of Zika in Leesburg\",\"Stony Brook University experts discuss Zika virus\",\"Lower Hospitalization in Janesville after Varicella Vaccine becomes Mandatory\",\"Rabies Outbreak in Altus\",\"Miami resident suggests Zika precautions\",\"Schools in Tulare Closed Due to Mumps Outbreak\",\"Hepatitis D Keeps Spreading in Danvers\",\"Authorities a Miami\",\"Spike of Tuberculosis Cases in Albuquerque\",\"More people in Cranford are infected with Hepatitis A every year\",\"West Nile Virus Hits Monroe\",\"Pneumonia Outbreak in Springville\",\"Rumors about Rotavirus Spreading in Joliet have been Refuted\",\"Lawrenceville is infested with Dengue\",\"Gonorrhea has Arrived in Avon Lake\",\"Respiratory Syncytial Virus Hits Henderson\",\"More Zika patients reported in Lakeland\",\"Malaria Vaccine is now Required in Winona\",\"More Patients in Canton are Getting Diagnosed with Norovirus\",\"Ronkonkoma is infested with Chickenpox\",\"Gonorrhea Exposure in Norwalk\",\"How to Avoid Rhinovirus in Medford\",\"Hepatitis D Symptoms Spread all over Evansville\",\"New medicine wipes out Herpes in Bossier City\",\"Duluth Patient in Critical Condition after Contracting Rotavirus\",\"Norfolk tests new cure for Herpes\",\"Manassas Encounters Severe Symptoms of Measles\",\"Fayetteville authorities confirmed the spread of HIV\",\"Zika Outbreak in South Miami\",\"Hepatitis D Symptoms Spread all over North Bethesda\",\"Zika seminars in Yuma County\",\"Rumors about Hepatitis E Spreading in Morristown have been Refuted\",\"Mumps Outbreak in Joplin\",\"Authorities are Worried about the Spread of Mumps in Corona\",\"Schools in Danville Closed Due to Tuberculosis Outbreak\",\"Marquette tests new cure for Hepatitis A\",\"Norovirus Vaccine is now Required in Anaheim\",\"The Spread of Hepatitis E in Fargo has been Confirmed\",\"West Nile Virus Keeps Spreading in Hauppauge\",\"Bronchitis Keeps Spreading in Hayward\",\"Zika spreads to Plant City\",\"Zika Reported in North Miami Beach\",\"Case of West Nile Virus Reported in Riverside\",\"Northfield Encounters Severe Symptoms of Herpes\",\"The Spread of Respiratory Syncytial Virus in Monroe has been Confirmed\",\"How to Avoid Hepatitis B in Trenton\",\"Barstow Patient in Critical Condition after Contracting Herpes\",\"Will Gonorrhea vaccine help East Moline?\",\"New medicine wipes out Influenza in Redlands\",\"Alameda Residents Recieve Rabies vaccine\",\"Memphis Encounters Severe Symptoms of Swine Flu\",\"Zika Troubles come to Delray Beach\",\"How to Avoid Hepatitis E in South Bend\",\"Davenport is infested with Dengue\",\"Malaria Vaccine is now Required in Elyria\",\"Influenza Keeps Spreading in Suffolk\",\"More people in Allentown are infected with Chlamydia every year\",\"Dengue Outbreak in Easton\",\"Authorities are Worried about the Spread of Varicella in Clovis\",\"More Zika patients reported in Fort Worth\",\"Zika symptoms spotted in Boynton Beach\",\"Zika Outbreak in Wichita Falls\"],\"lat\":[25.77427,40.71427,25.79065,32.78306,29.76328,33.749,25.82176,38.62727,29.30135,34.05223,28.53834,41.85003,27.94752,39.29038,39.95233,30.43826,38.98067,35.15952,30.26715,24.55524,47.60621,36.16589,40.58526,34.69926,27.33643,34.8662,38.99067,31.75872,40.76078,32.46098,27.83975,27.63864,26.0112,25.81954,32.08354,38.84622,34.27834,39.12711,35.22709,39.80172,26.93422,25.75482,33.50169,47.65966,38.25424,30.44332,30.42131,27.80058,32.74255,40.6501,33.11921,42.39593,39.75895,29.65163,42.33143,39.18361,43.04812,35.7721,32.52515,42.44063,46.87215,32.22174,39.11417,30.22409,40.2737,25.89009,40.11059,40.44062,39.73915,40.01499,39.084,34.06334,34.13973,32.2207,41.82399,30.83334,25.72149,41.39482,32.64005,38.86456,36.17497,26.71534,30.69436,29.21081,37.78088,40.6976,33.57786,43.6135,38.62456,39.68372,39.53491,34.17426,33.15067,34.56454,25.86898,27.77086,26.0112,32.84727,41.76371,41.63526,36.15398,39.76838,33.45049,43.0389,32.73569,26.82339,41.53815,32.44874,26.6359,35.14778,33.0185,39.16533,33.44838,26.15952,38.86456,41.02423,46.28569,42.81424,40.09789,41.25626,32.68589,41.45282,34.73706,42.27926,41.83809,20.89133,26.21286,41.22232,35.37329,37.87159,29.95465,38.97845,32.50931,32.86013,35.86815,38.60317,39.14344,34.10834,31.54933,42.12922,38.41925,36.11561,36.18674,41.1176,33.58011,42.72613,41.56476,34.07538,39.48309,41.15367,26.33981,26.62168,33.04623,41.223,31.13489,41.50343,41.66113,40.65788,39.52963,39.70421,33.15809,41.40916,25.9812,41.80843,39.17316,41.12389,39.75554,34.09529,36.37285,30.50463,39.42734,30.39603,40.04115,41.08144,26.35869,27.49893,38.65588,44.38358,28.30468,41.43333,40.84985,47.25288,42.76537,39.80276,32.50931,42.17114,37.55855,34.01945,27.44671,28.6,40.56233,40.9351,37.44188,39.48623,34.25807,46.60207,44.27262,38.5245,42.13066,44.15906,39.95373,46.80833,48.23251,33.74761,25.53844,26.6359,28.81082,28.07389,42.68279,34.63813,25.77427,36.20773,42.57509,25.77427,35.08449,40.65844,32.50931,40.16523,41.52519,33.95621,41.50532,37.83615,28.03947,44.04996,34.23676,40.81538,41.1176,42.41843,37.97476,32.51599,34.00288,36.84681,38.75095,36.06258,25.77427,39.04455,32.72532,36.21398,37.08423,40.74705,37.64563,46.54354,33.83529,46.87719,40.82565,37.66882,28.01888,25.93315,39.77978,44.4583,32.50931,42.13949,34.89859,41.50087,34.05557,37.76521,35.14953,26.46146,41.68338,41.52364,41.36838,36.72836,40.60843,38.77428,36.82523,32.72541,26.52535,33.91371],\"legendgroup\":\"\",\"lon\":[-80.19366,-74.00597,-80.13005,-96.80667,-95.36327,-84.38798,-80.24116,-90.19789,-94.7977,-118.24368,-81.37924,-87.65005,-82.45843,-76.61219,-75.16379,-84.28073,-77.10026,-84.87661,-97.74306,-81.78163,-122.33207,-86.78444,-105.08442,-86.74833,-82.53065,-92.11015,-77.02609,-106.48693,-111.89105,-84.98771,-82.79121,-80.39727,-80.14949,-80.35533,-81.09983,-77.30637,-119.29317,-84.51439,-80.84313,-89.64371,-80.09421,-80.32727,-117.66255,-117.42908,-85.75941,-91.18747,-87.21691,-97.39638,-117.03142,-73.94958,-117.08642,-71.17867,-84.19161,-82.32483,-83.04575,-96.57167,-76.14742,-78.63861,-93.75018,-76.49661,-113.994,-110.92648,-94.62746,-92.01984,-76.88442,-80.18671,-88.20727,-79.99589,-104.9847,-105.27055,-77.15276,-117.65089,-118.03534,-98.20226,-71.41283,-83.28032,-80.26838,-73.45401,-117.0842,-77.18776,-115.13722,-80.05337,-88.04305,-81.02283,-90.42179,-74.2632,-101.85517,-116.20345,-76.93914,-75.74966,-119.75269,-97.14363,-96.82361,-92.58683,-80.21699,-82.67927,-80.14949,-117.2742,-72.68509,-70.92701,-95.99277,-86.15804,-88.81961,-87.90647,-97.10807,-80.13865,-72.80704,-99.73314,-80.09615,-114.5683,-80.17565,-86.52639,-112.07404,-97.99084,-77.18776,-80.66285,-119.28446,-73.93957,-74.21764,-95.94043,-117.18309,-82.18237,-82.25428,-71.41617,-87.65116,-156.50604,-80.24977,-73.0565,-119.01871,-122.27275,-90.07507,-76.49218,-92.1193,-97.36391,-83.56184,-76.93858,-77.20137,-117.28977,-97.14667,-80.08506,-82.44515,-97.05837,-94.12881,-73.4079,-85.07661,-87.78285,-87.53893,-84.29409,-88.37283,-81.35789,-81.7787,-81.84059,-96.99417,-111.97383,-97.77561,-74.01042,-91.53017,-73.83625,-119.8138,-86.39944,-117.35059,-75.6649,-80.14838,-72.24952,-77.27165,-100.76542,-105.2211,-118.12701,-94.20882,-90.46293,-75.23408,-88.88531,-86.87445,-81.51901,-80.0831,-82.57482,-90.30928,-89.81735,-81.41667,-96.49808,-73.86641,-122.44429,-71.46757,-105.08748,-92.1193,-87.84451,-122.27108,-118.49119,-80.32561,-81.33924,-74.13986,-74.01903,-122.14302,-75.02573,-88.70464,-120.5059,-121.17392,-90.35734,-70.91616,-94.00915,-74.19792,-100.78374,-101.29627,-116.97307,-80.40894,-80.09615,-81.87786,-82.43902,-89.01872,-99.33398,-80.19366,-119.34734,-70.93005,-80.19366,-106.65114,-74.29959,-92.1193,-111.61075,-88.0834,-83.98796,-82.0282,-87.59001,-81.9498,-91.63932,-84.49076,-73.11233,-73.4079,-71.10616,-87.55585,-93.73212,-84.14464,-76.28522,-77.47527,-94.15743,-80.19366,-77.11887,-114.6244,-83.29489,-94.51328,-73.86014,-84.77217,-87.39542,-117.9145,-96.7898,-73.20261,-122.0808,-82.11469,-80.16255,-84.1241,-93.1616,-92.1193,-83.17826,-117.02282,-90.4443,-117.18254,-122.24164,-90.04898,-80.07282,-86.25001,-90.57764,-82.10765,-76.58496,-75.49018,-76.07633,-119.70292,-97.32085,-80.06643,-98.49339],\"marker\":{\"color\":[0,0,0,2,2,0,0,2,2,1,0,2,0,0,0,0,0,0,2,0,1,2,2,2,0,2,0,1,1,0,0,0,0,0,0,0,1,0,0,2,0,0,1,1,2,2,2,2,1,0,1,0,0,0,0,2,0,0,2,0,1,1,2,2,0,0,2,0,2,2,0,1,1,2,0,0,0,0,1,0,1,0,2,0,2,0,2,1,0,0,1,2,2,2,0,0,0,1,0,0,2,2,2,2,2,0,0,2,0,1,0,2,1,2,0,0,1,0,0,2,1,0,0,0,2,1,0,0,1,1,2,0,2,2,0,0,0,1,2,0,0,2,2,0,0,2,2,0,2,0,0,0,2,1,2,0,2,0,1,2,1,0,0,0,0,2,2,1,2,2,0,2,2,0,0,0,2,2,0,2,0,1,0,2,2,2,1,1,0,0,0,0,1,0,2,1,1,2,0,2,0,2,2,1,0,0,0,0,2,2,0,1,0,0,1,0,2,1,2,0,0,2,0,2,0,0,0,0,2,2,0,0,0,2,0,0,1,0,2,0,0,2,1,2,0,1,0,0,0,2,2,0,1,2,1,1,2,0,2,2,0,0,0,0,1,2,0,2],\"coloraxis\":\"coloraxis\",\"symbol\":\"circle\"},\"mode\":\"markers\",\"name\":\"\",\"showlegend\":false,\"type\":\"scattergeo\"}],                        {\"template\":{\"data\":{\"histogram2dcontour\":[{\"type\":\"histogram2dcontour\",\"colorbar\":{\"outlinewidth\":0,\"ticks\":\"\"},\"colorscale\":[[0.0,\"#0d0887\"],[0.1111111111111111,\"#46039f\"],[0.2222222222222222,\"#7201a8\"],[0.3333333333333333,\"#9c179e\"],[0.4444444444444444,\"#bd3786\"],[0.5555555555555556,\"#d8576b\"],[0.6666666666666666,\"#ed7953\"],[0.7777777777777778,\"#fb9f3a\"],[0.8888888888888888,\"#fdca26\"],[1.0,\"#f0f921\"]]}],\"choropleth\":[{\"type\":\"choropleth\",\"colorbar\":{\"outlinewidth\":0,\"ticks\":\"\"}}],\"histogram2d\":[{\"type\":\"histogram2d\",\"colorbar\":{\"outlinewidth\":0,\"ticks\":\"\"},\"colorscale\":[[0.0,\"#0d0887\"],[0.1111111111111111,\"#46039f\"],[0.2222222222222222,\"#7201a8\"],[0.3333333333333333,\"#9c179e\"],[0.4444444444444444,\"#bd3786\"],[0.5555555555555556,\"#d8576b\"],[0.6666666666666666,\"#ed7953\"],[0.7777777777777778,\"#fb9f3a\"],[0.8888888888888888,\"#fdca26\"],[1.0,\"#f0f921\"]]}],\"heatmap\":[{\"type\":\"heatmap\",\"colorbar\":{\"outlinewidth\":0,\"ticks\":\"\"},\"colorscale\":[[0.0,\"#0d0887\"],[0.1111111111111111,\"#46039f\"],[0.2222222222222222,\"#7201a8\"],[0.3333333333333333,\"#9c179e\"],[0.4444444444444444,\"#bd3786\"],[0.5555555555555556,\"#d8576b\"],[0.6666666666666666,\"#ed7953\"],[0.7777777777777778,\"#fb9f3a\"],[0.8888888888888888,\"#fdca26\"],[1.0,\"#f0f921\"]]}],\"heatmapgl\":[{\"type\":\"heatmapgl\",\"colorbar\":{\"outlinewidth\":0,\"ticks\":\"\"},\"colorscale\":[[0.0,\"#0d0887\"],[0.1111111111111111,\"#46039f\"],[0.2222222222222222,\"#7201a8\"],[0.3333333333333333,\"#9c179e\"],[0.4444444444444444,\"#bd3786\"],[0.5555555555555556,\"#d8576b\"],[0.6666666666666666,\"#ed7953\"],[0.7777777777777778,\"#fb9f3a\"],[0.8888888888888888,\"#fdca26\"],[1.0,\"#f0f921\"]]}],\"contourcarpet\":[{\"type\":\"contourcarpet\",\"colorbar\":{\"outlinewidth\":0,\"ticks\":\"\"}}],\"contour\":[{\"type\":\"contour\",\"colorbar\":{\"outlinewidth\":0,\"ticks\":\"\"},\"colorscale\":[[0.0,\"#0d0887\"],[0.1111111111111111,\"#46039f\"],[0.2222222222222222,\"#7201a8\"],[0.3333333333333333,\"#9c179e\"],[0.4444444444444444,\"#bd3786\"],[0.5555555555555556,\"#d8576b\"],[0.6666666666666666,\"#ed7953\"],[0.7777777777777778,\"#fb9f3a\"],[0.8888888888888888,\"#fdca26\"],[1.0,\"#f0f921\"]]}],\"surface\":[{\"type\":\"surface\",\"colorbar\":{\"outlinewidth\":0,\"ticks\":\"\"},\"colorscale\":[[0.0,\"#0d0887\"],[0.1111111111111111,\"#46039f\"],[0.2222222222222222,\"#7201a8\"],[0.3333333333333333,\"#9c179e\"],[0.4444444444444444,\"#bd3786\"],[0.5555555555555556,\"#d8576b\"],[0.6666666666666666,\"#ed7953\"],[0.7777777777777778,\"#fb9f3a\"],[0.8888888888888888,\"#fdca26\"],[1.0,\"#f0f921\"]]}],\"mesh3d\":[{\"type\":\"mesh3d\",\"colorbar\":{\"outlinewidth\":0,\"ticks\":\"\"}}],\"scatter\":[{\"fillpattern\":{\"fillmode\":\"overlay\",\"size\":10,\"solidity\":0.2},\"type\":\"scatter\"}],\"parcoords\":[{\"type\":\"parcoords\",\"line\":{\"colorbar\":{\"outlinewidth\":0,\"ticks\":\"\"}}}],\"scatterpolargl\":[{\"type\":\"scatterpolargl\",\"marker\":{\"colorbar\":{\"outlinewidth\":0,\"ticks\":\"\"}}}],\"bar\":[{\"error_x\":{\"color\":\"#2a3f5f\"},\"error_y\":{\"color\":\"#2a3f5f\"},\"marker\":{\"line\":{\"color\":\"#E5ECF6\",\"width\":0.5},\"pattern\":{\"fillmode\":\"overlay\",\"size\":10,\"solidity\":0.2}},\"type\":\"bar\"}],\"scattergeo\":[{\"type\":\"scattergeo\",\"marker\":{\"colorbar\":{\"outlinewidth\":0,\"ticks\":\"\"}}}],\"scatterpolar\":[{\"type\":\"scatterpolar\",\"marker\":{\"colorbar\":{\"outlinewidth\":0,\"ticks\":\"\"}}}],\"histogram\":[{\"marker\":{\"pattern\":{\"fillmode\":\"overlay\",\"size\":10,\"solidity\":0.2}},\"type\":\"histogram\"}],\"scattergl\":[{\"type\":\"scattergl\",\"marker\":{\"colorbar\":{\"outlinewidth\":0,\"ticks\":\"\"}}}],\"scatter3d\":[{\"type\":\"scatter3d\",\"line\":{\"colorbar\":{\"outlinewidth\":0,\"ticks\":\"\"}},\"marker\":{\"colorbar\":{\"outlinewidth\":0,\"ticks\":\"\"}}}],\"scattermapbox\":[{\"type\":\"scattermapbox\",\"marker\":{\"colorbar\":{\"outlinewidth\":0,\"ticks\":\"\"}}}],\"scatterternary\":[{\"type\":\"scatterternary\",\"marker\":{\"colorbar\":{\"outlinewidth\":0,\"ticks\":\"\"}}}],\"scattercarpet\":[{\"type\":\"scattercarpet\",\"marker\":{\"colorbar\":{\"outlinewidth\":0,\"ticks\":\"\"}}}],\"carpet\":[{\"aaxis\":{\"endlinecolor\":\"#2a3f5f\",\"gridcolor\":\"white\",\"linecolor\":\"white\",\"minorgridcolor\":\"white\",\"startlinecolor\":\"#2a3f5f\"},\"baxis\":{\"endlinecolor\":\"#2a3f5f\",\"gridcolor\":\"white\",\"linecolor\":\"white\",\"minorgridcolor\":\"white\",\"startlinecolor\":\"#2a3f5f\"},\"type\":\"carpet\"}],\"table\":[{\"cells\":{\"fill\":{\"color\":\"#EBF0F8\"},\"line\":{\"color\":\"white\"}},\"header\":{\"fill\":{\"color\":\"#C8D4E3\"},\"line\":{\"color\":\"white\"}},\"type\":\"table\"}],\"barpolar\":[{\"marker\":{\"line\":{\"color\":\"#E5ECF6\",\"width\":0.5},\"pattern\":{\"fillmode\":\"overlay\",\"size\":10,\"solidity\":0.2}},\"type\":\"barpolar\"}],\"pie\":[{\"automargin\":true,\"type\":\"pie\"}]},\"layout\":{\"autotypenumbers\":\"strict\",\"colorway\":[\"#636efa\",\"#EF553B\",\"#00cc96\",\"#ab63fa\",\"#FFA15A\",\"#19d3f3\",\"#FF6692\",\"#B6E880\",\"#FF97FF\",\"#FECB52\"],\"font\":{\"color\":\"#2a3f5f\"},\"hovermode\":\"closest\",\"hoverlabel\":{\"align\":\"left\"},\"paper_bgcolor\":\"white\",\"plot_bgcolor\":\"#E5ECF6\",\"polar\":{\"bgcolor\":\"#E5ECF6\",\"angularaxis\":{\"gridcolor\":\"white\",\"linecolor\":\"white\",\"ticks\":\"\"},\"radialaxis\":{\"gridcolor\":\"white\",\"linecolor\":\"white\",\"ticks\":\"\"}},\"ternary\":{\"bgcolor\":\"#E5ECF6\",\"aaxis\":{\"gridcolor\":\"white\",\"linecolor\":\"white\",\"ticks\":\"\"},\"baxis\":{\"gridcolor\":\"white\",\"linecolor\":\"white\",\"ticks\":\"\"},\"caxis\":{\"gridcolor\":\"white\",\"linecolor\":\"white\",\"ticks\":\"\"}},\"coloraxis\":{\"colorbar\":{\"outlinewidth\":0,\"ticks\":\"\"}},\"colorscale\":{\"sequential\":[[0.0,\"#0d0887\"],[0.1111111111111111,\"#46039f\"],[0.2222222222222222,\"#7201a8\"],[0.3333333333333333,\"#9c179e\"],[0.4444444444444444,\"#bd3786\"],[0.5555555555555556,\"#d8576b\"],[0.6666666666666666,\"#ed7953\"],[0.7777777777777778,\"#fb9f3a\"],[0.8888888888888888,\"#fdca26\"],[1.0,\"#f0f921\"]],\"sequentialminus\":[[0.0,\"#0d0887\"],[0.1111111111111111,\"#46039f\"],[0.2222222222222222,\"#7201a8\"],[0.3333333333333333,\"#9c179e\"],[0.4444444444444444,\"#bd3786\"],[0.5555555555555556,\"#d8576b\"],[0.6666666666666666,\"#ed7953\"],[0.7777777777777778,\"#fb9f3a\"],[0.8888888888888888,\"#fdca26\"],[1.0,\"#f0f921\"]],\"diverging\":[[0,\"#8e0152\"],[0.1,\"#c51b7d\"],[0.2,\"#de77ae\"],[0.3,\"#f1b6da\"],[0.4,\"#fde0ef\"],[0.5,\"#f7f7f7\"],[0.6,\"#e6f5d0\"],[0.7,\"#b8e186\"],[0.8,\"#7fbc41\"],[0.9,\"#4d9221\"],[1,\"#276419\"]]},\"xaxis\":{\"gridcolor\":\"white\",\"linecolor\":\"white\",\"ticks\":\"\",\"title\":{\"standoff\":15},\"zerolinecolor\":\"white\",\"automargin\":true,\"zerolinewidth\":2},\"yaxis\":{\"gridcolor\":\"white\",\"linecolor\":\"white\",\"ticks\":\"\",\"title\":{\"standoff\":15},\"zerolinecolor\":\"white\",\"automargin\":true,\"zerolinewidth\":2},\"scene\":{\"xaxis\":{\"backgroundcolor\":\"#E5ECF6\",\"gridcolor\":\"white\",\"linecolor\":\"white\",\"showbackground\":true,\"ticks\":\"\",\"zerolinecolor\":\"white\",\"gridwidth\":2},\"yaxis\":{\"backgroundcolor\":\"#E5ECF6\",\"gridcolor\":\"white\",\"linecolor\":\"white\",\"showbackground\":true,\"ticks\":\"\",\"zerolinecolor\":\"white\",\"gridwidth\":2},\"zaxis\":{\"backgroundcolor\":\"#E5ECF6\",\"gridcolor\":\"white\",\"linecolor\":\"white\",\"showbackground\":true,\"ticks\":\"\",\"zerolinecolor\":\"white\",\"gridwidth\":2}},\"shapedefaults\":{\"line\":{\"color\":\"#2a3f5f\"}},\"annotationdefaults\":{\"arrowcolor\":\"#2a3f5f\",\"arrowhead\":0,\"arrowwidth\":1},\"geo\":{\"bgcolor\":\"white\",\"landcolor\":\"#E5ECF6\",\"subunitcolor\":\"white\",\"showland\":true,\"showlakes\":true,\"lakecolor\":\"white\"},\"title\":{\"x\":0.05},\"mapbox\":{\"style\":\"light\"}}},\"geo\":{\"domain\":{\"x\":[0.0,1.0],\"y\":[0.0,1.0]},\"center\":{},\"projection\":{\"type\":\"robinson\"},\"showcountries\":true},\"legend\":{\"tracegroupgap\":0},\"title\":{\"text\":\"KMeans USA\"}},                        {\"responsive\": true}                    ).then(function(){\n",
       "                            \n",
       "var gd = document.getElementById('86a947db-cb23-4e5a-a7e4-dab75bff0e3f');\n",
       "var x = new MutationObserver(function (mutations, observer) {{\n",
       "        var display = window.getComputedStyle(gd).display;\n",
       "        if (!display || display === 'none') {{\n",
       "            console.log([gd, 'removed!']);\n",
       "            Plotly.purge(gd);\n",
       "            observer.disconnect();\n",
       "        }}\n",
       "}});\n",
       "\n",
       "// Listen for the removal of the full notebook cells\n",
       "var notebookContainer = gd.closest('#notebook-container');\n",
       "if (notebookContainer) {{\n",
       "    x.observe(notebookContainer, {childList: true});\n",
       "}}\n",
       "\n",
       "// Listen for the clearing of the current output cell\n",
       "var outputEl = gd.closest('.output');\n",
       "if (outputEl) {{\n",
       "    x.observe(outputEl, {childList: true});\n",
       "}}\n",
       "\n",
       "                        })                };                });            </script>        </div>"
      ]
     },
     "metadata": {},
     "output_type": "display_data"
    },
    {
     "data": {
      "image/png": "[encoded data removed]",
      "text/plain": [
       "<Figure size 640x480 with 1 Axes>"
      ]
     },
     "metadata": {},
     "output_type": "display_data"
    }
   ],
   "source": [
    "cluster_df_usa, usa_df, usa_centers = kmns(usa_df,3)\n",
    "\n",
    "plotdf(usa_df, usa_centers, \"KMeans USA\", \"robinson\", True)\n"
   ]
  },
  {
   "cell_type": "code",
   "execution_count": 89,
   "id": "d4cd8009",
   "metadata": {},
   "outputs": [
    {
     "name": "stdout",
     "output_type": "stream",
     "text": [
      "False\n",
      "False\n"
     ]
    },
    {
     "data": {
      "image/png": "[encoded data removed]",
      "text/plain": [
       "<Figure size 640x480 with 1 Axes>"
      ]
     },
     "metadata": {},
     "output_type": "display_data"
    },
    {
     "data": {
      "application/vnd.plotly.v1+json": {
       "config": {
        "plotlyServerURL": "https://plot.ly"
       },
       "data": [
        {
         "geo": "geo",
         "hovertemplate": "<extra></extra>",
         "legendgroup": "",
         "marker": {
          "color": "#636efa",
          "symbol": "circle"
         },
         "mode": "markers",
         "name": "",
         "showlegend": false,
         "type": "scattergeo"
        },
        {
         "geo": "geo",
         "hovertemplate": "<b>%{hovertext}</b><br><br>latitude=%{lat}<br>longitude=%{lon}<extra></extra>",
         "hovertext": [
          "Cluster Center",
          "Cluster Center",
          "Cluster Center"
         ],
         "lat": [
          7.997885925925926,
          5.610165192307692,
          33.475787029702964
         ],
         "legendgroup": "",
         "lon": [
          -74.21373361111111,
          118.98696721153846,
          13.592945445544554
         ],
         "marker": {
          "color": "#636efa",
          "size": 12,
          "symbol": "diamond"
         },
         "mode": "markers",
         "name": "",
         "showlegend": false,
         "type": "scattergeo"
        },
        {
         "geo": "geo",
         "hovertemplate": "<b>%{hovertext}</b><br><br>latitude=%{lat}<br>longitude=%{lon}<br>cluster_kmeans=%{marker.color}<extra></extra>",
         "hovertext": [
          "Mystery Virus Spreads in Recife, Brazil",
          "Trinidad confirms first Zika case",
          "San Juan reports 1st U.S. Zika-related death amid outbreak",
          "Zika alert aEUR\" Manila now threatened",
          "Zika afflicts 7 in Iloilo City",
          "Bad Water Leads to Sickness in Flint, Michigan",
          "London Health Unit Tracks Mad Cow Disease",
          "Zika cases in Vietnam's Ho Chi Minh City surge",
          "Flu season hits Boston",
          "Scientists in Paris to look for answers",
          "Key Zika Findings in San Diego Institute",
          "Thailand-Zika Virus in Bangkok",
          "Beijing team cracks Zika secret",
          "Zika spreading to Salvador",
          "Kuala Lumpur is Hit By Zika Threat",
          "First Zika case confirmed in Yangon",
          "Zika Virus Reaches San Francisco",
          "Townsville Zika tests inconclusive",
          "Mandaluyong City under Siege by Virus",
          "Hepatitis E re-emerges in Santa Rosa",
          "Zika worries in San Salvador",
          "Zika outbreak in Piracicaba, Brazil",
          "Lima tries to address Zika Concerns",
          "More people in Toronto are infected with Hepatitis E every year",
          "Brisbane is infested with Meningitis",
          "Cholera outbreak in Dakar",
          "Zika Virus Transmission Detected in Havana",
          "Case of Measles Reported in Vancouver",
          "Saint Croix under Zika threat",
          "Zika surfaces in Klang, Malaysia",
          "Rumors about Meningitis spreading in Guatemala City have been refuted",
          "Lower Hospitalization in Entebbe after Rabies Vaccine becomes Mandatory",
          "Schools in Shenzhen Closed Due to Malaria Outbreak",
          "Caracas patient dies",
          "More Quezon City Zika Transmissions",
          "Schools in Sydney Closed Due to Respiratory Syncytial Virus Outbreak",
          "Mumbai's Health Minister warns of more Zika cases",
          "Pune woman diagnosed with Zika",
          "Hospitals in Hanoi fill up with Zika patients",
          "Zika: Delhi for strict monitoring",
          "Belize City under threat from Zika",
          "Student sick in Campinas, Brazil",
          "More Zika cases in Soyapango",
          "Authorities are Worried about the Spread of Mad Cow Disease in Rome",
          "Seoul confirms 14th Zika infection",
          "Zika outbreak spreads to Mexico City",
          "Rochester authorities confirmed the spread of Dengue",
          "Zika now spreading through Jakarta",
          "Zika San Antonio Patient Speaks Out",
          "Ebola outbreak in Kampala",
          "Precautionary Zika measures in Rockhampton",
          "Zika arrives in Tegucigalpa",
          "New Zika Case Confirmed in Belo Horizonte",
          "Case of Hepatitis E Reported in Melbourne",
          "New medicine wipes out Tuberculosis in Taipei",
          "Antipolo under threat from Zika Virus",
          "Spreading Zika reaches Bacoor",
          "Zika afflicts patient in Calamba",
          "Petaling Jaya man ill from Zika",
          "Malaria is Spreading in Johannesburg",
          "Authorities are Worried about the Spread of Norovirus in Buenos Aires",
          "Guangzhou Patient in Critical Condition after Contracting Swine Flu",
          "Tokyo Encounters Severe Symptoms of Meningitis",
          "Rabies Exposure in Hamilton",
          "Zika Outbreak in Hyderabad",
          "Birmingham Residents Recieve Rabies vaccine",
          "Is Zika virus in Majuro?",
          "Spanish Flu Outbreak in Barcelona",
          "Santa Barbara tests new cure for Hepatitis C",
          "Villavicencio under Zika threat",
          "Two more Zika cases confirmed in Laredo",
          "New Delhi Addressing Zika Concerns",
          "New Zika Case in Kota Kinabalu, Malaysia",
          "Meningitis re-emerges in Nassau",
          "Zika reaches Johor Bahru, Malaysia",
          "Nha Trang Zika Outbreak",
          "Molo Cholera Spread Causing Concern",
          "Norovirus Exposure in Hong Kong",
          "19 new Zika Cases in Sengkang",
          "Batangas Tourism Takes a Hit as Virus Spreads",
          "Johannesburg Patient in Critical Condition after Contracting Pneumonia",
          "Outbreak of Zika in Bacolod City",
          "Respiratory Syncytial Virus Keeps Spreading in Masaya",
          "Authorities are Worried about the Spread of Tuberculosis in Abuja",
          "Zika alert for Rio Grande Valley residents",
          "Zika symptoms spotted in Colombo",
          "Hepatitis B has not Left Florence",
          "Rumors about Rotavirus spreading in Huntsville have been refuted",
          "Rhinovirus has Arrived in Athens",
          "Influenza has not Left Sacramento",
          "Veracruz hit by Zika Concerns",
          "Authorities are Worried about the Spread of Dengue in Kingston",
          "Montevideo Encounters Severe Symptoms of Rotavirus",
          "Zika cases in Singapore reach 393",
          "Zika arrives in Miri",
          "Lower Hospitalization in Auckland after Hepatitis D Vaccine becomes Mandatory",
          "Will MCD vaccine help Strasbourg?",
          "New medicine wipes out Measles in Fresno",
          "Zika arrives in Santos",
          "Sick Livestock Leads to Serious Trouble for Belfort",
          "Hepatitis E has not Left Libreville",
          "Norovirus has Arrived in Winnipeg",
          "More Patients in Cambridge are Getting Diagnosed with Chickenpox",
          "Chikungunya Exposure in Toledo",
          "Mecca tests new cure for Chikungunya",
          "Zika arrives in San Benito",
          "Zika case recorded in Tunapuna A>>",
          "Spike of Respiratory Syncytial Virus Cases in Mandalay",
          "Mad Cow Disease Re-emerges in Chatham",
          "Mad Cow Disease Hits Naples",
          "More Zika patients reported in Davao",
          "Oxford tests new cure for HIV",
          "Tests negative on Windsor Zika carriers",
          "Lausanne Residents Recieve Meningitis vaccine",
          "Rhinovirus Comes to San Jose",
          "Rumors about Hepatitis D spreading in Albany have been refuted",
          "Zika symptoms spotted in Bello",
          "Will Meningitis vaccine help Hamburg?",
          "Madera Patient in Critical Condition after Contracting Rabies",
          "Varicella re-emerges in Lagos",
          "Vericella spreading in Ibadan",
          "Schools in Birmingham Closed Due to Measles Outbreak",
          "Spike of Chlamydia Cases in Berlin",
          "Zika Mosquitoes May Have Bred in Bromeliads, Florida Officials Say",
          "More Livestock in Fontainebleau are infected with Mad Cow Disease",
          "Authorities are Worried about the Spread of Norovirus in Dubai",
          "Case of Hepatitis A Reported in Calgary",
          "Will Swine Flu vaccine help Ljubljana?",
          "Bronchitis re-emerges in Tehran",
          "Mad Cow case in Murcia",
          "Mad Cow Disease Spreads to Margate",
          "Will the Mad Cow Outbreak Reach Vienna?",
          "More Patients in Orange are Getting Diagnosed with Chickenpox",
          "Lower Hospitalization in Richmond after Mumps Vaccine becomes Mandatory",
          "Meningitis re-emerges in Medina",
          "Four cases of Zika in Hidalgo County",
          "Zika arrives in Oaxaca",
          "More people in Durham are infected with Chlamydia every year",
          "Authorities are Worried about the Spread of Gonorrhea in Taoyuan City",
          "Lower Hospitalization in Dhaka after Measles Vaccine becomes Mandatory",
          "Albany Residents Recieve Respiratory Syncytial Virus vaccine",
          "More people in Nadi are infected with HIV every year",
          "Tocumen tests new cure for Hepatitis A",
          "Phnom Penh hit by Zika Threat",
          "Zika Troubles come to Harlingen",
          "Zika spreads to Barranquilla",
          "Mad Cow Disease Hits Rotterdam",
          "West Nile Virus Hits Yogyakarta",
          "More Patients in Dublin are Getting Diagnosed with Bronchitis",
          "Rumors about Tuberculosis Spreading in Baud have been Refuted",
          "Rumors about West Nile Virus Spreading in Salem have been Refuted",
          "St. Catharines Patient in Critical Condition after Contracting Dengue",
          "Outbreak of Zika in Pasig City",
          "Zika Troubles come to Kampong Cham",
          "Zika case reported in Rizal",
          "More people in Saint Petersburg are infected with Varicella every year",
          "Halifax is infested with Swine Flu",
          "Zika arrives in Natal",
          "Herpes Keeps Spreading in Rochester",
          "Zika case reported in Phetchabun",
          "West Nile Virus re-emerges in Wellington",
          "Rumors about Pneumonia spreading in Ottawa have been refuted",
          "More Patients in Stuttgart are Getting Diagnosed with Rabies",
          "Schools in Glasgow Closed Due to Hepatitis B Outbreak",
          "Spanish flu spreading in Madrid",
          "Rabies Hits Madrid",
          "How to Avoid Chlamydia in Santiago",
          "Rotavirus Vaccine is now Required in Las Cumbres",
          "Mad Cow Outbreak Spreading in Ennis",
          "Southampton Patient in Critical Condition after Contracting Tuberculosis",
          "Authorities are Worried about the Spread of Chickenpox in Richmond",
          "Chikungunya re-emerges in Kobe",
          "Hepatitis D has Arrived in Grenoble",
          "West Nile Virus Symptoms Spread all over Yerevan",
          "Zika Outbreak in Sincelejo",
          "Rumors about HIV spreading in Montpellier have been refuted",
          "Praia tests new cure for Pneumonia",
          "Zika spreads to Kuching",
          "Tuberculosis re-emerges in Silver Springs",
          "Rumors about Mad Cow Disease Brighton have been Refuted",
          "Zika case reported in Jacobina",
          "More contaminated cattle reported in Bedford",
          "Spike of Norovirus Cases in Huddersfield",
          "Lower Hospitalization in Papeete after Measles Vaccine becomes Mandatory",
          "Zika arrives in Udon Thani",
          "Spike of Dengue Cases in Stockholm",
          "Duisburg up in Arms over Mad Cow Disease",
          "Laventille authorities confirmed the spread of Rhinovirus",
          "Will Herpes vaccine help Newcastle?",
          "How to Avoid Norovirus in Greenville",
          "More Zika patients reported in Calumpang",
          "Zika symptoms spotted in Quisqueya",
          "Zika symptoms spotted in Fortaleza",
          "Rumors about Bronchitis spreading in Bundaberg have been refuted",
          "Hepatitis A re-emerges in Stamford",
          "Will Mad Cow Vaccine Help Bristol?",
          "The Spread of Meningitis in Imperial has been Confirmed",
          "Zika arrives in Orange City",
          "Pilsen Encounters Severe Symptoms of Malaria",
          "Will Hepatitis B vaccine help La Paz?",
          "Zika Outbreak in Puducherry",
          "Will Rabies vaccine help Tangier?",
          "Zika symptoms spotted in Iquitos",
          "Pedro Juan Caballero Encounters Severe Symptoms of Pneumonia",
          "More Zika patients reported in Melbourne",
          "Zika Troubles come to La Libertad",
          "The Spread of Malaria in Brazzaville has been Confirmed",
          "Huzhou Residents Receive Hepatitis B vaccine",
          "Spike of Rabies Cases in Managua",
          "Outbreak of Zika in Santa Elena",
          "Mad Cow Disease Disastrous to Brussels",
          "Zika spreads to Olinda",
          "Authorities are Worried about the Spread of Hepatitis D in Ganja",
          "Dengue Exposure in Kathmandu",
          "Tuberculosis has Arrived in Fairfield",
          "Outbreak of Zika in Kozhikode",
          "Bronchitis Symptoms Spread all over Santa Fe",
          "More Patients in Alexandria are Getting Diagnosed with Mumps",
          "Hepatitis C re-emerges in Damascus",
          "Lower Hospitalization in Pekanbaru after Rotavirus Vaccine becomes Mandatory",
          "Case of Mad Cow Disease Reported in Hilden",
          "Rumors about Rabies Spreading in Khartoum have been Refuted",
          "Harare is infested with Pneumonia",
          "Zika symptoms spotted in Sibu",
          "Zika arrives in Quezon",
          "Spike of Hepatitis B Cases in Greenville",
          "More Zika patients reported in Nuevo Laredo",
          "Bronchitis Keeps Spreading in San Mateo",
          "Authorities are Worried about the Spread of Hepatitis D in North Bay",
          "The Spread of Herpes in Baku has been Confirmed",
          "Will Measles vaccine help Sochi?",
          "Tuberculosis Symptoms Spread all over Caguas",
          "Contaminated Meat Brings Trouble for Bonn Farmers",
          "Authorities are Worried about the Spread of Syphilis in Pyongyang",
          "Durango is infested with Hepatitis B",
          "Mpika authorities confirmed the spread of Chikungunya",
          "Gladstone Encounters Severe Symptoms of Dengue",
          "Mad Cow Disease Hits London",
          "HIV Symptoms Spread all over Hinthada",
          "Zika symptoms spotted in Quito",
          "Sulu, Zamboanga brace for Zika",
          "Spanish Flu Outbreak in Lisbon",
          "Spanish Flu Spreading through Madrid",
          "Barcelona Struck by Spanish Flu",
          "Spanish Flu Outbreak in Lisbon",
          "Spanish Flu Spreading through Madrid",
          "Barcelona Struck by Spanish Flu ",
          "Tuberculosis Hits Luanda",
          "Will West Nile Virus vaccine help Dumai?",
          "The Spread of Malaria in Zanzibar has been Confirmed",
          "Malaria Outbreak Hits Zanzibar's Tourist Industry",
          "Tourist Perishes from Malaria in Arusha",
          "Herpes Symptoms Spread all over New Kingston",
          "More people in Yokohama are infected with Norovirus every year",
          "More people in Kitwe are infected with Respiratory Syncytial Virus every year",
          "Malaria has Arrived in Terrebonne",
          "Chikungunya Keeps Spreading in North Vancouver",
          "Rumors about Hepatitis C spreading in Darien have been refuted",
          "The Spread of West Nile Virus in Fairfield has been Confirmed",
          "Norovirus Keeps Spreading in Copenhagen",
          "Wuhan is infested with Varicella",
          "Spike of Norovirus Cases in Canberra",
          "Zika Troubles come to Greater Noida",
          "Sangre Grande Residents Recieve Gonorrhea vaccine",
          "Outbreak of Zika in Colombo",
          "Will Rotavirus vaccine help Addis Ababa?",
          "Zika Troubles come to Jaen",
          "Hepatitis B Exposure in Edinburgh",
          "Zika case reported in Reynosa",
          "More Zika patients reported in Chennai",
          "Zika arrives in San Onofre",
          "Lung Cancer Rates Increasing in Moscow",
          "More Zika patients reported in Chanthaburi",
          "Zika case reported in Limoeiro",
          "Ibadan tests new cure for Malaria",
          "Pneumonia has not Left Kinshasa",
          "Pneumonia Exposure in San Jose",
          "Authorities are Worried about the Spread of Mad Cow Disease in Edinburgh",
          "More Zika patients reported in Botucatu",
          "Varicella Exposure in Cambridge",
          "Hepatitis A Vaccine is now Required in Fukushima",
          "West Nile Virus has Arrived in Dongguan",
          "Zika arrives in Belmopan",
          "Zika Outbreak in Manaus",
          "Zika spreads to Caucasia",
          "Case of Malaria Reported in Aurora",
          "Manchester Residents Recieve Influenza vaccine",
          "Zika spreads to Kamphaeng Phet",
          "Rotavirus Vaccine is now Required in Labasa",
          "Zika Outbreak in Mexicali",
          "Chlamydia Exposure in Sanaa",
          "More Patients in Kensington are Getting Diagnosed with Varicella",
          "Zika Reported in Ilopango",
          "Hepatitis D Exposure in Aswan",
          "How to Avoid Contaminated Meat when Visiting Basel",
          "More Zika patients reported in Kampong Speu",
          "Mad Cow Disease Detected in Lyon",
          "How to Avoid Chikungunya in Hampton",
          "Case of Norovirus Reported in Stratford",
          "Hepatitis C Outbreak in Bethlehem",
          "Rumors about Swine Flu spreading in Suzhou have been refuted",
          "Case of Swine Flu Reported in Tbilisi",
          "Mad Cow Disease re-emerges in Bedford",
          "Authorities are Worried about the Spread of Hepatitis B in Yiwu",
          "Zika Outbreak in Yurimaguas",
          "Varicella has Arrived in Milton",
          "New medicine wipes out Meningitis in Sevilla",
          "Outbreak of Zika in Portoviejo",
          "Influenza Exposure in Muscat",
          "Rumors about Rabies spreading in Jerusalem have been refuted",
          "More Zika patients reported in Indang",
          "Suva authorities confirmed the spread of Rotavirus",
          "More Zika patients reported in Bella Vista"
         ],
         "lat": [
          -8.05389,
          -14.83333,
          -31.5375,
          14.6042,
          10.69694,
          53.24488,
          42.98339,
          10.82302,
          52.97633,
          48.85341,
          9.89898,
          13.75398,
          39.9075,
          -12.97111,
          3.1412,
          16.80528,
          -31.42797,
          -19.26639,
          14.5832,
          -36.61667,
          13.68935,
          -22.72528,
          -12.04318,
          43.70011,
          -27.46794,
          14.6937,
          23.13302,
          49.24966,
          17.72751,
          3.03667,
          14.64072,
          0.05621,
          22.54554,
          10.48801,
          14.6488,
          -33.86785,
          19.07283,
          18.51957,
          21.0245,
          28.65195,
          17.49952,
          -22.90556,
          13.71024,
          41.89193,
          37.566,
          19.42847,
          51.38764,
          -6.21462,
          -33.59473,
          0.31628,
          -23.38032,
          14.0818,
          -19.92083,
          -37.814,
          25.04776,
          14.62578,
          14.45896,
          14.21167,
          3.10726,
          -26.20227,
          -34.61315,
          23.11667,
          35.6895,
          32.2949,
          17.38405,
          52.48142,
          7.08971,
          41.38879,
          16.0009,
          4.142,
          -8.08965,
          28.63576,
          25.18254,
          25.05823,
          1.4655,
          12.24507,
          -0.24849,
          22.27832,
          -4.1279,
          13.7567,
          -26.20227,
          10.66667,
          11.97444,
          9.05785,
          -32.035,
          -25.29167,
          43.77925,
          45.33341,
          37.98376,
          -19.86528,
          19.18095,
          44.22976,
          -34.90328,
          1.28967,
          4.39928,
          -36.84853,
          48.58392,
          5.15264,
          -23.96083,
          47.64218,
          0.39241,
          49.8844,
          43.3601,
          -24.71361,
          21.42664,
          16.91675,
          10.65245,
          21.97473,
          42.41224,
          40.85216,
          7.07306,
          51.75222,
          42.30008,
          46.516,
          13.35,
          -35.02692,
          6.33732,
          53.57532,
          29.19366,
          6.45407,
          7.37756,
          52.48142,
          52.52437,
          3.3223,
          48.40908,
          25.07725,
          51.05011,
          46.05108,
          35.69439,
          37.98704,
          51.38132,
          48.20849,
          -33.28397,
          -37.81819,
          21.14972,
          25.97205,
          17.06542,
          54.77676,
          24.99368,
          23.7104,
          -35.02692,
          -17.80309,
          9.08939,
          11.56245,
          53.17477,
          10.96854,
          51.9225,
          -7.80139,
          53.33306,
          20.83773,
          11.65376,
          43.17126,
          14.58691,
          11.99339,
          15.7118,
          59.93863,
          44.64533,
          -5.795,
          51.38764,
          16.41904,
          52.7,
          45.41117,
          48.78232,
          55.86515,
          4.73245,
          4.73245,
          -29.19167,
          9.08916,
          52.84361,
          50.90395,
          -37.81819,
          34.6913,
          45.17869,
          40.18111,
          9.30472,
          43.61092,
          14.93152,
          1.55,
          -26.25,
          -37.90561,
          -11.18143,
          52.13459,
          53.64904,
          -17.53733,
          17.41567,
          59.33258,
          51.43247,
          10.64917,
          -32.92953,
          5.01133,
          14.6228,
          18.55542,
          -3.71722,
          -24.86621,
          52.65,
          51.45523,
          -13.05927,
          -33.28397,
          49.74747,
          -30.74179,
          11.93381,
          35.76727,
          -3.74912,
          -22.54722,
          -37.814,
          -2.233,
          -4.26613,
          30.8703,
          12.13282,
          -30.94432,
          50.85045,
          -8.00889,
          40.68278,
          27.70169,
          -33.86667,
          11.24802,
          -31.64881,
          31.20176,
          33.5102,
          0.51667,
          51.16818,
          15.55177,
          -17.82772,
          2.3,
          15.5512,
          5.01133,
          27.47629,
          16.88206,
          46.3168,
          40.37767,
          43.59917,
          18.23412,
          50.73438,
          39.03385,
          43.17124,
          -11.83431,
          -23.84852,
          42.98339,
          17.64944,
          -0.22985,
          6.91028,
          38.71667,
          4.73245,
          41.38879,
          38.71667,
          4.73245,
          41.38879,
          -8.83682,
          1.66711,
          -6.16394,
          -6.16394,
          -3.36667,
          18.00747,
          35.43333,
          -12.80243,
          45.70004,
          49.31636,
          3.93135,
          -33.86667,
          55.67594,
          30.58333,
          -35.28346,
          28.49615,
          10.58705,
          -25.29167,
          9.02497,
          15.3275,
          55.95206,
          26.08061,
          13.08784,
          9.73586,
          55.75222,
          12.60961,
          -7.87472,
          7.37756,
          -4.32758,
          13.35,
          55.95206,
          -22.88583,
          43.3601,
          37.75,
          23.01797,
          17.25,
          -3.10194,
          7.98654,
          44.00011,
          53.48095,
          16.48344,
          -16.4332,
          32.62781,
          15.35472,
          -33.92019,
          13.70167,
          24.09082,
          47.55839,
          11.45332,
          45.74846,
          51.41334,
          43.36679,
          31.70487,
          33.63611,
          41.69411,
          52.13459,
          29.31506,
          -5.90181,
          43.51681,
          4.26425,
          -1.05458,
          23.58413,
          31.76904,
          14.19528,
          -18.14161,
          -27.03424
         ],
         "legendgroup": "",
         "lon": [
          -34.88111,
          -64.9,
          -68.53639,
          120.9822,
          122.56444,
          -3.13231,
          -81.23304,
          106.62965,
          -0.02664,
          2.3488,
          -84.00287,
          100.50144,
          116.39723,
          -38.51083,
          101.68653,
          96.15611,
          -62.08266,
          146.80569,
          121.0409,
          -64.28333,
          -89.18718,
          -47.64917,
          -77.02824,
          -79.4163,
          153.02809,
          -17.44406,
          -82.38304,
          -123.11934,
          -64.74698,
          101.44333,
          -90.51327,
          32.47949,
          114.0683,
          -66.87919,
          121.0509,
          151.20732,
          72.88261,
          73.85535,
          105.84117,
          77.23149,
          -88.19756,
          -47.06083,
          -89.13989,
          12.51133,
          126.9784,
          -99.12766,
          0.50546,
          106.84513,
          -71.60746,
          32.58219,
          150.50595,
          -87.20681,
          -43.93778,
          144.96332,
          121.53185,
          121.12251,
          120.93851,
          121.16528,
          101.60671,
          28.04363,
          -58.37723,
          113.25,
          139.69171,
          -64.78303,
          78.45636,
          -1.89983,
          171.38027,
          2.15899,
          120.4023,
          -73.62664,
          -78.9602,
          77.22445,
          75.83907,
          -77.34306,
          103.7578,
          109.19432,
          35.73194,
          114.17469,
          120.0297,
          121.0584,
          28.04363,
          122.95,
          -86.09417,
          7.49508,
          -52.09861,
          -49.22417,
          11.24626,
          -79.21632,
          23.72784,
          -47.44,
          -96.1429,
          -76.48098,
          -56.18816,
          103.85007,
          113.99163,
          174.76349,
          7.74553,
          -75.03624,
          -46.33361,
          6.85385,
          9.45356,
          -97.14704,
          -80.31269,
          -53.74306,
          39.82563,
          -89.91898,
          -61.38878,
          96.08359,
          -82.18494,
          14.26811,
          125.61278,
          -1.25596,
          -83.01654,
          6.63282,
          123.55,
          117.88369,
          -75.55795,
          10.01534,
          -108.14684,
          3.39467,
          3.90591,
          -1.89983,
          13.41053,
          -76.2348,
          2.70177,
          55.30927,
          -114.08529,
          14.50513,
          51.42151,
          -1.13004,
          1.38617,
          16.37208,
          149.10018,
          145.00176,
          -101.6225,
          -100.45029,
          -96.72365,
          -1.57566,
          121.29696,
          90.40744,
          117.88369,
          177.41617,
          -79.3831,
          104.91601,
          5.42244,
          -74.78132,
          4.47917,
          110.36472,
          -6.24889,
          84.32618,
          78.15538,
          -79.24267,
          121.0614,
          105.4635,
          121.1061,
          30.31413,
          -63.57239,
          -35.20944,
          0.50546,
          101.16056,
          -2.51667,
          -75.69812,
          9.17702,
          -4.25763,
          -74.26419,
          -74.26419,
          -54.86722,
          -79.52809,
          -8.98639,
          -1.40428,
          145.00176,
          135.183,
          5.71479,
          44.51361,
          -75.39778,
          3.87723,
          -23.51254,
          110.33333,
          28.4,
          145.00279,
          -40.51372,
          -0.46632,
          -1.78416,
          -149.5665,
          102.78589,
          18.0649,
          6.76516,
          -61.49889,
          151.7801,
          -9.0388,
          121.0897,
          -69.40814,
          -38.54306,
          152.3479,
          -0.48333,
          -2.59665,
          -76.35269,
          149.10018,
          13.37759,
          -59.64517,
          79.82979,
          -5.79975,
          -73.25383,
          -55.73333,
          144.96332,
          -80.91039,
          15.28318,
          120.0933,
          -86.2504,
          -59.78832,
          4.34878,
          -34.85528,
          46.36056,
          85.3206,
          150.95,
          75.7804,
          -60.70868,
          29.91582,
          36.29128,
          101.44167,
          6.93093,
          32.53241,
          31.05337,
          111.81667,
          120.8147,
          -9.0388,
          -99.51639,
          121.58694,
          -79.46633,
          49.89201,
          39.72569,
          -66.0485,
          7.09549,
          125.75432,
          -2.6338,
          31.45287,
          151.25775,
          -81.23304,
          95.45705,
          -78.52495,
          122.07389,
          -9.13333,
          -74.26419,
          2.15899,
          -9.13333,
          -74.26419,
          2.15899,
          13.23432,
          101.44316,
          39.19793,
          39.19793,
          36.68333,
          -76.78319,
          139.65,
          28.21323,
          -73.64732,
          -123.06934,
          -76.48481,
          150.95,
          12.56553,
          114.26667,
          149.12807,
          77.53601,
          -61.13008,
          -49.22417,
          38.74689,
          120.9192,
          -3.19648,
          -98.28835,
          80.27847,
          -75.52626,
          37.61556,
          102.10447,
          -35.45028,
          3.90591,
          15.31357,
          123.55,
          -3.19648,
          -48.445,
          -80.31269,
          140.46667,
          113.74866,
          -88.76667,
          -60.025,
          -75.19349,
          -79.46632,
          -2.23743,
          99.52153,
          179.36451,
          -115.45446,
          44.20667,
          151.22241,
          -89.10944,
          32.89942,
          7.57327,
          104.52085,
          4.84671,
          -0.36701,
          -80.94972,
          35.20376,
          116.97889,
          44.83368,
          -0.46632,
          120.07676,
          -76.12234,
          -79.88294,
          -75.93085,
          -80.45445,
          58.40778,
          35.21633,
          120.87694,
          178.44149,
          -65.30196
         ],
         "marker": {
          "color": [
           0,
           0,
           0,
           1,
           1,
           2,
           0,
           1,
           2,
           2,
           0,
           1,
           1,
           0,
           1,
           1,
           0,
           1,
           1,
           0,
           0,
           0,
           0,
           0,
           1,
           2,
           0,
           0,
           0,
           1,
           0,
           2,
           1,
           0,
           1,
           1,
           1,
           1,
           1,
           1,
           0,
           0,
           0,
           2,
           1,
           0,
           2,
           1,
           0,
           2,
           1,
           0,
           0,
           1,
           1,
           1,
           1,
           1,
           1,
           2,
           0,
           1,
           1,
           0,
           1,
           2,
           1,
           2,
           1,
           0,
           0,
           1,
           1,
           0,
           1,
           1,
           2,
           1,
           1,
           1,
           2,
           1,
           0,
           2,
           0,
           0,
           2,
           0,
           2,
           0,
           0,
           0,
           0,
           1,
           1,
           1,
           2,
           0,
           0,
           2,
           2,
           0,
           0,
           0,
           2,
           0,
           0,
           1,
           0,
           2,
           1,
           2,
           0,
           2,
           1,
           1,
           0,
           2,
           0,
           2,
           2,
           2,
           2,
           0,
           2,
           2,
           0,
           2,
           2,
           2,
           2,
           2,
           1,
           1,
           0,
           0,
           0,
           2,
           1,
           1,
           1,
           1,
           0,
           1,
           2,
           0,
           2,
           1,
           2,
           1,
           1,
           0,
           1,
           1,
           1,
           2,
           0,
           0,
           2,
           1,
           2,
           0,
           2,
           2,
           0,
           0,
           0,
           0,
           2,
           2,
           1,
           1,
           2,
           2,
           0,
           2,
           2,
           1,
           2,
           1,
           0,
           2,
           2,
           0,
           1,
           2,
           2,
           0,
           1,
           2,
           1,
           0,
           0,
           1,
           2,
           2,
           0,
           1,
           2,
           0,
           1,
           2,
           0,
           0,
           1,
           0,
           2,
           1,
           0,
           0,
           2,
           0,
           2,
           1,
           1,
           1,
           0,
           2,
           2,
           1,
           2,
           2,
           2,
           1,
           1,
           2,
           0,
           1,
           0,
           2,
           2,
           0,
           2,
           1,
           2,
           2,
           1,
           0,
           1,
           0,
           1,
           2,
           0,
           2,
           2,
           0,
           2,
           2,
           1,
           2,
           2,
           2,
           0,
           1,
           2,
           0,
           0,
           0,
           1,
           2,
           1,
           1,
           1,
           0,
           0,
           2,
           1,
           2,
           0,
           1,
           0,
           2,
           1,
           0,
           2,
           2,
           1,
           2,
           0,
           0,
           1,
           1,
           0,
           0,
           0,
           0,
           2,
           1,
           1,
           0,
           2,
           1,
           0,
           2,
           2,
           1,
           2,
           2,
           0,
           2,
           1,
           2,
           2,
           1,
           0,
           0,
           0,
           0,
           2,
           2,
           1,
           1,
           0
          ],
          "coloraxis": "coloraxis",
          "symbol": "circle"
         },
         "mode": "markers",
         "name": "",
         "showlegend": false,
         "type": "scattergeo"
        }
       ],
       "layout": {
        "geo": {
         "center": {},
         "domain": {
          "x": [
           0,
           1
          ],
          "y": [
           0,
           1
          ]
         },
         "projection": {
          "type": "orthographic"
         },
         "showcountries": true
        },
        "legend": {
         "tracegroupgap": 0
        },
        "template": {
         "data": {
          "bar": [
           {
            "error_x": {
             "color": "#2a3f5f"
            },
            "error_y": {
             "color": "#2a3f5f"
            },
            "marker": {
             "line": {
              "color": "#E5ECF6",
              "width": 0.5
             },
             "pattern": {
              "fillmode": "overlay",
              "size": 10,
              "solidity": 0.2
             }
            },
            "type": "bar"
           }
          ],
          "barpolar": [
           {
            "marker": {
             "line": {
              "color": "#E5ECF6",
              "width": 0.5
             },
             "pattern": {
              "fillmode": "overlay",
              "size": 10,
              "solidity": 0.2
             }
            },
            "type": "barpolar"
           }
          ],
          "carpet": [
           {
            "aaxis": {
             "endlinecolor": "#2a3f5f",
             "gridcolor": "white",
             "linecolor": "white",
             "minorgridcolor": "white",
             "startlinecolor": "#2a3f5f"
            },
            "baxis": {
             "endlinecolor": "#2a3f5f",
             "gridcolor": "white",
             "linecolor": "white",
             "minorgridcolor": "white",
             "startlinecolor": "#2a3f5f"
            },
            "type": "carpet"
           }
          ],
          "choropleth": [
           {
            "colorbar": {
             "outlinewidth": 0,
             "ticks": ""
            },
            "type": "choropleth"
           }
          ],
          "contour": [
           {
            "colorbar": {
             "outlinewidth": 0,
             "ticks": ""
            },
            "colorscale": [
             [
              0,
              "#0d0887"
             ],
             [
              0.1111111111111111,
              "#46039f"
             ],
             [
              0.2222222222222222,
              "#7201a8"
             ],
             [
              0.3333333333333333,
              "#9c179e"
             ],
             [
              0.4444444444444444,
              "#bd3786"
             ],
             [
              0.5555555555555556,
              "#d8576b"
             ],
             [
              0.6666666666666666,
              "#ed7953"
             ],
             [
              0.7777777777777778,
              "#fb9f3a"
             ],
             [
              0.8888888888888888,
              "#fdca26"
             ],
             [
              1,
              "#f0f921"
             ]
            ],
            "type": "contour"
           }
          ],
          "contourcarpet": [
           {
            "colorbar": {
             "outlinewidth": 0,
             "ticks": ""
            },
            "type": "contourcarpet"
           }
          ],
          "heatmap": [
           {
            "colorbar": {
             "outlinewidth": 0,
             "ticks": ""
            },
            "colorscale": [
             [
              0,
              "#0d0887"
             ],
             [
              0.1111111111111111,
              "#46039f"
             ],
             [
              0.2222222222222222,
              "#7201a8"
             ],
             [
              0.3333333333333333,
              "#9c179e"
             ],
             [
              0.4444444444444444,
              "#bd3786"
             ],
             [
              0.5555555555555556,
              "#d8576b"
             ],
             [
              0.6666666666666666,
              "#ed7953"
             ],
             [
              0.7777777777777778,
              "#fb9f3a"
             ],
             [
              0.8888888888888888,
              "#fdca26"
             ],
             [
              1,
              "#f0f921"
             ]
            ],
            "type": "heatmap"
           }
          ],
          "heatmapgl": [
           {
            "colorbar": {
             "outlinewidth": 0,
             "ticks": ""
            },
            "colorscale": [
             [
              0,
              "#0d0887"
             ],
             [
              0.1111111111111111,
              "#46039f"
             ],
             [
              0.2222222222222222,
              "#7201a8"
             ],
             [
              0.3333333333333333,
              "#9c179e"
             ],
             [
              0.4444444444444444,
              "#bd3786"
             ],
             [
              0.5555555555555556,
              "#d8576b"
             ],
             [
              0.6666666666666666,
              "#ed7953"
             ],
             [
              0.7777777777777778,
              "#fb9f3a"
             ],
             [
              0.8888888888888888,
              "#fdca26"
             ],
             [
              1,
              "#f0f921"
             ]
            ],
            "type": "heatmapgl"
           }
          ],
          "histogram": [
           {
            "marker": {
             "pattern": {
              "fillmode": "overlay",
              "size": 10,
              "solidity": 0.2
             }
            },
            "type": "histogram"
           }
          ],
          "histogram2d": [
           {
            "colorbar": {
             "outlinewidth": 0,
             "ticks": ""
            },
            "colorscale": [
             [
              0,
              "#0d0887"
             ],
             [
              0.1111111111111111,
              "#46039f"
             ],
             [
              0.2222222222222222,
              "#7201a8"
             ],
             [
              0.3333333333333333,
              "#9c179e"
             ],
             [
              0.4444444444444444,
              "#bd3786"
             ],
             [
              0.5555555555555556,
              "#d8576b"
             ],
             [
              0.6666666666666666,
              "#ed7953"
             ],
             [
              0.7777777777777778,
              "#fb9f3a"
             ],
             [
              0.8888888888888888,
              "#fdca26"
             ],
             [
              1,
              "#f0f921"
             ]
            ],
            "type": "histogram2d"
           }
          ],
          "histogram2dcontour": [
           {
            "colorbar": {
             "outlinewidth": 0,
             "ticks": ""
            },
            "colorscale": [
             [
              0,
              "#0d0887"
             ],
             [
              0.1111111111111111,
              "#46039f"
             ],
             [
              0.2222222222222222,
              "#7201a8"
             ],
             [
              0.3333333333333333,
              "#9c179e"
             ],
             [
              0.4444444444444444,
              "#bd3786"
             ],
             [
              0.5555555555555556,
              "#d8576b"
             ],
             [
              0.6666666666666666,
              "#ed7953"
             ],
             [
              0.7777777777777778,
              "#fb9f3a"
             ],
             [
              0.8888888888888888,
              "#fdca26"
             ],
             [
              1,
              "#f0f921"
             ]
            ],
            "type": "histogram2dcontour"
           }
          ],
          "mesh3d": [
           {
            "colorbar": {
             "outlinewidth": 0,
             "ticks": ""
            },
            "type": "mesh3d"
           }
          ],
          "parcoords": [
           {
            "line": {
             "colorbar": {
              "outlinewidth": 0,
              "ticks": ""
             }
            },
            "type": "parcoords"
           }
          ],
          "pie": [
           {
            "automargin": true,
            "type": "pie"
           }
          ],
          "scatter": [
           {
            "fillpattern": {
             "fillmode": "overlay",
             "size": 10,
             "solidity": 0.2
            },
            "type": "scatter"
           }
          ],
          "scatter3d": [
           {
            "line": {
             "colorbar": {
              "outlinewidth": 0,
              "ticks": ""
             }
            },
            "marker": {
             "colorbar": {
              "outlinewidth": 0,
              "ticks": ""
             }
            },
            "type": "scatter3d"
           }
          ],
          "scattercarpet": [
           {
            "marker": {
             "colorbar": {
              "outlinewidth": 0,
              "ticks": ""
             }
            },
            "type": "scattercarpet"
           }
          ],
          "scattergeo": [
           {
            "marker": {
             "colorbar": {
              "outlinewidth": 0,
              "ticks": ""
             }
            },
            "type": "scattergeo"
           }
          ],
          "scattergl": [
           {
            "marker": {
             "colorbar": {
              "outlinewidth": 0,
              "ticks": ""
             }
            },
            "type": "scattergl"
           }
          ],
          "scattermapbox": [
           {
            "marker": {
             "colorbar": {
              "outlinewidth": 0,
              "ticks": ""
             }
            },
            "type": "scattermapbox"
           }
          ],
          "scatterpolar": [
           {
            "marker": {
             "colorbar": {
              "outlinewidth": 0,
              "ticks": ""
             }
            },
            "type": "scatterpolar"
           }
          ],
          "scatterpolargl": [
           {
            "marker": {
             "colorbar": {
              "outlinewidth": 0,
              "ticks": ""
             }
            },
            "type": "scatterpolargl"
           }
          ],
          "scatterternary": [
           {
            "marker": {
             "colorbar": {
              "outlinewidth": 0,
              "ticks": ""
             }
            },
            "type": "scatterternary"
           }
          ],
          "surface": [
           {
            "colorbar": {
             "outlinewidth": 0,
             "ticks": ""
            },
            "colorscale": [
             [
              0,
              "#0d0887"
             ],
             [
              0.1111111111111111,
              "#46039f"
             ],
             [
              0.2222222222222222,
              "#7201a8"
             ],
             [
              0.3333333333333333,
              "#9c179e"
             ],
             [
              0.4444444444444444,
              "#bd3786"
             ],
             [
              0.5555555555555556,
              "#d8576b"
             ],
             [
              0.6666666666666666,
              "#ed7953"
             ],
             [
              0.7777777777777778,
              "#fb9f3a"
             ],
             [
              0.8888888888888888,
              "#fdca26"
             ],
             [
              1,
              "#f0f921"
             ]
            ],
            "type": "surface"
           }
          ],
          "table": [
           {
            "cells": {
             "fill": {
              "color": "#EBF0F8"
             },
             "line": {
              "color": "white"
             }
            },
            "header": {
             "fill": {
              "color": "#C8D4E3"
             },
             "line": {
              "color": "white"
             }
            },
            "type": "table"
           }
          ]
         },
         "layout": {
          "annotationdefaults": {
           "arrowcolor": "#2a3f5f",
           "arrowhead": 0,
           "arrowwidth": 1
          },
          "autotypenumbers": "strict",
          "coloraxis": {
           "colorbar": {
            "outlinewidth": 0,
            "ticks": ""
           }
          },
          "colorscale": {
           "diverging": [
            [
             0,
             "#8e0152"
            ],
            [
             0.1,
             "#c51b7d"
            ],
            [
             0.2,
             "#de77ae"
            ],
            [
             0.3,
             "#f1b6da"
            ],
            [
             0.4,
             "#fde0ef"
            ],
            [
             0.5,
             "#f7f7f7"
            ],
            [
             0.6,
             "#e6f5d0"
            ],
            [
             0.7,
             "#b8e186"
            ],
            [
             0.8,
             "#7fbc41"
            ],
            [
             0.9,
             "#4d9221"
            ],
            [
             1,
             "#276419"
            ]
           ],
           "sequential": [
            [
             0,
             "#0d0887"
            ],
            [
             0.1111111111111111,
             "#46039f"
            ],
            [
             0.2222222222222222,
             "#7201a8"
            ],
            [
             0.3333333333333333,
             "#9c179e"
            ],
            [
             0.4444444444444444,
             "#bd3786"
            ],
            [
             0.5555555555555556,
             "#d8576b"
            ],
            [
             0.6666666666666666,
             "#ed7953"
            ],
            [
             0.7777777777777778,
             "#fb9f3a"
            ],
            [
             0.8888888888888888,
             "#fdca26"
            ],
            [
             1,
             "#f0f921"
            ]
           ],
           "sequentialminus": [
            [
             0,
             "#0d0887"
            ],
            [
             0.1111111111111111,
             "#46039f"
            ],
            [
             0.2222222222222222,
             "#7201a8"
            ],
            [
             0.3333333333333333,
             "#9c179e"
            ],
            [
             0.4444444444444444,
             "#bd3786"
            ],
            [
             0.5555555555555556,
             "#d8576b"
            ],
            [
             0.6666666666666666,
             "#ed7953"
            ],
            [
             0.7777777777777778,
             "#fb9f3a"
            ],
            [
             0.8888888888888888,
             "#fdca26"
            ],
            [
             1,
             "#f0f921"
            ]
           ]
          },
          "colorway": [
           "#636efa",
           "#EF553B",
           "#00cc96",
           "#ab63fa",
           "#FFA15A",
           "#19d3f3",
           "#FF6692",
           "#B6E880",
           "#FF97FF",
           "#FECB52"
          ],
          "font": {
           "color": "#2a3f5f"
          },
          "geo": {
           "bgcolor": "white",
           "lakecolor": "white",
           "landcolor": "#E5ECF6",
           "showlakes": true,
           "showland": true,
           "subunitcolor": "white"
          },
          "hoverlabel": {
           "align": "left"
          },
          "hovermode": "closest",
          "mapbox": {
           "style": "light"
          },
          "paper_bgcolor": "white",
          "plot_bgcolor": "#E5ECF6",
          "polar": {
           "angularaxis": {
            "gridcolor": "white",
            "linecolor": "white",
            "ticks": ""
           },
           "bgcolor": "#E5ECF6",
           "radialaxis": {
            "gridcolor": "white",
            "linecolor": "white",
            "ticks": ""
           }
          },
          "scene": {
           "xaxis": {
            "backgroundcolor": "#E5ECF6",
            "gridcolor": "white",
            "gridwidth": 2,
            "linecolor": "white",
            "showbackground": true,
            "ticks": "",
            "zerolinecolor": "white"
           },
           "yaxis": {
            "backgroundcolor": "#E5ECF6",
            "gridcolor": "white",
            "gridwidth": 2,
            "linecolor": "white",
            "showbackground": true,
            "ticks": "",
            "zerolinecolor": "white"
           },
           "zaxis": {
            "backgroundcolor": "#E5ECF6",
            "gridcolor": "white",
            "gridwidth": 2,
            "linecolor": "white",
            "showbackground": true,
            "ticks": "",
            "zerolinecolor": "white"
           }
          },
          "shapedefaults": {
           "line": {
            "color": "#2a3f5f"
           }
          },
          "ternary": {
           "aaxis": {
            "gridcolor": "white",
            "linecolor": "white",
            "ticks": ""
           },
           "baxis": {
            "gridcolor": "white",
            "linecolor": "white",
            "ticks": ""
           },
           "bgcolor": "#E5ECF6",
           "caxis": {
            "gridcolor": "white",
            "linecolor": "white",
            "ticks": ""
           }
          },
          "title": {
           "x": 0.05
          },
          "xaxis": {
           "automargin": true,
           "gridcolor": "white",
           "linecolor": "white",
           "ticks": "",
           "title": {
            "standoff": 15
           },
           "zerolinecolor": "white",
           "zerolinewidth": 2
          },
          "yaxis": {
           "automargin": true,
           "gridcolor": "white",
           "linecolor": "white",
           "ticks": "",
           "title": {
            "standoff": 15
           },
           "zerolinecolor": "white",
           "zerolinewidth": 2
          }
         }
        },
        "title": {
         "text": "KMeans World without US"
        }
       }
      },
      "text/html": [
       "<div>                            <div id=\"b3b72e72-e501-494a-a865-c841d7ac8f2a\" class=\"plotly-graph-div\" style=\"height:525px; width:100%;\"></div>            <script type=\"text/javascript\">                require([\"plotly\"], function(Plotly) {                    window.PLOTLYENV=window.PLOTLYENV || {};                                    if (document.getElementById(\"b3b72e72-e501-494a-a865-c841d7ac8f2a\")) {                    Plotly.newPlot(                        \"b3b72e72-e501-494a-a865-c841d7ac8f2a\",                        [{\"geo\":\"geo\",\"hovertemplate\":\"\\u003cextra\\u003e\\u003c\\u002fextra\\u003e\",\"legendgroup\":\"\",\"marker\":{\"color\":\"#636efa\",\"symbol\":\"circle\"},\"mode\":\"markers\",\"name\":\"\",\"showlegend\":false,\"type\":\"scattergeo\"},{\"geo\":\"geo\",\"hovertemplate\":\"\\u003cb\\u003e%{hovertext}\\u003c\\u002fb\\u003e\\u003cbr\\u003e\\u003cbr\\u003elatitude=%{lat}\\u003cbr\\u003elongitude=%{lon}\\u003cextra\\u003e\\u003c\\u002fextra\\u003e\",\"hovertext\":[\"Cluster Center\",\"Cluster Center\",\"Cluster Center\"],\"lat\":[7.997885925925926,5.610165192307692,33.475787029702964],\"legendgroup\":\"\",\"lon\":[-74.21373361111111,118.98696721153846,13.592945445544554],\"marker\":{\"color\":\"#636efa\",\"symbol\":\"diamond\",\"size\":12},\"mode\":\"markers\",\"name\":\"\",\"showlegend\":false,\"type\":\"scattergeo\"},{\"geo\":\"geo\",\"hovertemplate\":\"\\u003cb\\u003e%{hovertext}\\u003c\\u002fb\\u003e\\u003cbr\\u003e\\u003cbr\\u003elatitude=%{lat}\\u003cbr\\u003elongitude=%{lon}\\u003cbr\\u003ecluster_kmeans=%{marker.color}\\u003cextra\\u003e\\u003c\\u002fextra\\u003e\",\"hovertext\":[\"Mystery Virus Spreads in Recife, Brazil\",\"Trinidad confirms first Zika case\",\"San Juan reports 1st U.S. Zika-related death amid outbreak\",\"Zika alert aEUR\\\" Manila now threatened\",\"Zika afflicts 7 in Iloilo City\",\"Bad Water Leads to Sickness in Flint, Michigan\",\"London Health Unit Tracks Mad Cow Disease\",\"Zika cases in Vietnam's Ho Chi Minh City surge\",\"Flu season hits Boston\",\"Scientists in Paris to look for answers\",\"Key Zika Findings in San Diego Institute\",\"Thailand-Zika Virus in Bangkok\",\"Beijing team cracks Zika secret\",\"Zika spreading to Salvador\",\"Kuala Lumpur is Hit By Zika Threat\",\"First Zika case confirmed in Yangon\",\"Zika Virus Reaches San Francisco\",\"Townsville Zika tests inconclusive\",\"Mandaluyong City under Siege by Virus\",\"Hepatitis E re-emerges in Santa Rosa\",\"Zika worries in San Salvador\",\"Zika outbreak in Piracicaba, Brazil\",\"Lima tries to address Zika Concerns\",\"More people in Toronto are infected with Hepatitis E every year\",\"Brisbane is infested with Meningitis\",\"Cholera outbreak in Dakar\",\"Zika Virus Transmission Detected in Havana\",\"Case of Measles Reported in Vancouver\",\"Saint Croix under Zika threat\",\"Zika surfaces in Klang, Malaysia\",\"Rumors about Meningitis spreading in Guatemala City have been refuted\",\"Lower Hospitalization in Entebbe after Rabies Vaccine becomes Mandatory\",\"Schools in Shenzhen Closed Due to Malaria Outbreak\",\"Caracas patient dies\",\"More Quezon City Zika Transmissions\",\"Schools in Sydney Closed Due to Respiratory Syncytial Virus Outbreak\",\"Mumbai's Health Minister warns of more Zika cases\",\"Pune woman diagnosed with Zika\",\"Hospitals in Hanoi fill up with Zika patients\",\"Zika: Delhi for strict monitoring\",\"Belize City under threat from Zika\",\"Student sick in Campinas, Brazil\",\"More Zika cases in Soyapango\",\"Authorities are Worried about the Spread of Mad Cow Disease in Rome\",\"Seoul confirms 14th Zika infection\",\"Zika outbreak spreads to Mexico City\",\"Rochester authorities confirmed the spread of Dengue\",\"Zika now spreading through Jakarta\",\"Zika San Antonio Patient Speaks Out\",\"Ebola outbreak in Kampala\",\"Precautionary Zika measures in Rockhampton\",\"Zika arrives in Tegucigalpa\",\"New Zika Case Confirmed in Belo Horizonte\",\"Case of Hepatitis E Reported in Melbourne\",\"New medicine wipes out Tuberculosis in Taipei\",\"Antipolo under threat from Zika Virus\",\"Spreading Zika reaches Bacoor\",\"Zika afflicts patient in Calamba\",\"Petaling Jaya man ill from Zika\",\"Malaria is Spreading in Johannesburg\",\"Authorities are Worried about the Spread of Norovirus in Buenos Aires\",\"Guangzhou Patient in Critical Condition after Contracting Swine Flu\",\"Tokyo Encounters Severe Symptoms of Meningitis\",\"Rabies Exposure in Hamilton\",\"Zika Outbreak in Hyderabad\",\"Birmingham Residents Recieve Rabies vaccine\",\"Is Zika virus in Majuro?\",\"Spanish Flu Outbreak in Barcelona\",\"Santa Barbara tests new cure for Hepatitis C\",\"Villavicencio under Zika threat\",\"Two more Zika cases confirmed in Laredo\",\"New Delhi Addressing Zika Concerns\",\"New Zika Case in Kota Kinabalu, Malaysia\",\"Meningitis re-emerges in Nassau\",\"Zika reaches Johor Bahru, Malaysia\",\"Nha Trang Zika Outbreak\",\"Molo Cholera Spread Causing Concern\",\"Norovirus Exposure in Hong Kong\",\"19 new Zika Cases in Sengkang\",\"Batangas Tourism Takes a Hit as Virus Spreads\",\"Johannesburg Patient in Critical Condition after Contracting Pneumonia\",\"Outbreak of Zika in Bacolod City\",\"Respiratory Syncytial Virus Keeps Spreading in Masaya\",\"Authorities are Worried about the Spread of Tuberculosis in Abuja\",\"Zika alert for Rio Grande Valley residents\",\"Zika symptoms spotted in Colombo\",\"Hepatitis B has not Left Florence\",\"Rumors about Rotavirus spreading in Huntsville have been refuted\",\"Rhinovirus has Arrived in Athens\",\"Influenza has not Left Sacramento\",\"Veracruz hit by Zika Concerns\",\"Authorities are Worried about the Spread of Dengue in Kingston\",\"Montevideo Encounters Severe Symptoms of Rotavirus\",\"Zika cases in Singapore reach 393\",\"Zika arrives in Miri\",\"Lower Hospitalization in Auckland after Hepatitis D Vaccine becomes Mandatory\",\"Will MCD vaccine help Strasbourg?\",\"New medicine wipes out Measles in Fresno\",\"Zika arrives in Santos\",\"Sick Livestock Leads to Serious Trouble for Belfort\",\"Hepatitis E has not Left Libreville\",\"Norovirus has Arrived in Winnipeg\",\"More Patients in Cambridge are Getting Diagnosed with Chickenpox\",\"Chikungunya Exposure in Toledo\",\"Mecca tests new cure for Chikungunya\",\"Zika arrives in San Benito\",\"Zika case recorded in Tunapuna A\\u003e\\u003e\",\"Spike of Respiratory Syncytial Virus Cases in Mandalay\",\"Mad Cow Disease Re-emerges in Chatham\",\"Mad Cow Disease Hits Naples\",\"More Zika patients reported in Davao\",\"Oxford tests new cure for HIV\",\"Tests negative on Windsor Zika carriers\",\"Lausanne Residents Recieve Meningitis vaccine\",\"Rhinovirus Comes to San Jose\",\"Rumors about Hepatitis D spreading in Albany have been refuted\",\"Zika symptoms spotted in Bello\",\"Will Meningitis vaccine help Hamburg?\",\"Madera Patient in Critical Condition after Contracting Rabies\",\"Varicella re-emerges in Lagos\",\"Vericella spreading in Ibadan\",\"Schools in Birmingham Closed Due to Measles Outbreak\",\"Spike of Chlamydia Cases in Berlin\",\"Zika Mosquitoes May Have Bred in Bromeliads, Florida Officials Say\",\"More Livestock in Fontainebleau are infected with Mad Cow Disease\",\"Authorities are Worried about the Spread of Norovirus in Dubai\",\"Case of Hepatitis A Reported in Calgary\",\"Will Swine Flu vaccine help Ljubljana?\",\"Bronchitis re-emerges in Tehran\",\"Mad Cow case in Murcia\",\"Mad Cow Disease Spreads to Margate\",\"Will the Mad Cow Outbreak Reach Vienna?\",\"More Patients in Orange are Getting Diagnosed with Chickenpox\",\"Lower Hospitalization in Richmond after Mumps Vaccine becomes Mandatory\",\"Meningitis re-emerges in Medina\",\"Four cases of Zika in Hidalgo County\",\"Zika arrives in Oaxaca\",\"More people in Durham are infected with Chlamydia every year\",\"Authorities are Worried about the Spread of Gonorrhea in Taoyuan City\",\"Lower Hospitalization in Dhaka after Measles Vaccine becomes Mandatory\",\"Albany Residents Recieve Respiratory Syncytial Virus vaccine\",\"More people in Nadi are infected with HIV every year\",\"Tocumen tests new cure for Hepatitis A\",\"Phnom Penh hit by Zika Threat\",\"Zika Troubles come to Harlingen\",\"Zika spreads to Barranquilla\",\"Mad Cow Disease Hits Rotterdam\",\"West Nile Virus Hits Yogyakarta\",\"More Patients in Dublin are Getting Diagnosed with Bronchitis\",\"Rumors about Tuberculosis Spreading in Baud have been Refuted\",\"Rumors about West Nile Virus Spreading in Salem have been Refuted\",\"St. Catharines Patient in Critical Condition after Contracting Dengue\",\"Outbreak of Zika in Pasig City\",\"Zika Troubles come to Kampong Cham\",\"Zika case reported in Rizal\",\"More people in Saint Petersburg are infected with Varicella every year\",\"Halifax is infested with Swine Flu\",\"Zika arrives in Natal\",\"Herpes Keeps Spreading in Rochester\",\"Zika case reported in Phetchabun\",\"West Nile Virus re-emerges in Wellington\",\"Rumors about Pneumonia spreading in Ottawa have been refuted\",\"More Patients in Stuttgart are Getting Diagnosed with Rabies\",\"Schools in Glasgow Closed Due to Hepatitis B Outbreak\",\"Spanish flu spreading in Madrid\",\"Rabies Hits Madrid\",\"How to Avoid Chlamydia in Santiago\",\"Rotavirus Vaccine is now Required in Las Cumbres\",\"Mad Cow Outbreak Spreading in Ennis\",\"Southampton Patient in Critical Condition after Contracting Tuberculosis\",\"Authorities are Worried about the Spread of Chickenpox in Richmond\",\"Chikungunya re-emerges in Kobe\",\"Hepatitis D has Arrived in Grenoble\",\"West Nile Virus Symptoms Spread all over Yerevan\",\"Zika Outbreak in Sincelejo\",\"Rumors about HIV spreading in Montpellier have been refuted\",\"Praia tests new cure for Pneumonia\",\"Zika spreads to Kuching\",\"Tuberculosis re-emerges in Silver Springs\",\"Rumors about Mad Cow Disease Brighton have been Refuted\",\"Zika case reported in Jacobina\",\"More contaminated cattle reported in Bedford\",\"Spike of Norovirus Cases in Huddersfield\",\"Lower Hospitalization in Papeete after Measles Vaccine becomes Mandatory\",\"Zika arrives in Udon Thani\",\"Spike of Dengue Cases in Stockholm\",\"Duisburg up in Arms over Mad Cow Disease\",\"Laventille authorities confirmed the spread of Rhinovirus\",\"Will Herpes vaccine help Newcastle?\",\"How to Avoid Norovirus in Greenville\",\"More Zika patients reported in Calumpang\",\"Zika symptoms spotted in Quisqueya\",\"Zika symptoms spotted in Fortaleza\",\"Rumors about Bronchitis spreading in Bundaberg have been refuted\",\"Hepatitis A re-emerges in Stamford\",\"Will Mad Cow Vaccine Help Bristol?\",\"The Spread of Meningitis in Imperial has been Confirmed\",\"Zika arrives in Orange City\",\"Pilsen Encounters Severe Symptoms of Malaria\",\"Will Hepatitis B vaccine help La Paz?\",\"Zika Outbreak in Puducherry\",\"Will Rabies vaccine help Tangier?\",\"Zika symptoms spotted in Iquitos\",\"Pedro Juan Caballero Encounters Severe Symptoms of Pneumonia\",\"More Zika patients reported in Melbourne\",\"Zika Troubles come to La Libertad\",\"The Spread of Malaria in Brazzaville has been Confirmed\",\"Huzhou Residents Receive Hepatitis B vaccine\",\"Spike of Rabies Cases in Managua\",\"Outbreak of Zika in Santa Elena\",\"Mad Cow Disease Disastrous to Brussels\",\"Zika spreads to Olinda\",\"Authorities are Worried about the Spread of Hepatitis D in Ganja\",\"Dengue Exposure in Kathmandu\",\"Tuberculosis has Arrived in Fairfield\",\"Outbreak of Zika in Kozhikode\",\"Bronchitis Symptoms Spread all over Santa Fe\",\"More Patients in Alexandria are Getting Diagnosed with Mumps\",\"Hepatitis C re-emerges in Damascus\",\"Lower Hospitalization in Pekanbaru after Rotavirus Vaccine becomes Mandatory\",\"Case of Mad Cow Disease Reported in Hilden\",\"Rumors about Rabies Spreading in Khartoum have been Refuted\",\"Harare is infested with Pneumonia\",\"Zika symptoms spotted in Sibu\",\"Zika arrives in Quezon\",\"Spike of Hepatitis B Cases in Greenville\",\"More Zika patients reported in Nuevo Laredo\",\"Bronchitis Keeps Spreading in San Mateo\",\"Authorities are Worried about the Spread of Hepatitis D in North Bay\",\"The Spread of Herpes in Baku has been Confirmed\",\"Will Measles vaccine help Sochi?\",\"Tuberculosis Symptoms Spread all over Caguas\",\"Contaminated Meat Brings Trouble for Bonn Farmers\",\"Authorities are Worried about the Spread of Syphilis in Pyongyang\",\"Durango is infested with Hepatitis B\",\"Mpika authorities confirmed the spread of Chikungunya\",\"Gladstone Encounters Severe Symptoms of Dengue\",\"Mad Cow Disease Hits London\",\"HIV Symptoms Spread all over Hinthada\",\"Zika symptoms spotted in Quito\",\"Sulu, Zamboanga brace for Zika\",\"Spanish Flu Outbreak in Lisbon\",\"Spanish Flu Spreading through Madrid\",\"Barcelona Struck by Spanish Flu\",\"Spanish Flu Outbreak in Lisbon\",\"Spanish Flu Spreading through Madrid\",\"Barcelona Struck by Spanish Flu \",\"Tuberculosis Hits Luanda\",\"Will West Nile Virus vaccine help Dumai?\",\"The Spread of Malaria in Zanzibar has been Confirmed\",\"Malaria Outbreak Hits Zanzibar's Tourist Industry\",\"Tourist Perishes from Malaria in Arusha\",\"Herpes Symptoms Spread all over New Kingston\",\"More people in Yokohama are infected with Norovirus every year\",\"More people in Kitwe are infected with Respiratory Syncytial Virus every year\",\"Malaria has Arrived in Terrebonne\",\"Chikungunya Keeps Spreading in North Vancouver\",\"Rumors about Hepatitis C spreading in Darien have been refuted\",\"The Spread of West Nile Virus in Fairfield has been Confirmed\",\"Norovirus Keeps Spreading in Copenhagen\",\"Wuhan is infested with Varicella\",\"Spike of Norovirus Cases in Canberra\",\"Zika Troubles come to Greater Noida\",\"Sangre Grande Residents Recieve Gonorrhea vaccine\",\"Outbreak of Zika in Colombo\",\"Will Rotavirus vaccine help Addis Ababa?\",\"Zika Troubles come to Jaen\",\"Hepatitis B Exposure in Edinburgh\",\"Zika case reported in Reynosa\",\"More Zika patients reported in Chennai\",\"Zika arrives in San Onofre\",\"Lung Cancer Rates Increasing in Moscow\",\"More Zika patients reported in Chanthaburi\",\"Zika case reported in Limoeiro\",\"Ibadan tests new cure for Malaria\",\"Pneumonia has not Left Kinshasa\",\"Pneumonia Exposure in San Jose\",\"Authorities are Worried about the Spread of Mad Cow Disease in Edinburgh\",\"More Zika patients reported in Botucatu\",\"Varicella Exposure in Cambridge\",\"Hepatitis A Vaccine is now Required in Fukushima\",\"West Nile Virus has Arrived in Dongguan\",\"Zika arrives in Belmopan\",\"Zika Outbreak in Manaus\",\"Zika spreads to Caucasia\",\"Case of Malaria Reported in Aurora\",\"Manchester Residents Recieve Influenza vaccine\",\"Zika spreads to Kamphaeng Phet\",\"Rotavirus Vaccine is now Required in Labasa\",\"Zika Outbreak in Mexicali\",\"Chlamydia Exposure in Sanaa\",\"More Patients in Kensington are Getting Diagnosed with Varicella\",\"Zika Reported in Ilopango\",\"Hepatitis D Exposure in Aswan\",\"How to Avoid Contaminated Meat when Visiting Basel\",\"More Zika patients reported in Kampong Speu\",\"Mad Cow Disease Detected in Lyon\",\"How to Avoid Chikungunya in Hampton\",\"Case of Norovirus Reported in Stratford\",\"Hepatitis C Outbreak in Bethlehem\",\"Rumors about Swine Flu spreading in Suzhou have been refuted\",\"Case of Swine Flu Reported in Tbilisi\",\"Mad Cow Disease re-emerges in Bedford\",\"Authorities are Worried about the Spread of Hepatitis B in Yiwu\",\"Zika Outbreak in Yurimaguas\",\"Varicella has Arrived in Milton\",\"New medicine wipes out Meningitis in Sevilla\",\"Outbreak of Zika in Portoviejo\",\"Influenza Exposure in Muscat\",\"Rumors about Rabies spreading in Jerusalem have been refuted\",\"More Zika patients reported in Indang\",\"Suva authorities confirmed the spread of Rotavirus\",\"More Zika patients reported in Bella Vista\"],\"lat\":[-8.05389,-14.83333,-31.5375,14.6042,10.69694,53.24488,42.98339,10.82302,52.97633,48.85341,9.89898,13.75398,39.9075,-12.97111,3.1412,16.80528,-31.42797,-19.26639,14.5832,-36.61667,13.68935,-22.72528,-12.04318,43.70011,-27.46794,14.6937,23.13302,49.24966,17.72751,3.03667,14.64072,0.05621,22.54554,10.48801,14.6488,-33.86785,19.07283,18.51957,21.0245,28.65195,17.49952,-22.90556,13.71024,41.89193,37.566,19.42847,51.38764,-6.21462,-33.59473,0.31628,-23.38032,14.0818,-19.92083,-37.814,25.04776,14.62578,14.45896,14.21167,3.10726,-26.20227,-34.61315,23.11667,35.6895,32.2949,17.38405,52.48142,7.08971,41.38879,16.0009,4.142,-8.08965,28.63576,25.18254,25.05823,1.4655,12.24507,-0.24849,22.27832,-4.1279,13.7567,-26.20227,10.66667,11.97444,9.05785,-32.035,-25.29167,43.77925,45.33341,37.98376,-19.86528,19.18095,44.22976,-34.90328,1.28967,4.39928,-36.84853,48.58392,5.15264,-23.96083,47.64218,0.39241,49.8844,43.3601,-24.71361,21.42664,16.91675,10.65245,21.97473,42.41224,40.85216,7.07306,51.75222,42.30008,46.516,13.35,-35.02692,6.33732,53.57532,29.19366,6.45407,7.37756,52.48142,52.52437,3.3223,48.40908,25.07725,51.05011,46.05108,35.69439,37.98704,51.38132,48.20849,-33.28397,-37.81819,21.14972,25.97205,17.06542,54.77676,24.99368,23.7104,-35.02692,-17.80309,9.08939,11.56245,53.17477,10.96854,51.9225,-7.80139,53.33306,20.83773,11.65376,43.17126,14.58691,11.99339,15.7118,59.93863,44.64533,-5.795,51.38764,16.41904,52.7,45.41117,48.78232,55.86515,4.73245,4.73245,-29.19167,9.08916,52.84361,50.90395,-37.81819,34.6913,45.17869,40.18111,9.30472,43.61092,14.93152,1.55,-26.25,-37.90561,-11.18143,52.13459,53.64904,-17.53733,17.41567,59.33258,51.43247,10.64917,-32.92953,5.01133,14.6228,18.55542,-3.71722,-24.86621,52.65,51.45523,-13.05927,-33.28397,49.74747,-30.74179,11.93381,35.76727,-3.74912,-22.54722,-37.814,-2.233,-4.26613,30.8703,12.13282,-30.94432,50.85045,-8.00889,40.68278,27.70169,-33.86667,11.24802,-31.64881,31.20176,33.5102,0.51667,51.16818,15.55177,-17.82772,2.3,15.5512,5.01133,27.47629,16.88206,46.3168,40.37767,43.59917,18.23412,50.73438,39.03385,43.17124,-11.83431,-23.84852,42.98339,17.64944,-0.22985,6.91028,38.71667,4.73245,41.38879,38.71667,4.73245,41.38879,-8.83682,1.66711,-6.16394,-6.16394,-3.36667,18.00747,35.43333,-12.80243,45.70004,49.31636,3.93135,-33.86667,55.67594,30.58333,-35.28346,28.49615,10.58705,-25.29167,9.02497,15.3275,55.95206,26.08061,13.08784,9.73586,55.75222,12.60961,-7.87472,7.37756,-4.32758,13.35,55.95206,-22.88583,43.3601,37.75,23.01797,17.25,-3.10194,7.98654,44.00011,53.48095,16.48344,-16.4332,32.62781,15.35472,-33.92019,13.70167,24.09082,47.55839,11.45332,45.74846,51.41334,43.36679,31.70487,33.63611,41.69411,52.13459,29.31506,-5.90181,43.51681,4.26425,-1.05458,23.58413,31.76904,14.19528,-18.14161,-27.03424],\"legendgroup\":\"\",\"lon\":[-34.88111,-64.9,-68.53639,120.9822,122.56444,-3.13231,-81.23304,106.62965,-0.02664,2.3488,-84.00287,100.50144,116.39723,-38.51083,101.68653,96.15611,-62.08266,146.80569,121.0409,-64.28333,-89.18718,-47.64917,-77.02824,-79.4163,153.02809,-17.44406,-82.38304,-123.11934,-64.74698,101.44333,-90.51327,32.47949,114.0683,-66.87919,121.0509,151.20732,72.88261,73.85535,105.84117,77.23149,-88.19756,-47.06083,-89.13989,12.51133,126.9784,-99.12766,0.50546,106.84513,-71.60746,32.58219,150.50595,-87.20681,-43.93778,144.96332,121.53185,121.12251,120.93851,121.16528,101.60671,28.04363,-58.37723,113.25,139.69171,-64.78303,78.45636,-1.89983,171.38027,2.15899,120.4023,-73.62664,-78.9602,77.22445,75.83907,-77.34306,103.7578,109.19432,35.73194,114.17469,120.0297,121.0584,28.04363,122.95,-86.09417,7.49508,-52.09861,-49.22417,11.24626,-79.21632,23.72784,-47.44,-96.1429,-76.48098,-56.18816,103.85007,113.99163,174.76349,7.74553,-75.03624,-46.33361,6.85385,9.45356,-97.14704,-80.31269,-53.74306,39.82563,-89.91898,-61.38878,96.08359,-82.18494,14.26811,125.61278,-1.25596,-83.01654,6.63282,123.55,117.88369,-75.55795,10.01534,-108.14684,3.39467,3.90591,-1.89983,13.41053,-76.2348,2.70177,55.30927,-114.08529,14.50513,51.42151,-1.13004,1.38617,16.37208,149.10018,145.00176,-101.6225,-100.45029,-96.72365,-1.57566,121.29696,90.40744,117.88369,177.41617,-79.3831,104.91601,5.42244,-74.78132,4.47917,110.36472,-6.24889,84.32618,78.15538,-79.24267,121.0614,105.4635,121.1061,30.31413,-63.57239,-35.20944,0.50546,101.16056,-2.51667,-75.69812,9.17702,-4.25763,-74.26419,-74.26419,-54.86722,-79.52809,-8.98639,-1.40428,145.00176,135.183,5.71479,44.51361,-75.39778,3.87723,-23.51254,110.33333,28.4,145.00279,-40.51372,-0.46632,-1.78416,-149.5665,102.78589,18.0649,6.76516,-61.49889,151.7801,-9.0388,121.0897,-69.40814,-38.54306,152.3479,-0.48333,-2.59665,-76.35269,149.10018,13.37759,-59.64517,79.82979,-5.79975,-73.25383,-55.73333,144.96332,-80.91039,15.28318,120.0933,-86.2504,-59.78832,4.34878,-34.85528,46.36056,85.3206,150.95,75.7804,-60.70868,29.91582,36.29128,101.44167,6.93093,32.53241,31.05337,111.81667,120.8147,-9.0388,-99.51639,121.58694,-79.46633,49.89201,39.72569,-66.0485,7.09549,125.75432,-2.6338,31.45287,151.25775,-81.23304,95.45705,-78.52495,122.07389,-9.13333,-74.26419,2.15899,-9.13333,-74.26419,2.15899,13.23432,101.44316,39.19793,39.19793,36.68333,-76.78319,139.65,28.21323,-73.64732,-123.06934,-76.48481,150.95,12.56553,114.26667,149.12807,77.53601,-61.13008,-49.22417,38.74689,120.9192,-3.19648,-98.28835,80.27847,-75.52626,37.61556,102.10447,-35.45028,3.90591,15.31357,123.55,-3.19648,-48.445,-80.31269,140.46667,113.74866,-88.76667,-60.025,-75.19349,-79.46632,-2.23743,99.52153,179.36451,-115.45446,44.20667,151.22241,-89.10944,32.89942,7.57327,104.52085,4.84671,-0.36701,-80.94972,35.20376,116.97889,44.83368,-0.46632,120.07676,-76.12234,-79.88294,-75.93085,-80.45445,58.40778,35.21633,120.87694,178.44149,-65.30196],\"marker\":{\"color\":[0,0,0,1,1,2,0,1,2,2,0,1,1,0,1,1,0,1,1,0,0,0,0,0,1,2,0,0,0,1,0,2,1,0,1,1,1,1,1,1,0,0,0,2,1,0,2,1,0,2,1,0,0,1,1,1,1,1,1,2,0,1,1,0,1,2,1,2,1,0,0,1,1,0,1,1,2,1,1,1,2,1,0,2,0,0,2,0,2,0,0,0,0,1,1,1,2,0,0,2,2,0,0,0,2,0,0,1,0,2,1,2,0,2,1,1,0,2,0,2,2,2,2,0,2,2,0,2,2,2,2,2,1,1,0,0,0,2,1,1,1,1,0,1,2,0,2,1,2,1,1,0,1,1,1,2,0,0,2,1,2,0,2,2,0,0,0,0,2,2,1,1,2,2,0,2,2,1,2,1,0,2,2,0,1,2,2,0,1,2,1,0,0,1,2,2,0,1,2,0,1,2,0,0,1,0,2,1,0,0,2,0,2,1,1,1,0,2,2,1,2,2,2,1,1,2,0,1,0,2,2,0,2,1,2,2,1,0,1,0,1,2,0,2,2,0,2,2,1,2,2,2,0,1,2,0,0,0,1,2,1,1,1,0,0,2,1,2,0,1,0,2,1,0,2,2,1,2,0,0,1,1,0,0,0,0,2,1,1,0,2,1,0,2,2,1,2,2,0,2,1,2,2,1,0,0,0,0,2,2,1,1,0],\"coloraxis\":\"coloraxis\",\"symbol\":\"circle\"},\"mode\":\"markers\",\"name\":\"\",\"showlegend\":false,\"type\":\"scattergeo\"}],                        {\"template\":{\"data\":{\"histogram2dcontour\":[{\"type\":\"histogram2dcontour\",\"colorbar\":{\"outlinewidth\":0,\"ticks\":\"\"},\"colorscale\":[[0.0,\"#0d0887\"],[0.1111111111111111,\"#46039f\"],[0.2222222222222222,\"#7201a8\"],[0.3333333333333333,\"#9c179e\"],[0.4444444444444444,\"#bd3786\"],[0.5555555555555556,\"#d8576b\"],[0.6666666666666666,\"#ed7953\"],[0.7777777777777778,\"#fb9f3a\"],[0.8888888888888888,\"#fdca26\"],[1.0,\"#f0f921\"]]}],\"choropleth\":[{\"type\":\"choropleth\",\"colorbar\":{\"outlinewidth\":0,\"ticks\":\"\"}}],\"histogram2d\":[{\"type\":\"histogram2d\",\"colorbar\":{\"outlinewidth\":0,\"ticks\":\"\"},\"colorscale\":[[0.0,\"#0d0887\"],[0.1111111111111111,\"#46039f\"],[0.2222222222222222,\"#7201a8\"],[0.3333333333333333,\"#9c179e\"],[0.4444444444444444,\"#bd3786\"],[0.5555555555555556,\"#d8576b\"],[0.6666666666666666,\"#ed7953\"],[0.7777777777777778,\"#fb9f3a\"],[0.8888888888888888,\"#fdca26\"],[1.0,\"#f0f921\"]]}],\"heatmap\":[{\"type\":\"heatmap\",\"colorbar\":{\"outlinewidth\":0,\"ticks\":\"\"},\"colorscale\":[[0.0,\"#0d0887\"],[0.1111111111111111,\"#46039f\"],[0.2222222222222222,\"#7201a8\"],[0.3333333333333333,\"#9c179e\"],[0.4444444444444444,\"#bd3786\"],[0.5555555555555556,\"#d8576b\"],[0.6666666666666666,\"#ed7953\"],[0.7777777777777778,\"#fb9f3a\"],[0.8888888888888888,\"#fdca26\"],[1.0,\"#f0f921\"]]}],\"heatmapgl\":[{\"type\":\"heatmapgl\",\"colorbar\":{\"outlinewidth\":0,\"ticks\":\"\"},\"colorscale\":[[0.0,\"#0d0887\"],[0.1111111111111111,\"#46039f\"],[0.2222222222222222,\"#7201a8\"],[0.3333333333333333,\"#9c179e\"],[0.4444444444444444,\"#bd3786\"],[0.5555555555555556,\"#d8576b\"],[0.6666666666666666,\"#ed7953\"],[0.7777777777777778,\"#fb9f3a\"],[0.8888888888888888,\"#fdca26\"],[1.0,\"#f0f921\"]]}],\"contourcarpet\":[{\"type\":\"contourcarpet\",\"colorbar\":{\"outlinewidth\":0,\"ticks\":\"\"}}],\"contour\":[{\"type\":\"contour\",\"colorbar\":{\"outlinewidth\":0,\"ticks\":\"\"},\"colorscale\":[[0.0,\"#0d0887\"],[0.1111111111111111,\"#46039f\"],[0.2222222222222222,\"#7201a8\"],[0.3333333333333333,\"#9c179e\"],[0.4444444444444444,\"#bd3786\"],[0.5555555555555556,\"#d8576b\"],[0.6666666666666666,\"#ed7953\"],[0.7777777777777778,\"#fb9f3a\"],[0.8888888888888888,\"#fdca26\"],[1.0,\"#f0f921\"]]}],\"surface\":[{\"type\":\"surface\",\"colorbar\":{\"outlinewidth\":0,\"ticks\":\"\"},\"colorscale\":[[0.0,\"#0d0887\"],[0.1111111111111111,\"#46039f\"],[0.2222222222222222,\"#7201a8\"],[0.3333333333333333,\"#9c179e\"],[0.4444444444444444,\"#bd3786\"],[0.5555555555555556,\"#d8576b\"],[0.6666666666666666,\"#ed7953\"],[0.7777777777777778,\"#fb9f3a\"],[0.8888888888888888,\"#fdca26\"],[1.0,\"#f0f921\"]]}],\"mesh3d\":[{\"type\":\"mesh3d\",\"colorbar\":{\"outlinewidth\":0,\"ticks\":\"\"}}],\"scatter\":[{\"fillpattern\":{\"fillmode\":\"overlay\",\"size\":10,\"solidity\":0.2},\"type\":\"scatter\"}],\"parcoords\":[{\"type\":\"parcoords\",\"line\":{\"colorbar\":{\"outlinewidth\":0,\"ticks\":\"\"}}}],\"scatterpolargl\":[{\"type\":\"scatterpolargl\",\"marker\":{\"colorbar\":{\"outlinewidth\":0,\"ticks\":\"\"}}}],\"bar\":[{\"error_x\":{\"color\":\"#2a3f5f\"},\"error_y\":{\"color\":\"#2a3f5f\"},\"marker\":{\"line\":{\"color\":\"#E5ECF6\",\"width\":0.5},\"pattern\":{\"fillmode\":\"overlay\",\"size\":10,\"solidity\":0.2}},\"type\":\"bar\"}],\"scattergeo\":[{\"type\":\"scattergeo\",\"marker\":{\"colorbar\":{\"outlinewidth\":0,\"ticks\":\"\"}}}],\"scatterpolar\":[{\"type\":\"scatterpolar\",\"marker\":{\"colorbar\":{\"outlinewidth\":0,\"ticks\":\"\"}}}],\"histogram\":[{\"marker\":{\"pattern\":{\"fillmode\":\"overlay\",\"size\":10,\"solidity\":0.2}},\"type\":\"histogram\"}],\"scattergl\":[{\"type\":\"scattergl\",\"marker\":{\"colorbar\":{\"outlinewidth\":0,\"ticks\":\"\"}}}],\"scatter3d\":[{\"type\":\"scatter3d\",\"line\":{\"colorbar\":{\"outlinewidth\":0,\"ticks\":\"\"}},\"marker\":{\"colorbar\":{\"outlinewidth\":0,\"ticks\":\"\"}}}],\"scattermapbox\":[{\"type\":\"scattermapbox\",\"marker\":{\"colorbar\":{\"outlinewidth\":0,\"ticks\":\"\"}}}],\"scatterternary\":[{\"type\":\"scatterternary\",\"marker\":{\"colorbar\":{\"outlinewidth\":0,\"ticks\":\"\"}}}],\"scattercarpet\":[{\"type\":\"scattercarpet\",\"marker\":{\"colorbar\":{\"outlinewidth\":0,\"ticks\":\"\"}}}],\"carpet\":[{\"aaxis\":{\"endlinecolor\":\"#2a3f5f\",\"gridcolor\":\"white\",\"linecolor\":\"white\",\"minorgridcolor\":\"white\",\"startlinecolor\":\"#2a3f5f\"},\"baxis\":{\"endlinecolor\":\"#2a3f5f\",\"gridcolor\":\"white\",\"linecolor\":\"white\",\"minorgridcolor\":\"white\",\"startlinecolor\":\"#2a3f5f\"},\"type\":\"carpet\"}],\"table\":[{\"cells\":{\"fill\":{\"color\":\"#EBF0F8\"},\"line\":{\"color\":\"white\"}},\"header\":{\"fill\":{\"color\":\"#C8D4E3\"},\"line\":{\"color\":\"white\"}},\"type\":\"table\"}],\"barpolar\":[{\"marker\":{\"line\":{\"color\":\"#E5ECF6\",\"width\":0.5},\"pattern\":{\"fillmode\":\"overlay\",\"size\":10,\"solidity\":0.2}},\"type\":\"barpolar\"}],\"pie\":[{\"automargin\":true,\"type\":\"pie\"}]},\"layout\":{\"autotypenumbers\":\"strict\",\"colorway\":[\"#636efa\",\"#EF553B\",\"#00cc96\",\"#ab63fa\",\"#FFA15A\",\"#19d3f3\",\"#FF6692\",\"#B6E880\",\"#FF97FF\",\"#FECB52\"],\"font\":{\"color\":\"#2a3f5f\"},\"hovermode\":\"closest\",\"hoverlabel\":{\"align\":\"left\"},\"paper_bgcolor\":\"white\",\"plot_bgcolor\":\"#E5ECF6\",\"polar\":{\"bgcolor\":\"#E5ECF6\",\"angularaxis\":{\"gridcolor\":\"white\",\"linecolor\":\"white\",\"ticks\":\"\"},\"radialaxis\":{\"gridcolor\":\"white\",\"linecolor\":\"white\",\"ticks\":\"\"}},\"ternary\":{\"bgcolor\":\"#E5ECF6\",\"aaxis\":{\"gridcolor\":\"white\",\"linecolor\":\"white\",\"ticks\":\"\"},\"baxis\":{\"gridcolor\":\"white\",\"linecolor\":\"white\",\"ticks\":\"\"},\"caxis\":{\"gridcolor\":\"white\",\"linecolor\":\"white\",\"ticks\":\"\"}},\"coloraxis\":{\"colorbar\":{\"outlinewidth\":0,\"ticks\":\"\"}},\"colorscale\":{\"sequential\":[[0.0,\"#0d0887\"],[0.1111111111111111,\"#46039f\"],[0.2222222222222222,\"#7201a8\"],[0.3333333333333333,\"#9c179e\"],[0.4444444444444444,\"#bd3786\"],[0.5555555555555556,\"#d8576b\"],[0.6666666666666666,\"#ed7953\"],[0.7777777777777778,\"#fb9f3a\"],[0.8888888888888888,\"#fdca26\"],[1.0,\"#f0f921\"]],\"sequentialminus\":[[0.0,\"#0d0887\"],[0.1111111111111111,\"#46039f\"],[0.2222222222222222,\"#7201a8\"],[0.3333333333333333,\"#9c179e\"],[0.4444444444444444,\"#bd3786\"],[0.5555555555555556,\"#d8576b\"],[0.6666666666666666,\"#ed7953\"],[0.7777777777777778,\"#fb9f3a\"],[0.8888888888888888,\"#fdca26\"],[1.0,\"#f0f921\"]],\"diverging\":[[0,\"#8e0152\"],[0.1,\"#c51b7d\"],[0.2,\"#de77ae\"],[0.3,\"#f1b6da\"],[0.4,\"#fde0ef\"],[0.5,\"#f7f7f7\"],[0.6,\"#e6f5d0\"],[0.7,\"#b8e186\"],[0.8,\"#7fbc41\"],[0.9,\"#4d9221\"],[1,\"#276419\"]]},\"xaxis\":{\"gridcolor\":\"white\",\"linecolor\":\"white\",\"ticks\":\"\",\"title\":{\"standoff\":15},\"zerolinecolor\":\"white\",\"automargin\":true,\"zerolinewidth\":2},\"yaxis\":{\"gridcolor\":\"white\",\"linecolor\":\"white\",\"ticks\":\"\",\"title\":{\"standoff\":15},\"zerolinecolor\":\"white\",\"automargin\":true,\"zerolinewidth\":2},\"scene\":{\"xaxis\":{\"backgroundcolor\":\"#E5ECF6\",\"gridcolor\":\"white\",\"linecolor\":\"white\",\"showbackground\":true,\"ticks\":\"\",\"zerolinecolor\":\"white\",\"gridwidth\":2},\"yaxis\":{\"backgroundcolor\":\"#E5ECF6\",\"gridcolor\":\"white\",\"linecolor\":\"white\",\"showbackground\":true,\"ticks\":\"\",\"zerolinecolor\":\"white\",\"gridwidth\":2},\"zaxis\":{\"backgroundcolor\":\"#E5ECF6\",\"gridcolor\":\"white\",\"linecolor\":\"white\",\"showbackground\":true,\"ticks\":\"\",\"zerolinecolor\":\"white\",\"gridwidth\":2}},\"shapedefaults\":{\"line\":{\"color\":\"#2a3f5f\"}},\"annotationdefaults\":{\"arrowcolor\":\"#2a3f5f\",\"arrowhead\":0,\"arrowwidth\":1},\"geo\":{\"bgcolor\":\"white\",\"landcolor\":\"#E5ECF6\",\"subunitcolor\":\"white\",\"showland\":true,\"showlakes\":true,\"lakecolor\":\"white\"},\"title\":{\"x\":0.05},\"mapbox\":{\"style\":\"light\"}}},\"geo\":{\"domain\":{\"x\":[0.0,1.0],\"y\":[0.0,1.0]},\"center\":{},\"projection\":{\"type\":\"orthographic\"},\"showcountries\":true},\"legend\":{\"tracegroupgap\":0},\"title\":{\"text\":\"KMeans World without US\"}},                        {\"responsive\": true}                    ).then(function(){\n",
       "                            \n",
       "var gd = document.getElementById('b3b72e72-e501-494a-a865-c841d7ac8f2a');\n",
       "var x = new MutationObserver(function (mutations, observer) {{\n",
       "        var display = window.getComputedStyle(gd).display;\n",
       "        if (!display || display === 'none') {{\n",
       "            console.log([gd, 'removed!']);\n",
       "            Plotly.purge(gd);\n",
       "            observer.disconnect();\n",
       "        }}\n",
       "}});\n",
       "\n",
       "// Listen for the removal of the full notebook cells\n",
       "var notebookContainer = gd.closest('#notebook-container');\n",
       "if (notebookContainer) {{\n",
       "    x.observe(notebookContainer, {childList: true});\n",
       "}}\n",
       "\n",
       "// Listen for the clearing of the current output cell\n",
       "var outputEl = gd.closest('.output');\n",
       "if (outputEl) {{\n",
       "    x.observe(outputEl, {childList: true});\n",
       "}}\n",
       "\n",
       "                        })                };                });            </script>        </div>"
      ]
     },
     "metadata": {},
     "output_type": "display_data"
    },
    {
     "data": {
      "image/png": "[encoded data removed]",
      "text/plain": [
       "<Figure size 640x480 with 1 Axes>"
      ]
     },
     "metadata": {},
     "output_type": "display_data"
    }
   ],
   "source": [
    "cluster_df_world, world_df, world_centers = kmns(world_df,3)\n",
    "\n",
    "plotdf(world_df, world_centers, \"KMeans World without US\", \"orthographic\", True)\n"
   ]
  },
  {
   "cell_type": "markdown",
   "id": "b888bf91",
   "metadata": {},
   "source": [
    "# Find major diseases and plot them\n",
    "(The frequency of diseases was counted with an online word counter)"
   ]
  },
  {
   "cell_type": "code",
   "execution_count": 90,
   "id": "5674c15a",
   "metadata": {},
   "outputs": [
    {
     "name": "stdout",
     "output_type": "stream",
     "text": [
      "\n",
      " \n",
      "For cluster  1\n",
      "Will Norovirus vaccine help Raleigh?\n",
      "Zika cases concern Charlotte residents\n",
      "Meningitis re-emerges in Summerville\n",
      "Influenza Keeps Spreading in Suffolk\n",
      "Norfolk tests new cure for Herpes\n",
      "Chickenpox Hits Simpsonville\n",
      "Authorities are Worried about the Spread of Influenza in Savannah\n",
      "Manassas Encounters Severe Symptoms of Measles\n",
      "New medicine wipes out Mumps in Saint Charles\n",
      "How to Avoid Hepatitis B in Waldorf\n",
      "HIV has Arrived in Fairfax\n",
      "Syphilis Hits Jefferson\n",
      "Mumps Symptoms Spread all over Jefferson\n",
      "New Vaccine on Trial in Bethesda District\n",
      "Authorities are Worried about the Spread of Bronchitis in Silver Spring\n",
      "Hepatitis D Symptoms Spread all over North Bethesda\n",
      "Will Tuberculosis vaccine help Rockville?\n",
      "Case of Chikungunya Reported in Gaithersburg\n",
      "Germantown authorities confirmed the spread of Chickenpox\n",
      "Will Swine Flu vaccine help Annapolis?\n",
      "Dengue Outbreak in Easton\n",
      "Baltimore plans for Zika virus\n",
      "Rumors about Hepatitis E Spreading in Morristown have been Refuted\n",
      "Spike of Rhinovirus Cases in Sevierville\n",
      "Schools in Huntington Closed Due to Rotavirus Outbreak\n",
      "Lawrenceville is infested with Dengue\n",
      "Tuberculosis Outbreak in Newark\n",
      "Syphilis Outbreak in Harrisburg\n",
      "Pittsburgh Residents Recieve Norovirus vaccine\n",
      "Duluth Patient in Critical Condition after Contracting Rotavirus\n",
      "Schools in Bridgeton Closed Due to Mumps Outbreak\n",
      "West Nile Virus Exposure in Alpharetta\n",
      "Vineland authorities confirmed the spread of Chlamydia\n",
      "The CDC in Atlanta is Growing Worried\n",
      "More Patients in Canton are Getting Diagnosed with Norovirus\n",
      "Philadelphia experts track pandemic\n",
      "Zika virus reported in Cleveland\n",
      "Zika battle outlined at Valdosta meeting\n",
      "The Spread of Rhinovirus in Boardman has been Confirmed\n",
      "Zika spreads to Daytona Beach\n",
      "More people in Allentown are infected with Chlamydia every year\n",
      "Gainesville Deals with Disease Concerns\n",
      "More Zika patients reported in Carrollton\n",
      "Schools in Danville Closed Due to Tuberculosis Outbreak\n",
      "Kent is infested with Rabies\n",
      "Authorities are Worried about the Spread of Hepatitis D in Akron\n",
      "Toms River Encounters Severe Symptoms of Respiratory Syncytial Virus\n",
      "Lower Hospitalization in Lakewood after Hepatitis B Vaccine becomes Mandatory\n",
      "First Columbus Zika case\n",
      "Zika spreads to Winter Park\n",
      "Scranton authorities confirmed the spread of Gonorrhea\n",
      "Outbreak of Zika in Leesburg\n",
      "Orlando volunteers aid Zika research\n",
      "First Zika Case in Cincinnati\n",
      "More people in Cranford are infected with Hepatitis A every year\n",
      "Hepatitis A has not Left Staten Island\n",
      "Malaria Vaccine is now Required in Elyria\n",
      "Authorities are Worried about the Spread of Rotavirus in Union\n",
      "Case of West Nile Virus Reported in Riverside\n",
      "Erie County sets Zika traps\n",
      "Case of Mumps Reported in Dayton\n",
      "Gonorrhea has Arrived in Avon Lake\n",
      "Tallahassee Doctors Discuss Zika Virus\n",
      "Zika case confirmed in Lorain\n",
      "Zika spreads to Kissimmee\n",
      "Measles has not Left Brooklyn\n",
      "Could Zika Reach New York City?\n",
      "Mumps Hits Howard Beach\n",
      "Authorities are Worried about the Spread of Mumps in Corona\n",
      "New Milford Patient in Critical Condition after Contracting Respiratory Syncytial Virus\n",
      "Spike of Pneumonia Cases in The Bronx\n",
      "Can Zika make it here to Vero Beach?\n",
      "Ithaca is infested with Dengue\n",
      "More Zika patients reported in Lakeland\n",
      "Zika reported in Fort Pierce\n",
      "Zika spreads to Plant City\n",
      "Stony Brook University experts discuss Zika virus\n",
      "West Nile Virus Keeps Spreading in Hauppauge\n",
      "New medicine wipes out Rabies in Newburgh\n",
      "Ronkonkoma is infested with Chickenpox\n",
      "Gonorrhea Exposure in Norwalk\n",
      "Norwalk Encounters Severe Symptoms of Malaria\n",
      "Tampa Bay Area Zika Case Count Climbs\n",
      "Hepatitis C Outbreak in Danbury\n",
      "Zika case reported in Jupiter\n",
      "Zika Patient in Seminole, Florida\n",
      "Zika Strikes St. Petersburg\n",
      "Will Measles vaccine help Milford?\n",
      "How to Avoid Hepatitis B in Trenton\n",
      "Rumors about Dengue Spreading in Syracuse have been Refuted\n",
      "Zika Spreads to Palm Beach Gardens\n",
      "Varicella Keeps Spreading in Detroit\n",
      "Zika arrives in West Palm Beach\n",
      "Bradenton Experiences Zika Troubles  \n",
      "Lower Hospitalization in Palm Springs after Hepatitis A Vaccine becomes Mandatory\n",
      "Outbreak of Zika in Palm Springs\n",
      "New Zika Case Confirmed in Sarasota County\n",
      "Zika symptoms spotted in Boynton Beach\n",
      "Zika Troubles come to Delray Beach\n",
      "Spike of Herpes Cases in Meriden\n",
      "Zika arrives in Boca Raton\n",
      "Tuberculosis Outbreak in Hartford\n",
      "Zika in Tamarac!\n",
      "More Zika patients reported in Fort Myers\n",
      "Malaria Vaccine is now Required in Schenectady\n",
      "Hollywood Outbreak Film Premieres\n",
      "Zika symptoms spotted in Hollywood\n",
      "Hallandale Beach a Victim of Zika Outbreak\n",
      "Zika Reported in North Miami Beach\n",
      "Zika symptoms spotted in Bonita Springs\n",
      "Zika Arrives in North Miami\n",
      "Rhinovirus re-emerges in Storrs\n",
      "Zika Outbreak in Pinewood\n",
      "Brownsville teen contracts Zika virus\n",
      "First Case of Zika in Miami Beach\n",
      "Doral hit by Deadly Virus\n",
      "Zika Outbreak Hits Miami\n",
      "Authorities a Miami\n",
      "Miami resident suggests Zika precautions\n",
      "Zika Outbreak in South Miami\n",
      "Zika virus confirmed in Westchester\n",
      "Zika case reported in Coral Gables\n",
      "Princeton Encounters Severe Symptoms of Dengue\n",
      "Providence Encounters Severe Symptoms of Dengue\n",
      "Rumors about Mumps Spreading in New Bedford have been Refuted\n",
      "Framingham Residents Receive Measles vaccine\n",
      "Zika in Belmont, Belmont worry\n",
      "Zika virus case reported in Rockland\n",
      "Malaria re-emerges in Nashua\n",
      "How to Avoid Rhinovirus in Medford\n",
      "Hepatitis D Keeps Spreading in Danvers\n",
      "Zika symtomps spotted in Key West\n",
      "\n",
      " \n",
      "For cluster  2\n",
      "Schools in Bentonville Closed Due to Hepatitis B Outbreak\n",
      "Case of Measles Reported in Springdale\n",
      "Mumps Outbreak in Joplin\n",
      "Fayetteville authorities confirmed the spread of HIV\n",
      "Jacksonville man hit by Zika\n",
      "Benton Residents Recieve Pneumonia vaccine\n",
      "Hepatitis B Comes to Kansas City\n",
      "Respiratory Syncytial Virus Vaccine is now Required in Tulsa\n",
      "Spike of Chlamydia Cases in Farmington\n",
      "Case of Varicella Reported in Concord\n",
      "Chlamydia Symptoms Spread all over University City\n",
      "Mosquito control efforts in St. Louis take new tactics with Zika threat\n",
      "Memphis Encounters Severe Symptoms of Swine Flu\n",
      "Chickenpox Comes to Stillwater\n",
      "Manhattan Residents Recieve HIV vaccine\n",
      "How to Avoid Gonorrhea in Shreveport\n",
      "New medicine wipes out Herpes in Bossier City\n",
      "Spike of Pneumonia Cases in Springfield\n",
      "West Nile Virus Hits Monroe\n",
      "The Spread of Respiratory Syncytial Virus in Monroe has been Confirmed\n",
      "Lower Hospitalization in Monroe after Hepatitis D Vaccine becomes Mandatory\n",
      "Spike of Syphilis Cases in West Monroe\n",
      "Zika-carrying mosquitoes discovered in Ardmore\n",
      "Iowa City Encounters Severe Symptoms of Rhinovirus\n",
      "Spike of Rotavirus Cases in Omaha\n",
      "Frisco Woman Tests Positive For Zika Virus\n",
      "Tupelo Residents Recieve Syphilis vaccine\n",
      "Davenport is infested with Dengue\n",
      "Will Gonorrhea vaccine help East Moline?\n",
      "Zika spreads to Lewisville\n",
      "Herpes Vaccine is now Required in Mattoon\n",
      "Dallas man comes down with case of Zika\n",
      "Herpes Symptoms Spread all over Fremont\n",
      "Rotavirus Vaccine is now Required in Starkville\n",
      "Respiratory Syncytial Virus Hits Henderson\n",
      "Zika symptoms spotted in Arlington\n",
      "Hepatitis D Symptoms Spread all over Evansville\n",
      "New medicine wipes out Dengue in Saginaw\n",
      "More Zika patients reported in Fort Worth\n",
      "Urbana Encounters Severe Symptoms of Meningitis\n",
      "Zika Outbreak in Wichita Falls\n",
      "Nashville takes precautions against Zika\n",
      "Rabies Outbreak in Altus\n",
      "More Zika patients reported in Waco\n",
      "New details in Baton Rouge cop killings\n",
      "Is Lafayette prepared to combat Zika?\n",
      "Madison lab developing vaccine against Zika virus [The Wisconsin State Journal]\n",
      "Rumors about Rotavirus Spreading in Joliet have been Refuted\n",
      "Outbreak of Zika in Stephenville\n",
      "Hepatitis E Hits Hammond\n",
      "Pneumonia Symptoms Spread all over Bloomington\n",
      "More Patients in Crawfordsville are Getting Diagnosed with Rabies\n",
      "Lower Hospitalization in Janesville after Varicella Vaccine becomes Mandatory\n",
      "Zika investigators coming to Mankato\n",
      "Malaria Vaccine is now Required in Winona\n",
      "The Spread of Hepatitis E in Lansing has been Confirmed\n",
      "How to Avoid Rhinovirus in Plainfield\n",
      "Bridgeport authorities confirmed the spread of West Nile Virus\n",
      "Fort Hood Reports its First Zika Patient\n",
      "Chicago's First Zika Case Confirmed\n",
      "Deerfield tests new cure for Measles\n",
      "Northfield Encounters Severe Symptoms of Herpes\n",
      "Zika Concerns are Spreading in Houston\n",
      "West Nile Virus Outbreak in Louisville\n",
      "More people in Indianapolis are infected with Norovirus every year\n",
      "Zika only the latest mosquito-borne threat to New Orleans\n",
      "Flu outbreak in Galveston, Texas\n",
      "Biloxi Residents Recieve Chlamydia vaccine\n",
      "West Nile Virus Exposure in Racine\n",
      "Zika case reported in Abilene\n",
      "Milwaukee authorities confirmed the spread of Rhinovirus\n",
      "More Zika patients reported in Austin\n",
      "Mobile authorities confirmed the spread of Bronchitis\n",
      "Wisconsin Rapids Patient in Critical Condition after Contracting Chickenpox\n",
      "How to Avoid Hepatitis E in South Bend\n",
      "Rumors about Rotavirus spreading in North Platte have been refuted\n",
      "More Zika patients reported in Pensacola\n",
      "Zika Virus Detected in Lubbock\n",
      "Outbreak of Zika in Corpus Christi\n",
      "The Spread of Hepatitis E in Fargo has been Confirmed\n",
      "Marquette tests new cure for Hepatitis A\n",
      "Zika Outbreak in Weslaco\n",
      "Chikungunya Hits Denver\n",
      "Arvada is infested with Syphilis\n",
      "Spike of Hepatitis C Cases in Golden\n",
      "Fort Collins Encounters Severe Symptoms of Gonorrhea\n",
      "Hepatitis D Keeps Spreading in Bismarck\n",
      "HIV Keeps Spreading in Boulder\n",
      "Varicella Outbreak in Minot\n",
      "\n",
      " \n",
      "For cluster  3\n",
      "Schools in Tulare Closed Due to Mumps Outbreak\n",
      "Authorities are Worried about the Spread of Varicella in Clovis\n",
      "Rhinovirus Hits Bakersfield\n",
      "Barstow Patient in Critical Condition after Contracting Herpes\n",
      "The Spread of Chikungunya in Arcadia has been Confirmed\n",
      "Pneumonia Exposure in Alhambra\n",
      "New Los Angeles Hairstyle goes Viral\n",
      "Zika Virus Arrives in Ontario\n",
      "New medicine wipes out West Nile Virus in Ventura\n",
      "How to Avoid Tuberculosis in Santa Monica\n",
      "How to Avoid Respiratory Syncytial Virus in San Bernardino\n",
      "New medicine wipes out Influenza in Redlands\n",
      "Norovirus Vaccine is now Required in Anaheim\n",
      "Will HIV vaccine help Las Vegas?\n",
      "Zika Virus Sparks 'International Concern'\n",
      "The Spread of Gonorrhea in Reno has been Confirmed\n",
      "Authorities are Worried about the Spread of Chickenpox in Hemet\n",
      "Rumors about Hepatitis D Spreading in San Juan Capistrano have been Refuted\n",
      "Rumors about Varicella spreading in Carlsbad have been refuted\n",
      "Escondido neighborhood to get sprayed for Zika virus\n",
      "How to Avoid Pneumonia in Bullhead City\n",
      "Bronchitis Keeps Spreading in Hayward\n",
      "More people in Palo Alto are infected with HIV every year\n",
      "Swine Flu re-emerges in La Jolla\n",
      "Hepatitis A re-emerges in Foster City\n",
      "Alameda Residents Recieve Rabies vaccine\n",
      "How to Avoid Rhinovirus in Lemon Grove\n",
      "Will West Nile Virus vaccine help Coronado?\n",
      "More people in Berkeley are infected with Swine Flu every year\n",
      "Chickenpox has Arrived in Chula Vista\n",
      "Zika seminars in Yuma County\n",
      "Phoenix Residents Recieve Syphilis vaccine\n",
      "Malaria re-emerges in Boise\n",
      "Pneumonia Outbreak in Springville\n",
      "Salt Lake City tests new cure for Respiratory Syncytial Virus\n",
      "Ogden is infested with Gonorrhea\n",
      "Rumors about Chlamydia spreading in Redmond have been refuted\n",
      "New medicine wipes out Chikungunya in Tucson\n",
      "Richland Center is infested with Hepatitis B\n",
      "The Spread of Dengue in Yakima has been Confirmed\n",
      "The Spread of Measles in Spokane has been Confirmed\n",
      "BREAKING aEUR\" Zika in Missoula\n",
      "HIV has Arrived in Tacoma\n",
      "Seattle scientists get $500,000 grant to pursue Zika vaccine New 7:50 pm\n",
      "Spike of Tuberculosis Cases in Albuquerque\n",
      "El Paso fighting Zika\n",
      "Measles Vaccine is now Required in Wailuku\n"
     ]
    }
   ],
   "source": [
    "#print(usa_centers)\n",
    "sort_headlines(usa_df, usa_centers, 3)\n",
    "\n",
    "#cluster_1_diseases = [\"Norovirus\", \"Zika\", \"Meningitis\", \"Influenza\", \"Herpes\", \"Chickenpox\", \"Measles\", \"Mumps\", \"Hepatitis B\",\n",
    "#                     \"HIV\", \"Syphilis\", \"Bronchitis\", \"Hepatitis D\", \"Tuberculosis\", \"Chikungunya\", \"Swine Flu\", \"Dengue\", \"Hepatitis E\",\n",
    "#                     \"Rotavirus\"]\n",
    "usa_cluster_1_diseases = [\"Zika\"] #51 cases\n",
    "usa_cluster_2_diseases = [\"Zika\"] #24 cases - and different types of hepatitis, but I ain't considering those the same disease\n",
    "usa_cluster_3_diseases = [\"Zika\"] #...\n",
    "usa_diseases = [\"Zika\"]"
   ]
  },
  {
   "cell_type": "code",
   "execution_count": 91,
   "id": "aa532f7c",
   "metadata": {},
   "outputs": [
    {
     "name": "stdout",
     "output_type": "stream",
     "text": [
      "\n",
      " \n",
      "For cluster  1\n",
      "Zika spreads to Caucasia\n",
      "Zika Outbreak in Sincelejo\n",
      "Zika symptoms spotted in Bello\n",
      "Zika arrives in San Onofre\n",
      "New medicine wipes out Measles in Fresno\n",
      "Zika spreads to Barranquilla\n",
      "Rabies Hits Madrid\n",
      "Spanish flu spreading in Madrid\n",
      "Spanish Flu Spreading through Madrid\n",
      "Spanish Flu Spreading through Madrid\n",
      "Villavicencio under Zika threat\n",
      "New medicine wipes out Meningitis in Sevilla\n",
      "Rumors about Hepatitis C spreading in Darien have been refuted\n",
      "Zika Mosquitoes May Have Bred in Bromeliads, Florida Officials Say\n",
      "Tocumen tests new cure for Hepatitis A\n",
      "Rotavirus Vaccine is now Required in Las Cumbres\n",
      "Caracas patient dies\n",
      "Zika symptoms spotted in Quito\n",
      "Key Zika Findings in San Diego Institute\n",
      "Herpes Symptoms Spread all over New Kingston\n",
      "Outbreak of Zika in Portoviejo\n",
      "Zika symptoms spotted in Quisqueya\n",
      "Zika symptoms spotted in Iquitos\n",
      "Zika Troubles come to La Libertad\n",
      "Respiratory Syncytial Virus Keeps Spreading in Masaya\n",
      "Spike of Rabies Cases in Managua\n",
      "Laventille authorities confirmed the spread of Rhinovirus\n",
      "Tuberculosis Symptoms Spread all over Caguas\n",
      "Zika case recorded in Tunapuna A>>\n",
      "Sangre Grande Residents Recieve Gonorrhea vaccine\n",
      "Saint Croix under Zika threat\n",
      "Zika Outbreak in Yurimaguas\n",
      "Zika arrives in Tegucigalpa\n",
      "Zika Reported in Ilopango\n",
      "More Zika cases in Soyapango\n",
      "Zika worries in San Salvador\n",
      "Two more Zika cases confirmed in Laredo\n",
      "Belize City under threat from Zika\n",
      "Zika Virus Transmission Detected in Havana\n",
      "Zika arrives in Belmopan\n",
      "Meningitis re-emerges in Nassau\n",
      "Rumors about Meningitis spreading in Guatemala City have been refuted\n",
      "Zika Outbreak in Manaus\n",
      "Zika arrives in San Benito\n",
      "Lima tries to address Zika Concerns\n",
      "The Spread of Meningitis in Imperial has been Confirmed\n",
      "Zika arrives in Oaxaca\n",
      "Veracruz hit by Zika Concerns\n",
      "Trinidad confirms first Zika case\n",
      "Rabies Exposure in Hamilton\n",
      "Zika outbreak spreads to Mexico City\n",
      "Zika case reported in Reynosa\n",
      "Meningitis re-emerges in Medina\n",
      "Four cases of Zika in Hidalgo County\n",
      "More Zika patients reported in Nuevo Laredo\n",
      "Mad Cow Disease Re-emerges in Chatham\n",
      "Tests negative on Windsor Zika carriers\n",
      "St. Catharines Patient in Critical Condition after Contracting Dengue\n",
      "Mad Cow Disease Hits London\n",
      "London Health Unit Tracks Mad Cow Disease\n",
      "Pedro Juan Caballero Encounters Severe Symptoms of Pneumonia\n",
      "More Patients in Cambridge are Getting Diagnosed with Chickenpox\n",
      "Varicella Exposure in Cambridge\n",
      "Varicella has Arrived in Milton\n",
      "Case of Norovirus Reported in Stratford\n",
      "More people in Toronto are infected with Hepatitis E every year\n",
      "More Zika patients reported in Bella Vista\n",
      "Authorities are Worried about the Spread of Dengue in Kingston\n",
      "Case of Malaria Reported in Aurora\n",
      "Rumors about Pneumonia spreading in Ottawa have been refuted\n",
      "Zika symptoms spotted in Fortaleza\n",
      "Rumors about Rotavirus spreading in Huntsville have been refuted\n",
      "Malaria has Arrived in Terrebonne\n",
      "Halifax is infested with Swine Flu\n",
      "Chikungunya Exposure in Toledo\n",
      "Influenza has not Left Sacramento\n",
      "Authorities are Worried about the Spread of Hepatitis D in North Bay\n",
      "Zika case reported in Jacobina\n",
      "San Juan reports 1st U.S. Zika-related death amid outbreak\n",
      "Madera Patient in Critical Condition after Contracting Rabies\n",
      "More Zika patients reported in Botucatu\n",
      "Zika outbreak in Piracicaba, Brazil\n",
      "Student sick in Campinas, Brazil\n",
      "New Zika Case Confirmed in Belo Horizonte\n",
      "Zika Virus Reaches San Francisco\n",
      "Zika arrives in Natal\n",
      "Will Hepatitis B vaccine help La Paz?\n",
      "Zika spreading to Salvador\n",
      "Outbreak of Zika in Santa Elena\n",
      "Zika symptoms spotted in Colombo\n",
      "Outbreak of Zika in Colombo\n",
      "Zika San Antonio Patient Speaks Out\n",
      "Bronchitis Symptoms Spread all over Santa Fe\n",
      "Zika case reported in Limoeiro\n",
      "How to Avoid Chlamydia in Santiago\n",
      "Zika arrives in Santos\n",
      "Mystery Virus Spreads in Recife, Brazil\n",
      "Zika spreads to Olinda\n",
      "Authorities are Worried about the Spread of Norovirus in Buenos Aires\n",
      "Hepatitis E re-emerges in Santa Rosa\n",
      "Zika alert for Rio Grande Valley residents\n",
      "Montevideo Encounters Severe Symptoms of Rotavirus\n",
      "Norovirus has Arrived in Winnipeg\n",
      "Zika Outbreak in Mexicali\n",
      "Case of Hepatitis A Reported in Calgary\n",
      "Case of Measles Reported in Vancouver\n",
      "Chikungunya Keeps Spreading in North Vancouver\n",
      "Lower Hospitalization in Papeete after Measles Vaccine becomes Mandatory\n",
      "\n",
      " \n",
      "For cluster  2\n",
      "Sulu, Zamboanga brace for Zika\n",
      "Zika arrives in Miri\n",
      "Zika afflicts 7 in Iloilo City\n",
      "Outbreak of Zika in Bacolod City\n",
      "More Zika patients reported in Davao\n",
      "Zika symptoms spotted in Sibu\n",
      "Batangas Tourism Takes a Hit as Virus Spreads\n",
      "More Zika patients reported in Indang\n",
      "Zika afflicts patient in Calamba\n",
      "Pneumonia Exposure in San Jose\n",
      "Rhinovirus Comes to San Jose\n",
      "Spreading Zika reaches Bacoor\n",
      "Mandaluyong City under Siege by Virus\n",
      "Zika alert aEUR\" Manila now threatened\n",
      "Outbreak of Zika in Pasig City\n",
      "More Zika patients reported in Calumpang\n",
      "Antipolo under threat from Zika Virus\n",
      "More Quezon City Zika Transmissions\n",
      "Zika spreads to Kuching\n",
      "19 new Zika Cases in Sengkang\n",
      "Zika Troubles come to Jaen\n",
      "Zika arrives in Quezon\n",
      "Zika case reported in Rizal\n",
      "Santa Barbara tests new cure for Hepatitis C\n",
      "Bronchitis Keeps Spreading in San Mateo\n",
      "Nha Trang Zika Outbreak\n",
      "Zika cases in Vietnam's Ho Chi Minh City surge\n",
      "Zika Troubles come to Kampong Cham\n",
      "Phnom Penh hit by Zika Threat\n",
      "More Zika patients reported in Kampong Speu\n",
      "Zika cases in Singapore reach 393\n",
      "Zika reaches Johor Bahru, Malaysia\n",
      "West Nile Virus Hits Yogyakarta\n",
      "Zika now spreading through Jakarta\n",
      "Norovirus Exposure in Hong Kong\n",
      "Kuala Lumpur is Hit By Zika Threat\n",
      "Petaling Jaya man ill from Zika\n",
      "Schools in Shenzhen Closed Due to Malaria Outbreak\n",
      "Zika surfaces in Klang, Malaysia\n",
      "Will West Nile Virus vaccine help Dumai?\n",
      "West Nile Virus has Arrived in Dongguan\n",
      "Lower Hospitalization in Pekanbaru after Rotavirus Vaccine becomes Mandatory\n",
      "More Zika patients reported in Chanthaburi\n",
      "Guangzhou Patient in Critical Condition after Contracting Swine Flu\n",
      "Authorities are Worried about the Spread of Gonorrhea in Taoyuan City\n",
      "New medicine wipes out Tuberculosis in Taipei\n",
      "Zika arrives in Udon Thani\n",
      "Thailand-Zika Virus in Bangkok\n",
      "Hospitals in Hanoi fill up with Zika patients\n",
      "Zika case reported in Phetchabun\n",
      "Zika spreads to Kamphaeng Phet\n",
      "Authorities are Worried about the Spread of Hepatitis B in Yiwu\n",
      "Huzhou Residents Receive Hepatitis B vaccine\n",
      "Wuhan is infested with Varicella\n",
      "First Zika case confirmed in Yangon\n",
      "HIV Symptoms Spread all over Hinthada\n",
      "Rumors about Swine Flu spreading in Suzhou have been refuted\n",
      "Spike of Respiratory Syncytial Virus Cases in Mandalay\n",
      "Seoul confirms 14th Zika infection\n",
      "Chikungunya re-emerges in Kobe\n",
      "Lower Hospitalization in Dhaka after Measles Vaccine becomes Mandatory\n",
      "Authorities are Worried about the Spread of Syphilis in Pyongyang\n",
      "Beijing team cracks Zika secret\n",
      "More people in Yokohama are infected with Norovirus every year\n",
      "Tokyo Encounters Severe Symptoms of Meningitis\n",
      "Townsville Zika tests inconclusive\n",
      "Rumors about Tuberculosis Spreading in Baud have been Refuted\n",
      "Hepatitis A Vaccine is now Required in Fukushima\n",
      "More Zika patients reported in Chennai\n",
      "Zika Outbreak in Puducherry\n",
      "Dengue Exposure in Kathmandu\n",
      "Albany Residents Recieve Respiratory Syncytial Virus vaccine\n",
      "Rumors about Hepatitis D spreading in Albany have been refuted\n",
      "Rumors about West Nile Virus Spreading in Salem have been Refuted\n",
      "Zika Outbreak in Hyderabad\n",
      "Precautionary Zika measures in Rockhampton\n",
      "Outbreak of Zika in Kozhikode\n",
      "Gladstone Encounters Severe Symptoms of Dengue\n",
      "Rumors about Bronchitis spreading in Bundaberg have been refuted\n",
      "Pune woman diagnosed with Zika\n",
      "Zika Troubles come to Greater Noida\n",
      "New Zika Case in Kota Kinabalu, Malaysia\n",
      "Brisbane is infested with Meningitis\n",
      "New Delhi Addressing Zika Concerns\n",
      "Zika: Delhi for strict monitoring\n",
      "Mumbai's Health Minister warns of more Zika cases\n",
      "Zika arrives in Orange City\n",
      "More Patients in Orange are Getting Diagnosed with Chickenpox\n",
      "More Zika patients reported in Melbourne\n",
      "Case of Hepatitis E Reported in Melbourne\n",
      "Will Herpes vaccine help Newcastle?\n",
      "Lower Hospitalization in Richmond after Mumps Vaccine becomes Mandatory\n",
      "Authorities are Worried about the Spread of Chickenpox in Richmond\n",
      "Rumors about Mad Cow Disease Brighton have been Refuted\n",
      "The Spread of West Nile Virus in Fairfield has been Confirmed\n",
      "Tuberculosis has Arrived in Fairfield\n",
      "Spike of Norovirus Cases in Canberra\n",
      "Schools in Sydney Closed Due to Respiratory Syncytial Virus Outbreak\n",
      "More Patients in Kensington are Getting Diagnosed with Varicella\n",
      "Is Zika virus in Majuro?\n",
      "More people in Nadi are infected with HIV every year\n",
      "Suva authorities confirmed the spread of Rotavirus\n",
      "Rotavirus Vaccine is now Required in Labasa\n",
      "Lower Hospitalization in Auckland after Hepatitis D Vaccine becomes Mandatory\n",
      "\n",
      " \n",
      "For cluster  3\n",
      "Mad Cow Disease Hits Naples\n",
      "Authorities are Worried about the Spread of Mad Cow Disease in Rome\n",
      "Hepatitis B has not Left Florence\n",
      "Rhinovirus has Arrived in Athens\n",
      "Will Swine Flu vaccine help Ljubljana?\n",
      "Barcelona Struck by Spanish Flu\n",
      "Barcelona Struck by Spanish Flu \n",
      "Spanish Flu Outbreak in Barcelona\n",
      "Rumors about HIV spreading in Montpellier have been refuted\n",
      "Hepatitis D has Arrived in Grenoble\n",
      "Lausanne Residents Recieve Meningitis vaccine\n",
      "Will the Mad Cow Outbreak Reach Vienna?\n",
      "Mad Cow Disease Detected in Lyon\n",
      "How to Avoid Contaminated Meat when Visiting Basel\n",
      "Mad Cow case in Murcia\n",
      "Sick Livestock Leads to Serious Trouble for Belfort\n",
      "More Patients in Stuttgart are Getting Diagnosed with Rabies\n",
      "Will MCD vaccine help Strasbourg?\n",
      "Pilsen Encounters Severe Symptoms of Malaria\n",
      "More Patients in Alexandria are Getting Diagnosed with Mumps\n",
      "Contaminated Meat Brings Trouble for Bonn Farmers\n",
      "More Livestock in Fontainebleau are infected with Mad Cow Disease\n",
      "Durango is infested with Hepatitis B\n",
      "Case of Mad Cow Disease Reported in Hilden\n",
      "Spike of Chlamydia Cases in Berlin\n",
      "Scientists in Paris to look for answers\n",
      "Duisburg up in Arms over Mad Cow Disease\n",
      "Will Rabies vaccine help Tangier?\n",
      "Mad Cow Disease Disastrous to Brussels\n",
      "Will Meningitis vaccine help Hamburg?\n",
      "Mad Cow Disease Hits Rotterdam\n",
      "Zika Troubles come to Harlingen\n",
      "Hepatitis D Exposure in Aswan\n",
      "Mad Cow Disease Spreads to Margate\n",
      "Hepatitis C Outbreak in Bethlehem\n",
      "Rumors about Rabies spreading in Jerusalem have been refuted\n",
      "Herpes Keeps Spreading in Rochester\n",
      "Rochester authorities confirmed the spread of Dengue\n",
      "Norovirus Keeps Spreading in Copenhagen\n",
      "Hepatitis C re-emerges in Damascus\n",
      "How to Avoid Chikungunya in Hampton\n",
      "Southampton Patient in Critical Condition after Contracting Tuberculosis\n",
      "Spanish Flu Outbreak in Lisbon\n",
      "Spanish Flu Outbreak in Lisbon\n",
      "More contaminated cattle reported in Bedford\n",
      "Mad Cow Disease re-emerges in Bedford\n",
      "Oxford tests new cure for HIV\n",
      "Flu season hits Boston\n",
      "Hepatitis A re-emerges in Stamford\n",
      "Will Mad Cow Vaccine Help Bristol?\n",
      "Birmingham Residents Recieve Rabies vaccine\n",
      "Schools in Birmingham Closed Due to Measles Outbreak\n",
      "West Nile Virus re-emerges in Wellington\n",
      "Authorities are Worried about the Spread of Tuberculosis in Abuja\n",
      "Spike of Norovirus Cases in Huddersfield\n",
      "Manchester Residents Recieve Influenza vaccine\n",
      "Bad Water Leads to Sickness in Flint, Michigan\n",
      "Rumors about Rabies Spreading in Khartoum have been Refuted\n",
      "More people in Durham are infected with Chlamydia every year\n",
      "Spike of Dengue Cases in Stockholm\n",
      "Vericella spreading in Ibadan\n",
      "Ibadan tests new cure for Malaria\n",
      "Will Measles vaccine help Sochi?\n",
      "Authorities are Worried about the Spread of Mad Cow Disease in Edinburgh\n",
      "Hepatitis B Exposure in Edinburgh\n",
      "More Patients in Dublin are Getting Diagnosed with Bronchitis\n",
      "Schools in Glasgow Closed Due to Hepatitis B Outbreak\n",
      "Mecca tests new cure for Chikungunya\n",
      "Varicella re-emerges in Lagos\n",
      "Mad Cow Outbreak Spreading in Ennis\n",
      "More people in Saint Petersburg are infected with Varicella every year\n",
      "West Nile Virus Symptoms Spread all over Yerevan\n",
      "Case of Swine Flu Reported in Tbilisi\n",
      "Lung Cancer Rates Increasing in Moscow\n",
      "Hepatitis E has not Left Libreville\n",
      "Authorities are Worried about the Spread of Hepatitis D in Ganja\n",
      "Will Rotavirus vaccine help Addis Ababa?\n",
      "Chlamydia Exposure in Sanaa\n",
      "Cholera outbreak in Dakar\n",
      "Spike of Hepatitis B Cases in Greenville\n",
      "How to Avoid Norovirus in Greenville\n",
      "The Spread of Herpes in Baku has been Confirmed\n",
      "The Spread of Malaria in Brazzaville has been Confirmed\n",
      "Pneumonia has not Left Kinshasa\n",
      "Bronchitis re-emerges in Tehran\n",
      "Ebola outbreak in Kampala\n",
      "Lower Hospitalization in Entebbe after Rabies Vaccine becomes Mandatory\n",
      "Molo Cholera Spread Causing Concern\n",
      "Praia tests new cure for Pneumonia\n",
      "Tuberculosis Hits Luanda\n",
      "Authorities are Worried about the Spread of Norovirus in Dubai\n",
      "Tourist Perishes from Malaria in Arusha\n",
      "Influenza Exposure in Muscat\n",
      "Malaria Outbreak Hits Zanzibar's Tourist Industry\n",
      "The Spread of Malaria in Zanzibar has been Confirmed\n",
      "More people in Kitwe are infected with Respiratory Syncytial Virus every year\n",
      "Mpika authorities confirmed the spread of Chikungunya\n",
      "Harare is infested with Pneumonia\n",
      "Johannesburg Patient in Critical Condition after Contracting Pneumonia\n",
      "Malaria is Spreading in Johannesburg\n",
      "Tuberculosis re-emerges in Silver Springs\n"
     ]
    }
   ],
   "source": [
    "sort_headlines(world_df, world_centers, 3)\n",
    "\n",
    "world_cluster_1_diseases = [\"Zika\"] #53\n",
    "world_cluster_2_diseases = [\"Zika\"] #52\n",
    "world_cluster_3_diseases = [\"Mad Cow Disease\"] #15, 7\n",
    "world_diseases = [\"Zika\", \"Mad Cow Disease\"]"
   ]
  },
  {
   "cell_type": "code",
   "execution_count": 92,
   "id": "314cb267",
   "metadata": {},
   "outputs": [
    {
     "name": "stdout",
     "output_type": "stream",
     "text": [
      "False\n",
      "False\n"
     ]
    },
    {
     "data": {
      "image/png": "[encoded data removed]",
      "text/plain": [
       "<Figure size 640x480 with 1 Axes>"
      ]
     },
     "metadata": {},
     "output_type": "display_data"
    },
    {
     "data": {
      "application/vnd.plotly.v1+json": {
       "config": {
        "plotlyServerURL": "https://plot.ly"
       },
       "data": [
        {
         "geo": "geo",
         "hovertemplate": "<extra></extra>",
         "legendgroup": "",
         "marker": {
          "color": "#636efa",
          "symbol": "circle"
         },
         "mode": "markers",
         "name": "",
         "showlegend": false,
         "type": "scattergeo"
        },
        {
         "geo": "geo",
         "hovertemplate": "<b>%{hovertext}</b><br><br>latitude=%{lat}<br>longitude=%{lon}<extra></extra>",
         "hovertext": [
          "Cluster Center",
          "Cluster Center",
          "Cluster Center"
         ],
         "lat": [
          29.77003648148148,
          38.98685666666667,
          32.99526521739131
         ],
         "legendgroup": "",
         "lon": [
          -81.10284425925926,
          -117.57341166666667,
          -96.36721173913044
         ],
         "marker": {
          "color": "#636efa",
          "size": 12,
          "symbol": "diamond"
         },
         "mode": "markers",
         "name": "",
         "showlegend": false,
         "type": "scattergeo"
        },
        {
         "geo": "geo",
         "hovertemplate": "<b>%{hovertext}</b><br><br>latitude=%{lat}<br>longitude=%{lon}<br>cluster_kmeans=%{marker.color}<extra></extra>",
         "hovertext": [
          "Zika Outbreak Hits Miami",
          "Could Zika Reach New York City?",
          "First Case of Zika in Miami Beach",
          "Dallas man comes down with case of Zika",
          "Zika Concerns are Spreading in Houston",
          "Brownsville teen contracts Zika virus",
          "Mosquito control efforts in St. Louis take new tactics with Zika threat",
          "Orlando volunteers aid Zika research",
          "Chicago's First Zika Case Confirmed",
          "Tampa Bay Area Zika Case Count Climbs",
          "Baltimore plans for Zika virus",
          "Tallahassee Doctors Discuss Zika Virus",
          "Zika virus reported in Cleveland",
          "More Zika patients reported in Austin",
          "Zika symtomps spotted in Key West",
          "Seattle scientists get $500,000 grant to pursue Zika vaccine New 7:50 pm",
          "Nashville takes precautions against Zika",
          "Madison lab developing vaccine against Zika virus [The Wisconsin State Journal]",
          "New Zika Case Confirmed in Sarasota County",
          "Jacksonville man hit by Zika",
          "El Paso fighting Zika",
          "First Columbus Zika case",
          "Zika Patient in Seminole, Florida",
          "Can Zika make it here to Vero Beach?",
          "First Zika Case in Cincinnati",
          "Zika cases concern Charlotte residents",
          "Zika case reported in Jupiter",
          "Zika virus confirmed in Westchester",
          "More Zika patients reported in Pensacola",
          "Outbreak of Zika in Corpus Christi",
          "Escondido neighborhood to get sprayed for Zika virus",
          "Zika in Belmont, Belmont worry",
          "BREAKING aEUR\" Zika in Missoula",
          "Is Lafayette prepared to combat Zika?",
          "Zika Arrives in North Miami",
          "Zika Virus Arrives in Ontario",
          "Outbreak of Zika in Stephenville",
          "Zika battle outlined at Valdosta meeting",
          "Zika case reported in Coral Gables",
          "Zika arrives in West Palm Beach",
          "Zika spreads to Daytona Beach",
          "Zika Virus Detected in Lubbock",
          "Zika Virus Sparks 'International Concern'",
          "Zika-carrying mosquitoes discovered in Ardmore",
          "Frisco Woman Tests Positive For Zika Virus",
          "Zika Outbreak in Pinewood",
          "Zika Strikes St. Petersburg",
          "Zika symptoms spotted in Hollywood",
          "Zika symptoms spotted in Arlington",
          "Zika Spreads to Palm Beach Gardens",
          "Zika case reported in Abilene",
          "Outbreak of Zika in Palm Springs",
          "Zika Outbreak in Weslaco",
          "Zika case confirmed in Lorain",
          "Zika in Tamarac!",
          "Zika only the latest mosquito-borne threat to New Orleans",
          "More Zika patients reported in Waco",
          "Erie County sets Zika traps",
          "More Zika patients reported in Carrollton",
          "Zika symptoms spotted in Bonita Springs",
          "More Zika patients reported in Fort Myers",
          "Zika spreads to Lewisville",
          "Fort Hood Reports its First Zika Patient",
          "Hallandale Beach a Victim of Zika Outbreak",
          "Zika arrives in Boca Raton",
          "Bradenton Experiences Zika Troubles  ",
          "Zika spreads to Kissimmee",
          "Zika reported in Fort Pierce",
          "Zika spreads to Winter Park",
          "Zika virus case reported in Rockland",
          "Zika investigators coming to Mankato",
          "Outbreak of Zika in Leesburg",
          "Stony Brook University experts discuss Zika virus",
          "Miami resident suggests Zika precautions",
          "More Zika patients reported in Lakeland",
          "Zika Outbreak in South Miami",
          "Zika seminars in Yuma County",
          "Zika spreads to Plant City",
          "Zika Reported in North Miami Beach",
          "Zika Troubles come to Delray Beach",
          "More Zika patients reported in Fort Worth",
          "Zika symptoms spotted in Boynton Beach",
          "Zika Outbreak in Wichita Falls"
         ],
         "lat": [
          25.77427,
          40.71427,
          25.79065,
          32.78306,
          29.76328,
          25.82176,
          38.62727,
          28.53834,
          41.85003,
          27.94752,
          39.29038,
          30.43826,
          35.15952,
          30.26715,
          24.55524,
          47.60621,
          36.16589,
          34.69926,
          27.33643,
          34.8662,
          31.75872,
          32.46098,
          27.83975,
          27.63864,
          39.12711,
          35.22709,
          26.93422,
          25.75482,
          30.42131,
          27.80058,
          33.11921,
          42.39593,
          46.87215,
          30.22409,
          25.89009,
          34.06334,
          32.2207,
          30.83334,
          25.72149,
          26.71534,
          29.21081,
          33.57786,
          39.53491,
          34.17426,
          33.15067,
          25.86898,
          27.77086,
          26.0112,
          32.73569,
          26.82339,
          32.44874,
          26.6359,
          26.15952,
          41.45282,
          26.21286,
          29.95465,
          31.54933,
          42.12922,
          33.58011,
          26.33981,
          26.62168,
          33.04623,
          31.13489,
          25.9812,
          26.35869,
          27.49893,
          28.30468,
          27.44671,
          28.6,
          42.13066,
          44.15906,
          28.81082,
          28.07389,
          25.77427,
          28.03947,
          25.77427,
          32.72532,
          28.01888,
          25.93315,
          26.46146,
          32.72541,
          26.52535,
          33.91371
         ],
         "legendgroup": "",
         "lon": [
          -80.19366,
          -74.00597,
          -80.13005,
          -96.80667,
          -95.36327,
          -80.24116,
          -90.19789,
          -81.37924,
          -87.65005,
          -82.45843,
          -76.61219,
          -84.28073,
          -84.87661,
          -97.74306,
          -81.78163,
          -122.33207,
          -86.78444,
          -86.74833,
          -82.53065,
          -92.11015,
          -106.48693,
          -84.98771,
          -82.79121,
          -80.39727,
          -84.51439,
          -80.84313,
          -80.09421,
          -80.32727,
          -87.21691,
          -97.39638,
          -117.08642,
          -71.17867,
          -113.994,
          -92.01984,
          -80.18671,
          -117.65089,
          -98.20226,
          -83.28032,
          -80.26838,
          -80.05337,
          -81.02283,
          -101.85517,
          -119.75269,
          -97.14363,
          -96.82361,
          -80.21699,
          -82.67927,
          -80.14949,
          -97.10807,
          -80.13865,
          -99.73314,
          -80.09615,
          -97.99084,
          -82.18237,
          -80.24977,
          -90.07507,
          -97.14667,
          -80.08506,
          -85.07661,
          -81.7787,
          -81.84059,
          -96.99417,
          -97.77561,
          -80.14838,
          -80.0831,
          -82.57482,
          -81.41667,
          -80.32561,
          -81.33924,
          -70.91616,
          -94.00915,
          -81.87786,
          -82.43902,
          -80.19366,
          -81.9498,
          -80.19366,
          -114.6244,
          -82.11469,
          -80.16255,
          -80.07282,
          -97.32085,
          -80.06643,
          -98.49339
         ],
         "marker": {
          "color": [
           0,
           0,
           0,
           2,
           2,
           0,
           2,
           0,
           2,
           0,
           0,
           0,
           0,
           2,
           0,
           1,
           0,
           0,
           0,
           2,
           2,
           0,
           0,
           0,
           0,
           0,
           0,
           0,
           0,
           2,
           1,
           0,
           1,
           2,
           0,
           1,
           2,
           0,
           0,
           0,
           0,
           2,
           1,
           2,
           2,
           0,
           0,
           0,
           2,
           0,
           2,
           0,
           2,
           0,
           0,
           2,
           2,
           0,
           0,
           0,
           0,
           2,
           2,
           0,
           0,
           0,
           0,
           0,
           0,
           0,
           2,
           0,
           0,
           0,
           0,
           0,
           1,
           0,
           0,
           0,
           2,
           0,
           2
          ],
          "coloraxis": "coloraxis",
          "symbol": "circle"
         },
         "mode": "markers",
         "name": "",
         "showlegend": false,
         "type": "scattergeo"
        }
       ],
       "layout": {
        "geo": {
         "center": {},
         "domain": {
          "x": [
           0,
           1
          ],
          "y": [
           0,
           1
          ]
         },
         "projection": {
          "type": "robinson"
         },
         "showcountries": true
        },
        "legend": {
         "tracegroupgap": 0
        },
        "template": {
         "data": {
          "bar": [
           {
            "error_x": {
             "color": "#2a3f5f"
            },
            "error_y": {
             "color": "#2a3f5f"
            },
            "marker": {
             "line": {
              "color": "#E5ECF6",
              "width": 0.5
             },
             "pattern": {
              "fillmode": "overlay",
              "size": 10,
              "solidity": 0.2
             }
            },
            "type": "bar"
           }
          ],
          "barpolar": [
           {
            "marker": {
             "line": {
              "color": "#E5ECF6",
              "width": 0.5
             },
             "pattern": {
              "fillmode": "overlay",
              "size": 10,
              "solidity": 0.2
             }
            },
            "type": "barpolar"
           }
          ],
          "carpet": [
           {
            "aaxis": {
             "endlinecolor": "#2a3f5f",
             "gridcolor": "white",
             "linecolor": "white",
             "minorgridcolor": "white",
             "startlinecolor": "#2a3f5f"
            },
            "baxis": {
             "endlinecolor": "#2a3f5f",
             "gridcolor": "white",
             "linecolor": "white",
             "minorgridcolor": "white",
             "startlinecolor": "#2a3f5f"
            },
            "type": "carpet"
           }
          ],
          "choropleth": [
           {
            "colorbar": {
             "outlinewidth": 0,
             "ticks": ""
            },
            "type": "choropleth"
           }
          ],
          "contour": [
           {
            "colorbar": {
             "outlinewidth": 0,
             "ticks": ""
            },
            "colorscale": [
             [
              0,
              "#0d0887"
             ],
             [
              0.1111111111111111,
              "#46039f"
             ],
             [
              0.2222222222222222,
              "#7201a8"
             ],
             [
              0.3333333333333333,
              "#9c179e"
             ],
             [
              0.4444444444444444,
              "#bd3786"
             ],
             [
              0.5555555555555556,
              "#d8576b"
             ],
             [
              0.6666666666666666,
              "#ed7953"
             ],
             [
              0.7777777777777778,
              "#fb9f3a"
             ],
             [
              0.8888888888888888,
              "#fdca26"
             ],
             [
              1,
              "#f0f921"
             ]
            ],
            "type": "contour"
           }
          ],
          "contourcarpet": [
           {
            "colorbar": {
             "outlinewidth": 0,
             "ticks": ""
            },
            "type": "contourcarpet"
           }
          ],
          "heatmap": [
           {
            "colorbar": {
             "outlinewidth": 0,
             "ticks": ""
            },
            "colorscale": [
             [
              0,
              "#0d0887"
             ],
             [
              0.1111111111111111,
              "#46039f"
             ],
             [
              0.2222222222222222,
              "#7201a8"
             ],
             [
              0.3333333333333333,
              "#9c179e"
             ],
             [
              0.4444444444444444,
              "#bd3786"
             ],
             [
              0.5555555555555556,
              "#d8576b"
             ],
             [
              0.6666666666666666,
              "#ed7953"
             ],
             [
              0.7777777777777778,
              "#fb9f3a"
             ],
             [
              0.8888888888888888,
              "#fdca26"
             ],
             [
              1,
              "#f0f921"
             ]
            ],
            "type": "heatmap"
           }
          ],
          "heatmapgl": [
           {
            "colorbar": {
             "outlinewidth": 0,
             "ticks": ""
            },
            "colorscale": [
             [
              0,
              "#0d0887"
             ],
             [
              0.1111111111111111,
              "#46039f"
             ],
             [
              0.2222222222222222,
              "#7201a8"
             ],
             [
              0.3333333333333333,
              "#9c179e"
             ],
             [
              0.4444444444444444,
              "#bd3786"
             ],
             [
              0.5555555555555556,
              "#d8576b"
             ],
             [
              0.6666666666666666,
              "#ed7953"
             ],
             [
              0.7777777777777778,
              "#fb9f3a"
             ],
             [
              0.8888888888888888,
              "#fdca26"
             ],
             [
              1,
              "#f0f921"
             ]
            ],
            "type": "heatmapgl"
           }
          ],
          "histogram": [
           {
            "marker": {
             "pattern": {
              "fillmode": "overlay",
              "size": 10,
              "solidity": 0.2
             }
            },
            "type": "histogram"
           }
          ],
          "histogram2d": [
           {
            "colorbar": {
             "outlinewidth": 0,
             "ticks": ""
            },
            "colorscale": [
             [
              0,
              "#0d0887"
             ],
             [
              0.1111111111111111,
              "#46039f"
             ],
             [
              0.2222222222222222,
              "#7201a8"
             ],
             [
              0.3333333333333333,
              "#9c179e"
             ],
             [
              0.4444444444444444,
              "#bd3786"
             ],
             [
              0.5555555555555556,
              "#d8576b"
             ],
             [
              0.6666666666666666,
              "#ed7953"
             ],
             [
              0.7777777777777778,
              "#fb9f3a"
             ],
             [
              0.8888888888888888,
              "#fdca26"
             ],
             [
              1,
              "#f0f921"
             ]
            ],
            "type": "histogram2d"
           }
          ],
          "histogram2dcontour": [
           {
            "colorbar": {
             "outlinewidth": 0,
             "ticks": ""
            },
            "colorscale": [
             [
              0,
              "#0d0887"
             ],
             [
              0.1111111111111111,
              "#46039f"
             ],
             [
              0.2222222222222222,
              "#7201a8"
             ],
             [
              0.3333333333333333,
              "#9c179e"
             ],
             [
              0.4444444444444444,
              "#bd3786"
             ],
             [
              0.5555555555555556,
              "#d8576b"
             ],
             [
              0.6666666666666666,
              "#ed7953"
             ],
             [
              0.7777777777777778,
              "#fb9f3a"
             ],
             [
              0.8888888888888888,
              "#fdca26"
             ],
             [
              1,
              "#f0f921"
             ]
            ],
            "type": "histogram2dcontour"
           }
          ],
          "mesh3d": [
           {
            "colorbar": {
             "outlinewidth": 0,
             "ticks": ""
            },
            "type": "mesh3d"
           }
          ],
          "parcoords": [
           {
            "line": {
             "colorbar": {
              "outlinewidth": 0,
              "ticks": ""
             }
            },
            "type": "parcoords"
           }
          ],
          "pie": [
           {
            "automargin": true,
            "type": "pie"
           }
          ],
          "scatter": [
           {
            "fillpattern": {
             "fillmode": "overlay",
             "size": 10,
             "solidity": 0.2
            },
            "type": "scatter"
           }
          ],
          "scatter3d": [
           {
            "line": {
             "colorbar": {
              "outlinewidth": 0,
              "ticks": ""
             }
            },
            "marker": {
             "colorbar": {
              "outlinewidth": 0,
              "ticks": ""
             }
            },
            "type": "scatter3d"
           }
          ],
          "scattercarpet": [
           {
            "marker": {
             "colorbar": {
              "outlinewidth": 0,
              "ticks": ""
             }
            },
            "type": "scattercarpet"
           }
          ],
          "scattergeo": [
           {
            "marker": {
             "colorbar": {
              "outlinewidth": 0,
              "ticks": ""
             }
            },
            "type": "scattergeo"
           }
          ],
          "scattergl": [
           {
            "marker": {
             "colorbar": {
              "outlinewidth": 0,
              "ticks": ""
             }
            },
            "type": "scattergl"
           }
          ],
          "scattermapbox": [
           {
            "marker": {
             "colorbar": {
              "outlinewidth": 0,
              "ticks": ""
             }
            },
            "type": "scattermapbox"
           }
          ],
          "scatterpolar": [
           {
            "marker": {
             "colorbar": {
              "outlinewidth": 0,
              "ticks": ""
             }
            },
            "type": "scatterpolar"
           }
          ],
          "scatterpolargl": [
           {
            "marker": {
             "colorbar": {
              "outlinewidth": 0,
              "ticks": ""
             }
            },
            "type": "scatterpolargl"
           }
          ],
          "scatterternary": [
           {
            "marker": {
             "colorbar": {
              "outlinewidth": 0,
              "ticks": ""
             }
            },
            "type": "scatterternary"
           }
          ],
          "surface": [
           {
            "colorbar": {
             "outlinewidth": 0,
             "ticks": ""
            },
            "colorscale": [
             [
              0,
              "#0d0887"
             ],
             [
              0.1111111111111111,
              "#46039f"
             ],
             [
              0.2222222222222222,
              "#7201a8"
             ],
             [
              0.3333333333333333,
              "#9c179e"
             ],
             [
              0.4444444444444444,
              "#bd3786"
             ],
             [
              0.5555555555555556,
              "#d8576b"
             ],
             [
              0.6666666666666666,
              "#ed7953"
             ],
             [
              0.7777777777777778,
              "#fb9f3a"
             ],
             [
              0.8888888888888888,
              "#fdca26"
             ],
             [
              1,
              "#f0f921"
             ]
            ],
            "type": "surface"
           }
          ],
          "table": [
           {
            "cells": {
             "fill": {
              "color": "#EBF0F8"
             },
             "line": {
              "color": "white"
             }
            },
            "header": {
             "fill": {
              "color": "#C8D4E3"
             },
             "line": {
              "color": "white"
             }
            },
            "type": "table"
           }
          ]
         },
         "layout": {
          "annotationdefaults": {
           "arrowcolor": "#2a3f5f",
           "arrowhead": 0,
           "arrowwidth": 1
          },
          "autotypenumbers": "strict",
          "coloraxis": {
           "colorbar": {
            "outlinewidth": 0,
            "ticks": ""
           }
          },
          "colorscale": {
           "diverging": [
            [
             0,
             "#8e0152"
            ],
            [
             0.1,
             "#c51b7d"
            ],
            [
             0.2,
             "#de77ae"
            ],
            [
             0.3,
             "#f1b6da"
            ],
            [
             0.4,
             "#fde0ef"
            ],
            [
             0.5,
             "#f7f7f7"
            ],
            [
             0.6,
             "#e6f5d0"
            ],
            [
             0.7,
             "#b8e186"
            ],
            [
             0.8,
             "#7fbc41"
            ],
            [
             0.9,
             "#4d9221"
            ],
            [
             1,
             "#276419"
            ]
           ],
           "sequential": [
            [
             0,
             "#0d0887"
            ],
            [
             0.1111111111111111,
             "#46039f"
            ],
            [
             0.2222222222222222,
             "#7201a8"
            ],
            [
             0.3333333333333333,
             "#9c179e"
            ],
            [
             0.4444444444444444,
             "#bd3786"
            ],
            [
             0.5555555555555556,
             "#d8576b"
            ],
            [
             0.6666666666666666,
             "#ed7953"
            ],
            [
             0.7777777777777778,
             "#fb9f3a"
            ],
            [
             0.8888888888888888,
             "#fdca26"
            ],
            [
             1,
             "#f0f921"
            ]
           ],
           "sequentialminus": [
            [
             0,
             "#0d0887"
            ],
            [
             0.1111111111111111,
             "#46039f"
            ],
            [
             0.2222222222222222,
             "#7201a8"
            ],
            [
             0.3333333333333333,
             "#9c179e"
            ],
            [
             0.4444444444444444,
             "#bd3786"
            ],
            [
             0.5555555555555556,
             "#d8576b"
            ],
            [
             0.6666666666666666,
             "#ed7953"
            ],
            [
             0.7777777777777778,
             "#fb9f3a"
            ],
            [
             0.8888888888888888,
             "#fdca26"
            ],
            [
             1,
             "#f0f921"
            ]
           ]
          },
          "colorway": [
           "#636efa",
           "#EF553B",
           "#00cc96",
           "#ab63fa",
           "#FFA15A",
           "#19d3f3",
           "#FF6692",
           "#B6E880",
           "#FF97FF",
           "#FECB52"
          ],
          "font": {
           "color": "#2a3f5f"
          },
          "geo": {
           "bgcolor": "white",
           "lakecolor": "white",
           "landcolor": "#E5ECF6",
           "showlakes": true,
           "showland": true,
           "subunitcolor": "white"
          },
          "hoverlabel": {
           "align": "left"
          },
          "hovermode": "closest",
          "mapbox": {
           "style": "light"
          },
          "paper_bgcolor": "white",
          "plot_bgcolor": "#E5ECF6",
          "polar": {
           "angularaxis": {
            "gridcolor": "white",
            "linecolor": "white",
            "ticks": ""
           },
           "bgcolor": "#E5ECF6",
           "radialaxis": {
            "gridcolor": "white",
            "linecolor": "white",
            "ticks": ""
           }
          },
          "scene": {
           "xaxis": {
            "backgroundcolor": "#E5ECF6",
            "gridcolor": "white",
            "gridwidth": 2,
            "linecolor": "white",
            "showbackground": true,
            "ticks": "",
            "zerolinecolor": "white"
           },
           "yaxis": {
            "backgroundcolor": "#E5ECF6",
            "gridcolor": "white",
            "gridwidth": 2,
            "linecolor": "white",
            "showbackground": true,
            "ticks": "",
            "zerolinecolor": "white"
           },
           "zaxis": {
            "backgroundcolor": "#E5ECF6",
            "gridcolor": "white",
            "gridwidth": 2,
            "linecolor": "white",
            "showbackground": true,
            "ticks": "",
            "zerolinecolor": "white"
           }
          },
          "shapedefaults": {
           "line": {
            "color": "#2a3f5f"
           }
          },
          "ternary": {
           "aaxis": {
            "gridcolor": "white",
            "linecolor": "white",
            "ticks": ""
           },
           "baxis": {
            "gridcolor": "white",
            "linecolor": "white",
            "ticks": ""
           },
           "bgcolor": "#E5ECF6",
           "caxis": {
            "gridcolor": "white",
            "linecolor": "white",
            "ticks": ""
           }
          },
          "title": {
           "x": 0.05
          },
          "xaxis": {
           "automargin": true,
           "gridcolor": "white",
           "linecolor": "white",
           "ticks": "",
           "title": {
            "standoff": 15
           },
           "zerolinecolor": "white",
           "zerolinewidth": 2
          },
          "yaxis": {
           "automargin": true,
           "gridcolor": "white",
           "linecolor": "white",
           "ticks": "",
           "title": {
            "standoff": 15
           },
           "zerolinecolor": "white",
           "zerolinewidth": 2
          }
         }
        },
        "title": {
         "text": "Zika headlines in the US"
        }
       }
      },
      "text/html": [
       "<div>                            <div id=\"aa8d0ef0-2a87-4d72-aeb8-fc9f0052b63b\" class=\"plotly-graph-div\" style=\"height:525px; width:100%;\"></div>            <script type=\"text/javascript\">                require([\"plotly\"], function(Plotly) {                    window.PLOTLYENV=window.PLOTLYENV || {};                                    if (document.getElementById(\"aa8d0ef0-2a87-4d72-aeb8-fc9f0052b63b\")) {                    Plotly.newPlot(                        \"aa8d0ef0-2a87-4d72-aeb8-fc9f0052b63b\",                        [{\"geo\":\"geo\",\"hovertemplate\":\"\\u003cextra\\u003e\\u003c\\u002fextra\\u003e\",\"legendgroup\":\"\",\"marker\":{\"color\":\"#636efa\",\"symbol\":\"circle\"},\"mode\":\"markers\",\"name\":\"\",\"showlegend\":false,\"type\":\"scattergeo\"},{\"geo\":\"geo\",\"hovertemplate\":\"\\u003cb\\u003e%{hovertext}\\u003c\\u002fb\\u003e\\u003cbr\\u003e\\u003cbr\\u003elatitude=%{lat}\\u003cbr\\u003elongitude=%{lon}\\u003cextra\\u003e\\u003c\\u002fextra\\u003e\",\"hovertext\":[\"Cluster Center\",\"Cluster Center\",\"Cluster Center\"],\"lat\":[29.77003648148148,38.98685666666667,32.99526521739131],\"legendgroup\":\"\",\"lon\":[-81.10284425925926,-117.57341166666667,-96.36721173913044],\"marker\":{\"color\":\"#636efa\",\"symbol\":\"diamond\",\"size\":12},\"mode\":\"markers\",\"name\":\"\",\"showlegend\":false,\"type\":\"scattergeo\"},{\"geo\":\"geo\",\"hovertemplate\":\"\\u003cb\\u003e%{hovertext}\\u003c\\u002fb\\u003e\\u003cbr\\u003e\\u003cbr\\u003elatitude=%{lat}\\u003cbr\\u003elongitude=%{lon}\\u003cbr\\u003ecluster_kmeans=%{marker.color}\\u003cextra\\u003e\\u003c\\u002fextra\\u003e\",\"hovertext\":[\"Zika Outbreak Hits Miami\",\"Could Zika Reach New York City?\",\"First Case of Zika in Miami Beach\",\"Dallas man comes down with case of Zika\",\"Zika Concerns are Spreading in Houston\",\"Brownsville teen contracts Zika virus\",\"Mosquito control efforts in St. Louis take new tactics with Zika threat\",\"Orlando volunteers aid Zika research\",\"Chicago's First Zika Case Confirmed\",\"Tampa Bay Area Zika Case Count Climbs\",\"Baltimore plans for Zika virus\",\"Tallahassee Doctors Discuss Zika Virus\",\"Zika virus reported in Cleveland\",\"More Zika patients reported in Austin\",\"Zika symtomps spotted in Key West\",\"Seattle scientists get $500,000 grant to pursue Zika vaccine New 7:50 pm\",\"Nashville takes precautions against Zika\",\"Madison lab developing vaccine against Zika virus [The Wisconsin State Journal]\",\"New Zika Case Confirmed in Sarasota County\",\"Jacksonville man hit by Zika\",\"El Paso fighting Zika\",\"First Columbus Zika case\",\"Zika Patient in Seminole, Florida\",\"Can Zika make it here to Vero Beach?\",\"First Zika Case in Cincinnati\",\"Zika cases concern Charlotte residents\",\"Zika case reported in Jupiter\",\"Zika virus confirmed in Westchester\",\"More Zika patients reported in Pensacola\",\"Outbreak of Zika in Corpus Christi\",\"Escondido neighborhood to get sprayed for Zika virus\",\"Zika in Belmont, Belmont worry\",\"BREAKING aEUR\\\" Zika in Missoula\",\"Is Lafayette prepared to combat Zika?\",\"Zika Arrives in North Miami\",\"Zika Virus Arrives in Ontario\",\"Outbreak of Zika in Stephenville\",\"Zika battle outlined at Valdosta meeting\",\"Zika case reported in Coral Gables\",\"Zika arrives in West Palm Beach\",\"Zika spreads to Daytona Beach\",\"Zika Virus Detected in Lubbock\",\"Zika Virus Sparks 'International Concern'\",\"Zika-carrying mosquitoes discovered in Ardmore\",\"Frisco Woman Tests Positive For Zika Virus\",\"Zika Outbreak in Pinewood\",\"Zika Strikes St. Petersburg\",\"Zika symptoms spotted in Hollywood\",\"Zika symptoms spotted in Arlington\",\"Zika Spreads to Palm Beach Gardens\",\"Zika case reported in Abilene\",\"Outbreak of Zika in Palm Springs\",\"Zika Outbreak in Weslaco\",\"Zika case confirmed in Lorain\",\"Zika in Tamarac!\",\"Zika only the latest mosquito-borne threat to New Orleans\",\"More Zika patients reported in Waco\",\"Erie County sets Zika traps\",\"More Zika patients reported in Carrollton\",\"Zika symptoms spotted in Bonita Springs\",\"More Zika patients reported in Fort Myers\",\"Zika spreads to Lewisville\",\"Fort Hood Reports its First Zika Patient\",\"Hallandale Beach a Victim of Zika Outbreak\",\"Zika arrives in Boca Raton\",\"Bradenton Experiences Zika Troubles  \",\"Zika spreads to Kissimmee\",\"Zika reported in Fort Pierce\",\"Zika spreads to Winter Park\",\"Zika virus case reported in Rockland\",\"Zika investigators coming to Mankato\",\"Outbreak of Zika in Leesburg\",\"Stony Brook University experts discuss Zika virus\",\"Miami resident suggests Zika precautions\",\"More Zika patients reported in Lakeland\",\"Zika Outbreak in South Miami\",\"Zika seminars in Yuma County\",\"Zika spreads to Plant City\",\"Zika Reported in North Miami Beach\",\"Zika Troubles come to Delray Beach\",\"More Zika patients reported in Fort Worth\",\"Zika symptoms spotted in Boynton Beach\",\"Zika Outbreak in Wichita Falls\"],\"lat\":[25.77427,40.71427,25.79065,32.78306,29.76328,25.82176,38.62727,28.53834,41.85003,27.94752,39.29038,30.43826,35.15952,30.26715,24.55524,47.60621,36.16589,34.69926,27.33643,34.8662,31.75872,32.46098,27.83975,27.63864,39.12711,35.22709,26.93422,25.75482,30.42131,27.80058,33.11921,42.39593,46.87215,30.22409,25.89009,34.06334,32.2207,30.83334,25.72149,26.71534,29.21081,33.57786,39.53491,34.17426,33.15067,25.86898,27.77086,26.0112,32.73569,26.82339,32.44874,26.6359,26.15952,41.45282,26.21286,29.95465,31.54933,42.12922,33.58011,26.33981,26.62168,33.04623,31.13489,25.9812,26.35869,27.49893,28.30468,27.44671,28.6,42.13066,44.15906,28.81082,28.07389,25.77427,28.03947,25.77427,32.72532,28.01888,25.93315,26.46146,32.72541,26.52535,33.91371],\"legendgroup\":\"\",\"lon\":[-80.19366,-74.00597,-80.13005,-96.80667,-95.36327,-80.24116,-90.19789,-81.37924,-87.65005,-82.45843,-76.61219,-84.28073,-84.87661,-97.74306,-81.78163,-122.33207,-86.78444,-86.74833,-82.53065,-92.11015,-106.48693,-84.98771,-82.79121,-80.39727,-84.51439,-80.84313,-80.09421,-80.32727,-87.21691,-97.39638,-117.08642,-71.17867,-113.994,-92.01984,-80.18671,-117.65089,-98.20226,-83.28032,-80.26838,-80.05337,-81.02283,-101.85517,-119.75269,-97.14363,-96.82361,-80.21699,-82.67927,-80.14949,-97.10807,-80.13865,-99.73314,-80.09615,-97.99084,-82.18237,-80.24977,-90.07507,-97.14667,-80.08506,-85.07661,-81.7787,-81.84059,-96.99417,-97.77561,-80.14838,-80.0831,-82.57482,-81.41667,-80.32561,-81.33924,-70.91616,-94.00915,-81.87786,-82.43902,-80.19366,-81.9498,-80.19366,-114.6244,-82.11469,-80.16255,-80.07282,-97.32085,-80.06643,-98.49339],\"marker\":{\"color\":[0,0,0,2,2,0,2,0,2,0,0,0,0,2,0,1,0,0,0,2,2,0,0,0,0,0,0,0,0,2,1,0,1,2,0,1,2,0,0,0,0,2,1,2,2,0,0,0,2,0,2,0,2,0,0,2,2,0,0,0,0,2,2,0,0,0,0,0,0,0,2,0,0,0,0,0,1,0,0,0,2,0,2],\"coloraxis\":\"coloraxis\",\"symbol\":\"circle\"},\"mode\":\"markers\",\"name\":\"\",\"showlegend\":false,\"type\":\"scattergeo\"}],                        {\"template\":{\"data\":{\"histogram2dcontour\":[{\"type\":\"histogram2dcontour\",\"colorbar\":{\"outlinewidth\":0,\"ticks\":\"\"},\"colorscale\":[[0.0,\"#0d0887\"],[0.1111111111111111,\"#46039f\"],[0.2222222222222222,\"#7201a8\"],[0.3333333333333333,\"#9c179e\"],[0.4444444444444444,\"#bd3786\"],[0.5555555555555556,\"#d8576b\"],[0.6666666666666666,\"#ed7953\"],[0.7777777777777778,\"#fb9f3a\"],[0.8888888888888888,\"#fdca26\"],[1.0,\"#f0f921\"]]}],\"choropleth\":[{\"type\":\"choropleth\",\"colorbar\":{\"outlinewidth\":0,\"ticks\":\"\"}}],\"histogram2d\":[{\"type\":\"histogram2d\",\"colorbar\":{\"outlinewidth\":0,\"ticks\":\"\"},\"colorscale\":[[0.0,\"#0d0887\"],[0.1111111111111111,\"#46039f\"],[0.2222222222222222,\"#7201a8\"],[0.3333333333333333,\"#9c179e\"],[0.4444444444444444,\"#bd3786\"],[0.5555555555555556,\"#d8576b\"],[0.6666666666666666,\"#ed7953\"],[0.7777777777777778,\"#fb9f3a\"],[0.8888888888888888,\"#fdca26\"],[1.0,\"#f0f921\"]]}],\"heatmap\":[{\"type\":\"heatmap\",\"colorbar\":{\"outlinewidth\":0,\"ticks\":\"\"},\"colorscale\":[[0.0,\"#0d0887\"],[0.1111111111111111,\"#46039f\"],[0.2222222222222222,\"#7201a8\"],[0.3333333333333333,\"#9c179e\"],[0.4444444444444444,\"#bd3786\"],[0.5555555555555556,\"#d8576b\"],[0.6666666666666666,\"#ed7953\"],[0.7777777777777778,\"#fb9f3a\"],[0.8888888888888888,\"#fdca26\"],[1.0,\"#f0f921\"]]}],\"heatmapgl\":[{\"type\":\"heatmapgl\",\"colorbar\":{\"outlinewidth\":0,\"ticks\":\"\"},\"colorscale\":[[0.0,\"#0d0887\"],[0.1111111111111111,\"#46039f\"],[0.2222222222222222,\"#7201a8\"],[0.3333333333333333,\"#9c179e\"],[0.4444444444444444,\"#bd3786\"],[0.5555555555555556,\"#d8576b\"],[0.6666666666666666,\"#ed7953\"],[0.7777777777777778,\"#fb9f3a\"],[0.8888888888888888,\"#fdca26\"],[1.0,\"#f0f921\"]]}],\"contourcarpet\":[{\"type\":\"contourcarpet\",\"colorbar\":{\"outlinewidth\":0,\"ticks\":\"\"}}],\"contour\":[{\"type\":\"contour\",\"colorbar\":{\"outlinewidth\":0,\"ticks\":\"\"},\"colorscale\":[[0.0,\"#0d0887\"],[0.1111111111111111,\"#46039f\"],[0.2222222222222222,\"#7201a8\"],[0.3333333333333333,\"#9c179e\"],[0.4444444444444444,\"#bd3786\"],[0.5555555555555556,\"#d8576b\"],[0.6666666666666666,\"#ed7953\"],[0.7777777777777778,\"#fb9f3a\"],[0.8888888888888888,\"#fdca26\"],[1.0,\"#f0f921\"]]}],\"surface\":[{\"type\":\"surface\",\"colorbar\":{\"outlinewidth\":0,\"ticks\":\"\"},\"colorscale\":[[0.0,\"#0d0887\"],[0.1111111111111111,\"#46039f\"],[0.2222222222222222,\"#7201a8\"],[0.3333333333333333,\"#9c179e\"],[0.4444444444444444,\"#bd3786\"],[0.5555555555555556,\"#d8576b\"],[0.6666666666666666,\"#ed7953\"],[0.7777777777777778,\"#fb9f3a\"],[0.8888888888888888,\"#fdca26\"],[1.0,\"#f0f921\"]]}],\"mesh3d\":[{\"type\":\"mesh3d\",\"colorbar\":{\"outlinewidth\":0,\"ticks\":\"\"}}],\"scatter\":[{\"fillpattern\":{\"fillmode\":\"overlay\",\"size\":10,\"solidity\":0.2},\"type\":\"scatter\"}],\"parcoords\":[{\"type\":\"parcoords\",\"line\":{\"colorbar\":{\"outlinewidth\":0,\"ticks\":\"\"}}}],\"scatterpolargl\":[{\"type\":\"scatterpolargl\",\"marker\":{\"colorbar\":{\"outlinewidth\":0,\"ticks\":\"\"}}}],\"bar\":[{\"error_x\":{\"color\":\"#2a3f5f\"},\"error_y\":{\"color\":\"#2a3f5f\"},\"marker\":{\"line\":{\"color\":\"#E5ECF6\",\"width\":0.5},\"pattern\":{\"fillmode\":\"overlay\",\"size\":10,\"solidity\":0.2}},\"type\":\"bar\"}],\"scattergeo\":[{\"type\":\"scattergeo\",\"marker\":{\"colorbar\":{\"outlinewidth\":0,\"ticks\":\"\"}}}],\"scatterpolar\":[{\"type\":\"scatterpolar\",\"marker\":{\"colorbar\":{\"outlinewidth\":0,\"ticks\":\"\"}}}],\"histogram\":[{\"marker\":{\"pattern\":{\"fillmode\":\"overlay\",\"size\":10,\"solidity\":0.2}},\"type\":\"histogram\"}],\"scattergl\":[{\"type\":\"scattergl\",\"marker\":{\"colorbar\":{\"outlinewidth\":0,\"ticks\":\"\"}}}],\"scatter3d\":[{\"type\":\"scatter3d\",\"line\":{\"colorbar\":{\"outlinewidth\":0,\"ticks\":\"\"}},\"marker\":{\"colorbar\":{\"outlinewidth\":0,\"ticks\":\"\"}}}],\"scattermapbox\":[{\"type\":\"scattermapbox\",\"marker\":{\"colorbar\":{\"outlinewidth\":0,\"ticks\":\"\"}}}],\"scatterternary\":[{\"type\":\"scatterternary\",\"marker\":{\"colorbar\":{\"outlinewidth\":0,\"ticks\":\"\"}}}],\"scattercarpet\":[{\"type\":\"scattercarpet\",\"marker\":{\"colorbar\":{\"outlinewidth\":0,\"ticks\":\"\"}}}],\"carpet\":[{\"aaxis\":{\"endlinecolor\":\"#2a3f5f\",\"gridcolor\":\"white\",\"linecolor\":\"white\",\"minorgridcolor\":\"white\",\"startlinecolor\":\"#2a3f5f\"},\"baxis\":{\"endlinecolor\":\"#2a3f5f\",\"gridcolor\":\"white\",\"linecolor\":\"white\",\"minorgridcolor\":\"white\",\"startlinecolor\":\"#2a3f5f\"},\"type\":\"carpet\"}],\"table\":[{\"cells\":{\"fill\":{\"color\":\"#EBF0F8\"},\"line\":{\"color\":\"white\"}},\"header\":{\"fill\":{\"color\":\"#C8D4E3\"},\"line\":{\"color\":\"white\"}},\"type\":\"table\"}],\"barpolar\":[{\"marker\":{\"line\":{\"color\":\"#E5ECF6\",\"width\":0.5},\"pattern\":{\"fillmode\":\"overlay\",\"size\":10,\"solidity\":0.2}},\"type\":\"barpolar\"}],\"pie\":[{\"automargin\":true,\"type\":\"pie\"}]},\"layout\":{\"autotypenumbers\":\"strict\",\"colorway\":[\"#636efa\",\"#EF553B\",\"#00cc96\",\"#ab63fa\",\"#FFA15A\",\"#19d3f3\",\"#FF6692\",\"#B6E880\",\"#FF97FF\",\"#FECB52\"],\"font\":{\"color\":\"#2a3f5f\"},\"hovermode\":\"closest\",\"hoverlabel\":{\"align\":\"left\"},\"paper_bgcolor\":\"white\",\"plot_bgcolor\":\"#E5ECF6\",\"polar\":{\"bgcolor\":\"#E5ECF6\",\"angularaxis\":{\"gridcolor\":\"white\",\"linecolor\":\"white\",\"ticks\":\"\"},\"radialaxis\":{\"gridcolor\":\"white\",\"linecolor\":\"white\",\"ticks\":\"\"}},\"ternary\":{\"bgcolor\":\"#E5ECF6\",\"aaxis\":{\"gridcolor\":\"white\",\"linecolor\":\"white\",\"ticks\":\"\"},\"baxis\":{\"gridcolor\":\"white\",\"linecolor\":\"white\",\"ticks\":\"\"},\"caxis\":{\"gridcolor\":\"white\",\"linecolor\":\"white\",\"ticks\":\"\"}},\"coloraxis\":{\"colorbar\":{\"outlinewidth\":0,\"ticks\":\"\"}},\"colorscale\":{\"sequential\":[[0.0,\"#0d0887\"],[0.1111111111111111,\"#46039f\"],[0.2222222222222222,\"#7201a8\"],[0.3333333333333333,\"#9c179e\"],[0.4444444444444444,\"#bd3786\"],[0.5555555555555556,\"#d8576b\"],[0.6666666666666666,\"#ed7953\"],[0.7777777777777778,\"#fb9f3a\"],[0.8888888888888888,\"#fdca26\"],[1.0,\"#f0f921\"]],\"sequentialminus\":[[0.0,\"#0d0887\"],[0.1111111111111111,\"#46039f\"],[0.2222222222222222,\"#7201a8\"],[0.3333333333333333,\"#9c179e\"],[0.4444444444444444,\"#bd3786\"],[0.5555555555555556,\"#d8576b\"],[0.6666666666666666,\"#ed7953\"],[0.7777777777777778,\"#fb9f3a\"],[0.8888888888888888,\"#fdca26\"],[1.0,\"#f0f921\"]],\"diverging\":[[0,\"#8e0152\"],[0.1,\"#c51b7d\"],[0.2,\"#de77ae\"],[0.3,\"#f1b6da\"],[0.4,\"#fde0ef\"],[0.5,\"#f7f7f7\"],[0.6,\"#e6f5d0\"],[0.7,\"#b8e186\"],[0.8,\"#7fbc41\"],[0.9,\"#4d9221\"],[1,\"#276419\"]]},\"xaxis\":{\"gridcolor\":\"white\",\"linecolor\":\"white\",\"ticks\":\"\",\"title\":{\"standoff\":15},\"zerolinecolor\":\"white\",\"automargin\":true,\"zerolinewidth\":2},\"yaxis\":{\"gridcolor\":\"white\",\"linecolor\":\"white\",\"ticks\":\"\",\"title\":{\"standoff\":15},\"zerolinecolor\":\"white\",\"automargin\":true,\"zerolinewidth\":2},\"scene\":{\"xaxis\":{\"backgroundcolor\":\"#E5ECF6\",\"gridcolor\":\"white\",\"linecolor\":\"white\",\"showbackground\":true,\"ticks\":\"\",\"zerolinecolor\":\"white\",\"gridwidth\":2},\"yaxis\":{\"backgroundcolor\":\"#E5ECF6\",\"gridcolor\":\"white\",\"linecolor\":\"white\",\"showbackground\":true,\"ticks\":\"\",\"zerolinecolor\":\"white\",\"gridwidth\":2},\"zaxis\":{\"backgroundcolor\":\"#E5ECF6\",\"gridcolor\":\"white\",\"linecolor\":\"white\",\"showbackground\":true,\"ticks\":\"\",\"zerolinecolor\":\"white\",\"gridwidth\":2}},\"shapedefaults\":{\"line\":{\"color\":\"#2a3f5f\"}},\"annotationdefaults\":{\"arrowcolor\":\"#2a3f5f\",\"arrowhead\":0,\"arrowwidth\":1},\"geo\":{\"bgcolor\":\"white\",\"landcolor\":\"#E5ECF6\",\"subunitcolor\":\"white\",\"showland\":true,\"showlakes\":true,\"lakecolor\":\"white\"},\"title\":{\"x\":0.05},\"mapbox\":{\"style\":\"light\"}}},\"geo\":{\"domain\":{\"x\":[0.0,1.0],\"y\":[0.0,1.0]},\"center\":{},\"projection\":{\"type\":\"robinson\"},\"showcountries\":true},\"legend\":{\"tracegroupgap\":0},\"title\":{\"text\":\"Zika headlines in the US\"}},                        {\"responsive\": true}                    ).then(function(){\n",
       "                            \n",
       "var gd = document.getElementById('aa8d0ef0-2a87-4d72-aeb8-fc9f0052b63b');\n",
       "var x = new MutationObserver(function (mutations, observer) {{\n",
       "        var display = window.getComputedStyle(gd).display;\n",
       "        if (!display || display === 'none') {{\n",
       "            console.log([gd, 'removed!']);\n",
       "            Plotly.purge(gd);\n",
       "            observer.disconnect();\n",
       "        }}\n",
       "}});\n",
       "\n",
       "// Listen for the removal of the full notebook cells\n",
       "var notebookContainer = gd.closest('#notebook-container');\n",
       "if (notebookContainer) {{\n",
       "    x.observe(notebookContainer, {childList: true});\n",
       "}}\n",
       "\n",
       "// Listen for the clearing of the current output cell\n",
       "var outputEl = gd.closest('.output');\n",
       "if (outputEl) {{\n",
       "    x.observe(outputEl, {childList: true});\n",
       "}}\n",
       "\n",
       "                        })                };                });            </script>        </div>"
      ]
     },
     "metadata": {},
     "output_type": "display_data"
    },
    {
     "data": {
      "image/png": "[encoded data removed]",
      "text/plain": [
       "<Figure size 640x480 with 1 Axes>"
      ]
     },
     "metadata": {},
     "output_type": "display_data"
    }
   ],
   "source": [
    "# The project suggest regex. I suggest not :)\n",
    "for index, row in usa_df.iterrows():\n",
    "    headline = row[\"headline\"]\n",
    "    if(usa_diseases[0] not in headline):\n",
    "        usa_df.drop(index,0, inplace=True)\n",
    "cluster_df_usa, usa_df, usa_centers = kmns(usa_df,3)\n",
    "plotdf(usa_df, usa_centers, \"Zika headlines in the US\", \"robinson\", True)"
   ]
  },
  {
   "cell_type": "code",
   "execution_count": 93,
   "id": "b718e8cc",
   "metadata": {},
   "outputs": [
    {
     "name": "stdout",
     "output_type": "stream",
     "text": [
      "False\n",
      "False\n"
     ]
    },
    {
     "data": {
      "image/png": "[encoded data removed]",
      "text/plain": [
       "<Figure size 640x480 with 1 Axes>"
      ]
     },
     "metadata": {},
     "output_type": "display_data"
    },
    {
     "data": {
      "application/vnd.plotly.v1+json": {
       "config": {
        "plotlyServerURL": "https://plot.ly"
       },
       "data": [
        {
         "geo": "geo",
         "hovertemplate": "<extra></extra>",
         "legendgroup": "",
         "marker": {
          "color": "#636efa",
          "symbol": "circle"
         },
         "mode": "markers",
         "name": "",
         "showlegend": false,
         "type": "scattergeo"
        },
        {
         "geo": "geo",
         "hovertemplate": "<b>%{hovertext}</b><br><br>latitude=%{lat}<br>longitude=%{lon}<extra></extra>",
         "hovertext": [
          "Cluster Center",
          "Cluster Center",
          "Cluster Center"
         ],
         "lat": [
          49.5764975,
          9.373693090909091,
          2.6261401754385956
         ],
         "legendgroup": "",
         "lon": [
          4.999814166666667,
          110.15514145454546,
          -71.94100263157893
         ],
         "marker": {
          "color": "#636efa",
          "size": 12,
          "symbol": "diamond"
         },
         "mode": "markers",
         "name": "",
         "showlegend": false,
         "type": "scattergeo"
        },
        {
         "geo": "geo",
         "hovertemplate": "<b>%{hovertext}</b><br><br>latitude=%{lat}<br>longitude=%{lon}<br>cluster_kmeans=%{marker.color}<extra></extra>",
         "hovertext": [
          "Trinidad confirms first Zika case",
          "San Juan reports 1st U.S. Zika-related death amid outbreak",
          "Zika alert aEUR\" Manila now threatened",
          "Zika afflicts 7 in Iloilo City",
          "London Health Unit Tracks Mad Cow Disease",
          "Zika cases in Vietnam's Ho Chi Minh City surge",
          "Key Zika Findings in San Diego Institute",
          "Thailand-Zika Virus in Bangkok",
          "Beijing team cracks Zika secret",
          "Zika spreading to Salvador",
          "Kuala Lumpur is Hit By Zika Threat",
          "First Zika case confirmed in Yangon",
          "Zika Virus Reaches San Francisco",
          "Townsville Zika tests inconclusive",
          "Zika worries in San Salvador",
          "Zika outbreak in Piracicaba, Brazil",
          "Lima tries to address Zika Concerns",
          "Zika Virus Transmission Detected in Havana",
          "Saint Croix under Zika threat",
          "Zika surfaces in Klang, Malaysia",
          "More Quezon City Zika Transmissions",
          "Mumbai's Health Minister warns of more Zika cases",
          "Pune woman diagnosed with Zika",
          "Hospitals in Hanoi fill up with Zika patients",
          "Zika: Delhi for strict monitoring",
          "Belize City under threat from Zika",
          "More Zika cases in Soyapango",
          "Authorities are Worried about the Spread of Mad Cow Disease in Rome",
          "Seoul confirms 14th Zika infection",
          "Zika outbreak spreads to Mexico City",
          "Zika now spreading through Jakarta",
          "Zika San Antonio Patient Speaks Out",
          "Precautionary Zika measures in Rockhampton",
          "Zika arrives in Tegucigalpa",
          "New Zika Case Confirmed in Belo Horizonte",
          "Antipolo under threat from Zika Virus",
          "Spreading Zika reaches Bacoor",
          "Zika afflicts patient in Calamba",
          "Petaling Jaya man ill from Zika",
          "Zika Outbreak in Hyderabad",
          "Is Zika virus in Majuro?",
          "Villavicencio under Zika threat",
          "Two more Zika cases confirmed in Laredo",
          "New Delhi Addressing Zika Concerns",
          "New Zika Case in Kota Kinabalu, Malaysia",
          "Zika reaches Johor Bahru, Malaysia",
          "Nha Trang Zika Outbreak",
          "19 new Zika Cases in Sengkang",
          "Outbreak of Zika in Bacolod City",
          "Zika alert for Rio Grande Valley residents",
          "Zika symptoms spotted in Colombo",
          "Veracruz hit by Zika Concerns",
          "Zika cases in Singapore reach 393",
          "Zika arrives in Miri",
          "Zika arrives in Santos",
          "Zika arrives in San Benito",
          "Zika case recorded in Tunapuna A>>",
          "Mad Cow Disease Re-emerges in Chatham",
          "Mad Cow Disease Hits Naples",
          "More Zika patients reported in Davao",
          "Tests negative on Windsor Zika carriers",
          "Zika symptoms spotted in Bello",
          "Zika Mosquitoes May Have Bred in Bromeliads, Florida Officials Say",
          "More Livestock in Fontainebleau are infected with Mad Cow Disease",
          "Mad Cow Disease Spreads to Margate",
          "Four cases of Zika in Hidalgo County",
          "Zika arrives in Oaxaca",
          "Phnom Penh hit by Zika Threat",
          "Zika Troubles come to Harlingen",
          "Zika spreads to Barranquilla",
          "Mad Cow Disease Hits Rotterdam",
          "Outbreak of Zika in Pasig City",
          "Zika Troubles come to Kampong Cham",
          "Zika case reported in Rizal",
          "Zika arrives in Natal",
          "Zika case reported in Phetchabun",
          "Zika Outbreak in Sincelejo",
          "Zika spreads to Kuching",
          "Rumors about Mad Cow Disease Brighton have been Refuted",
          "Zika case reported in Jacobina",
          "Zika arrives in Udon Thani",
          "Duisburg up in Arms over Mad Cow Disease",
          "More Zika patients reported in Calumpang",
          "Zika symptoms spotted in Quisqueya",
          "Zika symptoms spotted in Fortaleza",
          "Zika arrives in Orange City",
          "Zika Outbreak in Puducherry",
          "Zika symptoms spotted in Iquitos",
          "More Zika patients reported in Melbourne",
          "Zika Troubles come to La Libertad",
          "Outbreak of Zika in Santa Elena",
          "Mad Cow Disease Disastrous to Brussels",
          "Zika spreads to Olinda",
          "Outbreak of Zika in Kozhikode",
          "Case of Mad Cow Disease Reported in Hilden",
          "Zika symptoms spotted in Sibu",
          "Zika arrives in Quezon",
          "More Zika patients reported in Nuevo Laredo",
          "Mad Cow Disease Hits London",
          "Zika symptoms spotted in Quito",
          "Sulu, Zamboanga brace for Zika",
          "Zika Troubles come to Greater Noida",
          "Outbreak of Zika in Colombo",
          "Zika Troubles come to Jaen",
          "Zika case reported in Reynosa",
          "More Zika patients reported in Chennai",
          "Zika arrives in San Onofre",
          "More Zika patients reported in Chanthaburi",
          "Zika case reported in Limoeiro",
          "Authorities are Worried about the Spread of Mad Cow Disease in Edinburgh",
          "More Zika patients reported in Botucatu",
          "Zika arrives in Belmopan",
          "Zika Outbreak in Manaus",
          "Zika spreads to Caucasia",
          "Zika spreads to Kamphaeng Phet",
          "Zika Outbreak in Mexicali",
          "Zika Reported in Ilopango",
          "More Zika patients reported in Kampong Speu",
          "Mad Cow Disease Detected in Lyon",
          "Mad Cow Disease re-emerges in Bedford",
          "Zika Outbreak in Yurimaguas",
          "Outbreak of Zika in Portoviejo",
          "More Zika patients reported in Indang",
          "More Zika patients reported in Bella Vista"
         ],
         "lat": [
          -14.83333,
          -31.5375,
          14.6042,
          10.69694,
          42.98339,
          10.82302,
          9.89898,
          13.75398,
          39.9075,
          -12.97111,
          3.1412,
          16.80528,
          -31.42797,
          -19.26639,
          13.68935,
          -22.72528,
          -12.04318,
          23.13302,
          17.72751,
          3.03667,
          14.6488,
          19.07283,
          18.51957,
          21.0245,
          28.65195,
          17.49952,
          13.71024,
          41.89193,
          37.566,
          19.42847,
          -6.21462,
          -33.59473,
          -23.38032,
          14.0818,
          -19.92083,
          14.62578,
          14.45896,
          14.21167,
          3.10726,
          17.38405,
          7.08971,
          4.142,
          -8.08965,
          28.63576,
          25.18254,
          1.4655,
          12.24507,
          -4.1279,
          10.66667,
          -32.035,
          -25.29167,
          19.18095,
          1.28967,
          4.39928,
          -23.96083,
          16.91675,
          10.65245,
          42.41224,
          40.85216,
          7.07306,
          42.30008,
          6.33732,
          3.3223,
          48.40908,
          51.38132,
          25.97205,
          17.06542,
          11.56245,
          53.17477,
          10.96854,
          51.9225,
          14.58691,
          11.99339,
          15.7118,
          -5.795,
          16.41904,
          9.30472,
          1.55,
          -37.90561,
          -11.18143,
          17.41567,
          51.43247,
          14.6228,
          18.55542,
          -3.71722,
          -33.28397,
          11.93381,
          -3.74912,
          -37.814,
          -2.233,
          -30.94432,
          50.85045,
          -8.00889,
          11.24802,
          51.16818,
          2.3,
          15.5512,
          27.47629,
          42.98339,
          -0.22985,
          6.91028,
          28.49615,
          -25.29167,
          15.3275,
          26.08061,
          13.08784,
          9.73586,
          12.60961,
          -7.87472,
          55.95206,
          -22.88583,
          17.25,
          -3.10194,
          7.98654,
          16.48344,
          32.62781,
          13.70167,
          11.45332,
          45.74846,
          52.13459,
          -5.90181,
          -1.05458,
          14.19528,
          -27.03424
         ],
         "legendgroup": "",
         "lon": [
          -64.9,
          -68.53639,
          120.9822,
          122.56444,
          -81.23304,
          106.62965,
          -84.00287,
          100.50144,
          116.39723,
          -38.51083,
          101.68653,
          96.15611,
          -62.08266,
          146.80569,
          -89.18718,
          -47.64917,
          -77.02824,
          -82.38304,
          -64.74698,
          101.44333,
          121.0509,
          72.88261,
          73.85535,
          105.84117,
          77.23149,
          -88.19756,
          -89.13989,
          12.51133,
          126.9784,
          -99.12766,
          106.84513,
          -71.60746,
          150.50595,
          -87.20681,
          -43.93778,
          121.12251,
          120.93851,
          121.16528,
          101.60671,
          78.45636,
          171.38027,
          -73.62664,
          -78.9602,
          77.22445,
          75.83907,
          103.7578,
          109.19432,
          120.0297,
          122.95,
          -52.09861,
          -49.22417,
          -96.1429,
          103.85007,
          113.99163,
          -46.33361,
          -89.91898,
          -61.38878,
          -82.18494,
          14.26811,
          125.61278,
          -83.01654,
          -75.55795,
          -76.2348,
          2.70177,
          1.38617,
          -100.45029,
          -96.72365,
          104.91601,
          5.42244,
          -74.78132,
          4.47917,
          121.0614,
          105.4635,
          121.1061,
          -35.20944,
          101.16056,
          -75.39778,
          110.33333,
          145.00279,
          -40.51372,
          102.78589,
          6.76516,
          121.0897,
          -69.40814,
          -38.54306,
          149.10018,
          79.82979,
          -73.25383,
          144.96332,
          -80.91039,
          -59.78832,
          4.34878,
          -34.85528,
          75.7804,
          6.93093,
          111.81667,
          120.8147,
          -99.51639,
          -81.23304,
          -78.52495,
          122.07389,
          77.53601,
          -49.22417,
          120.9192,
          -98.28835,
          80.27847,
          -75.52626,
          102.10447,
          -35.45028,
          -3.19648,
          -48.445,
          -88.76667,
          -60.025,
          -75.19349,
          99.52153,
          -115.45446,
          -89.10944,
          104.52085,
          4.84671,
          -0.46632,
          -76.12234,
          -80.45445,
          120.87694,
          -65.30196
         ],
         "marker": {
          "color": [
           2,
           2,
           1,
           1,
           2,
           1,
           2,
           1,
           1,
           2,
           1,
           1,
           2,
           1,
           2,
           2,
           2,
           2,
           2,
           1,
           1,
           1,
           1,
           1,
           1,
           2,
           2,
           0,
           1,
           2,
           1,
           2,
           1,
           2,
           2,
           1,
           1,
           1,
           1,
           1,
           1,
           2,
           2,
           1,
           1,
           1,
           1,
           1,
           1,
           2,
           2,
           2,
           1,
           1,
           2,
           2,
           2,
           2,
           0,
           1,
           2,
           2,
           2,
           0,
           0,
           2,
           2,
           1,
           0,
           2,
           0,
           1,
           1,
           1,
           2,
           1,
           2,
           1,
           1,
           2,
           1,
           0,
           1,
           2,
           2,
           1,
           1,
           2,
           1,
           2,
           2,
           0,
           2,
           1,
           0,
           1,
           1,
           2,
           2,
           2,
           1,
           1,
           2,
           1,
           2,
           1,
           2,
           1,
           2,
           0,
           2,
           2,
           2,
           2,
           1,
           2,
           2,
           1,
           0,
           0,
           2,
           2,
           1,
           2
          ],
          "coloraxis": "coloraxis",
          "symbol": "circle"
         },
         "mode": "markers",
         "name": "",
         "showlegend": false,
         "type": "scattergeo"
        }
       ],
       "layout": {
        "geo": {
         "center": {},
         "domain": {
          "x": [
           0,
           1
          ],
          "y": [
           0,
           1
          ]
         },
         "projection": {
          "type": "robinson"
         },
         "showcountries": true
        },
        "legend": {
         "tracegroupgap": 0
        },
        "template": {
         "data": {
          "bar": [
           {
            "error_x": {
             "color": "#2a3f5f"
            },
            "error_y": {
             "color": "#2a3f5f"
            },
            "marker": {
             "line": {
              "color": "#E5ECF6",
              "width": 0.5
             },
             "pattern": {
              "fillmode": "overlay",
              "size": 10,
              "solidity": 0.2
             }
            },
            "type": "bar"
           }
          ],
          "barpolar": [
           {
            "marker": {
             "line": {
              "color": "#E5ECF6",
              "width": 0.5
             },
             "pattern": {
              "fillmode": "overlay",
              "size": 10,
              "solidity": 0.2
             }
            },
            "type": "barpolar"
           }
          ],
          "carpet": [
           {
            "aaxis": {
             "endlinecolor": "#2a3f5f",
             "gridcolor": "white",
             "linecolor": "white",
             "minorgridcolor": "white",
             "startlinecolor": "#2a3f5f"
            },
            "baxis": {
             "endlinecolor": "#2a3f5f",
             "gridcolor": "white",
             "linecolor": "white",
             "minorgridcolor": "white",
             "startlinecolor": "#2a3f5f"
            },
            "type": "carpet"
           }
          ],
          "choropleth": [
           {
            "colorbar": {
             "outlinewidth": 0,
             "ticks": ""
            },
            "type": "choropleth"
           }
          ],
          "contour": [
           {
            "colorbar": {
             "outlinewidth": 0,
             "ticks": ""
            },
            "colorscale": [
             [
              0,
              "#0d0887"
             ],
             [
              0.1111111111111111,
              "#46039f"
             ],
             [
              0.2222222222222222,
              "#7201a8"
             ],
             [
              0.3333333333333333,
              "#9c179e"
             ],
             [
              0.4444444444444444,
              "#bd3786"
             ],
             [
              0.5555555555555556,
              "#d8576b"
             ],
             [
              0.6666666666666666,
              "#ed7953"
             ],
             [
              0.7777777777777778,
              "#fb9f3a"
             ],
             [
              0.8888888888888888,
              "#fdca26"
             ],
             [
              1,
              "#f0f921"
             ]
            ],
            "type": "contour"
           }
          ],
          "contourcarpet": [
           {
            "colorbar": {
             "outlinewidth": 0,
             "ticks": ""
            },
            "type": "contourcarpet"
           }
          ],
          "heatmap": [
           {
            "colorbar": {
             "outlinewidth": 0,
             "ticks": ""
            },
            "colorscale": [
             [
              0,
              "#0d0887"
             ],
             [
              0.1111111111111111,
              "#46039f"
             ],
             [
              0.2222222222222222,
              "#7201a8"
             ],
             [
              0.3333333333333333,
              "#9c179e"
             ],
             [
              0.4444444444444444,
              "#bd3786"
             ],
             [
              0.5555555555555556,
              "#d8576b"
             ],
             [
              0.6666666666666666,
              "#ed7953"
             ],
             [
              0.7777777777777778,
              "#fb9f3a"
             ],
             [
              0.8888888888888888,
              "#fdca26"
             ],
             [
              1,
              "#f0f921"
             ]
            ],
            "type": "heatmap"
           }
          ],
          "heatmapgl": [
           {
            "colorbar": {
             "outlinewidth": 0,
             "ticks": ""
            },
            "colorscale": [
             [
              0,
              "#0d0887"
             ],
             [
              0.1111111111111111,
              "#46039f"
             ],
             [
              0.2222222222222222,
              "#7201a8"
             ],
             [
              0.3333333333333333,
              "#9c179e"
             ],
             [
              0.4444444444444444,
              "#bd3786"
             ],
             [
              0.5555555555555556,
              "#d8576b"
             ],
             [
              0.6666666666666666,
              "#ed7953"
             ],
             [
              0.7777777777777778,
              "#fb9f3a"
             ],
             [
              0.8888888888888888,
              "#fdca26"
             ],
             [
              1,
              "#f0f921"
             ]
            ],
            "type": "heatmapgl"
           }
          ],
          "histogram": [
           {
            "marker": {
             "pattern": {
              "fillmode": "overlay",
              "size": 10,
              "solidity": 0.2
             }
            },
            "type": "histogram"
           }
          ],
          "histogram2d": [
           {
            "colorbar": {
             "outlinewidth": 0,
             "ticks": ""
            },
            "colorscale": [
             [
              0,
              "#0d0887"
             ],
             [
              0.1111111111111111,
              "#46039f"
             ],
             [
              0.2222222222222222,
              "#7201a8"
             ],
             [
              0.3333333333333333,
              "#9c179e"
             ],
             [
              0.4444444444444444,
              "#bd3786"
             ],
             [
              0.5555555555555556,
              "#d8576b"
             ],
             [
              0.6666666666666666,
              "#ed7953"
             ],
             [
              0.7777777777777778,
              "#fb9f3a"
             ],
             [
              0.8888888888888888,
              "#fdca26"
             ],
             [
              1,
              "#f0f921"
             ]
            ],
            "type": "histogram2d"
           }
          ],
          "histogram2dcontour": [
           {
            "colorbar": {
             "outlinewidth": 0,
             "ticks": ""
            },
            "colorscale": [
             [
              0,
              "#0d0887"
             ],
             [
              0.1111111111111111,
              "#46039f"
             ],
             [
              0.2222222222222222,
              "#7201a8"
             ],
             [
              0.3333333333333333,
              "#9c179e"
             ],
             [
              0.4444444444444444,
              "#bd3786"
             ],
             [
              0.5555555555555556,
              "#d8576b"
             ],
             [
              0.6666666666666666,
              "#ed7953"
             ],
             [
              0.7777777777777778,
              "#fb9f3a"
             ],
             [
              0.8888888888888888,
              "#fdca26"
             ],
             [
              1,
              "#f0f921"
             ]
            ],
            "type": "histogram2dcontour"
           }
          ],
          "mesh3d": [
           {
            "colorbar": {
             "outlinewidth": 0,
             "ticks": ""
            },
            "type": "mesh3d"
           }
          ],
          "parcoords": [
           {
            "line": {
             "colorbar": {
              "outlinewidth": 0,
              "ticks": ""
             }
            },
            "type": "parcoords"
           }
          ],
          "pie": [
           {
            "automargin": true,
            "type": "pie"
           }
          ],
          "scatter": [
           {
            "fillpattern": {
             "fillmode": "overlay",
             "size": 10,
             "solidity": 0.2
            },
            "type": "scatter"
           }
          ],
          "scatter3d": [
           {
            "line": {
             "colorbar": {
              "outlinewidth": 0,
              "ticks": ""
             }
            },
            "marker": {
             "colorbar": {
              "outlinewidth": 0,
              "ticks": ""
             }
            },
            "type": "scatter3d"
           }
          ],
          "scattercarpet": [
           {
            "marker": {
             "colorbar": {
              "outlinewidth": 0,
              "ticks": ""
             }
            },
            "type": "scattercarpet"
           }
          ],
          "scattergeo": [
           {
            "marker": {
             "colorbar": {
              "outlinewidth": 0,
              "ticks": ""
             }
            },
            "type": "scattergeo"
           }
          ],
          "scattergl": [
           {
            "marker": {
             "colorbar": {
              "outlinewidth": 0,
              "ticks": ""
             }
            },
            "type": "scattergl"
           }
          ],
          "scattermapbox": [
           {
            "marker": {
             "colorbar": {
              "outlinewidth": 0,
              "ticks": ""
             }
            },
            "type": "scattermapbox"
           }
          ],
          "scatterpolar": [
           {
            "marker": {
             "colorbar": {
              "outlinewidth": 0,
              "ticks": ""
             }
            },
            "type": "scatterpolar"
           }
          ],
          "scatterpolargl": [
           {
            "marker": {
             "colorbar": {
              "outlinewidth": 0,
              "ticks": ""
             }
            },
            "type": "scatterpolargl"
           }
          ],
          "scatterternary": [
           {
            "marker": {
             "colorbar": {
              "outlinewidth": 0,
              "ticks": ""
             }
            },
            "type": "scatterternary"
           }
          ],
          "surface": [
           {
            "colorbar": {
             "outlinewidth": 0,
             "ticks": ""
            },
            "colorscale": [
             [
              0,
              "#0d0887"
             ],
             [
              0.1111111111111111,
              "#46039f"
             ],
             [
              0.2222222222222222,
              "#7201a8"
             ],
             [
              0.3333333333333333,
              "#9c179e"
             ],
             [
              0.4444444444444444,
              "#bd3786"
             ],
             [
              0.5555555555555556,
              "#d8576b"
             ],
             [
              0.6666666666666666,
              "#ed7953"
             ],
             [
              0.7777777777777778,
              "#fb9f3a"
             ],
             [
              0.8888888888888888,
              "#fdca26"
             ],
             [
              1,
              "#f0f921"
             ]
            ],
            "type": "surface"
           }
          ],
          "table": [
           {
            "cells": {
             "fill": {
              "color": "#EBF0F8"
             },
             "line": {
              "color": "white"
             }
            },
            "header": {
             "fill": {
              "color": "#C8D4E3"
             },
             "line": {
              "color": "white"
             }
            },
            "type": "table"
           }
          ]
         },
         "layout": {
          "annotationdefaults": {
           "arrowcolor": "#2a3f5f",
           "arrowhead": 0,
           "arrowwidth": 1
          },
          "autotypenumbers": "strict",
          "coloraxis": {
           "colorbar": {
            "outlinewidth": 0,
            "ticks": ""
           }
          },
          "colorscale": {
           "diverging": [
            [
             0,
             "#8e0152"
            ],
            [
             0.1,
             "#c51b7d"
            ],
            [
             0.2,
             "#de77ae"
            ],
            [
             0.3,
             "#f1b6da"
            ],
            [
             0.4,
             "#fde0ef"
            ],
            [
             0.5,
             "#f7f7f7"
            ],
            [
             0.6,
             "#e6f5d0"
            ],
            [
             0.7,
             "#b8e186"
            ],
            [
             0.8,
             "#7fbc41"
            ],
            [
             0.9,
             "#4d9221"
            ],
            [
             1,
             "#276419"
            ]
           ],
           "sequential": [
            [
             0,
             "#0d0887"
            ],
            [
             0.1111111111111111,
             "#46039f"
            ],
            [
             0.2222222222222222,
             "#7201a8"
            ],
            [
             0.3333333333333333,
             "#9c179e"
            ],
            [
             0.4444444444444444,
             "#bd3786"
            ],
            [
             0.5555555555555556,
             "#d8576b"
            ],
            [
             0.6666666666666666,
             "#ed7953"
            ],
            [
             0.7777777777777778,
             "#fb9f3a"
            ],
            [
             0.8888888888888888,
             "#fdca26"
            ],
            [
             1,
             "#f0f921"
            ]
           ],
           "sequentialminus": [
            [
             0,
             "#0d0887"
            ],
            [
             0.1111111111111111,
             "#46039f"
            ],
            [
             0.2222222222222222,
             "#7201a8"
            ],
            [
             0.3333333333333333,
             "#9c179e"
            ],
            [
             0.4444444444444444,
             "#bd3786"
            ],
            [
             0.5555555555555556,
             "#d8576b"
            ],
            [
             0.6666666666666666,
             "#ed7953"
            ],
            [
             0.7777777777777778,
             "#fb9f3a"
            ],
            [
             0.8888888888888888,
             "#fdca26"
            ],
            [
             1,
             "#f0f921"
            ]
           ]
          },
          "colorway": [
           "#636efa",
           "#EF553B",
           "#00cc96",
           "#ab63fa",
           "#FFA15A",
           "#19d3f3",
           "#FF6692",
           "#B6E880",
           "#FF97FF",
           "#FECB52"
          ],
          "font": {
           "color": "#2a3f5f"
          },
          "geo": {
           "bgcolor": "white",
           "lakecolor": "white",
           "landcolor": "#E5ECF6",
           "showlakes": true,
           "showland": true,
           "subunitcolor": "white"
          },
          "hoverlabel": {
           "align": "left"
          },
          "hovermode": "closest",
          "mapbox": {
           "style": "light"
          },
          "paper_bgcolor": "white",
          "plot_bgcolor": "#E5ECF6",
          "polar": {
           "angularaxis": {
            "gridcolor": "white",
            "linecolor": "white",
            "ticks": ""
           },
           "bgcolor": "#E5ECF6",
           "radialaxis": {
            "gridcolor": "white",
            "linecolor": "white",
            "ticks": ""
           }
          },
          "scene": {
           "xaxis": {
            "backgroundcolor": "#E5ECF6",
            "gridcolor": "white",
            "gridwidth": 2,
            "linecolor": "white",
            "showbackground": true,
            "ticks": "",
            "zerolinecolor": "white"
           },
           "yaxis": {
            "backgroundcolor": "#E5ECF6",
            "gridcolor": "white",
            "gridwidth": 2,
            "linecolor": "white",
            "showbackground": true,
            "ticks": "",
            "zerolinecolor": "white"
           },
           "zaxis": {
            "backgroundcolor": "#E5ECF6",
            "gridcolor": "white",
            "gridwidth": 2,
            "linecolor": "white",
            "showbackground": true,
            "ticks": "",
            "zerolinecolor": "white"
           }
          },
          "shapedefaults": {
           "line": {
            "color": "#2a3f5f"
           }
          },
          "ternary": {
           "aaxis": {
            "gridcolor": "white",
            "linecolor": "white",
            "ticks": ""
           },
           "baxis": {
            "gridcolor": "white",
            "linecolor": "white",
            "ticks": ""
           },
           "bgcolor": "#E5ECF6",
           "caxis": {
            "gridcolor": "white",
            "linecolor": "white",
            "ticks": ""
           }
          },
          "title": {
           "x": 0.05
          },
          "xaxis": {
           "automargin": true,
           "gridcolor": "white",
           "linecolor": "white",
           "ticks": "",
           "title": {
            "standoff": 15
           },
           "zerolinecolor": "white",
           "zerolinewidth": 2
          },
          "yaxis": {
           "automargin": true,
           "gridcolor": "white",
           "linecolor": "white",
           "ticks": "",
           "title": {
            "standoff": 15
           },
           "zerolinecolor": "white",
           "zerolinewidth": 2
          }
         }
        },
        "title": {
         "text": "Mad Cow and Zika headlines in the World (Without US)"
        }
       }
      },
      "text/html": [
       "<div>                            <div id=\"d52b9b9f-e262-408b-859e-ad502069c1be\" class=\"plotly-graph-div\" style=\"height:525px; width:100%;\"></div>            <script type=\"text/javascript\">                require([\"plotly\"], function(Plotly) {                    window.PLOTLYENV=window.PLOTLYENV || {};                                    if (document.getElementById(\"d52b9b9f-e262-408b-859e-ad502069c1be\")) {                    Plotly.newPlot(                        \"d52b9b9f-e262-408b-859e-ad502069c1be\",                        [{\"geo\":\"geo\",\"hovertemplate\":\"\\u003cextra\\u003e\\u003c\\u002fextra\\u003e\",\"legendgroup\":\"\",\"marker\":{\"color\":\"#636efa\",\"symbol\":\"circle\"},\"mode\":\"markers\",\"name\":\"\",\"showlegend\":false,\"type\":\"scattergeo\"},{\"geo\":\"geo\",\"hovertemplate\":\"\\u003cb\\u003e%{hovertext}\\u003c\\u002fb\\u003e\\u003cbr\\u003e\\u003cbr\\u003elatitude=%{lat}\\u003cbr\\u003elongitude=%{lon}\\u003cextra\\u003e\\u003c\\u002fextra\\u003e\",\"hovertext\":[\"Cluster Center\",\"Cluster Center\",\"Cluster Center\"],\"lat\":[49.5764975,9.373693090909091,2.6261401754385956],\"legendgroup\":\"\",\"lon\":[4.999814166666667,110.15514145454546,-71.94100263157893],\"marker\":{\"color\":\"#636efa\",\"symbol\":\"diamond\",\"size\":12},\"mode\":\"markers\",\"name\":\"\",\"showlegend\":false,\"type\":\"scattergeo\"},{\"geo\":\"geo\",\"hovertemplate\":\"\\u003cb\\u003e%{hovertext}\\u003c\\u002fb\\u003e\\u003cbr\\u003e\\u003cbr\\u003elatitude=%{lat}\\u003cbr\\u003elongitude=%{lon}\\u003cbr\\u003ecluster_kmeans=%{marker.color}\\u003cextra\\u003e\\u003c\\u002fextra\\u003e\",\"hovertext\":[\"Trinidad confirms first Zika case\",\"San Juan reports 1st U.S. Zika-related death amid outbreak\",\"Zika alert aEUR\\\" Manila now threatened\",\"Zika afflicts 7 in Iloilo City\",\"London Health Unit Tracks Mad Cow Disease\",\"Zika cases in Vietnam's Ho Chi Minh City surge\",\"Key Zika Findings in San Diego Institute\",\"Thailand-Zika Virus in Bangkok\",\"Beijing team cracks Zika secret\",\"Zika spreading to Salvador\",\"Kuala Lumpur is Hit By Zika Threat\",\"First Zika case confirmed in Yangon\",\"Zika Virus Reaches San Francisco\",\"Townsville Zika tests inconclusive\",\"Zika worries in San Salvador\",\"Zika outbreak in Piracicaba, Brazil\",\"Lima tries to address Zika Concerns\",\"Zika Virus Transmission Detected in Havana\",\"Saint Croix under Zika threat\",\"Zika surfaces in Klang, Malaysia\",\"More Quezon City Zika Transmissions\",\"Mumbai's Health Minister warns of more Zika cases\",\"Pune woman diagnosed with Zika\",\"Hospitals in Hanoi fill up with Zika patients\",\"Zika: Delhi for strict monitoring\",\"Belize City under threat from Zika\",\"More Zika cases in Soyapango\",\"Authorities are Worried about the Spread of Mad Cow Disease in Rome\",\"Seoul confirms 14th Zika infection\",\"Zika outbreak spreads to Mexico City\",\"Zika now spreading through Jakarta\",\"Zika San Antonio Patient Speaks Out\",\"Precautionary Zika measures in Rockhampton\",\"Zika arrives in Tegucigalpa\",\"New Zika Case Confirmed in Belo Horizonte\",\"Antipolo under threat from Zika Virus\",\"Spreading Zika reaches Bacoor\",\"Zika afflicts patient in Calamba\",\"Petaling Jaya man ill from Zika\",\"Zika Outbreak in Hyderabad\",\"Is Zika virus in Majuro?\",\"Villavicencio under Zika threat\",\"Two more Zika cases confirmed in Laredo\",\"New Delhi Addressing Zika Concerns\",\"New Zika Case in Kota Kinabalu, Malaysia\",\"Zika reaches Johor Bahru, Malaysia\",\"Nha Trang Zika Outbreak\",\"19 new Zika Cases in Sengkang\",\"Outbreak of Zika in Bacolod City\",\"Zika alert for Rio Grande Valley residents\",\"Zika symptoms spotted in Colombo\",\"Veracruz hit by Zika Concerns\",\"Zika cases in Singapore reach 393\",\"Zika arrives in Miri\",\"Zika arrives in Santos\",\"Zika arrives in San Benito\",\"Zika case recorded in Tunapuna A\\u003e\\u003e\",\"Mad Cow Disease Re-emerges in Chatham\",\"Mad Cow Disease Hits Naples\",\"More Zika patients reported in Davao\",\"Tests negative on Windsor Zika carriers\",\"Zika symptoms spotted in Bello\",\"Zika Mosquitoes May Have Bred in Bromeliads, Florida Officials Say\",\"More Livestock in Fontainebleau are infected with Mad Cow Disease\",\"Mad Cow Disease Spreads to Margate\",\"Four cases of Zika in Hidalgo County\",\"Zika arrives in Oaxaca\",\"Phnom Penh hit by Zika Threat\",\"Zika Troubles come to Harlingen\",\"Zika spreads to Barranquilla\",\"Mad Cow Disease Hits Rotterdam\",\"Outbreak of Zika in Pasig City\",\"Zika Troubles come to Kampong Cham\",\"Zika case reported in Rizal\",\"Zika arrives in Natal\",\"Zika case reported in Phetchabun\",\"Zika Outbreak in Sincelejo\",\"Zika spreads to Kuching\",\"Rumors about Mad Cow Disease Brighton have been Refuted\",\"Zika case reported in Jacobina\",\"Zika arrives in Udon Thani\",\"Duisburg up in Arms over Mad Cow Disease\",\"More Zika patients reported in Calumpang\",\"Zika symptoms spotted in Quisqueya\",\"Zika symptoms spotted in Fortaleza\",\"Zika arrives in Orange City\",\"Zika Outbreak in Puducherry\",\"Zika symptoms spotted in Iquitos\",\"More Zika patients reported in Melbourne\",\"Zika Troubles come to La Libertad\",\"Outbreak of Zika in Santa Elena\",\"Mad Cow Disease Disastrous to Brussels\",\"Zika spreads to Olinda\",\"Outbreak of Zika in Kozhikode\",\"Case of Mad Cow Disease Reported in Hilden\",\"Zika symptoms spotted in Sibu\",\"Zika arrives in Quezon\",\"More Zika patients reported in Nuevo Laredo\",\"Mad Cow Disease Hits London\",\"Zika symptoms spotted in Quito\",\"Sulu, Zamboanga brace for Zika\",\"Zika Troubles come to Greater Noida\",\"Outbreak of Zika in Colombo\",\"Zika Troubles come to Jaen\",\"Zika case reported in Reynosa\",\"More Zika patients reported in Chennai\",\"Zika arrives in San Onofre\",\"More Zika patients reported in Chanthaburi\",\"Zika case reported in Limoeiro\",\"Authorities are Worried about the Spread of Mad Cow Disease in Edinburgh\",\"More Zika patients reported in Botucatu\",\"Zika arrives in Belmopan\",\"Zika Outbreak in Manaus\",\"Zika spreads to Caucasia\",\"Zika spreads to Kamphaeng Phet\",\"Zika Outbreak in Mexicali\",\"Zika Reported in Ilopango\",\"More Zika patients reported in Kampong Speu\",\"Mad Cow Disease Detected in Lyon\",\"Mad Cow Disease re-emerges in Bedford\",\"Zika Outbreak in Yurimaguas\",\"Outbreak of Zika in Portoviejo\",\"More Zika patients reported in Indang\",\"More Zika patients reported in Bella Vista\"],\"lat\":[-14.83333,-31.5375,14.6042,10.69694,42.98339,10.82302,9.89898,13.75398,39.9075,-12.97111,3.1412,16.80528,-31.42797,-19.26639,13.68935,-22.72528,-12.04318,23.13302,17.72751,3.03667,14.6488,19.07283,18.51957,21.0245,28.65195,17.49952,13.71024,41.89193,37.566,19.42847,-6.21462,-33.59473,-23.38032,14.0818,-19.92083,14.62578,14.45896,14.21167,3.10726,17.38405,7.08971,4.142,-8.08965,28.63576,25.18254,1.4655,12.24507,-4.1279,10.66667,-32.035,-25.29167,19.18095,1.28967,4.39928,-23.96083,16.91675,10.65245,42.41224,40.85216,7.07306,42.30008,6.33732,3.3223,48.40908,51.38132,25.97205,17.06542,11.56245,53.17477,10.96854,51.9225,14.58691,11.99339,15.7118,-5.795,16.41904,9.30472,1.55,-37.90561,-11.18143,17.41567,51.43247,14.6228,18.55542,-3.71722,-33.28397,11.93381,-3.74912,-37.814,-2.233,-30.94432,50.85045,-8.00889,11.24802,51.16818,2.3,15.5512,27.47629,42.98339,-0.22985,6.91028,28.49615,-25.29167,15.3275,26.08061,13.08784,9.73586,12.60961,-7.87472,55.95206,-22.88583,17.25,-3.10194,7.98654,16.48344,32.62781,13.70167,11.45332,45.74846,52.13459,-5.90181,-1.05458,14.19528,-27.03424],\"legendgroup\":\"\",\"lon\":[-64.9,-68.53639,120.9822,122.56444,-81.23304,106.62965,-84.00287,100.50144,116.39723,-38.51083,101.68653,96.15611,-62.08266,146.80569,-89.18718,-47.64917,-77.02824,-82.38304,-64.74698,101.44333,121.0509,72.88261,73.85535,105.84117,77.23149,-88.19756,-89.13989,12.51133,126.9784,-99.12766,106.84513,-71.60746,150.50595,-87.20681,-43.93778,121.12251,120.93851,121.16528,101.60671,78.45636,171.38027,-73.62664,-78.9602,77.22445,75.83907,103.7578,109.19432,120.0297,122.95,-52.09861,-49.22417,-96.1429,103.85007,113.99163,-46.33361,-89.91898,-61.38878,-82.18494,14.26811,125.61278,-83.01654,-75.55795,-76.2348,2.70177,1.38617,-100.45029,-96.72365,104.91601,5.42244,-74.78132,4.47917,121.0614,105.4635,121.1061,-35.20944,101.16056,-75.39778,110.33333,145.00279,-40.51372,102.78589,6.76516,121.0897,-69.40814,-38.54306,149.10018,79.82979,-73.25383,144.96332,-80.91039,-59.78832,4.34878,-34.85528,75.7804,6.93093,111.81667,120.8147,-99.51639,-81.23304,-78.52495,122.07389,77.53601,-49.22417,120.9192,-98.28835,80.27847,-75.52626,102.10447,-35.45028,-3.19648,-48.445,-88.76667,-60.025,-75.19349,99.52153,-115.45446,-89.10944,104.52085,4.84671,-0.46632,-76.12234,-80.45445,120.87694,-65.30196],\"marker\":{\"color\":[2,2,1,1,2,1,2,1,1,2,1,1,2,1,2,2,2,2,2,1,1,1,1,1,1,2,2,0,1,2,1,2,1,2,2,1,1,1,1,1,1,2,2,1,1,1,1,1,1,2,2,2,1,1,2,2,2,2,0,1,2,2,2,0,0,2,2,1,0,2,0,1,1,1,2,1,2,1,1,2,1,0,1,2,2,1,1,2,1,2,2,0,2,1,0,1,1,2,2,2,1,1,2,1,2,1,2,1,2,0,2,2,2,2,1,2,2,1,0,0,2,2,1,2],\"coloraxis\":\"coloraxis\",\"symbol\":\"circle\"},\"mode\":\"markers\",\"name\":\"\",\"showlegend\":false,\"type\":\"scattergeo\"}],                        {\"template\":{\"data\":{\"histogram2dcontour\":[{\"type\":\"histogram2dcontour\",\"colorbar\":{\"outlinewidth\":0,\"ticks\":\"\"},\"colorscale\":[[0.0,\"#0d0887\"],[0.1111111111111111,\"#46039f\"],[0.2222222222222222,\"#7201a8\"],[0.3333333333333333,\"#9c179e\"],[0.4444444444444444,\"#bd3786\"],[0.5555555555555556,\"#d8576b\"],[0.6666666666666666,\"#ed7953\"],[0.7777777777777778,\"#fb9f3a\"],[0.8888888888888888,\"#fdca26\"],[1.0,\"#f0f921\"]]}],\"choropleth\":[{\"type\":\"choropleth\",\"colorbar\":{\"outlinewidth\":0,\"ticks\":\"\"}}],\"histogram2d\":[{\"type\":\"histogram2d\",\"colorbar\":{\"outlinewidth\":0,\"ticks\":\"\"},\"colorscale\":[[0.0,\"#0d0887\"],[0.1111111111111111,\"#46039f\"],[0.2222222222222222,\"#7201a8\"],[0.3333333333333333,\"#9c179e\"],[0.4444444444444444,\"#bd3786\"],[0.5555555555555556,\"#d8576b\"],[0.6666666666666666,\"#ed7953\"],[0.7777777777777778,\"#fb9f3a\"],[0.8888888888888888,\"#fdca26\"],[1.0,\"#f0f921\"]]}],\"heatmap\":[{\"type\":\"heatmap\",\"colorbar\":{\"outlinewidth\":0,\"ticks\":\"\"},\"colorscale\":[[0.0,\"#0d0887\"],[0.1111111111111111,\"#46039f\"],[0.2222222222222222,\"#7201a8\"],[0.3333333333333333,\"#9c179e\"],[0.4444444444444444,\"#bd3786\"],[0.5555555555555556,\"#d8576b\"],[0.6666666666666666,\"#ed7953\"],[0.7777777777777778,\"#fb9f3a\"],[0.8888888888888888,\"#fdca26\"],[1.0,\"#f0f921\"]]}],\"heatmapgl\":[{\"type\":\"heatmapgl\",\"colorbar\":{\"outlinewidth\":0,\"ticks\":\"\"},\"colorscale\":[[0.0,\"#0d0887\"],[0.1111111111111111,\"#46039f\"],[0.2222222222222222,\"#7201a8\"],[0.3333333333333333,\"#9c179e\"],[0.4444444444444444,\"#bd3786\"],[0.5555555555555556,\"#d8576b\"],[0.6666666666666666,\"#ed7953\"],[0.7777777777777778,\"#fb9f3a\"],[0.8888888888888888,\"#fdca26\"],[1.0,\"#f0f921\"]]}],\"contourcarpet\":[{\"type\":\"contourcarpet\",\"colorbar\":{\"outlinewidth\":0,\"ticks\":\"\"}}],\"contour\":[{\"type\":\"contour\",\"colorbar\":{\"outlinewidth\":0,\"ticks\":\"\"},\"colorscale\":[[0.0,\"#0d0887\"],[0.1111111111111111,\"#46039f\"],[0.2222222222222222,\"#7201a8\"],[0.3333333333333333,\"#9c179e\"],[0.4444444444444444,\"#bd3786\"],[0.5555555555555556,\"#d8576b\"],[0.6666666666666666,\"#ed7953\"],[0.7777777777777778,\"#fb9f3a\"],[0.8888888888888888,\"#fdca26\"],[1.0,\"#f0f921\"]]}],\"surface\":[{\"type\":\"surface\",\"colorbar\":{\"outlinewidth\":0,\"ticks\":\"\"},\"colorscale\":[[0.0,\"#0d0887\"],[0.1111111111111111,\"#46039f\"],[0.2222222222222222,\"#7201a8\"],[0.3333333333333333,\"#9c179e\"],[0.4444444444444444,\"#bd3786\"],[0.5555555555555556,\"#d8576b\"],[0.6666666666666666,\"#ed7953\"],[0.7777777777777778,\"#fb9f3a\"],[0.8888888888888888,\"#fdca26\"],[1.0,\"#f0f921\"]]}],\"mesh3d\":[{\"type\":\"mesh3d\",\"colorbar\":{\"outlinewidth\":0,\"ticks\":\"\"}}],\"scatter\":[{\"fillpattern\":{\"fillmode\":\"overlay\",\"size\":10,\"solidity\":0.2},\"type\":\"scatter\"}],\"parcoords\":[{\"type\":\"parcoords\",\"line\":{\"colorbar\":{\"outlinewidth\":0,\"ticks\":\"\"}}}],\"scatterpolargl\":[{\"type\":\"scatterpolargl\",\"marker\":{\"colorbar\":{\"outlinewidth\":0,\"ticks\":\"\"}}}],\"bar\":[{\"error_x\":{\"color\":\"#2a3f5f\"},\"error_y\":{\"color\":\"#2a3f5f\"},\"marker\":{\"line\":{\"color\":\"#E5ECF6\",\"width\":0.5},\"pattern\":{\"fillmode\":\"overlay\",\"size\":10,\"solidity\":0.2}},\"type\":\"bar\"}],\"scattergeo\":[{\"type\":\"scattergeo\",\"marker\":{\"colorbar\":{\"outlinewidth\":0,\"ticks\":\"\"}}}],\"scatterpolar\":[{\"type\":\"scatterpolar\",\"marker\":{\"colorbar\":{\"outlinewidth\":0,\"ticks\":\"\"}}}],\"histogram\":[{\"marker\":{\"pattern\":{\"fillmode\":\"overlay\",\"size\":10,\"solidity\":0.2}},\"type\":\"histogram\"}],\"scattergl\":[{\"type\":\"scattergl\",\"marker\":{\"colorbar\":{\"outlinewidth\":0,\"ticks\":\"\"}}}],\"scatter3d\":[{\"type\":\"scatter3d\",\"line\":{\"colorbar\":{\"outlinewidth\":0,\"ticks\":\"\"}},\"marker\":{\"colorbar\":{\"outlinewidth\":0,\"ticks\":\"\"}}}],\"scattermapbox\":[{\"type\":\"scattermapbox\",\"marker\":{\"colorbar\":{\"outlinewidth\":0,\"ticks\":\"\"}}}],\"scatterternary\":[{\"type\":\"scatterternary\",\"marker\":{\"colorbar\":{\"outlinewidth\":0,\"ticks\":\"\"}}}],\"scattercarpet\":[{\"type\":\"scattercarpet\",\"marker\":{\"colorbar\":{\"outlinewidth\":0,\"ticks\":\"\"}}}],\"carpet\":[{\"aaxis\":{\"endlinecolor\":\"#2a3f5f\",\"gridcolor\":\"white\",\"linecolor\":\"white\",\"minorgridcolor\":\"white\",\"startlinecolor\":\"#2a3f5f\"},\"baxis\":{\"endlinecolor\":\"#2a3f5f\",\"gridcolor\":\"white\",\"linecolor\":\"white\",\"minorgridcolor\":\"white\",\"startlinecolor\":\"#2a3f5f\"},\"type\":\"carpet\"}],\"table\":[{\"cells\":{\"fill\":{\"color\":\"#EBF0F8\"},\"line\":{\"color\":\"white\"}},\"header\":{\"fill\":{\"color\":\"#C8D4E3\"},\"line\":{\"color\":\"white\"}},\"type\":\"table\"}],\"barpolar\":[{\"marker\":{\"line\":{\"color\":\"#E5ECF6\",\"width\":0.5},\"pattern\":{\"fillmode\":\"overlay\",\"size\":10,\"solidity\":0.2}},\"type\":\"barpolar\"}],\"pie\":[{\"automargin\":true,\"type\":\"pie\"}]},\"layout\":{\"autotypenumbers\":\"strict\",\"colorway\":[\"#636efa\",\"#EF553B\",\"#00cc96\",\"#ab63fa\",\"#FFA15A\",\"#19d3f3\",\"#FF6692\",\"#B6E880\",\"#FF97FF\",\"#FECB52\"],\"font\":{\"color\":\"#2a3f5f\"},\"hovermode\":\"closest\",\"hoverlabel\":{\"align\":\"left\"},\"paper_bgcolor\":\"white\",\"plot_bgcolor\":\"#E5ECF6\",\"polar\":{\"bgcolor\":\"#E5ECF6\",\"angularaxis\":{\"gridcolor\":\"white\",\"linecolor\":\"white\",\"ticks\":\"\"},\"radialaxis\":{\"gridcolor\":\"white\",\"linecolor\":\"white\",\"ticks\":\"\"}},\"ternary\":{\"bgcolor\":\"#E5ECF6\",\"aaxis\":{\"gridcolor\":\"white\",\"linecolor\":\"white\",\"ticks\":\"\"},\"baxis\":{\"gridcolor\":\"white\",\"linecolor\":\"white\",\"ticks\":\"\"},\"caxis\":{\"gridcolor\":\"white\",\"linecolor\":\"white\",\"ticks\":\"\"}},\"coloraxis\":{\"colorbar\":{\"outlinewidth\":0,\"ticks\":\"\"}},\"colorscale\":{\"sequential\":[[0.0,\"#0d0887\"],[0.1111111111111111,\"#46039f\"],[0.2222222222222222,\"#7201a8\"],[0.3333333333333333,\"#9c179e\"],[0.4444444444444444,\"#bd3786\"],[0.5555555555555556,\"#d8576b\"],[0.6666666666666666,\"#ed7953\"],[0.7777777777777778,\"#fb9f3a\"],[0.8888888888888888,\"#fdca26\"],[1.0,\"#f0f921\"]],\"sequentialminus\":[[0.0,\"#0d0887\"],[0.1111111111111111,\"#46039f\"],[0.2222222222222222,\"#7201a8\"],[0.3333333333333333,\"#9c179e\"],[0.4444444444444444,\"#bd3786\"],[0.5555555555555556,\"#d8576b\"],[0.6666666666666666,\"#ed7953\"],[0.7777777777777778,\"#fb9f3a\"],[0.8888888888888888,\"#fdca26\"],[1.0,\"#f0f921\"]],\"diverging\":[[0,\"#8e0152\"],[0.1,\"#c51b7d\"],[0.2,\"#de77ae\"],[0.3,\"#f1b6da\"],[0.4,\"#fde0ef\"],[0.5,\"#f7f7f7\"],[0.6,\"#e6f5d0\"],[0.7,\"#b8e186\"],[0.8,\"#7fbc41\"],[0.9,\"#4d9221\"],[1,\"#276419\"]]},\"xaxis\":{\"gridcolor\":\"white\",\"linecolor\":\"white\",\"ticks\":\"\",\"title\":{\"standoff\":15},\"zerolinecolor\":\"white\",\"automargin\":true,\"zerolinewidth\":2},\"yaxis\":{\"gridcolor\":\"white\",\"linecolor\":\"white\",\"ticks\":\"\",\"title\":{\"standoff\":15},\"zerolinecolor\":\"white\",\"automargin\":true,\"zerolinewidth\":2},\"scene\":{\"xaxis\":{\"backgroundcolor\":\"#E5ECF6\",\"gridcolor\":\"white\",\"linecolor\":\"white\",\"showbackground\":true,\"ticks\":\"\",\"zerolinecolor\":\"white\",\"gridwidth\":2},\"yaxis\":{\"backgroundcolor\":\"#E5ECF6\",\"gridcolor\":\"white\",\"linecolor\":\"white\",\"showbackground\":true,\"ticks\":\"\",\"zerolinecolor\":\"white\",\"gridwidth\":2},\"zaxis\":{\"backgroundcolor\":\"#E5ECF6\",\"gridcolor\":\"white\",\"linecolor\":\"white\",\"showbackground\":true,\"ticks\":\"\",\"zerolinecolor\":\"white\",\"gridwidth\":2}},\"shapedefaults\":{\"line\":{\"color\":\"#2a3f5f\"}},\"annotationdefaults\":{\"arrowcolor\":\"#2a3f5f\",\"arrowhead\":0,\"arrowwidth\":1},\"geo\":{\"bgcolor\":\"white\",\"landcolor\":\"#E5ECF6\",\"subunitcolor\":\"white\",\"showland\":true,\"showlakes\":true,\"lakecolor\":\"white\"},\"title\":{\"x\":0.05},\"mapbox\":{\"style\":\"light\"}}},\"geo\":{\"domain\":{\"x\":[0.0,1.0],\"y\":[0.0,1.0]},\"center\":{},\"projection\":{\"type\":\"robinson\"},\"showcountries\":true},\"legend\":{\"tracegroupgap\":0},\"title\":{\"text\":\"Mad Cow and Zika headlines in the World (Without US)\"}},                        {\"responsive\": true}                    ).then(function(){\n",
       "                            \n",
       "var gd = document.getElementById('d52b9b9f-e262-408b-859e-ad502069c1be');\n",
       "var x = new MutationObserver(function (mutations, observer) {{\n",
       "        var display = window.getComputedStyle(gd).display;\n",
       "        if (!display || display === 'none') {{\n",
       "            console.log([gd, 'removed!']);\n",
       "            Plotly.purge(gd);\n",
       "            observer.disconnect();\n",
       "        }}\n",
       "}});\n",
       "\n",
       "// Listen for the removal of the full notebook cells\n",
       "var notebookContainer = gd.closest('#notebook-container');\n",
       "if (notebookContainer) {{\n",
       "    x.observe(notebookContainer, {childList: true});\n",
       "}}\n",
       "\n",
       "// Listen for the clearing of the current output cell\n",
       "var outputEl = gd.closest('.output');\n",
       "if (outputEl) {{\n",
       "    x.observe(outputEl, {childList: true});\n",
       "}}\n",
       "\n",
       "                        })                };                });            </script>        </div>"
      ]
     },
     "metadata": {},
     "output_type": "display_data"
    },
    {
     "data": {
      "image/png": "[encoded data removed]",
      "text/plain": [
       "<Figure size 640x480 with 1 Axes>"
      ]
     },
     "metadata": {},
     "output_type": "display_data"
    }
   ],
   "source": [
    "for index, row in world_df.iterrows():\n",
    "    headline = row[\"headline\"]\n",
    "    relevant_headline = False\n",
    "    for disease in world_diseases:\n",
    "            if disease in headline:\n",
    "                relevant_headline = True\n",
    "    if not relevant_headline:\n",
    "        world_df.drop(index,0, inplace=True)\n",
    "cluster_df_world, world_df, world_centers = kmns(world_df,3)\n",
    "plotdf(world_df, world_centers, \"Mad Cow and Zika headlines in the World (Without US)\", \"robinson\", True)"
   ]
  },
  {
   "cell_type": "code",
   "execution_count": 94,
   "id": "ae129cb6",
   "metadata": {},
   "outputs": [
    {
     "data": {
      "application/vnd.plotly.v1+json": {
       "config": {
        "plotlyServerURL": "https://plot.ly"
       },
       "data": [
        {
         "geo": "geo",
         "hovertemplate": "<extra></extra>",
         "legendgroup": "",
         "marker": {
          "color": "#636efa",
          "symbol": "circle"
         },
         "mode": "markers",
         "name": "",
         "showlegend": false,
         "type": "scattergeo"
        },
        {
         "geo": "geo",
         "hovertemplate": "<b>%{hovertext}</b><br><br>latitude=%{lat}<br>longitude=%{lon}<extra></extra>",
         "hovertext": [
          "Cluster Center",
          "Cluster Center",
          "Cluster Center",
          "Cluster Center",
          "Cluster Center",
          "Cluster Center"
         ],
         "lat": [
          49.5764975,
          9.373693090909091,
          2.6261401754385956,
          29.77003648148148,
          38.98685666666667,
          32.99526521739131
         ],
         "legendgroup": "",
         "lon": [
          4.999814166666667,
          110.15514145454546,
          -71.94100263157893,
          -81.10284425925926,
          -117.57341166666667,
          -96.36721173913044
         ],
         "marker": {
          "color": "#636efa",
          "size": 12,
          "symbol": "diamond"
         },
         "mode": "markers",
         "name": "",
         "showlegend": false,
         "type": "scattergeo"
        },
        {
         "geo": "geo",
         "hovertemplate": "<b>%{hovertext}</b><br><br>latitude=%{lat}<br>longitude=%{lon}<br>cluster_kmeans=%{marker.color}<extra></extra>",
         "hovertext": [
          "Trinidad confirms first Zika case",
          "San Juan reports 1st U.S. Zika-related death amid outbreak",
          "Zika alert aEUR\" Manila now threatened",
          "Zika afflicts 7 in Iloilo City",
          "London Health Unit Tracks Mad Cow Disease",
          "Zika cases in Vietnam's Ho Chi Minh City surge",
          "Key Zika Findings in San Diego Institute",
          "Thailand-Zika Virus in Bangkok",
          "Beijing team cracks Zika secret",
          "Zika spreading to Salvador",
          "Kuala Lumpur is Hit By Zika Threat",
          "First Zika case confirmed in Yangon",
          "Zika Virus Reaches San Francisco",
          "Townsville Zika tests inconclusive",
          "Zika worries in San Salvador",
          "Zika outbreak in Piracicaba, Brazil",
          "Lima tries to address Zika Concerns",
          "Zika Virus Transmission Detected in Havana",
          "Saint Croix under Zika threat",
          "Zika surfaces in Klang, Malaysia",
          "More Quezon City Zika Transmissions",
          "Mumbai's Health Minister warns of more Zika cases",
          "Pune woman diagnosed with Zika",
          "Hospitals in Hanoi fill up with Zika patients",
          "Zika: Delhi for strict monitoring",
          "Belize City under threat from Zika",
          "More Zika cases in Soyapango",
          "Authorities are Worried about the Spread of Mad Cow Disease in Rome",
          "Seoul confirms 14th Zika infection",
          "Zika outbreak spreads to Mexico City",
          "Zika now spreading through Jakarta",
          "Zika San Antonio Patient Speaks Out",
          "Precautionary Zika measures in Rockhampton",
          "Zika arrives in Tegucigalpa",
          "New Zika Case Confirmed in Belo Horizonte",
          "Antipolo under threat from Zika Virus",
          "Spreading Zika reaches Bacoor",
          "Zika afflicts patient in Calamba",
          "Petaling Jaya man ill from Zika",
          "Zika Outbreak in Hyderabad",
          "Is Zika virus in Majuro?",
          "Villavicencio under Zika threat",
          "Two more Zika cases confirmed in Laredo",
          "New Delhi Addressing Zika Concerns",
          "New Zika Case in Kota Kinabalu, Malaysia",
          "Zika reaches Johor Bahru, Malaysia",
          "Nha Trang Zika Outbreak",
          "19 new Zika Cases in Sengkang",
          "Outbreak of Zika in Bacolod City",
          "Zika alert for Rio Grande Valley residents",
          "Zika symptoms spotted in Colombo",
          "Veracruz hit by Zika Concerns",
          "Zika cases in Singapore reach 393",
          "Zika arrives in Miri",
          "Zika arrives in Santos",
          "Zika arrives in San Benito",
          "Zika case recorded in Tunapuna A>>",
          "Mad Cow Disease Re-emerges in Chatham",
          "Mad Cow Disease Hits Naples",
          "More Zika patients reported in Davao",
          "Tests negative on Windsor Zika carriers",
          "Zika symptoms spotted in Bello",
          "Zika Mosquitoes May Have Bred in Bromeliads, Florida Officials Say",
          "More Livestock in Fontainebleau are infected with Mad Cow Disease",
          "Mad Cow Disease Spreads to Margate",
          "Four cases of Zika in Hidalgo County",
          "Zika arrives in Oaxaca",
          "Phnom Penh hit by Zika Threat",
          "Zika Troubles come to Harlingen",
          "Zika spreads to Barranquilla",
          "Mad Cow Disease Hits Rotterdam",
          "Outbreak of Zika in Pasig City",
          "Zika Troubles come to Kampong Cham",
          "Zika case reported in Rizal",
          "Zika arrives in Natal",
          "Zika case reported in Phetchabun",
          "Zika Outbreak in Sincelejo",
          "Zika spreads to Kuching",
          "Rumors about Mad Cow Disease Brighton have been Refuted",
          "Zika case reported in Jacobina",
          "Zika arrives in Udon Thani",
          "Duisburg up in Arms over Mad Cow Disease",
          "More Zika patients reported in Calumpang",
          "Zika symptoms spotted in Quisqueya",
          "Zika symptoms spotted in Fortaleza",
          "Zika arrives in Orange City",
          "Zika Outbreak in Puducherry",
          "Zika symptoms spotted in Iquitos",
          "More Zika patients reported in Melbourne",
          "Zika Troubles come to La Libertad",
          "Outbreak of Zika in Santa Elena",
          "Mad Cow Disease Disastrous to Brussels",
          "Zika spreads to Olinda",
          "Outbreak of Zika in Kozhikode",
          "Case of Mad Cow Disease Reported in Hilden",
          "Zika symptoms spotted in Sibu",
          "Zika arrives in Quezon",
          "More Zika patients reported in Nuevo Laredo",
          "Mad Cow Disease Hits London",
          "Zika symptoms spotted in Quito",
          "Sulu, Zamboanga brace for Zika",
          "Zika Troubles come to Greater Noida",
          "Outbreak of Zika in Colombo",
          "Zika Troubles come to Jaen",
          "Zika case reported in Reynosa",
          "More Zika patients reported in Chennai",
          "Zika arrives in San Onofre",
          "More Zika patients reported in Chanthaburi",
          "Zika case reported in Limoeiro",
          "Authorities are Worried about the Spread of Mad Cow Disease in Edinburgh",
          "More Zika patients reported in Botucatu",
          "Zika arrives in Belmopan",
          "Zika Outbreak in Manaus",
          "Zika spreads to Caucasia",
          "Zika spreads to Kamphaeng Phet",
          "Zika Outbreak in Mexicali",
          "Zika Reported in Ilopango",
          "More Zika patients reported in Kampong Speu",
          "Mad Cow Disease Detected in Lyon",
          "Mad Cow Disease re-emerges in Bedford",
          "Zika Outbreak in Yurimaguas",
          "Outbreak of Zika in Portoviejo",
          "More Zika patients reported in Indang",
          "More Zika patients reported in Bella Vista",
          "Zika Outbreak Hits Miami",
          "Could Zika Reach New York City?",
          "First Case of Zika in Miami Beach",
          "Dallas man comes down with case of Zika",
          "Zika Concerns are Spreading in Houston",
          "Brownsville teen contracts Zika virus",
          "Mosquito control efforts in St. Louis take new tactics with Zika threat",
          "Orlando volunteers aid Zika research",
          "Chicago's First Zika Case Confirmed",
          "Tampa Bay Area Zika Case Count Climbs",
          "Baltimore plans for Zika virus",
          "Tallahassee Doctors Discuss Zika Virus",
          "Zika virus reported in Cleveland",
          "More Zika patients reported in Austin",
          "Zika symtomps spotted in Key West",
          "Seattle scientists get $500,000 grant to pursue Zika vaccine New 7:50 pm",
          "Nashville takes precautions against Zika",
          "Madison lab developing vaccine against Zika virus [The Wisconsin State Journal]",
          "New Zika Case Confirmed in Sarasota County",
          "Jacksonville man hit by Zika",
          "El Paso fighting Zika",
          "First Columbus Zika case",
          "Zika Patient in Seminole, Florida",
          "Can Zika make it here to Vero Beach?",
          "First Zika Case in Cincinnati",
          "Zika cases concern Charlotte residents",
          "Zika case reported in Jupiter",
          "Zika virus confirmed in Westchester",
          "More Zika patients reported in Pensacola",
          "Outbreak of Zika in Corpus Christi",
          "Escondido neighborhood to get sprayed for Zika virus",
          "Zika in Belmont, Belmont worry",
          "BREAKING aEUR\" Zika in Missoula",
          "Is Lafayette prepared to combat Zika?",
          "Zika Arrives in North Miami",
          "Zika Virus Arrives in Ontario",
          "Outbreak of Zika in Stephenville",
          "Zika battle outlined at Valdosta meeting",
          "Zika case reported in Coral Gables",
          "Zika arrives in West Palm Beach",
          "Zika spreads to Daytona Beach",
          "Zika Virus Detected in Lubbock",
          "Zika Virus Sparks 'International Concern'",
          "Zika-carrying mosquitoes discovered in Ardmore",
          "Frisco Woman Tests Positive For Zika Virus",
          "Zika Outbreak in Pinewood",
          "Zika Strikes St. Petersburg",
          "Zika symptoms spotted in Hollywood",
          "Zika symptoms spotted in Arlington",
          "Zika Spreads to Palm Beach Gardens",
          "Zika case reported in Abilene",
          "Outbreak of Zika in Palm Springs",
          "Zika Outbreak in Weslaco",
          "Zika case confirmed in Lorain",
          "Zika in Tamarac!",
          "Zika only the latest mosquito-borne threat to New Orleans",
          "More Zika patients reported in Waco",
          "Erie County sets Zika traps",
          "More Zika patients reported in Carrollton",
          "Zika symptoms spotted in Bonita Springs",
          "More Zika patients reported in Fort Myers",
          "Zika spreads to Lewisville",
          "Fort Hood Reports its First Zika Patient",
          "Hallandale Beach a Victim of Zika Outbreak",
          "Zika arrives in Boca Raton",
          "Bradenton Experiences Zika Troubles  ",
          "Zika spreads to Kissimmee",
          "Zika reported in Fort Pierce",
          "Zika spreads to Winter Park",
          "Zika virus case reported in Rockland",
          "Zika investigators coming to Mankato",
          "Outbreak of Zika in Leesburg",
          "Stony Brook University experts discuss Zika virus",
          "Miami resident suggests Zika precautions",
          "More Zika patients reported in Lakeland",
          "Zika Outbreak in South Miami",
          "Zika seminars in Yuma County",
          "Zika spreads to Plant City",
          "Zika Reported in North Miami Beach",
          "Zika Troubles come to Delray Beach",
          "More Zika patients reported in Fort Worth",
          "Zika symptoms spotted in Boynton Beach",
          "Zika Outbreak in Wichita Falls"
         ],
         "lat": [
          -14.83333,
          -31.5375,
          14.6042,
          10.69694,
          42.98339,
          10.82302,
          9.89898,
          13.75398,
          39.9075,
          -12.97111,
          3.1412,
          16.80528,
          -31.42797,
          -19.26639,
          13.68935,
          -22.72528,
          -12.04318,
          23.13302,
          17.72751,
          3.03667,
          14.6488,
          19.07283,
          18.51957,
          21.0245,
          28.65195,
          17.49952,
          13.71024,
          41.89193,
          37.566,
          19.42847,
          -6.21462,
          -33.59473,
          -23.38032,
          14.0818,
          -19.92083,
          14.62578,
          14.45896,
          14.21167,
          3.10726,
          17.38405,
          7.08971,
          4.142,
          -8.08965,
          28.63576,
          25.18254,
          1.4655,
          12.24507,
          -4.1279,
          10.66667,
          -32.035,
          -25.29167,
          19.18095,
          1.28967,
          4.39928,
          -23.96083,
          16.91675,
          10.65245,
          42.41224,
          40.85216,
          7.07306,
          42.30008,
          6.33732,
          3.3223,
          48.40908,
          51.38132,
          25.97205,
          17.06542,
          11.56245,
          53.17477,
          10.96854,
          51.9225,
          14.58691,
          11.99339,
          15.7118,
          -5.795,
          16.41904,
          9.30472,
          1.55,
          -37.90561,
          -11.18143,
          17.41567,
          51.43247,
          14.6228,
          18.55542,
          -3.71722,
          -33.28397,
          11.93381,
          -3.74912,
          -37.814,
          -2.233,
          -30.94432,
          50.85045,
          -8.00889,
          11.24802,
          51.16818,
          2.3,
          15.5512,
          27.47629,
          42.98339,
          -0.22985,
          6.91028,
          28.49615,
          -25.29167,
          15.3275,
          26.08061,
          13.08784,
          9.73586,
          12.60961,
          -7.87472,
          55.95206,
          -22.88583,
          17.25,
          -3.10194,
          7.98654,
          16.48344,
          32.62781,
          13.70167,
          11.45332,
          45.74846,
          52.13459,
          -5.90181,
          -1.05458,
          14.19528,
          -27.03424,
          25.77427,
          40.71427,
          25.79065,
          32.78306,
          29.76328,
          25.82176,
          38.62727,
          28.53834,
          41.85003,
          27.94752,
          39.29038,
          30.43826,
          35.15952,
          30.26715,
          24.55524,
          47.60621,
          36.16589,
          34.69926,
          27.33643,
          34.8662,
          31.75872,
          32.46098,
          27.83975,
          27.63864,
          39.12711,
          35.22709,
          26.93422,
          25.75482,
          30.42131,
          27.80058,
          33.11921,
          42.39593,
          46.87215,
          30.22409,
          25.89009,
          34.06334,
          32.2207,
          30.83334,
          25.72149,
          26.71534,
          29.21081,
          33.57786,
          39.53491,
          34.17426,
          33.15067,
          25.86898,
          27.77086,
          26.0112,
          32.73569,
          26.82339,
          32.44874,
          26.6359,
          26.15952,
          41.45282,
          26.21286,
          29.95465,
          31.54933,
          42.12922,
          33.58011,
          26.33981,
          26.62168,
          33.04623,
          31.13489,
          25.9812,
          26.35869,
          27.49893,
          28.30468,
          27.44671,
          28.6,
          42.13066,
          44.15906,
          28.81082,
          28.07389,
          25.77427,
          28.03947,
          25.77427,
          32.72532,
          28.01888,
          25.93315,
          26.46146,
          32.72541,
          26.52535,
          33.91371
         ],
         "legendgroup": "",
         "lon": [
          -64.9,
          -68.53639,
          120.9822,
          122.56444,
          -81.23304,
          106.62965,
          -84.00287,
          100.50144,
          116.39723,
          -38.51083,
          101.68653,
          96.15611,
          -62.08266,
          146.80569,
          -89.18718,
          -47.64917,
          -77.02824,
          -82.38304,
          -64.74698,
          101.44333,
          121.0509,
          72.88261,
          73.85535,
          105.84117,
          77.23149,
          -88.19756,
          -89.13989,
          12.51133,
          126.9784,
          -99.12766,
          106.84513,
          -71.60746,
          150.50595,
          -87.20681,
          -43.93778,
          121.12251,
          120.93851,
          121.16528,
          101.60671,
          78.45636,
          171.38027,
          -73.62664,
          -78.9602,
          77.22445,
          75.83907,
          103.7578,
          109.19432,
          120.0297,
          122.95,
          -52.09861,
          -49.22417,
          -96.1429,
          103.85007,
          113.99163,
          -46.33361,
          -89.91898,
          -61.38878,
          -82.18494,
          14.26811,
          125.61278,
          -83.01654,
          -75.55795,
          -76.2348,
          2.70177,
          1.38617,
          -100.45029,
          -96.72365,
          104.91601,
          5.42244,
          -74.78132,
          4.47917,
          121.0614,
          105.4635,
          121.1061,
          -35.20944,
          101.16056,
          -75.39778,
          110.33333,
          145.00279,
          -40.51372,
          102.78589,
          6.76516,
          121.0897,
          -69.40814,
          -38.54306,
          149.10018,
          79.82979,
          -73.25383,
          144.96332,
          -80.91039,
          -59.78832,
          4.34878,
          -34.85528,
          75.7804,
          6.93093,
          111.81667,
          120.8147,
          -99.51639,
          -81.23304,
          -78.52495,
          122.07389,
          77.53601,
          -49.22417,
          120.9192,
          -98.28835,
          80.27847,
          -75.52626,
          102.10447,
          -35.45028,
          -3.19648,
          -48.445,
          -88.76667,
          -60.025,
          -75.19349,
          99.52153,
          -115.45446,
          -89.10944,
          104.52085,
          4.84671,
          -0.46632,
          -76.12234,
          -80.45445,
          120.87694,
          -65.30196,
          -80.19366,
          -74.00597,
          -80.13005,
          -96.80667,
          -95.36327,
          -80.24116,
          -90.19789,
          -81.37924,
          -87.65005,
          -82.45843,
          -76.61219,
          -84.28073,
          -84.87661,
          -97.74306,
          -81.78163,
          -122.33207,
          -86.78444,
          -86.74833,
          -82.53065,
          -92.11015,
          -106.48693,
          -84.98771,
          -82.79121,
          -80.39727,
          -84.51439,
          -80.84313,
          -80.09421,
          -80.32727,
          -87.21691,
          -97.39638,
          -117.08642,
          -71.17867,
          -113.994,
          -92.01984,
          -80.18671,
          -117.65089,
          -98.20226,
          -83.28032,
          -80.26838,
          -80.05337,
          -81.02283,
          -101.85517,
          -119.75269,
          -97.14363,
          -96.82361,
          -80.21699,
          -82.67927,
          -80.14949,
          -97.10807,
          -80.13865,
          -99.73314,
          -80.09615,
          -97.99084,
          -82.18237,
          -80.24977,
          -90.07507,
          -97.14667,
          -80.08506,
          -85.07661,
          -81.7787,
          -81.84059,
          -96.99417,
          -97.77561,
          -80.14838,
          -80.0831,
          -82.57482,
          -81.41667,
          -80.32561,
          -81.33924,
          -70.91616,
          -94.00915,
          -81.87786,
          -82.43902,
          -80.19366,
          -81.9498,
          -80.19366,
          -114.6244,
          -82.11469,
          -80.16255,
          -80.07282,
          -97.32085,
          -80.06643,
          -98.49339
         ],
         "marker": {
          "color": [
           2,
           2,
           1,
           1,
           2,
           1,
           2,
           1,
           1,
           2,
           1,
           1,
           2,
           1,
           2,
           2,
           2,
           2,
           2,
           1,
           1,
           1,
           1,
           1,
           1,
           2,
           2,
           0,
           1,
           2,
           1,
           2,
           1,
           2,
           2,
           1,
           1,
           1,
           1,
           1,
           1,
           2,
           2,
           1,
           1,
           1,
           1,
           1,
           1,
           2,
           2,
           2,
           1,
           1,
           2,
           2,
           2,
           2,
           0,
           1,
           2,
           2,
           2,
           0,
           0,
           2,
           2,
           1,
           0,
           2,
           0,
           1,
           1,
           1,
           2,
           1,
           2,
           1,
           1,
           2,
           1,
           0,
           1,
           2,
           2,
           1,
           1,
           2,
           1,
           2,
           2,
           0,
           2,
           1,
           0,
           1,
           1,
           2,
           2,
           2,
           1,
           1,
           2,
           1,
           2,
           1,
           2,
           1,
           2,
           0,
           2,
           2,
           2,
           2,
           1,
           2,
           2,
           1,
           0,
           0,
           2,
           2,
           1,
           2,
           0,
           0,
           0,
           2,
           2,
           0,
           2,
           0,
           2,
           0,
           0,
           0,
           0,
           2,
           0,
           1,
           0,
           0,
           0,
           2,
           2,
           0,
           0,
           0,
           0,
           0,
           0,
           0,
           0,
           2,
           1,
           0,
           1,
           2,
           0,
           1,
           2,
           0,
           0,
           0,
           0,
           2,
           1,
           2,
           2,
           0,
           0,
           0,
           2,
           0,
           2,
           0,
           2,
           0,
           0,
           2,
           2,
           0,
           0,
           0,
           0,
           2,
           2,
           0,
           0,
           0,
           0,
           0,
           0,
           0,
           2,
           0,
           0,
           0,
           0,
           0,
           1,
           0,
           0,
           0,
           2,
           0,
           2
          ],
          "coloraxis": "coloraxis",
          "symbol": "circle"
         },
         "mode": "markers",
         "name": "",
         "showlegend": false,
         "type": "scattergeo"
        }
       ],
       "layout": {
        "geo": {
         "center": {},
         "domain": {
          "x": [
           0,
           1
          ],
          "y": [
           0,
           1
          ]
         },
         "projection": {
          "type": "robinson"
         },
         "showcountries": true
        },
        "legend": {
         "tracegroupgap": 0
        },
        "template": {
         "data": {
          "bar": [
           {
            "error_x": {
             "color": "#2a3f5f"
            },
            "error_y": {
             "color": "#2a3f5f"
            },
            "marker": {
             "line": {
              "color": "#E5ECF6",
              "width": 0.5
             },
             "pattern": {
              "fillmode": "overlay",
              "size": 10,
              "solidity": 0.2
             }
            },
            "type": "bar"
           }
          ],
          "barpolar": [
           {
            "marker": {
             "line": {
              "color": "#E5ECF6",
              "width": 0.5
             },
             "pattern": {
              "fillmode": "overlay",
              "size": 10,
              "solidity": 0.2
             }
            },
            "type": "barpolar"
           }
          ],
          "carpet": [
           {
            "aaxis": {
             "endlinecolor": "#2a3f5f",
             "gridcolor": "white",
             "linecolor": "white",
             "minorgridcolor": "white",
             "startlinecolor": "#2a3f5f"
            },
            "baxis": {
             "endlinecolor": "#2a3f5f",
             "gridcolor": "white",
             "linecolor": "white",
             "minorgridcolor": "white",
             "startlinecolor": "#2a3f5f"
            },
            "type": "carpet"
           }
          ],
          "choropleth": [
           {
            "colorbar": {
             "outlinewidth": 0,
             "ticks": ""
            },
            "type": "choropleth"
           }
          ],
          "contour": [
           {
            "colorbar": {
             "outlinewidth": 0,
             "ticks": ""
            },
            "colorscale": [
             [
              0,
              "#0d0887"
             ],
             [
              0.1111111111111111,
              "#46039f"
             ],
             [
              0.2222222222222222,
              "#7201a8"
             ],
             [
              0.3333333333333333,
              "#9c179e"
             ],
             [
              0.4444444444444444,
              "#bd3786"
             ],
             [
              0.5555555555555556,
              "#d8576b"
             ],
             [
              0.6666666666666666,
              "#ed7953"
             ],
             [
              0.7777777777777778,
              "#fb9f3a"
             ],
             [
              0.8888888888888888,
              "#fdca26"
             ],
             [
              1,
              "#f0f921"
             ]
            ],
            "type": "contour"
           }
          ],
          "contourcarpet": [
           {
            "colorbar": {
             "outlinewidth": 0,
             "ticks": ""
            },
            "type": "contourcarpet"
           }
          ],
          "heatmap": [
           {
            "colorbar": {
             "outlinewidth": 0,
             "ticks": ""
            },
            "colorscale": [
             [
              0,
              "#0d0887"
             ],
             [
              0.1111111111111111,
              "#46039f"
             ],
             [
              0.2222222222222222,
              "#7201a8"
             ],
             [
              0.3333333333333333,
              "#9c179e"
             ],
             [
              0.4444444444444444,
              "#bd3786"
             ],
             [
              0.5555555555555556,
              "#d8576b"
             ],
             [
              0.6666666666666666,
              "#ed7953"
             ],
             [
              0.7777777777777778,
              "#fb9f3a"
             ],
             [
              0.8888888888888888,
              "#fdca26"
             ],
             [
              1,
              "#f0f921"
             ]
            ],
            "type": "heatmap"
           }
          ],
          "heatmapgl": [
           {
            "colorbar": {
             "outlinewidth": 0,
             "ticks": ""
            },
            "colorscale": [
             [
              0,
              "#0d0887"
             ],
             [
              0.1111111111111111,
              "#46039f"
             ],
             [
              0.2222222222222222,
              "#7201a8"
             ],
             [
              0.3333333333333333,
              "#9c179e"
             ],
             [
              0.4444444444444444,
              "#bd3786"
             ],
             [
              0.5555555555555556,
              "#d8576b"
             ],
             [
              0.6666666666666666,
              "#ed7953"
             ],
             [
              0.7777777777777778,
              "#fb9f3a"
             ],
             [
              0.8888888888888888,
              "#fdca26"
             ],
             [
              1,
              "#f0f921"
             ]
            ],
            "type": "heatmapgl"
           }
          ],
          "histogram": [
           {
            "marker": {
             "pattern": {
              "fillmode": "overlay",
              "size": 10,
              "solidity": 0.2
             }
            },
            "type": "histogram"
           }
          ],
          "histogram2d": [
           {
            "colorbar": {
             "outlinewidth": 0,
             "ticks": ""
            },
            "colorscale": [
             [
              0,
              "#0d0887"
             ],
             [
              0.1111111111111111,
              "#46039f"
             ],
             [
              0.2222222222222222,
              "#7201a8"
             ],
             [
              0.3333333333333333,
              "#9c179e"
             ],
             [
              0.4444444444444444,
              "#bd3786"
             ],
             [
              0.5555555555555556,
              "#d8576b"
             ],
             [
              0.6666666666666666,
              "#ed7953"
             ],
             [
              0.7777777777777778,
              "#fb9f3a"
             ],
             [
              0.8888888888888888,
              "#fdca26"
             ],
             [
              1,
              "#f0f921"
             ]
            ],
            "type": "histogram2d"
           }
          ],
          "histogram2dcontour": [
           {
            "colorbar": {
             "outlinewidth": 0,
             "ticks": ""
            },
            "colorscale": [
             [
              0,
              "#0d0887"
             ],
             [
              0.1111111111111111,
              "#46039f"
             ],
             [
              0.2222222222222222,
              "#7201a8"
             ],
             [
              0.3333333333333333,
              "#9c179e"
             ],
             [
              0.4444444444444444,
              "#bd3786"
             ],
             [
              0.5555555555555556,
              "#d8576b"
             ],
             [
              0.6666666666666666,
              "#ed7953"
             ],
             [
              0.7777777777777778,
              "#fb9f3a"
             ],
             [
              0.8888888888888888,
              "#fdca26"
             ],
             [
              1,
              "#f0f921"
             ]
            ],
            "type": "histogram2dcontour"
           }
          ],
          "mesh3d": [
           {
            "colorbar": {
             "outlinewidth": 0,
             "ticks": ""
            },
            "type": "mesh3d"
           }
          ],
          "parcoords": [
           {
            "line": {
             "colorbar": {
              "outlinewidth": 0,
              "ticks": ""
             }
            },
            "type": "parcoords"
           }
          ],
          "pie": [
           {
            "automargin": true,
            "type": "pie"
           }
          ],
          "scatter": [
           {
            "fillpattern": {
             "fillmode": "overlay",
             "size": 10,
             "solidity": 0.2
            },
            "type": "scatter"
           }
          ],
          "scatter3d": [
           {
            "line": {
             "colorbar": {
              "outlinewidth": 0,
              "ticks": ""
             }
            },
            "marker": {
             "colorbar": {
              "outlinewidth": 0,
              "ticks": ""
             }
            },
            "type": "scatter3d"
           }
          ],
          "scattercarpet": [
           {
            "marker": {
             "colorbar": {
              "outlinewidth": 0,
              "ticks": ""
             }
            },
            "type": "scattercarpet"
           }
          ],
          "scattergeo": [
           {
            "marker": {
             "colorbar": {
              "outlinewidth": 0,
              "ticks": ""
             }
            },
            "type": "scattergeo"
           }
          ],
          "scattergl": [
           {
            "marker": {
             "colorbar": {
              "outlinewidth": 0,
              "ticks": ""
             }
            },
            "type": "scattergl"
           }
          ],
          "scattermapbox": [
           {
            "marker": {
             "colorbar": {
              "outlinewidth": 0,
              "ticks": ""
             }
            },
            "type": "scattermapbox"
           }
          ],
          "scatterpolar": [
           {
            "marker": {
             "colorbar": {
              "outlinewidth": 0,
              "ticks": ""
             }
            },
            "type": "scatterpolar"
           }
          ],
          "scatterpolargl": [
           {
            "marker": {
             "colorbar": {
              "outlinewidth": 0,
              "ticks": ""
             }
            },
            "type": "scatterpolargl"
           }
          ],
          "scatterternary": [
           {
            "marker": {
             "colorbar": {
              "outlinewidth": 0,
              "ticks": ""
             }
            },
            "type": "scatterternary"
           }
          ],
          "surface": [
           {
            "colorbar": {
             "outlinewidth": 0,
             "ticks": ""
            },
            "colorscale": [
             [
              0,
              "#0d0887"
             ],
             [
              0.1111111111111111,
              "#46039f"
             ],
             [
              0.2222222222222222,
              "#7201a8"
             ],
             [
              0.3333333333333333,
              "#9c179e"
             ],
             [
              0.4444444444444444,
              "#bd3786"
             ],
             [
              0.5555555555555556,
              "#d8576b"
             ],
             [
              0.6666666666666666,
              "#ed7953"
             ],
             [
              0.7777777777777778,
              "#fb9f3a"
             ],
             [
              0.8888888888888888,
              "#fdca26"
             ],
             [
              1,
              "#f0f921"
             ]
            ],
            "type": "surface"
           }
          ],
          "table": [
           {
            "cells": {
             "fill": {
              "color": "#EBF0F8"
             },
             "line": {
              "color": "white"
             }
            },
            "header": {
             "fill": {
              "color": "#C8D4E3"
             },
             "line": {
              "color": "white"
             }
            },
            "type": "table"
           }
          ]
         },
         "layout": {
          "annotationdefaults": {
           "arrowcolor": "#2a3f5f",
           "arrowhead": 0,
           "arrowwidth": 1
          },
          "autotypenumbers": "strict",
          "coloraxis": {
           "colorbar": {
            "outlinewidth": 0,
            "ticks": ""
           }
          },
          "colorscale": {
           "diverging": [
            [
             0,
             "#8e0152"
            ],
            [
             0.1,
             "#c51b7d"
            ],
            [
             0.2,
             "#de77ae"
            ],
            [
             0.3,
             "#f1b6da"
            ],
            [
             0.4,
             "#fde0ef"
            ],
            [
             0.5,
             "#f7f7f7"
            ],
            [
             0.6,
             "#e6f5d0"
            ],
            [
             0.7,
             "#b8e186"
            ],
            [
             0.8,
             "#7fbc41"
            ],
            [
             0.9,
             "#4d9221"
            ],
            [
             1,
             "#276419"
            ]
           ],
           "sequential": [
            [
             0,
             "#0d0887"
            ],
            [
             0.1111111111111111,
             "#46039f"
            ],
            [
             0.2222222222222222,
             "#7201a8"
            ],
            [
             0.3333333333333333,
             "#9c179e"
            ],
            [
             0.4444444444444444,
             "#bd3786"
            ],
            [
             0.5555555555555556,
             "#d8576b"
            ],
            [
             0.6666666666666666,
             "#ed7953"
            ],
            [
             0.7777777777777778,
             "#fb9f3a"
            ],
            [
             0.8888888888888888,
             "#fdca26"
            ],
            [
             1,
             "#f0f921"
            ]
           ],
           "sequentialminus": [
            [
             0,
             "#0d0887"
            ],
            [
             0.1111111111111111,
             "#46039f"
            ],
            [
             0.2222222222222222,
             "#7201a8"
            ],
            [
             0.3333333333333333,
             "#9c179e"
            ],
            [
             0.4444444444444444,
             "#bd3786"
            ],
            [
             0.5555555555555556,
             "#d8576b"
            ],
            [
             0.6666666666666666,
             "#ed7953"
            ],
            [
             0.7777777777777778,
             "#fb9f3a"
            ],
            [
             0.8888888888888888,
             "#fdca26"
            ],
            [
             1,
             "#f0f921"
            ]
           ]
          },
          "colorway": [
           "#636efa",
           "#EF553B",
           "#00cc96",
           "#ab63fa",
           "#FFA15A",
           "#19d3f3",
           "#FF6692",
           "#B6E880",
           "#FF97FF",
           "#FECB52"
          ],
          "font": {
           "color": "#2a3f5f"
          },
          "geo": {
           "bgcolor": "white",
           "lakecolor": "white",
           "landcolor": "#E5ECF6",
           "showlakes": true,
           "showland": true,
           "subunitcolor": "white"
          },
          "hoverlabel": {
           "align": "left"
          },
          "hovermode": "closest",
          "mapbox": {
           "style": "light"
          },
          "paper_bgcolor": "white",
          "plot_bgcolor": "#E5ECF6",
          "polar": {
           "angularaxis": {
            "gridcolor": "white",
            "linecolor": "white",
            "ticks": ""
           },
           "bgcolor": "#E5ECF6",
           "radialaxis": {
            "gridcolor": "white",
            "linecolor": "white",
            "ticks": ""
           }
          },
          "scene": {
           "xaxis": {
            "backgroundcolor": "#E5ECF6",
            "gridcolor": "white",
            "gridwidth": 2,
            "linecolor": "white",
            "showbackground": true,
            "ticks": "",
            "zerolinecolor": "white"
           },
           "yaxis": {
            "backgroundcolor": "#E5ECF6",
            "gridcolor": "white",
            "gridwidth": 2,
            "linecolor": "white",
            "showbackground": true,
            "ticks": "",
            "zerolinecolor": "white"
           },
           "zaxis": {
            "backgroundcolor": "#E5ECF6",
            "gridcolor": "white",
            "gridwidth": 2,
            "linecolor": "white",
            "showbackground": true,
            "ticks": "",
            "zerolinecolor": "white"
           }
          },
          "shapedefaults": {
           "line": {
            "color": "#2a3f5f"
           }
          },
          "ternary": {
           "aaxis": {
            "gridcolor": "white",
            "linecolor": "white",
            "ticks": ""
           },
           "baxis": {
            "gridcolor": "white",
            "linecolor": "white",
            "ticks": ""
           },
           "bgcolor": "#E5ECF6",
           "caxis": {
            "gridcolor": "white",
            "linecolor": "white",
            "ticks": ""
           }
          },
          "title": {
           "x": 0.05
          },
          "xaxis": {
           "automargin": true,
           "gridcolor": "white",
           "linecolor": "white",
           "ticks": "",
           "title": {
            "standoff": 15
           },
           "zerolinecolor": "white",
           "zerolinewidth": 2
          },
          "yaxis": {
           "automargin": true,
           "gridcolor": "white",
           "linecolor": "white",
           "ticks": "",
           "title": {
            "standoff": 15
           },
           "zerolinecolor": "white",
           "zerolinewidth": 2
          }
         }
        },
        "title": {
         "text": "Mad Cow and Zika headlines globally"
        }
       }
      },
      "text/html": [
       "<div>                            <div id=\"5a31f680-39fb-4c01-a65a-423346d68ba3\" class=\"plotly-graph-div\" style=\"height:525px; width:100%;\"></div>            <script type=\"text/javascript\">                require([\"plotly\"], function(Plotly) {                    window.PLOTLYENV=window.PLOTLYENV || {};                                    if (document.getElementById(\"5a31f680-39fb-4c01-a65a-423346d68ba3\")) {                    Plotly.newPlot(                        \"5a31f680-39fb-4c01-a65a-423346d68ba3\",                        [{\"geo\":\"geo\",\"hovertemplate\":\"\\u003cextra\\u003e\\u003c\\u002fextra\\u003e\",\"legendgroup\":\"\",\"marker\":{\"color\":\"#636efa\",\"symbol\":\"circle\"},\"mode\":\"markers\",\"name\":\"\",\"showlegend\":false,\"type\":\"scattergeo\"},{\"geo\":\"geo\",\"hovertemplate\":\"\\u003cb\\u003e%{hovertext}\\u003c\\u002fb\\u003e\\u003cbr\\u003e\\u003cbr\\u003elatitude=%{lat}\\u003cbr\\u003elongitude=%{lon}\\u003cextra\\u003e\\u003c\\u002fextra\\u003e\",\"hovertext\":[\"Cluster Center\",\"Cluster Center\",\"Cluster Center\",\"Cluster Center\",\"Cluster Center\",\"Cluster Center\"],\"lat\":[49.5764975,9.373693090909091,2.6261401754385956,29.77003648148148,38.98685666666667,32.99526521739131],\"legendgroup\":\"\",\"lon\":[4.999814166666667,110.15514145454546,-71.94100263157893,-81.10284425925926,-117.57341166666667,-96.36721173913044],\"marker\":{\"color\":\"#636efa\",\"symbol\":\"diamond\",\"size\":12},\"mode\":\"markers\",\"name\":\"\",\"showlegend\":false,\"type\":\"scattergeo\"},{\"geo\":\"geo\",\"hovertemplate\":\"\\u003cb\\u003e%{hovertext}\\u003c\\u002fb\\u003e\\u003cbr\\u003e\\u003cbr\\u003elatitude=%{lat}\\u003cbr\\u003elongitude=%{lon}\\u003cbr\\u003ecluster_kmeans=%{marker.color}\\u003cextra\\u003e\\u003c\\u002fextra\\u003e\",\"hovertext\":[\"Trinidad confirms first Zika case\",\"San Juan reports 1st U.S. Zika-related death amid outbreak\",\"Zika alert aEUR\\\" Manila now threatened\",\"Zika afflicts 7 in Iloilo City\",\"London Health Unit Tracks Mad Cow Disease\",\"Zika cases in Vietnam's Ho Chi Minh City surge\",\"Key Zika Findings in San Diego Institute\",\"Thailand-Zika Virus in Bangkok\",\"Beijing team cracks Zika secret\",\"Zika spreading to Salvador\",\"Kuala Lumpur is Hit By Zika Threat\",\"First Zika case confirmed in Yangon\",\"Zika Virus Reaches San Francisco\",\"Townsville Zika tests inconclusive\",\"Zika worries in San Salvador\",\"Zika outbreak in Piracicaba, Brazil\",\"Lima tries to address Zika Concerns\",\"Zika Virus Transmission Detected in Havana\",\"Saint Croix under Zika threat\",\"Zika surfaces in Klang, Malaysia\",\"More Quezon City Zika Transmissions\",\"Mumbai's Health Minister warns of more Zika cases\",\"Pune woman diagnosed with Zika\",\"Hospitals in Hanoi fill up with Zika patients\",\"Zika: Delhi for strict monitoring\",\"Belize City under threat from Zika\",\"More Zika cases in Soyapango\",\"Authorities are Worried about the Spread of Mad Cow Disease in Rome\",\"Seoul confirms 14th Zika infection\",\"Zika outbreak spreads to Mexico City\",\"Zika now spreading through Jakarta\",\"Zika San Antonio Patient Speaks Out\",\"Precautionary Zika measures in Rockhampton\",\"Zika arrives in Tegucigalpa\",\"New Zika Case Confirmed in Belo Horizonte\",\"Antipolo under threat from Zika Virus\",\"Spreading Zika reaches Bacoor\",\"Zika afflicts patient in Calamba\",\"Petaling Jaya man ill from Zika\",\"Zika Outbreak in Hyderabad\",\"Is Zika virus in Majuro?\",\"Villavicencio under Zika threat\",\"Two more Zika cases confirmed in Laredo\",\"New Delhi Addressing Zika Concerns\",\"New Zika Case in Kota Kinabalu, Malaysia\",\"Zika reaches Johor Bahru, Malaysia\",\"Nha Trang Zika Outbreak\",\"19 new Zika Cases in Sengkang\",\"Outbreak of Zika in Bacolod City\",\"Zika alert for Rio Grande Valley residents\",\"Zika symptoms spotted in Colombo\",\"Veracruz hit by Zika Concerns\",\"Zika cases in Singapore reach 393\",\"Zika arrives in Miri\",\"Zika arrives in Santos\",\"Zika arrives in San Benito\",\"Zika case recorded in Tunapuna A\\u003e\\u003e\",\"Mad Cow Disease Re-emerges in Chatham\",\"Mad Cow Disease Hits Naples\",\"More Zika patients reported in Davao\",\"Tests negative on Windsor Zika carriers\",\"Zika symptoms spotted in Bello\",\"Zika Mosquitoes May Have Bred in Bromeliads, Florida Officials Say\",\"More Livestock in Fontainebleau are infected with Mad Cow Disease\",\"Mad Cow Disease Spreads to Margate\",\"Four cases of Zika in Hidalgo County\",\"Zika arrives in Oaxaca\",\"Phnom Penh hit by Zika Threat\",\"Zika Troubles come to Harlingen\",\"Zika spreads to Barranquilla\",\"Mad Cow Disease Hits Rotterdam\",\"Outbreak of Zika in Pasig City\",\"Zika Troubles come to Kampong Cham\",\"Zika case reported in Rizal\",\"Zika arrives in Natal\",\"Zika case reported in Phetchabun\",\"Zika Outbreak in Sincelejo\",\"Zika spreads to Kuching\",\"Rumors about Mad Cow Disease Brighton have been Refuted\",\"Zika case reported in Jacobina\",\"Zika arrives in Udon Thani\",\"Duisburg up in Arms over Mad Cow Disease\",\"More Zika patients reported in Calumpang\",\"Zika symptoms spotted in Quisqueya\",\"Zika symptoms spotted in Fortaleza\",\"Zika arrives in Orange City\",\"Zika Outbreak in Puducherry\",\"Zika symptoms spotted in Iquitos\",\"More Zika patients reported in Melbourne\",\"Zika Troubles come to La Libertad\",\"Outbreak of Zika in Santa Elena\",\"Mad Cow Disease Disastrous to Brussels\",\"Zika spreads to Olinda\",\"Outbreak of Zika in Kozhikode\",\"Case of Mad Cow Disease Reported in Hilden\",\"Zika symptoms spotted in Sibu\",\"Zika arrives in Quezon\",\"More Zika patients reported in Nuevo Laredo\",\"Mad Cow Disease Hits London\",\"Zika symptoms spotted in Quito\",\"Sulu, Zamboanga brace for Zika\",\"Zika Troubles come to Greater Noida\",\"Outbreak of Zika in Colombo\",\"Zika Troubles come to Jaen\",\"Zika case reported in Reynosa\",\"More Zika patients reported in Chennai\",\"Zika arrives in San Onofre\",\"More Zika patients reported in Chanthaburi\",\"Zika case reported in Limoeiro\",\"Authorities are Worried about the Spread of Mad Cow Disease in Edinburgh\",\"More Zika patients reported in Botucatu\",\"Zika arrives in Belmopan\",\"Zika Outbreak in Manaus\",\"Zika spreads to Caucasia\",\"Zika spreads to Kamphaeng Phet\",\"Zika Outbreak in Mexicali\",\"Zika Reported in Ilopango\",\"More Zika patients reported in Kampong Speu\",\"Mad Cow Disease Detected in Lyon\",\"Mad Cow Disease re-emerges in Bedford\",\"Zika Outbreak in Yurimaguas\",\"Outbreak of Zika in Portoviejo\",\"More Zika patients reported in Indang\",\"More Zika patients reported in Bella Vista\",\"Zika Outbreak Hits Miami\",\"Could Zika Reach New York City?\",\"First Case of Zika in Miami Beach\",\"Dallas man comes down with case of Zika\",\"Zika Concerns are Spreading in Houston\",\"Brownsville teen contracts Zika virus\",\"Mosquito control efforts in St. Louis take new tactics with Zika threat\",\"Orlando volunteers aid Zika research\",\"Chicago's First Zika Case Confirmed\",\"Tampa Bay Area Zika Case Count Climbs\",\"Baltimore plans for Zika virus\",\"Tallahassee Doctors Discuss Zika Virus\",\"Zika virus reported in Cleveland\",\"More Zika patients reported in Austin\",\"Zika symtomps spotted in Key West\",\"Seattle scientists get $500,000 grant to pursue Zika vaccine New 7:50 pm\",\"Nashville takes precautions against Zika\",\"Madison lab developing vaccine against Zika virus [The Wisconsin State Journal]\",\"New Zika Case Confirmed in Sarasota County\",\"Jacksonville man hit by Zika\",\"El Paso fighting Zika\",\"First Columbus Zika case\",\"Zika Patient in Seminole, Florida\",\"Can Zika make it here to Vero Beach?\",\"First Zika Case in Cincinnati\",\"Zika cases concern Charlotte residents\",\"Zika case reported in Jupiter\",\"Zika virus confirmed in Westchester\",\"More Zika patients reported in Pensacola\",\"Outbreak of Zika in Corpus Christi\",\"Escondido neighborhood to get sprayed for Zika virus\",\"Zika in Belmont, Belmont worry\",\"BREAKING aEUR\\\" Zika in Missoula\",\"Is Lafayette prepared to combat Zika?\",\"Zika Arrives in North Miami\",\"Zika Virus Arrives in Ontario\",\"Outbreak of Zika in Stephenville\",\"Zika battle outlined at Valdosta meeting\",\"Zika case reported in Coral Gables\",\"Zika arrives in West Palm Beach\",\"Zika spreads to Daytona Beach\",\"Zika Virus Detected in Lubbock\",\"Zika Virus Sparks 'International Concern'\",\"Zika-carrying mosquitoes discovered in Ardmore\",\"Frisco Woman Tests Positive For Zika Virus\",\"Zika Outbreak in Pinewood\",\"Zika Strikes St. Petersburg\",\"Zika symptoms spotted in Hollywood\",\"Zika symptoms spotted in Arlington\",\"Zika Spreads to Palm Beach Gardens\",\"Zika case reported in Abilene\",\"Outbreak of Zika in Palm Springs\",\"Zika Outbreak in Weslaco\",\"Zika case confirmed in Lorain\",\"Zika in Tamarac!\",\"Zika only the latest mosquito-borne threat to New Orleans\",\"More Zika patients reported in Waco\",\"Erie County sets Zika traps\",\"More Zika patients reported in Carrollton\",\"Zika symptoms spotted in Bonita Springs\",\"More Zika patients reported in Fort Myers\",\"Zika spreads to Lewisville\",\"Fort Hood Reports its First Zika Patient\",\"Hallandale Beach a Victim of Zika Outbreak\",\"Zika arrives in Boca Raton\",\"Bradenton Experiences Zika Troubles  \",\"Zika spreads to Kissimmee\",\"Zika reported in Fort Pierce\",\"Zika spreads to Winter Park\",\"Zika virus case reported in Rockland\",\"Zika investigators coming to Mankato\",\"Outbreak of Zika in Leesburg\",\"Stony Brook University experts discuss Zika virus\",\"Miami resident suggests Zika precautions\",\"More Zika patients reported in Lakeland\",\"Zika Outbreak in South Miami\",\"Zika seminars in Yuma County\",\"Zika spreads to Plant City\",\"Zika Reported in North Miami Beach\",\"Zika Troubles come to Delray Beach\",\"More Zika patients reported in Fort Worth\",\"Zika symptoms spotted in Boynton Beach\",\"Zika Outbreak in Wichita Falls\"],\"lat\":[-14.83333,-31.5375,14.6042,10.69694,42.98339,10.82302,9.89898,13.75398,39.9075,-12.97111,3.1412,16.80528,-31.42797,-19.26639,13.68935,-22.72528,-12.04318,23.13302,17.72751,3.03667,14.6488,19.07283,18.51957,21.0245,28.65195,17.49952,13.71024,41.89193,37.566,19.42847,-6.21462,-33.59473,-23.38032,14.0818,-19.92083,14.62578,14.45896,14.21167,3.10726,17.38405,7.08971,4.142,-8.08965,28.63576,25.18254,1.4655,12.24507,-4.1279,10.66667,-32.035,-25.29167,19.18095,1.28967,4.39928,-23.96083,16.91675,10.65245,42.41224,40.85216,7.07306,42.30008,6.33732,3.3223,48.40908,51.38132,25.97205,17.06542,11.56245,53.17477,10.96854,51.9225,14.58691,11.99339,15.7118,-5.795,16.41904,9.30472,1.55,-37.90561,-11.18143,17.41567,51.43247,14.6228,18.55542,-3.71722,-33.28397,11.93381,-3.74912,-37.814,-2.233,-30.94432,50.85045,-8.00889,11.24802,51.16818,2.3,15.5512,27.47629,42.98339,-0.22985,6.91028,28.49615,-25.29167,15.3275,26.08061,13.08784,9.73586,12.60961,-7.87472,55.95206,-22.88583,17.25,-3.10194,7.98654,16.48344,32.62781,13.70167,11.45332,45.74846,52.13459,-5.90181,-1.05458,14.19528,-27.03424,25.77427,40.71427,25.79065,32.78306,29.76328,25.82176,38.62727,28.53834,41.85003,27.94752,39.29038,30.43826,35.15952,30.26715,24.55524,47.60621,36.16589,34.69926,27.33643,34.8662,31.75872,32.46098,27.83975,27.63864,39.12711,35.22709,26.93422,25.75482,30.42131,27.80058,33.11921,42.39593,46.87215,30.22409,25.89009,34.06334,32.2207,30.83334,25.72149,26.71534,29.21081,33.57786,39.53491,34.17426,33.15067,25.86898,27.77086,26.0112,32.73569,26.82339,32.44874,26.6359,26.15952,41.45282,26.21286,29.95465,31.54933,42.12922,33.58011,26.33981,26.62168,33.04623,31.13489,25.9812,26.35869,27.49893,28.30468,27.44671,28.6,42.13066,44.15906,28.81082,28.07389,25.77427,28.03947,25.77427,32.72532,28.01888,25.93315,26.46146,32.72541,26.52535,33.91371],\"legendgroup\":\"\",\"lon\":[-64.9,-68.53639,120.9822,122.56444,-81.23304,106.62965,-84.00287,100.50144,116.39723,-38.51083,101.68653,96.15611,-62.08266,146.80569,-89.18718,-47.64917,-77.02824,-82.38304,-64.74698,101.44333,121.0509,72.88261,73.85535,105.84117,77.23149,-88.19756,-89.13989,12.51133,126.9784,-99.12766,106.84513,-71.60746,150.50595,-87.20681,-43.93778,121.12251,120.93851,121.16528,101.60671,78.45636,171.38027,-73.62664,-78.9602,77.22445,75.83907,103.7578,109.19432,120.0297,122.95,-52.09861,-49.22417,-96.1429,103.85007,113.99163,-46.33361,-89.91898,-61.38878,-82.18494,14.26811,125.61278,-83.01654,-75.55795,-76.2348,2.70177,1.38617,-100.45029,-96.72365,104.91601,5.42244,-74.78132,4.47917,121.0614,105.4635,121.1061,-35.20944,101.16056,-75.39778,110.33333,145.00279,-40.51372,102.78589,6.76516,121.0897,-69.40814,-38.54306,149.10018,79.82979,-73.25383,144.96332,-80.91039,-59.78832,4.34878,-34.85528,75.7804,6.93093,111.81667,120.8147,-99.51639,-81.23304,-78.52495,122.07389,77.53601,-49.22417,120.9192,-98.28835,80.27847,-75.52626,102.10447,-35.45028,-3.19648,-48.445,-88.76667,-60.025,-75.19349,99.52153,-115.45446,-89.10944,104.52085,4.84671,-0.46632,-76.12234,-80.45445,120.87694,-65.30196,-80.19366,-74.00597,-80.13005,-96.80667,-95.36327,-80.24116,-90.19789,-81.37924,-87.65005,-82.45843,-76.61219,-84.28073,-84.87661,-97.74306,-81.78163,-122.33207,-86.78444,-86.74833,-82.53065,-92.11015,-106.48693,-84.98771,-82.79121,-80.39727,-84.51439,-80.84313,-80.09421,-80.32727,-87.21691,-97.39638,-117.08642,-71.17867,-113.994,-92.01984,-80.18671,-117.65089,-98.20226,-83.28032,-80.26838,-80.05337,-81.02283,-101.85517,-119.75269,-97.14363,-96.82361,-80.21699,-82.67927,-80.14949,-97.10807,-80.13865,-99.73314,-80.09615,-97.99084,-82.18237,-80.24977,-90.07507,-97.14667,-80.08506,-85.07661,-81.7787,-81.84059,-96.99417,-97.77561,-80.14838,-80.0831,-82.57482,-81.41667,-80.32561,-81.33924,-70.91616,-94.00915,-81.87786,-82.43902,-80.19366,-81.9498,-80.19366,-114.6244,-82.11469,-80.16255,-80.07282,-97.32085,-80.06643,-98.49339],\"marker\":{\"color\":[2,2,1,1,2,1,2,1,1,2,1,1,2,1,2,2,2,2,2,1,1,1,1,1,1,2,2,0,1,2,1,2,1,2,2,1,1,1,1,1,1,2,2,1,1,1,1,1,1,2,2,2,1,1,2,2,2,2,0,1,2,2,2,0,0,2,2,1,0,2,0,1,1,1,2,1,2,1,1,2,1,0,1,2,2,1,1,2,1,2,2,0,2,1,0,1,1,2,2,2,1,1,2,1,2,1,2,1,2,0,2,2,2,2,1,2,2,1,0,0,2,2,1,2,0,0,0,2,2,0,2,0,2,0,0,0,0,2,0,1,0,0,0,2,2,0,0,0,0,0,0,0,0,2,1,0,1,2,0,1,2,0,0,0,0,2,1,2,2,0,0,0,2,0,2,0,2,0,0,2,2,0,0,0,0,2,2,0,0,0,0,0,0,0,2,0,0,0,0,0,1,0,0,0,2,0,2],\"coloraxis\":\"coloraxis\",\"symbol\":\"circle\"},\"mode\":\"markers\",\"name\":\"\",\"showlegend\":false,\"type\":\"scattergeo\"}],                        {\"template\":{\"data\":{\"histogram2dcontour\":[{\"type\":\"histogram2dcontour\",\"colorbar\":{\"outlinewidth\":0,\"ticks\":\"\"},\"colorscale\":[[0.0,\"#0d0887\"],[0.1111111111111111,\"#46039f\"],[0.2222222222222222,\"#7201a8\"],[0.3333333333333333,\"#9c179e\"],[0.4444444444444444,\"#bd3786\"],[0.5555555555555556,\"#d8576b\"],[0.6666666666666666,\"#ed7953\"],[0.7777777777777778,\"#fb9f3a\"],[0.8888888888888888,\"#fdca26\"],[1.0,\"#f0f921\"]]}],\"choropleth\":[{\"type\":\"choropleth\",\"colorbar\":{\"outlinewidth\":0,\"ticks\":\"\"}}],\"histogram2d\":[{\"type\":\"histogram2d\",\"colorbar\":{\"outlinewidth\":0,\"ticks\":\"\"},\"colorscale\":[[0.0,\"#0d0887\"],[0.1111111111111111,\"#46039f\"],[0.2222222222222222,\"#7201a8\"],[0.3333333333333333,\"#9c179e\"],[0.4444444444444444,\"#bd3786\"],[0.5555555555555556,\"#d8576b\"],[0.6666666666666666,\"#ed7953\"],[0.7777777777777778,\"#fb9f3a\"],[0.8888888888888888,\"#fdca26\"],[1.0,\"#f0f921\"]]}],\"heatmap\":[{\"type\":\"heatmap\",\"colorbar\":{\"outlinewidth\":0,\"ticks\":\"\"},\"colorscale\":[[0.0,\"#0d0887\"],[0.1111111111111111,\"#46039f\"],[0.2222222222222222,\"#7201a8\"],[0.3333333333333333,\"#9c179e\"],[0.4444444444444444,\"#bd3786\"],[0.5555555555555556,\"#d8576b\"],[0.6666666666666666,\"#ed7953\"],[0.7777777777777778,\"#fb9f3a\"],[0.8888888888888888,\"#fdca26\"],[1.0,\"#f0f921\"]]}],\"heatmapgl\":[{\"type\":\"heatmapgl\",\"colorbar\":{\"outlinewidth\":0,\"ticks\":\"\"},\"colorscale\":[[0.0,\"#0d0887\"],[0.1111111111111111,\"#46039f\"],[0.2222222222222222,\"#7201a8\"],[0.3333333333333333,\"#9c179e\"],[0.4444444444444444,\"#bd3786\"],[0.5555555555555556,\"#d8576b\"],[0.6666666666666666,\"#ed7953\"],[0.7777777777777778,\"#fb9f3a\"],[0.8888888888888888,\"#fdca26\"],[1.0,\"#f0f921\"]]}],\"contourcarpet\":[{\"type\":\"contourcarpet\",\"colorbar\":{\"outlinewidth\":0,\"ticks\":\"\"}}],\"contour\":[{\"type\":\"contour\",\"colorbar\":{\"outlinewidth\":0,\"ticks\":\"\"},\"colorscale\":[[0.0,\"#0d0887\"],[0.1111111111111111,\"#46039f\"],[0.2222222222222222,\"#7201a8\"],[0.3333333333333333,\"#9c179e\"],[0.4444444444444444,\"#bd3786\"],[0.5555555555555556,\"#d8576b\"],[0.6666666666666666,\"#ed7953\"],[0.7777777777777778,\"#fb9f3a\"],[0.8888888888888888,\"#fdca26\"],[1.0,\"#f0f921\"]]}],\"surface\":[{\"type\":\"surface\",\"colorbar\":{\"outlinewidth\":0,\"ticks\":\"\"},\"colorscale\":[[0.0,\"#0d0887\"],[0.1111111111111111,\"#46039f\"],[0.2222222222222222,\"#7201a8\"],[0.3333333333333333,\"#9c179e\"],[0.4444444444444444,\"#bd3786\"],[0.5555555555555556,\"#d8576b\"],[0.6666666666666666,\"#ed7953\"],[0.7777777777777778,\"#fb9f3a\"],[0.8888888888888888,\"#fdca26\"],[1.0,\"#f0f921\"]]}],\"mesh3d\":[{\"type\":\"mesh3d\",\"colorbar\":{\"outlinewidth\":0,\"ticks\":\"\"}}],\"scatter\":[{\"fillpattern\":{\"fillmode\":\"overlay\",\"size\":10,\"solidity\":0.2},\"type\":\"scatter\"}],\"parcoords\":[{\"type\":\"parcoords\",\"line\":{\"colorbar\":{\"outlinewidth\":0,\"ticks\":\"\"}}}],\"scatterpolargl\":[{\"type\":\"scatterpolargl\",\"marker\":{\"colorbar\":{\"outlinewidth\":0,\"ticks\":\"\"}}}],\"bar\":[{\"error_x\":{\"color\":\"#2a3f5f\"},\"error_y\":{\"color\":\"#2a3f5f\"},\"marker\":{\"line\":{\"color\":\"#E5ECF6\",\"width\":0.5},\"pattern\":{\"fillmode\":\"overlay\",\"size\":10,\"solidity\":0.2}},\"type\":\"bar\"}],\"scattergeo\":[{\"type\":\"scattergeo\",\"marker\":{\"colorbar\":{\"outlinewidth\":0,\"ticks\":\"\"}}}],\"scatterpolar\":[{\"type\":\"scatterpolar\",\"marker\":{\"colorbar\":{\"outlinewidth\":0,\"ticks\":\"\"}}}],\"histogram\":[{\"marker\":{\"pattern\":{\"fillmode\":\"overlay\",\"size\":10,\"solidity\":0.2}},\"type\":\"histogram\"}],\"scattergl\":[{\"type\":\"scattergl\",\"marker\":{\"colorbar\":{\"outlinewidth\":0,\"ticks\":\"\"}}}],\"scatter3d\":[{\"type\":\"scatter3d\",\"line\":{\"colorbar\":{\"outlinewidth\":0,\"ticks\":\"\"}},\"marker\":{\"colorbar\":{\"outlinewidth\":0,\"ticks\":\"\"}}}],\"scattermapbox\":[{\"type\":\"scattermapbox\",\"marker\":{\"colorbar\":{\"outlinewidth\":0,\"ticks\":\"\"}}}],\"scatterternary\":[{\"type\":\"scatterternary\",\"marker\":{\"colorbar\":{\"outlinewidth\":0,\"ticks\":\"\"}}}],\"scattercarpet\":[{\"type\":\"scattercarpet\",\"marker\":{\"colorbar\":{\"outlinewidth\":0,\"ticks\":\"\"}}}],\"carpet\":[{\"aaxis\":{\"endlinecolor\":\"#2a3f5f\",\"gridcolor\":\"white\",\"linecolor\":\"white\",\"minorgridcolor\":\"white\",\"startlinecolor\":\"#2a3f5f\"},\"baxis\":{\"endlinecolor\":\"#2a3f5f\",\"gridcolor\":\"white\",\"linecolor\":\"white\",\"minorgridcolor\":\"white\",\"startlinecolor\":\"#2a3f5f\"},\"type\":\"carpet\"}],\"table\":[{\"cells\":{\"fill\":{\"color\":\"#EBF0F8\"},\"line\":{\"color\":\"white\"}},\"header\":{\"fill\":{\"color\":\"#C8D4E3\"},\"line\":{\"color\":\"white\"}},\"type\":\"table\"}],\"barpolar\":[{\"marker\":{\"line\":{\"color\":\"#E5ECF6\",\"width\":0.5},\"pattern\":{\"fillmode\":\"overlay\",\"size\":10,\"solidity\":0.2}},\"type\":\"barpolar\"}],\"pie\":[{\"automargin\":true,\"type\":\"pie\"}]},\"layout\":{\"autotypenumbers\":\"strict\",\"colorway\":[\"#636efa\",\"#EF553B\",\"#00cc96\",\"#ab63fa\",\"#FFA15A\",\"#19d3f3\",\"#FF6692\",\"#B6E880\",\"#FF97FF\",\"#FECB52\"],\"font\":{\"color\":\"#2a3f5f\"},\"hovermode\":\"closest\",\"hoverlabel\":{\"align\":\"left\"},\"paper_bgcolor\":\"white\",\"plot_bgcolor\":\"#E5ECF6\",\"polar\":{\"bgcolor\":\"#E5ECF6\",\"angularaxis\":{\"gridcolor\":\"white\",\"linecolor\":\"white\",\"ticks\":\"\"},\"radialaxis\":{\"gridcolor\":\"white\",\"linecolor\":\"white\",\"ticks\":\"\"}},\"ternary\":{\"bgcolor\":\"#E5ECF6\",\"aaxis\":{\"gridcolor\":\"white\",\"linecolor\":\"white\",\"ticks\":\"\"},\"baxis\":{\"gridcolor\":\"white\",\"linecolor\":\"white\",\"ticks\":\"\"},\"caxis\":{\"gridcolor\":\"white\",\"linecolor\":\"white\",\"ticks\":\"\"}},\"coloraxis\":{\"colorbar\":{\"outlinewidth\":0,\"ticks\":\"\"}},\"colorscale\":{\"sequential\":[[0.0,\"#0d0887\"],[0.1111111111111111,\"#46039f\"],[0.2222222222222222,\"#7201a8\"],[0.3333333333333333,\"#9c179e\"],[0.4444444444444444,\"#bd3786\"],[0.5555555555555556,\"#d8576b\"],[0.6666666666666666,\"#ed7953\"],[0.7777777777777778,\"#fb9f3a\"],[0.8888888888888888,\"#fdca26\"],[1.0,\"#f0f921\"]],\"sequentialminus\":[[0.0,\"#0d0887\"],[0.1111111111111111,\"#46039f\"],[0.2222222222222222,\"#7201a8\"],[0.3333333333333333,\"#9c179e\"],[0.4444444444444444,\"#bd3786\"],[0.5555555555555556,\"#d8576b\"],[0.6666666666666666,\"#ed7953\"],[0.7777777777777778,\"#fb9f3a\"],[0.8888888888888888,\"#fdca26\"],[1.0,\"#f0f921\"]],\"diverging\":[[0,\"#8e0152\"],[0.1,\"#c51b7d\"],[0.2,\"#de77ae\"],[0.3,\"#f1b6da\"],[0.4,\"#fde0ef\"],[0.5,\"#f7f7f7\"],[0.6,\"#e6f5d0\"],[0.7,\"#b8e186\"],[0.8,\"#7fbc41\"],[0.9,\"#4d9221\"],[1,\"#276419\"]]},\"xaxis\":{\"gridcolor\":\"white\",\"linecolor\":\"white\",\"ticks\":\"\",\"title\":{\"standoff\":15},\"zerolinecolor\":\"white\",\"automargin\":true,\"zerolinewidth\":2},\"yaxis\":{\"gridcolor\":\"white\",\"linecolor\":\"white\",\"ticks\":\"\",\"title\":{\"standoff\":15},\"zerolinecolor\":\"white\",\"automargin\":true,\"zerolinewidth\":2},\"scene\":{\"xaxis\":{\"backgroundcolor\":\"#E5ECF6\",\"gridcolor\":\"white\",\"linecolor\":\"white\",\"showbackground\":true,\"ticks\":\"\",\"zerolinecolor\":\"white\",\"gridwidth\":2},\"yaxis\":{\"backgroundcolor\":\"#E5ECF6\",\"gridcolor\":\"white\",\"linecolor\":\"white\",\"showbackground\":true,\"ticks\":\"\",\"zerolinecolor\":\"white\",\"gridwidth\":2},\"zaxis\":{\"backgroundcolor\":\"#E5ECF6\",\"gridcolor\":\"white\",\"linecolor\":\"white\",\"showbackground\":true,\"ticks\":\"\",\"zerolinecolor\":\"white\",\"gridwidth\":2}},\"shapedefaults\":{\"line\":{\"color\":\"#2a3f5f\"}},\"annotationdefaults\":{\"arrowcolor\":\"#2a3f5f\",\"arrowhead\":0,\"arrowwidth\":1},\"geo\":{\"bgcolor\":\"white\",\"landcolor\":\"#E5ECF6\",\"subunitcolor\":\"white\",\"showland\":true,\"showlakes\":true,\"lakecolor\":\"white\"},\"title\":{\"x\":0.05},\"mapbox\":{\"style\":\"light\"}}},\"geo\":{\"domain\":{\"x\":[0.0,1.0],\"y\":[0.0,1.0]},\"center\":{},\"projection\":{\"type\":\"robinson\"},\"showcountries\":true},\"legend\":{\"tracegroupgap\":0},\"title\":{\"text\":\"Mad Cow and Zika headlines globally\"}},                        {\"responsive\": true}                    ).then(function(){\n",
       "                            \n",
       "var gd = document.getElementById('5a31f680-39fb-4c01-a65a-423346d68ba3');\n",
       "var x = new MutationObserver(function (mutations, observer) {{\n",
       "        var display = window.getComputedStyle(gd).display;\n",
       "        if (!display || display === 'none') {{\n",
       "            console.log([gd, 'removed!']);\n",
       "            Plotly.purge(gd);\n",
       "            observer.disconnect();\n",
       "        }}\n",
       "}});\n",
       "\n",
       "// Listen for the removal of the full notebook cells\n",
       "var notebookContainer = gd.closest('#notebook-container');\n",
       "if (notebookContainer) {{\n",
       "    x.observe(notebookContainer, {childList: true});\n",
       "}}\n",
       "\n",
       "// Listen for the clearing of the current output cell\n",
       "var outputEl = gd.closest('.output');\n",
       "if (outputEl) {{\n",
       "    x.observe(outputEl, {childList: true});\n",
       "}}\n",
       "\n",
       "                        })                };                });            </script>        </div>"
      ]
     },
     "metadata": {},
     "output_type": "display_data"
    }
   ],
   "source": [
    "final_df = pd.concat([world_df, usa_df])\n",
    "final_centers = np.concatenate([world_centers, usa_centers])\n",
    "plotdf(final_df, final_centers, \"Mad Cow and Zika headlines globally\", \"robinson\", True)"
   ]
  },
  {
   "cell_type": "code",
   "execution_count": null,
   "id": "c7a120e5",
   "metadata": {},
   "outputs": [],
   "source": []
  }
 ],
 "metadata": {
  "kernelspec": {
   "display_name": "Python 3 (ipykernel)",
   "language": "python",
   "name": "python3"
  },
  "language_info": {
   "codemirror_mode": {
    "name": "ipython",
    "version": 3
   },
   "file_extension": ".py",
   "mimetype": "text/x-python",
   "name": "python",
   "nbconvert_exporter": "python",
   "pygments_lexer": "ipython3",
   "version": "3.7.12"
  }
 },
 "nbformat": 4,
 "nbformat_minor": 5
}
